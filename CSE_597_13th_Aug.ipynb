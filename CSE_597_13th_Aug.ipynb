{
  "cells": [
    {
      "cell_type": "markdown",
      "metadata": {
        "id": "zTobbokyhRva"
      },
      "source": [
        "# STEP #0: IMPORT LIBRARY"
      ]
    },
    {
      "cell_type": "code",
      "execution_count": null,
      "metadata": {
        "id": "yyg8chjV8hMP"
      },
      "outputs": [],
      "source": [
        "import warnings; \n",
        "warnings.simplefilter('ignore')"
      ]
    },
    {
      "cell_type": "code",
      "execution_count": null,
      "metadata": {
        "id": "Etws1tDUgenm"
      },
      "outputs": [],
      "source": [
        "import pandas as pd\n",
        "import numpy as np\n",
        "import matplotlib.pyplot as plt\n",
        "%matplotlib inline\n",
        "import seaborn as sns\n",
        "import string, re\n",
        "from nltk.stem.wordnet import WordNetLemmatizer"
      ]
    },
    {
      "cell_type": "markdown",
      "metadata": {
        "id": "89RD3EainzvT"
      },
      "source": [
        "#STEP #1: IMPORT DATASET"
      ]
    },
    {
      "cell_type": "code",
      "execution_count": null,
      "metadata": {
        "id": "K6PAwPzFH3v7"
      },
      "outputs": [],
      "source": [
        "dataset = pd.read_excel('sample.xlsx')"
      ]
    },
    {
      "cell_type": "code",
      "execution_count": null,
      "metadata": {
        "colab": {
          "base_uri": "https://localhost:8080/",
          "height": 756
        },
        "id": "11w6pz_VH56n",
        "outputId": "ad75efc5-13c3-4e59-9971-783baadfec76"
      },
      "outputs": [
        {
          "output_type": "execute_result",
          "data": {
            "text/plain": [
              "   Number        User Name   Sex Relationship status Occupation    Age  \\\n",
              "0       1         Md Tarek  Male             Married   Business  30-35   \n",
              "1       2        TR Raihan  Male              Single    Student  21-25   \n",
              "2       3  Maharaj Chy Oni  Male              Single    Student  21-25   \n",
              "3       4       Arif Ullah  Male              Single    Student  25-30   \n",
              "4       5    Mirza Safayat  Male              Single    Student  25-30   \n",
              "\n",
              "                            User Description / About About in Bangla  \\\n",
              "0                              I am an handsome boy.             NaN   \n",
              "1  Be Careful What you Tell People. A Friend Toda...             NaN   \n",
              "2  1 index ☝The roar of 1 thunder 🗣 1 red green f...             NaN   \n",
              "3  To whom personal rights arise, Can't tolerate ...             NaN   \n",
              "4                                                NaN             NaN   \n",
              "\n",
              "  Location(Division) Time Acount Was Created  No. Of Friends Followers  \\\n",
              "0         Chattogram                 4/09/19           874.0       NaN   \n",
              "1         Chattogram                     NaN             NaN        37   \n",
              "2         Chattogram                     NaN             NaN       NaN   \n",
              "3         Chattogram                     NaN             NaN       368   \n",
              "4         Chattogram                     NaN             NaN       NaN   \n",
              "\n",
              "  Date of Post Time of Post  Label  \\\n",
              "0   2022-10-05     0.691667      1   \n",
              "1   2022-06-07     0.419444      1   \n",
              "2   2022-06-30     0.107639      1   \n",
              "3   2022-06-30     0.657639      1   \n",
              "4   2022-07-13        0.125      1   \n",
              "\n",
              "                                                Post  \\\n",
              "0  Sacrifice without father is very sad. Remember...   \n",
              "1                  Feeling unbearable is terrible 😅👈   \n",
              "2  ⭕ In these rainy days, Let us be a little more...   \n",
              "3  Sky why are you cloudy, Who told you? Have you...   \n",
              "4                                 I'm very depressed   \n",
              "\n",
              "                                                Text  \n",
              "0  পিতা ছাড়া আত্মত্যাগ বড়ই দুঃখের। বারবার শুধু ...  \n",
              "1                            অসহ্য অনুভূতি ভয়ানক 😅👈  \n",
              "2  এই বৃষ্টির দিনে, আসুন আমরা রাস্তায় হাঁটার সময...  \n",
              "3  আকাশ তুমি মেঘলা কেন, তোমাকে কে বলেছে? আজ রোদের...  \n",
              "4                                     আমি খুব বিষণ্ণ  "
            ],
            "text/html": [
              "\n",
              "  <div id=\"df-b394d289-32e7-44f3-8fcb-cc8ff7ec2b81\">\n",
              "    <div class=\"colab-df-container\">\n",
              "      <div>\n",
              "<style scoped>\n",
              "    .dataframe tbody tr th:only-of-type {\n",
              "        vertical-align: middle;\n",
              "    }\n",
              "\n",
              "    .dataframe tbody tr th {\n",
              "        vertical-align: top;\n",
              "    }\n",
              "\n",
              "    .dataframe thead th {\n",
              "        text-align: right;\n",
              "    }\n",
              "</style>\n",
              "<table border=\"1\" class=\"dataframe\">\n",
              "  <thead>\n",
              "    <tr style=\"text-align: right;\">\n",
              "      <th></th>\n",
              "      <th>Number</th>\n",
              "      <th>User Name</th>\n",
              "      <th>Sex</th>\n",
              "      <th>Relationship status</th>\n",
              "      <th>Occupation</th>\n",
              "      <th>Age</th>\n",
              "      <th>User Description / About</th>\n",
              "      <th>About in Bangla</th>\n",
              "      <th>Location(Division)</th>\n",
              "      <th>Time Acount Was Created</th>\n",
              "      <th>No. Of Friends</th>\n",
              "      <th>Followers</th>\n",
              "      <th>Date of Post</th>\n",
              "      <th>Time of Post</th>\n",
              "      <th>Label</th>\n",
              "      <th>Post</th>\n",
              "      <th>Text</th>\n",
              "    </tr>\n",
              "  </thead>\n",
              "  <tbody>\n",
              "    <tr>\n",
              "      <th>0</th>\n",
              "      <td>1</td>\n",
              "      <td>Md Tarek</td>\n",
              "      <td>Male</td>\n",
              "      <td>Married</td>\n",
              "      <td>Business</td>\n",
              "      <td>30-35</td>\n",
              "      <td>I am an handsome boy.</td>\n",
              "      <td>NaN</td>\n",
              "      <td>Chattogram</td>\n",
              "      <td>4/09/19</td>\n",
              "      <td>874.0</td>\n",
              "      <td>NaN</td>\n",
              "      <td>2022-10-05</td>\n",
              "      <td>0.691667</td>\n",
              "      <td>1</td>\n",
              "      <td>Sacrifice without father is very sad. Remember...</td>\n",
              "      <td>পিতা ছাড়া আত্মত্যাগ বড়ই দুঃখের। বারবার শুধু ...</td>\n",
              "    </tr>\n",
              "    <tr>\n",
              "      <th>1</th>\n",
              "      <td>2</td>\n",
              "      <td>TR Raihan</td>\n",
              "      <td>Male</td>\n",
              "      <td>Single</td>\n",
              "      <td>Student</td>\n",
              "      <td>21-25</td>\n",
              "      <td>Be Careful What you Tell People. A Friend Toda...</td>\n",
              "      <td>NaN</td>\n",
              "      <td>Chattogram</td>\n",
              "      <td>NaN</td>\n",
              "      <td>NaN</td>\n",
              "      <td>37</td>\n",
              "      <td>2022-06-07</td>\n",
              "      <td>0.419444</td>\n",
              "      <td>1</td>\n",
              "      <td>Feeling unbearable is terrible 😅👈</td>\n",
              "      <td>অসহ্য অনুভূতি ভয়ানক 😅👈</td>\n",
              "    </tr>\n",
              "    <tr>\n",
              "      <th>2</th>\n",
              "      <td>3</td>\n",
              "      <td>Maharaj Chy Oni</td>\n",
              "      <td>Male</td>\n",
              "      <td>Single</td>\n",
              "      <td>Student</td>\n",
              "      <td>21-25</td>\n",
              "      <td>1 index ☝The roar of 1 thunder 🗣 1 red green f...</td>\n",
              "      <td>NaN</td>\n",
              "      <td>Chattogram</td>\n",
              "      <td>NaN</td>\n",
              "      <td>NaN</td>\n",
              "      <td>NaN</td>\n",
              "      <td>2022-06-30</td>\n",
              "      <td>0.107639</td>\n",
              "      <td>1</td>\n",
              "      <td>⭕ In these rainy days, Let us be a little more...</td>\n",
              "      <td>এই বৃষ্টির দিনে, আসুন আমরা রাস্তায় হাঁটার সময...</td>\n",
              "    </tr>\n",
              "    <tr>\n",
              "      <th>3</th>\n",
              "      <td>4</td>\n",
              "      <td>Arif Ullah</td>\n",
              "      <td>Male</td>\n",
              "      <td>Single</td>\n",
              "      <td>Student</td>\n",
              "      <td>25-30</td>\n",
              "      <td>To whom personal rights arise, Can't tolerate ...</td>\n",
              "      <td>NaN</td>\n",
              "      <td>Chattogram</td>\n",
              "      <td>NaN</td>\n",
              "      <td>NaN</td>\n",
              "      <td>368</td>\n",
              "      <td>2022-06-30</td>\n",
              "      <td>0.657639</td>\n",
              "      <td>1</td>\n",
              "      <td>Sky why are you cloudy, Who told you? Have you...</td>\n",
              "      <td>আকাশ তুমি মেঘলা কেন, তোমাকে কে বলেছে? আজ রোদের...</td>\n",
              "    </tr>\n",
              "    <tr>\n",
              "      <th>4</th>\n",
              "      <td>5</td>\n",
              "      <td>Mirza Safayat</td>\n",
              "      <td>Male</td>\n",
              "      <td>Single</td>\n",
              "      <td>Student</td>\n",
              "      <td>25-30</td>\n",
              "      <td>NaN</td>\n",
              "      <td>NaN</td>\n",
              "      <td>Chattogram</td>\n",
              "      <td>NaN</td>\n",
              "      <td>NaN</td>\n",
              "      <td>NaN</td>\n",
              "      <td>2022-07-13</td>\n",
              "      <td>0.125</td>\n",
              "      <td>1</td>\n",
              "      <td>I'm very depressed</td>\n",
              "      <td>আমি খুব বিষণ্ণ</td>\n",
              "    </tr>\n",
              "  </tbody>\n",
              "</table>\n",
              "</div>\n",
              "      <button class=\"colab-df-convert\" onclick=\"convertToInteractive('df-b394d289-32e7-44f3-8fcb-cc8ff7ec2b81')\"\n",
              "              title=\"Convert this dataframe to an interactive table.\"\n",
              "              style=\"display:none;\">\n",
              "        \n",
              "  <svg xmlns=\"http://www.w3.org/2000/svg\" height=\"24px\"viewBox=\"0 0 24 24\"\n",
              "       width=\"24px\">\n",
              "    <path d=\"M0 0h24v24H0V0z\" fill=\"none\"/>\n",
              "    <path d=\"M18.56 5.44l.94 2.06.94-2.06 2.06-.94-2.06-.94-.94-2.06-.94 2.06-2.06.94zm-11 1L8.5 8.5l.94-2.06 2.06-.94-2.06-.94L8.5 2.5l-.94 2.06-2.06.94zm10 10l.94 2.06.94-2.06 2.06-.94-2.06-.94-.94-2.06-.94 2.06-2.06.94z\"/><path d=\"M17.41 7.96l-1.37-1.37c-.4-.4-.92-.59-1.43-.59-.52 0-1.04.2-1.43.59L10.3 9.45l-7.72 7.72c-.78.78-.78 2.05 0 2.83L4 21.41c.39.39.9.59 1.41.59.51 0 1.02-.2 1.41-.59l7.78-7.78 2.81-2.81c.8-.78.8-2.07 0-2.86zM5.41 20L4 18.59l7.72-7.72 1.47 1.35L5.41 20z\"/>\n",
              "  </svg>\n",
              "      </button>\n",
              "      \n",
              "  <style>\n",
              "    .colab-df-container {\n",
              "      display:flex;\n",
              "      flex-wrap:wrap;\n",
              "      gap: 12px;\n",
              "    }\n",
              "\n",
              "    .colab-df-convert {\n",
              "      background-color: #E8F0FE;\n",
              "      border: none;\n",
              "      border-radius: 50%;\n",
              "      cursor: pointer;\n",
              "      display: none;\n",
              "      fill: #1967D2;\n",
              "      height: 32px;\n",
              "      padding: 0 0 0 0;\n",
              "      width: 32px;\n",
              "    }\n",
              "\n",
              "    .colab-df-convert:hover {\n",
              "      background-color: #E2EBFA;\n",
              "      box-shadow: 0px 1px 2px rgba(60, 64, 67, 0.3), 0px 1px 3px 1px rgba(60, 64, 67, 0.15);\n",
              "      fill: #174EA6;\n",
              "    }\n",
              "\n",
              "    [theme=dark] .colab-df-convert {\n",
              "      background-color: #3B4455;\n",
              "      fill: #D2E3FC;\n",
              "    }\n",
              "\n",
              "    [theme=dark] .colab-df-convert:hover {\n",
              "      background-color: #434B5C;\n",
              "      box-shadow: 0px 1px 3px 1px rgba(0, 0, 0, 0.15);\n",
              "      filter: drop-shadow(0px 1px 2px rgba(0, 0, 0, 0.3));\n",
              "      fill: #FFFFFF;\n",
              "    }\n",
              "  </style>\n",
              "\n",
              "      <script>\n",
              "        const buttonEl =\n",
              "          document.querySelector('#df-b394d289-32e7-44f3-8fcb-cc8ff7ec2b81 button.colab-df-convert');\n",
              "        buttonEl.style.display =\n",
              "          google.colab.kernel.accessAllowed ? 'block' : 'none';\n",
              "\n",
              "        async function convertToInteractive(key) {\n",
              "          const element = document.querySelector('#df-b394d289-32e7-44f3-8fcb-cc8ff7ec2b81');\n",
              "          const dataTable =\n",
              "            await google.colab.kernel.invokeFunction('convertToInteractive',\n",
              "                                                     [key], {});\n",
              "          if (!dataTable) return;\n",
              "\n",
              "          const docLinkHtml = 'Like what you see? Visit the ' +\n",
              "            '<a target=\"_blank\" href=https://colab.research.google.com/notebooks/data_table.ipynb>data table notebook</a>'\n",
              "            + ' to learn more about interactive tables.';\n",
              "          element.innerHTML = '';\n",
              "          dataTable['output_type'] = 'display_data';\n",
              "          await google.colab.output.renderOutput(dataTable, element);\n",
              "          const docLink = document.createElement('div');\n",
              "          docLink.innerHTML = docLinkHtml;\n",
              "          element.appendChild(docLink);\n",
              "        }\n",
              "      </script>\n",
              "    </div>\n",
              "  </div>\n",
              "  "
            ]
          },
          "metadata": {},
          "execution_count": 393
        }
      ],
      "source": [
        "dataset.head()"
      ]
    },
    {
      "cell_type": "markdown",
      "metadata": {
        "id": "2z0H3cuMpJlx"
      },
      "source": [
        "# STEP #2: VISUALIZE DATASET"
      ]
    },
    {
      "cell_type": "code",
      "execution_count": null,
      "metadata": {
        "colab": {
          "base_uri": "https://localhost:8080/"
        },
        "id": "9KIXeZj-IA1x",
        "outputId": "0c723ead-b6a2-4eb8-8430-fdc1fc774879"
      },
      "outputs": [
        {
          "output_type": "stream",
          "name": "stdout",
          "text": [
            "<class 'pandas.core.frame.DataFrame'>\n",
            "RangeIndex: 290 entries, 0 to 289\n",
            "Data columns (total 17 columns):\n",
            " #   Column                    Non-Null Count  Dtype         \n",
            "---  ------                    --------------  -----         \n",
            " 0   Number                    290 non-null    int64         \n",
            " 1   User Name                 259 non-null    object        \n",
            " 2   Sex                       288 non-null    object        \n",
            " 3   Relationship status       256 non-null    object        \n",
            " 4   Occupation                206 non-null    object        \n",
            " 5   Age                       78 non-null     object        \n",
            " 6   User Description / About  239 non-null    object        \n",
            " 7   About in Bangla           225 non-null    object        \n",
            " 8   Location(Division)        288 non-null    object        \n",
            " 9   Time Acount Was Created   140 non-null    object        \n",
            " 10  No. Of Friends            78 non-null     float64       \n",
            " 11  Followers                 171 non-null    object        \n",
            " 12  Date of Post              191 non-null    datetime64[ns]\n",
            " 13  Time of Post              91 non-null     object        \n",
            " 14  Label                     290 non-null    int64         \n",
            " 15  Post                      290 non-null    object        \n",
            " 16  Text                      199 non-null    object        \n",
            "dtypes: datetime64[ns](1), float64(1), int64(2), object(13)\n",
            "memory usage: 38.6+ KB\n"
          ]
        }
      ],
      "source": [
        "dataset.info()"
      ]
    },
    {
      "cell_type": "code",
      "execution_count": null,
      "metadata": {
        "colab": {
          "base_uri": "https://localhost:8080/"
        },
        "id": "YAJZE4XKIFWA",
        "outputId": "bdbcc2db-7a98-42ce-e815-6f1dc1f5ea3f"
      },
      "outputs": [
        {
          "output_type": "execute_result",
          "data": {
            "text/plain": [
              "(290, 17)"
            ]
          },
          "metadata": {},
          "execution_count": 395
        }
      ],
      "source": [
        "dataset.shape"
      ]
    },
    {
      "cell_type": "code",
      "execution_count": null,
      "metadata": {
        "colab": {
          "base_uri": "https://localhost:8080/"
        },
        "id": "z65ptDYkIRx4",
        "outputId": "2fbc4b7e-4cbf-45b1-b9fb-80c285a66c24"
      },
      "outputs": [
        {
          "output_type": "execute_result",
          "data": {
            "text/plain": [
              "Number                               int64\n",
              "User Name                           object\n",
              "Sex                                 object\n",
              "Relationship status                 object\n",
              "Occupation                          object\n",
              "Age                                 object\n",
              "User Description / About            object\n",
              "About in Bangla                     object\n",
              "Location(Division)                  object\n",
              "Time Acount Was Created             object\n",
              "No. Of Friends                     float64\n",
              "Followers                           object\n",
              "Date of Post                datetime64[ns]\n",
              "Time of Post                        object\n",
              "Label                                int64\n",
              "Post                                object\n",
              "Text                                object\n",
              "dtype: object"
            ]
          },
          "metadata": {},
          "execution_count": 396
        }
      ],
      "source": [
        "dataset.dtypes"
      ]
    },
    {
      "cell_type": "code",
      "execution_count": null,
      "metadata": {
        "colab": {
          "base_uri": "https://localhost:8080/",
          "height": 756
        },
        "id": "MWtSleKinGN7",
        "outputId": "f73cb4e0-7f04-416b-b53b-54eeed9e9a16"
      },
      "outputs": [
        {
          "output_type": "execute_result",
          "data": {
            "text/plain": [
              "   Number        User Name   Sex Relationship status Occupation    Age  \\\n",
              "0       1         Md Tarek  Male             Married   Business  30-35   \n",
              "1       2        TR Raihan  Male              Single    Student  21-25   \n",
              "2       3  Maharaj Chy Oni  Male              Single    Student  21-25   \n",
              "3       4       Arif Ullah  Male              Single    Student  25-30   \n",
              "4       5    Mirza Safayat  Male              Single    Student  25-30   \n",
              "\n",
              "                            User Description / About About in Bangla  \\\n",
              "0                              I am an handsome boy.             NaN   \n",
              "1  Be Careful What you Tell People. A Friend Toda...             NaN   \n",
              "2  1 index ☝The roar of 1 thunder 🗣 1 red green f...             NaN   \n",
              "3  To whom personal rights arise, Can't tolerate ...             NaN   \n",
              "4                                                NaN             NaN   \n",
              "\n",
              "  Location(Division) Time Acount Was Created  No. Of Friends Followers  \\\n",
              "0         Chattogram                 4/09/19           874.0       NaN   \n",
              "1         Chattogram                     NaN             NaN        37   \n",
              "2         Chattogram                     NaN             NaN       NaN   \n",
              "3         Chattogram                     NaN             NaN       368   \n",
              "4         Chattogram                     NaN             NaN       NaN   \n",
              "\n",
              "  Date of Post Time of Post  Label  \\\n",
              "0   2022-10-05     0.691667      1   \n",
              "1   2022-06-07     0.419444      1   \n",
              "2   2022-06-30     0.107639      1   \n",
              "3   2022-06-30     0.657639      1   \n",
              "4   2022-07-13        0.125      1   \n",
              "\n",
              "                                                Post  \\\n",
              "0  Sacrifice without father is very sad. Remember...   \n",
              "1                  Feeling unbearable is terrible 😅👈   \n",
              "2  ⭕ In these rainy days, Let us be a little more...   \n",
              "3  Sky why are you cloudy, Who told you? Have you...   \n",
              "4                                 I'm very depressed   \n",
              "\n",
              "                                                Text  \n",
              "0  পিতা ছাড়া আত্মত্যাগ বড়ই দুঃখের। বারবার শুধু ...  \n",
              "1                            অসহ্য অনুভূতি ভয়ানক 😅👈  \n",
              "2  এই বৃষ্টির দিনে, আসুন আমরা রাস্তায় হাঁটার সময...  \n",
              "3  আকাশ তুমি মেঘলা কেন, তোমাকে কে বলেছে? আজ রোদের...  \n",
              "4                                     আমি খুব বিষণ্ণ  "
            ],
            "text/html": [
              "\n",
              "  <div id=\"df-e4f0c53e-f048-415e-a61d-09654d8379c9\">\n",
              "    <div class=\"colab-df-container\">\n",
              "      <div>\n",
              "<style scoped>\n",
              "    .dataframe tbody tr th:only-of-type {\n",
              "        vertical-align: middle;\n",
              "    }\n",
              "\n",
              "    .dataframe tbody tr th {\n",
              "        vertical-align: top;\n",
              "    }\n",
              "\n",
              "    .dataframe thead th {\n",
              "        text-align: right;\n",
              "    }\n",
              "</style>\n",
              "<table border=\"1\" class=\"dataframe\">\n",
              "  <thead>\n",
              "    <tr style=\"text-align: right;\">\n",
              "      <th></th>\n",
              "      <th>Number</th>\n",
              "      <th>User Name</th>\n",
              "      <th>Sex</th>\n",
              "      <th>Relationship status</th>\n",
              "      <th>Occupation</th>\n",
              "      <th>Age</th>\n",
              "      <th>User Description / About</th>\n",
              "      <th>About in Bangla</th>\n",
              "      <th>Location(Division)</th>\n",
              "      <th>Time Acount Was Created</th>\n",
              "      <th>No. Of Friends</th>\n",
              "      <th>Followers</th>\n",
              "      <th>Date of Post</th>\n",
              "      <th>Time of Post</th>\n",
              "      <th>Label</th>\n",
              "      <th>Post</th>\n",
              "      <th>Text</th>\n",
              "    </tr>\n",
              "  </thead>\n",
              "  <tbody>\n",
              "    <tr>\n",
              "      <th>0</th>\n",
              "      <td>1</td>\n",
              "      <td>Md Tarek</td>\n",
              "      <td>Male</td>\n",
              "      <td>Married</td>\n",
              "      <td>Business</td>\n",
              "      <td>30-35</td>\n",
              "      <td>I am an handsome boy.</td>\n",
              "      <td>NaN</td>\n",
              "      <td>Chattogram</td>\n",
              "      <td>4/09/19</td>\n",
              "      <td>874.0</td>\n",
              "      <td>NaN</td>\n",
              "      <td>2022-10-05</td>\n",
              "      <td>0.691667</td>\n",
              "      <td>1</td>\n",
              "      <td>Sacrifice without father is very sad. Remember...</td>\n",
              "      <td>পিতা ছাড়া আত্মত্যাগ বড়ই দুঃখের। বারবার শুধু ...</td>\n",
              "    </tr>\n",
              "    <tr>\n",
              "      <th>1</th>\n",
              "      <td>2</td>\n",
              "      <td>TR Raihan</td>\n",
              "      <td>Male</td>\n",
              "      <td>Single</td>\n",
              "      <td>Student</td>\n",
              "      <td>21-25</td>\n",
              "      <td>Be Careful What you Tell People. A Friend Toda...</td>\n",
              "      <td>NaN</td>\n",
              "      <td>Chattogram</td>\n",
              "      <td>NaN</td>\n",
              "      <td>NaN</td>\n",
              "      <td>37</td>\n",
              "      <td>2022-06-07</td>\n",
              "      <td>0.419444</td>\n",
              "      <td>1</td>\n",
              "      <td>Feeling unbearable is terrible 😅👈</td>\n",
              "      <td>অসহ্য অনুভূতি ভয়ানক 😅👈</td>\n",
              "    </tr>\n",
              "    <tr>\n",
              "      <th>2</th>\n",
              "      <td>3</td>\n",
              "      <td>Maharaj Chy Oni</td>\n",
              "      <td>Male</td>\n",
              "      <td>Single</td>\n",
              "      <td>Student</td>\n",
              "      <td>21-25</td>\n",
              "      <td>1 index ☝The roar of 1 thunder 🗣 1 red green f...</td>\n",
              "      <td>NaN</td>\n",
              "      <td>Chattogram</td>\n",
              "      <td>NaN</td>\n",
              "      <td>NaN</td>\n",
              "      <td>NaN</td>\n",
              "      <td>2022-06-30</td>\n",
              "      <td>0.107639</td>\n",
              "      <td>1</td>\n",
              "      <td>⭕ In these rainy days, Let us be a little more...</td>\n",
              "      <td>এই বৃষ্টির দিনে, আসুন আমরা রাস্তায় হাঁটার সময...</td>\n",
              "    </tr>\n",
              "    <tr>\n",
              "      <th>3</th>\n",
              "      <td>4</td>\n",
              "      <td>Arif Ullah</td>\n",
              "      <td>Male</td>\n",
              "      <td>Single</td>\n",
              "      <td>Student</td>\n",
              "      <td>25-30</td>\n",
              "      <td>To whom personal rights arise, Can't tolerate ...</td>\n",
              "      <td>NaN</td>\n",
              "      <td>Chattogram</td>\n",
              "      <td>NaN</td>\n",
              "      <td>NaN</td>\n",
              "      <td>368</td>\n",
              "      <td>2022-06-30</td>\n",
              "      <td>0.657639</td>\n",
              "      <td>1</td>\n",
              "      <td>Sky why are you cloudy, Who told you? Have you...</td>\n",
              "      <td>আকাশ তুমি মেঘলা কেন, তোমাকে কে বলেছে? আজ রোদের...</td>\n",
              "    </tr>\n",
              "    <tr>\n",
              "      <th>4</th>\n",
              "      <td>5</td>\n",
              "      <td>Mirza Safayat</td>\n",
              "      <td>Male</td>\n",
              "      <td>Single</td>\n",
              "      <td>Student</td>\n",
              "      <td>25-30</td>\n",
              "      <td>NaN</td>\n",
              "      <td>NaN</td>\n",
              "      <td>Chattogram</td>\n",
              "      <td>NaN</td>\n",
              "      <td>NaN</td>\n",
              "      <td>NaN</td>\n",
              "      <td>2022-07-13</td>\n",
              "      <td>0.125</td>\n",
              "      <td>1</td>\n",
              "      <td>I'm very depressed</td>\n",
              "      <td>আমি খুব বিষণ্ণ</td>\n",
              "    </tr>\n",
              "  </tbody>\n",
              "</table>\n",
              "</div>\n",
              "      <button class=\"colab-df-convert\" onclick=\"convertToInteractive('df-e4f0c53e-f048-415e-a61d-09654d8379c9')\"\n",
              "              title=\"Convert this dataframe to an interactive table.\"\n",
              "              style=\"display:none;\">\n",
              "        \n",
              "  <svg xmlns=\"http://www.w3.org/2000/svg\" height=\"24px\"viewBox=\"0 0 24 24\"\n",
              "       width=\"24px\">\n",
              "    <path d=\"M0 0h24v24H0V0z\" fill=\"none\"/>\n",
              "    <path d=\"M18.56 5.44l.94 2.06.94-2.06 2.06-.94-2.06-.94-.94-2.06-.94 2.06-2.06.94zm-11 1L8.5 8.5l.94-2.06 2.06-.94-2.06-.94L8.5 2.5l-.94 2.06-2.06.94zm10 10l.94 2.06.94-2.06 2.06-.94-2.06-.94-.94-2.06-.94 2.06-2.06.94z\"/><path d=\"M17.41 7.96l-1.37-1.37c-.4-.4-.92-.59-1.43-.59-.52 0-1.04.2-1.43.59L10.3 9.45l-7.72 7.72c-.78.78-.78 2.05 0 2.83L4 21.41c.39.39.9.59 1.41.59.51 0 1.02-.2 1.41-.59l7.78-7.78 2.81-2.81c.8-.78.8-2.07 0-2.86zM5.41 20L4 18.59l7.72-7.72 1.47 1.35L5.41 20z\"/>\n",
              "  </svg>\n",
              "      </button>\n",
              "      \n",
              "  <style>\n",
              "    .colab-df-container {\n",
              "      display:flex;\n",
              "      flex-wrap:wrap;\n",
              "      gap: 12px;\n",
              "    }\n",
              "\n",
              "    .colab-df-convert {\n",
              "      background-color: #E8F0FE;\n",
              "      border: none;\n",
              "      border-radius: 50%;\n",
              "      cursor: pointer;\n",
              "      display: none;\n",
              "      fill: #1967D2;\n",
              "      height: 32px;\n",
              "      padding: 0 0 0 0;\n",
              "      width: 32px;\n",
              "    }\n",
              "\n",
              "    .colab-df-convert:hover {\n",
              "      background-color: #E2EBFA;\n",
              "      box-shadow: 0px 1px 2px rgba(60, 64, 67, 0.3), 0px 1px 3px 1px rgba(60, 64, 67, 0.15);\n",
              "      fill: #174EA6;\n",
              "    }\n",
              "\n",
              "    [theme=dark] .colab-df-convert {\n",
              "      background-color: #3B4455;\n",
              "      fill: #D2E3FC;\n",
              "    }\n",
              "\n",
              "    [theme=dark] .colab-df-convert:hover {\n",
              "      background-color: #434B5C;\n",
              "      box-shadow: 0px 1px 3px 1px rgba(0, 0, 0, 0.15);\n",
              "      filter: drop-shadow(0px 1px 2px rgba(0, 0, 0, 0.3));\n",
              "      fill: #FFFFFF;\n",
              "    }\n",
              "  </style>\n",
              "\n",
              "      <script>\n",
              "        const buttonEl =\n",
              "          document.querySelector('#df-e4f0c53e-f048-415e-a61d-09654d8379c9 button.colab-df-convert');\n",
              "        buttonEl.style.display =\n",
              "          google.colab.kernel.accessAllowed ? 'block' : 'none';\n",
              "\n",
              "        async function convertToInteractive(key) {\n",
              "          const element = document.querySelector('#df-e4f0c53e-f048-415e-a61d-09654d8379c9');\n",
              "          const dataTable =\n",
              "            await google.colab.kernel.invokeFunction('convertToInteractive',\n",
              "                                                     [key], {});\n",
              "          if (!dataTable) return;\n",
              "\n",
              "          const docLinkHtml = 'Like what you see? Visit the ' +\n",
              "            '<a target=\"_blank\" href=https://colab.research.google.com/notebooks/data_table.ipynb>data table notebook</a>'\n",
              "            + ' to learn more about interactive tables.';\n",
              "          element.innerHTML = '';\n",
              "          dataTable['output_type'] = 'display_data';\n",
              "          await google.colab.output.renderOutput(dataTable, element);\n",
              "          const docLink = document.createElement('div');\n",
              "          docLink.innerHTML = docLinkHtml;\n",
              "          element.appendChild(docLink);\n",
              "        }\n",
              "      </script>\n",
              "    </div>\n",
              "  </div>\n",
              "  "
            ]
          },
          "metadata": {},
          "execution_count": 397
        }
      ],
      "source": [
        "dataset.head(5)"
      ]
    },
    {
      "cell_type": "code",
      "execution_count": null,
      "metadata": {
        "colab": {
          "base_uri": "https://localhost:8080/",
          "height": 582
        },
        "id": "CaXAIr-NnR4_",
        "outputId": "25ed03bc-738b-4778-b4da-82253a6e4c5f"
      },
      "outputs": [
        {
          "output_type": "execute_result",
          "data": {
            "text/plain": [
              "     Number            User Name   Sex Relationship status Occupation  Age  \\\n",
              "285     288  Muhsin Hossain Saon  Male              Single    Student  NaN   \n",
              "286     289  Muhsin Hossain Saon  Male              Single    Student  NaN   \n",
              "287     290  Muhsin Hossain Saon  Male              Single    Student  NaN   \n",
              "288     291  Muhsin Hossain Saon  Male              Single    Student  NaN   \n",
              "289     292  Muhsin Hossain Saon  Male              Single    Student  NaN   \n",
              "\n",
              "    User Description / About           About in Bangla Location(Division)  \\\n",
              "285  Mashallah Alhamdulillah  মাশাল্লাহ আলহামদুলিল্লাহ         Chattogram   \n",
              "286  Mashallah Alhamdulillah  মাশাল্লাহ আলহামদুলিল্লাহ         Chattogram   \n",
              "287  Mashallah Alhamdulillah  মাশাল্লাহ আলহামদুলিল্লাহ         Chattogram   \n",
              "288  Mashallah Alhamdulillah  মাশাল্লাহ আলহামদুলিল্লাহ         Chattogram   \n",
              "289  Mashallah Alhamdulillah  মাশাল্লাহ আলহামদুলিল্লাহ         Chattogram   \n",
              "\n",
              "    Time Acount Was Created  No. Of Friends Followers Date of Post  \\\n",
              "285                     NaN             NaN       NaN   2022-06-26   \n",
              "286                     NaN             NaN       NaN   2022-06-19   \n",
              "287                     NaN             NaN       NaN   2022-06-13   \n",
              "288                     NaN             NaN       NaN   2022-06-11   \n",
              "289                     NaN             NaN       NaN   2022-06-04   \n",
              "\n",
              "    Time of Post  Label                                               Post  \\\n",
              "285          NaN      1  The burden of responsibility can be understood...   \n",
              "286          NaN      1  Over time,\\nChange is the mind, change is the ...   \n",
              "287          NaN      1  Dreams will be fulfilled one day,✊\\nThis is al...   \n",
              "288          NaN      1           What's the point of crying after death 🫤   \n",
              "289          NaN      0       On the bank of the river, on the sand banks.   \n",
              "\n",
              "    Text  \n",
              "285  NaN  \n",
              "286  NaN  \n",
              "287  NaN  \n",
              "288  NaN  \n",
              "289  NaN  "
            ],
            "text/html": [
              "\n",
              "  <div id=\"df-4c11a71b-2f37-4491-8a42-390f66bdef08\">\n",
              "    <div class=\"colab-df-container\">\n",
              "      <div>\n",
              "<style scoped>\n",
              "    .dataframe tbody tr th:only-of-type {\n",
              "        vertical-align: middle;\n",
              "    }\n",
              "\n",
              "    .dataframe tbody tr th {\n",
              "        vertical-align: top;\n",
              "    }\n",
              "\n",
              "    .dataframe thead th {\n",
              "        text-align: right;\n",
              "    }\n",
              "</style>\n",
              "<table border=\"1\" class=\"dataframe\">\n",
              "  <thead>\n",
              "    <tr style=\"text-align: right;\">\n",
              "      <th></th>\n",
              "      <th>Number</th>\n",
              "      <th>User Name</th>\n",
              "      <th>Sex</th>\n",
              "      <th>Relationship status</th>\n",
              "      <th>Occupation</th>\n",
              "      <th>Age</th>\n",
              "      <th>User Description / About</th>\n",
              "      <th>About in Bangla</th>\n",
              "      <th>Location(Division)</th>\n",
              "      <th>Time Acount Was Created</th>\n",
              "      <th>No. Of Friends</th>\n",
              "      <th>Followers</th>\n",
              "      <th>Date of Post</th>\n",
              "      <th>Time of Post</th>\n",
              "      <th>Label</th>\n",
              "      <th>Post</th>\n",
              "      <th>Text</th>\n",
              "    </tr>\n",
              "  </thead>\n",
              "  <tbody>\n",
              "    <tr>\n",
              "      <th>285</th>\n",
              "      <td>288</td>\n",
              "      <td>Muhsin Hossain Saon</td>\n",
              "      <td>Male</td>\n",
              "      <td>Single</td>\n",
              "      <td>Student</td>\n",
              "      <td>NaN</td>\n",
              "      <td>Mashallah Alhamdulillah</td>\n",
              "      <td>মাশাল্লাহ আলহামদুলিল্লাহ</td>\n",
              "      <td>Chattogram</td>\n",
              "      <td>NaN</td>\n",
              "      <td>NaN</td>\n",
              "      <td>NaN</td>\n",
              "      <td>2022-06-26</td>\n",
              "      <td>NaN</td>\n",
              "      <td>1</td>\n",
              "      <td>The burden of responsibility can be understood...</td>\n",
              "      <td>NaN</td>\n",
              "    </tr>\n",
              "    <tr>\n",
              "      <th>286</th>\n",
              "      <td>289</td>\n",
              "      <td>Muhsin Hossain Saon</td>\n",
              "      <td>Male</td>\n",
              "      <td>Single</td>\n",
              "      <td>Student</td>\n",
              "      <td>NaN</td>\n",
              "      <td>Mashallah Alhamdulillah</td>\n",
              "      <td>মাশাল্লাহ আলহামদুলিল্লাহ</td>\n",
              "      <td>Chattogram</td>\n",
              "      <td>NaN</td>\n",
              "      <td>NaN</td>\n",
              "      <td>NaN</td>\n",
              "      <td>2022-06-19</td>\n",
              "      <td>NaN</td>\n",
              "      <td>1</td>\n",
              "      <td>Over time,\\nChange is the mind, change is the ...</td>\n",
              "      <td>NaN</td>\n",
              "    </tr>\n",
              "    <tr>\n",
              "      <th>287</th>\n",
              "      <td>290</td>\n",
              "      <td>Muhsin Hossain Saon</td>\n",
              "      <td>Male</td>\n",
              "      <td>Single</td>\n",
              "      <td>Student</td>\n",
              "      <td>NaN</td>\n",
              "      <td>Mashallah Alhamdulillah</td>\n",
              "      <td>মাশাল্লাহ আলহামদুলিল্লাহ</td>\n",
              "      <td>Chattogram</td>\n",
              "      <td>NaN</td>\n",
              "      <td>NaN</td>\n",
              "      <td>NaN</td>\n",
              "      <td>2022-06-13</td>\n",
              "      <td>NaN</td>\n",
              "      <td>1</td>\n",
              "      <td>Dreams will be fulfilled one day,✊\\nThis is al...</td>\n",
              "      <td>NaN</td>\n",
              "    </tr>\n",
              "    <tr>\n",
              "      <th>288</th>\n",
              "      <td>291</td>\n",
              "      <td>Muhsin Hossain Saon</td>\n",
              "      <td>Male</td>\n",
              "      <td>Single</td>\n",
              "      <td>Student</td>\n",
              "      <td>NaN</td>\n",
              "      <td>Mashallah Alhamdulillah</td>\n",
              "      <td>মাশাল্লাহ আলহামদুলিল্লাহ</td>\n",
              "      <td>Chattogram</td>\n",
              "      <td>NaN</td>\n",
              "      <td>NaN</td>\n",
              "      <td>NaN</td>\n",
              "      <td>2022-06-11</td>\n",
              "      <td>NaN</td>\n",
              "      <td>1</td>\n",
              "      <td>What's the point of crying after death 🫤</td>\n",
              "      <td>NaN</td>\n",
              "    </tr>\n",
              "    <tr>\n",
              "      <th>289</th>\n",
              "      <td>292</td>\n",
              "      <td>Muhsin Hossain Saon</td>\n",
              "      <td>Male</td>\n",
              "      <td>Single</td>\n",
              "      <td>Student</td>\n",
              "      <td>NaN</td>\n",
              "      <td>Mashallah Alhamdulillah</td>\n",
              "      <td>মাশাল্লাহ আলহামদুলিল্লাহ</td>\n",
              "      <td>Chattogram</td>\n",
              "      <td>NaN</td>\n",
              "      <td>NaN</td>\n",
              "      <td>NaN</td>\n",
              "      <td>2022-06-04</td>\n",
              "      <td>NaN</td>\n",
              "      <td>0</td>\n",
              "      <td>On the bank of the river, on the sand banks.</td>\n",
              "      <td>NaN</td>\n",
              "    </tr>\n",
              "  </tbody>\n",
              "</table>\n",
              "</div>\n",
              "      <button class=\"colab-df-convert\" onclick=\"convertToInteractive('df-4c11a71b-2f37-4491-8a42-390f66bdef08')\"\n",
              "              title=\"Convert this dataframe to an interactive table.\"\n",
              "              style=\"display:none;\">\n",
              "        \n",
              "  <svg xmlns=\"http://www.w3.org/2000/svg\" height=\"24px\"viewBox=\"0 0 24 24\"\n",
              "       width=\"24px\">\n",
              "    <path d=\"M0 0h24v24H0V0z\" fill=\"none\"/>\n",
              "    <path d=\"M18.56 5.44l.94 2.06.94-2.06 2.06-.94-2.06-.94-.94-2.06-.94 2.06-2.06.94zm-11 1L8.5 8.5l.94-2.06 2.06-.94-2.06-.94L8.5 2.5l-.94 2.06-2.06.94zm10 10l.94 2.06.94-2.06 2.06-.94-2.06-.94-.94-2.06-.94 2.06-2.06.94z\"/><path d=\"M17.41 7.96l-1.37-1.37c-.4-.4-.92-.59-1.43-.59-.52 0-1.04.2-1.43.59L10.3 9.45l-7.72 7.72c-.78.78-.78 2.05 0 2.83L4 21.41c.39.39.9.59 1.41.59.51 0 1.02-.2 1.41-.59l7.78-7.78 2.81-2.81c.8-.78.8-2.07 0-2.86zM5.41 20L4 18.59l7.72-7.72 1.47 1.35L5.41 20z\"/>\n",
              "  </svg>\n",
              "      </button>\n",
              "      \n",
              "  <style>\n",
              "    .colab-df-container {\n",
              "      display:flex;\n",
              "      flex-wrap:wrap;\n",
              "      gap: 12px;\n",
              "    }\n",
              "\n",
              "    .colab-df-convert {\n",
              "      background-color: #E8F0FE;\n",
              "      border: none;\n",
              "      border-radius: 50%;\n",
              "      cursor: pointer;\n",
              "      display: none;\n",
              "      fill: #1967D2;\n",
              "      height: 32px;\n",
              "      padding: 0 0 0 0;\n",
              "      width: 32px;\n",
              "    }\n",
              "\n",
              "    .colab-df-convert:hover {\n",
              "      background-color: #E2EBFA;\n",
              "      box-shadow: 0px 1px 2px rgba(60, 64, 67, 0.3), 0px 1px 3px 1px rgba(60, 64, 67, 0.15);\n",
              "      fill: #174EA6;\n",
              "    }\n",
              "\n",
              "    [theme=dark] .colab-df-convert {\n",
              "      background-color: #3B4455;\n",
              "      fill: #D2E3FC;\n",
              "    }\n",
              "\n",
              "    [theme=dark] .colab-df-convert:hover {\n",
              "      background-color: #434B5C;\n",
              "      box-shadow: 0px 1px 3px 1px rgba(0, 0, 0, 0.15);\n",
              "      filter: drop-shadow(0px 1px 2px rgba(0, 0, 0, 0.3));\n",
              "      fill: #FFFFFF;\n",
              "    }\n",
              "  </style>\n",
              "\n",
              "      <script>\n",
              "        const buttonEl =\n",
              "          document.querySelector('#df-4c11a71b-2f37-4491-8a42-390f66bdef08 button.colab-df-convert');\n",
              "        buttonEl.style.display =\n",
              "          google.colab.kernel.accessAllowed ? 'block' : 'none';\n",
              "\n",
              "        async function convertToInteractive(key) {\n",
              "          const element = document.querySelector('#df-4c11a71b-2f37-4491-8a42-390f66bdef08');\n",
              "          const dataTable =\n",
              "            await google.colab.kernel.invokeFunction('convertToInteractive',\n",
              "                                                     [key], {});\n",
              "          if (!dataTable) return;\n",
              "\n",
              "          const docLinkHtml = 'Like what you see? Visit the ' +\n",
              "            '<a target=\"_blank\" href=https://colab.research.google.com/notebooks/data_table.ipynb>data table notebook</a>'\n",
              "            + ' to learn more about interactive tables.';\n",
              "          element.innerHTML = '';\n",
              "          dataTable['output_type'] = 'display_data';\n",
              "          await google.colab.output.renderOutput(dataTable, element);\n",
              "          const docLink = document.createElement('div');\n",
              "          docLink.innerHTML = docLinkHtml;\n",
              "          element.appendChild(docLink);\n",
              "        }\n",
              "      </script>\n",
              "    </div>\n",
              "  </div>\n",
              "  "
            ]
          },
          "metadata": {},
          "execution_count": 398
        }
      ],
      "source": [
        "dataset.tail(5)"
      ]
    },
    {
      "cell_type": "code",
      "execution_count": null,
      "metadata": {
        "colab": {
          "base_uri": "https://localhost:8080/",
          "height": 300
        },
        "id": "dvEcEO8tngku",
        "outputId": "c3031e90-b99e-497a-c783-7d6510502809"
      },
      "outputs": [
        {
          "output_type": "execute_result",
          "data": {
            "text/plain": [
              "           Number  No. Of Friends       Label\n",
              "count  290.000000       78.000000  290.000000\n",
              "mean   146.368966     5749.551282    0.703448\n",
              "std     84.714165     3773.310396    0.457527\n",
              "min      1.000000      323.000000    0.000000\n",
              "25%     73.250000     3893.000000    0.000000\n",
              "50%    145.500000     3893.000000    1.000000\n",
              "75%    219.750000     9973.250000    1.000000\n",
              "max    292.000000    12000.000000    1.000000"
            ],
            "text/html": [
              "\n",
              "  <div id=\"df-7224d614-e70e-4320-868a-d7df5d7164b3\">\n",
              "    <div class=\"colab-df-container\">\n",
              "      <div>\n",
              "<style scoped>\n",
              "    .dataframe tbody tr th:only-of-type {\n",
              "        vertical-align: middle;\n",
              "    }\n",
              "\n",
              "    .dataframe tbody tr th {\n",
              "        vertical-align: top;\n",
              "    }\n",
              "\n",
              "    .dataframe thead th {\n",
              "        text-align: right;\n",
              "    }\n",
              "</style>\n",
              "<table border=\"1\" class=\"dataframe\">\n",
              "  <thead>\n",
              "    <tr style=\"text-align: right;\">\n",
              "      <th></th>\n",
              "      <th>Number</th>\n",
              "      <th>No. Of Friends</th>\n",
              "      <th>Label</th>\n",
              "    </tr>\n",
              "  </thead>\n",
              "  <tbody>\n",
              "    <tr>\n",
              "      <th>count</th>\n",
              "      <td>290.000000</td>\n",
              "      <td>78.000000</td>\n",
              "      <td>290.000000</td>\n",
              "    </tr>\n",
              "    <tr>\n",
              "      <th>mean</th>\n",
              "      <td>146.368966</td>\n",
              "      <td>5749.551282</td>\n",
              "      <td>0.703448</td>\n",
              "    </tr>\n",
              "    <tr>\n",
              "      <th>std</th>\n",
              "      <td>84.714165</td>\n",
              "      <td>3773.310396</td>\n",
              "      <td>0.457527</td>\n",
              "    </tr>\n",
              "    <tr>\n",
              "      <th>min</th>\n",
              "      <td>1.000000</td>\n",
              "      <td>323.000000</td>\n",
              "      <td>0.000000</td>\n",
              "    </tr>\n",
              "    <tr>\n",
              "      <th>25%</th>\n",
              "      <td>73.250000</td>\n",
              "      <td>3893.000000</td>\n",
              "      <td>0.000000</td>\n",
              "    </tr>\n",
              "    <tr>\n",
              "      <th>50%</th>\n",
              "      <td>145.500000</td>\n",
              "      <td>3893.000000</td>\n",
              "      <td>1.000000</td>\n",
              "    </tr>\n",
              "    <tr>\n",
              "      <th>75%</th>\n",
              "      <td>219.750000</td>\n",
              "      <td>9973.250000</td>\n",
              "      <td>1.000000</td>\n",
              "    </tr>\n",
              "    <tr>\n",
              "      <th>max</th>\n",
              "      <td>292.000000</td>\n",
              "      <td>12000.000000</td>\n",
              "      <td>1.000000</td>\n",
              "    </tr>\n",
              "  </tbody>\n",
              "</table>\n",
              "</div>\n",
              "      <button class=\"colab-df-convert\" onclick=\"convertToInteractive('df-7224d614-e70e-4320-868a-d7df5d7164b3')\"\n",
              "              title=\"Convert this dataframe to an interactive table.\"\n",
              "              style=\"display:none;\">\n",
              "        \n",
              "  <svg xmlns=\"http://www.w3.org/2000/svg\" height=\"24px\"viewBox=\"0 0 24 24\"\n",
              "       width=\"24px\">\n",
              "    <path d=\"M0 0h24v24H0V0z\" fill=\"none\"/>\n",
              "    <path d=\"M18.56 5.44l.94 2.06.94-2.06 2.06-.94-2.06-.94-.94-2.06-.94 2.06-2.06.94zm-11 1L8.5 8.5l.94-2.06 2.06-.94-2.06-.94L8.5 2.5l-.94 2.06-2.06.94zm10 10l.94 2.06.94-2.06 2.06-.94-2.06-.94-.94-2.06-.94 2.06-2.06.94z\"/><path d=\"M17.41 7.96l-1.37-1.37c-.4-.4-.92-.59-1.43-.59-.52 0-1.04.2-1.43.59L10.3 9.45l-7.72 7.72c-.78.78-.78 2.05 0 2.83L4 21.41c.39.39.9.59 1.41.59.51 0 1.02-.2 1.41-.59l7.78-7.78 2.81-2.81c.8-.78.8-2.07 0-2.86zM5.41 20L4 18.59l7.72-7.72 1.47 1.35L5.41 20z\"/>\n",
              "  </svg>\n",
              "      </button>\n",
              "      \n",
              "  <style>\n",
              "    .colab-df-container {\n",
              "      display:flex;\n",
              "      flex-wrap:wrap;\n",
              "      gap: 12px;\n",
              "    }\n",
              "\n",
              "    .colab-df-convert {\n",
              "      background-color: #E8F0FE;\n",
              "      border: none;\n",
              "      border-radius: 50%;\n",
              "      cursor: pointer;\n",
              "      display: none;\n",
              "      fill: #1967D2;\n",
              "      height: 32px;\n",
              "      padding: 0 0 0 0;\n",
              "      width: 32px;\n",
              "    }\n",
              "\n",
              "    .colab-df-convert:hover {\n",
              "      background-color: #E2EBFA;\n",
              "      box-shadow: 0px 1px 2px rgba(60, 64, 67, 0.3), 0px 1px 3px 1px rgba(60, 64, 67, 0.15);\n",
              "      fill: #174EA6;\n",
              "    }\n",
              "\n",
              "    [theme=dark] .colab-df-convert {\n",
              "      background-color: #3B4455;\n",
              "      fill: #D2E3FC;\n",
              "    }\n",
              "\n",
              "    [theme=dark] .colab-df-convert:hover {\n",
              "      background-color: #434B5C;\n",
              "      box-shadow: 0px 1px 3px 1px rgba(0, 0, 0, 0.15);\n",
              "      filter: drop-shadow(0px 1px 2px rgba(0, 0, 0, 0.3));\n",
              "      fill: #FFFFFF;\n",
              "    }\n",
              "  </style>\n",
              "\n",
              "      <script>\n",
              "        const buttonEl =\n",
              "          document.querySelector('#df-7224d614-e70e-4320-868a-d7df5d7164b3 button.colab-df-convert');\n",
              "        buttonEl.style.display =\n",
              "          google.colab.kernel.accessAllowed ? 'block' : 'none';\n",
              "\n",
              "        async function convertToInteractive(key) {\n",
              "          const element = document.querySelector('#df-7224d614-e70e-4320-868a-d7df5d7164b3');\n",
              "          const dataTable =\n",
              "            await google.colab.kernel.invokeFunction('convertToInteractive',\n",
              "                                                     [key], {});\n",
              "          if (!dataTable) return;\n",
              "\n",
              "          const docLinkHtml = 'Like what you see? Visit the ' +\n",
              "            '<a target=\"_blank\" href=https://colab.research.google.com/notebooks/data_table.ipynb>data table notebook</a>'\n",
              "            + ' to learn more about interactive tables.';\n",
              "          element.innerHTML = '';\n",
              "          dataTable['output_type'] = 'display_data';\n",
              "          await google.colab.output.renderOutput(dataTable, element);\n",
              "          const docLink = document.createElement('div');\n",
              "          docLink.innerHTML = docLinkHtml;\n",
              "          element.appendChild(docLink);\n",
              "        }\n",
              "      </script>\n",
              "    </div>\n",
              "  </div>\n",
              "  "
            ]
          },
          "metadata": {},
          "execution_count": 399
        }
      ],
      "source": [
        "dataset.describe()"
      ]
    },
    {
      "cell_type": "code",
      "execution_count": null,
      "metadata": {
        "colab": {
          "base_uri": "https://localhost:8080/",
          "height": 219
        },
        "id": "beafdGrPpJi5",
        "outputId": "834ccaa2-4fb5-4178-a34d-9eb18a1473be"
      },
      "outputs": [
        {
          "output_type": "execute_result",
          "data": {
            "text/plain": [
              "      Number                                                            \\\n",
              "       count        mean        std  min     25%    50%     75%    max   \n",
              "Label                                                                    \n",
              "0       86.0  190.151163  79.580003  7.0  169.00  218.0  240.75  292.0   \n",
              "1      204.0  127.911765  80.066303  1.0   63.75  116.5  185.25  291.0   \n",
              "\n",
              "      No. Of Friends                                                    \\\n",
              "               count         mean          std     min     25%     50%   \n",
              "Label                                                                    \n",
              "0                5.0  4440.400000  4434.063182  1208.0  1208.0  3893.0   \n",
              "1               73.0  5839.219178  3742.615133   323.0  3893.0  3893.0   \n",
              "\n",
              "                         \n",
              "           75%      max  \n",
              "Label                    \n",
              "0       3893.0  12000.0  \n",
              "1      12000.0  12000.0  "
            ],
            "text/html": [
              "\n",
              "  <div id=\"df-0e8a0f29-ab9f-4abd-8838-d3c65f6bc19b\">\n",
              "    <div class=\"colab-df-container\">\n",
              "      <div>\n",
              "<style scoped>\n",
              "    .dataframe tbody tr th:only-of-type {\n",
              "        vertical-align: middle;\n",
              "    }\n",
              "\n",
              "    .dataframe tbody tr th {\n",
              "        vertical-align: top;\n",
              "    }\n",
              "\n",
              "    .dataframe thead tr th {\n",
              "        text-align: left;\n",
              "    }\n",
              "\n",
              "    .dataframe thead tr:last-of-type th {\n",
              "        text-align: right;\n",
              "    }\n",
              "</style>\n",
              "<table border=\"1\" class=\"dataframe\">\n",
              "  <thead>\n",
              "    <tr>\n",
              "      <th></th>\n",
              "      <th colspan=\"8\" halign=\"left\">Number</th>\n",
              "      <th colspan=\"8\" halign=\"left\">No. Of Friends</th>\n",
              "    </tr>\n",
              "    <tr>\n",
              "      <th></th>\n",
              "      <th>count</th>\n",
              "      <th>mean</th>\n",
              "      <th>std</th>\n",
              "      <th>min</th>\n",
              "      <th>25%</th>\n",
              "      <th>50%</th>\n",
              "      <th>75%</th>\n",
              "      <th>max</th>\n",
              "      <th>count</th>\n",
              "      <th>mean</th>\n",
              "      <th>std</th>\n",
              "      <th>min</th>\n",
              "      <th>25%</th>\n",
              "      <th>50%</th>\n",
              "      <th>75%</th>\n",
              "      <th>max</th>\n",
              "    </tr>\n",
              "    <tr>\n",
              "      <th>Label</th>\n",
              "      <th></th>\n",
              "      <th></th>\n",
              "      <th></th>\n",
              "      <th></th>\n",
              "      <th></th>\n",
              "      <th></th>\n",
              "      <th></th>\n",
              "      <th></th>\n",
              "      <th></th>\n",
              "      <th></th>\n",
              "      <th></th>\n",
              "      <th></th>\n",
              "      <th></th>\n",
              "      <th></th>\n",
              "      <th></th>\n",
              "      <th></th>\n",
              "    </tr>\n",
              "  </thead>\n",
              "  <tbody>\n",
              "    <tr>\n",
              "      <th>0</th>\n",
              "      <td>86.0</td>\n",
              "      <td>190.151163</td>\n",
              "      <td>79.580003</td>\n",
              "      <td>7.0</td>\n",
              "      <td>169.00</td>\n",
              "      <td>218.0</td>\n",
              "      <td>240.75</td>\n",
              "      <td>292.0</td>\n",
              "      <td>5.0</td>\n",
              "      <td>4440.400000</td>\n",
              "      <td>4434.063182</td>\n",
              "      <td>1208.0</td>\n",
              "      <td>1208.0</td>\n",
              "      <td>3893.0</td>\n",
              "      <td>3893.0</td>\n",
              "      <td>12000.0</td>\n",
              "    </tr>\n",
              "    <tr>\n",
              "      <th>1</th>\n",
              "      <td>204.0</td>\n",
              "      <td>127.911765</td>\n",
              "      <td>80.066303</td>\n",
              "      <td>1.0</td>\n",
              "      <td>63.75</td>\n",
              "      <td>116.5</td>\n",
              "      <td>185.25</td>\n",
              "      <td>291.0</td>\n",
              "      <td>73.0</td>\n",
              "      <td>5839.219178</td>\n",
              "      <td>3742.615133</td>\n",
              "      <td>323.0</td>\n",
              "      <td>3893.0</td>\n",
              "      <td>3893.0</td>\n",
              "      <td>12000.0</td>\n",
              "      <td>12000.0</td>\n",
              "    </tr>\n",
              "  </tbody>\n",
              "</table>\n",
              "</div>\n",
              "      <button class=\"colab-df-convert\" onclick=\"convertToInteractive('df-0e8a0f29-ab9f-4abd-8838-d3c65f6bc19b')\"\n",
              "              title=\"Convert this dataframe to an interactive table.\"\n",
              "              style=\"display:none;\">\n",
              "        \n",
              "  <svg xmlns=\"http://www.w3.org/2000/svg\" height=\"24px\"viewBox=\"0 0 24 24\"\n",
              "       width=\"24px\">\n",
              "    <path d=\"M0 0h24v24H0V0z\" fill=\"none\"/>\n",
              "    <path d=\"M18.56 5.44l.94 2.06.94-2.06 2.06-.94-2.06-.94-.94-2.06-.94 2.06-2.06.94zm-11 1L8.5 8.5l.94-2.06 2.06-.94-2.06-.94L8.5 2.5l-.94 2.06-2.06.94zm10 10l.94 2.06.94-2.06 2.06-.94-2.06-.94-.94-2.06-.94 2.06-2.06.94z\"/><path d=\"M17.41 7.96l-1.37-1.37c-.4-.4-.92-.59-1.43-.59-.52 0-1.04.2-1.43.59L10.3 9.45l-7.72 7.72c-.78.78-.78 2.05 0 2.83L4 21.41c.39.39.9.59 1.41.59.51 0 1.02-.2 1.41-.59l7.78-7.78 2.81-2.81c.8-.78.8-2.07 0-2.86zM5.41 20L4 18.59l7.72-7.72 1.47 1.35L5.41 20z\"/>\n",
              "  </svg>\n",
              "      </button>\n",
              "      \n",
              "  <style>\n",
              "    .colab-df-container {\n",
              "      display:flex;\n",
              "      flex-wrap:wrap;\n",
              "      gap: 12px;\n",
              "    }\n",
              "\n",
              "    .colab-df-convert {\n",
              "      background-color: #E8F0FE;\n",
              "      border: none;\n",
              "      border-radius: 50%;\n",
              "      cursor: pointer;\n",
              "      display: none;\n",
              "      fill: #1967D2;\n",
              "      height: 32px;\n",
              "      padding: 0 0 0 0;\n",
              "      width: 32px;\n",
              "    }\n",
              "\n",
              "    .colab-df-convert:hover {\n",
              "      background-color: #E2EBFA;\n",
              "      box-shadow: 0px 1px 2px rgba(60, 64, 67, 0.3), 0px 1px 3px 1px rgba(60, 64, 67, 0.15);\n",
              "      fill: #174EA6;\n",
              "    }\n",
              "\n",
              "    [theme=dark] .colab-df-convert {\n",
              "      background-color: #3B4455;\n",
              "      fill: #D2E3FC;\n",
              "    }\n",
              "\n",
              "    [theme=dark] .colab-df-convert:hover {\n",
              "      background-color: #434B5C;\n",
              "      box-shadow: 0px 1px 3px 1px rgba(0, 0, 0, 0.15);\n",
              "      filter: drop-shadow(0px 1px 2px rgba(0, 0, 0, 0.3));\n",
              "      fill: #FFFFFF;\n",
              "    }\n",
              "  </style>\n",
              "\n",
              "      <script>\n",
              "        const buttonEl =\n",
              "          document.querySelector('#df-0e8a0f29-ab9f-4abd-8838-d3c65f6bc19b button.colab-df-convert');\n",
              "        buttonEl.style.display =\n",
              "          google.colab.kernel.accessAllowed ? 'block' : 'none';\n",
              "\n",
              "        async function convertToInteractive(key) {\n",
              "          const element = document.querySelector('#df-0e8a0f29-ab9f-4abd-8838-d3c65f6bc19b');\n",
              "          const dataTable =\n",
              "            await google.colab.kernel.invokeFunction('convertToInteractive',\n",
              "                                                     [key], {});\n",
              "          if (!dataTable) return;\n",
              "\n",
              "          const docLinkHtml = 'Like what you see? Visit the ' +\n",
              "            '<a target=\"_blank\" href=https://colab.research.google.com/notebooks/data_table.ipynb>data table notebook</a>'\n",
              "            + ' to learn more about interactive tables.';\n",
              "          element.innerHTML = '';\n",
              "          dataTable['output_type'] = 'display_data';\n",
              "          await google.colab.output.renderOutput(dataTable, element);\n",
              "          const docLink = document.createElement('div');\n",
              "          docLink.innerHTML = docLinkHtml;\n",
              "          element.appendChild(docLink);\n",
              "        }\n",
              "      </script>\n",
              "    </div>\n",
              "  </div>\n",
              "  "
            ]
          },
          "metadata": {},
          "execution_count": 400
        }
      ],
      "source": [
        "# Let's see which message is the most popular ham/spam message\n",
        "dataset.groupby('Label').describe()"
      ]
    },
    {
      "cell_type": "code",
      "execution_count": null,
      "metadata": {
        "colab": {
          "base_uri": "https://localhost:8080/",
          "height": 297
        },
        "id": "W1wcfbfuy9a7",
        "outputId": "513869fe-e67b-4580-bf10-fe7fadbad239"
      },
      "outputs": [
        {
          "output_type": "execute_result",
          "data": {
            "text/plain": [
              "<matplotlib.axes._subplots.AxesSubplot at 0x7f6365780690>"
            ]
          },
          "metadata": {},
          "execution_count": 401
        },
        {
          "output_type": "display_data",
          "data": {
            "text/plain": [
              "<Figure size 432x288 with 1 Axes>"
            ],
            "image/png": "[encoded data removed]"
          },
          "metadata": {
            "needs_background": "light"
          }
        }
      ],
      "source": [
        "sns.countplot(dataset['Relationship status'], label = \"Count\")"
      ]
    },
    {
      "cell_type": "code",
      "execution_count": null,
      "metadata": {
        "colab": {
          "base_uri": "https://localhost:8080/",
          "height": 297
        },
        "id": "I3PK5-pvpIHO",
        "outputId": "a1dc955e-5eb7-4352-ce3d-6a4b4f016f66"
      },
      "outputs": [
        {
          "output_type": "execute_result",
          "data": {
            "text/plain": [
              "<matplotlib.axes._subplots.AxesSubplot at 0x7f636575fd10>"
            ]
          },
          "metadata": {},
          "execution_count": 402
        },
        {
          "output_type": "display_data",
          "data": {
            "text/plain": [
              "<Figure size 432x288 with 1 Axes>"
            ],
            "image/png": "[encoded data removed]"
          },
          "metadata": {
            "needs_background": "light"
          }
        }
      ],
      "source": [
        "sns.countplot(dataset['Age'], label = \"Count\")"
      ]
    },
    {
      "cell_type": "code",
      "execution_count": null,
      "metadata": {
        "colab": {
          "base_uri": "https://localhost:8080/",
          "height": 297
        },
        "id": "Q9QG6VJRy9hf",
        "outputId": "1ea3caad-0f5e-468e-96bd-a65996bebffb"
      },
      "outputs": [
        {
          "output_type": "execute_result",
          "data": {
            "text/plain": [
              "<matplotlib.axes._subplots.AxesSubplot at 0x7f63656f6390>"
            ]
          },
          "metadata": {},
          "execution_count": 403
        },
        {
          "output_type": "display_data",
          "data": {
            "text/plain": [
              "<Figure size 432x288 with 1 Axes>"
            ],
            "image/png": "[encoded data removed]"
          },
          "metadata": {
            "needs_background": "light"
          }
        }
      ],
      "source": [
        "sns.countplot(dataset['Location(Division)'], label = \"Count\")"
      ]
    },
    {
      "cell_type": "code",
      "execution_count": null,
      "metadata": {
        "colab": {
          "base_uri": "https://localhost:8080/",
          "height": 297
        },
        "id": "DS-KCgOlpIVo",
        "outputId": "23a3add0-11ca-43bc-8d3e-52b53483c0a2"
      },
      "outputs": [
        {
          "output_type": "execute_result",
          "data": {
            "text/plain": [
              "<matplotlib.axes._subplots.AxesSubplot at 0x7f636566da10>"
            ]
          },
          "metadata": {},
          "execution_count": 404
        },
        {
          "output_type": "display_data",
          "data": {
            "text/plain": [
              "<Figure size 432x288 with 1 Axes>"
            ],
            "image/png": "[encoded data removed]"
          },
          "metadata": {
            "needs_background": "light"
          }
        }
      ],
      "source": [
        "sns.countplot(dataset['Sex'], label = \"Count\")"
      ]
    },
    {
      "cell_type": "code",
      "execution_count": null,
      "metadata": {
        "id": "Lc5KyN_HvKdm"
      },
      "outputs": [],
      "source": [
        "df = pd.read_excel('check_test.xlsx')"
      ]
    },
    {
      "cell_type": "code",
      "execution_count": null,
      "metadata": {
        "colab": {
          "base_uri": "https://localhost:8080/",
          "height": 206
        },
        "id": "SBecdUx2qCyg",
        "outputId": "283abe2b-8861-42d4-ed05-0a68b3cb9d26"
      },
      "outputs": [
        {
          "output_type": "execute_result",
          "data": {
            "text/plain": [
              "                                                Text  Label\n",
              "0  পিতা ছাড়া আত্মত্যাগ বড়ই দুঃখের। বারবার শুধু ...      1\n",
              "1                            অসহ্য অনুভূতি ভয়ানক 😅👈      1\n",
              "2  এই বৃষ্টির দিনে, আসুন আমরা রাস্তায় হাঁটার সময...      1\n",
              "3  আকাশ তুমি মেঘলা কেন, তোমাকে কে বলেছে? আজ রোদের...      1\n",
              "4                                     আমি খুব বিষণ্ণ      1"
            ],
            "text/html": [
              "\n",
              "  <div id=\"df-c8e24067-95e7-4cc9-8061-b18c677d335d\">\n",
              "    <div class=\"colab-df-container\">\n",
              "      <div>\n",
              "<style scoped>\n",
              "    .dataframe tbody tr th:only-of-type {\n",
              "        vertical-align: middle;\n",
              "    }\n",
              "\n",
              "    .dataframe tbody tr th {\n",
              "        vertical-align: top;\n",
              "    }\n",
              "\n",
              "    .dataframe thead th {\n",
              "        text-align: right;\n",
              "    }\n",
              "</style>\n",
              "<table border=\"1\" class=\"dataframe\">\n",
              "  <thead>\n",
              "    <tr style=\"text-align: right;\">\n",
              "      <th></th>\n",
              "      <th>Text</th>\n",
              "      <th>Label</th>\n",
              "    </tr>\n",
              "  </thead>\n",
              "  <tbody>\n",
              "    <tr>\n",
              "      <th>0</th>\n",
              "      <td>পিতা ছাড়া আত্মত্যাগ বড়ই দুঃখের। বারবার শুধু ...</td>\n",
              "      <td>1</td>\n",
              "    </tr>\n",
              "    <tr>\n",
              "      <th>1</th>\n",
              "      <td>অসহ্য অনুভূতি ভয়ানক 😅👈</td>\n",
              "      <td>1</td>\n",
              "    </tr>\n",
              "    <tr>\n",
              "      <th>2</th>\n",
              "      <td>এই বৃষ্টির দিনে, আসুন আমরা রাস্তায় হাঁটার সময...</td>\n",
              "      <td>1</td>\n",
              "    </tr>\n",
              "    <tr>\n",
              "      <th>3</th>\n",
              "      <td>আকাশ তুমি মেঘলা কেন, তোমাকে কে বলেছে? আজ রোদের...</td>\n",
              "      <td>1</td>\n",
              "    </tr>\n",
              "    <tr>\n",
              "      <th>4</th>\n",
              "      <td>আমি খুব বিষণ্ণ</td>\n",
              "      <td>1</td>\n",
              "    </tr>\n",
              "  </tbody>\n",
              "</table>\n",
              "</div>\n",
              "      <button class=\"colab-df-convert\" onclick=\"convertToInteractive('df-c8e24067-95e7-4cc9-8061-b18c677d335d')\"\n",
              "              title=\"Convert this dataframe to an interactive table.\"\n",
              "              style=\"display:none;\">\n",
              "        \n",
              "  <svg xmlns=\"http://www.w3.org/2000/svg\" height=\"24px\"viewBox=\"0 0 24 24\"\n",
              "       width=\"24px\">\n",
              "    <path d=\"M0 0h24v24H0V0z\" fill=\"none\"/>\n",
              "    <path d=\"M18.56 5.44l.94 2.06.94-2.06 2.06-.94-2.06-.94-.94-2.06-.94 2.06-2.06.94zm-11 1L8.5 8.5l.94-2.06 2.06-.94-2.06-.94L8.5 2.5l-.94 2.06-2.06.94zm10 10l.94 2.06.94-2.06 2.06-.94-2.06-.94-.94-2.06-.94 2.06-2.06.94z\"/><path d=\"M17.41 7.96l-1.37-1.37c-.4-.4-.92-.59-1.43-.59-.52 0-1.04.2-1.43.59L10.3 9.45l-7.72 7.72c-.78.78-.78 2.05 0 2.83L4 21.41c.39.39.9.59 1.41.59.51 0 1.02-.2 1.41-.59l7.78-7.78 2.81-2.81c.8-.78.8-2.07 0-2.86zM5.41 20L4 18.59l7.72-7.72 1.47 1.35L5.41 20z\"/>\n",
              "  </svg>\n",
              "      </button>\n",
              "      \n",
              "  <style>\n",
              "    .colab-df-container {\n",
              "      display:flex;\n",
              "      flex-wrap:wrap;\n",
              "      gap: 12px;\n",
              "    }\n",
              "\n",
              "    .colab-df-convert {\n",
              "      background-color: #E8F0FE;\n",
              "      border: none;\n",
              "      border-radius: 50%;\n",
              "      cursor: pointer;\n",
              "      display: none;\n",
              "      fill: #1967D2;\n",
              "      height: 32px;\n",
              "      padding: 0 0 0 0;\n",
              "      width: 32px;\n",
              "    }\n",
              "\n",
              "    .colab-df-convert:hover {\n",
              "      background-color: #E2EBFA;\n",
              "      box-shadow: 0px 1px 2px rgba(60, 64, 67, 0.3), 0px 1px 3px 1px rgba(60, 64, 67, 0.15);\n",
              "      fill: #174EA6;\n",
              "    }\n",
              "\n",
              "    [theme=dark] .colab-df-convert {\n",
              "      background-color: #3B4455;\n",
              "      fill: #D2E3FC;\n",
              "    }\n",
              "\n",
              "    [theme=dark] .colab-df-convert:hover {\n",
              "      background-color: #434B5C;\n",
              "      box-shadow: 0px 1px 3px 1px rgba(0, 0, 0, 0.15);\n",
              "      filter: drop-shadow(0px 1px 2px rgba(0, 0, 0, 0.3));\n",
              "      fill: #FFFFFF;\n",
              "    }\n",
              "  </style>\n",
              "\n",
              "      <script>\n",
              "        const buttonEl =\n",
              "          document.querySelector('#df-c8e24067-95e7-4cc9-8061-b18c677d335d button.colab-df-convert');\n",
              "        buttonEl.style.display =\n",
              "          google.colab.kernel.accessAllowed ? 'block' : 'none';\n",
              "\n",
              "        async function convertToInteractive(key) {\n",
              "          const element = document.querySelector('#df-c8e24067-95e7-4cc9-8061-b18c677d335d');\n",
              "          const dataTable =\n",
              "            await google.colab.kernel.invokeFunction('convertToInteractive',\n",
              "                                                     [key], {});\n",
              "          if (!dataTable) return;\n",
              "\n",
              "          const docLinkHtml = 'Like what you see? Visit the ' +\n",
              "            '<a target=\"_blank\" href=https://colab.research.google.com/notebooks/data_table.ipynb>data table notebook</a>'\n",
              "            + ' to learn more about interactive tables.';\n",
              "          element.innerHTML = '';\n",
              "          dataTable['output_type'] = 'display_data';\n",
              "          await google.colab.output.renderOutput(dataTable, element);\n",
              "          const docLink = document.createElement('div');\n",
              "          docLink.innerHTML = docLinkHtml;\n",
              "          element.appendChild(docLink);\n",
              "        }\n",
              "      </script>\n",
              "    </div>\n",
              "  </div>\n",
              "  "
            ]
          },
          "metadata": {},
          "execution_count": 406
        }
      ],
      "source": [
        "data = df[['Text', 'Label']]\n",
        "data.head()"
      ]
    },
    {
      "cell_type": "code",
      "execution_count": null,
      "metadata": {
        "id": "gYvJuNBTpJfJ"
      },
      "outputs": [],
      "source": [
        "# Let's get the length of the messages\n",
        "data['length'] = data['Text'].apply(len)"
      ]
    },
    {
      "cell_type": "code",
      "execution_count": null,
      "metadata": {
        "colab": {
          "base_uri": "https://localhost:8080/",
          "height": 283
        },
        "id": "gTOMLbPmpJbm",
        "outputId": "5a65c169-e48a-4afb-bc5c-127c02575ee5"
      },
      "outputs": [
        {
          "output_type": "execute_result",
          "data": {
            "text/plain": [
              "<matplotlib.axes._subplots.AxesSubplot at 0x7f63655a9350>"
            ]
          },
          "metadata": {},
          "execution_count": 408
        },
        {
          "output_type": "display_data",
          "data": {
            "text/plain": [
              "<Figure size 432x288 with 1 Axes>"
            ],
            "image/png": "[encoded data removed]"
          },
          "metadata": {
            "needs_background": "light"
          }
        }
      ],
      "source": [
        "data['length'].plot(bins=100, kind='hist') "
      ]
    },
    {
      "cell_type": "code",
      "execution_count": null,
      "metadata": {
        "colab": {
          "base_uri": "https://localhost:8080/"
        },
        "id": "4xROGMxupJVr",
        "outputId": "f243a95c-9b8e-4a2e-f7b6-f342c781bd63"
      },
      "outputs": [
        {
          "output_type": "execute_result",
          "data": {
            "text/plain": [
              "count     199.000000\n",
              "mean      177.170854\n",
              "std       283.595549\n",
              "min        14.000000\n",
              "25%        66.500000\n",
              "50%        88.000000\n",
              "75%       161.000000\n",
              "max      2619.000000\n",
              "Name: length, dtype: float64"
            ]
          },
          "metadata": {},
          "execution_count": 409
        }
      ],
      "source": [
        "data.length.describe()"
      ]
    },
    {
      "cell_type": "code",
      "execution_count": null,
      "metadata": {
        "colab": {
          "base_uri": "https://localhost:8080/",
          "height": 165
        },
        "id": "jcfVKctSpJPd",
        "outputId": "e9c05945-adde-4e50-c58d-6d15e4c5f8a1"
      },
      "outputs": [
        {
          "output_type": "execute_result",
          "data": {
            "text/plain": [
              "'কেউ অহেতুক ঘৃণা করুক বিষয়টা আমার ভাল লাগে না। তাই মাঝে মাঝেই একটা কাজ করি , আমাকে যারা গালি দেন তাদের জিগ্যেস করি কেন দিলেন, বেশির ভাগ ক্ষেত্রেই মানুষটা ইনবক্সে সরি বলেন অথবা এতটাই লজ্জিত হন যে ব্লক করে দেন। এই কাজটা আমি ২০১৩ থেকে করি। ২০১৩ তে একটা ছেলে টানা তিন মাসে অলমোস্ট রোজ এসে গালি দিয়ে যেত, একবার সে বলেই বসল যেখানে পাবে খুন করে ফেলবে। আমি সেই ছেলের বাসা খুঁজে বের করলাম, তারপর ওর বাড়িতে গিয়ে ওর বাড়ির সবার সাথে পরিচিত হলাম। খালাম্মা খুব যত্ন করে পিঠা খাইয়েছিলেন। আমি ওর সম্পর্কে ওর পরিবারের কাউকে কিছুই বলিনি। ফেরার সময় ও খুব করে মাপ চেয়েছিল। সত্যি বলতে ওকে লজ্জা দেবার জন্য যাইনি, গিয়েছিলাম এটা বোঝাতে আমি খারাপ মানুষ না। আমাকে মারতে চাওয়ার আগে তোমার উচিৎ আমার সাথে অন্তত একদিন আড্ডা দেয়া। ছেলেটা আমার লিস্টে আছে, খুব ভাল যোগাযোগ আছে ওর সাথে। আচ্ছা এই যে আমরা একজন মানুষ কে না জেনে,  না চিনে,  তার একটা লেখার সাথে আমার মনের মিল না হাওয়ায় তার প্রতি তীব্র ঘৃণা পোষণ করে ফেলছি, সেটা কি আমরা খেয়াল করেছি? অথচ ৭০ বছর পরে আপনি আর সে কেউ বেঁচে থাকবে না। আপনারা সারা জীবন এক জন আর একজন কে না জেনেই, না বুঝেই ঘৃণা করে যাবেন। আর মানুষকে ঘৃণা করতে করতে  আপনি এক সময় একা হয়ে যাবেন। অনেক ভীরের মধ্যেও আপনি একা একজন মানুষই থেকে যাবেন।  কি অদ্ভুত তাই না ? আমি প্রচণ্ড সাহসী মানুষ। আপনার ধারণার চেয়েও সাহসী। উপরের লেখাগুলো আমার দুর্বলতা না, আমার সরলতা, আমার মানুষের প্রতি সম্মানবোধ, আমার দুর্বলতা না। কঠিন হবার দরকার হলে আমি তা খুব ভাল পারি। কিন্তু চেষ্টা করি কঠিন না হতে। আপনি খোঁচা দিলে, গালি দিলে আমি ধরে নেই কোন কারণে আপনি ব্যক্তিগত জীবনে সুখী না,  তাই সোশ্যাল মিডিয়াতে নিজের রাগ, ক্ষোভ অভিমান ঝাড়ছেন। একদিন বুঝবেন ভুল করেছেন। এসব নিজেকে বুঝিয়ে আপনাকে ঘৃণা করা থেকে বিরত রাখি। তারপরেও না হলে আপনাকে ব্লক লিস্টে নিয়ে নেই।দূরে সরে যাই।  ছোট সময় আমার নানা-ভাই আমাকে শিক্ষণীয় গল্প শোনাতেন। তেমন একটা গল্প থেকে শিখেছিলাম,  সব শহরে একটা ঘর বানাও, মানে সব শহরে বন্ধু বানাও। তাহলে যেখানেই জাও সেখানে কেউ না কেউ তোমার পাশে থাকবে। ঐ শিক্ষা আমার মাথায় ঢুকে গেছে। সমস্ত জীবনের হিসাব বাদ দেই, শুধু গত এক বছরে আমি ৯৩ টা সুইসাইডাল মানুষ কে তার স্বাভাবিক জীবন ফিরিয়ে দিয়েছি। ১৭টা কাঁপল কে তাদের দাম্পত্য কলহ থেকে খানিকটা স্বস্তি দিয়েছিল, ৭০০ প্লাস মানুষ কে কোন না কোন ভাবে মানসিক কষ্ট থেকে শান্তিতে থাকার পথ দেখিয়েছি,  আর কিছু না পারলেও যে এক ঘণ্টা আমার সাথে আলাপ করেছে সেই সময়টা আনন্দময় করেছি। অথচ আপনি ঘৃণা নিয়ে, গালি দিয়ে, খোঁচা দিয়ে কি অর্জন করলেন ?  একটা অচেনা মানুষের কাছে নিজেকে ছোট করে কি পেলেন? আপনি ভাবছেন একটা কমেন্টই তো করেছি অথচ এই একটা কমেন্ট আপনাকে কারো কাছে খুব ছোট করে ফেলেছে। আর কর্মফলে বিশ্বাস করেন তো ? কাউকে কষ্ট দিলে সেটা ফেরে। কোন  না কোন ভাবে ফেরে। যখন সময় পাবেন তখন অবসরে ভাববেন, আপনার ঘৃণা আপনার কাছ থেকে শুধু বন্ধু না, নিজেকেও কেড়ে নিচ্ছে। একসময় জীবনও আপনার সঙ্গ ছেড়ে দেবে।'"
            ],
            "application/vnd.google.colaboratory.intrinsic+json": {
              "type": "string"
            }
          },
          "metadata": {},
          "execution_count": 410
        }
      ],
      "source": [
        "# Let's see the longest message 43952\n",
        "data[data['length'] == 2619]['Text'].iloc[0]"
      ]
    },
    {
      "cell_type": "code",
      "execution_count": null,
      "metadata": {
        "id": "mK_W5VVnpI1j"
      },
      "outputs": [],
      "source": [
        "# Let's divide the messages into spam and ham"
      ]
    },
    {
      "cell_type": "code",
      "execution_count": null,
      "metadata": {
        "id": "WeiGyk64pIyb"
      },
      "outputs": [],
      "source": [
        "not_depressed = data[data['Label']==0]"
      ]
    },
    {
      "cell_type": "code",
      "execution_count": null,
      "metadata": {
        "id": "_Y7vgSyGpIu_"
      },
      "outputs": [],
      "source": [
        "depressed = data[data['Label']==1]"
      ]
    },
    {
      "cell_type": "code",
      "execution_count": null,
      "metadata": {
        "colab": {
          "base_uri": "https://localhost:8080/",
          "height": 423
        },
        "id": "IQS-Cj2upIrz",
        "outputId": "db181490-1e79-4a83-cece-3d691bcca881"
      },
      "outputs": [
        {
          "output_type": "execute_result",
          "data": {
            "text/plain": [
              "                                                  Text  Label  length\n",
              "0    পিতা ছাড়া আত্মত্যাগ বড়ই দুঃখের। বারবার শুধু ...      1     126\n",
              "1                              অসহ্য অনুভূতি ভয়ানক 😅👈      1      23\n",
              "2    এই বৃষ্টির দিনে, আসুন আমরা রাস্তায় হাঁটার সময...      1      92\n",
              "3    আকাশ তুমি মেঘলা কেন, তোমাকে কে বলেছে? আজ রোদের...      1     117\n",
              "4                                       আমি খুব বিষণ্ণ      1      14\n",
              "..                                                 ...    ...     ...\n",
              "194                 বদ্দা_\\nআবেগ দিয়ে দুনিয়া চলে না_!!      1      33\n",
              "195                         ★“মৃত্যু”>🤕\\nমানে_মুক্তি*😷      1      25\n",
              "196               বেকারদের কোনো চাওয়া থাকতে হয় নাহ.!!😷      1      36\n",
              "197  যেটা আশা করি সেটা হয় না আর যেটা হয় সেটা আশা ...      1      57\n",
              "198  সোনার বাংলাদেশে রহিঙ্গাদের জন্য ত্রান নিয়ে তাদ...      1     466\n",
              "\n",
              "[165 rows x 3 columns]"
            ],
            "text/html": [
              "\n",
              "  <div id=\"df-1dd7dcfd-005f-4288-a39c-6f0c8215d6f3\">\n",
              "    <div class=\"colab-df-container\">\n",
              "      <div>\n",
              "<style scoped>\n",
              "    .dataframe tbody tr th:only-of-type {\n",
              "        vertical-align: middle;\n",
              "    }\n",
              "\n",
              "    .dataframe tbody tr th {\n",
              "        vertical-align: top;\n",
              "    }\n",
              "\n",
              "    .dataframe thead th {\n",
              "        text-align: right;\n",
              "    }\n",
              "</style>\n",
              "<table border=\"1\" class=\"dataframe\">\n",
              "  <thead>\n",
              "    <tr style=\"text-align: right;\">\n",
              "      <th></th>\n",
              "      <th>Text</th>\n",
              "      <th>Label</th>\n",
              "      <th>length</th>\n",
              "    </tr>\n",
              "  </thead>\n",
              "  <tbody>\n",
              "    <tr>\n",
              "      <th>0</th>\n",
              "      <td>পিতা ছাড়া আত্মত্যাগ বড়ই দুঃখের। বারবার শুধু ...</td>\n",
              "      <td>1</td>\n",
              "      <td>126</td>\n",
              "    </tr>\n",
              "    <tr>\n",
              "      <th>1</th>\n",
              "      <td>অসহ্য অনুভূতি ভয়ানক 😅👈</td>\n",
              "      <td>1</td>\n",
              "      <td>23</td>\n",
              "    </tr>\n",
              "    <tr>\n",
              "      <th>2</th>\n",
              "      <td>এই বৃষ্টির দিনে, আসুন আমরা রাস্তায় হাঁটার সময...</td>\n",
              "      <td>1</td>\n",
              "      <td>92</td>\n",
              "    </tr>\n",
              "    <tr>\n",
              "      <th>3</th>\n",
              "      <td>আকাশ তুমি মেঘলা কেন, তোমাকে কে বলেছে? আজ রোদের...</td>\n",
              "      <td>1</td>\n",
              "      <td>117</td>\n",
              "    </tr>\n",
              "    <tr>\n",
              "      <th>4</th>\n",
              "      <td>আমি খুব বিষণ্ণ</td>\n",
              "      <td>1</td>\n",
              "      <td>14</td>\n",
              "    </tr>\n",
              "    <tr>\n",
              "      <th>...</th>\n",
              "      <td>...</td>\n",
              "      <td>...</td>\n",
              "      <td>...</td>\n",
              "    </tr>\n",
              "    <tr>\n",
              "      <th>194</th>\n",
              "      <td>বদ্দা_\\nআবেগ দিয়ে দুনিয়া চলে না_!!</td>\n",
              "      <td>1</td>\n",
              "      <td>33</td>\n",
              "    </tr>\n",
              "    <tr>\n",
              "      <th>195</th>\n",
              "      <td>★“মৃত্যু”&gt;🤕\\nমানে_মুক্তি*😷</td>\n",
              "      <td>1</td>\n",
              "      <td>25</td>\n",
              "    </tr>\n",
              "    <tr>\n",
              "      <th>196</th>\n",
              "      <td>বেকারদের কোনো চাওয়া থাকতে হয় নাহ.!!😷</td>\n",
              "      <td>1</td>\n",
              "      <td>36</td>\n",
              "    </tr>\n",
              "    <tr>\n",
              "      <th>197</th>\n",
              "      <td>যেটা আশা করি সেটা হয় না আর যেটা হয় সেটা আশা ...</td>\n",
              "      <td>1</td>\n",
              "      <td>57</td>\n",
              "    </tr>\n",
              "    <tr>\n",
              "      <th>198</th>\n",
              "      <td>সোনার বাংলাদেশে রহিঙ্গাদের জন্য ত্রান নিয়ে তাদ...</td>\n",
              "      <td>1</td>\n",
              "      <td>466</td>\n",
              "    </tr>\n",
              "  </tbody>\n",
              "</table>\n",
              "<p>165 rows × 3 columns</p>\n",
              "</div>\n",
              "      <button class=\"colab-df-convert\" onclick=\"convertToInteractive('df-1dd7dcfd-005f-4288-a39c-6f0c8215d6f3')\"\n",
              "              title=\"Convert this dataframe to an interactive table.\"\n",
              "              style=\"display:none;\">\n",
              "        \n",
              "  <svg xmlns=\"http://www.w3.org/2000/svg\" height=\"24px\"viewBox=\"0 0 24 24\"\n",
              "       width=\"24px\">\n",
              "    <path d=\"M0 0h24v24H0V0z\" fill=\"none\"/>\n",
              "    <path d=\"M18.56 5.44l.94 2.06.94-2.06 2.06-.94-2.06-.94-.94-2.06-.94 2.06-2.06.94zm-11 1L8.5 8.5l.94-2.06 2.06-.94-2.06-.94L8.5 2.5l-.94 2.06-2.06.94zm10 10l.94 2.06.94-2.06 2.06-.94-2.06-.94-.94-2.06-.94 2.06-2.06.94z\"/><path d=\"M17.41 7.96l-1.37-1.37c-.4-.4-.92-.59-1.43-.59-.52 0-1.04.2-1.43.59L10.3 9.45l-7.72 7.72c-.78.78-.78 2.05 0 2.83L4 21.41c.39.39.9.59 1.41.59.51 0 1.02-.2 1.41-.59l7.78-7.78 2.81-2.81c.8-.78.8-2.07 0-2.86zM5.41 20L4 18.59l7.72-7.72 1.47 1.35L5.41 20z\"/>\n",
              "  </svg>\n",
              "      </button>\n",
              "      \n",
              "  <style>\n",
              "    .colab-df-container {\n",
              "      display:flex;\n",
              "      flex-wrap:wrap;\n",
              "      gap: 12px;\n",
              "    }\n",
              "\n",
              "    .colab-df-convert {\n",
              "      background-color: #E8F0FE;\n",
              "      border: none;\n",
              "      border-radius: 50%;\n",
              "      cursor: pointer;\n",
              "      display: none;\n",
              "      fill: #1967D2;\n",
              "      height: 32px;\n",
              "      padding: 0 0 0 0;\n",
              "      width: 32px;\n",
              "    }\n",
              "\n",
              "    .colab-df-convert:hover {\n",
              "      background-color: #E2EBFA;\n",
              "      box-shadow: 0px 1px 2px rgba(60, 64, 67, 0.3), 0px 1px 3px 1px rgba(60, 64, 67, 0.15);\n",
              "      fill: #174EA6;\n",
              "    }\n",
              "\n",
              "    [theme=dark] .colab-df-convert {\n",
              "      background-color: #3B4455;\n",
              "      fill: #D2E3FC;\n",
              "    }\n",
              "\n",
              "    [theme=dark] .colab-df-convert:hover {\n",
              "      background-color: #434B5C;\n",
              "      box-shadow: 0px 1px 3px 1px rgba(0, 0, 0, 0.15);\n",
              "      filter: drop-shadow(0px 1px 2px rgba(0, 0, 0, 0.3));\n",
              "      fill: #FFFFFF;\n",
              "    }\n",
              "  </style>\n",
              "\n",
              "      <script>\n",
              "        const buttonEl =\n",
              "          document.querySelector('#df-1dd7dcfd-005f-4288-a39c-6f0c8215d6f3 button.colab-df-convert');\n",
              "        buttonEl.style.display =\n",
              "          google.colab.kernel.accessAllowed ? 'block' : 'none';\n",
              "\n",
              "        async function convertToInteractive(key) {\n",
              "          const element = document.querySelector('#df-1dd7dcfd-005f-4288-a39c-6f0c8215d6f3');\n",
              "          const dataTable =\n",
              "            await google.colab.kernel.invokeFunction('convertToInteractive',\n",
              "                                                     [key], {});\n",
              "          if (!dataTable) return;\n",
              "\n",
              "          const docLinkHtml = 'Like what you see? Visit the ' +\n",
              "            '<a target=\"_blank\" href=https://colab.research.google.com/notebooks/data_table.ipynb>data table notebook</a>'\n",
              "            + ' to learn more about interactive tables.';\n",
              "          element.innerHTML = '';\n",
              "          dataTable['output_type'] = 'display_data';\n",
              "          await google.colab.output.renderOutput(dataTable, element);\n",
              "          const docLink = document.createElement('div');\n",
              "          docLink.innerHTML = docLinkHtml;\n",
              "          element.appendChild(docLink);\n",
              "        }\n",
              "      </script>\n",
              "    </div>\n",
              "  </div>\n",
              "  "
            ]
          },
          "metadata": {},
          "execution_count": 414
        }
      ],
      "source": [
        "depressed"
      ]
    },
    {
      "cell_type": "code",
      "execution_count": null,
      "metadata": {
        "colab": {
          "base_uri": "https://localhost:8080/",
          "height": 1000
        },
        "id": "XUw4zVEbpIok",
        "outputId": "bdd54ec1-84ba-468d-dc37-1e010a84fed9"
      },
      "outputs": [
        {
          "output_type": "execute_result",
          "data": {
            "text/plain": [
              "                                                  Text  Label  length\n",
              "6    সব আবেগ আর ভালোবাসা পেলে যান্ত্রিক শহরে আসতে ব...      0     142\n",
              "8                                 অনেক ঘুরতে ভালোবাসি😊      0      20\n",
              "11   আরও 16 মিলিয়ন নারী হওয়া সত্ত্বেও\\nঅবিবাহিত হ...      0     135\n",
              "13   ধর্ম যার যার , উৎসব সবার । \\nপবিত্র ঈদ-উদ-আযহা...      0     169\n",
              "14   আলহামদুলিল্লাহ  , \\nঅষ্টম সেমিস্টারের রেজাল্ট ...      0     132\n",
              "15   টাকার অভাবে কুরবানী না দেওয়া লজ্জার নয় । \\nন...      0      81\n",
              "16                          মন আমার কেমন কেমন করে\\n🥵🥵🥵      0      25\n",
              "18   জনস্বার্থে পদ্মা সেতুর উপরে মাঝামাঝি জায়গায় এক...      0     101\n",
              "19   ভারতের পানি ছেড়ে দেওয়ার দোষ দিয়ে বাংলাদেশ ড...      0     132\n",
              "20   দৃশ্যটা খুব সুন্দর তাই না?\\n#কিন্তু কাজগুলো মো...      0     226\n",
              "29   °\\n___যে কোনো কাজেই নিজের\\n              যোগ্য...      0      70\n",
              "60   এখনো \"single \" থাকাটা \"possible\" 😌\\n- কিন্ত এট...      0      77\n",
              "82   বোকা মানুষগুলো হয়তো, \\n  অন্যকে বিরক্ত করতে জা...      0      86\n",
              "98   I believe in this line...\\nসৃষ্টিকর্তা কাউকে ঠ...      0      91\n",
              "147  ইতিহাস কি সত্যের উপর নির্ভর করে রচিত হয় নাকি ব...      0     119\n",
              "148  ভালো কাজের প্রশংসা করতে আমরা ভুলে গেছি।\\nফেক্ট...      0      55\n",
              "150  ~অপেক্ষা করো,বিশ্বাস রাখো\\n~শেষটা সুন্দর হবে\\n...      0      57\n",
              "152  মনের কথা গুলো আল্লাহর কাছেই বলি😊💙\\nকারণ,তিনি ছ...      0      80\n",
              "155  °ভালোবেসে সারাজীবন আগলে রেখো, যেনো বৃদ্ধ বয়সেও...      0      71\n",
              "157  ইয়া আল্লাহ!❤️🤲\\n°আমাকে এমন ভাবে পরিবর্তন করে দ...      0     110\n",
              "162  আল্লাহ ভালোবাসার মানুষ চাইছি দেও নাই সমস্যা না...      0      64\n",
              "165  যা কিছু পেয়েছি সেইগুলো আমার অর্জন, যা হারিয়ে...      0      68\n",
              "169  আমার টাকায় আমার সেতু,স্বপ্নের পদ্মা সেতু.. টাক...      0      83\n",
              "170  যদিও সার্বিকভাবে পরিস্থিতি অনুকূলে নয়,তবুও বাপ...      0     156\n",
              "172  ঝিনুক নীরবে সহো, ঝিনুক নীরবে সহো, ঝিনুক নীরবে ...      0      94\n",
              "174  দিরাইবাসী এবং বইপ্রেমীদের জন্য সুখবর! আমাদের দ...      0     480\n",
              "175  টপার Dhruba Barua জোর করে ট্রীট দিসে...!😌 -থ্য...      0     110\n",
              "179  আব্বু আম্মুকে না বলা কথা বা নিজের প্রয়োজনে যখন...      0     458\n",
              "180  ফ্রেন্ডের সাথে \"শান্তি নেই, শান্তির মা মারা গে...      0     232\n",
              "181  প্রথমবার ঘটকালিতে সফল।😁😁  ভাবছি এই লাইনে নেমে ...      0     236\n",
              "185  ফেসবুকের নতুন এক আশ্চর্য বাগ বা গ্লিচ এর কারণে...      0     311\n",
              "186  কিছু মানুষের হাত সব সময় আশীর্বাদের জন্য ওঠে♥️ ...      0      83\n",
              "187  শুভ জন্মদিন দাদা🎂🍫☺ তোর আগামী দিনগুলো যেন খুব ...      0      81\n",
              "189  আমি মোট ১৯টা  দেশে ঘুরেছি  এবং নিজের ইনকাম করা...      0    1374"
            ],
            "text/html": [
              "\n",
              "  <div id=\"df-05bc1ca2-3c7d-4f7a-ab01-e3c5ccd212a4\">\n",
              "    <div class=\"colab-df-container\">\n",
              "      <div>\n",
              "<style scoped>\n",
              "    .dataframe tbody tr th:only-of-type {\n",
              "        vertical-align: middle;\n",
              "    }\n",
              "\n",
              "    .dataframe tbody tr th {\n",
              "        vertical-align: top;\n",
              "    }\n",
              "\n",
              "    .dataframe thead th {\n",
              "        text-align: right;\n",
              "    }\n",
              "</style>\n",
              "<table border=\"1\" class=\"dataframe\">\n",
              "  <thead>\n",
              "    <tr style=\"text-align: right;\">\n",
              "      <th></th>\n",
              "      <th>Text</th>\n",
              "      <th>Label</th>\n",
              "      <th>length</th>\n",
              "    </tr>\n",
              "  </thead>\n",
              "  <tbody>\n",
              "    <tr>\n",
              "      <th>6</th>\n",
              "      <td>সব আবেগ আর ভালোবাসা পেলে যান্ত্রিক শহরে আসতে ব...</td>\n",
              "      <td>0</td>\n",
              "      <td>142</td>\n",
              "    </tr>\n",
              "    <tr>\n",
              "      <th>8</th>\n",
              "      <td>অনেক ঘুরতে ভালোবাসি😊</td>\n",
              "      <td>0</td>\n",
              "      <td>20</td>\n",
              "    </tr>\n",
              "    <tr>\n",
              "      <th>11</th>\n",
              "      <td>আরও 16 মিলিয়ন নারী হওয়া সত্ত্বেও\\nঅবিবাহিত হ...</td>\n",
              "      <td>0</td>\n",
              "      <td>135</td>\n",
              "    </tr>\n",
              "    <tr>\n",
              "      <th>13</th>\n",
              "      <td>ধর্ম যার যার , উৎসব সবার । \\nপবিত্র ঈদ-উদ-আযহা...</td>\n",
              "      <td>0</td>\n",
              "      <td>169</td>\n",
              "    </tr>\n",
              "    <tr>\n",
              "      <th>14</th>\n",
              "      <td>আলহামদুলিল্লাহ  , \\nঅষ্টম সেমিস্টারের রেজাল্ট ...</td>\n",
              "      <td>0</td>\n",
              "      <td>132</td>\n",
              "    </tr>\n",
              "    <tr>\n",
              "      <th>15</th>\n",
              "      <td>টাকার অভাবে কুরবানী না দেওয়া লজ্জার নয় । \\nন...</td>\n",
              "      <td>0</td>\n",
              "      <td>81</td>\n",
              "    </tr>\n",
              "    <tr>\n",
              "      <th>16</th>\n",
              "      <td>মন আমার কেমন কেমন করে\\n🥵🥵🥵</td>\n",
              "      <td>0</td>\n",
              "      <td>25</td>\n",
              "    </tr>\n",
              "    <tr>\n",
              "      <th>18</th>\n",
              "      <td>জনস্বার্থে পদ্মা সেতুর উপরে মাঝামাঝি জায়গায় এক...</td>\n",
              "      <td>0</td>\n",
              "      <td>101</td>\n",
              "    </tr>\n",
              "    <tr>\n",
              "      <th>19</th>\n",
              "      <td>ভারতের পানি ছেড়ে দেওয়ার দোষ দিয়ে বাংলাদেশ ড...</td>\n",
              "      <td>0</td>\n",
              "      <td>132</td>\n",
              "    </tr>\n",
              "    <tr>\n",
              "      <th>20</th>\n",
              "      <td>দৃশ্যটা খুব সুন্দর তাই না?\\n#কিন্তু কাজগুলো মো...</td>\n",
              "      <td>0</td>\n",
              "      <td>226</td>\n",
              "    </tr>\n",
              "    <tr>\n",
              "      <th>29</th>\n",
              "      <td>°\\n___যে কোনো কাজেই নিজের\\n              যোগ্য...</td>\n",
              "      <td>0</td>\n",
              "      <td>70</td>\n",
              "    </tr>\n",
              "    <tr>\n",
              "      <th>60</th>\n",
              "      <td>এখনো \"single \" থাকাটা \"possible\" 😌\\n- কিন্ত এট...</td>\n",
              "      <td>0</td>\n",
              "      <td>77</td>\n",
              "    </tr>\n",
              "    <tr>\n",
              "      <th>82</th>\n",
              "      <td>বোকা মানুষগুলো হয়তো, \\n  অন্যকে বিরক্ত করতে জা...</td>\n",
              "      <td>0</td>\n",
              "      <td>86</td>\n",
              "    </tr>\n",
              "    <tr>\n",
              "      <th>98</th>\n",
              "      <td>I believe in this line...\\nসৃষ্টিকর্তা কাউকে ঠ...</td>\n",
              "      <td>0</td>\n",
              "      <td>91</td>\n",
              "    </tr>\n",
              "    <tr>\n",
              "      <th>147</th>\n",
              "      <td>ইতিহাস কি সত্যের উপর নির্ভর করে রচিত হয় নাকি ব...</td>\n",
              "      <td>0</td>\n",
              "      <td>119</td>\n",
              "    </tr>\n",
              "    <tr>\n",
              "      <th>148</th>\n",
              "      <td>ভালো কাজের প্রশংসা করতে আমরা ভুলে গেছি।\\nফেক্ট...</td>\n",
              "      <td>0</td>\n",
              "      <td>55</td>\n",
              "    </tr>\n",
              "    <tr>\n",
              "      <th>150</th>\n",
              "      <td>~অপেক্ষা করো,বিশ্বাস রাখো\\n~শেষটা সুন্দর হবে\\n...</td>\n",
              "      <td>0</td>\n",
              "      <td>57</td>\n",
              "    </tr>\n",
              "    <tr>\n",
              "      <th>152</th>\n",
              "      <td>মনের কথা গুলো আল্লাহর কাছেই বলি😊💙\\nকারণ,তিনি ছ...</td>\n",
              "      <td>0</td>\n",
              "      <td>80</td>\n",
              "    </tr>\n",
              "    <tr>\n",
              "      <th>155</th>\n",
              "      <td>°ভালোবেসে সারাজীবন আগলে রেখো, যেনো বৃদ্ধ বয়সেও...</td>\n",
              "      <td>0</td>\n",
              "      <td>71</td>\n",
              "    </tr>\n",
              "    <tr>\n",
              "      <th>157</th>\n",
              "      <td>ইয়া আল্লাহ!❤️🤲\\n°আমাকে এমন ভাবে পরিবর্তন করে দ...</td>\n",
              "      <td>0</td>\n",
              "      <td>110</td>\n",
              "    </tr>\n",
              "    <tr>\n",
              "      <th>162</th>\n",
              "      <td>আল্লাহ ভালোবাসার মানুষ চাইছি দেও নাই সমস্যা না...</td>\n",
              "      <td>0</td>\n",
              "      <td>64</td>\n",
              "    </tr>\n",
              "    <tr>\n",
              "      <th>165</th>\n",
              "      <td>যা কিছু পেয়েছি সেইগুলো আমার অর্জন, যা হারিয়ে...</td>\n",
              "      <td>0</td>\n",
              "      <td>68</td>\n",
              "    </tr>\n",
              "    <tr>\n",
              "      <th>169</th>\n",
              "      <td>আমার টাকায় আমার সেতু,স্বপ্নের পদ্মা সেতু.. টাক...</td>\n",
              "      <td>0</td>\n",
              "      <td>83</td>\n",
              "    </tr>\n",
              "    <tr>\n",
              "      <th>170</th>\n",
              "      <td>যদিও সার্বিকভাবে পরিস্থিতি অনুকূলে নয়,তবুও বাপ...</td>\n",
              "      <td>0</td>\n",
              "      <td>156</td>\n",
              "    </tr>\n",
              "    <tr>\n",
              "      <th>172</th>\n",
              "      <td>ঝিনুক নীরবে সহো, ঝিনুক নীরবে সহো, ঝিনুক নীরবে ...</td>\n",
              "      <td>0</td>\n",
              "      <td>94</td>\n",
              "    </tr>\n",
              "    <tr>\n",
              "      <th>174</th>\n",
              "      <td>দিরাইবাসী এবং বইপ্রেমীদের জন্য সুখবর! আমাদের দ...</td>\n",
              "      <td>0</td>\n",
              "      <td>480</td>\n",
              "    </tr>\n",
              "    <tr>\n",
              "      <th>175</th>\n",
              "      <td>টপার Dhruba Barua জোর করে ট্রীট দিসে...!😌 -থ্য...</td>\n",
              "      <td>0</td>\n",
              "      <td>110</td>\n",
              "    </tr>\n",
              "    <tr>\n",
              "      <th>179</th>\n",
              "      <td>আব্বু আম্মুকে না বলা কথা বা নিজের প্রয়োজনে যখন...</td>\n",
              "      <td>0</td>\n",
              "      <td>458</td>\n",
              "    </tr>\n",
              "    <tr>\n",
              "      <th>180</th>\n",
              "      <td>ফ্রেন্ডের সাথে \"শান্তি নেই, শান্তির মা মারা গে...</td>\n",
              "      <td>0</td>\n",
              "      <td>232</td>\n",
              "    </tr>\n",
              "    <tr>\n",
              "      <th>181</th>\n",
              "      <td>প্রথমবার ঘটকালিতে সফল।😁😁  ভাবছি এই লাইনে নেমে ...</td>\n",
              "      <td>0</td>\n",
              "      <td>236</td>\n",
              "    </tr>\n",
              "    <tr>\n",
              "      <th>185</th>\n",
              "      <td>ফেসবুকের নতুন এক আশ্চর্য বাগ বা গ্লিচ এর কারণে...</td>\n",
              "      <td>0</td>\n",
              "      <td>311</td>\n",
              "    </tr>\n",
              "    <tr>\n",
              "      <th>186</th>\n",
              "      <td>কিছু মানুষের হাত সব সময় আশীর্বাদের জন্য ওঠে♥️ ...</td>\n",
              "      <td>0</td>\n",
              "      <td>83</td>\n",
              "    </tr>\n",
              "    <tr>\n",
              "      <th>187</th>\n",
              "      <td>শুভ জন্মদিন দাদা🎂🍫☺ তোর আগামী দিনগুলো যেন খুব ...</td>\n",
              "      <td>0</td>\n",
              "      <td>81</td>\n",
              "    </tr>\n",
              "    <tr>\n",
              "      <th>189</th>\n",
              "      <td>আমি মোট ১৯টা  দেশে ঘুরেছি  এবং নিজের ইনকাম করা...</td>\n",
              "      <td>0</td>\n",
              "      <td>1374</td>\n",
              "    </tr>\n",
              "  </tbody>\n",
              "</table>\n",
              "</div>\n",
              "      <button class=\"colab-df-convert\" onclick=\"convertToInteractive('df-05bc1ca2-3c7d-4f7a-ab01-e3c5ccd212a4')\"\n",
              "              title=\"Convert this dataframe to an interactive table.\"\n",
              "              style=\"display:none;\">\n",
              "        \n",
              "  <svg xmlns=\"http://www.w3.org/2000/svg\" height=\"24px\"viewBox=\"0 0 24 24\"\n",
              "       width=\"24px\">\n",
              "    <path d=\"M0 0h24v24H0V0z\" fill=\"none\"/>\n",
              "    <path d=\"M18.56 5.44l.94 2.06.94-2.06 2.06-.94-2.06-.94-.94-2.06-.94 2.06-2.06.94zm-11 1L8.5 8.5l.94-2.06 2.06-.94-2.06-.94L8.5 2.5l-.94 2.06-2.06.94zm10 10l.94 2.06.94-2.06 2.06-.94-2.06-.94-.94-2.06-.94 2.06-2.06.94z\"/><path d=\"M17.41 7.96l-1.37-1.37c-.4-.4-.92-.59-1.43-.59-.52 0-1.04.2-1.43.59L10.3 9.45l-7.72 7.72c-.78.78-.78 2.05 0 2.83L4 21.41c.39.39.9.59 1.41.59.51 0 1.02-.2 1.41-.59l7.78-7.78 2.81-2.81c.8-.78.8-2.07 0-2.86zM5.41 20L4 18.59l7.72-7.72 1.47 1.35L5.41 20z\"/>\n",
              "  </svg>\n",
              "      </button>\n",
              "      \n",
              "  <style>\n",
              "    .colab-df-container {\n",
              "      display:flex;\n",
              "      flex-wrap:wrap;\n",
              "      gap: 12px;\n",
              "    }\n",
              "\n",
              "    .colab-df-convert {\n",
              "      background-color: #E8F0FE;\n",
              "      border: none;\n",
              "      border-radius: 50%;\n",
              "      cursor: pointer;\n",
              "      display: none;\n",
              "      fill: #1967D2;\n",
              "      height: 32px;\n",
              "      padding: 0 0 0 0;\n",
              "      width: 32px;\n",
              "    }\n",
              "\n",
              "    .colab-df-convert:hover {\n",
              "      background-color: #E2EBFA;\n",
              "      box-shadow: 0px 1px 2px rgba(60, 64, 67, 0.3), 0px 1px 3px 1px rgba(60, 64, 67, 0.15);\n",
              "      fill: #174EA6;\n",
              "    }\n",
              "\n",
              "    [theme=dark] .colab-df-convert {\n",
              "      background-color: #3B4455;\n",
              "      fill: #D2E3FC;\n",
              "    }\n",
              "\n",
              "    [theme=dark] .colab-df-convert:hover {\n",
              "      background-color: #434B5C;\n",
              "      box-shadow: 0px 1px 3px 1px rgba(0, 0, 0, 0.15);\n",
              "      filter: drop-shadow(0px 1px 2px rgba(0, 0, 0, 0.3));\n",
              "      fill: #FFFFFF;\n",
              "    }\n",
              "  </style>\n",
              "\n",
              "      <script>\n",
              "        const buttonEl =\n",
              "          document.querySelector('#df-05bc1ca2-3c7d-4f7a-ab01-e3c5ccd212a4 button.colab-df-convert');\n",
              "        buttonEl.style.display =\n",
              "          google.colab.kernel.accessAllowed ? 'block' : 'none';\n",
              "\n",
              "        async function convertToInteractive(key) {\n",
              "          const element = document.querySelector('#df-05bc1ca2-3c7d-4f7a-ab01-e3c5ccd212a4');\n",
              "          const dataTable =\n",
              "            await google.colab.kernel.invokeFunction('convertToInteractive',\n",
              "                                                     [key], {});\n",
              "          if (!dataTable) return;\n",
              "\n",
              "          const docLinkHtml = 'Like what you see? Visit the ' +\n",
              "            '<a target=\"_blank\" href=https://colab.research.google.com/notebooks/data_table.ipynb>data table notebook</a>'\n",
              "            + ' to learn more about interactive tables.';\n",
              "          element.innerHTML = '';\n",
              "          dataTable['output_type'] = 'display_data';\n",
              "          await google.colab.output.renderOutput(dataTable, element);\n",
              "          const docLink = document.createElement('div');\n",
              "          docLink.innerHTML = docLinkHtml;\n",
              "          element.appendChild(docLink);\n",
              "        }\n",
              "      </script>\n",
              "    </div>\n",
              "  </div>\n",
              "  "
            ]
          },
          "metadata": {},
          "execution_count": 415
        }
      ],
      "source": [
        "not_depressed"
      ]
    },
    {
      "cell_type": "code",
      "execution_count": null,
      "metadata": {
        "colab": {
          "base_uri": "https://localhost:8080/",
          "height": 283
        },
        "id": "8mKsND5NpIlu",
        "outputId": "c6d888c4-5f61-4e41-8f9b-5e6eeaa838c5"
      },
      "outputs": [
        {
          "output_type": "execute_result",
          "data": {
            "text/plain": [
              "<matplotlib.axes._subplots.AxesSubplot at 0x7f636545cd10>"
            ]
          },
          "metadata": {},
          "execution_count": 416
        },
        {
          "output_type": "display_data",
          "data": {
            "text/plain": [
              "<Figure size 432x288 with 1 Axes>"
            ],
            "image/png": "[encoded data removed]"
          },
          "metadata": {
            "needs_background": "light"
          }
        }
      ],
      "source": [
        "not_depressed['length'].plot(bins=60, kind='hist') "
      ]
    },
    {
      "cell_type": "code",
      "execution_count": null,
      "metadata": {
        "colab": {
          "base_uri": "https://localhost:8080/",
          "height": 283
        },
        "id": "IEqo2_ICpIid",
        "outputId": "a47cad31-997d-4b18-b33a-4f37a91953b2"
      },
      "outputs": [
        {
          "output_type": "execute_result",
          "data": {
            "text/plain": [
              "<matplotlib.axes._subplots.AxesSubplot at 0x7f636539ac90>"
            ]
          },
          "metadata": {},
          "execution_count": 417
        },
        {
          "output_type": "display_data",
          "data": {
            "text/plain": [
              "<Figure size 432x288 with 1 Axes>"
            ],
            "image/png": "[encoded data removed]"
          },
          "metadata": {
            "needs_background": "light"
          }
        }
      ],
      "source": [
        "depressed['length'].plot(bins=60, kind='hist') "
      ]
    },
    {
      "cell_type": "code",
      "execution_count": null,
      "metadata": {
        "colab": {
          "base_uri": "https://localhost:8080/"
        },
        "id": "aDTTke6HpIfO",
        "outputId": "7f256bcd-975a-4d6d-cc56-0636ad5e7fa5"
      },
      "outputs": [
        {
          "output_type": "stream",
          "name": "stdout",
          "text": [
            "not_depressed percentage = 17.08542713567839 %\n"
          ]
        }
      ],
      "source": [
        "print( 'not_depressed percentage =', (len(not_depressed) / len(df) )*100,\"%\")"
      ]
    },
    {
      "cell_type": "code",
      "execution_count": null,
      "metadata": {
        "colab": {
          "base_uri": "https://localhost:8080/"
        },
        "id": "1JJlyii-pIby",
        "outputId": "4fe98634-882f-47bf-b68f-e78fb16bab49"
      },
      "outputs": [
        {
          "output_type": "stream",
          "name": "stdout",
          "text": [
            "depressed = 82.91457286432161 %\n"
          ]
        }
      ],
      "source": [
        "print( 'depressed =', (len(depressed) / len(df) )*100,\"%\")"
      ]
    },
    {
      "cell_type": "code",
      "execution_count": null,
      "metadata": {
        "colab": {
          "base_uri": "https://localhost:8080/",
          "height": 297
        },
        "id": "KUKa8QCwpIYc",
        "outputId": "7f53e038-039c-432d-e95d-e33efbf3a11f"
      },
      "outputs": [
        {
          "output_type": "execute_result",
          "data": {
            "text/plain": [
              "<matplotlib.axes._subplots.AxesSubplot at 0x7f6365367710>"
            ]
          },
          "metadata": {},
          "execution_count": 420
        },
        {
          "output_type": "display_data",
          "data": {
            "text/plain": [
              "<Figure size 432x288 with 1 Axes>"
            ],
            "image/png": "[encoded data removed]"
          },
          "metadata": {
            "needs_background": "light"
          }
        }
      ],
      "source": [
        "sns.countplot(df['Label'], label = \"Count\") "
      ]
    },
    {
      "cell_type": "markdown",
      "source": [
        "# STEP #3: Cleaning"
      ],
      "metadata": {
        "id": "B_0i3u822hc7"
      }
    },
    {
      "cell_type": "markdown",
      "metadata": {
        "id": "7lUfYNKYJK4E"
      },
      "source": [
        "### Removing Puntuation and garbage"
      ]
    },
    {
      "cell_type": "code",
      "execution_count": null,
      "metadata": {
        "colab": {
          "base_uri": "https://localhost:8080/",
          "height": 36
        },
        "id": "fmsdcol6JIEg",
        "outputId": "d29cb66a-96b3-4e9c-d76a-2e8a79a072a2"
      },
      "outputs": [
        {
          "output_type": "execute_result",
          "data": {
            "text/plain": [
              "'!\"#$%&\\'()*+,-./:;<=>?@[\\\\]^_`{|}~'"
            ],
            "application/vnd.google.colaboratory.intrinsic+json": {
              "type": "string"
            }
          },
          "metadata": {},
          "execution_count": 421
        }
      ],
      "source": [
        "string.punctuation"
      ]
    },
    {
      "cell_type": "code",
      "execution_count": null,
      "metadata": {
        "id": "M9YfVAttJNAz"
      },
      "outputs": [],
      "source": [
        "def remove_punctuation(Text):\n",
        "    punctuation_list = str(string.punctuation) + \"।\"\n",
        "    text_nopunct = \"\".join([c for c in Text if c not in punctuation_list])\n",
        "    return text_nopunct"
      ]
    },
    {
      "cell_type": "code",
      "execution_count": null,
      "metadata": {
        "id": "O8UReBLfJTBv"
      },
      "outputs": [],
      "source": [
        "def remove_garbage(a):\n",
        "  a= \"\".join(i for i in a if i in [\"।\"] or 2432 <= ord(i) <= 2559 or ord(i)== 32)\n",
        "  removed=\" \".join(a.split())\n",
        "  return removed"
      ]
    },
    {
      "cell_type": "code",
      "execution_count": null,
      "metadata": {
        "colab": {
          "base_uri": "https://localhost:8080/",
          "height": 112
        },
        "id": "bB0_jhBgJ6j9",
        "outputId": "1fe072f3-7d15-4bb7-dd95-2c4ac213973a"
      },
      "outputs": [
        {
          "output_type": "execute_result",
          "data": {
            "text/plain": [
              "                                                Text  Label  length  \\\n",
              "0  পিতা ছাড়া আত্মত্যাগ বড়ই দুঃখের। বারবার শুধু ...      1     126   \n",
              "1                            অসহ্য অনুভূতি ভয়ানক 😅👈      1      23   \n",
              "\n",
              "                                 Removed Puncutation  \n",
              "0  পিতা ছাড়া আত্মত্যাগ বড়ই দুঃখের বারবার শুধু ব...  \n",
              "1                            অসহ্য অনুভূতি ভয়ানক 😅👈  "
            ],
            "text/html": [
              "\n",
              "  <div id=\"df-8c5bf5e8-0b2f-49ac-9589-2a8af0dc12bf\">\n",
              "    <div class=\"colab-df-container\">\n",
              "      <div>\n",
              "<style scoped>\n",
              "    .dataframe tbody tr th:only-of-type {\n",
              "        vertical-align: middle;\n",
              "    }\n",
              "\n",
              "    .dataframe tbody tr th {\n",
              "        vertical-align: top;\n",
              "    }\n",
              "\n",
              "    .dataframe thead th {\n",
              "        text-align: right;\n",
              "    }\n",
              "</style>\n",
              "<table border=\"1\" class=\"dataframe\">\n",
              "  <thead>\n",
              "    <tr style=\"text-align: right;\">\n",
              "      <th></th>\n",
              "      <th>Text</th>\n",
              "      <th>Label</th>\n",
              "      <th>length</th>\n",
              "      <th>Removed Puncutation</th>\n",
              "    </tr>\n",
              "  </thead>\n",
              "  <tbody>\n",
              "    <tr>\n",
              "      <th>0</th>\n",
              "      <td>পিতা ছাড়া আত্মত্যাগ বড়ই দুঃখের। বারবার শুধু ...</td>\n",
              "      <td>1</td>\n",
              "      <td>126</td>\n",
              "      <td>পিতা ছাড়া আত্মত্যাগ বড়ই দুঃখের বারবার শুধু ব...</td>\n",
              "    </tr>\n",
              "    <tr>\n",
              "      <th>1</th>\n",
              "      <td>অসহ্য অনুভূতি ভয়ানক 😅👈</td>\n",
              "      <td>1</td>\n",
              "      <td>23</td>\n",
              "      <td>অসহ্য অনুভূতি ভয়ানক 😅👈</td>\n",
              "    </tr>\n",
              "  </tbody>\n",
              "</table>\n",
              "</div>\n",
              "      <button class=\"colab-df-convert\" onclick=\"convertToInteractive('df-8c5bf5e8-0b2f-49ac-9589-2a8af0dc12bf')\"\n",
              "              title=\"Convert this dataframe to an interactive table.\"\n",
              "              style=\"display:none;\">\n",
              "        \n",
              "  <svg xmlns=\"http://www.w3.org/2000/svg\" height=\"24px\"viewBox=\"0 0 24 24\"\n",
              "       width=\"24px\">\n",
              "    <path d=\"M0 0h24v24H0V0z\" fill=\"none\"/>\n",
              "    <path d=\"M18.56 5.44l.94 2.06.94-2.06 2.06-.94-2.06-.94-.94-2.06-.94 2.06-2.06.94zm-11 1L8.5 8.5l.94-2.06 2.06-.94-2.06-.94L8.5 2.5l-.94 2.06-2.06.94zm10 10l.94 2.06.94-2.06 2.06-.94-2.06-.94-.94-2.06-.94 2.06-2.06.94z\"/><path d=\"M17.41 7.96l-1.37-1.37c-.4-.4-.92-.59-1.43-.59-.52 0-1.04.2-1.43.59L10.3 9.45l-7.72 7.72c-.78.78-.78 2.05 0 2.83L4 21.41c.39.39.9.59 1.41.59.51 0 1.02-.2 1.41-.59l7.78-7.78 2.81-2.81c.8-.78.8-2.07 0-2.86zM5.41 20L4 18.59l7.72-7.72 1.47 1.35L5.41 20z\"/>\n",
              "  </svg>\n",
              "      </button>\n",
              "      \n",
              "  <style>\n",
              "    .colab-df-container {\n",
              "      display:flex;\n",
              "      flex-wrap:wrap;\n",
              "      gap: 12px;\n",
              "    }\n",
              "\n",
              "    .colab-df-convert {\n",
              "      background-color: #E8F0FE;\n",
              "      border: none;\n",
              "      border-radius: 50%;\n",
              "      cursor: pointer;\n",
              "      display: none;\n",
              "      fill: #1967D2;\n",
              "      height: 32px;\n",
              "      padding: 0 0 0 0;\n",
              "      width: 32px;\n",
              "    }\n",
              "\n",
              "    .colab-df-convert:hover {\n",
              "      background-color: #E2EBFA;\n",
              "      box-shadow: 0px 1px 2px rgba(60, 64, 67, 0.3), 0px 1px 3px 1px rgba(60, 64, 67, 0.15);\n",
              "      fill: #174EA6;\n",
              "    }\n",
              "\n",
              "    [theme=dark] .colab-df-convert {\n",
              "      background-color: #3B4455;\n",
              "      fill: #D2E3FC;\n",
              "    }\n",
              "\n",
              "    [theme=dark] .colab-df-convert:hover {\n",
              "      background-color: #434B5C;\n",
              "      box-shadow: 0px 1px 3px 1px rgba(0, 0, 0, 0.15);\n",
              "      filter: drop-shadow(0px 1px 2px rgba(0, 0, 0, 0.3));\n",
              "      fill: #FFFFFF;\n",
              "    }\n",
              "  </style>\n",
              "\n",
              "      <script>\n",
              "        const buttonEl =\n",
              "          document.querySelector('#df-8c5bf5e8-0b2f-49ac-9589-2a8af0dc12bf button.colab-df-convert');\n",
              "        buttonEl.style.display =\n",
              "          google.colab.kernel.accessAllowed ? 'block' : 'none';\n",
              "\n",
              "        async function convertToInteractive(key) {\n",
              "          const element = document.querySelector('#df-8c5bf5e8-0b2f-49ac-9589-2a8af0dc12bf');\n",
              "          const dataTable =\n",
              "            await google.colab.kernel.invokeFunction('convertToInteractive',\n",
              "                                                     [key], {});\n",
              "          if (!dataTable) return;\n",
              "\n",
              "          const docLinkHtml = 'Like what you see? Visit the ' +\n",
              "            '<a target=\"_blank\" href=https://colab.research.google.com/notebooks/data_table.ipynb>data table notebook</a>'\n",
              "            + ' to learn more about interactive tables.';\n",
              "          element.innerHTML = '';\n",
              "          dataTable['output_type'] = 'display_data';\n",
              "          await google.colab.output.renderOutput(dataTable, element);\n",
              "          const docLink = document.createElement('div');\n",
              "          docLink.innerHTML = docLinkHtml;\n",
              "          element.appendChild(docLink);\n",
              "        }\n",
              "      </script>\n",
              "    </div>\n",
              "  </div>\n",
              "  "
            ]
          },
          "metadata": {},
          "execution_count": 424
        }
      ],
      "source": [
        "data['Removed Puncutation'] = data['Text'].apply(lambda x:remove_punctuation(x))\n",
        "data.head(2)"
      ]
    },
    {
      "cell_type": "code",
      "execution_count": null,
      "metadata": {
        "colab": {
          "base_uri": "https://localhost:8080/",
          "height": 206
        },
        "id": "h2Rc4JhlPc8E",
        "outputId": "590af388-cc8c-4bc8-aa16-b543ca305528"
      },
      "outputs": [
        {
          "output_type": "execute_result",
          "data": {
            "text/plain": [
              "                                                Text  Label  length  \\\n",
              "0  পিতা ছাড়া আত্মত্যাগ বড়ই দুঃখের। বারবার শুধু ...      1     126   \n",
              "1                            অসহ্য অনুভূতি ভয়ানক 😅👈      1      23   \n",
              "2  এই বৃষ্টির দিনে, আসুন আমরা রাস্তায় হাঁটার সময...      1      92   \n",
              "3  আকাশ তুমি মেঘলা কেন, তোমাকে কে বলেছে? আজ রোদের...      1     117   \n",
              "4                                     আমি খুব বিষণ্ণ      1      14   \n",
              "\n",
              "                                 Removed Puncutation  \n",
              "0  পিতা ছাড়া আত্মত্যাগ বড়ই দুঃখের বারবার শুধু ব...  \n",
              "1                               অসহ্য অনুভূতি ভয়ানক  \n",
              "2  এই বৃষ্টির দিনে আসুন আমরা রাস্তায় হাঁটার সময়...  \n",
              "3  আকাশ তুমি মেঘলা কেন তোমাকে কে বলেছে আজ রোদের স...  \n",
              "4                                     আমি খুব বিষণ্ণ  "
            ],
            "text/html": [
              "\n",
              "  <div id=\"df-7e86baba-33fa-4811-86c1-fb01035194ad\">\n",
              "    <div class=\"colab-df-container\">\n",
              "      <div>\n",
              "<style scoped>\n",
              "    .dataframe tbody tr th:only-of-type {\n",
              "        vertical-align: middle;\n",
              "    }\n",
              "\n",
              "    .dataframe tbody tr th {\n",
              "        vertical-align: top;\n",
              "    }\n",
              "\n",
              "    .dataframe thead th {\n",
              "        text-align: right;\n",
              "    }\n",
              "</style>\n",
              "<table border=\"1\" class=\"dataframe\">\n",
              "  <thead>\n",
              "    <tr style=\"text-align: right;\">\n",
              "      <th></th>\n",
              "      <th>Text</th>\n",
              "      <th>Label</th>\n",
              "      <th>length</th>\n",
              "      <th>Removed Puncutation</th>\n",
              "    </tr>\n",
              "  </thead>\n",
              "  <tbody>\n",
              "    <tr>\n",
              "      <th>0</th>\n",
              "      <td>পিতা ছাড়া আত্মত্যাগ বড়ই দুঃখের। বারবার শুধু ...</td>\n",
              "      <td>1</td>\n",
              "      <td>126</td>\n",
              "      <td>পিতা ছাড়া আত্মত্যাগ বড়ই দুঃখের বারবার শুধু ব...</td>\n",
              "    </tr>\n",
              "    <tr>\n",
              "      <th>1</th>\n",
              "      <td>অসহ্য অনুভূতি ভয়ানক 😅👈</td>\n",
              "      <td>1</td>\n",
              "      <td>23</td>\n",
              "      <td>অসহ্য অনুভূতি ভয়ানক</td>\n",
              "    </tr>\n",
              "    <tr>\n",
              "      <th>2</th>\n",
              "      <td>এই বৃষ্টির দিনে, আসুন আমরা রাস্তায় হাঁটার সময...</td>\n",
              "      <td>1</td>\n",
              "      <td>92</td>\n",
              "      <td>এই বৃষ্টির দিনে আসুন আমরা রাস্তায় হাঁটার সময়...</td>\n",
              "    </tr>\n",
              "    <tr>\n",
              "      <th>3</th>\n",
              "      <td>আকাশ তুমি মেঘলা কেন, তোমাকে কে বলেছে? আজ রোদের...</td>\n",
              "      <td>1</td>\n",
              "      <td>117</td>\n",
              "      <td>আকাশ তুমি মেঘলা কেন তোমাকে কে বলেছে আজ রোদের স...</td>\n",
              "    </tr>\n",
              "    <tr>\n",
              "      <th>4</th>\n",
              "      <td>আমি খুব বিষণ্ণ</td>\n",
              "      <td>1</td>\n",
              "      <td>14</td>\n",
              "      <td>আমি খুব বিষণ্ণ</td>\n",
              "    </tr>\n",
              "  </tbody>\n",
              "</table>\n",
              "</div>\n",
              "      <button class=\"colab-df-convert\" onclick=\"convertToInteractive('df-7e86baba-33fa-4811-86c1-fb01035194ad')\"\n",
              "              title=\"Convert this dataframe to an interactive table.\"\n",
              "              style=\"display:none;\">\n",
              "        \n",
              "  <svg xmlns=\"http://www.w3.org/2000/svg\" height=\"24px\"viewBox=\"0 0 24 24\"\n",
              "       width=\"24px\">\n",
              "    <path d=\"M0 0h24v24H0V0z\" fill=\"none\"/>\n",
              "    <path d=\"M18.56 5.44l.94 2.06.94-2.06 2.06-.94-2.06-.94-.94-2.06-.94 2.06-2.06.94zm-11 1L8.5 8.5l.94-2.06 2.06-.94-2.06-.94L8.5 2.5l-.94 2.06-2.06.94zm10 10l.94 2.06.94-2.06 2.06-.94-2.06-.94-.94-2.06-.94 2.06-2.06.94z\"/><path d=\"M17.41 7.96l-1.37-1.37c-.4-.4-.92-.59-1.43-.59-.52 0-1.04.2-1.43.59L10.3 9.45l-7.72 7.72c-.78.78-.78 2.05 0 2.83L4 21.41c.39.39.9.59 1.41.59.51 0 1.02-.2 1.41-.59l7.78-7.78 2.81-2.81c.8-.78.8-2.07 0-2.86zM5.41 20L4 18.59l7.72-7.72 1.47 1.35L5.41 20z\"/>\n",
              "  </svg>\n",
              "      </button>\n",
              "      \n",
              "  <style>\n",
              "    .colab-df-container {\n",
              "      display:flex;\n",
              "      flex-wrap:wrap;\n",
              "      gap: 12px;\n",
              "    }\n",
              "\n",
              "    .colab-df-convert {\n",
              "      background-color: #E8F0FE;\n",
              "      border: none;\n",
              "      border-radius: 50%;\n",
              "      cursor: pointer;\n",
              "      display: none;\n",
              "      fill: #1967D2;\n",
              "      height: 32px;\n",
              "      padding: 0 0 0 0;\n",
              "      width: 32px;\n",
              "    }\n",
              "\n",
              "    .colab-df-convert:hover {\n",
              "      background-color: #E2EBFA;\n",
              "      box-shadow: 0px 1px 2px rgba(60, 64, 67, 0.3), 0px 1px 3px 1px rgba(60, 64, 67, 0.15);\n",
              "      fill: #174EA6;\n",
              "    }\n",
              "\n",
              "    [theme=dark] .colab-df-convert {\n",
              "      background-color: #3B4455;\n",
              "      fill: #D2E3FC;\n",
              "    }\n",
              "\n",
              "    [theme=dark] .colab-df-convert:hover {\n",
              "      background-color: #434B5C;\n",
              "      box-shadow: 0px 1px 3px 1px rgba(0, 0, 0, 0.15);\n",
              "      filter: drop-shadow(0px 1px 2px rgba(0, 0, 0, 0.3));\n",
              "      fill: #FFFFFF;\n",
              "    }\n",
              "  </style>\n",
              "\n",
              "      <script>\n",
              "        const buttonEl =\n",
              "          document.querySelector('#df-7e86baba-33fa-4811-86c1-fb01035194ad button.colab-df-convert');\n",
              "        buttonEl.style.display =\n",
              "          google.colab.kernel.accessAllowed ? 'block' : 'none';\n",
              "\n",
              "        async function convertToInteractive(key) {\n",
              "          const element = document.querySelector('#df-7e86baba-33fa-4811-86c1-fb01035194ad');\n",
              "          const dataTable =\n",
              "            await google.colab.kernel.invokeFunction('convertToInteractive',\n",
              "                                                     [key], {});\n",
              "          if (!dataTable) return;\n",
              "\n",
              "          const docLinkHtml = 'Like what you see? Visit the ' +\n",
              "            '<a target=\"_blank\" href=https://colab.research.google.com/notebooks/data_table.ipynb>data table notebook</a>'\n",
              "            + ' to learn more about interactive tables.';\n",
              "          element.innerHTML = '';\n",
              "          dataTable['output_type'] = 'display_data';\n",
              "          await google.colab.output.renderOutput(dataTable, element);\n",
              "          const docLink = document.createElement('div');\n",
              "          docLink.innerHTML = docLinkHtml;\n",
              "          element.appendChild(docLink);\n",
              "        }\n",
              "      </script>\n",
              "    </div>\n",
              "  </div>\n",
              "  "
            ]
          },
          "metadata": {},
          "execution_count": 425
        }
      ],
      "source": [
        "data['Removed Puncutation'] = data['Removed Puncutation'].apply(lambda x:remove_garbage(x))\n",
        "data.head()"
      ]
    },
    {
      "cell_type": "markdown",
      "metadata": {
        "id": "ZSvVDjLYKNd6"
      },
      "source": [
        "###Remove English"
      ]
    },
    {
      "cell_type": "code",
      "execution_count": null,
      "metadata": {
        "id": "sxPw4f4nPwdr"
      },
      "outputs": [],
      "source": [
        "def numbers(remove_Eng):\n",
        "    new_text = []\n",
        "    for word in remove_Eng.split():\n",
        "        if not re.search('\\d', word):\n",
        "            new_text.append(word)\n",
        "    return ' '.join(new_text)"
      ]
    },
    {
      "cell_type": "code",
      "execution_count": null,
      "metadata": {
        "colab": {
          "base_uri": "https://localhost:8080/",
          "height": 156
        },
        "id": "eaH9xRhCPxxP",
        "outputId": "ede03eb4-c816-40df-9db7-f6c53b6ff795"
      },
      "outputs": [
        {
          "output_type": "execute_result",
          "data": {
            "text/plain": [
              "                                                Text  Label  length  \\\n",
              "0  পিতা ছাড়া আত্মত্যাগ বড়ই দুঃখের। বারবার শুধু ...      1     126   \n",
              "1                            অসহ্য অনুভূতি ভয়ানক 😅👈      1      23   \n",
              "\n",
              "                                 Removed Puncutation  \\\n",
              "0  পিতা ছাড়া আত্মত্যাগ বড়ই দুঃখের বারবার শুধু ব...   \n",
              "1                               অসহ্য অনুভূতি ভয়ানক   \n",
              "\n",
              "                                          remove Eng  \n",
              "0  পিতা ছাড়া আত্মত্যাগ বড়ই দুঃখের বারবার শুধু ব...  \n",
              "1                               অসহ্য অনুভূতি ভয়ানক  "
            ],
            "text/html": [
              "\n",
              "  <div id=\"df-ce2af75f-bb04-4763-8567-b3cc2d0c0ef7\">\n",
              "    <div class=\"colab-df-container\">\n",
              "      <div>\n",
              "<style scoped>\n",
              "    .dataframe tbody tr th:only-of-type {\n",
              "        vertical-align: middle;\n",
              "    }\n",
              "\n",
              "    .dataframe tbody tr th {\n",
              "        vertical-align: top;\n",
              "    }\n",
              "\n",
              "    .dataframe thead th {\n",
              "        text-align: right;\n",
              "    }\n",
              "</style>\n",
              "<table border=\"1\" class=\"dataframe\">\n",
              "  <thead>\n",
              "    <tr style=\"text-align: right;\">\n",
              "      <th></th>\n",
              "      <th>Text</th>\n",
              "      <th>Label</th>\n",
              "      <th>length</th>\n",
              "      <th>Removed Puncutation</th>\n",
              "      <th>remove Eng</th>\n",
              "    </tr>\n",
              "  </thead>\n",
              "  <tbody>\n",
              "    <tr>\n",
              "      <th>0</th>\n",
              "      <td>পিতা ছাড়া আত্মত্যাগ বড়ই দুঃখের। বারবার শুধু ...</td>\n",
              "      <td>1</td>\n",
              "      <td>126</td>\n",
              "      <td>পিতা ছাড়া আত্মত্যাগ বড়ই দুঃখের বারবার শুধু ব...</td>\n",
              "      <td>পিতা ছাড়া আত্মত্যাগ বড়ই দুঃখের বারবার শুধু ব...</td>\n",
              "    </tr>\n",
              "    <tr>\n",
              "      <th>1</th>\n",
              "      <td>অসহ্য অনুভূতি ভয়ানক 😅👈</td>\n",
              "      <td>1</td>\n",
              "      <td>23</td>\n",
              "      <td>অসহ্য অনুভূতি ভয়ানক</td>\n",
              "      <td>অসহ্য অনুভূতি ভয়ানক</td>\n",
              "    </tr>\n",
              "  </tbody>\n",
              "</table>\n",
              "</div>\n",
              "      <button class=\"colab-df-convert\" onclick=\"convertToInteractive('df-ce2af75f-bb04-4763-8567-b3cc2d0c0ef7')\"\n",
              "              title=\"Convert this dataframe to an interactive table.\"\n",
              "              style=\"display:none;\">\n",
              "        \n",
              "  <svg xmlns=\"http://www.w3.org/2000/svg\" height=\"24px\"viewBox=\"0 0 24 24\"\n",
              "       width=\"24px\">\n",
              "    <path d=\"M0 0h24v24H0V0z\" fill=\"none\"/>\n",
              "    <path d=\"M18.56 5.44l.94 2.06.94-2.06 2.06-.94-2.06-.94-.94-2.06-.94 2.06-2.06.94zm-11 1L8.5 8.5l.94-2.06 2.06-.94-2.06-.94L8.5 2.5l-.94 2.06-2.06.94zm10 10l.94 2.06.94-2.06 2.06-.94-2.06-.94-.94-2.06-.94 2.06-2.06.94z\"/><path d=\"M17.41 7.96l-1.37-1.37c-.4-.4-.92-.59-1.43-.59-.52 0-1.04.2-1.43.59L10.3 9.45l-7.72 7.72c-.78.78-.78 2.05 0 2.83L4 21.41c.39.39.9.59 1.41.59.51 0 1.02-.2 1.41-.59l7.78-7.78 2.81-2.81c.8-.78.8-2.07 0-2.86zM5.41 20L4 18.59l7.72-7.72 1.47 1.35L5.41 20z\"/>\n",
              "  </svg>\n",
              "      </button>\n",
              "      \n",
              "  <style>\n",
              "    .colab-df-container {\n",
              "      display:flex;\n",
              "      flex-wrap:wrap;\n",
              "      gap: 12px;\n",
              "    }\n",
              "\n",
              "    .colab-df-convert {\n",
              "      background-color: #E8F0FE;\n",
              "      border: none;\n",
              "      border-radius: 50%;\n",
              "      cursor: pointer;\n",
              "      display: none;\n",
              "      fill: #1967D2;\n",
              "      height: 32px;\n",
              "      padding: 0 0 0 0;\n",
              "      width: 32px;\n",
              "    }\n",
              "\n",
              "    .colab-df-convert:hover {\n",
              "      background-color: #E2EBFA;\n",
              "      box-shadow: 0px 1px 2px rgba(60, 64, 67, 0.3), 0px 1px 3px 1px rgba(60, 64, 67, 0.15);\n",
              "      fill: #174EA6;\n",
              "    }\n",
              "\n",
              "    [theme=dark] .colab-df-convert {\n",
              "      background-color: #3B4455;\n",
              "      fill: #D2E3FC;\n",
              "    }\n",
              "\n",
              "    [theme=dark] .colab-df-convert:hover {\n",
              "      background-color: #434B5C;\n",
              "      box-shadow: 0px 1px 3px 1px rgba(0, 0, 0, 0.15);\n",
              "      filter: drop-shadow(0px 1px 2px rgba(0, 0, 0, 0.3));\n",
              "      fill: #FFFFFF;\n",
              "    }\n",
              "  </style>\n",
              "\n",
              "      <script>\n",
              "        const buttonEl =\n",
              "          document.querySelector('#df-ce2af75f-bb04-4763-8567-b3cc2d0c0ef7 button.colab-df-convert');\n",
              "        buttonEl.style.display =\n",
              "          google.colab.kernel.accessAllowed ? 'block' : 'none';\n",
              "\n",
              "        async function convertToInteractive(key) {\n",
              "          const element = document.querySelector('#df-ce2af75f-bb04-4763-8567-b3cc2d0c0ef7');\n",
              "          const dataTable =\n",
              "            await google.colab.kernel.invokeFunction('convertToInteractive',\n",
              "                                                     [key], {});\n",
              "          if (!dataTable) return;\n",
              "\n",
              "          const docLinkHtml = 'Like what you see? Visit the ' +\n",
              "            '<a target=\"_blank\" href=https://colab.research.google.com/notebooks/data_table.ipynb>data table notebook</a>'\n",
              "            + ' to learn more about interactive tables.';\n",
              "          element.innerHTML = '';\n",
              "          dataTable['output_type'] = 'display_data';\n",
              "          await google.colab.output.renderOutput(dataTable, element);\n",
              "          const docLink = document.createElement('div');\n",
              "          docLink.innerHTML = docLinkHtml;\n",
              "          element.appendChild(docLink);\n",
              "        }\n",
              "      </script>\n",
              "    </div>\n",
              "  </div>\n",
              "  "
            ]
          },
          "metadata": {},
          "execution_count": 427
        }
      ],
      "source": [
        "data['remove Eng'] = data['Removed Puncutation'].apply(numbers)\n",
        "data.head(2)"
      ]
    },
    {
      "cell_type": "markdown",
      "metadata": {
        "id": "yD2kkZ5793H2"
      },
      "source": [
        "### Lemmatizer"
      ]
    },
    {
      "cell_type": "code",
      "execution_count": null,
      "metadata": {
        "id": "6zzo2fx5QsAw"
      },
      "outputs": [],
      "source": [
        "lem = WordNetLemmatizer()\n",
        "\n",
        "def lemma(text):\n",
        "    lem_text = [lem.lemmatize(word) for word in text.split()]\n",
        "    return \" \".join(lem_text)"
      ]
    },
    {
      "cell_type": "code",
      "execution_count": null,
      "metadata": {
        "colab": {
          "base_uri": "https://localhost:8080/",
          "height": 267
        },
        "id": "JkGEeF9yQr5Q",
        "outputId": "de2275a5-bd3c-4243-a0d7-72a4d47effae"
      },
      "outputs": [
        {
          "output_type": "execute_result",
          "data": {
            "text/plain": [
              "                                                Text  Label  length  \\\n",
              "0  পিতা ছাড়া আত্মত্যাগ বড়ই দুঃখের। বারবার শুধু ...      1     126   \n",
              "1                            অসহ্য অনুভূতি ভয়ানক 😅👈      1      23   \n",
              "2  এই বৃষ্টির দিনে, আসুন আমরা রাস্তায় হাঁটার সময...      1      92   \n",
              "3  আকাশ তুমি মেঘলা কেন, তোমাকে কে বলেছে? আজ রোদের...      1     117   \n",
              "4                                     আমি খুব বিষণ্ণ      1      14   \n",
              "\n",
              "                                 Removed Puncutation  \\\n",
              "0  পিতা ছাড়া আত্মত্যাগ বড়ই দুঃখের বারবার শুধু ব...   \n",
              "1                               অসহ্য অনুভূতি ভয়ানক   \n",
              "2  এই বৃষ্টির দিনে আসুন আমরা রাস্তায় হাঁটার সময়...   \n",
              "3  আকাশ তুমি মেঘলা কেন তোমাকে কে বলেছে আজ রোদের স...   \n",
              "4                                     আমি খুব বিষণ্ণ   \n",
              "\n",
              "                                          remove Eng  \n",
              "0  পিতা ছাড়া আত্মত্যাগ বড়ই দুঃখের বারবার শুধু ব...  \n",
              "1                               অসহ্য অনুভূতি ভয়ানক  \n",
              "2  এই বৃষ্টির দিনে আসুন আমরা রাস্তায় হাঁটার সময়...  \n",
              "3  আকাশ তুমি মেঘলা কেন তোমাকে কে বলেছে আজ রোদের স...  \n",
              "4                                     আমি খুব বিষণ্ণ  "
            ],
            "text/html": [
              "\n",
              "  <div id=\"df-58494a9e-f286-474b-9255-459af09b3ebd\">\n",
              "    <div class=\"colab-df-container\">\n",
              "      <div>\n",
              "<style scoped>\n",
              "    .dataframe tbody tr th:only-of-type {\n",
              "        vertical-align: middle;\n",
              "    }\n",
              "\n",
              "    .dataframe tbody tr th {\n",
              "        vertical-align: top;\n",
              "    }\n",
              "\n",
              "    .dataframe thead th {\n",
              "        text-align: right;\n",
              "    }\n",
              "</style>\n",
              "<table border=\"1\" class=\"dataframe\">\n",
              "  <thead>\n",
              "    <tr style=\"text-align: right;\">\n",
              "      <th></th>\n",
              "      <th>Text</th>\n",
              "      <th>Label</th>\n",
              "      <th>length</th>\n",
              "      <th>Removed Puncutation</th>\n",
              "      <th>remove Eng</th>\n",
              "    </tr>\n",
              "  </thead>\n",
              "  <tbody>\n",
              "    <tr>\n",
              "      <th>0</th>\n",
              "      <td>পিতা ছাড়া আত্মত্যাগ বড়ই দুঃখের। বারবার শুধু ...</td>\n",
              "      <td>1</td>\n",
              "      <td>126</td>\n",
              "      <td>পিতা ছাড়া আত্মত্যাগ বড়ই দুঃখের বারবার শুধু ব...</td>\n",
              "      <td>পিতা ছাড়া আত্মত্যাগ বড়ই দুঃখের বারবার শুধু ব...</td>\n",
              "    </tr>\n",
              "    <tr>\n",
              "      <th>1</th>\n",
              "      <td>অসহ্য অনুভূতি ভয়ানক 😅👈</td>\n",
              "      <td>1</td>\n",
              "      <td>23</td>\n",
              "      <td>অসহ্য অনুভূতি ভয়ানক</td>\n",
              "      <td>অসহ্য অনুভূতি ভয়ানক</td>\n",
              "    </tr>\n",
              "    <tr>\n",
              "      <th>2</th>\n",
              "      <td>এই বৃষ্টির দিনে, আসুন আমরা রাস্তায় হাঁটার সময...</td>\n",
              "      <td>1</td>\n",
              "      <td>92</td>\n",
              "      <td>এই বৃষ্টির দিনে আসুন আমরা রাস্তায় হাঁটার সময়...</td>\n",
              "      <td>এই বৃষ্টির দিনে আসুন আমরা রাস্তায় হাঁটার সময়...</td>\n",
              "    </tr>\n",
              "    <tr>\n",
              "      <th>3</th>\n",
              "      <td>আকাশ তুমি মেঘলা কেন, তোমাকে কে বলেছে? আজ রোদের...</td>\n",
              "      <td>1</td>\n",
              "      <td>117</td>\n",
              "      <td>আকাশ তুমি মেঘলা কেন তোমাকে কে বলেছে আজ রোদের স...</td>\n",
              "      <td>আকাশ তুমি মেঘলা কেন তোমাকে কে বলেছে আজ রোদের স...</td>\n",
              "    </tr>\n",
              "    <tr>\n",
              "      <th>4</th>\n",
              "      <td>আমি খুব বিষণ্ণ</td>\n",
              "      <td>1</td>\n",
              "      <td>14</td>\n",
              "      <td>আমি খুব বিষণ্ণ</td>\n",
              "      <td>আমি খুব বিষণ্ণ</td>\n",
              "    </tr>\n",
              "  </tbody>\n",
              "</table>\n",
              "</div>\n",
              "      <button class=\"colab-df-convert\" onclick=\"convertToInteractive('df-58494a9e-f286-474b-9255-459af09b3ebd')\"\n",
              "              title=\"Convert this dataframe to an interactive table.\"\n",
              "              style=\"display:none;\">\n",
              "        \n",
              "  <svg xmlns=\"http://www.w3.org/2000/svg\" height=\"24px\"viewBox=\"0 0 24 24\"\n",
              "       width=\"24px\">\n",
              "    <path d=\"M0 0h24v24H0V0z\" fill=\"none\"/>\n",
              "    <path d=\"M18.56 5.44l.94 2.06.94-2.06 2.06-.94-2.06-.94-.94-2.06-.94 2.06-2.06.94zm-11 1L8.5 8.5l.94-2.06 2.06-.94-2.06-.94L8.5 2.5l-.94 2.06-2.06.94zm10 10l.94 2.06.94-2.06 2.06-.94-2.06-.94-.94-2.06-.94 2.06-2.06.94z\"/><path d=\"M17.41 7.96l-1.37-1.37c-.4-.4-.92-.59-1.43-.59-.52 0-1.04.2-1.43.59L10.3 9.45l-7.72 7.72c-.78.78-.78 2.05 0 2.83L4 21.41c.39.39.9.59 1.41.59.51 0 1.02-.2 1.41-.59l7.78-7.78 2.81-2.81c.8-.78.8-2.07 0-2.86zM5.41 20L4 18.59l7.72-7.72 1.47 1.35L5.41 20z\"/>\n",
              "  </svg>\n",
              "      </button>\n",
              "      \n",
              "  <style>\n",
              "    .colab-df-container {\n",
              "      display:flex;\n",
              "      flex-wrap:wrap;\n",
              "      gap: 12px;\n",
              "    }\n",
              "\n",
              "    .colab-df-convert {\n",
              "      background-color: #E8F0FE;\n",
              "      border: none;\n",
              "      border-radius: 50%;\n",
              "      cursor: pointer;\n",
              "      display: none;\n",
              "      fill: #1967D2;\n",
              "      height: 32px;\n",
              "      padding: 0 0 0 0;\n",
              "      width: 32px;\n",
              "    }\n",
              "\n",
              "    .colab-df-convert:hover {\n",
              "      background-color: #E2EBFA;\n",
              "      box-shadow: 0px 1px 2px rgba(60, 64, 67, 0.3), 0px 1px 3px 1px rgba(60, 64, 67, 0.15);\n",
              "      fill: #174EA6;\n",
              "    }\n",
              "\n",
              "    [theme=dark] .colab-df-convert {\n",
              "      background-color: #3B4455;\n",
              "      fill: #D2E3FC;\n",
              "    }\n",
              "\n",
              "    [theme=dark] .colab-df-convert:hover {\n",
              "      background-color: #434B5C;\n",
              "      box-shadow: 0px 1px 3px 1px rgba(0, 0, 0, 0.15);\n",
              "      filter: drop-shadow(0px 1px 2px rgba(0, 0, 0, 0.3));\n",
              "      fill: #FFFFFF;\n",
              "    }\n",
              "  </style>\n",
              "\n",
              "      <script>\n",
              "        const buttonEl =\n",
              "          document.querySelector('#df-58494a9e-f286-474b-9255-459af09b3ebd button.colab-df-convert');\n",
              "        buttonEl.style.display =\n",
              "          google.colab.kernel.accessAllowed ? 'block' : 'none';\n",
              "\n",
              "        async function convertToInteractive(key) {\n",
              "          const element = document.querySelector('#df-58494a9e-f286-474b-9255-459af09b3ebd');\n",
              "          const dataTable =\n",
              "            await google.colab.kernel.invokeFunction('convertToInteractive',\n",
              "                                                     [key], {});\n",
              "          if (!dataTable) return;\n",
              "\n",
              "          const docLinkHtml = 'Like what you see? Visit the ' +\n",
              "            '<a target=\"_blank\" href=https://colab.research.google.com/notebooks/data_table.ipynb>data table notebook</a>'\n",
              "            + ' to learn more about interactive tables.';\n",
              "          element.innerHTML = '';\n",
              "          dataTable['output_type'] = 'display_data';\n",
              "          await google.colab.output.renderOutput(dataTable, element);\n",
              "          const docLink = document.createElement('div');\n",
              "          docLink.innerHTML = docLinkHtml;\n",
              "          element.appendChild(docLink);\n",
              "        }\n",
              "      </script>\n",
              "    </div>\n",
              "  </div>\n",
              "  "
            ]
          },
          "metadata": {},
          "execution_count": 429
        }
      ],
      "source": [
        "data['remove Eng'] = data['remove Eng'].apply(lemma)\n",
        "data.head()"
      ]
    },
    {
      "cell_type": "markdown",
      "metadata": {
        "id": "VEPkjf4Q-L7B"
      },
      "source": [
        "### Removed Stopped Word"
      ]
    },
    {
      "cell_type": "code",
      "execution_count": null,
      "metadata": {
        "colab": {
          "base_uri": "https://localhost:8080/"
        },
        "id": "hsDT4PNsQr9e",
        "outputId": "c2ad8f28-bacf-4055-a2fc-f98113a8d03f"
      },
      "outputs": [
        {
          "output_type": "stream",
          "name": "stderr",
          "text": [
            "[nltk_data] Downloading package omw-1.4 to /root/nltk_data...\n",
            "[nltk_data]   Package omw-1.4 is already up-to-date!\n",
            "[nltk_data] Downloading package wordnet to /root/nltk_data...\n",
            "[nltk_data]   Package wordnet is already up-to-date!\n"
          ]
        },
        {
          "output_type": "execute_result",
          "data": {
            "text/plain": [
              "True"
            ]
          },
          "metadata": {},
          "execution_count": 430
        }
      ],
      "source": [
        "import nltk\n",
        "nltk.download('omw-1.4')\n",
        "nltk.download('wordnet')"
      ]
    },
    {
      "cell_type": "code",
      "execution_count": null,
      "metadata": {
        "colab": {
          "base_uri": "https://localhost:8080/"
        },
        "id": "oIgRPqzmKPWt",
        "outputId": "b0f4be96-3259-4a65-93f3-713eb110583d"
      },
      "outputs": [
        {
          "output_type": "stream",
          "name": "stdout",
          "text": [
            "Looking in indexes: https://pypi.org/simple, https://us-python.pkg.dev/colab-wheels/public/simple/\n",
            "Requirement already satisfied: bnlp_toolkit in /usr/local/lib/python3.7/dist-packages (3.1.2)\n",
            "Requirement already satisfied: gensim==4.0.1 in /usr/local/lib/python3.7/dist-packages (from bnlp_toolkit) (4.0.1)\n",
            "Requirement already satisfied: sentencepiece in /usr/local/lib/python3.7/dist-packages (from bnlp_toolkit) (0.1.97)\n",
            "Requirement already satisfied: numpy in /usr/local/lib/python3.7/dist-packages (from bnlp_toolkit) (1.21.6)\n",
            "Requirement already satisfied: sklearn-crfsuite in /usr/local/lib/python3.7/dist-packages (from bnlp_toolkit) (0.3.6)\n",
            "Requirement already satisfied: wasabi in /usr/local/lib/python3.7/dist-packages (from bnlp_toolkit) (0.10.1)\n",
            "Requirement already satisfied: nltk in /usr/local/lib/python3.7/dist-packages (from bnlp_toolkit) (3.7)\n",
            "Requirement already satisfied: scipy in /usr/local/lib/python3.7/dist-packages (from bnlp_toolkit) (1.7.3)\n",
            "Requirement already satisfied: smart-open>=1.8.1 in /usr/local/lib/python3.7/dist-packages (from gensim==4.0.1->bnlp_toolkit) (5.2.1)\n",
            "Requirement already satisfied: regex>=2021.8.3 in /usr/local/lib/python3.7/dist-packages (from nltk->bnlp_toolkit) (2022.6.2)\n",
            "Requirement already satisfied: click in /usr/local/lib/python3.7/dist-packages (from nltk->bnlp_toolkit) (7.1.2)\n",
            "Requirement already satisfied: tqdm in /usr/local/lib/python3.7/dist-packages (from nltk->bnlp_toolkit) (4.64.0)\n",
            "Requirement already satisfied: joblib in /usr/local/lib/python3.7/dist-packages (from nltk->bnlp_toolkit) (1.1.0)\n",
            "Requirement already satisfied: six in /usr/local/lib/python3.7/dist-packages (from sklearn-crfsuite->bnlp_toolkit) (1.15.0)\n",
            "Requirement already satisfied: tabulate in /usr/local/lib/python3.7/dist-packages (from sklearn-crfsuite->bnlp_toolkit) (0.8.10)\n",
            "Requirement already satisfied: python-crfsuite>=0.8.3 in /usr/local/lib/python3.7/dist-packages (from sklearn-crfsuite->bnlp_toolkit) (0.9.8)\n"
          ]
        }
      ],
      "source": [
        "!pip install bnlp_toolkit"
      ]
    },
    {
      "cell_type": "code",
      "execution_count": null,
      "metadata": {
        "colab": {
          "base_uri": "https://localhost:8080/",
          "height": 173
        },
        "id": "mzlpoQSiKQz-",
        "outputId": "ca34a24c-f271-40fb-ed5f-50a5b7b946b6"
      },
      "outputs": [
        {
          "output_type": "execute_result",
          "data": {
            "text/plain": [
              "                                                Text  Label  length  \\\n",
              "0  পিতা ছাড়া আত্মত্যাগ বড়ই দুঃখের। বারবার শুধু ...      1     126   \n",
              "1                            অসহ্য অনুভূতি ভয়ানক 😅👈      1      23   \n",
              "\n",
              "                                 Removed Puncutation  \\\n",
              "0  পিতা ছাড়া আত্মত্যাগ বড়ই দুঃখের বারবার শুধু ব...   \n",
              "1                               অসহ্য অনুভূতি ভয়ানক   \n",
              "\n",
              "                                          remove Eng  \\\n",
              "0  পিতা ছাড়া আত্মত্যাগ বড়ই দুঃখের বারবার শুধু ব...   \n",
              "1                               অসহ্য অনুভূতি ভয়ানক   \n",
              "\n",
              "                                Removed Stopped word  \n",
              "0  [পিতা, আত্মত্যাগ, বড়ই, দুঃখের, বারবার, বাবার,...  \n",
              "1                           [অসহ্য, অনুভূতি, ভয়ানক]  "
            ],
            "text/html": [
              "\n",
              "  <div id=\"df-2d9dce4a-5d3e-453c-ad85-abbdc6433ba5\">\n",
              "    <div class=\"colab-df-container\">\n",
              "      <div>\n",
              "<style scoped>\n",
              "    .dataframe tbody tr th:only-of-type {\n",
              "        vertical-align: middle;\n",
              "    }\n",
              "\n",
              "    .dataframe tbody tr th {\n",
              "        vertical-align: top;\n",
              "    }\n",
              "\n",
              "    .dataframe thead th {\n",
              "        text-align: right;\n",
              "    }\n",
              "</style>\n",
              "<table border=\"1\" class=\"dataframe\">\n",
              "  <thead>\n",
              "    <tr style=\"text-align: right;\">\n",
              "      <th></th>\n",
              "      <th>Text</th>\n",
              "      <th>Label</th>\n",
              "      <th>length</th>\n",
              "      <th>Removed Puncutation</th>\n",
              "      <th>remove Eng</th>\n",
              "      <th>Removed Stopped word</th>\n",
              "    </tr>\n",
              "  </thead>\n",
              "  <tbody>\n",
              "    <tr>\n",
              "      <th>0</th>\n",
              "      <td>পিতা ছাড়া আত্মত্যাগ বড়ই দুঃখের। বারবার শুধু ...</td>\n",
              "      <td>1</td>\n",
              "      <td>126</td>\n",
              "      <td>পিতা ছাড়া আত্মত্যাগ বড়ই দুঃখের বারবার শুধু ব...</td>\n",
              "      <td>পিতা ছাড়া আত্মত্যাগ বড়ই দুঃখের বারবার শুধু ব...</td>\n",
              "      <td>[পিতা, আত্মত্যাগ, বড়ই, দুঃখের, বারবার, বাবার,...</td>\n",
              "    </tr>\n",
              "    <tr>\n",
              "      <th>1</th>\n",
              "      <td>অসহ্য অনুভূতি ভয়ানক 😅👈</td>\n",
              "      <td>1</td>\n",
              "      <td>23</td>\n",
              "      <td>অসহ্য অনুভূতি ভয়ানক</td>\n",
              "      <td>অসহ্য অনুভূতি ভয়ানক</td>\n",
              "      <td>[অসহ্য, অনুভূতি, ভয়ানক]</td>\n",
              "    </tr>\n",
              "  </tbody>\n",
              "</table>\n",
              "</div>\n",
              "      <button class=\"colab-df-convert\" onclick=\"convertToInteractive('df-2d9dce4a-5d3e-453c-ad85-abbdc6433ba5')\"\n",
              "              title=\"Convert this dataframe to an interactive table.\"\n",
              "              style=\"display:none;\">\n",
              "        \n",
              "  <svg xmlns=\"http://www.w3.org/2000/svg\" height=\"24px\"viewBox=\"0 0 24 24\"\n",
              "       width=\"24px\">\n",
              "    <path d=\"M0 0h24v24H0V0z\" fill=\"none\"/>\n",
              "    <path d=\"M18.56 5.44l.94 2.06.94-2.06 2.06-.94-2.06-.94-.94-2.06-.94 2.06-2.06.94zm-11 1L8.5 8.5l.94-2.06 2.06-.94-2.06-.94L8.5 2.5l-.94 2.06-2.06.94zm10 10l.94 2.06.94-2.06 2.06-.94-2.06-.94-.94-2.06-.94 2.06-2.06.94z\"/><path d=\"M17.41 7.96l-1.37-1.37c-.4-.4-.92-.59-1.43-.59-.52 0-1.04.2-1.43.59L10.3 9.45l-7.72 7.72c-.78.78-.78 2.05 0 2.83L4 21.41c.39.39.9.59 1.41.59.51 0 1.02-.2 1.41-.59l7.78-7.78 2.81-2.81c.8-.78.8-2.07 0-2.86zM5.41 20L4 18.59l7.72-7.72 1.47 1.35L5.41 20z\"/>\n",
              "  </svg>\n",
              "      </button>\n",
              "      \n",
              "  <style>\n",
              "    .colab-df-container {\n",
              "      display:flex;\n",
              "      flex-wrap:wrap;\n",
              "      gap: 12px;\n",
              "    }\n",
              "\n",
              "    .colab-df-convert {\n",
              "      background-color: #E8F0FE;\n",
              "      border: none;\n",
              "      border-radius: 50%;\n",
              "      cursor: pointer;\n",
              "      display: none;\n",
              "      fill: #1967D2;\n",
              "      height: 32px;\n",
              "      padding: 0 0 0 0;\n",
              "      width: 32px;\n",
              "    }\n",
              "\n",
              "    .colab-df-convert:hover {\n",
              "      background-color: #E2EBFA;\n",
              "      box-shadow: 0px 1px 2px rgba(60, 64, 67, 0.3), 0px 1px 3px 1px rgba(60, 64, 67, 0.15);\n",
              "      fill: #174EA6;\n",
              "    }\n",
              "\n",
              "    [theme=dark] .colab-df-convert {\n",
              "      background-color: #3B4455;\n",
              "      fill: #D2E3FC;\n",
              "    }\n",
              "\n",
              "    [theme=dark] .colab-df-convert:hover {\n",
              "      background-color: #434B5C;\n",
              "      box-shadow: 0px 1px 3px 1px rgba(0, 0, 0, 0.15);\n",
              "      filter: drop-shadow(0px 1px 2px rgba(0, 0, 0, 0.3));\n",
              "      fill: #FFFFFF;\n",
              "    }\n",
              "  </style>\n",
              "\n",
              "      <script>\n",
              "        const buttonEl =\n",
              "          document.querySelector('#df-2d9dce4a-5d3e-453c-ad85-abbdc6433ba5 button.colab-df-convert');\n",
              "        buttonEl.style.display =\n",
              "          google.colab.kernel.accessAllowed ? 'block' : 'none';\n",
              "\n",
              "        async function convertToInteractive(key) {\n",
              "          const element = document.querySelector('#df-2d9dce4a-5d3e-453c-ad85-abbdc6433ba5');\n",
              "          const dataTable =\n",
              "            await google.colab.kernel.invokeFunction('convertToInteractive',\n",
              "                                                     [key], {});\n",
              "          if (!dataTable) return;\n",
              "\n",
              "          const docLinkHtml = 'Like what you see? Visit the ' +\n",
              "            '<a target=\"_blank\" href=https://colab.research.google.com/notebooks/data_table.ipynb>data table notebook</a>'\n",
              "            + ' to learn more about interactive tables.';\n",
              "          element.innerHTML = '';\n",
              "          dataTable['output_type'] = 'display_data';\n",
              "          await google.colab.output.renderOutput(dataTable, element);\n",
              "          const docLink = document.createElement('div');\n",
              "          docLink.innerHTML = docLinkHtml;\n",
              "          element.appendChild(docLink);\n",
              "        }\n",
              "      </script>\n",
              "    </div>\n",
              "  </div>\n",
              "  "
            ]
          },
          "metadata": {},
          "execution_count": 432
        }
      ],
      "source": [
        "from bnlp.corpus import stopwords\n",
        "from bnlp.corpus.util import remove_stopwords\n",
        "\n",
        "data['Removed Stopped word'] = data['remove Eng'].apply(lambda x: remove_stopwords(x,stopwords))\n",
        "data.head(2)"
      ]
    },
    {
      "cell_type": "markdown",
      "metadata": {
        "id": "2IPqDl03MFlS"
      },
      "source": [
        "### Removing Emojis"
      ]
    },
    {
      "cell_type": "code",
      "execution_count": null,
      "metadata": {
        "id": "pgRF4okyKVrf"
      },
      "outputs": [],
      "source": [
        "#remove emojis\n",
        "import string\n",
        "def remove_emoji(string):\n",
        "    emoji_pattern = re.compile(\n",
        "        \"[\"\n",
        "        u\"\\U0001F600-\\U0001F64F\" #emoticons\n",
        "        u\"\\U0001F300-\\U0001F5FF\" #symbols & pictographs\n",
        "        u\"\\U0001F680-\\U0001F6FF\" #transport & map symbols\n",
        "        u\"\\U0001F1E0-\\U0001F1FF\" #flags(ios)\n",
        "        u\"\\U00002702-\\U000027B0\"\n",
        "        u\"\\U000024C2-\\U0001F251\" \n",
        "        \"]+\",\n",
        "        flags=re.UNICODE, \n",
        "    )\n",
        "    return emoji_pattern.sub(r\"\",string)"
      ]
    },
    {
      "cell_type": "code",
      "execution_count": null,
      "metadata": {
        "id": "EgqoeaJGLlnE"
      },
      "outputs": [],
      "source": [
        "data['Removed Stopped word'] = data['Removed Stopped word'].astype(str)\n",
        "data['Removed Stopped word'] = data['Removed Stopped word'].apply(lambda x:remove_emoji(x))\n",
        "data.to_csv('output.csv',index=False, encoding='utf-8')"
      ]
    },
    {
      "cell_type": "code",
      "execution_count": null,
      "metadata": {
        "colab": {
          "base_uri": "https://localhost:8080/",
          "height": 173
        },
        "id": "e90G8WS6Lx1Q",
        "outputId": "c67247a1-d6ea-4d77-f649-b39d133f1423"
      },
      "outputs": [
        {
          "output_type": "execute_result",
          "data": {
            "text/plain": [
              "                                                Text  Label  length  \\\n",
              "0  পিতা ছাড়া আত্মত্যাগ বড়ই দুঃখের। বারবার শুধু ...      1     126   \n",
              "1                            অসহ্য অনুভূতি ভয়ানক 😅👈      1      23   \n",
              "\n",
              "                                 Removed Puncutation  \\\n",
              "0  পিতা ছাড়া আত্মত্যাগ বড়ই দুঃখের বারবার শুধু ব...   \n",
              "1                               অসহ্য অনুভূতি ভয়ানক   \n",
              "\n",
              "                                          remove Eng  \\\n",
              "0  পিতা ছাড়া আত্মত্যাগ বড়ই দুঃখের বারবার শুধু ব...   \n",
              "1                               অসহ্য অনুভূতি ভয়ানক   \n",
              "\n",
              "                                Removed Stopped word  \n",
              "0  ['পিতা', 'আত্মত্যাগ', 'বড়ই', 'দুঃখের', 'বারবা...  \n",
              "1                     ['অসহ্য', 'অনুভূতি', 'ভয়ানক']  "
            ],
            "text/html": [
              "\n",
              "  <div id=\"df-a9699055-d536-4b40-925c-f4381742d8e3\">\n",
              "    <div class=\"colab-df-container\">\n",
              "      <div>\n",
              "<style scoped>\n",
              "    .dataframe tbody tr th:only-of-type {\n",
              "        vertical-align: middle;\n",
              "    }\n",
              "\n",
              "    .dataframe tbody tr th {\n",
              "        vertical-align: top;\n",
              "    }\n",
              "\n",
              "    .dataframe thead th {\n",
              "        text-align: right;\n",
              "    }\n",
              "</style>\n",
              "<table border=\"1\" class=\"dataframe\">\n",
              "  <thead>\n",
              "    <tr style=\"text-align: right;\">\n",
              "      <th></th>\n",
              "      <th>Text</th>\n",
              "      <th>Label</th>\n",
              "      <th>length</th>\n",
              "      <th>Removed Puncutation</th>\n",
              "      <th>remove Eng</th>\n",
              "      <th>Removed Stopped word</th>\n",
              "    </tr>\n",
              "  </thead>\n",
              "  <tbody>\n",
              "    <tr>\n",
              "      <th>0</th>\n",
              "      <td>পিতা ছাড়া আত্মত্যাগ বড়ই দুঃখের। বারবার শুধু ...</td>\n",
              "      <td>1</td>\n",
              "      <td>126</td>\n",
              "      <td>পিতা ছাড়া আত্মত্যাগ বড়ই দুঃখের বারবার শুধু ব...</td>\n",
              "      <td>পিতা ছাড়া আত্মত্যাগ বড়ই দুঃখের বারবার শুধু ব...</td>\n",
              "      <td>['পিতা', 'আত্মত্যাগ', 'বড়ই', 'দুঃখের', 'বারবা...</td>\n",
              "    </tr>\n",
              "    <tr>\n",
              "      <th>1</th>\n",
              "      <td>অসহ্য অনুভূতি ভয়ানক 😅👈</td>\n",
              "      <td>1</td>\n",
              "      <td>23</td>\n",
              "      <td>অসহ্য অনুভূতি ভয়ানক</td>\n",
              "      <td>অসহ্য অনুভূতি ভয়ানক</td>\n",
              "      <td>['অসহ্য', 'অনুভূতি', 'ভয়ানক']</td>\n",
              "    </tr>\n",
              "  </tbody>\n",
              "</table>\n",
              "</div>\n",
              "      <button class=\"colab-df-convert\" onclick=\"convertToInteractive('df-a9699055-d536-4b40-925c-f4381742d8e3')\"\n",
              "              title=\"Convert this dataframe to an interactive table.\"\n",
              "              style=\"display:none;\">\n",
              "        \n",
              "  <svg xmlns=\"http://www.w3.org/2000/svg\" height=\"24px\"viewBox=\"0 0 24 24\"\n",
              "       width=\"24px\">\n",
              "    <path d=\"M0 0h24v24H0V0z\" fill=\"none\"/>\n",
              "    <path d=\"M18.56 5.44l.94 2.06.94-2.06 2.06-.94-2.06-.94-.94-2.06-.94 2.06-2.06.94zm-11 1L8.5 8.5l.94-2.06 2.06-.94-2.06-.94L8.5 2.5l-.94 2.06-2.06.94zm10 10l.94 2.06.94-2.06 2.06-.94-2.06-.94-.94-2.06-.94 2.06-2.06.94z\"/><path d=\"M17.41 7.96l-1.37-1.37c-.4-.4-.92-.59-1.43-.59-.52 0-1.04.2-1.43.59L10.3 9.45l-7.72 7.72c-.78.78-.78 2.05 0 2.83L4 21.41c.39.39.9.59 1.41.59.51 0 1.02-.2 1.41-.59l7.78-7.78 2.81-2.81c.8-.78.8-2.07 0-2.86zM5.41 20L4 18.59l7.72-7.72 1.47 1.35L5.41 20z\"/>\n",
              "  </svg>\n",
              "      </button>\n",
              "      \n",
              "  <style>\n",
              "    .colab-df-container {\n",
              "      display:flex;\n",
              "      flex-wrap:wrap;\n",
              "      gap: 12px;\n",
              "    }\n",
              "\n",
              "    .colab-df-convert {\n",
              "      background-color: #E8F0FE;\n",
              "      border: none;\n",
              "      border-radius: 50%;\n",
              "      cursor: pointer;\n",
              "      display: none;\n",
              "      fill: #1967D2;\n",
              "      height: 32px;\n",
              "      padding: 0 0 0 0;\n",
              "      width: 32px;\n",
              "    }\n",
              "\n",
              "    .colab-df-convert:hover {\n",
              "      background-color: #E2EBFA;\n",
              "      box-shadow: 0px 1px 2px rgba(60, 64, 67, 0.3), 0px 1px 3px 1px rgba(60, 64, 67, 0.15);\n",
              "      fill: #174EA6;\n",
              "    }\n",
              "\n",
              "    [theme=dark] .colab-df-convert {\n",
              "      background-color: #3B4455;\n",
              "      fill: #D2E3FC;\n",
              "    }\n",
              "\n",
              "    [theme=dark] .colab-df-convert:hover {\n",
              "      background-color: #434B5C;\n",
              "      box-shadow: 0px 1px 3px 1px rgba(0, 0, 0, 0.15);\n",
              "      filter: drop-shadow(0px 1px 2px rgba(0, 0, 0, 0.3));\n",
              "      fill: #FFFFFF;\n",
              "    }\n",
              "  </style>\n",
              "\n",
              "      <script>\n",
              "        const buttonEl =\n",
              "          document.querySelector('#df-a9699055-d536-4b40-925c-f4381742d8e3 button.colab-df-convert');\n",
              "        buttonEl.style.display =\n",
              "          google.colab.kernel.accessAllowed ? 'block' : 'none';\n",
              "\n",
              "        async function convertToInteractive(key) {\n",
              "          const element = document.querySelector('#df-a9699055-d536-4b40-925c-f4381742d8e3');\n",
              "          const dataTable =\n",
              "            await google.colab.kernel.invokeFunction('convertToInteractive',\n",
              "                                                     [key], {});\n",
              "          if (!dataTable) return;\n",
              "\n",
              "          const docLinkHtml = 'Like what you see? Visit the ' +\n",
              "            '<a target=\"_blank\" href=https://colab.research.google.com/notebooks/data_table.ipynb>data table notebook</a>'\n",
              "            + ' to learn more about interactive tables.';\n",
              "          element.innerHTML = '';\n",
              "          dataTable['output_type'] = 'display_data';\n",
              "          await google.colab.output.renderOutput(dataTable, element);\n",
              "          const docLink = document.createElement('div');\n",
              "          docLink.innerHTML = docLinkHtml;\n",
              "          element.appendChild(docLink);\n",
              "        }\n",
              "      </script>\n",
              "    </div>\n",
              "  </div>\n",
              "  "
            ]
          },
          "metadata": {},
          "execution_count": 437
        }
      ],
      "source": [
        "data.head(2)"
      ]
    },
    {
      "cell_type": "markdown",
      "metadata": {
        "id": "Sc42b2JA-3nO"
      },
      "source": [
        "### Tokenizer"
      ]
    },
    {
      "cell_type": "code",
      "execution_count": null,
      "metadata": {
        "colab": {
          "base_uri": "https://localhost:8080/"
        },
        "id": "bTZuXcQOPtcn",
        "outputId": "9b06bde9-d2c3-4ccd-ef5e-8ea2ba637ba4"
      },
      "outputs": [
        {
          "output_type": "stream",
          "name": "stdout",
          "text": [
            "Looking in indexes: https://pypi.org/simple, https://us-python.pkg.dev/colab-wheels/public/simple/\n",
            "Requirement already satisfied: bnltk in /usr/local/lib/python3.7/dist-packages (0.7.6)\n",
            "Requirement already satisfied: sklearn in /usr/local/lib/python3.7/dist-packages (from bnltk) (0.0)\n",
            "Requirement already satisfied: keras in /usr/local/lib/python3.7/dist-packages (from bnltk) (2.8.0)\n",
            "Requirement already satisfied: tensorflow in /usr/local/lib/python3.7/dist-packages (from bnltk) (2.8.2+zzzcolab20220719082949)\n",
            "Requirement already satisfied: numpy in /usr/local/lib/python3.7/dist-packages (from bnltk) (1.21.6)\n",
            "Requirement already satisfied: requests in /usr/local/lib/python3.7/dist-packages (from bnltk) (2.23.0)\n",
            "Requirement already satisfied: certifi>=2017.4.17 in /usr/local/lib/python3.7/dist-packages (from requests->bnltk) (2022.6.15)\n",
            "Requirement already satisfied: chardet<4,>=3.0.2 in /usr/local/lib/python3.7/dist-packages (from requests->bnltk) (3.0.4)\n",
            "Requirement already satisfied: idna<3,>=2.5 in /usr/local/lib/python3.7/dist-packages (from requests->bnltk) (2.10)\n",
            "Requirement already satisfied: urllib3!=1.25.0,!=1.25.1,<1.26,>=1.21.1 in /usr/local/lib/python3.7/dist-packages (from requests->bnltk) (1.24.3)\n",
            "Requirement already satisfied: scikit-learn in /usr/local/lib/python3.7/dist-packages (from sklearn->bnltk) (1.0.2)\n",
            "Requirement already satisfied: threadpoolctl>=2.0.0 in /usr/local/lib/python3.7/dist-packages (from scikit-learn->sklearn->bnltk) (3.1.0)\n",
            "Requirement already satisfied: scipy>=1.1.0 in /usr/local/lib/python3.7/dist-packages (from scikit-learn->sklearn->bnltk) (1.7.3)\n",
            "Requirement already satisfied: joblib>=0.11 in /usr/local/lib/python3.7/dist-packages (from scikit-learn->sklearn->bnltk) (1.1.0)\n",
            "Requirement already satisfied: h5py>=2.9.0 in /usr/local/lib/python3.7/dist-packages (from tensorflow->bnltk) (3.1.0)\n",
            "Requirement already satisfied: termcolor>=1.1.0 in /usr/local/lib/python3.7/dist-packages (from tensorflow->bnltk) (1.1.0)\n",
            "Requirement already satisfied: six>=1.12.0 in /usr/local/lib/python3.7/dist-packages (from tensorflow->bnltk) (1.15.0)\n",
            "Requirement already satisfied: google-pasta>=0.1.1 in /usr/local/lib/python3.7/dist-packages (from tensorflow->bnltk) (0.2.0)\n",
            "Requirement already satisfied: tensorflow-io-gcs-filesystem>=0.23.1 in /usr/local/lib/python3.7/dist-packages (from tensorflow->bnltk) (0.26.0)\n",
            "Requirement already satisfied: flatbuffers>=1.12 in /usr/local/lib/python3.7/dist-packages (from tensorflow->bnltk) (2.0)\n",
            "Requirement already satisfied: tensorboard<2.9,>=2.8 in /usr/local/lib/python3.7/dist-packages (from tensorflow->bnltk) (2.8.0)\n",
            "Requirement already satisfied: tensorflow-estimator<2.9,>=2.8 in /usr/local/lib/python3.7/dist-packages (from tensorflow->bnltk) (2.8.0)\n",
            "Requirement already satisfied: typing-extensions>=3.6.6 in /usr/local/lib/python3.7/dist-packages (from tensorflow->bnltk) (4.1.1)\n",
            "Requirement already satisfied: gast>=0.2.1 in /usr/local/lib/python3.7/dist-packages (from tensorflow->bnltk) (0.5.3)\n",
            "Requirement already satisfied: wrapt>=1.11.0 in /usr/local/lib/python3.7/dist-packages (from tensorflow->bnltk) (1.14.1)\n",
            "Requirement already satisfied: setuptools in /usr/local/lib/python3.7/dist-packages (from tensorflow->bnltk) (57.4.0)\n",
            "Requirement already satisfied: astunparse>=1.6.0 in /usr/local/lib/python3.7/dist-packages (from tensorflow->bnltk) (1.6.3)\n",
            "Requirement already satisfied: keras-preprocessing>=1.1.1 in /usr/local/lib/python3.7/dist-packages (from tensorflow->bnltk) (1.1.2)\n",
            "Requirement already satisfied: opt-einsum>=2.3.2 in /usr/local/lib/python3.7/dist-packages (from tensorflow->bnltk) (3.3.0)\n",
            "Requirement already satisfied: protobuf<3.20,>=3.9.2 in /usr/local/lib/python3.7/dist-packages (from tensorflow->bnltk) (3.17.3)\n",
            "Requirement already satisfied: absl-py>=0.4.0 in /usr/local/lib/python3.7/dist-packages (from tensorflow->bnltk) (1.2.0)\n",
            "Requirement already satisfied: grpcio<2.0,>=1.24.3 in /usr/local/lib/python3.7/dist-packages (from tensorflow->bnltk) (1.47.0)\n",
            "Requirement already satisfied: libclang>=9.0.1 in /usr/local/lib/python3.7/dist-packages (from tensorflow->bnltk) (14.0.6)\n",
            "Requirement already satisfied: wheel<1.0,>=0.23.0 in /usr/local/lib/python3.7/dist-packages (from astunparse>=1.6.0->tensorflow->bnltk) (0.37.1)\n",
            "Requirement already satisfied: cached-property in /usr/local/lib/python3.7/dist-packages (from h5py>=2.9.0->tensorflow->bnltk) (1.5.2)\n",
            "Requirement already satisfied: werkzeug>=0.11.15 in /usr/local/lib/python3.7/dist-packages (from tensorboard<2.9,>=2.8->tensorflow->bnltk) (1.0.1)\n",
            "Requirement already satisfied: markdown>=2.6.8 in /usr/local/lib/python3.7/dist-packages (from tensorboard<2.9,>=2.8->tensorflow->bnltk) (3.4.1)\n",
            "Requirement already satisfied: google-auth-oauthlib<0.5,>=0.4.1 in /usr/local/lib/python3.7/dist-packages (from tensorboard<2.9,>=2.8->tensorflow->bnltk) (0.4.6)\n",
            "Requirement already satisfied: google-auth<3,>=1.6.3 in /usr/local/lib/python3.7/dist-packages (from tensorboard<2.9,>=2.8->tensorflow->bnltk) (1.35.0)\n",
            "Requirement already satisfied: tensorboard-data-server<0.7.0,>=0.6.0 in /usr/local/lib/python3.7/dist-packages (from tensorboard<2.9,>=2.8->tensorflow->bnltk) (0.6.1)\n",
            "Requirement already satisfied: tensorboard-plugin-wit>=1.6.0 in /usr/local/lib/python3.7/dist-packages (from tensorboard<2.9,>=2.8->tensorflow->bnltk) (1.8.1)\n",
            "Requirement already satisfied: rsa<5,>=3.1.4 in /usr/local/lib/python3.7/dist-packages (from google-auth<3,>=1.6.3->tensorboard<2.9,>=2.8->tensorflow->bnltk) (4.9)\n",
            "Requirement already satisfied: cachetools<5.0,>=2.0.0 in /usr/local/lib/python3.7/dist-packages (from google-auth<3,>=1.6.3->tensorboard<2.9,>=2.8->tensorflow->bnltk) (4.2.4)\n",
            "Requirement already satisfied: pyasn1-modules>=0.2.1 in /usr/local/lib/python3.7/dist-packages (from google-auth<3,>=1.6.3->tensorboard<2.9,>=2.8->tensorflow->bnltk) (0.2.8)\n",
            "Requirement already satisfied: requests-oauthlib>=0.7.0 in /usr/local/lib/python3.7/dist-packages (from google-auth-oauthlib<0.5,>=0.4.1->tensorboard<2.9,>=2.8->tensorflow->bnltk) (1.3.1)\n",
            "Requirement already satisfied: importlib-metadata>=4.4 in /usr/local/lib/python3.7/dist-packages (from markdown>=2.6.8->tensorboard<2.9,>=2.8->tensorflow->bnltk) (4.12.0)\n",
            "Requirement already satisfied: zipp>=0.5 in /usr/local/lib/python3.7/dist-packages (from importlib-metadata>=4.4->markdown>=2.6.8->tensorboard<2.9,>=2.8->tensorflow->bnltk) (3.8.1)\n",
            "Requirement already satisfied: pyasn1<0.5.0,>=0.4.6 in /usr/local/lib/python3.7/dist-packages (from pyasn1-modules>=0.2.1->google-auth<3,>=1.6.3->tensorboard<2.9,>=2.8->tensorflow->bnltk) (0.4.8)\n",
            "Requirement already satisfied: oauthlib>=3.0.0 in /usr/local/lib/python3.7/dist-packages (from requests-oauthlib>=0.7.0->google-auth-oauthlib<0.5,>=0.4.1->tensorboard<2.9,>=2.8->tensorflow->bnltk) (3.2.0)\n"
          ]
        }
      ],
      "source": [
        "!pip install bnltk\n"
      ]
    },
    {
      "cell_type": "code",
      "execution_count": null,
      "metadata": {
        "id": "hhyHYUctQYlF"
      },
      "outputs": [],
      "source": [
        "from bnltk.tokenize import Tokenizers\n",
        "t = Tokenizers()\n",
        "#print(t.bn_word_tokenizer(' আমার সোনার বাংলা । '))\n",
        "\n",
        "data['tokenizer'] = data['Removed Stopped word'].apply(lambda x:t.bn_word_tokenizer(x))"
      ]
    },
    {
      "cell_type": "code",
      "execution_count": null,
      "metadata": {
        "colab": {
          "base_uri": "https://localhost:8080/"
        },
        "id": "cD1DxLf-Qt5L",
        "outputId": "d01aa91c-13bc-486a-e2b3-c186d8d288ab"
      },
      "outputs": [
        {
          "output_type": "execute_result",
          "data": {
            "text/plain": [
              "Index(['Text', 'Label', 'length', 'Removed Puncutation', 'remove Eng',\n",
              "       'Removed Stopped word', 'tokenizer'],\n",
              "      dtype='object')"
            ]
          },
          "metadata": {},
          "execution_count": 440
        }
      ],
      "source": [
        "data.columns"
      ]
    },
    {
      "cell_type": "code",
      "execution_count": null,
      "metadata": {
        "colab": {
          "base_uri": "https://localhost:8080/",
          "height": 191
        },
        "id": "Ef3bjNgeQv8m",
        "outputId": "72330680-bbb6-4f5a-e0a5-a0e550d01436"
      },
      "outputs": [
        {
          "output_type": "execute_result",
          "data": {
            "text/plain": [
              "                                                Text  Label  length  \\\n",
              "0  পিতা ছাড়া আত্মত্যাগ বড়ই দুঃখের। বারবার শুধু ...      1     126   \n",
              "1                            অসহ্য অনুভূতি ভয়ানক 😅👈      1      23   \n",
              "\n",
              "                                 Removed Puncutation  \\\n",
              "0  পিতা ছাড়া আত্মত্যাগ বড়ই দুঃখের বারবার শুধু ব...   \n",
              "1                               অসহ্য অনুভূতি ভয়ানক   \n",
              "\n",
              "                                          remove Eng  \\\n",
              "0  পিতা ছাড়া আত্মত্যাগ বড়ই দুঃখের বারবার শুধু ব...   \n",
              "1                               অসহ্য অনুভূতি ভয়ানক   \n",
              "\n",
              "                                Removed Stopped word  \\\n",
              "0  ['পিতা', 'আত্মত্যাগ', 'বড়ই', 'দুঃখের', 'বারবা...   \n",
              "1                     ['অসহ্য', 'অনুভূতি', 'ভয়ানক']   \n",
              "\n",
              "                                           tokenizer  \n",
              "0  [পিতা, আত্মত্যাগ, বড়ই, দুঃখের, বারবার, বাবার,...  \n",
              "1                           [অসহ্য, অনুভূতি, ভয়ানক]  "
            ],
            "text/html": [
              "\n",
              "  <div id=\"df-ae83f6b1-87bc-41cb-9ccd-c27fcc837c6f\">\n",
              "    <div class=\"colab-df-container\">\n",
              "      <div>\n",
              "<style scoped>\n",
              "    .dataframe tbody tr th:only-of-type {\n",
              "        vertical-align: middle;\n",
              "    }\n",
              "\n",
              "    .dataframe tbody tr th {\n",
              "        vertical-align: top;\n",
              "    }\n",
              "\n",
              "    .dataframe thead th {\n",
              "        text-align: right;\n",
              "    }\n",
              "</style>\n",
              "<table border=\"1\" class=\"dataframe\">\n",
              "  <thead>\n",
              "    <tr style=\"text-align: right;\">\n",
              "      <th></th>\n",
              "      <th>Text</th>\n",
              "      <th>Label</th>\n",
              "      <th>length</th>\n",
              "      <th>Removed Puncutation</th>\n",
              "      <th>remove Eng</th>\n",
              "      <th>Removed Stopped word</th>\n",
              "      <th>tokenizer</th>\n",
              "    </tr>\n",
              "  </thead>\n",
              "  <tbody>\n",
              "    <tr>\n",
              "      <th>0</th>\n",
              "      <td>পিতা ছাড়া আত্মত্যাগ বড়ই দুঃখের। বারবার শুধু ...</td>\n",
              "      <td>1</td>\n",
              "      <td>126</td>\n",
              "      <td>পিতা ছাড়া আত্মত্যাগ বড়ই দুঃখের বারবার শুধু ব...</td>\n",
              "      <td>পিতা ছাড়া আত্মত্যাগ বড়ই দুঃখের বারবার শুধু ব...</td>\n",
              "      <td>['পিতা', 'আত্মত্যাগ', 'বড়ই', 'দুঃখের', 'বারবা...</td>\n",
              "      <td>[পিতা, আত্মত্যাগ, বড়ই, দুঃখের, বারবার, বাবার,...</td>\n",
              "    </tr>\n",
              "    <tr>\n",
              "      <th>1</th>\n",
              "      <td>অসহ্য অনুভূতি ভয়ানক 😅👈</td>\n",
              "      <td>1</td>\n",
              "      <td>23</td>\n",
              "      <td>অসহ্য অনুভূতি ভয়ানক</td>\n",
              "      <td>অসহ্য অনুভূতি ভয়ানক</td>\n",
              "      <td>['অসহ্য', 'অনুভূতি', 'ভয়ানক']</td>\n",
              "      <td>[অসহ্য, অনুভূতি, ভয়ানক]</td>\n",
              "    </tr>\n",
              "  </tbody>\n",
              "</table>\n",
              "</div>\n",
              "      <button class=\"colab-df-convert\" onclick=\"convertToInteractive('df-ae83f6b1-87bc-41cb-9ccd-c27fcc837c6f')\"\n",
              "              title=\"Convert this dataframe to an interactive table.\"\n",
              "              style=\"display:none;\">\n",
              "        \n",
              "  <svg xmlns=\"http://www.w3.org/2000/svg\" height=\"24px\"viewBox=\"0 0 24 24\"\n",
              "       width=\"24px\">\n",
              "    <path d=\"M0 0h24v24H0V0z\" fill=\"none\"/>\n",
              "    <path d=\"M18.56 5.44l.94 2.06.94-2.06 2.06-.94-2.06-.94-.94-2.06-.94 2.06-2.06.94zm-11 1L8.5 8.5l.94-2.06 2.06-.94-2.06-.94L8.5 2.5l-.94 2.06-2.06.94zm10 10l.94 2.06.94-2.06 2.06-.94-2.06-.94-.94-2.06-.94 2.06-2.06.94z\"/><path d=\"M17.41 7.96l-1.37-1.37c-.4-.4-.92-.59-1.43-.59-.52 0-1.04.2-1.43.59L10.3 9.45l-7.72 7.72c-.78.78-.78 2.05 0 2.83L4 21.41c.39.39.9.59 1.41.59.51 0 1.02-.2 1.41-.59l7.78-7.78 2.81-2.81c.8-.78.8-2.07 0-2.86zM5.41 20L4 18.59l7.72-7.72 1.47 1.35L5.41 20z\"/>\n",
              "  </svg>\n",
              "      </button>\n",
              "      \n",
              "  <style>\n",
              "    .colab-df-container {\n",
              "      display:flex;\n",
              "      flex-wrap:wrap;\n",
              "      gap: 12px;\n",
              "    }\n",
              "\n",
              "    .colab-df-convert {\n",
              "      background-color: #E8F0FE;\n",
              "      border: none;\n",
              "      border-radius: 50%;\n",
              "      cursor: pointer;\n",
              "      display: none;\n",
              "      fill: #1967D2;\n",
              "      height: 32px;\n",
              "      padding: 0 0 0 0;\n",
              "      width: 32px;\n",
              "    }\n",
              "\n",
              "    .colab-df-convert:hover {\n",
              "      background-color: #E2EBFA;\n",
              "      box-shadow: 0px 1px 2px rgba(60, 64, 67, 0.3), 0px 1px 3px 1px rgba(60, 64, 67, 0.15);\n",
              "      fill: #174EA6;\n",
              "    }\n",
              "\n",
              "    [theme=dark] .colab-df-convert {\n",
              "      background-color: #3B4455;\n",
              "      fill: #D2E3FC;\n",
              "    }\n",
              "\n",
              "    [theme=dark] .colab-df-convert:hover {\n",
              "      background-color: #434B5C;\n",
              "      box-shadow: 0px 1px 3px 1px rgba(0, 0, 0, 0.15);\n",
              "      filter: drop-shadow(0px 1px 2px rgba(0, 0, 0, 0.3));\n",
              "      fill: #FFFFFF;\n",
              "    }\n",
              "  </style>\n",
              "\n",
              "      <script>\n",
              "        const buttonEl =\n",
              "          document.querySelector('#df-ae83f6b1-87bc-41cb-9ccd-c27fcc837c6f button.colab-df-convert');\n",
              "        buttonEl.style.display =\n",
              "          google.colab.kernel.accessAllowed ? 'block' : 'none';\n",
              "\n",
              "        async function convertToInteractive(key) {\n",
              "          const element = document.querySelector('#df-ae83f6b1-87bc-41cb-9ccd-c27fcc837c6f');\n",
              "          const dataTable =\n",
              "            await google.colab.kernel.invokeFunction('convertToInteractive',\n",
              "                                                     [key], {});\n",
              "          if (!dataTable) return;\n",
              "\n",
              "          const docLinkHtml = 'Like what you see? Visit the ' +\n",
              "            '<a target=\"_blank\" href=https://colab.research.google.com/notebooks/data_table.ipynb>data table notebook</a>'\n",
              "            + ' to learn more about interactive tables.';\n",
              "          element.innerHTML = '';\n",
              "          dataTable['output_type'] = 'display_data';\n",
              "          await google.colab.output.renderOutput(dataTable, element);\n",
              "          const docLink = document.createElement('div');\n",
              "          docLink.innerHTML = docLinkHtml;\n",
              "          element.appendChild(docLink);\n",
              "        }\n",
              "      </script>\n",
              "    </div>\n",
              "  </div>\n",
              "  "
            ]
          },
          "metadata": {},
          "execution_count": 441
        }
      ],
      "source": [
        "data.head(2)"
      ]
    },
    {
      "cell_type": "markdown",
      "metadata": {
        "id": "QxYeRkBKROtY"
      },
      "source": [
        "### Bangla-Stemmer"
      ]
    },
    {
      "cell_type": "code",
      "execution_count": null,
      "metadata": {
        "colab": {
          "base_uri": "https://localhost:8080/"
        },
        "id": "sdvpCBGcRyJG",
        "outputId": "7b352cbf-4f28-48b8-a679-47baec6646ed"
      },
      "outputs": [
        {
          "output_type": "stream",
          "name": "stdout",
          "text": [
            "Looking in indexes: https://pypi.org/simple, https://us-python.pkg.dev/colab-wheels/public/simple/\n",
            "Requirement already satisfied: bnlp_toolkit in /usr/local/lib/python3.7/dist-packages (3.1.2)\n",
            "Requirement already satisfied: sklearn-crfsuite in /usr/local/lib/python3.7/dist-packages (from bnlp_toolkit) (0.3.6)\n",
            "Requirement already satisfied: wasabi in /usr/local/lib/python3.7/dist-packages (from bnlp_toolkit) (0.10.1)\n",
            "Requirement already satisfied: scipy in /usr/local/lib/python3.7/dist-packages (from bnlp_toolkit) (1.7.3)\n",
            "Requirement already satisfied: gensim==4.0.1 in /usr/local/lib/python3.7/dist-packages (from bnlp_toolkit) (4.0.1)\n",
            "Requirement already satisfied: sentencepiece in /usr/local/lib/python3.7/dist-packages (from bnlp_toolkit) (0.1.97)\n",
            "Requirement already satisfied: nltk in /usr/local/lib/python3.7/dist-packages (from bnlp_toolkit) (3.7)\n",
            "Requirement already satisfied: numpy in /usr/local/lib/python3.7/dist-packages (from bnlp_toolkit) (1.21.6)\n",
            "Requirement already satisfied: smart-open>=1.8.1 in /usr/local/lib/python3.7/dist-packages (from gensim==4.0.1->bnlp_toolkit) (5.2.1)\n",
            "Requirement already satisfied: tqdm in /usr/local/lib/python3.7/dist-packages (from nltk->bnlp_toolkit) (4.64.0)\n",
            "Requirement already satisfied: click in /usr/local/lib/python3.7/dist-packages (from nltk->bnlp_toolkit) (7.1.2)\n",
            "Requirement already satisfied: joblib in /usr/local/lib/python3.7/dist-packages (from nltk->bnlp_toolkit) (1.1.0)\n",
            "Requirement already satisfied: regex>=2021.8.3 in /usr/local/lib/python3.7/dist-packages (from nltk->bnlp_toolkit) (2022.6.2)\n",
            "Requirement already satisfied: six in /usr/local/lib/python3.7/dist-packages (from sklearn-crfsuite->bnlp_toolkit) (1.15.0)\n",
            "Requirement already satisfied: python-crfsuite>=0.8.3 in /usr/local/lib/python3.7/dist-packages (from sklearn-crfsuite->bnlp_toolkit) (0.9.8)\n",
            "Requirement already satisfied: tabulate in /usr/local/lib/python3.7/dist-packages (from sklearn-crfsuite->bnlp_toolkit) (0.8.10)\n"
          ]
        }
      ],
      "source": [
        "!pip install bnlp_toolkit"
      ]
    },
    {
      "cell_type": "code",
      "execution_count": null,
      "metadata": {
        "colab": {
          "base_uri": "https://localhost:8080/"
        },
        "id": "XEy8qLocVIQT",
        "outputId": "31345214-510b-48c6-b1f1-d769a4aa5273"
      },
      "outputs": [
        {
          "output_type": "stream",
          "name": "stdout",
          "text": [
            "Looking in indexes: https://pypi.org/simple, https://us-python.pkg.dev/colab-wheels/public/simple/\n",
            "Requirement already satisfied: bnltk in /usr/local/lib/python3.7/dist-packages (0.7.6)\n",
            "Requirement already satisfied: numpy in /usr/local/lib/python3.7/dist-packages (from bnltk) (1.21.6)\n",
            "Requirement already satisfied: requests in /usr/local/lib/python3.7/dist-packages (from bnltk) (2.23.0)\n",
            "Requirement already satisfied: sklearn in /usr/local/lib/python3.7/dist-packages (from bnltk) (0.0)\n",
            "Requirement already satisfied: keras in /usr/local/lib/python3.7/dist-packages (from bnltk) (2.8.0)\n",
            "Requirement already satisfied: tensorflow in /usr/local/lib/python3.7/dist-packages (from bnltk) (2.8.2+zzzcolab20220719082949)\n",
            "Requirement already satisfied: urllib3!=1.25.0,!=1.25.1,<1.26,>=1.21.1 in /usr/local/lib/python3.7/dist-packages (from requests->bnltk) (1.24.3)\n",
            "Requirement already satisfied: idna<3,>=2.5 in /usr/local/lib/python3.7/dist-packages (from requests->bnltk) (2.10)\n",
            "Requirement already satisfied: chardet<4,>=3.0.2 in /usr/local/lib/python3.7/dist-packages (from requests->bnltk) (3.0.4)\n",
            "Requirement already satisfied: certifi>=2017.4.17 in /usr/local/lib/python3.7/dist-packages (from requests->bnltk) (2022.6.15)\n",
            "Requirement already satisfied: scikit-learn in /usr/local/lib/python3.7/dist-packages (from sklearn->bnltk) (1.0.2)\n",
            "Requirement already satisfied: threadpoolctl>=2.0.0 in /usr/local/lib/python3.7/dist-packages (from scikit-learn->sklearn->bnltk) (3.1.0)\n",
            "Requirement already satisfied: joblib>=0.11 in /usr/local/lib/python3.7/dist-packages (from scikit-learn->sklearn->bnltk) (1.1.0)\n",
            "Requirement already satisfied: scipy>=1.1.0 in /usr/local/lib/python3.7/dist-packages (from scikit-learn->sklearn->bnltk) (1.7.3)\n",
            "Requirement already satisfied: tensorflow-estimator<2.9,>=2.8 in /usr/local/lib/python3.7/dist-packages (from tensorflow->bnltk) (2.8.0)\n",
            "Requirement already satisfied: astunparse>=1.6.0 in /usr/local/lib/python3.7/dist-packages (from tensorflow->bnltk) (1.6.3)\n",
            "Requirement already satisfied: grpcio<2.0,>=1.24.3 in /usr/local/lib/python3.7/dist-packages (from tensorflow->bnltk) (1.47.0)\n",
            "Requirement already satisfied: setuptools in /usr/local/lib/python3.7/dist-packages (from tensorflow->bnltk) (57.4.0)\n",
            "Requirement already satisfied: opt-einsum>=2.3.2 in /usr/local/lib/python3.7/dist-packages (from tensorflow->bnltk) (3.3.0)\n",
            "Requirement already satisfied: tensorboard<2.9,>=2.8 in /usr/local/lib/python3.7/dist-packages (from tensorflow->bnltk) (2.8.0)\n",
            "Requirement already satisfied: gast>=0.2.1 in /usr/local/lib/python3.7/dist-packages (from tensorflow->bnltk) (0.5.3)\n",
            "Requirement already satisfied: h5py>=2.9.0 in /usr/local/lib/python3.7/dist-packages (from tensorflow->bnltk) (3.1.0)\n",
            "Requirement already satisfied: absl-py>=0.4.0 in /usr/local/lib/python3.7/dist-packages (from tensorflow->bnltk) (1.2.0)\n",
            "Requirement already satisfied: wrapt>=1.11.0 in /usr/local/lib/python3.7/dist-packages (from tensorflow->bnltk) (1.14.1)\n",
            "Requirement already satisfied: typing-extensions>=3.6.6 in /usr/local/lib/python3.7/dist-packages (from tensorflow->bnltk) (4.1.1)\n",
            "Requirement already satisfied: protobuf<3.20,>=3.9.2 in /usr/local/lib/python3.7/dist-packages (from tensorflow->bnltk) (3.17.3)\n",
            "Requirement already satisfied: keras-preprocessing>=1.1.1 in /usr/local/lib/python3.7/dist-packages (from tensorflow->bnltk) (1.1.2)\n",
            "Requirement already satisfied: six>=1.12.0 in /usr/local/lib/python3.7/dist-packages (from tensorflow->bnltk) (1.15.0)\n",
            "Requirement already satisfied: termcolor>=1.1.0 in /usr/local/lib/python3.7/dist-packages (from tensorflow->bnltk) (1.1.0)\n",
            "Requirement already satisfied: tensorflow-io-gcs-filesystem>=0.23.1 in /usr/local/lib/python3.7/dist-packages (from tensorflow->bnltk) (0.26.0)\n",
            "Requirement already satisfied: libclang>=9.0.1 in /usr/local/lib/python3.7/dist-packages (from tensorflow->bnltk) (14.0.6)\n",
            "Requirement already satisfied: flatbuffers>=1.12 in /usr/local/lib/python3.7/dist-packages (from tensorflow->bnltk) (2.0)\n",
            "Requirement already satisfied: google-pasta>=0.1.1 in /usr/local/lib/python3.7/dist-packages (from tensorflow->bnltk) (0.2.0)\n",
            "Requirement already satisfied: wheel<1.0,>=0.23.0 in /usr/local/lib/python3.7/dist-packages (from astunparse>=1.6.0->tensorflow->bnltk) (0.37.1)\n",
            "Requirement already satisfied: cached-property in /usr/local/lib/python3.7/dist-packages (from h5py>=2.9.0->tensorflow->bnltk) (1.5.2)\n",
            "Requirement already satisfied: werkzeug>=0.11.15 in /usr/local/lib/python3.7/dist-packages (from tensorboard<2.9,>=2.8->tensorflow->bnltk) (1.0.1)\n",
            "Requirement already satisfied: google-auth-oauthlib<0.5,>=0.4.1 in /usr/local/lib/python3.7/dist-packages (from tensorboard<2.9,>=2.8->tensorflow->bnltk) (0.4.6)\n",
            "Requirement already satisfied: tensorboard-data-server<0.7.0,>=0.6.0 in /usr/local/lib/python3.7/dist-packages (from tensorboard<2.9,>=2.8->tensorflow->bnltk) (0.6.1)\n",
            "Requirement already satisfied: tensorboard-plugin-wit>=1.6.0 in /usr/local/lib/python3.7/dist-packages (from tensorboard<2.9,>=2.8->tensorflow->bnltk) (1.8.1)\n",
            "Requirement already satisfied: google-auth<3,>=1.6.3 in /usr/local/lib/python3.7/dist-packages (from tensorboard<2.9,>=2.8->tensorflow->bnltk) (1.35.0)\n",
            "Requirement already satisfied: markdown>=2.6.8 in /usr/local/lib/python3.7/dist-packages (from tensorboard<2.9,>=2.8->tensorflow->bnltk) (3.4.1)\n",
            "Requirement already satisfied: cachetools<5.0,>=2.0.0 in /usr/local/lib/python3.7/dist-packages (from google-auth<3,>=1.6.3->tensorboard<2.9,>=2.8->tensorflow->bnltk) (4.2.4)\n",
            "Requirement already satisfied: rsa<5,>=3.1.4 in /usr/local/lib/python3.7/dist-packages (from google-auth<3,>=1.6.3->tensorboard<2.9,>=2.8->tensorflow->bnltk) (4.9)\n",
            "Requirement already satisfied: pyasn1-modules>=0.2.1 in /usr/local/lib/python3.7/dist-packages (from google-auth<3,>=1.6.3->tensorboard<2.9,>=2.8->tensorflow->bnltk) (0.2.8)\n",
            "Requirement already satisfied: requests-oauthlib>=0.7.0 in /usr/local/lib/python3.7/dist-packages (from google-auth-oauthlib<0.5,>=0.4.1->tensorboard<2.9,>=2.8->tensorflow->bnltk) (1.3.1)\n",
            "Requirement already satisfied: importlib-metadata>=4.4 in /usr/local/lib/python3.7/dist-packages (from markdown>=2.6.8->tensorboard<2.9,>=2.8->tensorflow->bnltk) (4.12.0)\n",
            "Requirement already satisfied: zipp>=0.5 in /usr/local/lib/python3.7/dist-packages (from importlib-metadata>=4.4->markdown>=2.6.8->tensorboard<2.9,>=2.8->tensorflow->bnltk) (3.8.1)\n",
            "Requirement already satisfied: pyasn1<0.5.0,>=0.4.6 in /usr/local/lib/python3.7/dist-packages (from pyasn1-modules>=0.2.1->google-auth<3,>=1.6.3->tensorboard<2.9,>=2.8->tensorflow->bnltk) (0.4.8)\n",
            "Requirement already satisfied: oauthlib>=3.0.0 in /usr/local/lib/python3.7/dist-packages (from requests-oauthlib>=0.7.0->google-auth-oauthlib<0.5,>=0.4.1->tensorboard<2.9,>=2.8->tensorflow->bnltk) (3.2.0)\n"
          ]
        }
      ],
      "source": [
        "!pip install bnltk"
      ]
    },
    {
      "cell_type": "code",
      "execution_count": null,
      "metadata": {
        "colab": {
          "base_uri": "https://localhost:8080/"
        },
        "id": "LI3-NqmFSile",
        "outputId": "59a183b0-24af-4c02-8599-ef412e266e38"
      },
      "outputs": [
        {
          "output_type": "stream",
          "name": "stdout",
          "text": [
            "Looking in indexes: https://pypi.org/simple, https://us-python.pkg.dev/colab-wheels/public/simple/\n",
            "Requirement already satisfied: bangla-stemmer in /usr/local/lib/python3.7/dist-packages (1.0)\n"
          ]
        }
      ],
      "source": [
        "!pip install bangla-stemmer"
      ]
    },
    {
      "cell_type": "code",
      "execution_count": null,
      "metadata": {
        "colab": {
          "base_uri": "https://localhost:8080/"
        },
        "id": "YlfaAPyoSn-n",
        "outputId": "958aee6a-e0e2-498b-e40f-070da120cf8a"
      },
      "outputs": [
        {
          "output_type": "stream",
          "name": "stdout",
          "text": [
            "applied first rules..\n",
            "applied fourth rules..\n",
            "['পিতা', 'আত্মত্যাগ', 'বড়', 'দুঃখ']\n"
          ]
        }
      ],
      "source": [
        "from bangla_stemmer.stemmer import stemmer\n",
        "wordlist = ['পিতা', 'আত্মত্যাগ', 'বড়ই', 'দুঃখের']\n",
        "stmr = stemmer.BanglaStemmer()\n",
        "stm = stmr.stem(wordlist)\n",
        "print(stm)"
      ]
    },
    {
      "cell_type": "code",
      "execution_count": null,
      "metadata": {
        "id": "OuBz4F1wSsyO"
      },
      "outputs": [],
      "source": [
        "from bangla_stemmer.stemmer import stemmer\n",
        "stmr = stemmer.BanglaStemmer()\n"
      ]
    },
    {
      "cell_type": "code",
      "execution_count": null,
      "metadata": {
        "colab": {
          "base_uri": "https://localhost:8080/"
        },
        "id": "NzEBQiNESwcD",
        "outputId": "83952281-03fc-498b-8845-655a5bbf37d2"
      },
      "outputs": [
        {
          "output_type": "stream",
          "name": "stdout",
          "text": [
            "applied first rules..\n",
            "applied fourth rules..\n",
            "applied fourth rules..\n",
            "applied fourth rules..\n",
            "applied first rules..\n",
            "applied first rules..\n",
            "applied first rules..\n",
            "applied fourth rules..\n",
            "applied fourth rules..\n",
            "applied first rules..\n",
            "applied fourth rules..\n",
            "applied first rules..\n",
            "applied first rules..\n",
            "applied first rules..\n",
            "applied first rules..\n",
            "applied second rules..\n",
            "applied fourth rules..\n",
            "applied first rules..\n",
            "applied second rules..\n",
            "applied first rules..\n",
            "applied first rules..\n",
            "applied fourth rules..\n",
            "applied fourth rules..\n",
            "applied fourth rules..\n",
            "applied first rules..\n",
            "applied fourth rules..\n",
            "applied first rules..\n",
            "applied fourth rules..\n",
            "applied first rules..\n",
            "applied second rules..\n",
            "applied fourth rules..\n",
            "applied first rules..\n",
            "applied fourth rules..\n",
            "applied fourth rules..\n",
            "applied first rules..\n",
            "applied first rules..\n",
            "applied fourth rules..\n",
            "applied second rules..\n",
            "applied second rules..\n",
            "applied second rules..\n",
            "applied fourth rules..\n",
            "applied first rules..\n",
            "applied first rules..\n",
            "applied first rules..\n",
            "applied first rules..\n",
            "applied fourth rules..\n",
            "applied fourth rules..\n",
            "applied second rules..\n",
            "applied fourth rules..\n",
            "applied fourth rules..\n",
            "applied first rules..\n",
            "applied second rules..\n",
            "applied fourth rules..\n",
            "applied fourth rules..\n",
            "applied first rules..\n",
            "applied fourth rules..\n",
            "applied fourth rules..\n",
            "applied first rules..\n",
            "applied fourth rules..\n",
            "applied fourth rules..\n",
            "applied first rules..\n",
            "applied first rules..\n",
            "applied first rules..\n",
            "applied fourth rules..\n",
            "applied fourth rules..\n",
            "applied fourth rules..\n",
            "applied second rules..\n",
            "applied fourth rules..\n",
            "applied fourth rules..\n",
            "applied fourth rules..\n",
            "applied second rules..\n",
            "applied fourth rules..\n",
            "applied first rules..\n",
            "applied second rules..\n",
            "applied fourth rules..\n",
            "applied fourth rules..\n",
            "applied second rules..\n",
            "applied first rules..\n",
            "applied first rules..\n",
            "applied first rules..\n",
            "applied fourth rules..\n",
            "applied fourth rules..\n",
            "applied first rules..\n",
            "applied first rules..\n",
            "applied fourth rules..\n",
            "applied fourth rules..\n",
            "applied fourth rules..\n",
            "applied fourth rules..\n",
            "applied second rules..\n",
            "applied first rules..\n",
            "applied fourth rules..\n",
            "applied first rules..\n",
            "applied first rules..\n",
            "applied fourth rules..\n",
            "applied fourth rules..\n",
            "applied fourth rules..\n",
            "applied first rules..\n",
            "applied first rules..\n",
            "applied fourth rules..\n",
            "applied first rules..\n",
            "applied first rules..\n",
            "applied fourth rules..\n",
            "applied fourth rules..\n",
            "applied fourth rules..\n",
            "applied second rules..\n",
            "applied fourth rules..\n",
            "applied fourth rules..\n",
            "applied first rules..\n",
            "applied fourth rules..\n",
            "applied first rules..\n",
            "applied fourth rules..\n",
            "applied third rules..\n",
            "applied fourth rules..\n",
            "applied fourth rules..\n",
            "applied fourth rules..\n",
            "applied fourth rules..\n",
            "applied first rules..\n",
            "applied fourth rules..\n",
            "applied fourth rules..\n",
            "applied first rules..\n",
            "applied first rules..\n",
            "applied fourth rules..\n",
            "applied first rules..\n",
            "applied fourth rules..\n",
            "applied first rules..\n",
            "applied fourth rules..\n",
            "applied first rules..\n",
            "applied fourth rules..\n",
            "applied fourth rules..\n",
            "applied fourth rules..\n",
            "applied fourth rules..\n",
            "applied fourth rules..\n",
            "applied fourth rules..\n",
            "applied fourth rules..\n",
            "applied first rules..\n",
            "applied first rules..\n",
            "applied fourth rules..\n",
            "applied second rules..\n",
            "applied first rules..\n",
            "applied third rules..\n",
            "applied first rules..\n",
            "applied first rules..\n",
            "applied fourth rules..\n",
            "applied third rules..\n",
            "applied first rules..\n",
            "applied fourth rules..\n",
            "applied fourth rules..\n",
            "applied first rules..\n",
            "applied first rules..\n",
            "applied second rules..\n",
            "applied fourth rules..\n",
            "applied second rules..\n",
            "applied fourth rules..\n",
            "applied second rules..\n",
            "applied fourth rules..\n",
            "applied fourth rules..\n",
            "applied first rules..\n",
            "applied fourth rules..\n",
            "applied fourth rules..\n",
            "applied second rules..\n",
            "applied fourth rules..\n",
            "applied fourth rules..\n",
            "applied fourth rules..\n",
            "applied fourth rules..\n",
            "applied first rules..\n",
            "applied fourth rules..\n",
            "applied first rules..\n",
            "applied fourth rules..\n",
            "applied fourth rules..\n",
            "applied first rules..\n",
            "applied second rules..\n",
            "applied fourth rules..\n",
            "applied fourth rules..\n",
            "applied fourth rules..\n",
            "applied fourth rules..\n",
            "applied fourth rules..\n",
            "applied fourth rules..\n",
            "applied first rules..\n",
            "applied fourth rules..\n",
            "applied fourth rules..\n",
            "applied second rules..\n",
            "applied fourth rules..\n",
            "applied first rules..\n",
            "applied first rules..\n",
            "applied fourth rules..\n",
            "applied first rules..\n",
            "applied second rules..\n",
            "applied third rules..\n",
            "applied fourth rules..\n",
            "applied fourth rules..\n",
            "applied fourth rules..\n",
            "applied first rules..\n",
            "applied fourth rules..\n",
            "applied first rules..\n",
            "applied first rules..\n",
            "applied first rules..\n",
            "applied fourth rules..\n",
            "applied fourth rules..\n",
            "applied first rules..\n",
            "applied fourth rules..\n",
            "applied first rules..\n",
            "applied first rules..\n",
            "applied fourth rules..\n",
            "applied fourth rules..\n",
            "applied fourth rules..\n",
            "applied fourth rules..\n",
            "applied second rules..\n",
            "applied fourth rules..\n",
            "applied third rules..\n",
            "applied second rules..\n",
            "applied second rules..\n",
            "applied fourth rules..\n",
            "applied second rules..\n",
            "applied fourth rules..\n",
            "applied second rules..\n",
            "applied fourth rules..\n",
            "applied first rules..\n",
            "applied fourth rules..\n",
            "applied fourth rules..\n",
            "applied first rules..\n",
            "applied fourth rules..\n",
            "applied fourth rules..\n",
            "applied first rules..\n",
            "applied first rules..\n",
            "applied fourth rules..\n",
            "applied first rules..\n",
            "applied first rules..\n",
            "applied first rules..\n",
            "applied first rules..\n",
            "applied fourth rules..\n",
            "applied first rules..\n",
            "applied first rules..\n",
            "applied fourth rules..\n",
            "applied first rules..\n",
            "applied second rules..\n",
            "applied fourth rules..\n",
            "applied first rules..\n",
            "applied second rules..\n",
            "applied fourth rules..\n",
            "applied first rules..\n",
            "applied fourth rules..\n",
            "applied first rules..\n",
            "applied fourth rules..\n",
            "applied first rules..\n",
            "applied second rules..\n",
            "applied first rules..\n",
            "applied first rules..\n",
            "applied first rules..\n",
            "applied second rules..\n",
            "applied first rules..\n",
            "applied fourth rules..\n",
            "applied fourth rules..\n",
            "applied first rules..\n",
            "applied first rules..\n",
            "applied fourth rules..\n",
            "applied fourth rules..\n",
            "applied second rules..\n",
            "applied fourth rules..\n",
            "applied first rules..\n",
            "applied fourth rules..\n",
            "applied first rules..\n",
            "applied second rules..\n",
            "applied fourth rules..\n",
            "applied first rules..\n",
            "applied fourth rules..\n",
            "applied fourth rules..\n",
            "applied fourth rules..\n",
            "applied first rules..\n",
            "applied fourth rules..\n",
            "applied first rules..\n",
            "applied fourth rules..\n",
            "applied third rules..\n",
            "applied fourth rules..\n",
            "applied first rules..\n",
            "applied fourth rules..\n",
            "applied first rules..\n",
            "applied first rules..\n",
            "applied first rules..\n",
            "applied first rules..\n",
            "applied fourth rules..\n",
            "applied second rules..\n",
            "applied fourth rules..\n",
            "applied second rules..\n",
            "applied fourth rules..\n",
            "applied first rules..\n",
            "applied fourth rules..\n",
            "applied first rules..\n",
            "applied fourth rules..\n",
            "applied second rules..\n",
            "applied fourth rules..\n",
            "applied second rules..\n",
            "applied fourth rules..\n",
            "applied fourth rules..\n",
            "applied first rules..\n",
            "applied second rules..\n",
            "applied fourth rules..\n",
            "applied fourth rules..\n",
            "applied second rules..\n",
            "applied fourth rules..\n",
            "applied first rules..\n",
            "applied first rules..\n",
            "applied first rules..\n",
            "applied third rules..\n",
            "applied fourth rules..\n",
            "applied fourth rules..\n",
            "applied fourth rules..\n",
            "applied first rules..\n",
            "applied second rules..\n",
            "applied fourth rules..\n",
            "applied fourth rules..\n",
            "applied fourth rules..\n",
            "applied first rules..\n",
            "applied fourth rules..\n",
            "applied fourth rules..\n",
            "applied first rules..\n",
            "applied first rules..\n",
            "applied third rules..\n",
            "applied second rules..\n",
            "applied second rules..\n",
            "applied first rules..\n",
            "applied fourth rules..\n",
            "applied first rules..\n",
            "applied second rules..\n",
            "applied fourth rules..\n",
            "applied second rules..\n",
            "applied third rules..\n",
            "applied first rules..\n",
            "applied fourth rules..\n",
            "applied fourth rules..\n",
            "applied first rules..\n",
            "applied first rules..\n",
            "applied first rules..\n",
            "applied first rules..\n",
            "applied first rules..\n",
            "applied first rules..\n",
            "applied fourth rules..\n",
            "applied fourth rules..\n",
            "applied second rules..\n",
            "applied fourth rules..\n",
            "applied second rules..\n",
            "applied fourth rules..\n",
            "applied second rules..\n",
            "applied fourth rules..\n",
            "applied third rules..\n",
            "applied fourth rules..\n",
            "applied fourth rules..\n",
            "applied first rules..\n",
            "applied fourth rules..\n",
            "applied first rules..\n",
            "applied first rules..\n",
            "applied third rules..\n",
            "applied first rules..\n",
            "applied second rules..\n",
            "applied fourth rules..\n",
            "applied first rules..\n",
            "applied first rules..\n",
            "applied third rules..\n",
            "applied first rules..\n",
            "applied fourth rules..\n",
            "applied fourth rules..\n",
            "applied first rules..\n",
            "applied fourth rules..\n",
            "applied third rules..\n",
            "applied first rules..\n",
            "applied second rules..\n",
            "applied second rules..\n",
            "applied first rules..\n",
            "applied first rules..\n",
            "applied first rules..\n",
            "applied fourth rules..\n",
            "applied first rules..\n",
            "applied fourth rules..\n",
            "applied first rules..\n",
            "applied first rules..\n",
            "applied fourth rules..\n",
            "applied first rules..\n",
            "applied fourth rules..\n",
            "applied fourth rules..\n",
            "applied fourth rules..\n",
            "applied fourth rules..\n",
            "applied fourth rules..\n",
            "applied first rules..\n",
            "applied fourth rules..\n",
            "applied first rules..\n",
            "applied fourth rules..\n",
            "applied fourth rules..\n",
            "applied first rules..\n",
            "applied first rules..\n",
            "applied fourth rules..\n",
            "applied first rules..\n",
            "applied first rules..\n",
            "applied fourth rules..\n",
            "applied first rules..\n",
            "applied first rules..\n",
            "applied fourth rules..\n",
            "applied first rules..\n",
            "applied fourth rules..\n",
            "applied fourth rules..\n",
            "applied fourth rules..\n",
            "applied first rules..\n",
            "applied fourth rules..\n",
            "applied second rules..\n",
            "applied first rules..\n",
            "applied first rules..\n",
            "applied fourth rules..\n",
            "applied second rules..\n",
            "applied fourth rules..\n",
            "applied first rules..\n",
            "applied fourth rules..\n",
            "applied first rules..\n",
            "applied fourth rules..\n",
            "applied first rules..\n",
            "applied third rules..\n",
            "applied first rules..\n",
            "applied first rules..\n",
            "applied first rules..\n",
            "applied first rules..\n",
            "applied third rules..\n",
            "applied fourth rules..\n",
            "applied first rules..\n",
            "applied second rules..\n",
            "applied fourth rules..\n",
            "applied first rules..\n",
            "applied first rules..\n",
            "applied fourth rules..\n",
            "applied second rules..\n",
            "applied fourth rules..\n",
            "applied fourth rules..\n",
            "applied fourth rules..\n",
            "applied fourth rules..\n",
            "applied first rules..\n",
            "applied fourth rules..\n",
            "applied fourth rules..\n",
            "applied second rules..\n",
            "applied fourth rules..\n",
            "applied second rules..\n",
            "applied first rules..\n",
            "applied first rules..\n",
            "applied fourth rules..\n",
            "applied second rules..\n",
            "applied fourth rules..\n",
            "applied second rules..\n",
            "applied fourth rules..\n",
            "applied second rules..\n",
            "applied fourth rules..\n",
            "applied second rules..\n",
            "applied first rules..\n",
            "applied second rules..\n",
            "applied fourth rules..\n",
            "applied second rules..\n",
            "applied fourth rules..\n",
            "applied first rules..\n",
            "applied first rules..\n",
            "applied first rules..\n",
            "applied second rules..\n",
            "applied first rules..\n",
            "applied first rules..\n",
            "applied fourth rules..\n",
            "applied second rules..\n",
            "applied second rules..\n",
            "applied fourth rules..\n",
            "applied fourth rules..\n",
            "applied fourth rules..\n",
            "applied second rules..\n",
            "applied fourth rules..\n",
            "applied first rules..\n",
            "applied fourth rules..\n",
            "applied fourth rules..\n",
            "applied first rules..\n",
            "applied second rules..\n",
            "applied fourth rules..\n",
            "applied first rules..\n",
            "applied second rules..\n",
            "applied fourth rules..\n",
            "applied first rules..\n",
            "applied second rules..\n",
            "applied fourth rules..\n",
            "applied second rules..\n",
            "applied fourth rules..\n",
            "applied second rules..\n",
            "applied fourth rules..\n",
            "applied first rules..\n",
            "applied second rules..\n",
            "applied first rules..\n",
            "applied fourth rules..\n",
            "applied first rules..\n",
            "applied first rules..\n",
            "applied second rules..\n",
            "applied fourth rules..\n",
            "applied first rules..\n",
            "applied first rules..\n",
            "applied fourth rules..\n",
            "applied second rules..\n",
            "applied fourth rules..\n",
            "applied first rules..\n",
            "applied second rules..\n",
            "applied fourth rules..\n",
            "applied fourth rules..\n",
            "applied fourth rules..\n",
            "applied first rules..\n",
            "applied fourth rules..\n",
            "applied first rules..\n",
            "applied first rules..\n",
            "applied fourth rules..\n",
            "applied fourth rules..\n",
            "applied first rules..\n",
            "applied first rules..\n",
            "applied fourth rules..\n",
            "applied fourth rules..\n",
            "applied first rules..\n",
            "applied fourth rules..\n",
            "applied first rules..\n",
            "applied third rules..\n",
            "applied first rules..\n",
            "applied second rules..\n",
            "applied first rules..\n",
            "applied fourth rules..\n",
            "applied first rules..\n",
            "applied first rules..\n",
            "applied fourth rules..\n",
            "applied first rules..\n",
            "applied second rules..\n",
            "applied first rules..\n",
            "applied second rules..\n",
            "applied second rules..\n",
            "applied second rules..\n",
            "applied second rules..\n",
            "applied second rules..\n",
            "applied first rules..\n",
            "applied third rules..\n",
            "applied first rules..\n",
            "applied fourth rules..\n",
            "applied second rules..\n",
            "applied first rules..\n",
            "applied second rules..\n",
            "applied fourth rules..\n",
            "applied fourth rules..\n",
            "applied second rules..\n",
            "applied fourth rules..\n",
            "applied second rules..\n",
            "applied first rules..\n",
            "applied third rules..\n",
            "applied second rules..\n",
            "applied fourth rules..\n",
            "applied second rules..\n",
            "applied fourth rules..\n",
            "applied second rules..\n",
            "applied fourth rules..\n",
            "applied fourth rules..\n",
            "applied fourth rules..\n",
            "applied second rules..\n",
            "applied fourth rules..\n",
            "applied fourth rules..\n",
            "applied first rules..\n",
            "applied first rules..\n",
            "applied second rules..\n",
            "applied fourth rules..\n",
            "applied first rules..\n",
            "applied first rules..\n",
            "applied second rules..\n",
            "applied fourth rules..\n",
            "applied first rules..\n",
            "applied fourth rules..\n",
            "applied first rules..\n",
            "applied second rules..\n",
            "applied first rules..\n",
            "applied second rules..\n",
            "applied second rules..\n",
            "applied first rules..\n",
            "applied second rules..\n",
            "applied first rules..\n",
            "applied fourth rules..\n",
            "applied second rules..\n",
            "applied first rules..\n",
            "applied fourth rules..\n",
            "applied first rules..\n",
            "applied first rules..\n",
            "applied first rules..\n",
            "applied fourth rules..\n",
            "applied fourth rules..\n",
            "applied first rules..\n",
            "applied second rules..\n",
            "applied first rules..\n",
            "applied second rules..\n",
            "applied fourth rules..\n",
            "applied second rules..\n",
            "applied fourth rules..\n",
            "applied first rules..\n",
            "applied fourth rules..\n",
            "applied second rules..\n",
            "applied second rules..\n",
            "applied fourth rules..\n",
            "applied first rules..\n",
            "applied second rules..\n",
            "applied fourth rules..\n",
            "applied first rules..\n",
            "applied second rules..\n",
            "applied second rules..\n",
            "applied fourth rules..\n",
            "applied second rules..\n",
            "applied fourth rules..\n",
            "applied fourth rules..\n",
            "applied second rules..\n",
            "applied first rules..\n",
            "applied fourth rules..\n",
            "applied first rules..\n",
            "applied second rules..\n",
            "applied first rules..\n",
            "applied first rules..\n",
            "applied fourth rules..\n",
            "applied fourth rules..\n",
            "applied fourth rules..\n",
            "applied second rules..\n",
            "applied fourth rules..\n",
            "applied first rules..\n",
            "applied second rules..\n",
            "applied first rules..\n",
            "applied first rules..\n",
            "applied second rules..\n",
            "applied first rules..\n",
            "applied fourth rules..\n",
            "applied first rules..\n",
            "applied second rules..\n",
            "applied first rules..\n",
            "applied fourth rules..\n",
            "applied first rules..\n",
            "applied fourth rules..\n",
            "applied fourth rules..\n",
            "applied first rules..\n",
            "applied fourth rules..\n",
            "applied first rules..\n",
            "applied fourth rules..\n",
            "applied fourth rules..\n",
            "applied first rules..\n",
            "applied fourth rules..\n",
            "applied fourth rules..\n",
            "applied second rules..\n",
            "applied fourth rules..\n",
            "applied first rules..\n",
            "applied first rules..\n",
            "applied fourth rules..\n",
            "applied first rules..\n",
            "applied fourth rules..\n",
            "applied second rules..\n",
            "applied second rules..\n",
            "applied fourth rules..\n",
            "applied first rules..\n",
            "applied fourth rules..\n",
            "applied first rules..\n",
            "applied first rules..\n",
            "applied first rules..\n",
            "applied first rules..\n",
            "applied first rules..\n",
            "applied fourth rules..\n",
            "applied second rules..\n",
            "applied second rules..\n",
            "applied fourth rules..\n",
            "applied fourth rules..\n",
            "applied second rules..\n",
            "applied fourth rules..\n",
            "applied second rules..\n",
            "applied fourth rules..\n",
            "applied first rules..\n",
            "applied first rules..\n",
            "applied fourth rules..\n",
            "applied first rules..\n",
            "applied second rules..\n",
            "applied fourth rules..\n",
            "applied first rules..\n",
            "applied first rules..\n",
            "applied fourth rules..\n",
            "applied first rules..\n",
            "applied fourth rules..\n",
            "applied fourth rules..\n",
            "applied fourth rules..\n",
            "applied second rules..\n",
            "applied fourth rules..\n",
            "applied first rules..\n",
            "applied fourth rules..\n",
            "applied second rules..\n",
            "applied fourth rules..\n",
            "applied second rules..\n",
            "applied first rules..\n",
            "applied first rules..\n",
            "applied fourth rules..\n",
            "applied fourth rules..\n",
            "applied fourth rules..\n",
            "applied first rules..\n",
            "applied second rules..\n",
            "applied first rules..\n",
            "applied second rules..\n",
            "applied first rules..\n",
            "applied fourth rules..\n",
            "applied fourth rules..\n",
            "applied fourth rules..\n",
            "applied fourth rules..\n",
            "applied first rules..\n",
            "applied fourth rules..\n",
            "applied first rules..\n",
            "applied fourth rules..\n",
            "applied first rules..\n",
            "applied second rules..\n",
            "applied fourth rules..\n",
            "applied first rules..\n",
            "applied fourth rules..\n",
            "applied first rules..\n",
            "applied fourth rules..\n",
            "applied first rules..\n",
            "applied first rules..\n",
            "applied first rules..\n",
            "applied fourth rules..\n",
            "applied fourth rules..\n",
            "applied fourth rules..\n",
            "applied fourth rules..\n",
            "applied second rules..\n",
            "applied first rules..\n",
            "applied first rules..\n",
            "applied fourth rules..\n",
            "applied second rules..\n",
            "applied fourth rules..\n",
            "applied fourth rules..\n",
            "applied first rules..\n",
            "applied second rules..\n",
            "applied fourth rules..\n",
            "applied first rules..\n",
            "applied fourth rules..\n",
            "applied fourth rules..\n",
            "applied second rules..\n",
            "applied second rules..\n",
            "applied first rules..\n",
            "applied third rules..\n",
            "applied first rules..\n",
            "applied fourth rules..\n",
            "applied fourth rules..\n",
            "applied fourth rules..\n",
            "applied first rules..\n",
            "applied fourth rules..\n",
            "applied first rules..\n",
            "applied fourth rules..\n",
            "applied second rules..\n",
            "applied fourth rules..\n",
            "applied second rules..\n",
            "applied fourth rules..\n",
            "applied fourth rules..\n",
            "applied first rules..\n",
            "applied first rules..\n",
            "applied fourth rules..\n",
            "applied first rules..\n",
            "applied second rules..\n",
            "applied first rules..\n",
            "applied second rules..\n",
            "applied first rules..\n",
            "applied fourth rules..\n",
            "applied fourth rules..\n",
            "applied fourth rules..\n",
            "applied second rules..\n",
            "applied fourth rules..\n",
            "applied fourth rules..\n",
            "applied fourth rules..\n",
            "applied fourth rules..\n",
            "applied second rules..\n",
            "applied fourth rules..\n",
            "applied fourth rules..\n",
            "applied second rules..\n",
            "applied fourth rules..\n",
            "applied first rules..\n",
            "applied first rules..\n",
            "applied second rules..\n",
            "applied fourth rules..\n",
            "applied first rules..\n",
            "applied fourth rules..\n",
            "applied first rules..\n",
            "applied fourth rules..\n",
            "applied first rules..\n",
            "applied first rules..\n",
            "applied fourth rules..\n",
            "applied fourth rules..\n",
            "applied fourth rules..\n",
            "applied fourth rules..\n",
            "applied fourth rules..\n",
            "applied fourth rules..\n",
            "applied fourth rules..\n",
            "applied first rules..\n",
            "applied fourth rules..\n",
            "applied fourth rules..\n",
            "applied fourth rules..\n",
            "applied fourth rules..\n",
            "applied first rules..\n",
            "applied first rules..\n",
            "applied first rules..\n",
            "applied first rules..\n",
            "applied fourth rules..\n",
            "applied first rules..\n",
            "applied second rules..\n",
            "applied fourth rules..\n",
            "applied second rules..\n",
            "applied first rules..\n",
            "applied first rules..\n",
            "applied fourth rules..\n",
            "applied fourth rules..\n",
            "applied second rules..\n",
            "applied first rules..\n",
            "applied fourth rules..\n",
            "applied fourth rules..\n",
            "applied fourth rules..\n",
            "applied fourth rules..\n",
            "applied second rules..\n",
            "applied first rules..\n",
            "applied second rules..\n",
            "applied fourth rules..\n",
            "applied second rules..\n",
            "applied fourth rules..\n",
            "applied second rules..\n",
            "applied fourth rules..\n",
            "applied second rules..\n",
            "applied first rules..\n",
            "applied fourth rules..\n",
            "applied fourth rules..\n",
            "applied fourth rules..\n",
            "applied fourth rules..\n",
            "applied first rules..\n",
            "applied fourth rules..\n",
            "applied fourth rules..\n",
            "applied fourth rules..\n",
            "applied first rules..\n",
            "applied first rules..\n",
            "applied first rules..\n",
            "applied fourth rules..\n",
            "applied first rules..\n",
            "applied first rules..\n",
            "applied fourth rules..\n",
            "applied first rules..\n",
            "applied first rules..\n",
            "applied second rules..\n",
            "applied fourth rules..\n",
            "applied first rules..\n",
            "applied fourth rules..\n",
            "applied first rules..\n",
            "applied first rules..\n",
            "applied second rules..\n",
            "applied first rules..\n",
            "applied first rules..\n",
            "applied fourth rules..\n",
            "applied first rules..\n",
            "applied fourth rules..\n",
            "applied second rules..\n",
            "applied fourth rules..\n",
            "applied fourth rules..\n",
            "applied first rules..\n",
            "applied fourth rules..\n",
            "applied first rules..\n",
            "applied fourth rules..\n",
            "applied fourth rules..\n",
            "applied first rules..\n",
            "applied second rules..\n",
            "applied first rules..\n",
            "applied fourth rules..\n",
            "applied first rules..\n",
            "applied second rules..\n",
            "applied fourth rules..\n",
            "applied second rules..\n",
            "applied fourth rules..\n",
            "applied fourth rules..\n",
            "applied second rules..\n",
            "applied fourth rules..\n",
            "applied first rules..\n",
            "applied first rules..\n",
            "applied first rules..\n",
            "applied fourth rules..\n",
            "applied fourth rules..\n",
            "applied first rules..\n",
            "applied fourth rules..\n",
            "applied fourth rules..\n",
            "applied first rules..\n",
            "applied fourth rules..\n",
            "applied first rules..\n",
            "applied second rules..\n",
            "applied first rules..\n",
            "applied fourth rules..\n",
            "applied first rules..\n",
            "applied fourth rules..\n",
            "applied first rules..\n",
            "applied second rules..\n",
            "applied fourth rules..\n",
            "applied second rules..\n",
            "applied fourth rules..\n",
            "applied fourth rules..\n",
            "applied fourth rules..\n",
            "applied fourth rules..\n",
            "applied first rules..\n",
            "applied first rules..\n",
            "applied fourth rules..\n",
            "applied second rules..\n",
            "applied fourth rules..\n",
            "applied fourth rules..\n",
            "applied fourth rules..\n",
            "applied second rules..\n",
            "applied first rules..\n",
            "applied second rules..\n",
            "applied fourth rules..\n",
            "applied fourth rules..\n",
            "applied fourth rules..\n",
            "applied first rules..\n",
            "applied first rules..\n",
            "applied first rules..\n",
            "applied fourth rules..\n",
            "applied first rules..\n",
            "applied first rules..\n",
            "applied fourth rules..\n",
            "applied first rules..\n",
            "applied first rules..\n",
            "applied first rules..\n",
            "applied first rules..\n",
            "applied fourth rules..\n",
            "applied first rules..\n",
            "applied fourth rules..\n",
            "applied fourth rules..\n",
            "applied first rules..\n",
            "applied second rules..\n",
            "applied fourth rules..\n",
            "applied first rules..\n",
            "applied second rules..\n",
            "applied fourth rules..\n",
            "applied first rules..\n",
            "applied fourth rules..\n",
            "applied first rules..\n",
            "applied fourth rules..\n",
            "applied second rules..\n",
            "applied first rules..\n",
            "applied fourth rules..\n",
            "applied first rules..\n",
            "applied fourth rules..\n",
            "applied second rules..\n",
            "applied fourth rules..\n",
            "applied first rules..\n",
            "applied fourth rules..\n",
            "applied first rules..\n",
            "applied first rules..\n",
            "applied second rules..\n",
            "applied fourth rules..\n",
            "applied first rules..\n",
            "applied second rules..\n",
            "applied fourth rules..\n",
            "applied first rules..\n",
            "applied fourth rules..\n",
            "applied fourth rules..\n",
            "applied first rules..\n",
            "applied fourth rules..\n",
            "applied fourth rules..\n",
            "applied first rules..\n",
            "applied fourth rules..\n",
            "applied first rules..\n",
            "applied fourth rules..\n",
            "applied fourth rules..\n",
            "applied fourth rules..\n",
            "applied fourth rules..\n",
            "applied first rules..\n",
            "applied second rules..\n",
            "applied fourth rules..\n",
            "applied second rules..\n",
            "applied first rules..\n",
            "applied first rules..\n",
            "applied first rules..\n",
            "applied second rules..\n",
            "applied fourth rules..\n",
            "applied fourth rules..\n",
            "applied first rules..\n",
            "applied fourth rules..\n",
            "applied first rules..\n",
            "applied first rules..\n",
            "applied second rules..\n",
            "applied fourth rules..\n",
            "applied second rules..\n",
            "applied first rules..\n",
            "applied fourth rules..\n",
            "applied fourth rules..\n",
            "applied first rules..\n",
            "applied first rules..\n",
            "applied fourth rules..\n",
            "applied second rules..\n",
            "applied first rules..\n",
            "applied first rules..\n",
            "applied first rules..\n",
            "applied fourth rules..\n",
            "applied first rules..\n",
            "applied fourth rules..\n",
            "applied first rules..\n",
            "applied first rules..\n",
            "applied first rules..\n",
            "applied fourth rules..\n",
            "applied first rules..\n",
            "applied first rules..\n",
            "applied second rules..\n",
            "applied first rules..\n",
            "applied first rules..\n",
            "applied first rules..\n",
            "applied fourth rules..\n",
            "applied first rules..\n",
            "applied fourth rules..\n",
            "applied first rules..\n",
            "applied fourth rules..\n",
            "applied first rules..\n",
            "applied fourth rules..\n",
            "applied fourth rules..\n",
            "applied fourth rules..\n",
            "applied first rules..\n",
            "applied fourth rules..\n",
            "applied second rules..\n",
            "applied fourth rules..\n",
            "applied first rules..\n",
            "applied second rules..\n",
            "applied fourth rules..\n",
            "applied first rules..\n",
            "applied second rules..\n",
            "applied fourth rules..\n",
            "applied first rules..\n",
            "applied first rules..\n",
            "applied fourth rules..\n",
            "applied first rules..\n",
            "applied second rules..\n",
            "applied fourth rules..\n",
            "applied first rules..\n",
            "applied first rules..\n",
            "applied second rules..\n",
            "applied fourth rules..\n",
            "applied first rules..\n",
            "applied first rules..\n",
            "applied second rules..\n",
            "applied fourth rules..\n",
            "applied fourth rules..\n",
            "applied first rules..\n",
            "applied fourth rules..\n",
            "applied first rules..\n",
            "applied second rules..\n",
            "applied fourth rules..\n",
            "applied second rules..\n",
            "applied fourth rules..\n",
            "applied fourth rules..\n",
            "applied first rules..\n",
            "applied first rules..\n",
            "applied fourth rules..\n",
            "applied second rules..\n",
            "applied first rules..\n",
            "applied second rules..\n",
            "applied fourth rules..\n",
            "applied second rules..\n",
            "applied fourth rules..\n",
            "applied fourth rules..\n",
            "applied fourth rules..\n",
            "applied second rules..\n",
            "applied first rules..\n",
            "applied third rules..\n",
            "applied second rules..\n",
            "applied first rules..\n",
            "applied fourth rules..\n",
            "applied first rules..\n",
            "applied first rules..\n",
            "applied fourth rules..\n",
            "applied first rules..\n",
            "applied fourth rules..\n",
            "applied second rules..\n",
            "applied first rules..\n",
            "applied first rules..\n",
            "applied third rules..\n",
            "applied first rules..\n",
            "applied first rules..\n",
            "applied first rules..\n",
            "applied first rules..\n",
            "applied first rules..\n",
            "applied second rules..\n",
            "applied fourth rules..\n",
            "applied second rules..\n",
            "applied first rules..\n",
            "applied fourth rules..\n",
            "applied first rules..\n",
            "applied fourth rules..\n",
            "applied first rules..\n",
            "applied first rules..\n",
            "applied fourth rules..\n",
            "applied fourth rules..\n",
            "applied second rules..\n",
            "applied fourth rules..\n",
            "applied first rules..\n",
            "applied second rules..\n",
            "applied fourth rules..\n",
            "applied fourth rules..\n",
            "applied fourth rules..\n",
            "applied fourth rules..\n",
            "applied second rules..\n",
            "applied fourth rules..\n",
            "applied fourth rules..\n",
            "applied fourth rules..\n",
            "applied first rules..\n",
            "applied fourth rules..\n",
            "applied second rules..\n",
            "applied fourth rules..\n",
            "applied first rules..\n",
            "applied first rules..\n",
            "applied second rules..\n",
            "applied fourth rules..\n",
            "applied second rules..\n",
            "applied fourth rules..\n",
            "applied second rules..\n",
            "applied fourth rules..\n",
            "applied first rules..\n",
            "applied fourth rules..\n",
            "applied first rules..\n",
            "applied second rules..\n",
            "applied fourth rules..\n",
            "applied first rules..\n",
            "applied fourth rules..\n",
            "applied fourth rules..\n",
            "applied first rules..\n",
            "applied second rules..\n",
            "applied first rules..\n",
            "applied first rules..\n",
            "applied fourth rules..\n",
            "applied first rules..\n",
            "applied first rules..\n",
            "applied fourth rules..\n",
            "applied fourth rules..\n",
            "applied fourth rules..\n",
            "applied second rules..\n",
            "applied fourth rules..\n",
            "applied first rules..\n",
            "applied second rules..\n",
            "applied first rules..\n",
            "applied first rules..\n",
            "applied first rules..\n",
            "applied second rules..\n",
            "applied first rules..\n",
            "applied second rules..\n",
            "applied fourth rules..\n",
            "applied second rules..\n",
            "applied fourth rules..\n",
            "applied first rules..\n",
            "applied second rules..\n",
            "applied fourth rules..\n",
            "applied second rules..\n",
            "applied second rules..\n",
            "applied fourth rules..\n",
            "applied first rules..\n",
            "applied first rules..\n",
            "applied first rules..\n",
            "applied fourth rules..\n",
            "applied second rules..\n",
            "applied first rules..\n",
            "applied first rules..\n",
            "applied fourth rules..\n",
            "applied third rules..\n",
            "applied fourth rules..\n",
            "applied second rules..\n",
            "applied fourth rules..\n",
            "applied first rules..\n",
            "applied second rules..\n",
            "applied fourth rules..\n",
            "applied first rules..\n",
            "applied second rules..\n",
            "applied first rules..\n",
            "applied second rules..\n",
            "applied first rules..\n",
            "applied first rules..\n",
            "applied second rules..\n",
            "applied fourth rules..\n",
            "applied third rules..\n",
            "applied first rules..\n",
            "applied fourth rules..\n",
            "applied fourth rules..\n",
            "applied first rules..\n",
            "applied fourth rules..\n",
            "applied second rules..\n",
            "applied fourth rules..\n",
            "applied second rules..\n",
            "applied fourth rules..\n",
            "applied first rules..\n",
            "applied first rules..\n",
            "applied first rules..\n",
            "applied second rules..\n",
            "applied fourth rules..\n",
            "applied first rules..\n",
            "applied first rules..\n",
            "applied second rules..\n",
            "applied fourth rules..\n",
            "applied first rules..\n",
            "applied second rules..\n",
            "applied first rules..\n",
            "applied first rules..\n",
            "applied second rules..\n",
            "applied third rules..\n",
            "applied first rules..\n",
            "applied second rules..\n",
            "applied fourth rules..\n",
            "applied first rules..\n",
            "applied fourth rules..\n",
            "applied first rules..\n",
            "applied fourth rules..\n",
            "applied first rules..\n",
            "applied first rules..\n",
            "applied fourth rules..\n",
            "applied first rules..\n",
            "applied first rules..\n",
            "applied second rules..\n",
            "applied fourth rules..\n",
            "applied first rules..\n",
            "applied second rules..\n",
            "applied fourth rules..\n",
            "applied fourth rules..\n",
            "applied second rules..\n",
            "applied fourth rules..\n",
            "applied second rules..\n",
            "applied first rules..\n",
            "applied first rules..\n",
            "applied first rules..\n",
            "applied first rules..\n",
            "applied fourth rules..\n",
            "applied second rules..\n",
            "applied fourth rules..\n",
            "applied fourth rules..\n",
            "applied first rules..\n",
            "applied third rules..\n",
            "applied second rules..\n",
            "applied first rules..\n",
            "applied first rules..\n",
            "applied fourth rules..\n",
            "applied first rules..\n",
            "applied second rules..\n",
            "applied first rules..\n",
            "applied second rules..\n",
            "applied first rules..\n",
            "applied fourth rules..\n",
            "applied first rules..\n",
            "applied first rules..\n",
            "applied fourth rules..\n",
            "applied fourth rules..\n",
            "applied first rules..\n",
            "applied fourth rules..\n",
            "applied second rules..\n",
            "applied first rules..\n",
            "applied first rules..\n",
            "applied second rules..\n",
            "applied fourth rules..\n",
            "applied first rules..\n",
            "applied first rules..\n",
            "applied fourth rules..\n",
            "applied first rules..\n",
            "applied first rules..\n",
            "applied fourth rules..\n",
            "applied first rules..\n",
            "applied fourth rules..\n",
            "applied first rules..\n",
            "applied fourth rules..\n",
            "applied fourth rules..\n",
            "applied first rules..\n",
            "applied fourth rules..\n",
            "applied second rules..\n",
            "applied fourth rules..\n",
            "applied first rules..\n",
            "applied first rules..\n",
            "applied first rules..\n",
            "applied fourth rules..\n",
            "applied fourth rules..\n",
            "applied first rules..\n",
            "applied fourth rules..\n",
            "applied fourth rules..\n",
            "applied first rules..\n",
            "applied fourth rules..\n",
            "applied fourth rules..\n",
            "applied first rules..\n",
            "applied first rules..\n",
            "applied fourth rules..\n",
            "applied fourth rules..\n",
            "applied first rules..\n",
            "applied first rules..\n",
            "applied fourth rules..\n",
            "applied first rules..\n",
            "applied second rules..\n",
            "applied first rules..\n",
            "applied fourth rules..\n",
            "applied fourth rules..\n",
            "applied fourth rules..\n",
            "applied second rules..\n",
            "applied first rules..\n",
            "applied first rules..\n",
            "applied first rules..\n",
            "applied first rules..\n",
            "applied first rules..\n",
            "applied fourth rules..\n",
            "applied fourth rules..\n",
            "applied fourth rules..\n",
            "applied fourth rules..\n",
            "applied fourth rules..\n",
            "applied fourth rules..\n",
            "applied first rules..\n",
            "applied first rules..\n",
            "applied first rules..\n",
            "applied first rules..\n",
            "applied fourth rules..\n",
            "applied fourth rules..\n",
            "applied first rules..\n",
            "applied fourth rules..\n",
            "applied fourth rules..\n",
            "applied fourth rules..\n",
            "applied second rules..\n",
            "applied fourth rules..\n",
            "applied second rules..\n",
            "applied fourth rules..\n",
            "applied fourth rules..\n",
            "applied fourth rules..\n",
            "applied first rules..\n",
            "applied fourth rules..\n",
            "applied fourth rules..\n",
            "applied fourth rules..\n",
            "applied second rules..\n",
            "applied fourth rules..\n",
            "applied first rules..\n",
            "applied fourth rules..\n",
            "applied first rules..\n",
            "applied first rules..\n",
            "applied fourth rules..\n",
            "applied first rules..\n",
            "applied first rules..\n",
            "applied second rules..\n",
            "applied first rules..\n",
            "applied second rules..\n",
            "applied fourth rules..\n",
            "applied second rules..\n",
            "applied fourth rules..\n",
            "applied fourth rules..\n",
            "applied second rules..\n",
            "applied fourth rules..\n",
            "applied first rules..\n",
            "applied first rules..\n",
            "applied first rules..\n",
            "applied fourth rules..\n",
            "applied first rules..\n",
            "applied first rules..\n",
            "applied fourth rules..\n",
            "applied first rules..\n",
            "applied fourth rules..\n",
            "applied second rules..\n",
            "applied fourth rules..\n",
            "applied fourth rules..\n",
            "applied fourth rules..\n",
            "applied second rules..\n",
            "applied fourth rules..\n",
            "applied fourth rules..\n",
            "applied third rules..\n",
            "applied first rules..\n",
            "applied second rules..\n",
            "applied fourth rules..\n",
            "applied third rules..\n",
            "applied fourth rules..\n",
            "applied fourth rules..\n",
            "applied fourth rules..\n",
            "applied first rules..\n",
            "applied first rules..\n",
            "applied second rules..\n",
            "applied fourth rules..\n",
            "applied fourth rules..\n",
            "applied first rules..\n",
            "applied first rules..\n",
            "applied fourth rules..\n",
            "applied first rules..\n",
            "applied first rules..\n",
            "applied fourth rules..\n",
            "applied fourth rules..\n",
            "applied first rules..\n",
            "applied fourth rules..\n",
            "applied fourth rules..\n",
            "applied first rules..\n",
            "applied second rules..\n",
            "applied first rules..\n",
            "applied second rules..\n",
            "applied fourth rules..\n",
            "applied first rules..\n",
            "applied fourth rules..\n",
            "applied first rules..\n",
            "applied fourth rules..\n",
            "applied first rules..\n",
            "applied fourth rules..\n",
            "applied first rules..\n",
            "applied fourth rules..\n",
            "applied first rules..\n",
            "applied fourth rules..\n",
            "applied fourth rules..\n",
            "applied second rules..\n",
            "applied fourth rules..\n",
            "applied first rules..\n",
            "applied fourth rules..\n",
            "applied third rules..\n",
            "applied first rules..\n",
            "applied fourth rules..\n",
            "applied first rules..\n",
            "applied fourth rules..\n",
            "applied first rules..\n",
            "applied fourth rules..\n",
            "applied fourth rules..\n",
            "applied first rules..\n",
            "applied first rules..\n",
            "applied fourth rules..\n",
            "applied first rules..\n",
            "applied first rules..\n",
            "applied first rules..\n",
            "applied first rules..\n",
            "applied fourth rules..\n",
            "applied first rules..\n",
            "applied fourth rules..\n",
            "applied fourth rules..\n",
            "applied fourth rules..\n",
            "applied second rules..\n",
            "applied fourth rules..\n",
            "applied second rules..\n",
            "applied fourth rules..\n",
            "applied first rules..\n",
            "applied first rules..\n",
            "applied second rules..\n",
            "applied first rules..\n",
            "applied fourth rules..\n",
            "applied first rules..\n",
            "applied fourth rules..\n",
            "applied first rules..\n",
            "applied first rules..\n",
            "applied fourth rules..\n",
            "applied fourth rules..\n",
            "applied first rules..\n",
            "applied second rules..\n",
            "applied fourth rules..\n",
            "applied first rules..\n",
            "applied fourth rules..\n",
            "applied first rules..\n",
            "applied fourth rules..\n",
            "applied first rules..\n",
            "applied first rules..\n",
            "applied first rules..\n",
            "applied second rules..\n",
            "applied fourth rules..\n",
            "applied first rules..\n",
            "applied second rules..\n",
            "applied fourth rules..\n",
            "applied first rules..\n",
            "applied third rules..\n",
            "applied second rules..\n",
            "applied fourth rules..\n",
            "applied fourth rules..\n",
            "applied second rules..\n",
            "applied fourth rules..\n",
            "applied fourth rules..\n",
            "applied fourth rules..\n",
            "applied second rules..\n",
            "applied first rules..\n",
            "applied fourth rules..\n",
            "applied fourth rules..\n",
            "applied first rules..\n",
            "applied fourth rules..\n",
            "applied second rules..\n",
            "applied fourth rules..\n",
            "applied second rules..\n",
            "applied first rules..\n",
            "applied second rules..\n",
            "applied second rules..\n",
            "applied fourth rules..\n",
            "applied fourth rules..\n",
            "applied second rules..\n",
            "applied fourth rules..\n",
            "applied first rules..\n",
            "applied second rules..\n",
            "applied first rules..\n",
            "applied fourth rules..\n",
            "applied first rules..\n",
            "applied first rules..\n",
            "applied fourth rules..\n",
            "applied fourth rules..\n",
            "applied first rules..\n",
            "applied fourth rules..\n",
            "applied second rules..\n",
            "applied first rules..\n",
            "applied fourth rules..\n",
            "applied first rules..\n",
            "applied fourth rules..\n",
            "applied first rules..\n",
            "applied fourth rules..\n",
            "applied fourth rules..\n",
            "applied first rules..\n",
            "applied fourth rules..\n",
            "applied second rules..\n",
            "applied second rules..\n",
            "applied first rules..\n",
            "applied second rules..\n",
            "applied fourth rules..\n",
            "applied first rules..\n",
            "applied first rules..\n",
            "applied first rules..\n",
            "applied first rules..\n",
            "applied fourth rules..\n",
            "applied second rules..\n",
            "applied first rules..\n",
            "applied fourth rules..\n",
            "applied second rules..\n",
            "applied second rules..\n",
            "applied first rules..\n",
            "applied fourth rules..\n",
            "applied fourth rules..\n",
            "applied second rules..\n",
            "applied fourth rules..\n",
            "applied first rules..\n",
            "applied first rules..\n",
            "applied fourth rules..\n",
            "applied first rules..\n",
            "applied first rules..\n",
            "applied first rules..\n",
            "applied fourth rules..\n",
            "applied fourth rules..\n",
            "applied fourth rules..\n",
            "applied second rules..\n",
            "applied first rules..\n",
            "applied first rules..\n",
            "applied fourth rules..\n",
            "applied first rules..\n",
            "applied second rules..\n",
            "applied fourth rules..\n",
            "applied first rules..\n",
            "applied second rules..\n",
            "applied fourth rules..\n",
            "applied second rules..\n",
            "applied first rules..\n",
            "applied fourth rules..\n",
            "applied fourth rules..\n",
            "applied second rules..\n",
            "applied fourth rules..\n",
            "applied second rules..\n",
            "applied fourth rules..\n",
            "applied second rules..\n",
            "applied first rules..\n",
            "applied second rules..\n",
            "applied fourth rules..\n",
            "applied fourth rules..\n",
            "applied fourth rules..\n",
            "applied second rules..\n",
            "applied first rules..\n",
            "applied fourth rules..\n",
            "applied fourth rules..\n",
            "applied fourth rules..\n",
            "applied fourth rules..\n",
            "applied fourth rules..\n",
            "applied fourth rules..\n",
            "applied fourth rules..\n",
            "applied second rules..\n",
            "applied first rules..\n",
            "applied fourth rules..\n",
            "applied fourth rules..\n",
            "applied first rules..\n",
            "applied second rules..\n",
            "applied fourth rules..\n",
            "applied first rules..\n",
            "applied fourth rules..\n",
            "applied first rules..\n",
            "applied first rules..\n",
            "applied first rules..\n",
            "applied fourth rules..\n",
            "applied fourth rules..\n",
            "applied first rules..\n",
            "applied second rules..\n",
            "applied fourth rules..\n",
            "applied second rules..\n",
            "applied fourth rules..\n",
            "applied fourth rules..\n",
            "applied fourth rules..\n",
            "applied fourth rules..\n",
            "applied first rules..\n",
            "applied first rules..\n",
            "applied fourth rules..\n",
            "applied fourth rules..\n",
            "applied fourth rules..\n",
            "applied fourth rules..\n",
            "applied fourth rules..\n",
            "applied fourth rules..\n",
            "applied fourth rules..\n",
            "applied fourth rules..\n",
            "applied fourth rules..\n",
            "applied first rules..\n",
            "applied fourth rules..\n",
            "applied fourth rules..\n",
            "applied first rules..\n",
            "applied fourth rules..\n",
            "applied second rules..\n",
            "applied fourth rules..\n",
            "applied first rules..\n",
            "applied first rules..\n",
            "applied fourth rules..\n",
            "applied first rules..\n",
            "applied second rules..\n",
            "applied fourth rules..\n",
            "applied first rules..\n",
            "applied first rules..\n",
            "applied fourth rules..\n",
            "applied first rules..\n",
            "applied first rules..\n",
            "applied second rules..\n",
            "applied fourth rules..\n",
            "applied fourth rules..\n",
            "applied second rules..\n",
            "applied first rules..\n",
            "applied first rules..\n",
            "applied first rules..\n",
            "applied fourth rules..\n",
            "applied first rules..\n",
            "applied second rules..\n",
            "applied fourth rules..\n",
            "applied fourth rules..\n",
            "applied second rules..\n",
            "applied fourth rules..\n",
            "applied fourth rules..\n",
            "applied first rules..\n",
            "applied fourth rules..\n",
            "applied fourth rules..\n",
            "applied fourth rules..\n",
            "applied second rules..\n",
            "applied second rules..\n",
            "applied first rules..\n",
            "applied fourth rules..\n",
            "applied second rules..\n",
            "applied second rules..\n",
            "applied second rules..\n",
            "applied fourth rules..\n",
            "applied fourth rules..\n",
            "applied second rules..\n",
            "applied second rules..\n",
            "applied fourth rules..\n",
            "applied first rules..\n",
            "applied first rules..\n",
            "applied first rules..\n",
            "applied first rules..\n",
            "applied fourth rules..\n",
            "applied second rules..\n",
            "applied first rules..\n",
            "applied first rules..\n",
            "applied first rules..\n",
            "applied fourth rules..\n",
            "applied first rules..\n",
            "applied fourth rules..\n",
            "applied second rules..\n",
            "applied first rules..\n",
            "applied fourth rules..\n",
            "applied first rules..\n",
            "applied first rules..\n",
            "applied first rules..\n",
            "applied first rules..\n",
            "applied first rules..\n",
            "applied fourth rules..\n",
            "applied fourth rules..\n",
            "applied fourth rules..\n",
            "applied first rules..\n",
            "applied fourth rules..\n",
            "applied first rules..\n",
            "applied fourth rules..\n",
            "applied first rules..\n",
            "applied fourth rules..\n",
            "applied fourth rules..\n",
            "applied second rules..\n",
            "applied fourth rules..\n",
            "applied second rules..\n",
            "applied second rules..\n",
            "applied fourth rules..\n",
            "applied second rules..\n",
            "applied first rules..\n",
            "applied first rules..\n",
            "applied fourth rules..\n",
            "applied first rules..\n",
            "applied second rules..\n",
            "applied fourth rules..\n",
            "applied second rules..\n",
            "applied first rules..\n",
            "applied second rules..\n",
            "applied first rules..\n",
            "applied second rules..\n",
            "applied second rules..\n",
            "applied fourth rules..\n",
            "applied first rules..\n",
            "applied second rules..\n",
            "applied fourth rules..\n",
            "applied first rules..\n",
            "applied second rules..\n",
            "applied fourth rules..\n",
            "applied second rules..\n",
            "applied first rules..\n",
            "applied fourth rules..\n",
            "applied fourth rules..\n",
            "applied second rules..\n",
            "applied fourth rules..\n",
            "applied first rules..\n",
            "applied fourth rules..\n",
            "applied fourth rules..\n",
            "applied second rules..\n",
            "applied second rules..\n",
            "applied fourth rules..\n",
            "applied fourth rules..\n",
            "applied fourth rules..\n",
            "applied fourth rules..\n",
            "applied fourth rules..\n",
            "applied first rules..\n",
            "applied first rules..\n",
            "applied first rules..\n",
            "applied first rules..\n",
            "applied second rules..\n",
            "applied fourth rules..\n",
            "applied first rules..\n",
            "applied first rules..\n",
            "applied first rules..\n",
            "applied fourth rules..\n",
            "applied second rules..\n",
            "applied first rules..\n",
            "applied fourth rules..\n",
            "applied first rules..\n",
            "applied first rules..\n",
            "applied fourth rules..\n",
            "applied first rules..\n",
            "applied fourth rules..\n",
            "applied fourth rules..\n",
            "applied first rules..\n",
            "applied fourth rules..\n",
            "applied second rules..\n",
            "applied first rules..\n",
            "applied first rules..\n",
            "applied fourth rules..\n",
            "applied first rules..\n",
            "applied first rules..\n",
            "applied second rules..\n",
            "applied fourth rules..\n",
            "applied fourth rules..\n",
            "applied first rules..\n",
            "applied first rules..\n",
            "applied second rules..\n",
            "applied fourth rules..\n",
            "applied first rules..\n",
            "applied first rules..\n",
            "applied first rules..\n",
            "applied first rules..\n",
            "applied fourth rules..\n",
            "applied first rules..\n",
            "applied fourth rules..\n",
            "applied fourth rules..\n",
            "applied first rules..\n",
            "applied fourth rules..\n",
            "applied first rules..\n",
            "applied fourth rules..\n",
            "applied fourth rules..\n",
            "applied fourth rules..\n",
            "applied first rules..\n",
            "applied fourth rules..\n",
            "applied first rules..\n",
            "applied fourth rules..\n",
            "applied first rules..\n",
            "applied fourth rules..\n",
            "applied first rules..\n",
            "applied fourth rules..\n",
            "applied fourth rules..\n",
            "applied first rules..\n",
            "applied fourth rules..\n",
            "applied fourth rules..\n",
            "applied first rules..\n",
            "applied fourth rules..\n",
            "applied second rules..\n",
            "applied fourth rules..\n",
            "applied fourth rules..\n",
            "applied second rules..\n",
            "applied first rules..\n",
            "applied first rules..\n",
            "applied second rules..\n",
            "applied fourth rules..\n",
            "applied first rules..\n",
            "applied first rules..\n",
            "applied first rules..\n",
            "applied fourth rules..\n",
            "applied fourth rules..\n",
            "applied first rules..\n",
            "applied fourth rules..\n",
            "applied second rules..\n",
            "applied fourth rules..\n",
            "applied first rules..\n",
            "applied fourth rules..\n",
            "applied first rules..\n",
            "applied second rules..\n",
            "applied fourth rules..\n",
            "applied fourth rules..\n",
            "applied second rules..\n",
            "applied fourth rules..\n",
            "applied first rules..\n",
            "applied second rules..\n",
            "applied second rules..\n",
            "applied fourth rules..\n",
            "applied second rules..\n",
            "applied fourth rules..\n",
            "applied first rules..\n",
            "applied second rules..\n",
            "applied second rules..\n",
            "applied fourth rules..\n",
            "applied second rules..\n",
            "applied fourth rules..\n",
            "applied second rules..\n",
            "applied fourth rules..\n",
            "applied third rules..\n",
            "applied first rules..\n",
            "applied fourth rules..\n",
            "applied second rules..\n",
            "applied first rules..\n",
            "applied fourth rules..\n",
            "applied second rules..\n",
            "applied fourth rules..\n",
            "applied first rules..\n",
            "applied second rules..\n",
            "applied first rules..\n",
            "applied second rules..\n",
            "applied fourth rules..\n",
            "applied second rules..\n",
            "applied fourth rules..\n",
            "applied second rules..\n",
            "applied fourth rules..\n",
            "applied first rules..\n",
            "applied fourth rules..\n",
            "applied second rules..\n",
            "applied fourth rules..\n",
            "applied first rules..\n",
            "applied second rules..\n",
            "applied fourth rules..\n",
            "applied fourth rules..\n",
            "applied second rules..\n",
            "applied fourth rules..\n",
            "applied fourth rules..\n",
            "applied second rules..\n",
            "applied fourth rules..\n",
            "applied first rules..\n",
            "applied fourth rules..\n",
            "applied fourth rules..\n",
            "applied first rules..\n",
            "applied second rules..\n",
            "applied fourth rules..\n",
            "applied second rules..\n",
            "applied first rules..\n",
            "applied fourth rules..\n",
            "applied second rules..\n",
            "applied fourth rules..\n",
            "applied first rules..\n",
            "applied fourth rules..\n",
            "applied first rules..\n",
            "applied first rules..\n",
            "applied first rules..\n",
            "applied third rules..\n",
            "applied fourth rules..\n",
            "applied first rules..\n",
            "applied fourth rules..\n",
            "applied fourth rules..\n",
            "applied second rules..\n",
            "applied third rules..\n",
            "applied first rules..\n",
            "applied first rules..\n",
            "applied fourth rules..\n",
            "applied second rules..\n",
            "applied first rules..\n",
            "applied first rules..\n",
            "applied fourth rules..\n",
            "applied second rules..\n",
            "applied second rules..\n",
            "applied fourth rules..\n",
            "applied second rules..\n",
            "applied first rules..\n",
            "applied second rules..\n",
            "applied first rules..\n",
            "applied fourth rules..\n",
            "applied first rules..\n",
            "applied second rules..\n",
            "applied second rules..\n",
            "applied fourth rules..\n",
            "applied fourth rules..\n",
            "applied first rules..\n",
            "applied fourth rules..\n",
            "applied first rules..\n",
            "applied fourth rules..\n",
            "applied first rules..\n",
            "applied first rules..\n",
            "applied fourth rules..\n",
            "applied fourth rules..\n",
            "applied fourth rules..\n",
            "applied second rules..\n",
            "applied second rules..\n",
            "applied fourth rules..\n",
            "applied fourth rules..\n",
            "applied second rules..\n",
            "applied second rules..\n",
            "applied fourth rules..\n",
            "applied first rules..\n",
            "applied second rules..\n",
            "applied second rules..\n",
            "applied first rules..\n",
            "applied fourth rules..\n",
            "applied first rules..\n",
            "applied fourth rules..\n",
            "applied second rules..\n",
            "applied first rules..\n",
            "applied second rules..\n",
            "applied fourth rules..\n",
            "applied fourth rules..\n",
            "applied first rules..\n",
            "applied fourth rules..\n",
            "applied fourth rules..\n",
            "applied first rules..\n",
            "applied first rules..\n",
            "applied third rules..\n",
            "applied first rules..\n",
            "applied fourth rules..\n",
            "applied second rules..\n",
            "applied first rules..\n",
            "applied second rules..\n",
            "applied fourth rules..\n",
            "applied second rules..\n",
            "applied fourth rules..\n",
            "applied first rules..\n",
            "applied fourth rules..\n",
            "applied second rules..\n",
            "applied fourth rules..\n",
            "applied fourth rules..\n",
            "applied first rules..\n",
            "applied first rules..\n",
            "applied first rules..\n",
            "applied first rules..\n",
            "applied first rules..\n",
            "applied second rules..\n",
            "applied fourth rules..\n",
            "applied fourth rules..\n",
            "applied first rules..\n",
            "applied fourth rules..\n",
            "applied second rules..\n",
            "applied fourth rules..\n",
            "applied first rules..\n",
            "applied fourth rules..\n",
            "applied first rules..\n",
            "applied first rules..\n",
            "applied first rules..\n",
            "applied second rules..\n",
            "applied first rules..\n",
            "applied fourth rules..\n",
            "applied fourth rules..\n",
            "applied first rules..\n",
            "applied first rules..\n",
            "applied fourth rules..\n",
            "applied second rules..\n",
            "applied fourth rules..\n",
            "applied fourth rules..\n",
            "applied first rules..\n",
            "applied first rules..\n",
            "applied second rules..\n",
            "applied second rules..\n",
            "applied fourth rules..\n",
            "applied second rules..\n",
            "applied second rules..\n",
            "applied fourth rules..\n",
            "applied fourth rules..\n",
            "applied second rules..\n",
            "applied second rules..\n",
            "applied second rules..\n",
            "applied fourth rules..\n",
            "applied fourth rules..\n",
            "applied first rules..\n",
            "applied fourth rules..\n",
            "applied first rules..\n",
            "applied fourth rules..\n",
            "applied fourth rules..\n",
            "applied fourth rules..\n",
            "applied first rules..\n",
            "applied fourth rules..\n",
            "applied first rules..\n",
            "applied fourth rules..\n",
            "applied first rules..\n",
            "applied fourth rules..\n",
            "applied first rules..\n",
            "applied second rules..\n",
            "applied fourth rules..\n",
            "applied first rules..\n",
            "applied first rules..\n",
            "applied first rules..\n",
            "applied second rules..\n",
            "applied fourth rules..\n",
            "applied fourth rules..\n",
            "applied first rules..\n",
            "applied fourth rules..\n",
            "applied second rules..\n",
            "applied fourth rules..\n",
            "applied second rules..\n",
            "applied fourth rules..\n",
            "applied first rules..\n",
            "applied fourth rules..\n",
            "applied first rules..\n",
            "applied fourth rules..\n",
            "applied first rules..\n",
            "applied first rules..\n",
            "applied second rules..\n",
            "applied second rules..\n",
            "applied first rules..\n",
            "applied second rules..\n",
            "applied fourth rules..\n",
            "applied fourth rules..\n",
            "applied first rules..\n",
            "applied first rules..\n",
            "applied first rules..\n",
            "applied fourth rules..\n",
            "applied fourth rules..\n",
            "applied fourth rules..\n",
            "applied first rules..\n",
            "applied fourth rules..\n",
            "applied fourth rules..\n",
            "applied first rules..\n",
            "applied fourth rules..\n",
            "applied first rules..\n",
            "applied fourth rules..\n",
            "applied first rules..\n",
            "applied fourth rules..\n",
            "applied second rules..\n",
            "applied fourth rules..\n",
            "applied fourth rules..\n",
            "applied fourth rules..\n",
            "applied first rules..\n",
            "applied second rules..\n",
            "applied fourth rules..\n",
            "applied fourth rules..\n",
            "applied fourth rules..\n",
            "applied first rules..\n",
            "applied fourth rules..\n",
            "applied fourth rules..\n",
            "applied first rules..\n",
            "applied second rules..\n",
            "applied fourth rules..\n",
            "applied first rules..\n",
            "applied fourth rules..\n",
            "applied fourth rules..\n",
            "applied first rules..\n",
            "applied fourth rules..\n",
            "applied second rules..\n",
            "applied fourth rules..\n",
            "applied fourth rules..\n",
            "applied first rules..\n",
            "applied second rules..\n",
            "applied fourth rules..\n",
            "applied first rules..\n",
            "applied first rules..\n",
            "applied fourth rules..\n",
            "applied first rules..\n",
            "applied fourth rules..\n",
            "applied first rules..\n",
            "applied fourth rules..\n",
            "applied second rules..\n",
            "applied fourth rules..\n",
            "applied second rules..\n",
            "applied fourth rules..\n",
            "applied second rules..\n",
            "applied fourth rules..\n",
            "applied fourth rules..\n",
            "applied fourth rules..\n",
            "applied fourth rules..\n",
            "applied first rules..\n",
            "applied second rules..\n",
            "applied fourth rules..\n",
            "applied second rules..\n",
            "applied fourth rules..\n",
            "applied second rules..\n",
            "applied first rules..\n",
            "applied first rules..\n",
            "applied fourth rules..\n",
            "applied first rules..\n",
            "applied fourth rules..\n",
            "applied first rules..\n",
            "applied fourth rules..\n",
            "applied first rules..\n",
            "applied fourth rules..\n",
            "applied fourth rules..\n",
            "applied first rules..\n",
            "applied fourth rules..\n",
            "applied fourth rules..\n",
            "applied first rules..\n",
            "applied fourth rules..\n",
            "applied third rules..\n",
            "applied fourth rules..\n",
            "applied fourth rules..\n",
            "applied fourth rules..\n",
            "applied fourth rules..\n",
            "applied fourth rules..\n",
            "applied first rules..\n",
            "applied first rules..\n",
            "applied second rules..\n",
            "applied fourth rules..\n",
            "applied fourth rules..\n",
            "applied first rules..\n",
            "applied first rules..\n",
            "applied first rules..\n",
            "applied first rules..\n",
            "applied fourth rules..\n",
            "applied first rules..\n",
            "applied second rules..\n",
            "applied fourth rules..\n",
            "applied first rules..\n",
            "applied first rules..\n",
            "applied second rules..\n",
            "applied first rules..\n",
            "applied first rules..\n",
            "applied fourth rules..\n",
            "applied fourth rules..\n",
            "applied second rules..\n",
            "applied fourth rules..\n",
            "applied fourth rules..\n",
            "applied first rules..\n",
            "applied first rules..\n",
            "applied first rules..\n",
            "applied first rules..\n",
            "applied first rules..\n",
            "applied fourth rules..\n",
            "applied second rules..\n",
            "applied first rules..\n",
            "applied second rules..\n",
            "applied fourth rules..\n",
            "applied first rules..\n",
            "applied second rules..\n",
            "applied fourth rules..\n",
            "applied fourth rules..\n",
            "applied second rules..\n",
            "applied fourth rules..\n",
            "applied first rules..\n",
            "applied fourth rules..\n",
            "applied second rules..\n",
            "applied fourth rules..\n",
            "applied first rules..\n",
            "applied fourth rules..\n",
            "applied fourth rules..\n",
            "applied fourth rules..\n",
            "applied second rules..\n",
            "applied fourth rules..\n",
            "applied fourth rules..\n",
            "applied fourth rules..\n",
            "applied fourth rules..\n",
            "applied fourth rules..\n",
            "applied first rules..\n",
            "applied second rules..\n",
            "applied fourth rules..\n",
            "applied second rules..\n",
            "applied fourth rules..\n",
            "applied fourth rules..\n",
            "applied first rules..\n",
            "applied fourth rules..\n",
            "applied second rules..\n",
            "applied fourth rules..\n",
            "applied fourth rules..\n",
            "applied fourth rules..\n",
            "applied first rules..\n",
            "applied fourth rules..\n",
            "applied second rules..\n",
            "applied second rules..\n",
            "applied fourth rules..\n",
            "applied fourth rules..\n",
            "applied fourth rules..\n",
            "applied fourth rules..\n",
            "applied first rules..\n",
            "applied fourth rules..\n",
            "applied first rules..\n",
            "applied second rules..\n",
            "applied first rules..\n",
            "applied second rules..\n",
            "applied fourth rules..\n",
            "applied first rules..\n",
            "applied second rules..\n",
            "applied fourth rules..\n",
            "applied second rules..\n",
            "applied first rules..\n",
            "applied fourth rules..\n",
            "applied first rules..\n",
            "applied first rules..\n",
            "applied second rules..\n",
            "applied first rules..\n",
            "applied fourth rules..\n",
            "applied fourth rules..\n",
            "applied fourth rules..\n",
            "applied second rules..\n",
            "applied fourth rules..\n",
            "applied first rules..\n",
            "applied fourth rules..\n",
            "applied first rules..\n",
            "applied fourth rules..\n",
            "applied second rules..\n",
            "applied first rules..\n",
            "applied first rules..\n",
            "applied first rules..\n",
            "applied second rules..\n",
            "applied first rules..\n",
            "applied fourth rules..\n",
            "applied first rules..\n",
            "applied fourth rules..\n",
            "applied second rules..\n",
            "applied fourth rules..\n",
            "applied first rules..\n",
            "applied first rules..\n",
            "applied fourth rules..\n",
            "applied fourth rules..\n",
            "applied fourth rules..\n",
            "applied fourth rules..\n",
            "applied fourth rules..\n",
            "applied first rules..\n",
            "applied second rules..\n",
            "applied second rules..\n",
            "applied first rules..\n",
            "applied fourth rules..\n",
            "applied fourth rules..\n",
            "applied first rules..\n",
            "applied fourth rules..\n",
            "applied fourth rules..\n",
            "applied second rules..\n",
            "applied fourth rules..\n",
            "applied fourth rules..\n",
            "applied first rules..\n",
            "applied first rules..\n",
            "applied second rules..\n",
            "applied second rules..\n",
            "applied second rules..\n",
            "applied fourth rules..\n",
            "applied fourth rules..\n",
            "applied first rules..\n",
            "applied fourth rules..\n",
            "applied fourth rules..\n",
            "applied second rules..\n",
            "applied fourth rules..\n",
            "applied first rules..\n",
            "applied first rules..\n"
          ]
        }
      ],
      "source": [
        "data['stemmed'] = data['tokenizer'].apply(lambda x : stmr.stem(x))"
      ]
    },
    {
      "cell_type": "code",
      "execution_count": null,
      "metadata": {
        "colab": {
          "base_uri": "https://localhost:8080/",
          "height": 389
        },
        "id": "PZbW3d81sKUl",
        "outputId": "f9dd921b-7666-4708-9115-b26c13ae2216"
      },
      "outputs": [
        {
          "output_type": "execute_result",
          "data": {
            "text/plain": [
              "                                                Text  Label  length  \\\n",
              "0  পিতা ছাড়া আত্মত্যাগ বড়ই দুঃখের। বারবার শুধু ...      1     126   \n",
              "1                            অসহ্য অনুভূতি ভয়ানক 😅👈      1      23   \n",
              "2  এই বৃষ্টির দিনে, আসুন আমরা রাস্তায় হাঁটার সময...      1      92   \n",
              "3  আকাশ তুমি মেঘলা কেন, তোমাকে কে বলেছে? আজ রোদের...      1     117   \n",
              "4                                     আমি খুব বিষণ্ণ      1      14   \n",
              "\n",
              "                                 Removed Puncutation  \\\n",
              "0  পিতা ছাড়া আত্মত্যাগ বড়ই দুঃখের বারবার শুধু ব...   \n",
              "1                               অসহ্য অনুভূতি ভয়ানক   \n",
              "2  এই বৃষ্টির দিনে আসুন আমরা রাস্তায় হাঁটার সময়...   \n",
              "3  আকাশ তুমি মেঘলা কেন তোমাকে কে বলেছে আজ রোদের স...   \n",
              "4                                     আমি খুব বিষণ্ণ   \n",
              "\n",
              "                                          remove Eng  \\\n",
              "0  পিতা ছাড়া আত্মত্যাগ বড়ই দুঃখের বারবার শুধু ব...   \n",
              "1                               অসহ্য অনুভূতি ভয়ানক   \n",
              "2  এই বৃষ্টির দিনে আসুন আমরা রাস্তায় হাঁটার সময়...   \n",
              "3  আকাশ তুমি মেঘলা কেন তোমাকে কে বলেছে আজ রোদের স...   \n",
              "4                                     আমি খুব বিষণ্ণ   \n",
              "\n",
              "                                Removed Stopped word  \\\n",
              "0  ['পিতা', 'আত্মত্যাগ', 'বড়ই', 'দুঃখের', 'বারবা...   \n",
              "1                     ['অসহ্য', 'অনুভূতি', 'ভয়ানক']   \n",
              "2  ['বৃষ্টির', 'দিনে', 'আসুন', 'রাস্তায়', 'হাঁটা...   \n",
              "3  ['আকাশ', 'মেঘলা', 'তোমাকে', 'বলেছে', 'রোদের', ...   \n",
              "4                                         ['বিষণ্ণ']   \n",
              "\n",
              "                                           tokenizer  \\\n",
              "0  [পিতা, আত্মত্যাগ, বড়ই, দুঃখের, বারবার, বাবার,...   \n",
              "1                           [অসহ্য, অনুভূতি, ভয়ানক]   \n",
              "2  [বৃষ্টির, দিনে, আসুন, রাস্তায়, হাঁটার, সময়, ...   \n",
              "3  [আকাশ, মেঘলা, তোমাকে, বলেছে, রোদের, সাথে, ঝগড়...   \n",
              "4                                           [বিষণ্ণ]   \n",
              "\n",
              "                                             stemmed  \n",
              "0  [পিতা, আত্মত্যাগ, বড়, দুঃখ, বারবার, বাবা, কথা...  \n",
              "1                           [অসহ্য, অনুভূতি, ভয়ানক]  \n",
              "2  [বৃষ্, দিনে, আসুন, রাস্তায়, হাঁ, সময়, একটু, ...  \n",
              "3  [আকাশ, মেঘলা, তোমাকে, বল, রোদের, সাথে, ঝগড়া, ...  \n",
              "4                                           [বিষণ্ণ]  "
            ],
            "text/html": [
              "\n",
              "  <div id=\"df-7ddb12ce-3543-40cd-88b6-523b0413cc9a\">\n",
              "    <div class=\"colab-df-container\">\n",
              "      <div>\n",
              "<style scoped>\n",
              "    .dataframe tbody tr th:only-of-type {\n",
              "        vertical-align: middle;\n",
              "    }\n",
              "\n",
              "    .dataframe tbody tr th {\n",
              "        vertical-align: top;\n",
              "    }\n",
              "\n",
              "    .dataframe thead th {\n",
              "        text-align: right;\n",
              "    }\n",
              "</style>\n",
              "<table border=\"1\" class=\"dataframe\">\n",
              "  <thead>\n",
              "    <tr style=\"text-align: right;\">\n",
              "      <th></th>\n",
              "      <th>Text</th>\n",
              "      <th>Label</th>\n",
              "      <th>length</th>\n",
              "      <th>Removed Puncutation</th>\n",
              "      <th>remove Eng</th>\n",
              "      <th>Removed Stopped word</th>\n",
              "      <th>tokenizer</th>\n",
              "      <th>stemmed</th>\n",
              "    </tr>\n",
              "  </thead>\n",
              "  <tbody>\n",
              "    <tr>\n",
              "      <th>0</th>\n",
              "      <td>পিতা ছাড়া আত্মত্যাগ বড়ই দুঃখের। বারবার শুধু ...</td>\n",
              "      <td>1</td>\n",
              "      <td>126</td>\n",
              "      <td>পিতা ছাড়া আত্মত্যাগ বড়ই দুঃখের বারবার শুধু ব...</td>\n",
              "      <td>পিতা ছাড়া আত্মত্যাগ বড়ই দুঃখের বারবার শুধু ব...</td>\n",
              "      <td>['পিতা', 'আত্মত্যাগ', 'বড়ই', 'দুঃখের', 'বারবা...</td>\n",
              "      <td>[পিতা, আত্মত্যাগ, বড়ই, দুঃখের, বারবার, বাবার,...</td>\n",
              "      <td>[পিতা, আত্মত্যাগ, বড়, দুঃখ, বারবার, বাবা, কথা...</td>\n",
              "    </tr>\n",
              "    <tr>\n",
              "      <th>1</th>\n",
              "      <td>অসহ্য অনুভূতি ভয়ানক 😅👈</td>\n",
              "      <td>1</td>\n",
              "      <td>23</td>\n",
              "      <td>অসহ্য অনুভূতি ভয়ানক</td>\n",
              "      <td>অসহ্য অনুভূতি ভয়ানক</td>\n",
              "      <td>['অসহ্য', 'অনুভূতি', 'ভয়ানক']</td>\n",
              "      <td>[অসহ্য, অনুভূতি, ভয়ানক]</td>\n",
              "      <td>[অসহ্য, অনুভূতি, ভয়ানক]</td>\n",
              "    </tr>\n",
              "    <tr>\n",
              "      <th>2</th>\n",
              "      <td>এই বৃষ্টির দিনে, আসুন আমরা রাস্তায় হাঁটার সময...</td>\n",
              "      <td>1</td>\n",
              "      <td>92</td>\n",
              "      <td>এই বৃষ্টির দিনে আসুন আমরা রাস্তায় হাঁটার সময়...</td>\n",
              "      <td>এই বৃষ্টির দিনে আসুন আমরা রাস্তায় হাঁটার সময়...</td>\n",
              "      <td>['বৃষ্টির', 'দিনে', 'আসুন', 'রাস্তায়', 'হাঁটা...</td>\n",
              "      <td>[বৃষ্টির, দিনে, আসুন, রাস্তায়, হাঁটার, সময়, ...</td>\n",
              "      <td>[বৃষ্, দিনে, আসুন, রাস্তায়, হাঁ, সময়, একটু, ...</td>\n",
              "    </tr>\n",
              "    <tr>\n",
              "      <th>3</th>\n",
              "      <td>আকাশ তুমি মেঘলা কেন, তোমাকে কে বলেছে? আজ রোদের...</td>\n",
              "      <td>1</td>\n",
              "      <td>117</td>\n",
              "      <td>আকাশ তুমি মেঘলা কেন তোমাকে কে বলেছে আজ রোদের স...</td>\n",
              "      <td>আকাশ তুমি মেঘলা কেন তোমাকে কে বলেছে আজ রোদের স...</td>\n",
              "      <td>['আকাশ', 'মেঘলা', 'তোমাকে', 'বলেছে', 'রোদের', ...</td>\n",
              "      <td>[আকাশ, মেঘলা, তোমাকে, বলেছে, রোদের, সাথে, ঝগড়...</td>\n",
              "      <td>[আকাশ, মেঘলা, তোমাকে, বল, রোদের, সাথে, ঝগড়া, ...</td>\n",
              "    </tr>\n",
              "    <tr>\n",
              "      <th>4</th>\n",
              "      <td>আমি খুব বিষণ্ণ</td>\n",
              "      <td>1</td>\n",
              "      <td>14</td>\n",
              "      <td>আমি খুব বিষণ্ণ</td>\n",
              "      <td>আমি খুব বিষণ্ণ</td>\n",
              "      <td>['বিষণ্ণ']</td>\n",
              "      <td>[বিষণ্ণ]</td>\n",
              "      <td>[বিষণ্ণ]</td>\n",
              "    </tr>\n",
              "  </tbody>\n",
              "</table>\n",
              "</div>\n",
              "      <button class=\"colab-df-convert\" onclick=\"convertToInteractive('df-7ddb12ce-3543-40cd-88b6-523b0413cc9a')\"\n",
              "              title=\"Convert this dataframe to an interactive table.\"\n",
              "              style=\"display:none;\">\n",
              "        \n",
              "  <svg xmlns=\"http://www.w3.org/2000/svg\" height=\"24px\"viewBox=\"0 0 24 24\"\n",
              "       width=\"24px\">\n",
              "    <path d=\"M0 0h24v24H0V0z\" fill=\"none\"/>\n",
              "    <path d=\"M18.56 5.44l.94 2.06.94-2.06 2.06-.94-2.06-.94-.94-2.06-.94 2.06-2.06.94zm-11 1L8.5 8.5l.94-2.06 2.06-.94-2.06-.94L8.5 2.5l-.94 2.06-2.06.94zm10 10l.94 2.06.94-2.06 2.06-.94-2.06-.94-.94-2.06-.94 2.06-2.06.94z\"/><path d=\"M17.41 7.96l-1.37-1.37c-.4-.4-.92-.59-1.43-.59-.52 0-1.04.2-1.43.59L10.3 9.45l-7.72 7.72c-.78.78-.78 2.05 0 2.83L4 21.41c.39.39.9.59 1.41.59.51 0 1.02-.2 1.41-.59l7.78-7.78 2.81-2.81c.8-.78.8-2.07 0-2.86zM5.41 20L4 18.59l7.72-7.72 1.47 1.35L5.41 20z\"/>\n",
              "  </svg>\n",
              "      </button>\n",
              "      \n",
              "  <style>\n",
              "    .colab-df-container {\n",
              "      display:flex;\n",
              "      flex-wrap:wrap;\n",
              "      gap: 12px;\n",
              "    }\n",
              "\n",
              "    .colab-df-convert {\n",
              "      background-color: #E8F0FE;\n",
              "      border: none;\n",
              "      border-radius: 50%;\n",
              "      cursor: pointer;\n",
              "      display: none;\n",
              "      fill: #1967D2;\n",
              "      height: 32px;\n",
              "      padding: 0 0 0 0;\n",
              "      width: 32px;\n",
              "    }\n",
              "\n",
              "    .colab-df-convert:hover {\n",
              "      background-color: #E2EBFA;\n",
              "      box-shadow: 0px 1px 2px rgba(60, 64, 67, 0.3), 0px 1px 3px 1px rgba(60, 64, 67, 0.15);\n",
              "      fill: #174EA6;\n",
              "    }\n",
              "\n",
              "    [theme=dark] .colab-df-convert {\n",
              "      background-color: #3B4455;\n",
              "      fill: #D2E3FC;\n",
              "    }\n",
              "\n",
              "    [theme=dark] .colab-df-convert:hover {\n",
              "      background-color: #434B5C;\n",
              "      box-shadow: 0px 1px 3px 1px rgba(0, 0, 0, 0.15);\n",
              "      filter: drop-shadow(0px 1px 2px rgba(0, 0, 0, 0.3));\n",
              "      fill: #FFFFFF;\n",
              "    }\n",
              "  </style>\n",
              "\n",
              "      <script>\n",
              "        const buttonEl =\n",
              "          document.querySelector('#df-7ddb12ce-3543-40cd-88b6-523b0413cc9a button.colab-df-convert');\n",
              "        buttonEl.style.display =\n",
              "          google.colab.kernel.accessAllowed ? 'block' : 'none';\n",
              "\n",
              "        async function convertToInteractive(key) {\n",
              "          const element = document.querySelector('#df-7ddb12ce-3543-40cd-88b6-523b0413cc9a');\n",
              "          const dataTable =\n",
              "            await google.colab.kernel.invokeFunction('convertToInteractive',\n",
              "                                                     [key], {});\n",
              "          if (!dataTable) return;\n",
              "\n",
              "          const docLinkHtml = 'Like what you see? Visit the ' +\n",
              "            '<a target=\"_blank\" href=https://colab.research.google.com/notebooks/data_table.ipynb>data table notebook</a>'\n",
              "            + ' to learn more about interactive tables.';\n",
              "          element.innerHTML = '';\n",
              "          dataTable['output_type'] = 'display_data';\n",
              "          await google.colab.output.renderOutput(dataTable, element);\n",
              "          const docLink = document.createElement('div');\n",
              "          docLink.innerHTML = docLinkHtml;\n",
              "          element.appendChild(docLink);\n",
              "        }\n",
              "      </script>\n",
              "    </div>\n",
              "  </div>\n",
              "  "
            ]
          },
          "metadata": {},
          "execution_count": 448
        }
      ],
      "source": [
        "data.head()"
      ]
    },
    {
      "cell_type": "markdown",
      "metadata": {
        "id": "iBVa_0Ag_SsX"
      },
      "source": [
        "### Sentence"
      ]
    },
    {
      "cell_type": "code",
      "execution_count": null,
      "metadata": {
        "colab": {
          "base_uri": "https://localhost:8080/",
          "height": 424
        },
        "id": "nBEaoD1GtS6c",
        "outputId": "5324b86d-cb05-4156-a022-64be810c23dd"
      },
      "outputs": [
        {
          "output_type": "execute_result",
          "data": {
            "text/plain": [
              "                                                Text  Label  length  \\\n",
              "0  পিতা ছাড়া আত্মত্যাগ বড়ই দুঃখের। বারবার শুধু ...      1     126   \n",
              "1                            অসহ্য অনুভূতি ভয়ানক 😅👈      1      23   \n",
              "2  এই বৃষ্টির দিনে, আসুন আমরা রাস্তায় হাঁটার সময...      1      92   \n",
              "3  আকাশ তুমি মেঘলা কেন, তোমাকে কে বলেছে? আজ রোদের...      1     117   \n",
              "4                                     আমি খুব বিষণ্ণ      1      14   \n",
              "\n",
              "                                 Removed Puncutation  \\\n",
              "0  পিতা ছাড়া আত্মত্যাগ বড়ই দুঃখের বারবার শুধু ব...   \n",
              "1                               অসহ্য অনুভূতি ভয়ানক   \n",
              "2  এই বৃষ্টির দিনে আসুন আমরা রাস্তায় হাঁটার সময়...   \n",
              "3  আকাশ তুমি মেঘলা কেন তোমাকে কে বলেছে আজ রোদের স...   \n",
              "4                                     আমি খুব বিষণ্ণ   \n",
              "\n",
              "                                          remove Eng  \\\n",
              "0  পিতা ছাড়া আত্মত্যাগ বড়ই দুঃখের বারবার শুধু ব...   \n",
              "1                               অসহ্য অনুভূতি ভয়ানক   \n",
              "2  এই বৃষ্টির দিনে আসুন আমরা রাস্তায় হাঁটার সময়...   \n",
              "3  আকাশ তুমি মেঘলা কেন তোমাকে কে বলেছে আজ রোদের স...   \n",
              "4                                     আমি খুব বিষণ্ণ   \n",
              "\n",
              "                                Removed Stopped word  \\\n",
              "0  ['পিতা', 'আত্মত্যাগ', 'বড়ই', 'দুঃখের', 'বারবা...   \n",
              "1                     ['অসহ্য', 'অনুভূতি', 'ভয়ানক']   \n",
              "2  ['বৃষ্টির', 'দিনে', 'আসুন', 'রাস্তায়', 'হাঁটা...   \n",
              "3  ['আকাশ', 'মেঘলা', 'তোমাকে', 'বলেছে', 'রোদের', ...   \n",
              "4                                         ['বিষণ্ণ']   \n",
              "\n",
              "                                           tokenizer  \\\n",
              "0  [পিতা, আত্মত্যাগ, বড়ই, দুঃখের, বারবার, বাবার,...   \n",
              "1                           [অসহ্য, অনুভূতি, ভয়ানক]   \n",
              "2  [বৃষ্টির, দিনে, আসুন, রাস্তায়, হাঁটার, সময়, ...   \n",
              "3  [আকাশ, মেঘলা, তোমাকে, বলেছে, রোদের, সাথে, ঝগড়...   \n",
              "4                                           [বিষণ্ণ]   \n",
              "\n",
              "                                             stemmed  \\\n",
              "0  [পিতা, আত্মত্যাগ, বড়, দুঃখ, বারবার, বাবা, কথা...   \n",
              "1                           [অসহ্য, অনুভূতি, ভয়ানক]   \n",
              "2  [বৃষ্, দিনে, আসুন, রাস্তায়, হাঁ, সময়, একটু, ...   \n",
              "3  [আকাশ, মেঘলা, তোমাকে, বল, রোদের, সাথে, ঝগড়া, ...   \n",
              "4                                           [বিষণ্ণ]   \n",
              "\n",
              "                                            sentence  \n",
              "0  পিতা আত্মত্যাগ বড় দুঃখ বারবার বাবা কথা পড়ে হ...  \n",
              "1                               অসহ্য অনুভূতি ভয়ানক  \n",
              "2  বৃষ্ দিনে আসুন রাস্তায় হাঁ সময় একটু সতর্ক হই...  \n",
              "3  আকাশ মেঘলা তোমাকে বল রোদের সাথে ঝগড়া নইলে সকা...  \n",
              "4                                             বিষণ্ণ  "
            ],
            "text/html": [
              "\n",
              "  <div id=\"df-632296f3-651e-4d75-b680-0b5ffcc024fc\">\n",
              "    <div class=\"colab-df-container\">\n",
              "      <div>\n",
              "<style scoped>\n",
              "    .dataframe tbody tr th:only-of-type {\n",
              "        vertical-align: middle;\n",
              "    }\n",
              "\n",
              "    .dataframe tbody tr th {\n",
              "        vertical-align: top;\n",
              "    }\n",
              "\n",
              "    .dataframe thead th {\n",
              "        text-align: right;\n",
              "    }\n",
              "</style>\n",
              "<table border=\"1\" class=\"dataframe\">\n",
              "  <thead>\n",
              "    <tr style=\"text-align: right;\">\n",
              "      <th></th>\n",
              "      <th>Text</th>\n",
              "      <th>Label</th>\n",
              "      <th>length</th>\n",
              "      <th>Removed Puncutation</th>\n",
              "      <th>remove Eng</th>\n",
              "      <th>Removed Stopped word</th>\n",
              "      <th>tokenizer</th>\n",
              "      <th>stemmed</th>\n",
              "      <th>sentence</th>\n",
              "    </tr>\n",
              "  </thead>\n",
              "  <tbody>\n",
              "    <tr>\n",
              "      <th>0</th>\n",
              "      <td>পিতা ছাড়া আত্মত্যাগ বড়ই দুঃখের। বারবার শুধু ...</td>\n",
              "      <td>1</td>\n",
              "      <td>126</td>\n",
              "      <td>পিতা ছাড়া আত্মত্যাগ বড়ই দুঃখের বারবার শুধু ব...</td>\n",
              "      <td>পিতা ছাড়া আত্মত্যাগ বড়ই দুঃখের বারবার শুধু ব...</td>\n",
              "      <td>['পিতা', 'আত্মত্যাগ', 'বড়ই', 'দুঃখের', 'বারবা...</td>\n",
              "      <td>[পিতা, আত্মত্যাগ, বড়ই, দুঃখের, বারবার, বাবার,...</td>\n",
              "      <td>[পিতা, আত্মত্যাগ, বড়, দুঃখ, বারবার, বাবা, কথা...</td>\n",
              "      <td>পিতা আত্মত্যাগ বড় দুঃখ বারবার বাবা কথা পড়ে হ...</td>\n",
              "    </tr>\n",
              "    <tr>\n",
              "      <th>1</th>\n",
              "      <td>অসহ্য অনুভূতি ভয়ানক 😅👈</td>\n",
              "      <td>1</td>\n",
              "      <td>23</td>\n",
              "      <td>অসহ্য অনুভূতি ভয়ানক</td>\n",
              "      <td>অসহ্য অনুভূতি ভয়ানক</td>\n",
              "      <td>['অসহ্য', 'অনুভূতি', 'ভয়ানক']</td>\n",
              "      <td>[অসহ্য, অনুভূতি, ভয়ানক]</td>\n",
              "      <td>[অসহ্য, অনুভূতি, ভয়ানক]</td>\n",
              "      <td>অসহ্য অনুভূতি ভয়ানক</td>\n",
              "    </tr>\n",
              "    <tr>\n",
              "      <th>2</th>\n",
              "      <td>এই বৃষ্টির দিনে, আসুন আমরা রাস্তায় হাঁটার সময...</td>\n",
              "      <td>1</td>\n",
              "      <td>92</td>\n",
              "      <td>এই বৃষ্টির দিনে আসুন আমরা রাস্তায় হাঁটার সময়...</td>\n",
              "      <td>এই বৃষ্টির দিনে আসুন আমরা রাস্তায় হাঁটার সময়...</td>\n",
              "      <td>['বৃষ্টির', 'দিনে', 'আসুন', 'রাস্তায়', 'হাঁটা...</td>\n",
              "      <td>[বৃষ্টির, দিনে, আসুন, রাস্তায়, হাঁটার, সময়, ...</td>\n",
              "      <td>[বৃষ্, দিনে, আসুন, রাস্তায়, হাঁ, সময়, একটু, ...</td>\n",
              "      <td>বৃষ্ দিনে আসুন রাস্তায় হাঁ সময় একটু সতর্ক হই...</td>\n",
              "    </tr>\n",
              "    <tr>\n",
              "      <th>3</th>\n",
              "      <td>আকাশ তুমি মেঘলা কেন, তোমাকে কে বলেছে? আজ রোদের...</td>\n",
              "      <td>1</td>\n",
              "      <td>117</td>\n",
              "      <td>আকাশ তুমি মেঘলা কেন তোমাকে কে বলেছে আজ রোদের স...</td>\n",
              "      <td>আকাশ তুমি মেঘলা কেন তোমাকে কে বলেছে আজ রোদের স...</td>\n",
              "      <td>['আকাশ', 'মেঘলা', 'তোমাকে', 'বলেছে', 'রোদের', ...</td>\n",
              "      <td>[আকাশ, মেঘলা, তোমাকে, বলেছে, রোদের, সাথে, ঝগড়...</td>\n",
              "      <td>[আকাশ, মেঘলা, তোমাকে, বল, রোদের, সাথে, ঝগড়া, ...</td>\n",
              "      <td>আকাশ মেঘলা তোমাকে বল রোদের সাথে ঝগড়া নইলে সকা...</td>\n",
              "    </tr>\n",
              "    <tr>\n",
              "      <th>4</th>\n",
              "      <td>আমি খুব বিষণ্ণ</td>\n",
              "      <td>1</td>\n",
              "      <td>14</td>\n",
              "      <td>আমি খুব বিষণ্ণ</td>\n",
              "      <td>আমি খুব বিষণ্ণ</td>\n",
              "      <td>['বিষণ্ণ']</td>\n",
              "      <td>[বিষণ্ণ]</td>\n",
              "      <td>[বিষণ্ণ]</td>\n",
              "      <td>বিষণ্ণ</td>\n",
              "    </tr>\n",
              "  </tbody>\n",
              "</table>\n",
              "</div>\n",
              "      <button class=\"colab-df-convert\" onclick=\"convertToInteractive('df-632296f3-651e-4d75-b680-0b5ffcc024fc')\"\n",
              "              title=\"Convert this dataframe to an interactive table.\"\n",
              "              style=\"display:none;\">\n",
              "        \n",
              "  <svg xmlns=\"http://www.w3.org/2000/svg\" height=\"24px\"viewBox=\"0 0 24 24\"\n",
              "       width=\"24px\">\n",
              "    <path d=\"M0 0h24v24H0V0z\" fill=\"none\"/>\n",
              "    <path d=\"M18.56 5.44l.94 2.06.94-2.06 2.06-.94-2.06-.94-.94-2.06-.94 2.06-2.06.94zm-11 1L8.5 8.5l.94-2.06 2.06-.94-2.06-.94L8.5 2.5l-.94 2.06-2.06.94zm10 10l.94 2.06.94-2.06 2.06-.94-2.06-.94-.94-2.06-.94 2.06-2.06.94z\"/><path d=\"M17.41 7.96l-1.37-1.37c-.4-.4-.92-.59-1.43-.59-.52 0-1.04.2-1.43.59L10.3 9.45l-7.72 7.72c-.78.78-.78 2.05 0 2.83L4 21.41c.39.39.9.59 1.41.59.51 0 1.02-.2 1.41-.59l7.78-7.78 2.81-2.81c.8-.78.8-2.07 0-2.86zM5.41 20L4 18.59l7.72-7.72 1.47 1.35L5.41 20z\"/>\n",
              "  </svg>\n",
              "      </button>\n",
              "      \n",
              "  <style>\n",
              "    .colab-df-container {\n",
              "      display:flex;\n",
              "      flex-wrap:wrap;\n",
              "      gap: 12px;\n",
              "    }\n",
              "\n",
              "    .colab-df-convert {\n",
              "      background-color: #E8F0FE;\n",
              "      border: none;\n",
              "      border-radius: 50%;\n",
              "      cursor: pointer;\n",
              "      display: none;\n",
              "      fill: #1967D2;\n",
              "      height: 32px;\n",
              "      padding: 0 0 0 0;\n",
              "      width: 32px;\n",
              "    }\n",
              "\n",
              "    .colab-df-convert:hover {\n",
              "      background-color: #E2EBFA;\n",
              "      box-shadow: 0px 1px 2px rgba(60, 64, 67, 0.3), 0px 1px 3px 1px rgba(60, 64, 67, 0.15);\n",
              "      fill: #174EA6;\n",
              "    }\n",
              "\n",
              "    [theme=dark] .colab-df-convert {\n",
              "      background-color: #3B4455;\n",
              "      fill: #D2E3FC;\n",
              "    }\n",
              "\n",
              "    [theme=dark] .colab-df-convert:hover {\n",
              "      background-color: #434B5C;\n",
              "      box-shadow: 0px 1px 3px 1px rgba(0, 0, 0, 0.15);\n",
              "      filter: drop-shadow(0px 1px 2px rgba(0, 0, 0, 0.3));\n",
              "      fill: #FFFFFF;\n",
              "    }\n",
              "  </style>\n",
              "\n",
              "      <script>\n",
              "        const buttonEl =\n",
              "          document.querySelector('#df-632296f3-651e-4d75-b680-0b5ffcc024fc button.colab-df-convert');\n",
              "        buttonEl.style.display =\n",
              "          google.colab.kernel.accessAllowed ? 'block' : 'none';\n",
              "\n",
              "        async function convertToInteractive(key) {\n",
              "          const element = document.querySelector('#df-632296f3-651e-4d75-b680-0b5ffcc024fc');\n",
              "          const dataTable =\n",
              "            await google.colab.kernel.invokeFunction('convertToInteractive',\n",
              "                                                     [key], {});\n",
              "          if (!dataTable) return;\n",
              "\n",
              "          const docLinkHtml = 'Like what you see? Visit the ' +\n",
              "            '<a target=\"_blank\" href=https://colab.research.google.com/notebooks/data_table.ipynb>data table notebook</a>'\n",
              "            + ' to learn more about interactive tables.';\n",
              "          element.innerHTML = '';\n",
              "          dataTable['output_type'] = 'display_data';\n",
              "          await google.colab.output.renderOutput(dataTable, element);\n",
              "          const docLink = document.createElement('div');\n",
              "          docLink.innerHTML = docLinkHtml;\n",
              "          element.appendChild(docLink);\n",
              "        }\n",
              "      </script>\n",
              "    </div>\n",
              "  </div>\n",
              "  "
            ]
          },
          "metadata": {},
          "execution_count": 449
        }
      ],
      "source": [
        "data['sentence']=data['stemmed'].apply(' '.join)\n",
        "data.head()"
      ]
    },
    {
      "cell_type": "code",
      "execution_count": null,
      "metadata": {
        "colab": {
          "base_uri": "https://localhost:8080/"
        },
        "id": "2hwUDGH__lO6",
        "outputId": "19331855-c3a2-4578-fdf1-75080c13dba5"
      },
      "outputs": [
        {
          "output_type": "stream",
          "name": "stdout",
          "text": [
            "পিতা ছাড়া আত্মত্যাগ বড়ই দুঃখের। বারবার শুধু বাবার কথাই মনে পড়ে। হে আল্লাহ তুমি আমার বাবাকে জান্নাতের সর্বোচ্চ মাকাম দান কর।\n"
          ]
        }
      ],
      "source": [
        "print(data[\"Text\"][0])"
      ]
    },
    {
      "cell_type": "code",
      "execution_count": null,
      "metadata": {
        "colab": {
          "base_uri": "https://localhost:8080/"
        },
        "id": "G3RuJ_5l3tId",
        "outputId": "381e2bce-4285-4ded-e569-5ec9b1a09cd4"
      },
      "outputs": [
        {
          "output_type": "stream",
          "name": "stdout",
          "text": [
            "পিতা আত্মত্যাগ বড় দুঃখ বারবার বাবা কথা পড়ে হে আল্লাহ বাবা জান্নাত সর্বোচ্চ মাকাম দান কর\n"
          ]
        }
      ],
      "source": [
        "print(data[\"sentence\"][0])"
      ]
    },
    {
      "cell_type": "markdown",
      "source": [
        "# STEP #4: COUNT VECTORIZER"
      ],
      "metadata": {
        "id": "zswwRx643rbl"
      }
    },
    {
      "cell_type": "markdown",
      "metadata": {
        "id": "qVKh2baX3tCo"
      },
      "source": [
        "### APPLY COUNT VECTORIZER"
      ]
    },
    {
      "cell_type": "code",
      "execution_count": null,
      "metadata": {
        "id": "eBsEdd7p3s_2"
      },
      "outputs": [],
      "source": [
        "from sklearn.feature_extraction.text import CountVectorizer\n",
        "# Define the cleaning pipeline we defined earlier\n",
        "vectorizer = CountVectorizer()"
      ]
    },
    {
      "cell_type": "code",
      "execution_count": null,
      "metadata": {
        "id": "GndH56LB3s8o"
      },
      "outputs": [],
      "source": [
        "depressed_countvectorizer = vectorizer.fit_transform(data['sentence'])"
      ]
    },
    {
      "cell_type": "code",
      "execution_count": null,
      "metadata": {
        "colab": {
          "base_uri": "https://localhost:8080/"
        },
        "id": "0n5VHQR-3s5m",
        "outputId": "6ec22640-4fb1-413e-fdbb-d6e0d28b297b"
      },
      "outputs": [
        {
          "output_type": "stream",
          "name": "stdout",
          "text": [
            "['অক', 'অগ', 'অচ', 'অজ', 'অঝ', 'অত', 'অতপর', 'অথ', 'অথচ', 'অদ', 'অধ', 'অন', 'অপ', 'অপম', 'অপর', 'অপরজন', 'অফ', 'অব', 'অবনত', 'অবল', 'অবশ', 'অবসর', 'অবহ', 'অভ', 'অর', 'অল', 'অলম', 'অশ', 'অষ', 'অস', 'অসন', 'অসম', 'অসহ', 'অহ', 'আইজক', 'আইন', 'আক', 'আকর', 'আকষ', 'আগ', 'আগল', 'আঘ', 'আচ', 'আছ', 'আজ', 'আজন', 'আজব', 'আট', 'আড', 'আত', 'আথচ', 'আদর', 'আধ', 'আন', 'আনন', 'আপ', 'আপন', 'আপম', 'আফস', 'আব', 'আম', 'আয', 'আর', 'আরব', 'আল', 'আলহ', 'আশ', 'আশঙ', 'আস', 'আসছ', 'আসব', 'আসম', 'আসল', 'আড়', 'আয়', 'ইআব', 'ইউর', 'ইএ', 'ইওয়', 'ইক', 'ইকষ', 'ইচ', 'ইজ', 'ইজনয', 'ইট', 'ইড', 'ইত', 'ইদ', 'ইন', 'ইনক', 'ইনবক', 'ইনশ', 'ইব', 'ইভ', 'ইম', 'ইয', 'ইর', 'ইল', 'ইলড', 'ইশ', 'ইস', 'ইয়', 'ঈদ', 'ঈদউদআযহ', 'ঈশ', 'উক', 'উচ', 'উজ', 'উঠ', 'উঠব', 'উঠল', 'উদ', 'উন', 'উপ', 'উপন', 'উপভ', 'উপর', 'উপলক', 'উব', 'উম', 'উময', 'উল', 'উৎপত', 'উৎসপ', 'উৎসব', 'উড়', 'এই', 'এইভ', 'এক', 'একজন', 'একট', 'একথ', 'একদ', 'একদল', 'একম', 'একর', 'একরকম', 'একসময', 'এখন', 'এগ', 'এট', 'এত', 'এন', 'এভ', 'এমন', 'এমনক', 'এমনভ', 'এরপর', 'এল', 'এস', 'এসব', 'এয়', 'ওঅব', 'ওআজ', 'ওএমআর', 'ওক', 'ওঠ', 'ওত', 'ওন', 'ওপর', 'ওয', 'ওর', 'ওয়', 'ঔষধ', 'কআম', 'কই', 'কইভ', 'কইযত', 'কখন', 'কঘন', 'কজন', 'কট', 'কটক', 'কঠ', 'কড', 'কণ', 'কত', 'কতশত', 'কথ', 'কদ', 'কন', 'কব', 'কবরস', 'কভ', 'কম', 'কয', 'কর', 'করছ', 'করত', 'করব', 'করল', 'কল', 'কলহ', 'কষ', 'কয়', 'খত', 'খব', 'খবর', 'খরচ', 'গজ', 'গঠন', 'গণ', 'গণগ', 'গত', 'গতর', 'গভ', 'গম', 'গর', 'গল', 'ঘট', 'ঘটক', 'ঘটন', 'ঘটল', 'ঘণ', 'ঘন', 'ঘর', 'ঘল', 'চকত', 'চকর', 'চড', 'চন', 'চব', 'চয', 'চর', 'চল', 'চয়', 'ছক', 'ছত', 'ছন', 'ছব', 'ছর', 'ছলন', 'জগ', 'জড', 'জত', 'জতব', 'জদ', 'জন', 'জনকল', 'জনগন', 'জনত', 'জনস', 'জব', 'জম', 'জমজম', 'জর', 'জল', 'জয়', 'ঝগড', 'ঝড', 'ঝপথ', 'ঝব', 'ঝর', 'ঝল', 'ঞত', 'টঘ', 'টপ', 'টপটপ', 'টপদ', 'টপস', 'টব', 'টম', 'টর', 'টহ', 'টহচ', 'টয়ল', 'ঠক', 'ঠগ', 'ডন', 'ণকর', 'ণন', 'ণভর', 'তকষ', 'তখন', 'তজ', 'তত', 'তদন', 'তন', 'তব', 'তবত', 'তবড়', 'তর', 'তল', 'তলআর', 'তলক', 'তহ', 'তয়', 'থত', 'থন', 'থপর', 'থর', 'থল', 'থহ', 'দখল', 'দছ', 'দণ', 'দন', 'দপ', 'দময', 'দয', 'দর', 'দরক', 'দরখ', 'দহ', 'দয়', 'ধক', 'ধন', 'ধব', 'ধম', 'ধর', 'ধরল', 'ধশক', 'নঅন', 'নঅর', 'নআর', 'নই', 'নইল', 'নক', 'নখ', 'নখদর', 'নত', 'নতব', 'নতম', 'নদ', 'নন', 'নব', 'নয', 'নযদ', 'নর', 'নশ', 'নশন', 'নষ', 'নস', 'নসঠ', 'নয়', 'নয়অন', 'নয়আত', 'নয়তব', 'পক', 'পকথ', 'পছন', 'পড', 'পণ', 'পত', 'পথ', 'পদ', 'পন', 'পব', 'পভ', 'পয', 'পযন', 'পর', 'পরক', 'পরদ', 'পল', 'পহ', 'পড়', 'পয়স', 'ফট', 'ফর', 'ফল', 'বই', 'বইপ', 'বক', 'বছ', 'বছর', 'বজন', 'বট', 'বড', 'বত', 'বদ', 'বন', 'বনতব', 'বনয', 'বপ', 'বয', 'বর', 'বরণ', 'বরফ', 'বল', 'বলছ', 'বলত', 'বলব', 'বলল', 'বস', 'বসব', 'বসল', 'বহ', 'বহন', 'বড়', 'বয়স', 'ভগব', 'ভদ', 'ভধ', 'ভব', 'ভবত', 'ভবন', 'ভয', 'ভর', 'ভরশ', 'ভরস', 'ভয়', 'মআব', 'মএকট', 'মএব', 'মকই', 'মজ', 'মত', 'মতন', 'মদ', 'মধ', 'মন', 'মনঅস', 'মনএত', 'মপ', 'মফ', 'মফল', 'মব', 'মম', 'ময', 'মযদ', 'মর', 'মরণ', 'মরন', 'মস', 'মসজ', 'মসম', 'মহ', 'মহত', 'ময়', 'যআল', 'যক', 'যকগ', 'যখন', 'যগ', 'যত', 'যতদ', 'যথ', 'যদ', 'যন', 'যব', 'যবধ', 'যময়', 'যর', 'যস', 'রঅত', 'রআম', 'রই', 'রএকঘ', 'রএমন', 'রও', 'রক', 'রকম', 'রখর', 'রগ', 'রচ', 'রচণ', 'রচন', 'রছ', 'রড', 'রণ', 'রণত', 'রণয', 'রত', 'রতর', 'রথমব', 'রদ', 'রদর', 'রন', 'রনট', 'রপ', 'রপর', 'রপল', 'রফ', 'রব', 'রবত', 'রবল', 'রবলত', 'রভ', 'রম', 'রমন', 'রয', 'রর', 'রল', 'রশ', 'রস', 'রহ', 'রহম', 'রহস', 'রয়', 'লক', 'লকত', 'লজ', 'লঞ', 'লত', 'লতব', 'লন', 'লব', 'লম', 'লল', 'শক', 'শত', 'শতভ', 'শন', 'শপ', 'শব', 'শভ', 'শর', 'শহর', 'ষগ', 'ষজন', 'ষট', 'ষণ', 'ষত', 'ষন', 'ষপত', 'ষম', 'ষমত', 'ষয', 'ষয়ক', 'সএকদ', 'সক', 'সকল', 'সকলক', 'সকষ', 'সঙ', 'সট', 'সড', 'সত', 'সতর', 'সন', 'সপ', 'সফল', 'সব', 'সবক', 'সবখ', 'সবচ', 'সবট', 'সবসময়', 'সবহ', 'সম', 'সময', 'সমস', 'সময়', 'সর', 'সরক', 'সরলত', 'সল', 'সহ', 'সহজ', 'হআম', 'হই', 'হইল', 'হওয়', 'হচ', 'হট', 'হঠ', 'হত', 'হব', 'হয', 'হর', 'হল', 'হলফ', 'হস', 'হয়', 'হয়আজ', 'হয়আর', 'হয়ক', 'হয়ত', 'হয়ন', 'ৎক', 'ৎব', 'য়অবহ', 'য়আম', 'য়আশ', 'য়গ', 'য়ছ', 'য়জনসময়', 'য়ত', 'য়ন', 'য়ম', 'য়য', 'য়যদ', 'য়র', 'য়ল', 'য়শত', 'য়স', 'য়হ']\n"
          ]
        }
      ],
      "source": [
        "print(vectorizer.get_feature_names())"
      ]
    },
    {
      "cell_type": "code",
      "execution_count": null,
      "metadata": {
        "colab": {
          "base_uri": "https://localhost:8080/"
        },
        "id": "XHRDNbj-3s2g",
        "outputId": "91f1b9fd-73f9-43cb-aa40-201f492cc8ec"
      },
      "outputs": [
        {
          "output_type": "stream",
          "name": "stdout",
          "text": [
            "[[0 0 0 ... 0 0 0]\n",
            " [0 0 0 ... 0 0 0]\n",
            " [0 0 0 ... 0 0 0]\n",
            " ...\n",
            " [0 0 0 ... 0 0 0]\n",
            " [0 0 0 ... 0 0 0]\n",
            " [0 0 0 ... 0 0 0]]\n"
          ]
        }
      ],
      "source": [
        "print(depressed_countvectorizer.toarray())"
      ]
    },
    {
      "cell_type": "code",
      "execution_count": null,
      "metadata": {
        "colab": {
          "base_uri": "https://localhost:8080/"
        },
        "id": "wCl62M2V3szb",
        "outputId": "d633c6f8-1c07-40e3-be8f-33f1773edb2a"
      },
      "outputs": [
        {
          "output_type": "execute_result",
          "data": {
            "text/plain": [
              "(199, 588)"
            ]
          },
          "metadata": {},
          "execution_count": 462
        }
      ],
      "source": [
        "depressed_countvectorizer.shape"
      ]
    },
    {
      "cell_type": "markdown",
      "metadata": {
        "id": "yuAeIQ383stl"
      },
      "source": [
        "## TRAINING THE MODEL WITH ALL DATASET"
      ]
    },
    {
      "cell_type": "markdown",
      "metadata": {
        "id": "_mAC-dhAA1GM"
      },
      "source": [
        "## Naive_Bayes"
      ]
    },
    {
      "cell_type": "code",
      "execution_count": null,
      "metadata": {
        "colab": {
          "base_uri": "https://localhost:8080/"
        },
        "id": "9qCQ4PZd3sqK",
        "outputId": "65719626-616c-4467-fb90-a79b6c147ecb"
      },
      "outputs": [
        {
          "output_type": "execute_result",
          "data": {
            "text/plain": [
              "MultinomialNB()"
            ]
          },
          "metadata": {},
          "execution_count": 463
        }
      ],
      "source": [
        "from sklearn.naive_bayes import MultinomialNB\n",
        "\n",
        "NB_classifier = MultinomialNB()\n",
        "Label = data['Label'].values\n",
        "NB_classifier.fit(depressed_countvectorizer, Label)"
      ]
    },
    {
      "cell_type": "code",
      "execution_count": null,
      "metadata": {
        "id": "ilBDdrGO3sng"
      },
      "outputs": [],
      "source": [
        "testing_sample = [\" জীবনে আর আশার বানী ভাল্লাগে না।\"]\n",
        "testing_sample_countvectorizer = vectorizer.transform(testing_sample)"
      ]
    },
    {
      "cell_type": "code",
      "execution_count": null,
      "metadata": {
        "colab": {
          "base_uri": "https://localhost:8080/"
        },
        "id": "o3Cng7PL3sku",
        "outputId": "3793eb71-03a5-4c60-8dcd-fdb46fc0ac46"
      },
      "outputs": [
        {
          "output_type": "execute_result",
          "data": {
            "text/plain": [
              "array([1])"
            ]
          },
          "metadata": {},
          "execution_count": 465
        }
      ],
      "source": [
        "test_predict = NB_classifier.predict(testing_sample_countvectorizer)\n",
        "test_predict"
      ]
    },
    {
      "cell_type": "markdown",
      "metadata": {
        "id": "m304tC-g3shf"
      },
      "source": [
        "STEP#4: DIVIDE THE DATA INTO TRAINING AND TESTING PRIOR TO TRAINING"
      ]
    },
    {
      "cell_type": "code",
      "execution_count": null,
      "metadata": {
        "id": "MhghqvDg6dhH"
      },
      "outputs": [],
      "source": [
        "X = depressed_countvectorizer\n",
        "y = Label"
      ]
    },
    {
      "cell_type": "code",
      "execution_count": null,
      "metadata": {
        "colab": {
          "base_uri": "https://localhost:8080/"
        },
        "id": "3MzIiBxk6ddj",
        "outputId": "defc8161-4f90-4d72-99bb-81be48df3322"
      },
      "outputs": [
        {
          "output_type": "execute_result",
          "data": {
            "text/plain": [
              "(199, 588)"
            ]
          },
          "metadata": {},
          "execution_count": 467
        }
      ],
      "source": [
        "X.shape"
      ]
    },
    {
      "cell_type": "code",
      "execution_count": null,
      "metadata": {
        "colab": {
          "base_uri": "https://localhost:8080/"
        },
        "id": "jNWthtMw6dZz",
        "outputId": "374ce6ff-90d2-408b-df99-cc3d1668dac8"
      },
      "outputs": [
        {
          "output_type": "execute_result",
          "data": {
            "text/plain": [
              "(199,)"
            ]
          },
          "metadata": {},
          "execution_count": 468
        }
      ],
      "source": [
        "y.shape"
      ]
    },
    {
      "cell_type": "code",
      "execution_count": null,
      "metadata": {
        "id": "KranarBE6dWf"
      },
      "outputs": [],
      "source": [
        "from sklearn.model_selection import train_test_split\n",
        "X_train, X_test, y_train, y_test = train_test_split(X, y, test_size=0.2)"
      ]
    },
    {
      "cell_type": "code",
      "execution_count": null,
      "metadata": {
        "colab": {
          "base_uri": "https://localhost:8080/"
        },
        "id": "ZRDRl4Ty6dTm",
        "outputId": "199d7d1c-dcfd-4658-8f87-5455efab2ad1"
      },
      "outputs": [
        {
          "output_type": "execute_result",
          "data": {
            "text/plain": [
              "MultinomialNB()"
            ]
          },
          "metadata": {},
          "execution_count": 470
        }
      ],
      "source": [
        "from sklearn.naive_bayes import MultinomialNB\n",
        "\n",
        "NB_classifier = MultinomialNB()\n",
        "NB_classifier.fit(X_train, y_train)"
      ]
    },
    {
      "cell_type": "markdown",
      "metadata": {
        "id": "wIMPRJs06dQD"
      },
      "source": [
        "STEP#5: EVALUATING THE MODEL"
      ]
    },
    {
      "cell_type": "code",
      "execution_count": null,
      "metadata": {
        "colab": {
          "base_uri": "https://localhost:8080/",
          "height": 283
        },
        "id": "HnEFqBVm6y9v",
        "outputId": "629663c0-5f01-4067-9ac7-9a7a2b077a8d"
      },
      "outputs": [
        {
          "output_type": "execute_result",
          "data": {
            "text/plain": [
              "<matplotlib.axes._subplots.AxesSubplot at 0x7f637bd29cd0>"
            ]
          },
          "metadata": {},
          "execution_count": 471
        },
        {
          "output_type": "display_data",
          "data": {
            "text/plain": [
              "<Figure size 432x288 with 2 Axes>"
            ],
            "image/png": "[encoded data removed]"
          },
          "metadata": {
            "needs_background": "light"
          }
        }
      ],
      "source": [
        "from sklearn.metrics import classification_report, confusion_matrix\n",
        "\n",
        "y_predict_train = NB_classifier.predict(X_train)\n",
        "y_predict_train\n",
        "cm = confusion_matrix(y_train, y_predict_train)\n",
        "sns.heatmap(cm, annot=True)"
      ]
    },
    {
      "cell_type": "code",
      "execution_count": null,
      "metadata": {
        "colab": {
          "base_uri": "https://localhost:8080/",
          "height": 283
        },
        "id": "HYEOf92K6y6L",
        "outputId": "665694bb-21d5-4ab7-be08-e148af80a9bf"
      },
      "outputs": [
        {
          "output_type": "execute_result",
          "data": {
            "text/plain": [
              "<matplotlib.axes._subplots.AxesSubplot at 0x7f63650abe90>"
            ]
          },
          "metadata": {},
          "execution_count": 472
        },
        {
          "output_type": "display_data",
          "data": {
            "text/plain": [
              "<Figure size 432x288 with 2 Axes>"
            ],
            "image/png": "[encoded data removed]"
          },
          "metadata": {
            "needs_background": "light"
          }
        }
      ],
      "source": [
        "# Predicting the Test set results\n",
        "y_predict_test = NB_classifier.predict(X_test)\n",
        "cm = confusion_matrix(y_test, y_predict_test)\n",
        "sns.heatmap(cm, annot=True)"
      ]
    },
    {
      "cell_type": "code",
      "execution_count": null,
      "metadata": {
        "colab": {
          "base_uri": "https://localhost:8080/"
        },
        "id": "I8xZlaNj6y29",
        "outputId": "b3ea9322-01fc-4631-fb03-ba60a5e6e108"
      },
      "outputs": [
        {
          "output_type": "stream",
          "name": "stdout",
          "text": [
            "              precision    recall  f1-score   support\n",
            "\n",
            "           0       0.33      0.11      0.17         9\n",
            "           1       0.78      0.94      0.85        31\n",
            "\n",
            "    accuracy                           0.75        40\n",
            "   macro avg       0.56      0.52      0.51        40\n",
            "weighted avg       0.68      0.75      0.70        40\n",
            "\n"
          ]
        }
      ],
      "source": [
        "print(classification_report(y_test, y_predict_test))"
      ]
    },
    {
      "cell_type": "markdown",
      "metadata": {
        "id": "1PJVCcO5CzJR"
      },
      "source": [
        "## Cross Validation"
      ]
    },
    {
      "cell_type": "code",
      "execution_count": null,
      "metadata": {
        "colab": {
          "base_uri": "https://localhost:8080/"
        },
        "id": "IIOnCzAo6yzI",
        "outputId": "ddcf7709-f4b9-4a4c-dd30-b1c9cc329467"
      },
      "outputs": [
        {
          "output_type": "stream",
          "name": "stdout",
          "text": [
            "Accuracy: 76.73 %\n",
            "Standard Deviation: 3.14 %\n"
          ]
        }
      ],
      "source": [
        "from sklearn.model_selection import cross_val_score\n",
        "accuracies = cross_val_score(estimator = NB_classifier, X = X_train, y = y_train, cv = 5)\n",
        "print(\"Accuracy: {:.2f} %\".format(accuracies.mean()*100))\n",
        "print(\"Standard Deviation: {:.2f} %\".format(accuracies.std()*100))"
      ]
    },
    {
      "cell_type": "code",
      "execution_count": null,
      "metadata": {
        "id": "g-Zb-oBHCyyH"
      },
      "outputs": [],
      "source": [
        ""
      ]
    },
    {
      "cell_type": "code",
      "execution_count": null,
      "metadata": {
        "id": "Dg3tmXUZCyu9"
      },
      "outputs": [],
      "source": [
        ""
      ]
    },
    {
      "cell_type": "markdown",
      "metadata": {
        "id": "AClARDezAvjs"
      },
      "source": [
        "## Logistic Regression"
      ]
    },
    {
      "cell_type": "code",
      "execution_count": null,
      "metadata": {
        "colab": {
          "base_uri": "https://localhost:8080/"
        },
        "id": "sGlOjZ0UAvg5",
        "outputId": "6b1bbe9b-bad3-4053-89a8-70a549079376"
      },
      "outputs": [
        {
          "output_type": "execute_result",
          "data": {
            "text/plain": [
              "LogisticRegression()"
            ]
          },
          "metadata": {},
          "execution_count": 475
        }
      ],
      "source": [
        "#importing the logistic regression class from scikit learn library\n",
        "from sklearn.linear_model import LogisticRegression\n",
        "\n",
        "LR_classifier = LogisticRegression() #create LR Classifier\n",
        "LR_classifier.fit(X_train, y_train) #applying fit function to connect the training set"
      ]
    },
    {
      "cell_type": "markdown",
      "metadata": {
        "id": "R3qIEfRqBwSj"
      },
      "source": [
        "STEP#5: EVALUATING THE MODEL"
      ]
    },
    {
      "cell_type": "code",
      "execution_count": null,
      "metadata": {
        "colab": {
          "base_uri": "https://localhost:8080/",
          "height": 283
        },
        "id": "_lYyU1WmAvdR",
        "outputId": "ef05a05f-dada-45d3-ea6e-c7514c33c16a"
      },
      "outputs": [
        {
          "output_type": "execute_result",
          "data": {
            "text/plain": [
              "<matplotlib.axes._subplots.AxesSubplot at 0x7f6365038190>"
            ]
          },
          "metadata": {},
          "execution_count": 476
        },
        {
          "output_type": "display_data",
          "data": {
            "text/plain": [
              "<Figure size 432x288 with 2 Axes>"
            ],
            "image/png": "[encoded data removed]"
          },
          "metadata": {
            "needs_background": "light"
          }
        }
      ],
      "source": [
        "#importing classification report & confusion_matrix from scikit learn library\n",
        "from sklearn.metrics import classification_report, confusion_matrix\n",
        "\n",
        "\n",
        "#train the dataset with LR classifier\n",
        "y_predict_train = LR_classifier.predict(X_train)\n",
        "y_predict_train\n",
        "\n",
        "#Generate confusion matrix\n",
        "cm = confusion_matrix(y_train, y_predict_train)\n",
        "sns.heatmap(cm, annot=True) #generate heatmap"
      ]
    },
    {
      "cell_type": "code",
      "execution_count": null,
      "metadata": {
        "colab": {
          "base_uri": "https://localhost:8080/",
          "height": 283
        },
        "id": "r05qdAMyAvbA",
        "outputId": "53ac4588-f015-409d-eb61-d1d8a758f3e9"
      },
      "outputs": [
        {
          "output_type": "execute_result",
          "data": {
            "text/plain": [
              "<matplotlib.axes._subplots.AxesSubplot at 0x7f6364f657d0>"
            ]
          },
          "metadata": {},
          "execution_count": 477
        },
        {
          "output_type": "display_data",
          "data": {
            "text/plain": [
              "<Figure size 432x288 with 2 Axes>"
            ],
            "image/png": "[encoded data removed]"
          },
          "metadata": {
            "needs_background": "light"
          }
        }
      ],
      "source": [
        "#train the dataset with LR classifier\n",
        "y_predict_train = LR_classifier.predict(X_train)\n",
        "y_predict_train\n",
        "\n",
        "#Generate confusion matrix\n",
        "cm = confusion_matrix(y_train, y_predict_train)\n",
        "sns.heatmap(cm, annot=True) #generate heatmap"
      ]
    },
    {
      "cell_type": "code",
      "execution_count": null,
      "metadata": {
        "colab": {
          "base_uri": "https://localhost:8080/",
          "height": 283
        },
        "id": "RcTOmgOjAvYK",
        "outputId": "5c062386-8fb5-4f1b-b375-acbe652dbdcb"
      },
      "outputs": [
        {
          "output_type": "execute_result",
          "data": {
            "text/plain": [
              "<matplotlib.axes._subplots.AxesSubplot at 0x7f6364e9ea90>"
            ]
          },
          "metadata": {},
          "execution_count": 478
        },
        {
          "output_type": "display_data",
          "data": {
            "text/plain": [
              "<Figure size 432x288 with 2 Axes>"
            ],
            "image/png": "[encoded data removed]"
          },
          "metadata": {
            "needs_background": "light"
          }
        }
      ],
      "source": [
        "# Predicting the Test set results\n",
        "y_predict_test = LR_classifier.predict(X_test)\n",
        "cm = confusion_matrix(y_test, y_predict_test)\n",
        "sns.heatmap(cm, annot=True)"
      ]
    },
    {
      "cell_type": "code",
      "execution_count": null,
      "metadata": {
        "colab": {
          "base_uri": "https://localhost:8080/"
        },
        "id": "aUwOZrvbAvV1",
        "outputId": "b29c27e7-8000-4275-d034-a7caa6d12c7a"
      },
      "outputs": [
        {
          "output_type": "stream",
          "name": "stdout",
          "text": [
            "              precision    recall  f1-score   support\n",
            "\n",
            "           0       0.00      0.00      0.00         9\n",
            "           1       0.78      1.00      0.87        31\n",
            "\n",
            "    accuracy                           0.78        40\n",
            "   macro avg       0.39      0.50      0.44        40\n",
            "weighted avg       0.60      0.78      0.68        40\n",
            "\n"
          ]
        }
      ],
      "source": [
        "print(classification_report(y_test, y_predict_test))"
      ]
    },
    {
      "cell_type": "markdown",
      "metadata": {
        "id": "DEpzkb5KAvRa"
      },
      "source": [
        "## Cross Validation"
      ]
    },
    {
      "cell_type": "code",
      "execution_count": null,
      "metadata": {
        "colab": {
          "base_uri": "https://localhost:8080/"
        },
        "id": "uRGLBX7dAvO-",
        "outputId": "af5fc945-1df4-43b3-9c93-b35ad200c166"
      },
      "outputs": [
        {
          "output_type": "stream",
          "name": "stdout",
          "text": [
            "Accuracy: 82.40 %\n",
            "Standard Deviation: 1.42 %\n"
          ]
        }
      ],
      "source": [
        "from sklearn.model_selection import cross_val_score\n",
        "accuracies = cross_val_score(estimator = LR_classifier, X = X_train, y = y_train, cv = 5)\n",
        "print(\"Accuracy: {:.2f} %\".format(accuracies.mean()*100))\n",
        "print(\"Standard Deviation: {:.2f} %\".format(accuracies.std()*100))"
      ]
    },
    {
      "cell_type": "code",
      "execution_count": null,
      "metadata": {
        "id": "iqrHbB3sAvLc"
      },
      "outputs": [],
      "source": [
        ""
      ]
    },
    {
      "cell_type": "code",
      "execution_count": null,
      "metadata": {
        "id": "01B4N44XAvJQ"
      },
      "outputs": [],
      "source": [
        ""
      ]
    },
    {
      "cell_type": "markdown",
      "metadata": {
        "id": "j9YuNu-iAvF_"
      },
      "source": [
        "## SVM"
      ]
    },
    {
      "cell_type": "code",
      "execution_count": null,
      "metadata": {
        "colab": {
          "base_uri": "https://localhost:8080/"
        },
        "id": "Q9KzuNW1AvDp",
        "outputId": "1ead9cc5-b2c4-4abf-b37c-6f13cc845e9f"
      },
      "outputs": [
        {
          "output_type": "execute_result",
          "data": {
            "text/plain": [
              "SVC(kernel='linear', random_state=0)"
            ]
          },
          "metadata": {},
          "execution_count": 481
        }
      ],
      "source": [
        "from sklearn.svm import SVC\n",
        "\n",
        "SVM_classifier = SVC(kernel = 'linear', random_state = 0)\n",
        "SVM_classifier.fit(X_train, y_train)"
      ]
    },
    {
      "cell_type": "code",
      "execution_count": null,
      "metadata": {
        "colab": {
          "base_uri": "https://localhost:8080/",
          "height": 283
        },
        "id": "ZFlu-I9QAvAF",
        "outputId": "ca2f7037-f269-4247-cd9a-058fe6338544"
      },
      "outputs": [
        {
          "output_type": "execute_result",
          "data": {
            "text/plain": [
              "<matplotlib.axes._subplots.AxesSubplot at 0x7f6364dc88d0>"
            ]
          },
          "metadata": {},
          "execution_count": 482
        },
        {
          "output_type": "display_data",
          "data": {
            "text/plain": [
              "<Figure size 432x288 with 2 Axes>"
            ],
            "image/png": "[encoded data removed]"
          },
          "metadata": {
            "needs_background": "light"
          }
        }
      ],
      "source": [
        "from sklearn.metrics import classification_report, confusion_matrix, accuracy_score\n",
        "\n",
        "\n",
        "y_predict_train = SVM_classifier.predict(X_train)\n",
        "y_predict_train\n",
        "cm = confusion_matrix(y_train, y_predict_train)\n",
        "sns.heatmap(cm, annot=True)"
      ]
    },
    {
      "cell_type": "code",
      "execution_count": null,
      "metadata": {
        "colab": {
          "base_uri": "https://localhost:8080/",
          "height": 283
        },
        "id": "DIsFZ-FMAu9q",
        "outputId": "42a2be70-e199-45a4-fa66-ac63cd6c2cd6"
      },
      "outputs": [
        {
          "output_type": "execute_result",
          "data": {
            "text/plain": [
              "<matplotlib.axes._subplots.AxesSubplot at 0x7f6364d13790>"
            ]
          },
          "metadata": {},
          "execution_count": 483
        },
        {
          "output_type": "display_data",
          "data": {
            "text/plain": [
              "<Figure size 432x288 with 2 Axes>"
            ],
            "image/png": "[encoded data removed]"
          },
          "metadata": {
            "needs_background": "light"
          }
        }
      ],
      "source": [
        "# Predicting the Test set results\n",
        "y_predict_test =SVM_classifier.predict(X_test)\n",
        "cm = confusion_matrix(y_test,y_predict_test)\n",
        "sns.heatmap(cm, annot=True)"
      ]
    },
    {
      "cell_type": "code",
      "execution_count": null,
      "metadata": {
        "colab": {
          "base_uri": "https://localhost:8080/"
        },
        "id": "Kcs-FVs_Au7O",
        "outputId": "651baad7-4a2f-40e8-8965-8ca3b553fde6"
      },
      "outputs": [
        {
          "output_type": "stream",
          "name": "stdout",
          "text": [
            "              precision    recall  f1-score   support\n",
            "\n",
            "           0       0.00      0.00      0.00         9\n",
            "           1       0.76      0.90      0.82        31\n",
            "\n",
            "    accuracy                           0.70        40\n",
            "   macro avg       0.38      0.45      0.41        40\n",
            "weighted avg       0.59      0.70      0.64        40\n",
            "\n"
          ]
        }
      ],
      "source": [
        "print(classification_report(y_test, y_predict_test))"
      ]
    },
    {
      "cell_type": "markdown",
      "metadata": {
        "id": "vjkNgo-QAu4j"
      },
      "source": [
        "## Cross Validation"
      ]
    },
    {
      "cell_type": "code",
      "execution_count": null,
      "metadata": {
        "colab": {
          "base_uri": "https://localhost:8080/"
        },
        "id": "7oALjuhZAu2I",
        "outputId": "39468313-996c-4f88-f65c-22b0213fb9f9"
      },
      "outputs": [
        {
          "output_type": "stream",
          "name": "stdout",
          "text": [
            "Accuracy: 78.55 %\n",
            "Standard Deviation: 5.75 %\n"
          ]
        }
      ],
      "source": [
        "from sklearn.model_selection import cross_val_score\n",
        "accuracies = cross_val_score(estimator = SVM_classifier, X = X_train, y = y_train, cv = 5)\n",
        "print(\"Accuracy: {:.2f} %\".format(accuracies.mean()*100))\n",
        "print(\"Standard Deviation: {:.2f} %\".format(accuracies.std()*100))"
      ]
    },
    {
      "cell_type": "code",
      "execution_count": null,
      "metadata": {
        "id": "4jgFtW2wAuzK"
      },
      "outputs": [],
      "source": [
        ""
      ]
    },
    {
      "cell_type": "code",
      "execution_count": null,
      "metadata": {
        "id": "RF0TMEChAuwj"
      },
      "outputs": [],
      "source": [
        ""
      ]
    },
    {
      "cell_type": "markdown",
      "metadata": {
        "id": "WWS5UOr7Autw"
      },
      "source": [
        "## RANDOM FOREST"
      ]
    },
    {
      "cell_type": "code",
      "execution_count": null,
      "metadata": {
        "colab": {
          "base_uri": "https://localhost:8080/"
        },
        "id": "mgV0vu-qAup4",
        "outputId": "d291df89-33b6-47b4-98fe-49bd8a56d670"
      },
      "outputs": [
        {
          "output_type": "execute_result",
          "data": {
            "text/plain": [
              "RandomForestClassifier(criterion='entropy', n_estimators=40, random_state=0)"
            ]
          },
          "metadata": {},
          "execution_count": 486
        }
      ],
      "source": [
        "from sklearn.ensemble import RandomForestClassifier\n",
        "\n",
        "RF_classifier = RandomForestClassifier(n_estimators = 40, criterion = 'entropy', random_state = 0)\n",
        "RF_classifier.fit(X_train, y_train)"
      ]
    },
    {
      "cell_type": "code",
      "execution_count": null,
      "metadata": {
        "colab": {
          "base_uri": "https://localhost:8080/",
          "height": 283
        },
        "id": "nRqOjwCGAumO",
        "outputId": "3a1f0de9-2091-46c1-93bc-e7a9639db9e5"
      },
      "outputs": [
        {
          "output_type": "execute_result",
          "data": {
            "text/plain": [
              "<matplotlib.axes._subplots.AxesSubplot at 0x7f6364c49a50>"
            ]
          },
          "metadata": {},
          "execution_count": 487
        },
        {
          "output_type": "display_data",
          "data": {
            "text/plain": [
              "<Figure size 432x288 with 2 Axes>"
            ],
            "image/png": "[encoded data removed]"
          },
          "metadata": {
            "needs_background": "light"
          }
        }
      ],
      "source": [
        "from sklearn.metrics import classification_report, confusion_matrix\n",
        "\n",
        "y_predict_train = RF_classifier.predict(X_train)\n",
        "y_predict_train\n",
        "cm = confusion_matrix(y_train, y_predict_train)\n",
        "sns.heatmap(cm, annot=True)"
      ]
    },
    {
      "cell_type": "code",
      "execution_count": null,
      "metadata": {
        "colab": {
          "base_uri": "https://localhost:8080/",
          "height": 283
        },
        "id": "-OCyjPlDAuPD",
        "outputId": "34b06ece-c728-45d3-ae16-79c279952384"
      },
      "outputs": [
        {
          "output_type": "execute_result",
          "data": {
            "text/plain": [
              "<matplotlib.axes._subplots.AxesSubplot at 0x7f6364be25d0>"
            ]
          },
          "metadata": {},
          "execution_count": 488
        },
        {
          "output_type": "display_data",
          "data": {
            "text/plain": [
              "<Figure size 432x288 with 2 Axes>"
            ],
            "image/png": "[encoded data removed]"
          },
          "metadata": {
            "needs_background": "light"
          }
        }
      ],
      "source": [
        "# Predicting the Test set results\n",
        "y_predict_test = RF_classifier.predict(X_test)\n",
        "cm = confusion_matrix(y_test, y_predict_test)\n",
        "sns.heatmap(cm, annot=True)"
      ]
    },
    {
      "cell_type": "code",
      "execution_count": null,
      "metadata": {
        "colab": {
          "base_uri": "https://localhost:8080/"
        },
        "id": "3aXiAQG0AuLv",
        "outputId": "9feb12be-f688-41a7-8b91-c27acdecd62f"
      },
      "outputs": [
        {
          "output_type": "stream",
          "name": "stdout",
          "text": [
            "              precision    recall  f1-score   support\n",
            "\n",
            "           0       0.00      0.00      0.00         9\n",
            "           1       0.78      1.00      0.87        31\n",
            "\n",
            "    accuracy                           0.78        40\n",
            "   macro avg       0.39      0.50      0.44        40\n",
            "weighted avg       0.60      0.78      0.68        40\n",
            "\n"
          ]
        }
      ],
      "source": [
        "print(classification_report(y_test, y_predict_test))"
      ]
    },
    {
      "cell_type": "markdown",
      "source": [
        "## Cross Validation"
      ],
      "metadata": {
        "id": "7ZyZ9bDu4u6m"
      }
    },
    {
      "cell_type": "code",
      "execution_count": null,
      "metadata": {
        "colab": {
          "base_uri": "https://localhost:8080/"
        },
        "id": "FtqyUmmfAuJE",
        "outputId": "f57a02b2-ffea-428a-8d57-49626005427c"
      },
      "outputs": [
        {
          "output_type": "stream",
          "name": "stdout",
          "text": [
            "Accuracy: 84.25 %\n",
            "Standard Deviation: 2.17 %\n"
          ]
        }
      ],
      "source": [
        "from sklearn.model_selection import cross_val_score\n",
        "accuracies = cross_val_score(estimator = RF_classifier, X = X_train, y = y_train, cv = 5)\n",
        "print(\"Accuracy: {:.2f} %\".format(accuracies.mean()*100))\n",
        "print(\"Standard Deviation: {:.2f} %\".format(accuracies.std()*100))"
      ]
    },
    {
      "cell_type": "code",
      "execution_count": null,
      "metadata": {
        "id": "Z4N_id4eAuGC"
      },
      "outputs": [],
      "source": [
        ""
      ]
    },
    {
      "cell_type": "code",
      "execution_count": null,
      "metadata": {
        "id": "5A7sqANkHOc6"
      },
      "outputs": [],
      "source": [
        ""
      ]
    },
    {
      "cell_type": "markdown",
      "metadata": {
        "id": "eUFKWfLYHOZz"
      },
      "source": [
        "##GBDT"
      ]
    },
    {
      "cell_type": "code",
      "execution_count": null,
      "metadata": {
        "colab": {
          "base_uri": "https://localhost:8080/"
        },
        "id": "G5nh3a4XHOXC",
        "outputId": "ab450699-1699-4195-a82b-a350b5090fda"
      },
      "outputs": [
        {
          "output_type": "execute_result",
          "data": {
            "text/plain": [
              "GradientBoostingClassifier()"
            ]
          },
          "metadata": {},
          "execution_count": 491
        }
      ],
      "source": [
        "from sklearn.ensemble import GradientBoostingClassifier\n",
        "\n",
        "GBDT_classifier = GradientBoostingClassifier()\n",
        "GBDT_classifier.fit(X_train, y_train)"
      ]
    },
    {
      "cell_type": "code",
      "execution_count": null,
      "metadata": {
        "colab": {
          "base_uri": "https://localhost:8080/",
          "height": 283
        },
        "id": "yAU36_kcHOUI",
        "outputId": "95b3b929-469b-41d4-d919-567ca7d5e152"
      },
      "outputs": [
        {
          "output_type": "execute_result",
          "data": {
            "text/plain": [
              "<matplotlib.axes._subplots.AxesSubplot at 0x7f6364b1a250>"
            ]
          },
          "metadata": {},
          "execution_count": 492
        },
        {
          "output_type": "display_data",
          "data": {
            "text/plain": [
              "<Figure size 432x288 with 2 Axes>"
            ],
            "image/png": "[encoded data removed]"
          },
          "metadata": {
            "needs_background": "light"
          }
        }
      ],
      "source": [
        "from sklearn.metrics import classification_report, confusion_matrix\n",
        "\n",
        "y_predict_train = GBDT_classifier.predict(X_train)\n",
        "y_predict_train\n",
        "cm = confusion_matrix(y_train, y_predict_train)\n",
        "sns.heatmap(cm, annot=True)"
      ]
    },
    {
      "cell_type": "code",
      "execution_count": null,
      "metadata": {
        "colab": {
          "base_uri": "https://localhost:8080/",
          "height": 283
        },
        "id": "xwR8X7EzHORQ",
        "outputId": "40d147a6-3fc9-4fe8-a62a-eabeb2e42169"
      },
      "outputs": [
        {
          "output_type": "execute_result",
          "data": {
            "text/plain": [
              "<matplotlib.axes._subplots.AxesSubplot at 0x7f6364aafcd0>"
            ]
          },
          "metadata": {},
          "execution_count": 493
        },
        {
          "output_type": "display_data",
          "data": {
            "text/plain": [
              "<Figure size 432x288 with 2 Axes>"
            ],
            "image/png": "[encoded data removed]"
          },
          "metadata": {
            "needs_background": "light"
          }
        }
      ],
      "source": [
        "# Predicting the Test set results\n",
        "y_predict_test = GBDT_classifier.predict(X_test)\n",
        "cm = confusion_matrix(y_test, y_predict_test)\n",
        "sns.heatmap(cm, annot=True)"
      ]
    },
    {
      "cell_type": "code",
      "execution_count": null,
      "metadata": {
        "colab": {
          "base_uri": "https://localhost:8080/"
        },
        "id": "qZQrmOpYHOLr",
        "outputId": "2442f6b5-5d1f-476c-85b0-8330dfa5a5b3"
      },
      "outputs": [
        {
          "output_type": "stream",
          "name": "stdout",
          "text": [
            "              precision    recall  f1-score   support\n",
            "\n",
            "           0       0.00      0.00      0.00         9\n",
            "           1       0.76      0.94      0.84        31\n",
            "\n",
            "    accuracy                           0.73        40\n",
            "   macro avg       0.38      0.47      0.42        40\n",
            "weighted avg       0.59      0.72      0.65        40\n",
            "\n"
          ]
        }
      ],
      "source": [
        "print(classification_report(y_test, y_predict_test))"
      ]
    },
    {
      "cell_type": "markdown",
      "source": [
        "## Cross Validation"
      ],
      "metadata": {
        "id": "z07Dpr3e44AF"
      }
    },
    {
      "cell_type": "code",
      "execution_count": null,
      "metadata": {
        "colab": {
          "base_uri": "https://localhost:8080/"
        },
        "id": "4HPz0a89HOGz",
        "outputId": "4b6680f6-388b-431a-fd30-35a8d853e9ed"
      },
      "outputs": [
        {
          "output_type": "stream",
          "name": "stdout",
          "text": [
            "Accuracy: 79.23 %\n",
            "Standard Deviation: 4.29 %\n"
          ]
        }
      ],
      "source": [
        "from sklearn.model_selection import cross_val_score\n",
        "accuracies = cross_val_score(estimator = GBDT_classifier, X = X_train, y = y_train, cv = 5)\n",
        "print(\"Accuracy: {:.2f} %\".format(accuracies.mean()*100))\n",
        "print(\"Standard Deviation: {:.2f} %\".format(accuracies.std()*100))"
      ]
    },
    {
      "cell_type": "code",
      "execution_count": null,
      "metadata": {
        "id": "pV6SqJ0vHN_K"
      },
      "outputs": [],
      "source": [
        ""
      ]
    },
    {
      "cell_type": "code",
      "execution_count": null,
      "metadata": {
        "id": "U8ELoBbOHN8c"
      },
      "outputs": [],
      "source": [
        ""
      ]
    },
    {
      "cell_type": "markdown",
      "metadata": {
        "id": "fJx6ch2XHN5X"
      },
      "source": [
        "## XGBoost"
      ]
    },
    {
      "cell_type": "code",
      "execution_count": null,
      "metadata": {
        "colab": {
          "base_uri": "https://localhost:8080/"
        },
        "id": "OmBBOex4HN2c",
        "outputId": "2c15619e-271d-403a-a0de-a5aca7ad58af"
      },
      "outputs": [
        {
          "output_type": "execute_result",
          "data": {
            "text/plain": [
              "XGBClassifier()"
            ]
          },
          "metadata": {},
          "execution_count": 496
        }
      ],
      "source": [
        "from xgboost import XGBClassifier\n",
        "XGB_classifier = XGBClassifier()\n",
        "XGB_classifier.fit(X_train, y_train)"
      ]
    },
    {
      "cell_type": "code",
      "execution_count": null,
      "metadata": {
        "colab": {
          "base_uri": "https://localhost:8080/",
          "height": 283
        },
        "id": "dE2wEgseHNzi",
        "outputId": "5f1823c6-e121-4644-d607-4666886206cb"
      },
      "outputs": [
        {
          "output_type": "execute_result",
          "data": {
            "text/plain": [
              "<matplotlib.axes._subplots.AxesSubplot at 0x7f63649850d0>"
            ]
          },
          "metadata": {},
          "execution_count": 497
        },
        {
          "output_type": "display_data",
          "data": {
            "text/plain": [
              "<Figure size 432x288 with 2 Axes>"
            ],
            "image/png": "[encoded data removed]"
          },
          "metadata": {
            "needs_background": "light"
          }
        }
      ],
      "source": [
        "from sklearn.metrics import classification_report, confusion_matrix, accuracy_score\n",
        "\n",
        "y_predict_train = XGB_classifier.predict(X_train)\n",
        "y_predict_train\n",
        "cm = confusion_matrix(y_train, y_predict_train)\n",
        "sns.heatmap(cm, annot=True)"
      ]
    },
    {
      "cell_type": "code",
      "execution_count": null,
      "metadata": {
        "colab": {
          "base_uri": "https://localhost:8080/",
          "height": 283
        },
        "id": "VBziu0KaHNw2",
        "outputId": "5b7ded7f-71e9-49f4-f292-2f450fbea316"
      },
      "outputs": [
        {
          "output_type": "execute_result",
          "data": {
            "text/plain": [
              "<matplotlib.axes._subplots.AxesSubplot at 0x7f636490cf50>"
            ]
          },
          "metadata": {},
          "execution_count": 498
        },
        {
          "output_type": "display_data",
          "data": {
            "text/plain": [
              "<Figure size 432x288 with 2 Axes>"
            ],
            "image/png": "[encoded data removed]"
          },
          "metadata": {
            "needs_background": "light"
          }
        }
      ],
      "source": [
        "# Predicting the Test set results\n",
        "y_predict_test = XGB_classifier.predict(X_test)\n",
        "cm = confusion_matrix(y_test, y_predict_test)\n",
        "sns.heatmap(cm, annot=True)"
      ]
    },
    {
      "cell_type": "code",
      "execution_count": null,
      "metadata": {
        "colab": {
          "base_uri": "https://localhost:8080/"
        },
        "id": "URRx5pXsHNuY",
        "outputId": "9b9c3249-54be-42cc-f414-90bd738a2b30"
      },
      "outputs": [
        {
          "output_type": "stream",
          "name": "stdout",
          "text": [
            "              precision    recall  f1-score   support\n",
            "\n",
            "           0       0.25      0.11      0.15         9\n",
            "           1       0.78      0.90      0.84        31\n",
            "\n",
            "    accuracy                           0.73        40\n",
            "   macro avg       0.51      0.51      0.49        40\n",
            "weighted avg       0.66      0.72      0.68        40\n",
            "\n"
          ]
        }
      ],
      "source": [
        "print(classification_report(y_test, y_predict_test))"
      ]
    },
    {
      "cell_type": "markdown",
      "source": [
        "## Cross Validation"
      ],
      "metadata": {
        "id": "YaNWb2nV5EjO"
      }
    },
    {
      "cell_type": "code",
      "execution_count": null,
      "metadata": {
        "colab": {
          "base_uri": "https://localhost:8080/"
        },
        "id": "FE5W9991HNrY",
        "outputId": "490a10a5-9144-4996-a24a-7d1311b0fe38"
      },
      "outputs": [
        {
          "output_type": "stream",
          "name": "stdout",
          "text": [
            "Accuracy: 83.67 %\n",
            "Standard Deviation: 2.97 %\n"
          ]
        }
      ],
      "source": [
        "from sklearn.model_selection import cross_val_score\n",
        "accuracies = cross_val_score(estimator = XGB_classifier, X = X_train, y = y_train, cv = 5)\n",
        "print(\"Accuracy: {:.2f} %\".format(accuracies.mean()*100))\n",
        "print(\"Standard Deviation: {:.2f} %\".format(accuracies.std()*100))"
      ]
    },
    {
      "cell_type": "code",
      "execution_count": null,
      "metadata": {
        "id": "L_PgpPewHNot"
      },
      "outputs": [],
      "source": [
        ""
      ]
    },
    {
      "cell_type": "markdown",
      "source": [
        "## ROC Curve"
      ],
      "metadata": {
        "id": "Fqzka_dAHNlu"
      }
    },
    {
      "cell_type": "code",
      "execution_count": null,
      "metadata": {
        "id": "RUxF8YbzHNgt"
      },
      "outputs": [],
      "source": [
        "import matplotlib.pyplot as plt\n",
        "from sklearn import metrics\n",
        "\n",
        "from sklearn.linear_model import LogisticRegression\n",
        "from sklearn.ensemble import GradientBoostingClassifier\n",
        "from sklearn.ensemble import RandomForestClassifier\n",
        "from xgboost import XGBClassifier\n",
        "XGB_classifier = XGBClassifier()\n",
        "from sklearn.naive_bayes import MultinomialNB\n",
        "NB_classifier = MultinomialNB()\n"
      ]
    },
    {
      "cell_type": "code",
      "execution_count": null,
      "metadata": {
        "colab": {
          "base_uri": "https://localhost:8080/",
          "height": 283
        },
        "id": "Afm8btleHNdl",
        "outputId": "a3dceb3e-61a9-45b0-9a08-99550d846eea"
      },
      "outputs": [
        {
          "output_type": "execute_result",
          "data": {
            "text/plain": [
              "<matplotlib.legend.Legend at 0x7f6363d948d0>"
            ]
          },
          "metadata": {},
          "execution_count": 545
        },
        {
          "output_type": "display_data",
          "data": {
            "text/plain": [
              "<Figure size 432x288 with 1 Axes>"
            ],
            "image/png": "[encoded data removed]"
          },
          "metadata": {
            "needs_background": "light"
          }
        }
      ],
      "source": [
        "#set up plotting area\n",
        "plt.figure(0).clf()\n",
        "\n",
        "\n",
        "#fit logistic regression model and plot ROC curve\n",
        "model = LogisticRegression()\n",
        "model.fit(X_train, y_train)\n",
        "y_pred = model.predict_proba(X_test)[:, 1]\n",
        "fpr, tpr, _ = metrics.roc_curve(y_test, y_pred)\n",
        "auc = round(metrics.roc_auc_score(y_test, y_pred), 4)\n",
        "plt.plot(fpr,tpr,label=\"Logistic Regression, AUC=\"+str(auc))\n",
        "#fit gradient boosted model and plot ROC curve\n",
        "model = GradientBoostingClassifier()\n",
        "model.fit(X_train, y_train)\n",
        "y_pred = model.predict_proba(X_test)[:, 1]\n",
        "fpr, tpr, _ = metrics.roc_curve(y_test, y_pred)\n",
        "auc = round(metrics.roc_auc_score(y_test, y_pred), 4)\n",
        "plt.plot(fpr,tpr,label=\"Gradient Boosting, AUC=\"+str(auc))\n",
        "\n",
        "#fit gradient boosted model and plot ROC curve\n",
        "model = RandomForestClassifier()\n",
        "model.fit(X_train, y_train)\n",
        "y_pred = model.predict_proba(X_test)[:, 1]\n",
        "fpr, tpr, _ = metrics.roc_curve(y_test, y_pred)\n",
        "auc = round(metrics.roc_auc_score(y_test, y_pred), 4)\n",
        "plt.plot(fpr,tpr,label=\"Random Forest, AUC=\"+str(auc))\n",
        "\n",
        "#fit gradient boosted model and plot ROC curve\n",
        "model = XGBClassifier()\n",
        "model.fit(X_train, y_train)\n",
        "y_pred = model.predict_proba(X_test)[:, 1]\n",
        "fpr, tpr, _ = metrics.roc_curve(y_test, y_pred)\n",
        "auc = round(metrics.roc_auc_score(y_test, y_pred), 4)\n",
        "plt.plot(fpr,tpr,label=\"XGBoost, AUC=\"+str(auc))\n",
        "\n",
        "#fit gradient boosted model and plot ROC curve\n",
        "model = MultinomialNB()\n",
        "model.fit(X_train, y_train)\n",
        "y_pred = model.predict_proba(X_test)[:, 1]\n",
        "fpr, tpr, _ = metrics.roc_curve(y_test, y_pred)\n",
        "auc = round(metrics.roc_auc_score(y_test, y_pred), 4)\n",
        "plt.plot(fpr,tpr,label=\"NAIVE BAYES, AUC=\"+str(auc))\n",
        "\n",
        "# Plot line with no predictive power (baseline)\n",
        "plt.plot([0, 1], [0, 1], color='darkblue', linestyle='--', label='Baseline')\n",
        "\n",
        "#add legend\n",
        "plt.legend()"
      ]
    },
    {
      "cell_type": "code",
      "source": [
        ""
      ],
      "metadata": {
        "id": "wtuVnkKJh8eE"
      },
      "execution_count": null,
      "outputs": []
    },
    {
      "cell_type": "code",
      "source": [
        ""
      ],
      "metadata": {
        "id": "BTVoopCWh8a9"
      },
      "execution_count": null,
      "outputs": []
    },
    {
      "cell_type": "markdown",
      "source": [
        "# STEP #5:  TF-IDF"
      ],
      "metadata": {
        "id": "iY5w1KuQh75U"
      }
    },
    {
      "cell_type": "code",
      "execution_count": null,
      "metadata": {
        "colab": {
          "base_uri": "https://localhost:8080/"
        },
        "id": "0gICO-CE6ysL",
        "outputId": "981b5740-78a5-4ae7-f901-69f0185a2328"
      },
      "outputs": [
        {
          "output_type": "execute_result",
          "data": {
            "text/plain": [
              "<199x588 sparse matrix of type '<class 'numpy.int64'>'\n",
              "\twith 1778 stored elements in Compressed Sparse Row format>"
            ]
          },
          "metadata": {},
          "execution_count": 509
        }
      ],
      "source": [
        "depressed_countvectorizer"
      ]
    },
    {
      "cell_type": "code",
      "execution_count": null,
      "metadata": {
        "colab": {
          "base_uri": "https://localhost:8080/"
        },
        "id": "jcUDJP2K6dMy",
        "outputId": "9a48d967-1bd8-45c9-cb8f-39deebdca9ae"
      },
      "outputs": [
        {
          "output_type": "stream",
          "name": "stdout",
          "text": [
            "(199, 588)\n"
          ]
        }
      ],
      "source": [
        "from sklearn.feature_extraction.text import TfidfTransformer\n",
        "\n",
        "depressed_tfidf = TfidfTransformer().fit_transform(depressed_countvectorizer)\n",
        "print(depressed_tfidf.shape)"
      ]
    },
    {
      "cell_type": "code",
      "execution_count": null,
      "metadata": {
        "colab": {
          "base_uri": "https://localhost:8080/"
        },
        "id": "p4R3qlDs3sa5",
        "outputId": "033436c4-020d-4095-816c-a32141e9b40a"
      },
      "outputs": [
        {
          "output_type": "stream",
          "name": "stdout",
          "text": [
            "  (0, 544)\t0.3818112669031951\n",
            "  (0, 474)\t0.32308542576458316\n",
            "  (0, 407)\t0.357437840653979\n",
            "  (0, 368)\t0.36875108489735964\n",
            "  (0, 341)\t0.3474588520137993\n",
            "  (0, 186)\t0.2254264066083759\n",
            "  (0, 178)\t0.2841522477469879\n",
            "  (0, 64)\t0.27567282886935185\n",
            "  (0, 49)\t0.39725818363417964\n",
            "  (1, 397)\t0.5300468243166825\n",
            "  (1, 317)\t0.561090035789308\n",
            "  (1, 32)\t0.5300468243166825\n",
            "  (1, 11)\t0.35111066603216884\n",
            "  (2, 551)\t0.41359785581759845\n",
            "  (2, 541)\t0.34531662051513046\n",
            "  (2, 533)\t0.27397318871366627\n",
            "  (2, 529)\t0.47196162718609574\n",
            "  (2, 130)\t0.34531662051513046\n",
            "  (2, 79)\t0.35523408444910115\n",
            "  (2, 68)\t0.30230452907076527\n",
            "  (2, 64)\t0.27397318871366627\n",
            "  (3, 521)\t0.3450827910888917\n",
            "  (3, 379)\t0.24218835426150787\n",
            "  (3, 316)\t0.42920734990652104\n",
            "  (3, 294)\t0.42920734990652104\n",
            "  :\t:\n",
            "  (198, 553)\t0.21318733938365375\n",
            "  (198, 530)\t0.18682414284873775\n",
            "  (198, 489)\t0.16046094631382174\n",
            "  (198, 486)\t0.18682414284873775\n",
            "  (198, 484)\t0.16046094631382174\n",
            "  (198, 468)\t0.15197389267819508\n",
            "  (198, 443)\t0.18682414284873775\n",
            "  (198, 434)\t0.21318733938365375\n",
            "  (198, 430)\t0.21318733938365375\n",
            "  (198, 411)\t0.1128132932952693\n",
            "  (198, 338)\t0.21318733938365375\n",
            "  (198, 300)\t0.16553968636510133\n",
            "  (198, 239)\t0.21318733938365375\n",
            "  (198, 237)\t0.23126383965738184\n",
            "  (198, 218)\t0.21318733938365375\n",
            "  (198, 207)\t0.18682414284873775\n",
            "  (198, 186)\t0.10119839148066341\n",
            "  (198, 164)\t0.21318733938365375\n",
            "  (198, 139)\t0.3736482856974755\n",
            "  (198, 106)\t0.19776585801158597\n",
            "  (198, 69)\t0.18682414284873775\n",
            "  (198, 50)\t0.21318733938365375\n",
            "  (198, 43)\t0.14199511636360693\n",
            "  (198, 35)\t0.21318733938365375\n",
            "  (198, 14)\t0.19776585801158597\n"
          ]
        }
      ],
      "source": [
        "print(depressed_tfidf[:,:])\n",
        "# Sparse matrix with all the values of IF-IDF"
      ]
    },
    {
      "cell_type": "code",
      "execution_count": null,
      "metadata": {
        "id": "3fW4660A7Rgo"
      },
      "outputs": [],
      "source": [
        "X = depressed_tfidf\n",
        "y = Label\n",
        "\n",
        "from sklearn.model_selection import train_test_split\n",
        "X_train, X_test, y_train, y_test = train_test_split(X, y, test_size=0.2)\n",
        "\n"
      ]
    },
    {
      "cell_type": "markdown",
      "source": [
        "## Naive_Bayes"
      ],
      "metadata": {
        "id": "Va5R1_OUiVkD"
      }
    },
    {
      "cell_type": "code",
      "source": [
        "from sklearn.naive_bayes import MultinomialNB\n",
        "NB_classifier = MultinomialNB()\n",
        "NB_classifier.fit(X_train, y_train)\n",
        "\n",
        "from sklearn.metrics import classification_report, confusion_matrix\n",
        "y_predict_train = NB_classifier.predict(X_train)\n",
        "y_predict_train\n",
        "cm = confusion_matrix(y_train, y_predict_train)\n",
        "sns.heatmap(cm, annot=True)"
      ],
      "metadata": {
        "colab": {
          "base_uri": "https://localhost:8080/",
          "height": 283
        },
        "id": "ZtCGmA8ziVgR",
        "outputId": "921d3931-d5b8-4fdf-f945-b608b68dfb9c"
      },
      "execution_count": null,
      "outputs": [
        {
          "output_type": "execute_result",
          "data": {
            "text/plain": [
              "<matplotlib.axes._subplots.AxesSubplot at 0x7f63645be9d0>"
            ]
          },
          "metadata": {},
          "execution_count": 514
        },
        {
          "output_type": "display_data",
          "data": {
            "text/plain": [
              "<Figure size 432x288 with 2 Axes>"
            ],
            "image/png": "[encoded data removed]"
          },
          "metadata": {
            "needs_background": "light"
          }
        }
      ]
    },
    {
      "cell_type": "code",
      "source": [
        "# Predicting the Test set results\n",
        "y_predict_test = NB_classifier.predict(X_test)\n",
        "cm = confusion_matrix(y_test, y_predict_test)\n",
        "sns.heatmap(cm, annot=True)"
      ],
      "metadata": {
        "colab": {
          "base_uri": "https://localhost:8080/",
          "height": 283
        },
        "id": "rPekgQxriVc9",
        "outputId": "d974cd8c-3623-4378-a934-3d5c6c7cee1d"
      },
      "execution_count": null,
      "outputs": [
        {
          "output_type": "execute_result",
          "data": {
            "text/plain": [
              "<matplotlib.axes._subplots.AxesSubplot at 0x7f63645c7a50>"
            ]
          },
          "metadata": {},
          "execution_count": 515
        },
        {
          "output_type": "display_data",
          "data": {
            "text/plain": [
              "<Figure size 432x288 with 2 Axes>"
            ],
            "image/png": "[encoded data removed]"
          },
          "metadata": {
            "needs_background": "light"
          }
        }
      ]
    },
    {
      "cell_type": "code",
      "source": [
        "print(classification_report(y_test, y_predict_test))"
      ],
      "metadata": {
        "colab": {
          "base_uri": "https://localhost:8080/"
        },
        "id": "a-3jiAStiVZy",
        "outputId": "0befcffe-e370-47c1-8de4-7da043f0738d"
      },
      "execution_count": null,
      "outputs": [
        {
          "output_type": "stream",
          "name": "stdout",
          "text": [
            "              precision    recall  f1-score   support\n",
            "\n",
            "           0       0.00      0.00      0.00         6\n",
            "           1       0.85      1.00      0.92        34\n",
            "\n",
            "    accuracy                           0.85        40\n",
            "   macro avg       0.42      0.50      0.46        40\n",
            "weighted avg       0.72      0.85      0.78        40\n",
            "\n"
          ]
        }
      ]
    },
    {
      "cell_type": "markdown",
      "source": [
        "## Cross Validation"
      ],
      "metadata": {
        "id": "v_DHoQuEiVWM"
      }
    },
    {
      "cell_type": "code",
      "execution_count": null,
      "metadata": {
        "id": "0H8W-Vdm7RZO",
        "colab": {
          "base_uri": "https://localhost:8080/"
        },
        "outputId": "2a812d1d-d829-4d62-b3f7-d4bfde14c2eb"
      },
      "outputs": [
        {
          "output_type": "stream",
          "name": "stdout",
          "text": [
            "Accuracy: 82.40 %\n",
            "Standard Deviation: 1.42 %\n"
          ]
        }
      ],
      "source": [
        "from sklearn.model_selection import cross_val_score\n",
        "accuracies = cross_val_score(estimator = NB_classifier, X = X_train, y = y_train, cv = 5)\n",
        "print(\"Accuracy: {:.2f} %\".format(accuracies.mean()*100))\n",
        "print(\"Standard Deviation: {:.2f} %\".format(accuracies.std()*100))"
      ]
    },
    {
      "cell_type": "code",
      "execution_count": null,
      "metadata": {
        "id": "Jm3PbGA87RWB"
      },
      "outputs": [],
      "source": [
        ""
      ]
    },
    {
      "cell_type": "markdown",
      "source": [
        "## Logistic Regression"
      ],
      "metadata": {
        "id": "Nrm8d8CA7RTB"
      }
    },
    {
      "cell_type": "code",
      "source": [
        "from sklearn.linear_model import LogisticRegression\n",
        "\n",
        "LR_classifier = LogisticRegression()\n",
        "LR_classifier.fit(X_train, y_train)\n",
        "\n",
        "\n",
        "from sklearn.metrics import classification_report, confusion_matrix\n",
        "\n",
        "\n",
        "y_predict_train = LR_classifier.predict(X_train)\n",
        "y_predict_train\n",
        "cm = confusion_matrix(y_train, y_predict_train)\n",
        "sns.heatmap(cm, annot=True)"
      ],
      "metadata": {
        "colab": {
          "base_uri": "https://localhost:8080/",
          "height": 283
        },
        "id": "P2VWUZnqyYEg",
        "outputId": "5daa9cc1-0e3f-43a3-b42a-e6f13fc5472d"
      },
      "execution_count": null,
      "outputs": [
        {
          "output_type": "execute_result",
          "data": {
            "text/plain": [
              "<matplotlib.axes._subplots.AxesSubplot at 0x7f63644f0810>"
            ]
          },
          "metadata": {},
          "execution_count": 518
        },
        {
          "output_type": "display_data",
          "data": {
            "text/plain": [
              "<Figure size 432x288 with 2 Axes>"
            ],
            "image/png": "[encoded data removed]"
          },
          "metadata": {
            "needs_background": "light"
          }
        }
      ]
    },
    {
      "cell_type": "code",
      "source": [
        "# Predicting the Test set results\n",
        "y_predict_test = LR_classifier.predict(X_test)\n",
        "cm = confusion_matrix(y_test, y_predict_test)\n",
        "sns.heatmap(cm, annot=True)"
      ],
      "metadata": {
        "colab": {
          "base_uri": "https://localhost:8080/",
          "height": 283
        },
        "id": "pTSl99b0yYA_",
        "outputId": "c7299db0-58ed-47d0-8029-89ac6cd7d999"
      },
      "execution_count": null,
      "outputs": [
        {
          "output_type": "execute_result",
          "data": {
            "text/plain": [
              "<matplotlib.axes._subplots.AxesSubplot at 0x7f63644b3cd0>"
            ]
          },
          "metadata": {},
          "execution_count": 519
        },
        {
          "output_type": "display_data",
          "data": {
            "text/plain": [
              "<Figure size 432x288 with 2 Axes>"
            ],
            "image/png": "[encoded data removed]"
          },
          "metadata": {
            "needs_background": "light"
          }
        }
      ]
    },
    {
      "cell_type": "code",
      "source": [
        "print(classification_report(y_test, y_predict_test))"
      ],
      "metadata": {
        "colab": {
          "base_uri": "https://localhost:8080/"
        },
        "id": "MlzIooWgyX-N",
        "outputId": "578ba058-b8e1-480d-8d74-ef8b8da80281"
      },
      "execution_count": null,
      "outputs": [
        {
          "output_type": "stream",
          "name": "stdout",
          "text": [
            "              precision    recall  f1-score   support\n",
            "\n",
            "           0       0.00      0.00      0.00         6\n",
            "           1       0.85      1.00      0.92        34\n",
            "\n",
            "    accuracy                           0.85        40\n",
            "   macro avg       0.42      0.50      0.46        40\n",
            "weighted avg       0.72      0.85      0.78        40\n",
            "\n"
          ]
        }
      ]
    },
    {
      "cell_type": "markdown",
      "source": [
        "## Cross Validation"
      ],
      "metadata": {
        "id": "sI6pyi8CyX7M"
      }
    },
    {
      "cell_type": "code",
      "execution_count": null,
      "metadata": {
        "id": "0xUIWUID7RQK",
        "colab": {
          "base_uri": "https://localhost:8080/"
        },
        "outputId": "3bab0035-4c7c-44e7-b560-712eaf0484a3"
      },
      "outputs": [
        {
          "output_type": "stream",
          "name": "stdout",
          "text": [
            "Accuracy: 82.40 %\n",
            "Standard Deviation: 1.42 %\n"
          ]
        }
      ],
      "source": [
        "from sklearn.model_selection import cross_val_score\n",
        "accuracies = cross_val_score(estimator = LR_classifier, X = X_train, y = y_train, cv = 5)\n",
        "print(\"Accuracy: {:.2f} %\".format(accuracies.mean()*100))\n",
        "print(\"Standard Deviation: {:.2f} %\".format(accuracies.std()*100))"
      ]
    },
    {
      "cell_type": "markdown",
      "source": [
        "## SVM"
      ],
      "metadata": {
        "id": "LO2uShhj7RMg"
      }
    },
    {
      "cell_type": "code",
      "source": [
        "from sklearn.svm import SVC\n",
        "\n",
        "SVM_classifier = SVC(kernel = 'linear', random_state = 0)\n",
        "SVM_classifier.fit(X_train, y_train)\n",
        "\n",
        "\n",
        "from sklearn.metrics import classification_report, confusion_matrix, accuracy_score\n",
        "\n",
        "\n",
        "y_predict_train = SVM_classifier.predict(X_train)\n",
        "y_predict_train\n",
        "cm = confusion_matrix(y_train, y_predict_train)\n",
        "sns.heatmap(cm, annot=True)"
      ],
      "metadata": {
        "colab": {
          "base_uri": "https://localhost:8080/",
          "height": 283
        },
        "id": "uY5kynswzNZ0",
        "outputId": "ef2c74e2-86af-4dc2-bd16-0850fa7c2cb4"
      },
      "execution_count": null,
      "outputs": [
        {
          "output_type": "execute_result",
          "data": {
            "text/plain": [
              "<matplotlib.axes._subplots.AxesSubplot at 0x7f6363c8c1d0>"
            ]
          },
          "metadata": {},
          "execution_count": 547
        },
        {
          "output_type": "display_data",
          "data": {
            "text/plain": [
              "<Figure size 432x288 with 2 Axes>"
            ],
            "image/png": "[encoded data removed]"
          },
          "metadata": {
            "needs_background": "light"
          }
        }
      ]
    },
    {
      "cell_type": "code",
      "source": [
        "# Predicting the Test set results\n",
        "y_predict_test =SVM_classifier.predict(X_test)\n",
        "cm = confusion_matrix(y_test,y_predict_test)\n",
        "sns.heatmap(cm, annot=True)"
      ],
      "metadata": {
        "colab": {
          "base_uri": "https://localhost:8080/",
          "height": 283
        },
        "id": "PfQFrSpwzNV8",
        "outputId": "d2ee6825-1d28-49ce-e4ab-f12ce781680e"
      },
      "execution_count": null,
      "outputs": [
        {
          "output_type": "execute_result",
          "data": {
            "text/plain": [
              "<matplotlib.axes._subplots.AxesSubplot at 0x7f636434f1d0>"
            ]
          },
          "metadata": {},
          "execution_count": 523
        },
        {
          "output_type": "display_data",
          "data": {
            "text/plain": [
              "<Figure size 432x288 with 2 Axes>"
            ],
            "image/png": "[encoded data removed]"
          },
          "metadata": {
            "needs_background": "light"
          }
        }
      ]
    },
    {
      "cell_type": "code",
      "source": [
        "print(classification_report(y_test, y_predict_test))"
      ],
      "metadata": {
        "colab": {
          "base_uri": "https://localhost:8080/"
        },
        "id": "o5mM6rFKzNSQ",
        "outputId": "81e9d16b-d9fe-4f16-ba38-f9317030a560"
      },
      "execution_count": null,
      "outputs": [
        {
          "output_type": "stream",
          "name": "stdout",
          "text": [
            "              precision    recall  f1-score   support\n",
            "\n",
            "           0       0.00      0.00      0.00         6\n",
            "           1       0.85      1.00      0.92        34\n",
            "\n",
            "    accuracy                           0.85        40\n",
            "   macro avg       0.42      0.50      0.46        40\n",
            "weighted avg       0.72      0.85      0.78        40\n",
            "\n"
          ]
        }
      ]
    },
    {
      "cell_type": "markdown",
      "source": [
        "## Cross Validation"
      ],
      "metadata": {
        "id": "5YwEQEHa6dCu"
      }
    },
    {
      "cell_type": "code",
      "source": [
        "from sklearn.model_selection import cross_val_score\n",
        "accuracies = cross_val_score(estimator = SVM_classifier, X = X_train, y = y_train, cv = 5)\n",
        "print(\"Accuracy: {:.2f} %\".format(accuracies.mean()*100))\n",
        "print(\"Standard Deviation: {:.2f} %\".format(accuracies.std()*100))"
      ],
      "metadata": {
        "colab": {
          "base_uri": "https://localhost:8080/"
        },
        "id": "0uRhIEcFzNO7",
        "outputId": "19fd8117-d630-4925-e350-2e11cdca1205"
      },
      "execution_count": null,
      "outputs": [
        {
          "output_type": "stream",
          "name": "stdout",
          "text": [
            "Accuracy: 82.40 %\n",
            "Standard Deviation: 1.42 %\n"
          ]
        }
      ]
    },
    {
      "cell_type": "markdown",
      "source": [
        "## RANDOM FOREST"
      ],
      "metadata": {
        "id": "ACiy8_gmzNME"
      }
    },
    {
      "cell_type": "code",
      "source": [
        "from sklearn.ensemble import RandomForestClassifier\n",
        "\n",
        "RF_classifier = RandomForestClassifier(n_estimators = 40, criterion = 'entropy', random_state = 0)\n",
        "RF_classifier.fit(X_train, y_train)\n",
        "\n",
        "\n",
        "from sklearn.metrics import classification_report, confusion_matrix\n",
        "\n",
        "\n",
        "y_predict_train = RF_classifier.predict(X_train)\n",
        "y_predict_train\n",
        "cm = confusion_matrix(y_train, y_predict_train)\n",
        "sns.heatmap(cm, annot=True)"
      ],
      "metadata": {
        "colab": {
          "base_uri": "https://localhost:8080/",
          "height": 283
        },
        "id": "a84PrhKezNFz",
        "outputId": "97216192-bf18-4ae7-8606-48fdf36454dc"
      },
      "execution_count": null,
      "outputs": [
        {
          "output_type": "execute_result",
          "data": {
            "text/plain": [
              "<matplotlib.axes._subplots.AxesSubplot at 0x7f636420dfd0>"
            ]
          },
          "metadata": {},
          "execution_count": 526
        },
        {
          "output_type": "display_data",
          "data": {
            "text/plain": [
              "<Figure size 432x288 with 2 Axes>"
            ],
            "image/png": "[encoded data removed]"
          },
          "metadata": {
            "needs_background": "light"
          }
        }
      ]
    },
    {
      "cell_type": "code",
      "source": [
        "# Predicting the Test set results\n",
        "y_predict_test = RF_classifier.predict(X_test)\n",
        "cm = confusion_matrix(y_test, y_predict_test)\n",
        "sns.heatmap(cm, annot=True)"
      ],
      "metadata": {
        "colab": {
          "base_uri": "https://localhost:8080/",
          "height": 283
        },
        "id": "chWMGOT-zNAi",
        "outputId": "1ef1f956-e3d0-4167-f8fb-41a0014be276"
      },
      "execution_count": null,
      "outputs": [
        {
          "output_type": "execute_result",
          "data": {
            "text/plain": [
              "<matplotlib.axes._subplots.AxesSubplot at 0x7f636416bd10>"
            ]
          },
          "metadata": {},
          "execution_count": 527
        },
        {
          "output_type": "display_data",
          "data": {
            "text/plain": [
              "<Figure size 432x288 with 2 Axes>"
            ],
            "image/png": "[encoded data removed]"
          },
          "metadata": {
            "needs_background": "light"
          }
        }
      ]
    },
    {
      "cell_type": "code",
      "source": [
        "print(classification_report(y_test, y_predict_test))"
      ],
      "metadata": {
        "colab": {
          "base_uri": "https://localhost:8080/"
        },
        "id": "kcVOUlcrzM9S",
        "outputId": "4b88c0fa-4c16-4b94-d77d-5c216f52bcbd"
      },
      "execution_count": null,
      "outputs": [
        {
          "output_type": "stream",
          "name": "stdout",
          "text": [
            "              precision    recall  f1-score   support\n",
            "\n",
            "           0       0.00      0.00      0.00         6\n",
            "           1       0.85      1.00      0.92        34\n",
            "\n",
            "    accuracy                           0.85        40\n",
            "   macro avg       0.42      0.50      0.46        40\n",
            "weighted avg       0.72      0.85      0.78        40\n",
            "\n"
          ]
        }
      ]
    },
    {
      "cell_type": "markdown",
      "source": [
        "## Cross Validation "
      ],
      "metadata": {
        "id": "9odtPGGTzM57"
      }
    },
    {
      "cell_type": "code",
      "source": [
        "from sklearn.model_selection import cross_val_score\n",
        "accuracies = cross_val_score(estimator = RF_classifier, X = X_train, y = y_train, cv = 5)\n",
        "print(\"Accuracy: {:.2f} %\".format(accuracies.mean()*100))\n",
        "print(\"Standard Deviation: {:.2f} %\".format(accuracies.std()*100))"
      ],
      "metadata": {
        "colab": {
          "base_uri": "https://localhost:8080/"
        },
        "id": "XGXA99nuzM1u",
        "outputId": "4fea3236-be40-4e5e-8316-ef12844fd5e7"
      },
      "execution_count": null,
      "outputs": [
        {
          "output_type": "stream",
          "name": "stdout",
          "text": [
            "Accuracy: 81.77 %\n",
            "Standard Deviation: 2.24 %\n"
          ]
        }
      ]
    },
    {
      "cell_type": "markdown",
      "source": [
        "## GBDT"
      ],
      "metadata": {
        "id": "XDphGPAjzMyE"
      }
    },
    {
      "cell_type": "code",
      "source": [
        "from sklearn.ensemble import GradientBoostingClassifier\n",
        "\n",
        "GBDT_classifier = GradientBoostingClassifier()\n",
        "GBDT_classifier.fit(X_train, y_train)\n",
        "\n",
        "\n",
        "from sklearn.metrics import classification_report, confusion_matrix\n",
        "\n",
        "\n",
        "y_predict_train = GBDT_classifier.predict(X_train)\n",
        "y_predict_train\n",
        "cm = confusion_matrix(y_train, y_predict_train)\n",
        "sns.heatmap(cm, annot=True)"
      ],
      "metadata": {
        "colab": {
          "base_uri": "https://localhost:8080/",
          "height": 283
        },
        "id": "7-_nptBczMu4",
        "outputId": "41646615-9bdc-460c-e464-e1ee232d6550"
      },
      "execution_count": null,
      "outputs": [
        {
          "output_type": "execute_result",
          "data": {
            "text/plain": [
              "<matplotlib.axes._subplots.AxesSubplot at 0x7f6364085d90>"
            ]
          },
          "metadata": {},
          "execution_count": 531
        },
        {
          "output_type": "display_data",
          "data": {
            "text/plain": [
              "<Figure size 432x288 with 2 Axes>"
            ],
            "image/png": "[encoded data removed]"
          },
          "metadata": {
            "needs_background": "light"
          }
        }
      ]
    },
    {
      "cell_type": "code",
      "source": [
        "# Predicting the Test set results\n",
        "y_predict_test = GBDT_classifier.predict(X_test)\n",
        "cm = confusion_matrix(y_test, y_predict_test)\n",
        "sns.heatmap(cm, annot=True)"
      ],
      "metadata": {
        "colab": {
          "base_uri": "https://localhost:8080/",
          "height": 283
        },
        "id": "DqOlX035zMDM",
        "outputId": "fd356692-0fd4-4b94-c8b5-8eb8b169ddb8"
      },
      "execution_count": null,
      "outputs": [
        {
          "output_type": "execute_result",
          "data": {
            "text/plain": [
              "<matplotlib.axes._subplots.AxesSubplot at 0x7f6364032e50>"
            ]
          },
          "metadata": {},
          "execution_count": 532
        },
        {
          "output_type": "display_data",
          "data": {
            "text/plain": [
              "<Figure size 432x288 with 2 Axes>"
            ],
            "image/png": "[encoded data removed]"
          },
          "metadata": {
            "needs_background": "light"
          }
        }
      ]
    },
    {
      "cell_type": "code",
      "source": [
        "print(classification_report(y_test, y_predict_test))"
      ],
      "metadata": {
        "colab": {
          "base_uri": "https://localhost:8080/"
        },
        "id": "okLnjfkIzL_t",
        "outputId": "45e751ca-2392-4c2a-eb83-dcf18285f766"
      },
      "execution_count": null,
      "outputs": [
        {
          "output_type": "stream",
          "name": "stdout",
          "text": [
            "              precision    recall  f1-score   support\n",
            "\n",
            "           0       0.00      0.00      0.00         6\n",
            "           1       0.85      1.00      0.92        34\n",
            "\n",
            "    accuracy                           0.85        40\n",
            "   macro avg       0.42      0.50      0.46        40\n",
            "weighted avg       0.72      0.85      0.78        40\n",
            "\n"
          ]
        }
      ]
    },
    {
      "cell_type": "markdown",
      "source": [
        "## Cross Validation"
      ],
      "metadata": {
        "id": "MBWW6Ngx6mxU"
      }
    },
    {
      "cell_type": "code",
      "source": [
        "from sklearn.model_selection import cross_val_score\n",
        "accuracies = cross_val_score(estimator = GBDT_classifier, X = X_train, y = y_train, cv = 5)\n",
        "print(\"Accuracy: {:.2f} %\".format(accuracies.mean()*100))\n",
        "print(\"Standard Deviation: {:.2f} %\".format(accuracies.std()*100))"
      ],
      "metadata": {
        "colab": {
          "base_uri": "https://localhost:8080/"
        },
        "id": "upUwfJBGzL8t",
        "outputId": "e1fd9fd1-943f-4303-fcd0-8b7c6342a15f"
      },
      "execution_count": null,
      "outputs": [
        {
          "output_type": "stream",
          "name": "stdout",
          "text": [
            "Accuracy: 79.88 %\n",
            "Standard Deviation: 3.15 %\n"
          ]
        }
      ]
    },
    {
      "cell_type": "markdown",
      "source": [
        "## XGBoost"
      ],
      "metadata": {
        "id": "ZjwIMQrEzL5m"
      }
    },
    {
      "cell_type": "code",
      "source": [
        "from xgboost import XGBClassifier\n",
        "XGB_classifier = XGBClassifier()\n",
        "XGB_classifier.fit(X_train, y_train)\n",
        "\n",
        "\n",
        "from sklearn.metrics import classification_report, confusion_matrix, accuracy_score\n",
        "\n",
        "\n",
        "y_predict_train = XGB_classifier.predict(X_train)\n",
        "y_predict_train\n",
        "cm = confusion_matrix(y_train, y_predict_train)\n",
        "sns.heatmap(cm, annot=True)"
      ],
      "metadata": {
        "colab": {
          "base_uri": "https://localhost:8080/",
          "height": 283
        },
        "id": "yKwz-CGFzL20",
        "outputId": "984fbf0e-3b5f-407a-97b5-b44aad58434f"
      },
      "execution_count": null,
      "outputs": [
        {
          "output_type": "execute_result",
          "data": {
            "text/plain": [
              "<matplotlib.axes._subplots.AxesSubplot at 0x7f6363f00150>"
            ]
          },
          "metadata": {},
          "execution_count": 535
        },
        {
          "output_type": "display_data",
          "data": {
            "text/plain": [
              "<Figure size 432x288 with 2 Axes>"
            ],
            "image/png": "[encoded data removed]"
          },
          "metadata": {
            "needs_background": "light"
          }
        }
      ]
    },
    {
      "cell_type": "code",
      "source": [
        "# Predicting the Test set results\n",
        "y_predict_test = XGB_classifier.predict(X_test)\n",
        "cm = confusion_matrix(y_test, y_predict_test)\n",
        "sns.heatmap(cm, annot=True)"
      ],
      "metadata": {
        "colab": {
          "base_uri": "https://localhost:8080/",
          "height": 283
        },
        "id": "mm_BeuSezLz2",
        "outputId": "a7814d19-4232-4292-b010-b13de13841cb"
      },
      "execution_count": null,
      "outputs": [
        {
          "output_type": "execute_result",
          "data": {
            "text/plain": [
              "<matplotlib.axes._subplots.AxesSubplot at 0x7f6363e87710>"
            ]
          },
          "metadata": {},
          "execution_count": 536
        },
        {
          "output_type": "display_data",
          "data": {
            "text/plain": [
              "<Figure size 432x288 with 2 Axes>"
            ],
            "image/png": "[encoded data removed]"
          },
          "metadata": {
            "needs_background": "light"
          }
        }
      ]
    },
    {
      "cell_type": "code",
      "source": [
        "print(classification_report(y_test, y_predict_test))"
      ],
      "metadata": {
        "colab": {
          "base_uri": "https://localhost:8080/"
        },
        "id": "nzRcqdOf0dB-",
        "outputId": "4920f0ac-3308-4144-e8cf-4a1688fe9ea9"
      },
      "execution_count": null,
      "outputs": [
        {
          "output_type": "stream",
          "name": "stdout",
          "text": [
            "              precision    recall  f1-score   support\n",
            "\n",
            "           0       1.00      0.17      0.29         6\n",
            "           1       0.87      1.00      0.93        34\n",
            "\n",
            "    accuracy                           0.88        40\n",
            "   macro avg       0.94      0.58      0.61        40\n",
            "weighted avg       0.89      0.88      0.83        40\n",
            "\n"
          ]
        }
      ]
    },
    {
      "cell_type": "markdown",
      "source": [
        "## Cross Validation"
      ],
      "metadata": {
        "id": "dbeBUvae0c99"
      }
    },
    {
      "cell_type": "code",
      "source": [
        "from sklearn.model_selection import cross_val_score\n",
        "accuracies = cross_val_score(estimator = XGB_classifier, X = X_train, y = y_train, cv = 5)\n",
        "print(\"Accuracy: {:.2f} %\".format(accuracies.mean()*100))\n",
        "print(\"Standard Deviation: {:.2f} %\".format(accuracies.std()*100))"
      ],
      "metadata": {
        "colab": {
          "base_uri": "https://localhost:8080/"
        },
        "id": "Nzkq4uCJ0c6p",
        "outputId": "6995e188-cb27-4fc9-808d-a069d5e97a69"
      },
      "execution_count": null,
      "outputs": [
        {
          "output_type": "stream",
          "name": "stdout",
          "text": [
            "Accuracy: 78.61 %\n",
            "Standard Deviation: 5.40 %\n"
          ]
        }
      ]
    },
    {
      "cell_type": "markdown",
      "source": [
        "## ROC Curve"
      ],
      "metadata": {
        "id": "S7qvNhyg0c35"
      }
    },
    {
      "cell_type": "code",
      "source": [
        "import matplotlib.pyplot as plt\n",
        "from sklearn import metrics\n",
        "\n",
        "from sklearn.linear_model import LogisticRegression\n",
        "from sklearn.ensemble import GradientBoostingClassifier\n",
        "from sklearn.ensemble import RandomForestClassifier\n",
        "from xgboost import XGBClassifier\n",
        "XGB_classifier = XGBClassifier()\n",
        "from sklearn.naive_bayes import MultinomialNB\n",
        "NB_classifier = MultinomialNB()"
      ],
      "metadata": {
        "id": "RLMwro8X0czQ"
      },
      "execution_count": null,
      "outputs": []
    },
    {
      "cell_type": "code",
      "source": [
        "#set up plotting area\n",
        "plt.figure(0).clf()\n",
        "\n",
        "\n",
        "#fit logistic regression model and plot ROC curve\n",
        "model = LogisticRegression()\n",
        "model.fit(X_train, y_train)\n",
        "y_pred = model.predict_proba(X_test)[:, 1]\n",
        "fpr, tpr, _ = metrics.roc_curve(y_test, y_pred)\n",
        "auc = round(metrics.roc_auc_score(y_test, y_pred), 4)\n",
        "plt.plot(fpr,tpr,label=\"Logistic Regression, AUC=\"+str(auc))\n",
        "#fit gradient boosted model and plot ROC curve\n",
        "model = GradientBoostingClassifier()\n",
        "model.fit(X_train, y_train)\n",
        "y_pred = model.predict_proba(X_test)[:, 1]\n",
        "fpr, tpr, _ = metrics.roc_curve(y_test, y_pred)\n",
        "auc = round(metrics.roc_auc_score(y_test, y_pred), 4)\n",
        "plt.plot(fpr,tpr,label=\"Gradient Boosting, AUC=\"+str(auc))\n",
        "\n",
        "#fit gradient boosted model and plot ROC curve\n",
        "model = RandomForestClassifier()\n",
        "model.fit(X_train, y_train)\n",
        "y_pred = model.predict_proba(X_test)[:, 1]\n",
        "fpr, tpr, _ = metrics.roc_curve(y_test, y_pred)\n",
        "auc = round(metrics.roc_auc_score(y_test, y_pred), 4)\n",
        "plt.plot(fpr,tpr,label=\"Random Forest, AUC=\"+str(auc))\n",
        "\n",
        "#fit gradient boosted model and plot ROC curve\n",
        "model = XGBClassifier()\n",
        "model.fit(X_train, y_train)\n",
        "y_pred = model.predict_proba(X_test)[:, 1]\n",
        "fpr, tpr, _ = metrics.roc_curve(y_test, y_pred)\n",
        "auc = round(metrics.roc_auc_score(y_test, y_pred), 4)\n",
        "plt.plot(fpr,tpr,label=\"XGBoost, AUC=\"+str(auc))\n",
        "\n",
        "#fit gradient boosted model and plot ROC curve\n",
        "model = MultinomialNB()\n",
        "model.fit(X_train, y_train)\n",
        "y_pred = model.predict_proba(X_test)[:, 1]\n",
        "fpr, tpr, _ = metrics.roc_curve(y_test, y_pred)\n",
        "auc = round(metrics.roc_auc_score(y_test, y_pred), 4)\n",
        "plt.plot(fpr,tpr,label=\"NAIVE BAYES, AUC=\"+str(auc))\n",
        "\n",
        "# Plot line with no predictive power (baseline)\n",
        "plt.plot([0, 1], [0, 1], color='darkblue', linestyle='--', label='Baseline')\n",
        "\n",
        "#add legend\n",
        "plt.legend()"
      ],
      "metadata": {
        "colab": {
          "base_uri": "https://localhost:8080/",
          "height": 283
        },
        "id": "g_keJ6gu0cuo",
        "outputId": "49eac49a-9864-4793-fa82-f7536da8f3fa"
      },
      "execution_count": null,
      "outputs": [
        {
          "output_type": "execute_result",
          "data": {
            "text/plain": [
              "<matplotlib.legend.Legend at 0x7f6363f40ad0>"
            ]
          },
          "metadata": {},
          "execution_count": 541
        },
        {
          "output_type": "display_data",
          "data": {
            "text/plain": [
              "<Figure size 432x288 with 1 Axes>"
            ],
            "image/png": "[encoded data removed]"
          },
          "metadata": {
            "needs_background": "light"
          }
        }
      ]
    }
  ],
  "metadata": {
    "colab": {
      "name": "CSE_597_13th_Aug.ipynb",
      "provenance": []
    },
    "kernelspec": {
      "display_name": "Python 3",
      "name": "python3"
    },
    "language_info": {
      "name": "python"
    }
  },
  "nbformat": 4,
  "nbformat_minor": 0
}