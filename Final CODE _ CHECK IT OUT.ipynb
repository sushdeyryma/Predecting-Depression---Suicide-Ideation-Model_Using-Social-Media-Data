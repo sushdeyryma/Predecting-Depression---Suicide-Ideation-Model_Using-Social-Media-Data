{
  "cells": [
    {
      "cell_type": "markdown",
      "metadata": {
        "id": "zTobbokyhRva"
      },
      "source": [
        "# STEP #0: IMPORT LIBRARY"
      ]
    },
    {
      "cell_type": "code",
      "execution_count": 364,
      "metadata": {
        "id": "yyg8chjV8hMP"
      },
      "outputs": [],
      "source": [
        "import warnings; \n",
        "warnings.simplefilter('ignore')"
      ]
    },
    {
      "cell_type": "code",
      "execution_count": 365,
      "metadata": {
        "id": "Etws1tDUgenm"
      },
      "outputs": [],
      "source": [
        "import pandas as pd\n",
        "import numpy as np\n",
        "import matplotlib.pyplot as plt\n",
        "%matplotlib inline\n",
        "import seaborn as sns\n",
        "import string, re\n",
        "from nltk.stem.wordnet import WordNetLemmatizer"
      ]
    },
    {
      "cell_type": "markdown",
      "metadata": {
        "id": "89RD3EainzvT"
      },
      "source": [
        "#STEP #1: IMPORT DATASET"
      ]
    },
    {
      "cell_type": "code",
      "execution_count": 366,
      "metadata": {
        "id": "K6PAwPzFH3v7"
      },
      "outputs": [],
      "source": [
        "dataset = pd.read_excel('Last_Sample.xlsx')"
      ]
    },
    {
      "cell_type": "code",
      "execution_count": 367,
      "metadata": {
        "colab": {
          "base_uri": "https://localhost:8080/",
          "height": 370
        },
        "id": "11w6pz_VH56n",
        "outputId": "819bc98a-33b4-4e8e-8ab5-7c578eceae0a"
      },
      "outputs": [
        {
          "output_type": "execute_result",
          "data": {
            "text/plain": [
              "   Number        User Name     Sex Relationship status Occupation    Age  \\\n",
              "0       1  Manjari Chy Oni  Female             Married   Employee  21-25   \n",
              "\n",
              "                            User Description / About  \\\n",
              "0  To whom personal rights arise, Can't tolerate ...   \n",
              "\n",
              "                                     About in Bangla Location(Division)  \\\n",
              "0  \"আপনি লোকেদের যা বলবেন তা সাবধানে রাখুন। আজ বন...         Chattogram   \n",
              "\n",
              "  Time Acount Was Created  No. Of Friends Followers         Date of Post  \\\n",
              "0                 4/09/19           225.0       368  2022-06-08 00:00:00   \n",
              "\n",
              "                                        Post  \\\n",
              "0  I want to go as far as I can't come back.   \n",
              "\n",
              "                                                Text  Label  \n",
              "0  Dear God,🙄🙄🙄🙄  ঠিক ততোটা দূরে যেতে চাই যতোটা দ...      1  "
            ],
            "text/html": [
              "\n",
              "  <div id=\"df-735dc9ac-56b2-44c0-b942-cd2f1e1dfee4\">\n",
              "    <div class=\"colab-df-container\">\n",
              "      <div>\n",
              "<style scoped>\n",
              "    .dataframe tbody tr th:only-of-type {\n",
              "        vertical-align: middle;\n",
              "    }\n",
              "\n",
              "    .dataframe tbody tr th {\n",
              "        vertical-align: top;\n",
              "    }\n",
              "\n",
              "    .dataframe thead th {\n",
              "        text-align: right;\n",
              "    }\n",
              "</style>\n",
              "<table border=\"1\" class=\"dataframe\">\n",
              "  <thead>\n",
              "    <tr style=\"text-align: right;\">\n",
              "      <th></th>\n",
              "      <th>Number</th>\n",
              "      <th>User Name</th>\n",
              "      <th>Sex</th>\n",
              "      <th>Relationship status</th>\n",
              "      <th>Occupation</th>\n",
              "      <th>Age</th>\n",
              "      <th>User Description / About</th>\n",
              "      <th>About in Bangla</th>\n",
              "      <th>Location(Division)</th>\n",
              "      <th>Time Acount Was Created</th>\n",
              "      <th>No. Of Friends</th>\n",
              "      <th>Followers</th>\n",
              "      <th>Date of Post</th>\n",
              "      <th>Post</th>\n",
              "      <th>Text</th>\n",
              "      <th>Label</th>\n",
              "    </tr>\n",
              "  </thead>\n",
              "  <tbody>\n",
              "    <tr>\n",
              "      <th>0</th>\n",
              "      <td>1</td>\n",
              "      <td>Manjari Chy Oni</td>\n",
              "      <td>Female</td>\n",
              "      <td>Married</td>\n",
              "      <td>Employee</td>\n",
              "      <td>21-25</td>\n",
              "      <td>To whom personal rights arise, Can't tolerate ...</td>\n",
              "      <td>\"আপনি লোকেদের যা বলবেন তা সাবধানে রাখুন। আজ বন...</td>\n",
              "      <td>Chattogram</td>\n",
              "      <td>4/09/19</td>\n",
              "      <td>225.0</td>\n",
              "      <td>368</td>\n",
              "      <td>2022-06-08 00:00:00</td>\n",
              "      <td>I want to go as far as I can't come back.</td>\n",
              "      <td>Dear God,🙄🙄🙄🙄  ঠিক ততোটা দূরে যেতে চাই যতোটা দ...</td>\n",
              "      <td>1</td>\n",
              "    </tr>\n",
              "  </tbody>\n",
              "</table>\n",
              "</div>\n",
              "      <button class=\"colab-df-convert\" onclick=\"convertToInteractive('df-735dc9ac-56b2-44c0-b942-cd2f1e1dfee4')\"\n",
              "              title=\"Convert this dataframe to an interactive table.\"\n",
              "              style=\"display:none;\">\n",
              "        \n",
              "  <svg xmlns=\"http://www.w3.org/2000/svg\" height=\"24px\"viewBox=\"0 0 24 24\"\n",
              "       width=\"24px\">\n",
              "    <path d=\"M0 0h24v24H0V0z\" fill=\"none\"/>\n",
              "    <path d=\"M18.56 5.44l.94 2.06.94-2.06 2.06-.94-2.06-.94-.94-2.06-.94 2.06-2.06.94zm-11 1L8.5 8.5l.94-2.06 2.06-.94-2.06-.94L8.5 2.5l-.94 2.06-2.06.94zm10 10l.94 2.06.94-2.06 2.06-.94-2.06-.94-.94-2.06-.94 2.06-2.06.94z\"/><path d=\"M17.41 7.96l-1.37-1.37c-.4-.4-.92-.59-1.43-.59-.52 0-1.04.2-1.43.59L10.3 9.45l-7.72 7.72c-.78.78-.78 2.05 0 2.83L4 21.41c.39.39.9.59 1.41.59.51 0 1.02-.2 1.41-.59l7.78-7.78 2.81-2.81c.8-.78.8-2.07 0-2.86zM5.41 20L4 18.59l7.72-7.72 1.47 1.35L5.41 20z\"/>\n",
              "  </svg>\n",
              "      </button>\n",
              "      \n",
              "  <style>\n",
              "    .colab-df-container {\n",
              "      display:flex;\n",
              "      flex-wrap:wrap;\n",
              "      gap: 12px;\n",
              "    }\n",
              "\n",
              "    .colab-df-convert {\n",
              "      background-color: #E8F0FE;\n",
              "      border: none;\n",
              "      border-radius: 50%;\n",
              "      cursor: pointer;\n",
              "      display: none;\n",
              "      fill: #1967D2;\n",
              "      height: 32px;\n",
              "      padding: 0 0 0 0;\n",
              "      width: 32px;\n",
              "    }\n",
              "\n",
              "    .colab-df-convert:hover {\n",
              "      background-color: #E2EBFA;\n",
              "      box-shadow: 0px 1px 2px rgba(60, 64, 67, 0.3), 0px 1px 3px 1px rgba(60, 64, 67, 0.15);\n",
              "      fill: #174EA6;\n",
              "    }\n",
              "\n",
              "    [theme=dark] .colab-df-convert {\n",
              "      background-color: #3B4455;\n",
              "      fill: #D2E3FC;\n",
              "    }\n",
              "\n",
              "    [theme=dark] .colab-df-convert:hover {\n",
              "      background-color: #434B5C;\n",
              "      box-shadow: 0px 1px 3px 1px rgba(0, 0, 0, 0.15);\n",
              "      filter: drop-shadow(0px 1px 2px rgba(0, 0, 0, 0.3));\n",
              "      fill: #FFFFFF;\n",
              "    }\n",
              "  </style>\n",
              "\n",
              "      <script>\n",
              "        const buttonEl =\n",
              "          document.querySelector('#df-735dc9ac-56b2-44c0-b942-cd2f1e1dfee4 button.colab-df-convert');\n",
              "        buttonEl.style.display =\n",
              "          google.colab.kernel.accessAllowed ? 'block' : 'none';\n",
              "\n",
              "        async function convertToInteractive(key) {\n",
              "          const element = document.querySelector('#df-735dc9ac-56b2-44c0-b942-cd2f1e1dfee4');\n",
              "          const dataTable =\n",
              "            await google.colab.kernel.invokeFunction('convertToInteractive',\n",
              "                                                     [key], {});\n",
              "          if (!dataTable) return;\n",
              "\n",
              "          const docLinkHtml = 'Like what you see? Visit the ' +\n",
              "            '<a target=\"_blank\" href=https://colab.research.google.com/notebooks/data_table.ipynb>data table notebook</a>'\n",
              "            + ' to learn more about interactive tables.';\n",
              "          element.innerHTML = '';\n",
              "          dataTable['output_type'] = 'display_data';\n",
              "          await google.colab.output.renderOutput(dataTable, element);\n",
              "          const docLink = document.createElement('div');\n",
              "          docLink.innerHTML = docLinkHtml;\n",
              "          element.appendChild(docLink);\n",
              "        }\n",
              "      </script>\n",
              "    </div>\n",
              "  </div>\n",
              "  "
            ]
          },
          "metadata": {},
          "execution_count": 367
        }
      ],
      "source": [
        "dataset.head(1)"
      ]
    },
    {
      "cell_type": "markdown",
      "metadata": {
        "id": "2z0H3cuMpJlx"
      },
      "source": [
        "# STEP #2: VISUALIZE DATASET"
      ]
    },
    {
      "cell_type": "code",
      "execution_count": 368,
      "metadata": {
        "colab": {
          "base_uri": "https://localhost:8080/"
        },
        "id": "9KIXeZj-IA1x",
        "outputId": "dfd265b8-8ecf-4801-c36b-a32822299613"
      },
      "outputs": [
        {
          "output_type": "stream",
          "name": "stdout",
          "text": [
            "<class 'pandas.core.frame.DataFrame'>\n",
            "RangeIndex: 1778 entries, 0 to 1777\n",
            "Data columns (total 16 columns):\n",
            " #   Column                    Non-Null Count  Dtype  \n",
            "---  ------                    --------------  -----  \n",
            " 0   Number                    1778 non-null   int64  \n",
            " 1   User Name                 1717 non-null   object \n",
            " 2   Sex                       1775 non-null   object \n",
            " 3   Relationship status       1778 non-null   object \n",
            " 4   Occupation                1778 non-null   object \n",
            " 5   Age                       1778 non-null   object \n",
            " 6   User Description / About  369 non-null    object \n",
            " 7   About in Bangla           419 non-null    object \n",
            " 8   Location(Division)        1778 non-null   object \n",
            " 9   Time Acount Was Created   204 non-null    object \n",
            " 10  No. Of Friends            86 non-null     float64\n",
            " 11  Followers                 309 non-null    object \n",
            " 12  Date of Post              1627 non-null   object \n",
            " 13  Post                      648 non-null    object \n",
            " 14  Text                      1778 non-null   object \n",
            " 15  Label                     1778 non-null   int64  \n",
            "dtypes: float64(1), int64(2), object(13)\n",
            "memory usage: 222.4+ KB\n"
          ]
        }
      ],
      "source": [
        "dataset.info()"
      ]
    },
    {
      "cell_type": "code",
      "execution_count": 369,
      "metadata": {
        "colab": {
          "base_uri": "https://localhost:8080/"
        },
        "id": "YAJZE4XKIFWA",
        "outputId": "301205c1-6b16-4223-f8c9-ffb395f263b8"
      },
      "outputs": [
        {
          "output_type": "execute_result",
          "data": {
            "text/plain": [
              "(1778, 16)"
            ]
          },
          "metadata": {},
          "execution_count": 369
        }
      ],
      "source": [
        "dataset.shape"
      ]
    },
    {
      "cell_type": "code",
      "execution_count": 370,
      "metadata": {
        "colab": {
          "base_uri": "https://localhost:8080/"
        },
        "id": "z65ptDYkIRx4",
        "outputId": "9ab97f81-2a14-4de1-d0f9-cf6e546cae94"
      },
      "outputs": [
        {
          "output_type": "execute_result",
          "data": {
            "text/plain": [
              "Number                        int64\n",
              "User Name                    object\n",
              "Sex                          object\n",
              "Relationship status          object\n",
              "Occupation                   object\n",
              "Age                          object\n",
              "User Description / About     object\n",
              "About in Bangla              object\n",
              "Location(Division)           object\n",
              "Time Acount Was Created      object\n",
              "No. Of Friends              float64\n",
              "Followers                    object\n",
              "Date of Post                 object\n",
              "Post                         object\n",
              "Text                         object\n",
              "Label                         int64\n",
              "dtype: object"
            ]
          },
          "metadata": {},
          "execution_count": 370
        }
      ],
      "source": [
        "dataset.dtypes"
      ]
    },
    {
      "cell_type": "code",
      "execution_count": 371,
      "metadata": {
        "colab": {
          "base_uri": "https://localhost:8080/",
          "height": 370
        },
        "id": "MWtSleKinGN7",
        "outputId": "993a88cf-5e59-4f15-e1a1-fc1e35576083"
      },
      "outputs": [
        {
          "output_type": "execute_result",
          "data": {
            "text/plain": [
              "   Number        User Name     Sex Relationship status Occupation    Age  \\\n",
              "0       1  Manjari Chy Oni  Female             Married   Employee  21-25   \n",
              "\n",
              "                            User Description / About  \\\n",
              "0  To whom personal rights arise, Can't tolerate ...   \n",
              "\n",
              "                                     About in Bangla Location(Division)  \\\n",
              "0  \"আপনি লোকেদের যা বলবেন তা সাবধানে রাখুন। আজ বন...         Chattogram   \n",
              "\n",
              "  Time Acount Was Created  No. Of Friends Followers         Date of Post  \\\n",
              "0                 4/09/19           225.0       368  2022-06-08 00:00:00   \n",
              "\n",
              "                                        Post  \\\n",
              "0  I want to go as far as I can't come back.   \n",
              "\n",
              "                                                Text  Label  \n",
              "0  Dear God,🙄🙄🙄🙄  ঠিক ততোটা দূরে যেতে চাই যতোটা দ...      1  "
            ],
            "text/html": [
              "\n",
              "  <div id=\"df-2cfe6f0c-af0a-4c98-9258-c356c180f805\">\n",
              "    <div class=\"colab-df-container\">\n",
              "      <div>\n",
              "<style scoped>\n",
              "    .dataframe tbody tr th:only-of-type {\n",
              "        vertical-align: middle;\n",
              "    }\n",
              "\n",
              "    .dataframe tbody tr th {\n",
              "        vertical-align: top;\n",
              "    }\n",
              "\n",
              "    .dataframe thead th {\n",
              "        text-align: right;\n",
              "    }\n",
              "</style>\n",
              "<table border=\"1\" class=\"dataframe\">\n",
              "  <thead>\n",
              "    <tr style=\"text-align: right;\">\n",
              "      <th></th>\n",
              "      <th>Number</th>\n",
              "      <th>User Name</th>\n",
              "      <th>Sex</th>\n",
              "      <th>Relationship status</th>\n",
              "      <th>Occupation</th>\n",
              "      <th>Age</th>\n",
              "      <th>User Description / About</th>\n",
              "      <th>About in Bangla</th>\n",
              "      <th>Location(Division)</th>\n",
              "      <th>Time Acount Was Created</th>\n",
              "      <th>No. Of Friends</th>\n",
              "      <th>Followers</th>\n",
              "      <th>Date of Post</th>\n",
              "      <th>Post</th>\n",
              "      <th>Text</th>\n",
              "      <th>Label</th>\n",
              "    </tr>\n",
              "  </thead>\n",
              "  <tbody>\n",
              "    <tr>\n",
              "      <th>0</th>\n",
              "      <td>1</td>\n",
              "      <td>Manjari Chy Oni</td>\n",
              "      <td>Female</td>\n",
              "      <td>Married</td>\n",
              "      <td>Employee</td>\n",
              "      <td>21-25</td>\n",
              "      <td>To whom personal rights arise, Can't tolerate ...</td>\n",
              "      <td>\"আপনি লোকেদের যা বলবেন তা সাবধানে রাখুন। আজ বন...</td>\n",
              "      <td>Chattogram</td>\n",
              "      <td>4/09/19</td>\n",
              "      <td>225.0</td>\n",
              "      <td>368</td>\n",
              "      <td>2022-06-08 00:00:00</td>\n",
              "      <td>I want to go as far as I can't come back.</td>\n",
              "      <td>Dear God,🙄🙄🙄🙄  ঠিক ততোটা দূরে যেতে চাই যতোটা দ...</td>\n",
              "      <td>1</td>\n",
              "    </tr>\n",
              "  </tbody>\n",
              "</table>\n",
              "</div>\n",
              "      <button class=\"colab-df-convert\" onclick=\"convertToInteractive('df-2cfe6f0c-af0a-4c98-9258-c356c180f805')\"\n",
              "              title=\"Convert this dataframe to an interactive table.\"\n",
              "              style=\"display:none;\">\n",
              "        \n",
              "  <svg xmlns=\"http://www.w3.org/2000/svg\" height=\"24px\"viewBox=\"0 0 24 24\"\n",
              "       width=\"24px\">\n",
              "    <path d=\"M0 0h24v24H0V0z\" fill=\"none\"/>\n",
              "    <path d=\"M18.56 5.44l.94 2.06.94-2.06 2.06-.94-2.06-.94-.94-2.06-.94 2.06-2.06.94zm-11 1L8.5 8.5l.94-2.06 2.06-.94-2.06-.94L8.5 2.5l-.94 2.06-2.06.94zm10 10l.94 2.06.94-2.06 2.06-.94-2.06-.94-.94-2.06-.94 2.06-2.06.94z\"/><path d=\"M17.41 7.96l-1.37-1.37c-.4-.4-.92-.59-1.43-.59-.52 0-1.04.2-1.43.59L10.3 9.45l-7.72 7.72c-.78.78-.78 2.05 0 2.83L4 21.41c.39.39.9.59 1.41.59.51 0 1.02-.2 1.41-.59l7.78-7.78 2.81-2.81c.8-.78.8-2.07 0-2.86zM5.41 20L4 18.59l7.72-7.72 1.47 1.35L5.41 20z\"/>\n",
              "  </svg>\n",
              "      </button>\n",
              "      \n",
              "  <style>\n",
              "    .colab-df-container {\n",
              "      display:flex;\n",
              "      flex-wrap:wrap;\n",
              "      gap: 12px;\n",
              "    }\n",
              "\n",
              "    .colab-df-convert {\n",
              "      background-color: #E8F0FE;\n",
              "      border: none;\n",
              "      border-radius: 50%;\n",
              "      cursor: pointer;\n",
              "      display: none;\n",
              "      fill: #1967D2;\n",
              "      height: 32px;\n",
              "      padding: 0 0 0 0;\n",
              "      width: 32px;\n",
              "    }\n",
              "\n",
              "    .colab-df-convert:hover {\n",
              "      background-color: #E2EBFA;\n",
              "      box-shadow: 0px 1px 2px rgba(60, 64, 67, 0.3), 0px 1px 3px 1px rgba(60, 64, 67, 0.15);\n",
              "      fill: #174EA6;\n",
              "    }\n",
              "\n",
              "    [theme=dark] .colab-df-convert {\n",
              "      background-color: #3B4455;\n",
              "      fill: #D2E3FC;\n",
              "    }\n",
              "\n",
              "    [theme=dark] .colab-df-convert:hover {\n",
              "      background-color: #434B5C;\n",
              "      box-shadow: 0px 1px 3px 1px rgba(0, 0, 0, 0.15);\n",
              "      filter: drop-shadow(0px 1px 2px rgba(0, 0, 0, 0.3));\n",
              "      fill: #FFFFFF;\n",
              "    }\n",
              "  </style>\n",
              "\n",
              "      <script>\n",
              "        const buttonEl =\n",
              "          document.querySelector('#df-2cfe6f0c-af0a-4c98-9258-c356c180f805 button.colab-df-convert');\n",
              "        buttonEl.style.display =\n",
              "          google.colab.kernel.accessAllowed ? 'block' : 'none';\n",
              "\n",
              "        async function convertToInteractive(key) {\n",
              "          const element = document.querySelector('#df-2cfe6f0c-af0a-4c98-9258-c356c180f805');\n",
              "          const dataTable =\n",
              "            await google.colab.kernel.invokeFunction('convertToInteractive',\n",
              "                                                     [key], {});\n",
              "          if (!dataTable) return;\n",
              "\n",
              "          const docLinkHtml = 'Like what you see? Visit the ' +\n",
              "            '<a target=\"_blank\" href=https://colab.research.google.com/notebooks/data_table.ipynb>data table notebook</a>'\n",
              "            + ' to learn more about interactive tables.';\n",
              "          element.innerHTML = '';\n",
              "          dataTable['output_type'] = 'display_data';\n",
              "          await google.colab.output.renderOutput(dataTable, element);\n",
              "          const docLink = document.createElement('div');\n",
              "          docLink.innerHTML = docLinkHtml;\n",
              "          element.appendChild(docLink);\n",
              "        }\n",
              "      </script>\n",
              "    </div>\n",
              "  </div>\n",
              "  "
            ]
          },
          "metadata": {},
          "execution_count": 371
        }
      ],
      "source": [
        "dataset.head(1)"
      ]
    },
    {
      "cell_type": "code",
      "execution_count": 372,
      "metadata": {
        "colab": {
          "base_uri": "https://localhost:8080/",
          "height": 300
        },
        "id": "dvEcEO8tngku",
        "outputId": "07d509c5-0ca6-44a4-98d8-360eefbcc4b3"
      },
      "outputs": [
        {
          "output_type": "execute_result",
          "data": {
            "text/plain": [
              "            Number  No. Of Friends        Label\n",
              "count  1778.000000       86.000000  1778.000000\n",
              "mean    728.618110     5303.418605     0.329584\n",
              "std     430.023521     3856.805821     0.470194\n",
              "min       1.000000      225.000000     0.000000\n",
              "25%     364.250000     3893.000000     0.000000\n",
              "50%     741.500000     3893.000000     0.000000\n",
              "75%    1125.000000     3893.000000     1.000000\n",
              "max    1500.000000    12000.000000     1.000000"
            ],
            "text/html": [
              "\n",
              "  <div id=\"df-a4162209-1d01-4213-9881-51fe413de38a\">\n",
              "    <div class=\"colab-df-container\">\n",
              "      <div>\n",
              "<style scoped>\n",
              "    .dataframe tbody tr th:only-of-type {\n",
              "        vertical-align: middle;\n",
              "    }\n",
              "\n",
              "    .dataframe tbody tr th {\n",
              "        vertical-align: top;\n",
              "    }\n",
              "\n",
              "    .dataframe thead th {\n",
              "        text-align: right;\n",
              "    }\n",
              "</style>\n",
              "<table border=\"1\" class=\"dataframe\">\n",
              "  <thead>\n",
              "    <tr style=\"text-align: right;\">\n",
              "      <th></th>\n",
              "      <th>Number</th>\n",
              "      <th>No. Of Friends</th>\n",
              "      <th>Label</th>\n",
              "    </tr>\n",
              "  </thead>\n",
              "  <tbody>\n",
              "    <tr>\n",
              "      <th>count</th>\n",
              "      <td>1778.000000</td>\n",
              "      <td>86.000000</td>\n",
              "      <td>1778.000000</td>\n",
              "    </tr>\n",
              "    <tr>\n",
              "      <th>mean</th>\n",
              "      <td>728.618110</td>\n",
              "      <td>5303.418605</td>\n",
              "      <td>0.329584</td>\n",
              "    </tr>\n",
              "    <tr>\n",
              "      <th>std</th>\n",
              "      <td>430.023521</td>\n",
              "      <td>3856.805821</td>\n",
              "      <td>0.470194</td>\n",
              "    </tr>\n",
              "    <tr>\n",
              "      <th>min</th>\n",
              "      <td>1.000000</td>\n",
              "      <td>225.000000</td>\n",
              "      <td>0.000000</td>\n",
              "    </tr>\n",
              "    <tr>\n",
              "      <th>25%</th>\n",
              "      <td>364.250000</td>\n",
              "      <td>3893.000000</td>\n",
              "      <td>0.000000</td>\n",
              "    </tr>\n",
              "    <tr>\n",
              "      <th>50%</th>\n",
              "      <td>741.500000</td>\n",
              "      <td>3893.000000</td>\n",
              "      <td>0.000000</td>\n",
              "    </tr>\n",
              "    <tr>\n",
              "      <th>75%</th>\n",
              "      <td>1125.000000</td>\n",
              "      <td>3893.000000</td>\n",
              "      <td>1.000000</td>\n",
              "    </tr>\n",
              "    <tr>\n",
              "      <th>max</th>\n",
              "      <td>1500.000000</td>\n",
              "      <td>12000.000000</td>\n",
              "      <td>1.000000</td>\n",
              "    </tr>\n",
              "  </tbody>\n",
              "</table>\n",
              "</div>\n",
              "      <button class=\"colab-df-convert\" onclick=\"convertToInteractive('df-a4162209-1d01-4213-9881-51fe413de38a')\"\n",
              "              title=\"Convert this dataframe to an interactive table.\"\n",
              "              style=\"display:none;\">\n",
              "        \n",
              "  <svg xmlns=\"http://www.w3.org/2000/svg\" height=\"24px\"viewBox=\"0 0 24 24\"\n",
              "       width=\"24px\">\n",
              "    <path d=\"M0 0h24v24H0V0z\" fill=\"none\"/>\n",
              "    <path d=\"M18.56 5.44l.94 2.06.94-2.06 2.06-.94-2.06-.94-.94-2.06-.94 2.06-2.06.94zm-11 1L8.5 8.5l.94-2.06 2.06-.94-2.06-.94L8.5 2.5l-.94 2.06-2.06.94zm10 10l.94 2.06.94-2.06 2.06-.94-2.06-.94-.94-2.06-.94 2.06-2.06.94z\"/><path d=\"M17.41 7.96l-1.37-1.37c-.4-.4-.92-.59-1.43-.59-.52 0-1.04.2-1.43.59L10.3 9.45l-7.72 7.72c-.78.78-.78 2.05 0 2.83L4 21.41c.39.39.9.59 1.41.59.51 0 1.02-.2 1.41-.59l7.78-7.78 2.81-2.81c.8-.78.8-2.07 0-2.86zM5.41 20L4 18.59l7.72-7.72 1.47 1.35L5.41 20z\"/>\n",
              "  </svg>\n",
              "      </button>\n",
              "      \n",
              "  <style>\n",
              "    .colab-df-container {\n",
              "      display:flex;\n",
              "      flex-wrap:wrap;\n",
              "      gap: 12px;\n",
              "    }\n",
              "\n",
              "    .colab-df-convert {\n",
              "      background-color: #E8F0FE;\n",
              "      border: none;\n",
              "      border-radius: 50%;\n",
              "      cursor: pointer;\n",
              "      display: none;\n",
              "      fill: #1967D2;\n",
              "      height: 32px;\n",
              "      padding: 0 0 0 0;\n",
              "      width: 32px;\n",
              "    }\n",
              "\n",
              "    .colab-df-convert:hover {\n",
              "      background-color: #E2EBFA;\n",
              "      box-shadow: 0px 1px 2px rgba(60, 64, 67, 0.3), 0px 1px 3px 1px rgba(60, 64, 67, 0.15);\n",
              "      fill: #174EA6;\n",
              "    }\n",
              "\n",
              "    [theme=dark] .colab-df-convert {\n",
              "      background-color: #3B4455;\n",
              "      fill: #D2E3FC;\n",
              "    }\n",
              "\n",
              "    [theme=dark] .colab-df-convert:hover {\n",
              "      background-color: #434B5C;\n",
              "      box-shadow: 0px 1px 3px 1px rgba(0, 0, 0, 0.15);\n",
              "      filter: drop-shadow(0px 1px 2px rgba(0, 0, 0, 0.3));\n",
              "      fill: #FFFFFF;\n",
              "    }\n",
              "  </style>\n",
              "\n",
              "      <script>\n",
              "        const buttonEl =\n",
              "          document.querySelector('#df-a4162209-1d01-4213-9881-51fe413de38a button.colab-df-convert');\n",
              "        buttonEl.style.display =\n",
              "          google.colab.kernel.accessAllowed ? 'block' : 'none';\n",
              "\n",
              "        async function convertToInteractive(key) {\n",
              "          const element = document.querySelector('#df-a4162209-1d01-4213-9881-51fe413de38a');\n",
              "          const dataTable =\n",
              "            await google.colab.kernel.invokeFunction('convertToInteractive',\n",
              "                                                     [key], {});\n",
              "          if (!dataTable) return;\n",
              "\n",
              "          const docLinkHtml = 'Like what you see? Visit the ' +\n",
              "            '<a target=\"_blank\" href=https://colab.research.google.com/notebooks/data_table.ipynb>data table notebook</a>'\n",
              "            + ' to learn more about interactive tables.';\n",
              "          element.innerHTML = '';\n",
              "          dataTable['output_type'] = 'display_data';\n",
              "          await google.colab.output.renderOutput(dataTable, element);\n",
              "          const docLink = document.createElement('div');\n",
              "          docLink.innerHTML = docLinkHtml;\n",
              "          element.appendChild(docLink);\n",
              "        }\n",
              "      </script>\n",
              "    </div>\n",
              "  </div>\n",
              "  "
            ]
          },
          "metadata": {},
          "execution_count": 372
        }
      ],
      "source": [
        "dataset.describe()"
      ]
    },
    {
      "cell_type": "code",
      "execution_count": 373,
      "metadata": {
        "colab": {
          "base_uri": "https://localhost:8080/",
          "height": 219
        },
        "id": "beafdGrPpJi5",
        "outputId": "2058f0a3-06a9-4f39-b979-a2a525ddb499"
      },
      "outputs": [
        {
          "output_type": "execute_result",
          "data": {
            "text/plain": [
              "       Number                                                              \\\n",
              "        count        mean         std  min     25%    50%     75%     max   \n",
              "Label                                                                       \n",
              "0      1192.0  825.557047  401.520975  3.0  445.75  839.5  1163.0  1499.0   \n",
              "1       586.0  531.431741  418.799199  1.0  141.25  431.0   796.0  1500.0   \n",
              "\n",
              "      No. Of Friends                                                           \\\n",
              "               count         mean          std    min     25%     50%     75%   \n",
              "Label                                                                           \n",
              "0                9.0  2977.000000  3584.333027  967.0  1208.0  1208.0  3893.0   \n",
              "1               77.0  5575.337662  3816.839267  225.0  3893.0  3893.0  3893.0   \n",
              "\n",
              "                \n",
              "           max  \n",
              "Label           \n",
              "0      12000.0  \n",
              "1      12000.0  "
            ],
            "text/html": [
              "\n",
              "  <div id=\"df-2e42c1f3-6174-4b84-acac-fc49eb699168\">\n",
              "    <div class=\"colab-df-container\">\n",
              "      <div>\n",
              "<style scoped>\n",
              "    .dataframe tbody tr th:only-of-type {\n",
              "        vertical-align: middle;\n",
              "    }\n",
              "\n",
              "    .dataframe tbody tr th {\n",
              "        vertical-align: top;\n",
              "    }\n",
              "\n",
              "    .dataframe thead tr th {\n",
              "        text-align: left;\n",
              "    }\n",
              "\n",
              "    .dataframe thead tr:last-of-type th {\n",
              "        text-align: right;\n",
              "    }\n",
              "</style>\n",
              "<table border=\"1\" class=\"dataframe\">\n",
              "  <thead>\n",
              "    <tr>\n",
              "      <th></th>\n",
              "      <th colspan=\"8\" halign=\"left\">Number</th>\n",
              "      <th colspan=\"8\" halign=\"left\">No. Of Friends</th>\n",
              "    </tr>\n",
              "    <tr>\n",
              "      <th></th>\n",
              "      <th>count</th>\n",
              "      <th>mean</th>\n",
              "      <th>std</th>\n",
              "      <th>min</th>\n",
              "      <th>25%</th>\n",
              "      <th>50%</th>\n",
              "      <th>75%</th>\n",
              "      <th>max</th>\n",
              "      <th>count</th>\n",
              "      <th>mean</th>\n",
              "      <th>std</th>\n",
              "      <th>min</th>\n",
              "      <th>25%</th>\n",
              "      <th>50%</th>\n",
              "      <th>75%</th>\n",
              "      <th>max</th>\n",
              "    </tr>\n",
              "    <tr>\n",
              "      <th>Label</th>\n",
              "      <th></th>\n",
              "      <th></th>\n",
              "      <th></th>\n",
              "      <th></th>\n",
              "      <th></th>\n",
              "      <th></th>\n",
              "      <th></th>\n",
              "      <th></th>\n",
              "      <th></th>\n",
              "      <th></th>\n",
              "      <th></th>\n",
              "      <th></th>\n",
              "      <th></th>\n",
              "      <th></th>\n",
              "      <th></th>\n",
              "      <th></th>\n",
              "    </tr>\n",
              "  </thead>\n",
              "  <tbody>\n",
              "    <tr>\n",
              "      <th>0</th>\n",
              "      <td>1192.0</td>\n",
              "      <td>825.557047</td>\n",
              "      <td>401.520975</td>\n",
              "      <td>3.0</td>\n",
              "      <td>445.75</td>\n",
              "      <td>839.5</td>\n",
              "      <td>1163.0</td>\n",
              "      <td>1499.0</td>\n",
              "      <td>9.0</td>\n",
              "      <td>2977.000000</td>\n",
              "      <td>3584.333027</td>\n",
              "      <td>967.0</td>\n",
              "      <td>1208.0</td>\n",
              "      <td>1208.0</td>\n",
              "      <td>3893.0</td>\n",
              "      <td>12000.0</td>\n",
              "    </tr>\n",
              "    <tr>\n",
              "      <th>1</th>\n",
              "      <td>586.0</td>\n",
              "      <td>531.431741</td>\n",
              "      <td>418.799199</td>\n",
              "      <td>1.0</td>\n",
              "      <td>141.25</td>\n",
              "      <td>431.0</td>\n",
              "      <td>796.0</td>\n",
              "      <td>1500.0</td>\n",
              "      <td>77.0</td>\n",
              "      <td>5575.337662</td>\n",
              "      <td>3816.839267</td>\n",
              "      <td>225.0</td>\n",
              "      <td>3893.0</td>\n",
              "      <td>3893.0</td>\n",
              "      <td>3893.0</td>\n",
              "      <td>12000.0</td>\n",
              "    </tr>\n",
              "  </tbody>\n",
              "</table>\n",
              "</div>\n",
              "      <button class=\"colab-df-convert\" onclick=\"convertToInteractive('df-2e42c1f3-6174-4b84-acac-fc49eb699168')\"\n",
              "              title=\"Convert this dataframe to an interactive table.\"\n",
              "              style=\"display:none;\">\n",
              "        \n",
              "  <svg xmlns=\"http://www.w3.org/2000/svg\" height=\"24px\"viewBox=\"0 0 24 24\"\n",
              "       width=\"24px\">\n",
              "    <path d=\"M0 0h24v24H0V0z\" fill=\"none\"/>\n",
              "    <path d=\"M18.56 5.44l.94 2.06.94-2.06 2.06-.94-2.06-.94-.94-2.06-.94 2.06-2.06.94zm-11 1L8.5 8.5l.94-2.06 2.06-.94-2.06-.94L8.5 2.5l-.94 2.06-2.06.94zm10 10l.94 2.06.94-2.06 2.06-.94-2.06-.94-.94-2.06-.94 2.06-2.06.94z\"/><path d=\"M17.41 7.96l-1.37-1.37c-.4-.4-.92-.59-1.43-.59-.52 0-1.04.2-1.43.59L10.3 9.45l-7.72 7.72c-.78.78-.78 2.05 0 2.83L4 21.41c.39.39.9.59 1.41.59.51 0 1.02-.2 1.41-.59l7.78-7.78 2.81-2.81c.8-.78.8-2.07 0-2.86zM5.41 20L4 18.59l7.72-7.72 1.47 1.35L5.41 20z\"/>\n",
              "  </svg>\n",
              "      </button>\n",
              "      \n",
              "  <style>\n",
              "    .colab-df-container {\n",
              "      display:flex;\n",
              "      flex-wrap:wrap;\n",
              "      gap: 12px;\n",
              "    }\n",
              "\n",
              "    .colab-df-convert {\n",
              "      background-color: #E8F0FE;\n",
              "      border: none;\n",
              "      border-radius: 50%;\n",
              "      cursor: pointer;\n",
              "      display: none;\n",
              "      fill: #1967D2;\n",
              "      height: 32px;\n",
              "      padding: 0 0 0 0;\n",
              "      width: 32px;\n",
              "    }\n",
              "\n",
              "    .colab-df-convert:hover {\n",
              "      background-color: #E2EBFA;\n",
              "      box-shadow: 0px 1px 2px rgba(60, 64, 67, 0.3), 0px 1px 3px 1px rgba(60, 64, 67, 0.15);\n",
              "      fill: #174EA6;\n",
              "    }\n",
              "\n",
              "    [theme=dark] .colab-df-convert {\n",
              "      background-color: #3B4455;\n",
              "      fill: #D2E3FC;\n",
              "    }\n",
              "\n",
              "    [theme=dark] .colab-df-convert:hover {\n",
              "      background-color: #434B5C;\n",
              "      box-shadow: 0px 1px 3px 1px rgba(0, 0, 0, 0.15);\n",
              "      filter: drop-shadow(0px 1px 2px rgba(0, 0, 0, 0.3));\n",
              "      fill: #FFFFFF;\n",
              "    }\n",
              "  </style>\n",
              "\n",
              "      <script>\n",
              "        const buttonEl =\n",
              "          document.querySelector('#df-2e42c1f3-6174-4b84-acac-fc49eb699168 button.colab-df-convert');\n",
              "        buttonEl.style.display =\n",
              "          google.colab.kernel.accessAllowed ? 'block' : 'none';\n",
              "\n",
              "        async function convertToInteractive(key) {\n",
              "          const element = document.querySelector('#df-2e42c1f3-6174-4b84-acac-fc49eb699168');\n",
              "          const dataTable =\n",
              "            await google.colab.kernel.invokeFunction('convertToInteractive',\n",
              "                                                     [key], {});\n",
              "          if (!dataTable) return;\n",
              "\n",
              "          const docLinkHtml = 'Like what you see? Visit the ' +\n",
              "            '<a target=\"_blank\" href=https://colab.research.google.com/notebooks/data_table.ipynb>data table notebook</a>'\n",
              "            + ' to learn more about interactive tables.';\n",
              "          element.innerHTML = '';\n",
              "          dataTable['output_type'] = 'display_data';\n",
              "          await google.colab.output.renderOutput(dataTable, element);\n",
              "          const docLink = document.createElement('div');\n",
              "          docLink.innerHTML = docLinkHtml;\n",
              "          element.appendChild(docLink);\n",
              "        }\n",
              "      </script>\n",
              "    </div>\n",
              "  </div>\n",
              "  "
            ]
          },
          "metadata": {},
          "execution_count": 373
        }
      ],
      "source": [
        "# Let's see which message is the most popular ham/spam message\n",
        "dataset.groupby('Label').describe()"
      ]
    },
    {
      "cell_type": "code",
      "execution_count": 374,
      "metadata": {
        "colab": {
          "base_uri": "https://localhost:8080/",
          "height": 297
        },
        "id": "W1wcfbfuy9a7",
        "outputId": "a7779325-2e22-4f7e-8976-c1f30c8f7607"
      },
      "outputs": [
        {
          "output_type": "execute_result",
          "data": {
            "text/plain": [
              "<matplotlib.axes._subplots.AxesSubplot at 0x7fb2c48c12d0>"
            ]
          },
          "metadata": {},
          "execution_count": 374
        },
        {
          "output_type": "display_data",
          "data": {
            "text/plain": [
              "<Figure size 432x288 with 1 Axes>"
            ],
            "image/png": "[encoded data removed]"
          },
          "metadata": {
            "needs_background": "light"
          }
        }
      ],
      "source": [
        "sns.countplot(dataset['Relationship status'], label = \"Count\")"
      ]
    },
    {
      "cell_type": "code",
      "execution_count": 375,
      "metadata": {
        "colab": {
          "base_uri": "https://localhost:8080/",
          "height": 297
        },
        "id": "I3PK5-pvpIHO",
        "outputId": "cefa6619-7048-45c3-d9a3-5da18f115666"
      },
      "outputs": [
        {
          "output_type": "execute_result",
          "data": {
            "text/plain": [
              "<matplotlib.axes._subplots.AxesSubplot at 0x7fb2c3eb5950>"
            ]
          },
          "metadata": {},
          "execution_count": 375
        },
        {
          "output_type": "display_data",
          "data": {
            "text/plain": [
              "<Figure size 432x288 with 1 Axes>"
            ],
            "image/png": "[encoded data removed]"
          },
          "metadata": {
            "needs_background": "light"
          }
        }
      ],
      "source": [
        "sns.countplot(dataset['Age'], label = \"Count\")"
      ]
    },
    {
      "cell_type": "code",
      "execution_count": 376,
      "metadata": {
        "colab": {
          "base_uri": "https://localhost:8080/",
          "height": 297
        },
        "id": "Q9QG6VJRy9hf",
        "outputId": "9955c282-23e5-4534-de68-c62ed14bb6c1"
      },
      "outputs": [
        {
          "output_type": "execute_result",
          "data": {
            "text/plain": [
              "<matplotlib.axes._subplots.AxesSubplot at 0x7fb2c3cd4f50>"
            ]
          },
          "metadata": {},
          "execution_count": 376
        },
        {
          "output_type": "display_data",
          "data": {
            "text/plain": [
              "<Figure size 432x288 with 1 Axes>"
            ],
            "image/png": "[encoded data removed]"
          },
          "metadata": {
            "needs_background": "light"
          }
        }
      ],
      "source": [
        "sns.countplot(dataset['Location(Division)'], label = \"Count\")"
      ]
    },
    {
      "cell_type": "code",
      "execution_count": 377,
      "metadata": {
        "colab": {
          "base_uri": "https://localhost:8080/",
          "height": 297
        },
        "id": "DS-KCgOlpIVo",
        "outputId": "93bb3a9b-2fa9-40b8-8bfc-1651335ba104"
      },
      "outputs": [
        {
          "output_type": "execute_result",
          "data": {
            "text/plain": [
              "<matplotlib.axes._subplots.AxesSubplot at 0x7fb2c3c48310>"
            ]
          },
          "metadata": {},
          "execution_count": 377
        },
        {
          "output_type": "display_data",
          "data": {
            "text/plain": [
              "<Figure size 432x288 with 1 Axes>"
            ],
            "image/png": "[encoded data removed]"
          },
          "metadata": {
            "needs_background": "light"
          }
        }
      ],
      "source": [
        "sns.countplot(dataset['Sex'], label = \"Count\")"
      ]
    },
    {
      "cell_type": "markdown",
      "source": [
        "# STEP #3: DATA CLEANING"
      ],
      "metadata": {
        "id": "yxsnEIymTiGl"
      }
    },
    {
      "cell_type": "code",
      "source": [
        "dataset.drop([\"Number\", \"User Name\", \"Sex\",\"Relationship status\", \"Occupation\", \"Age\",\"User Description / About\", \"About in Bangla\", \"Location(Division)\", \"Time Acount Was Created\", \"No. Of Friends\", \"Followers\",\"Date of Post\",\"Post\"],inplace = True, axis = 1)"
      ],
      "metadata": {
        "id": "0IrWj13sxtHP"
      },
      "execution_count": 378,
      "outputs": []
    },
    {
      "cell_type": "code",
      "source": [
        "dataset"
      ],
      "metadata": {
        "colab": {
          "base_uri": "https://localhost:8080/",
          "height": 423
        },
        "id": "VyParaWZz0zF",
        "outputId": "26c4c6bb-f934-4e69-ffcb-f3c96da7b36a"
      },
      "execution_count": 379,
      "outputs": [
        {
          "output_type": "execute_result",
          "data": {
            "text/plain": [
              "                                                   Text  Label\n",
              "0     Dear God,🙄🙄🙄🙄  ঠিক ততোটা দূরে যেতে চাই যতোটা দ...      1\n",
              "1     পরিবর্তন তখনই আসে.....যখন আপনার কাছে অনেক টাকা...      1\n",
              "2     বেইমান কোনদিন বন্ধু হতে পারেনা ⚠️\\nআর বন্ধু কখ...      0\n",
              "3     যা কিছু পেয়েছি সেইগুলো আমার অর্জন, যা হারিয়ে...      0\n",
              "4                              বোঝেনা কেউ তা বোঝেনা ???      1\n",
              "...                                                 ...    ...\n",
              "1773  কিছু মানুষের হাত সব সময় আশীর্বাদের জন্য ওঠে♥️ ...      0\n",
              "1774  শুভ জন্মদিন দাদা🎂🍫☺ তোর আগামী দিনগুলো যেন খুব ...      0\n",
              "1775  মাঝে মাঝে মনে হয় কুঁকড়ে উঠে আমার ঘরের গভীর ক...      1\n",
              "1776  আমি মোট ১৯টা  দেশে ঘুরেছি  এবং নিজের ইনকাম করা...      0\n",
              "1777  কেউ অহেতুক ঘৃণা করুক বিষয়টা আমার ভাল লাগে না।...      1\n",
              "\n",
              "[1778 rows x 2 columns]"
            ],
            "text/html": [
              "\n",
              "  <div id=\"df-e22c0102-31d1-4094-a762-31cf98a6b1f4\">\n",
              "    <div class=\"colab-df-container\">\n",
              "      <div>\n",
              "<style scoped>\n",
              "    .dataframe tbody tr th:only-of-type {\n",
              "        vertical-align: middle;\n",
              "    }\n",
              "\n",
              "    .dataframe tbody tr th {\n",
              "        vertical-align: top;\n",
              "    }\n",
              "\n",
              "    .dataframe thead th {\n",
              "        text-align: right;\n",
              "    }\n",
              "</style>\n",
              "<table border=\"1\" class=\"dataframe\">\n",
              "  <thead>\n",
              "    <tr style=\"text-align: right;\">\n",
              "      <th></th>\n",
              "      <th>Text</th>\n",
              "      <th>Label</th>\n",
              "    </tr>\n",
              "  </thead>\n",
              "  <tbody>\n",
              "    <tr>\n",
              "      <th>0</th>\n",
              "      <td>Dear God,🙄🙄🙄🙄  ঠিক ততোটা দূরে যেতে চাই যতোটা দ...</td>\n",
              "      <td>1</td>\n",
              "    </tr>\n",
              "    <tr>\n",
              "      <th>1</th>\n",
              "      <td>পরিবর্তন তখনই আসে.....যখন আপনার কাছে অনেক টাকা...</td>\n",
              "      <td>1</td>\n",
              "    </tr>\n",
              "    <tr>\n",
              "      <th>2</th>\n",
              "      <td>বেইমান কোনদিন বন্ধু হতে পারেনা ⚠️\\nআর বন্ধু কখ...</td>\n",
              "      <td>0</td>\n",
              "    </tr>\n",
              "    <tr>\n",
              "      <th>3</th>\n",
              "      <td>যা কিছু পেয়েছি সেইগুলো আমার অর্জন, যা হারিয়ে...</td>\n",
              "      <td>0</td>\n",
              "    </tr>\n",
              "    <tr>\n",
              "      <th>4</th>\n",
              "      <td>বোঝেনা কেউ তা বোঝেনা ???</td>\n",
              "      <td>1</td>\n",
              "    </tr>\n",
              "    <tr>\n",
              "      <th>...</th>\n",
              "      <td>...</td>\n",
              "      <td>...</td>\n",
              "    </tr>\n",
              "    <tr>\n",
              "      <th>1773</th>\n",
              "      <td>কিছু মানুষের হাত সব সময় আশীর্বাদের জন্য ওঠে♥️ ...</td>\n",
              "      <td>0</td>\n",
              "    </tr>\n",
              "    <tr>\n",
              "      <th>1774</th>\n",
              "      <td>শুভ জন্মদিন দাদা🎂🍫☺ তোর আগামী দিনগুলো যেন খুব ...</td>\n",
              "      <td>0</td>\n",
              "    </tr>\n",
              "    <tr>\n",
              "      <th>1775</th>\n",
              "      <td>মাঝে মাঝে মনে হয় কুঁকড়ে উঠে আমার ঘরের গভীর ক...</td>\n",
              "      <td>1</td>\n",
              "    </tr>\n",
              "    <tr>\n",
              "      <th>1776</th>\n",
              "      <td>আমি মোট ১৯টা  দেশে ঘুরেছি  এবং নিজের ইনকাম করা...</td>\n",
              "      <td>0</td>\n",
              "    </tr>\n",
              "    <tr>\n",
              "      <th>1777</th>\n",
              "      <td>কেউ অহেতুক ঘৃণা করুক বিষয়টা আমার ভাল লাগে না।...</td>\n",
              "      <td>1</td>\n",
              "    </tr>\n",
              "  </tbody>\n",
              "</table>\n",
              "<p>1778 rows × 2 columns</p>\n",
              "</div>\n",
              "      <button class=\"colab-df-convert\" onclick=\"convertToInteractive('df-e22c0102-31d1-4094-a762-31cf98a6b1f4')\"\n",
              "              title=\"Convert this dataframe to an interactive table.\"\n",
              "              style=\"display:none;\">\n",
              "        \n",
              "  <svg xmlns=\"http://www.w3.org/2000/svg\" height=\"24px\"viewBox=\"0 0 24 24\"\n",
              "       width=\"24px\">\n",
              "    <path d=\"M0 0h24v24H0V0z\" fill=\"none\"/>\n",
              "    <path d=\"M18.56 5.44l.94 2.06.94-2.06 2.06-.94-2.06-.94-.94-2.06-.94 2.06-2.06.94zm-11 1L8.5 8.5l.94-2.06 2.06-.94-2.06-.94L8.5 2.5l-.94 2.06-2.06.94zm10 10l.94 2.06.94-2.06 2.06-.94-2.06-.94-.94-2.06-.94 2.06-2.06.94z\"/><path d=\"M17.41 7.96l-1.37-1.37c-.4-.4-.92-.59-1.43-.59-.52 0-1.04.2-1.43.59L10.3 9.45l-7.72 7.72c-.78.78-.78 2.05 0 2.83L4 21.41c.39.39.9.59 1.41.59.51 0 1.02-.2 1.41-.59l7.78-7.78 2.81-2.81c.8-.78.8-2.07 0-2.86zM5.41 20L4 18.59l7.72-7.72 1.47 1.35L5.41 20z\"/>\n",
              "  </svg>\n",
              "      </button>\n",
              "      \n",
              "  <style>\n",
              "    .colab-df-container {\n",
              "      display:flex;\n",
              "      flex-wrap:wrap;\n",
              "      gap: 12px;\n",
              "    }\n",
              "\n",
              "    .colab-df-convert {\n",
              "      background-color: #E8F0FE;\n",
              "      border: none;\n",
              "      border-radius: 50%;\n",
              "      cursor: pointer;\n",
              "      display: none;\n",
              "      fill: #1967D2;\n",
              "      height: 32px;\n",
              "      padding: 0 0 0 0;\n",
              "      width: 32px;\n",
              "    }\n",
              "\n",
              "    .colab-df-convert:hover {\n",
              "      background-color: #E2EBFA;\n",
              "      box-shadow: 0px 1px 2px rgba(60, 64, 67, 0.3), 0px 1px 3px 1px rgba(60, 64, 67, 0.15);\n",
              "      fill: #174EA6;\n",
              "    }\n",
              "\n",
              "    [theme=dark] .colab-df-convert {\n",
              "      background-color: #3B4455;\n",
              "      fill: #D2E3FC;\n",
              "    }\n",
              "\n",
              "    [theme=dark] .colab-df-convert:hover {\n",
              "      background-color: #434B5C;\n",
              "      box-shadow: 0px 1px 3px 1px rgba(0, 0, 0, 0.15);\n",
              "      filter: drop-shadow(0px 1px 2px rgba(0, 0, 0, 0.3));\n",
              "      fill: #FFFFFF;\n",
              "    }\n",
              "  </style>\n",
              "\n",
              "      <script>\n",
              "        const buttonEl =\n",
              "          document.querySelector('#df-e22c0102-31d1-4094-a762-31cf98a6b1f4 button.colab-df-convert');\n",
              "        buttonEl.style.display =\n",
              "          google.colab.kernel.accessAllowed ? 'block' : 'none';\n",
              "\n",
              "        async function convertToInteractive(key) {\n",
              "          const element = document.querySelector('#df-e22c0102-31d1-4094-a762-31cf98a6b1f4');\n",
              "          const dataTable =\n",
              "            await google.colab.kernel.invokeFunction('convertToInteractive',\n",
              "                                                     [key], {});\n",
              "          if (!dataTable) return;\n",
              "\n",
              "          const docLinkHtml = 'Like what you see? Visit the ' +\n",
              "            '<a target=\"_blank\" href=https://colab.research.google.com/notebooks/data_table.ipynb>data table notebook</a>'\n",
              "            + ' to learn more about interactive tables.';\n",
              "          element.innerHTML = '';\n",
              "          dataTable['output_type'] = 'display_data';\n",
              "          await google.colab.output.renderOutput(dataTable, element);\n",
              "          const docLink = document.createElement('div');\n",
              "          docLink.innerHTML = docLinkHtml;\n",
              "          element.appendChild(docLink);\n",
              "        }\n",
              "      </script>\n",
              "    </div>\n",
              "  </div>\n",
              "  "
            ]
          },
          "metadata": {},
          "execution_count": 379
        }
      ]
    },
    {
      "cell_type": "code",
      "execution_count": 380,
      "metadata": {
        "id": "Lc5KyN_HvKdm"
      },
      "outputs": [],
      "source": [
        "#df = pd.read_excel('check_test.xlsx')"
      ]
    },
    {
      "cell_type": "code",
      "execution_count": 381,
      "metadata": {
        "colab": {
          "base_uri": "https://localhost:8080/",
          "height": 206
        },
        "id": "SBecdUx2qCyg",
        "outputId": "ea7e520e-4650-4a72-f2c8-1aabc366fd24"
      },
      "outputs": [
        {
          "output_type": "execute_result",
          "data": {
            "text/plain": [
              "                                                Text  Label\n",
              "0  Dear God,🙄🙄🙄🙄  ঠিক ততোটা দূরে যেতে চাই যতোটা দ...      1\n",
              "1  পরিবর্তন তখনই আসে.....যখন আপনার কাছে অনেক টাকা...      1\n",
              "2  বেইমান কোনদিন বন্ধু হতে পারেনা ⚠️\\nআর বন্ধু কখ...      0\n",
              "3  যা কিছু পেয়েছি সেইগুলো আমার অর্জন, যা হারিয়ে...      0\n",
              "4                           বোঝেনা কেউ তা বোঝেনা ???      1"
            ],
            "text/html": [
              "\n",
              "  <div id=\"df-d8264f7d-8cd6-4ddf-9b9f-30e1db8f2421\">\n",
              "    <div class=\"colab-df-container\">\n",
              "      <div>\n",
              "<style scoped>\n",
              "    .dataframe tbody tr th:only-of-type {\n",
              "        vertical-align: middle;\n",
              "    }\n",
              "\n",
              "    .dataframe tbody tr th {\n",
              "        vertical-align: top;\n",
              "    }\n",
              "\n",
              "    .dataframe thead th {\n",
              "        text-align: right;\n",
              "    }\n",
              "</style>\n",
              "<table border=\"1\" class=\"dataframe\">\n",
              "  <thead>\n",
              "    <tr style=\"text-align: right;\">\n",
              "      <th></th>\n",
              "      <th>Text</th>\n",
              "      <th>Label</th>\n",
              "    </tr>\n",
              "  </thead>\n",
              "  <tbody>\n",
              "    <tr>\n",
              "      <th>0</th>\n",
              "      <td>Dear God,🙄🙄🙄🙄  ঠিক ততোটা দূরে যেতে চাই যতোটা দ...</td>\n",
              "      <td>1</td>\n",
              "    </tr>\n",
              "    <tr>\n",
              "      <th>1</th>\n",
              "      <td>পরিবর্তন তখনই আসে.....যখন আপনার কাছে অনেক টাকা...</td>\n",
              "      <td>1</td>\n",
              "    </tr>\n",
              "    <tr>\n",
              "      <th>2</th>\n",
              "      <td>বেইমান কোনদিন বন্ধু হতে পারেনা ⚠️\\nআর বন্ধু কখ...</td>\n",
              "      <td>0</td>\n",
              "    </tr>\n",
              "    <tr>\n",
              "      <th>3</th>\n",
              "      <td>যা কিছু পেয়েছি সেইগুলো আমার অর্জন, যা হারিয়ে...</td>\n",
              "      <td>0</td>\n",
              "    </tr>\n",
              "    <tr>\n",
              "      <th>4</th>\n",
              "      <td>বোঝেনা কেউ তা বোঝেনা ???</td>\n",
              "      <td>1</td>\n",
              "    </tr>\n",
              "  </tbody>\n",
              "</table>\n",
              "</div>\n",
              "      <button class=\"colab-df-convert\" onclick=\"convertToInteractive('df-d8264f7d-8cd6-4ddf-9b9f-30e1db8f2421')\"\n",
              "              title=\"Convert this dataframe to an interactive table.\"\n",
              "              style=\"display:none;\">\n",
              "        \n",
              "  <svg xmlns=\"http://www.w3.org/2000/svg\" height=\"24px\"viewBox=\"0 0 24 24\"\n",
              "       width=\"24px\">\n",
              "    <path d=\"M0 0h24v24H0V0z\" fill=\"none\"/>\n",
              "    <path d=\"M18.56 5.44l.94 2.06.94-2.06 2.06-.94-2.06-.94-.94-2.06-.94 2.06-2.06.94zm-11 1L8.5 8.5l.94-2.06 2.06-.94-2.06-.94L8.5 2.5l-.94 2.06-2.06.94zm10 10l.94 2.06.94-2.06 2.06-.94-2.06-.94-.94-2.06-.94 2.06-2.06.94z\"/><path d=\"M17.41 7.96l-1.37-1.37c-.4-.4-.92-.59-1.43-.59-.52 0-1.04.2-1.43.59L10.3 9.45l-7.72 7.72c-.78.78-.78 2.05 0 2.83L4 21.41c.39.39.9.59 1.41.59.51 0 1.02-.2 1.41-.59l7.78-7.78 2.81-2.81c.8-.78.8-2.07 0-2.86zM5.41 20L4 18.59l7.72-7.72 1.47 1.35L5.41 20z\"/>\n",
              "  </svg>\n",
              "      </button>\n",
              "      \n",
              "  <style>\n",
              "    .colab-df-container {\n",
              "      display:flex;\n",
              "      flex-wrap:wrap;\n",
              "      gap: 12px;\n",
              "    }\n",
              "\n",
              "    .colab-df-convert {\n",
              "      background-color: #E8F0FE;\n",
              "      border: none;\n",
              "      border-radius: 50%;\n",
              "      cursor: pointer;\n",
              "      display: none;\n",
              "      fill: #1967D2;\n",
              "      height: 32px;\n",
              "      padding: 0 0 0 0;\n",
              "      width: 32px;\n",
              "    }\n",
              "\n",
              "    .colab-df-convert:hover {\n",
              "      background-color: #E2EBFA;\n",
              "      box-shadow: 0px 1px 2px rgba(60, 64, 67, 0.3), 0px 1px 3px 1px rgba(60, 64, 67, 0.15);\n",
              "      fill: #174EA6;\n",
              "    }\n",
              "\n",
              "    [theme=dark] .colab-df-convert {\n",
              "      background-color: #3B4455;\n",
              "      fill: #D2E3FC;\n",
              "    }\n",
              "\n",
              "    [theme=dark] .colab-df-convert:hover {\n",
              "      background-color: #434B5C;\n",
              "      box-shadow: 0px 1px 3px 1px rgba(0, 0, 0, 0.15);\n",
              "      filter: drop-shadow(0px 1px 2px rgba(0, 0, 0, 0.3));\n",
              "      fill: #FFFFFF;\n",
              "    }\n",
              "  </style>\n",
              "\n",
              "      <script>\n",
              "        const buttonEl =\n",
              "          document.querySelector('#df-d8264f7d-8cd6-4ddf-9b9f-30e1db8f2421 button.colab-df-convert');\n",
              "        buttonEl.style.display =\n",
              "          google.colab.kernel.accessAllowed ? 'block' : 'none';\n",
              "\n",
              "        async function convertToInteractive(key) {\n",
              "          const element = document.querySelector('#df-d8264f7d-8cd6-4ddf-9b9f-30e1db8f2421');\n",
              "          const dataTable =\n",
              "            await google.colab.kernel.invokeFunction('convertToInteractive',\n",
              "                                                     [key], {});\n",
              "          if (!dataTable) return;\n",
              "\n",
              "          const docLinkHtml = 'Like what you see? Visit the ' +\n",
              "            '<a target=\"_blank\" href=https://colab.research.google.com/notebooks/data_table.ipynb>data table notebook</a>'\n",
              "            + ' to learn more about interactive tables.';\n",
              "          element.innerHTML = '';\n",
              "          dataTable['output_type'] = 'display_data';\n",
              "          await google.colab.output.renderOutput(dataTable, element);\n",
              "          const docLink = document.createElement('div');\n",
              "          docLink.innerHTML = docLinkHtml;\n",
              "          element.appendChild(docLink);\n",
              "        }\n",
              "      </script>\n",
              "    </div>\n",
              "  </div>\n",
              "  "
            ]
          },
          "metadata": {},
          "execution_count": 381
        }
      ],
      "source": [
        "data = dataset[['Text', 'Label']]\n",
        "data.head()"
      ]
    },
    {
      "cell_type": "code",
      "execution_count": 382,
      "metadata": {
        "id": "gYvJuNBTpJfJ"
      },
      "outputs": [],
      "source": [
        "# Let's get the length of the messages\n",
        "data['length'] = data['Text'].apply(len)"
      ]
    },
    {
      "cell_type": "code",
      "execution_count": 383,
      "metadata": {
        "colab": {
          "base_uri": "https://localhost:8080/",
          "height": 283
        },
        "id": "gTOMLbPmpJbm",
        "outputId": "4c1fc87b-c7f3-44cf-8ab6-04bcc0bf87fe"
      },
      "outputs": [
        {
          "output_type": "execute_result",
          "data": {
            "text/plain": [
              "<matplotlib.axes._subplots.AxesSubplot at 0x7fb2c3c82990>"
            ]
          },
          "metadata": {},
          "execution_count": 383
        },
        {
          "output_type": "display_data",
          "data": {
            "text/plain": [
              "<Figure size 432x288 with 1 Axes>"
            ],
            "image/png": "[encoded data removed]"
          },
          "metadata": {
            "needs_background": "light"
          }
        }
      ],
      "source": [
        "data['length'].plot(bins=100, kind='hist') "
      ]
    },
    {
      "cell_type": "code",
      "execution_count": 384,
      "metadata": {
        "colab": {
          "base_uri": "https://localhost:8080/"
        },
        "id": "4xROGMxupJVr",
        "outputId": "0f5543e7-8d59-438a-de91-5edcb5f7ee2b"
      },
      "outputs": [
        {
          "output_type": "execute_result",
          "data": {
            "text/plain": [
              "count    1778.000000\n",
              "mean      131.593363\n",
              "std       182.928197\n",
              "min         5.000000\n",
              "25%        58.250000\n",
              "50%        83.000000\n",
              "75%       137.000000\n",
              "max      2619.000000\n",
              "Name: length, dtype: float64"
            ]
          },
          "metadata": {},
          "execution_count": 384
        }
      ],
      "source": [
        "data.length.describe()"
      ]
    },
    {
      "cell_type": "code",
      "execution_count": 385,
      "metadata": {
        "colab": {
          "base_uri": "https://localhost:8080/",
          "height": 165
        },
        "id": "jcfVKctSpJPd",
        "outputId": "4bbe859f-bfc4-406d-be23-4653e3d7d5f0"
      },
      "outputs": [
        {
          "output_type": "execute_result",
          "data": {
            "text/plain": [
              "'কেউ অহেতুক ঘৃণা করুক বিষয়টা আমার ভাল লাগে না। তাই মাঝে মাঝেই একটা কাজ করি , আমাকে যারা গালি দেন তাদের জিগ্যেস করি কেন দিলেন, বেশির ভাগ ক্ষেত্রেই মানুষটা ইনবক্সে সরি বলেন অথবা এতটাই লজ্জিত হন যে ব্লক করে দেন। এই কাজটা আমি ২০১৩ থেকে করি। ২০১৩ তে একটা ছেলে টানা তিন মাসে অলমোস্ট রোজ এসে গালি দিয়ে যেত, একবার সে বলেই বসল যেখানে পাবে খুন করে ফেলবে। আমি সেই ছেলের বাসা খুঁজে বের করলাম, তারপর ওর বাড়িতে গিয়ে ওর বাড়ির সবার সাথে পরিচিত হলাম। খালাম্মা খুব যত্ন করে পিঠা খাইয়েছিলেন। আমি ওর সম্পর্কে ওর পরিবারের কাউকে কিছুই বলিনি। ফেরার সময় ও খুব করে মাপ চেয়েছিল। সত্যি বলতে ওকে লজ্জা দেবার জন্য যাইনি, গিয়েছিলাম এটা বোঝাতে আমি খারাপ মানুষ না। আমাকে মারতে চাওয়ার আগে তোমার উচিৎ আমার সাথে অন্তত একদিন আড্ডা দেয়া। ছেলেটা আমার লিস্টে আছে, খুব ভাল যোগাযোগ আছে ওর সাথে। আচ্ছা এই যে আমরা একজন মানুষ কে না জেনে,  না চিনে,  তার একটা লেখার সাথে আমার মনের মিল না হাওয়ায় তার প্রতি তীব্র ঘৃণা পোষণ করে ফেলছি, সেটা কি আমরা খেয়াল করেছি? অথচ ৭০ বছর পরে আপনি আর সে কেউ বেঁচে থাকবে না। আপনারা সারা জীবন এক জন আর একজন কে না জেনেই, না বুঝেই ঘৃণা করে যাবেন। আর মানুষকে ঘৃণা করতে করতে  আপনি এক সময় একা হয়ে যাবেন। অনেক ভীরের মধ্যেও আপনি একা একজন মানুষই থেকে যাবেন।  কি অদ্ভুত তাই না ? আমি প্রচণ্ড সাহসী মানুষ। আপনার ধারণার চেয়েও সাহসী। উপরের লেখাগুলো আমার দুর্বলতা না, আমার সরলতা, আমার মানুষের প্রতি সম্মানবোধ, আমার দুর্বলতা না। কঠিন হবার দরকার হলে আমি তা খুব ভাল পারি। কিন্তু চেষ্টা করি কঠিন না হতে। আপনি খোঁচা দিলে, গালি দিলে আমি ধরে নেই কোন কারণে আপনি ব্যক্তিগত জীবনে সুখী না,  তাই সোশ্যাল মিডিয়াতে নিজের রাগ, ক্ষোভ অভিমান ঝাড়ছেন। একদিন বুঝবেন ভুল করেছেন। এসব নিজেকে বুঝিয়ে আপনাকে ঘৃণা করা থেকে বিরত রাখি। তারপরেও না হলে আপনাকে ব্লক লিস্টে নিয়ে নেই।দূরে সরে যাই।  ছোট সময় আমার নানা-ভাই আমাকে শিক্ষণীয় গল্প শোনাতেন। তেমন একটা গল্প থেকে শিখেছিলাম,  সব শহরে একটা ঘর বানাও, মানে সব শহরে বন্ধু বানাও। তাহলে যেখানেই জাও সেখানে কেউ না কেউ তোমার পাশে থাকবে। ঐ শিক্ষা আমার মাথায় ঢুকে গেছে। সমস্ত জীবনের হিসাব বাদ দেই, শুধু গত এক বছরে আমি ৯৩ টা সুইসাইডাল মানুষ কে তার স্বাভাবিক জীবন ফিরিয়ে দিয়েছি। ১৭টা কাঁপল কে তাদের দাম্পত্য কলহ থেকে খানিকটা স্বস্তি দিয়েছিল, ৭০০ প্লাস মানুষ কে কোন না কোন ভাবে মানসিক কষ্ট থেকে শান্তিতে থাকার পথ দেখিয়েছি,  আর কিছু না পারলেও যে এক ঘণ্টা আমার সাথে আলাপ করেছে সেই সময়টা আনন্দময় করেছি। অথচ আপনি ঘৃণা নিয়ে, গালি দিয়ে, খোঁচা দিয়ে কি অর্জন করলেন ?  একটা অচেনা মানুষের কাছে নিজেকে ছোট করে কি পেলেন? আপনি ভাবছেন একটা কমেন্টই তো করেছি অথচ এই একটা কমেন্ট আপনাকে কারো কাছে খুব ছোট করে ফেলেছে। আর কর্মফলে বিশ্বাস করেন তো ? কাউকে কষ্ট দিলে সেটা ফেরে। কোন  না কোন ভাবে ফেরে। যখন সময় পাবেন তখন অবসরে ভাববেন, আপনার ঘৃণা আপনার কাছ থেকে শুধু বন্ধু না, নিজেকেও কেড়ে নিচ্ছে। একসময় জীবনও আপনার সঙ্গ ছেড়ে দেবে।'"
            ],
            "application/vnd.google.colaboratory.intrinsic+json": {
              "type": "string"
            }
          },
          "metadata": {},
          "execution_count": 385
        }
      ],
      "source": [
        "# Let's see the longest message 43952\n",
        "data[data['length'] == 2619]['Text'].iloc[0]"
      ]
    },
    {
      "cell_type": "code",
      "execution_count": 386,
      "metadata": {
        "id": "mK_W5VVnpI1j"
      },
      "outputs": [],
      "source": [
        "# Let's divide the messages into spam and ham"
      ]
    },
    {
      "cell_type": "code",
      "execution_count": 387,
      "metadata": {
        "id": "WeiGyk64pIyb"
      },
      "outputs": [],
      "source": [
        "not_depressed = data[data['Label']==0]"
      ]
    },
    {
      "cell_type": "code",
      "execution_count": 388,
      "metadata": {
        "id": "_Y7vgSyGpIu_"
      },
      "outputs": [],
      "source": [
        "depressed = data[data['Label']==1]"
      ]
    },
    {
      "cell_type": "code",
      "execution_count": 389,
      "metadata": {
        "colab": {
          "base_uri": "https://localhost:8080/",
          "height": 423
        },
        "id": "IQS-Cj2upIrz",
        "outputId": "120afbed-6b36-4bb3-c325-6b27a4512be3"
      },
      "outputs": [
        {
          "output_type": "execute_result",
          "data": {
            "text/plain": [
              "                                                   Text  Label  length\n",
              "0     Dear God,🙄🙄🙄🙄  ঠিক ততোটা দূরে যেতে চাই যতোটা দ...      1      79\n",
              "1     পরিবর্তন তখনই আসে.....যখন আপনার কাছে অনেক টাকা...      1     145\n",
              "4                              বোঝেনা কেউ তা বোঝেনা ???      1      24\n",
              "5                         কি ব্যথায় পুড়ছি প্রতিক্ষণ ,      1      29\n",
              "6                            জানে না কেউ তা জানে না ???      1      26\n",
              "...                                                 ...    ...     ...\n",
              "1769  এমন কিছু সময় আছে যখন মাকে অনেক বেশি মিস করি😒😒😭...      1     428\n",
              "1770  অল্প সময়ের জন্যে এসে দেখা করে আবার  চলে আসার স...      1     155\n",
              "1771  মনে একটা ভয় বেঁকে বসেছে এই অনিশ্চিত জীবন যাপনে...      1     641\n",
              "1775  মাঝে মাঝে মনে হয় কুঁকড়ে উঠে আমার ঘরের গভীর ক...      1     208\n",
              "1777  কেউ অহেতুক ঘৃণা করুক বিষয়টা আমার ভাল লাগে না।...      1    2619\n",
              "\n",
              "[586 rows x 3 columns]"
            ],
            "text/html": [
              "\n",
              "  <div id=\"df-02672d87-ca69-4a33-b6a6-a99d92fffef6\">\n",
              "    <div class=\"colab-df-container\">\n",
              "      <div>\n",
              "<style scoped>\n",
              "    .dataframe tbody tr th:only-of-type {\n",
              "        vertical-align: middle;\n",
              "    }\n",
              "\n",
              "    .dataframe tbody tr th {\n",
              "        vertical-align: top;\n",
              "    }\n",
              "\n",
              "    .dataframe thead th {\n",
              "        text-align: right;\n",
              "    }\n",
              "</style>\n",
              "<table border=\"1\" class=\"dataframe\">\n",
              "  <thead>\n",
              "    <tr style=\"text-align: right;\">\n",
              "      <th></th>\n",
              "      <th>Text</th>\n",
              "      <th>Label</th>\n",
              "      <th>length</th>\n",
              "    </tr>\n",
              "  </thead>\n",
              "  <tbody>\n",
              "    <tr>\n",
              "      <th>0</th>\n",
              "      <td>Dear God,🙄🙄🙄🙄  ঠিক ততোটা দূরে যেতে চাই যতোটা দ...</td>\n",
              "      <td>1</td>\n",
              "      <td>79</td>\n",
              "    </tr>\n",
              "    <tr>\n",
              "      <th>1</th>\n",
              "      <td>পরিবর্তন তখনই আসে.....যখন আপনার কাছে অনেক টাকা...</td>\n",
              "      <td>1</td>\n",
              "      <td>145</td>\n",
              "    </tr>\n",
              "    <tr>\n",
              "      <th>4</th>\n",
              "      <td>বোঝেনা কেউ তা বোঝেনা ???</td>\n",
              "      <td>1</td>\n",
              "      <td>24</td>\n",
              "    </tr>\n",
              "    <tr>\n",
              "      <th>5</th>\n",
              "      <td>কি ব্যথায় পুড়ছি প্রতিক্ষণ ,</td>\n",
              "      <td>1</td>\n",
              "      <td>29</td>\n",
              "    </tr>\n",
              "    <tr>\n",
              "      <th>6</th>\n",
              "      <td>জানে না কেউ তা জানে না ???</td>\n",
              "      <td>1</td>\n",
              "      <td>26</td>\n",
              "    </tr>\n",
              "    <tr>\n",
              "      <th>...</th>\n",
              "      <td>...</td>\n",
              "      <td>...</td>\n",
              "      <td>...</td>\n",
              "    </tr>\n",
              "    <tr>\n",
              "      <th>1769</th>\n",
              "      <td>এমন কিছু সময় আছে যখন মাকে অনেক বেশি মিস করি😒😒😭...</td>\n",
              "      <td>1</td>\n",
              "      <td>428</td>\n",
              "    </tr>\n",
              "    <tr>\n",
              "      <th>1770</th>\n",
              "      <td>অল্প সময়ের জন্যে এসে দেখা করে আবার  চলে আসার স...</td>\n",
              "      <td>1</td>\n",
              "      <td>155</td>\n",
              "    </tr>\n",
              "    <tr>\n",
              "      <th>1771</th>\n",
              "      <td>মনে একটা ভয় বেঁকে বসেছে এই অনিশ্চিত জীবন যাপনে...</td>\n",
              "      <td>1</td>\n",
              "      <td>641</td>\n",
              "    </tr>\n",
              "    <tr>\n",
              "      <th>1775</th>\n",
              "      <td>মাঝে মাঝে মনে হয় কুঁকড়ে উঠে আমার ঘরের গভীর ক...</td>\n",
              "      <td>1</td>\n",
              "      <td>208</td>\n",
              "    </tr>\n",
              "    <tr>\n",
              "      <th>1777</th>\n",
              "      <td>কেউ অহেতুক ঘৃণা করুক বিষয়টা আমার ভাল লাগে না।...</td>\n",
              "      <td>1</td>\n",
              "      <td>2619</td>\n",
              "    </tr>\n",
              "  </tbody>\n",
              "</table>\n",
              "<p>586 rows × 3 columns</p>\n",
              "</div>\n",
              "      <button class=\"colab-df-convert\" onclick=\"convertToInteractive('df-02672d87-ca69-4a33-b6a6-a99d92fffef6')\"\n",
              "              title=\"Convert this dataframe to an interactive table.\"\n",
              "              style=\"display:none;\">\n",
              "        \n",
              "  <svg xmlns=\"http://www.w3.org/2000/svg\" height=\"24px\"viewBox=\"0 0 24 24\"\n",
              "       width=\"24px\">\n",
              "    <path d=\"M0 0h24v24H0V0z\" fill=\"none\"/>\n",
              "    <path d=\"M18.56 5.44l.94 2.06.94-2.06 2.06-.94-2.06-.94-.94-2.06-.94 2.06-2.06.94zm-11 1L8.5 8.5l.94-2.06 2.06-.94-2.06-.94L8.5 2.5l-.94 2.06-2.06.94zm10 10l.94 2.06.94-2.06 2.06-.94-2.06-.94-.94-2.06-.94 2.06-2.06.94z\"/><path d=\"M17.41 7.96l-1.37-1.37c-.4-.4-.92-.59-1.43-.59-.52 0-1.04.2-1.43.59L10.3 9.45l-7.72 7.72c-.78.78-.78 2.05 0 2.83L4 21.41c.39.39.9.59 1.41.59.51 0 1.02-.2 1.41-.59l7.78-7.78 2.81-2.81c.8-.78.8-2.07 0-2.86zM5.41 20L4 18.59l7.72-7.72 1.47 1.35L5.41 20z\"/>\n",
              "  </svg>\n",
              "      </button>\n",
              "      \n",
              "  <style>\n",
              "    .colab-df-container {\n",
              "      display:flex;\n",
              "      flex-wrap:wrap;\n",
              "      gap: 12px;\n",
              "    }\n",
              "\n",
              "    .colab-df-convert {\n",
              "      background-color: #E8F0FE;\n",
              "      border: none;\n",
              "      border-radius: 50%;\n",
              "      cursor: pointer;\n",
              "      display: none;\n",
              "      fill: #1967D2;\n",
              "      height: 32px;\n",
              "      padding: 0 0 0 0;\n",
              "      width: 32px;\n",
              "    }\n",
              "\n",
              "    .colab-df-convert:hover {\n",
              "      background-color: #E2EBFA;\n",
              "      box-shadow: 0px 1px 2px rgba(60, 64, 67, 0.3), 0px 1px 3px 1px rgba(60, 64, 67, 0.15);\n",
              "      fill: #174EA6;\n",
              "    }\n",
              "\n",
              "    [theme=dark] .colab-df-convert {\n",
              "      background-color: #3B4455;\n",
              "      fill: #D2E3FC;\n",
              "    }\n",
              "\n",
              "    [theme=dark] .colab-df-convert:hover {\n",
              "      background-color: #434B5C;\n",
              "      box-shadow: 0px 1px 3px 1px rgba(0, 0, 0, 0.15);\n",
              "      filter: drop-shadow(0px 1px 2px rgba(0, 0, 0, 0.3));\n",
              "      fill: #FFFFFF;\n",
              "    }\n",
              "  </style>\n",
              "\n",
              "      <script>\n",
              "        const buttonEl =\n",
              "          document.querySelector('#df-02672d87-ca69-4a33-b6a6-a99d92fffef6 button.colab-df-convert');\n",
              "        buttonEl.style.display =\n",
              "          google.colab.kernel.accessAllowed ? 'block' : 'none';\n",
              "\n",
              "        async function convertToInteractive(key) {\n",
              "          const element = document.querySelector('#df-02672d87-ca69-4a33-b6a6-a99d92fffef6');\n",
              "          const dataTable =\n",
              "            await google.colab.kernel.invokeFunction('convertToInteractive',\n",
              "                                                     [key], {});\n",
              "          if (!dataTable) return;\n",
              "\n",
              "          const docLinkHtml = 'Like what you see? Visit the ' +\n",
              "            '<a target=\"_blank\" href=https://colab.research.google.com/notebooks/data_table.ipynb>data table notebook</a>'\n",
              "            + ' to learn more about interactive tables.';\n",
              "          element.innerHTML = '';\n",
              "          dataTable['output_type'] = 'display_data';\n",
              "          await google.colab.output.renderOutput(dataTable, element);\n",
              "          const docLink = document.createElement('div');\n",
              "          docLink.innerHTML = docLinkHtml;\n",
              "          element.appendChild(docLink);\n",
              "        }\n",
              "      </script>\n",
              "    </div>\n",
              "  </div>\n",
              "  "
            ]
          },
          "metadata": {},
          "execution_count": 389
        }
      ],
      "source": [
        "depressed"
      ]
    },
    {
      "cell_type": "code",
      "execution_count": 390,
      "metadata": {
        "colab": {
          "base_uri": "https://localhost:8080/",
          "height": 423
        },
        "id": "XUw4zVEbpIok",
        "outputId": "aa4b7d6a-263d-420b-cd07-8a5b062aee43"
      },
      "outputs": [
        {
          "output_type": "execute_result",
          "data": {
            "text/plain": [
              "                                                   Text  Label  length\n",
              "2     বেইমান কোনদিন বন্ধু হতে পারেনা ⚠️\\nআর বন্ধু কখ...      0      70\n",
              "3     যা কিছু পেয়েছি সেইগুলো আমার অর্জন, যা হারিয়ে...      0      68\n",
              "10    সব আবেগ আর ভালোবাসা পেলে যান্ত্রিক শহরে আসতে ব...      0     142\n",
              "12                                 অনেক ঘুরতে ভালোবাসি😊      0      20\n",
              "15    আরও 16 মিলিয়ন নারী হওয়া সত্ত্বেও\\nঅবিবাহিত হ...      0     135\n",
              "...                                                 ...    ...     ...\n",
              "1768  প্রথমবার ঘটকালিতে সফল।😁😁  ভাবছি এই লাইনে নেমে ...      0     236\n",
              "1772  ফেসবুকের নতুন এক আশ্চর্য বাগ বা গ্লিচ এর কারণে...      0     311\n",
              "1773  কিছু মানুষের হাত সব সময় আশীর্বাদের জন্য ওঠে♥️ ...      0      83\n",
              "1774  শুভ জন্মদিন দাদা🎂🍫☺ তোর আগামী দিনগুলো যেন খুব ...      0      81\n",
              "1776  আমি মোট ১৯টা  দেশে ঘুরেছি  এবং নিজের ইনকাম করা...      0    1374\n",
              "\n",
              "[1192 rows x 3 columns]"
            ],
            "text/html": [
              "\n",
              "  <div id=\"df-1a5100ac-b7ff-4ad2-bbf4-f5a8f3d0afb4\">\n",
              "    <div class=\"colab-df-container\">\n",
              "      <div>\n",
              "<style scoped>\n",
              "    .dataframe tbody tr th:only-of-type {\n",
              "        vertical-align: middle;\n",
              "    }\n",
              "\n",
              "    .dataframe tbody tr th {\n",
              "        vertical-align: top;\n",
              "    }\n",
              "\n",
              "    .dataframe thead th {\n",
              "        text-align: right;\n",
              "    }\n",
              "</style>\n",
              "<table border=\"1\" class=\"dataframe\">\n",
              "  <thead>\n",
              "    <tr style=\"text-align: right;\">\n",
              "      <th></th>\n",
              "      <th>Text</th>\n",
              "      <th>Label</th>\n",
              "      <th>length</th>\n",
              "    </tr>\n",
              "  </thead>\n",
              "  <tbody>\n",
              "    <tr>\n",
              "      <th>2</th>\n",
              "      <td>বেইমান কোনদিন বন্ধু হতে পারেনা ⚠️\\nআর বন্ধু কখ...</td>\n",
              "      <td>0</td>\n",
              "      <td>70</td>\n",
              "    </tr>\n",
              "    <tr>\n",
              "      <th>3</th>\n",
              "      <td>যা কিছু পেয়েছি সেইগুলো আমার অর্জন, যা হারিয়ে...</td>\n",
              "      <td>0</td>\n",
              "      <td>68</td>\n",
              "    </tr>\n",
              "    <tr>\n",
              "      <th>10</th>\n",
              "      <td>সব আবেগ আর ভালোবাসা পেলে যান্ত্রিক শহরে আসতে ব...</td>\n",
              "      <td>0</td>\n",
              "      <td>142</td>\n",
              "    </tr>\n",
              "    <tr>\n",
              "      <th>12</th>\n",
              "      <td>অনেক ঘুরতে ভালোবাসি😊</td>\n",
              "      <td>0</td>\n",
              "      <td>20</td>\n",
              "    </tr>\n",
              "    <tr>\n",
              "      <th>15</th>\n",
              "      <td>আরও 16 মিলিয়ন নারী হওয়া সত্ত্বেও\\nঅবিবাহিত হ...</td>\n",
              "      <td>0</td>\n",
              "      <td>135</td>\n",
              "    </tr>\n",
              "    <tr>\n",
              "      <th>...</th>\n",
              "      <td>...</td>\n",
              "      <td>...</td>\n",
              "      <td>...</td>\n",
              "    </tr>\n",
              "    <tr>\n",
              "      <th>1768</th>\n",
              "      <td>প্রথমবার ঘটকালিতে সফল।😁😁  ভাবছি এই লাইনে নেমে ...</td>\n",
              "      <td>0</td>\n",
              "      <td>236</td>\n",
              "    </tr>\n",
              "    <tr>\n",
              "      <th>1772</th>\n",
              "      <td>ফেসবুকের নতুন এক আশ্চর্য বাগ বা গ্লিচ এর কারণে...</td>\n",
              "      <td>0</td>\n",
              "      <td>311</td>\n",
              "    </tr>\n",
              "    <tr>\n",
              "      <th>1773</th>\n",
              "      <td>কিছু মানুষের হাত সব সময় আশীর্বাদের জন্য ওঠে♥️ ...</td>\n",
              "      <td>0</td>\n",
              "      <td>83</td>\n",
              "    </tr>\n",
              "    <tr>\n",
              "      <th>1774</th>\n",
              "      <td>শুভ জন্মদিন দাদা🎂🍫☺ তোর আগামী দিনগুলো যেন খুব ...</td>\n",
              "      <td>0</td>\n",
              "      <td>81</td>\n",
              "    </tr>\n",
              "    <tr>\n",
              "      <th>1776</th>\n",
              "      <td>আমি মোট ১৯টা  দেশে ঘুরেছি  এবং নিজের ইনকাম করা...</td>\n",
              "      <td>0</td>\n",
              "      <td>1374</td>\n",
              "    </tr>\n",
              "  </tbody>\n",
              "</table>\n",
              "<p>1192 rows × 3 columns</p>\n",
              "</div>\n",
              "      <button class=\"colab-df-convert\" onclick=\"convertToInteractive('df-1a5100ac-b7ff-4ad2-bbf4-f5a8f3d0afb4')\"\n",
              "              title=\"Convert this dataframe to an interactive table.\"\n",
              "              style=\"display:none;\">\n",
              "        \n",
              "  <svg xmlns=\"http://www.w3.org/2000/svg\" height=\"24px\"viewBox=\"0 0 24 24\"\n",
              "       width=\"24px\">\n",
              "    <path d=\"M0 0h24v24H0V0z\" fill=\"none\"/>\n",
              "    <path d=\"M18.56 5.44l.94 2.06.94-2.06 2.06-.94-2.06-.94-.94-2.06-.94 2.06-2.06.94zm-11 1L8.5 8.5l.94-2.06 2.06-.94-2.06-.94L8.5 2.5l-.94 2.06-2.06.94zm10 10l.94 2.06.94-2.06 2.06-.94-2.06-.94-.94-2.06-.94 2.06-2.06.94z\"/><path d=\"M17.41 7.96l-1.37-1.37c-.4-.4-.92-.59-1.43-.59-.52 0-1.04.2-1.43.59L10.3 9.45l-7.72 7.72c-.78.78-.78 2.05 0 2.83L4 21.41c.39.39.9.59 1.41.59.51 0 1.02-.2 1.41-.59l7.78-7.78 2.81-2.81c.8-.78.8-2.07 0-2.86zM5.41 20L4 18.59l7.72-7.72 1.47 1.35L5.41 20z\"/>\n",
              "  </svg>\n",
              "      </button>\n",
              "      \n",
              "  <style>\n",
              "    .colab-df-container {\n",
              "      display:flex;\n",
              "      flex-wrap:wrap;\n",
              "      gap: 12px;\n",
              "    }\n",
              "\n",
              "    .colab-df-convert {\n",
              "      background-color: #E8F0FE;\n",
              "      border: none;\n",
              "      border-radius: 50%;\n",
              "      cursor: pointer;\n",
              "      display: none;\n",
              "      fill: #1967D2;\n",
              "      height: 32px;\n",
              "      padding: 0 0 0 0;\n",
              "      width: 32px;\n",
              "    }\n",
              "\n",
              "    .colab-df-convert:hover {\n",
              "      background-color: #E2EBFA;\n",
              "      box-shadow: 0px 1px 2px rgba(60, 64, 67, 0.3), 0px 1px 3px 1px rgba(60, 64, 67, 0.15);\n",
              "      fill: #174EA6;\n",
              "    }\n",
              "\n",
              "    [theme=dark] .colab-df-convert {\n",
              "      background-color: #3B4455;\n",
              "      fill: #D2E3FC;\n",
              "    }\n",
              "\n",
              "    [theme=dark] .colab-df-convert:hover {\n",
              "      background-color: #434B5C;\n",
              "      box-shadow: 0px 1px 3px 1px rgba(0, 0, 0, 0.15);\n",
              "      filter: drop-shadow(0px 1px 2px rgba(0, 0, 0, 0.3));\n",
              "      fill: #FFFFFF;\n",
              "    }\n",
              "  </style>\n",
              "\n",
              "      <script>\n",
              "        const buttonEl =\n",
              "          document.querySelector('#df-1a5100ac-b7ff-4ad2-bbf4-f5a8f3d0afb4 button.colab-df-convert');\n",
              "        buttonEl.style.display =\n",
              "          google.colab.kernel.accessAllowed ? 'block' : 'none';\n",
              "\n",
              "        async function convertToInteractive(key) {\n",
              "          const element = document.querySelector('#df-1a5100ac-b7ff-4ad2-bbf4-f5a8f3d0afb4');\n",
              "          const dataTable =\n",
              "            await google.colab.kernel.invokeFunction('convertToInteractive',\n",
              "                                                     [key], {});\n",
              "          if (!dataTable) return;\n",
              "\n",
              "          const docLinkHtml = 'Like what you see? Visit the ' +\n",
              "            '<a target=\"_blank\" href=https://colab.research.google.com/notebooks/data_table.ipynb>data table notebook</a>'\n",
              "            + ' to learn more about interactive tables.';\n",
              "          element.innerHTML = '';\n",
              "          dataTable['output_type'] = 'display_data';\n",
              "          await google.colab.output.renderOutput(dataTable, element);\n",
              "          const docLink = document.createElement('div');\n",
              "          docLink.innerHTML = docLinkHtml;\n",
              "          element.appendChild(docLink);\n",
              "        }\n",
              "      </script>\n",
              "    </div>\n",
              "  </div>\n",
              "  "
            ]
          },
          "metadata": {},
          "execution_count": 390
        }
      ],
      "source": [
        "not_depressed"
      ]
    },
    {
      "cell_type": "code",
      "execution_count": 391,
      "metadata": {
        "colab": {
          "base_uri": "https://localhost:8080/",
          "height": 283
        },
        "id": "8mKsND5NpIlu",
        "outputId": "21e1bdec-2342-4ec4-b63c-4130694ebd70"
      },
      "outputs": [
        {
          "output_type": "execute_result",
          "data": {
            "text/plain": [
              "<matplotlib.axes._subplots.AxesSubplot at 0x7fb2c3a12710>"
            ]
          },
          "metadata": {},
          "execution_count": 391
        },
        {
          "output_type": "display_data",
          "data": {
            "text/plain": [
              "<Figure size 432x288 with 1 Axes>"
            ],
            "image/png": "[encoded data removed]"
          },
          "metadata": {
            "needs_background": "light"
          }
        }
      ],
      "source": [
        "not_depressed['length'].plot(bins=60, kind='hist') "
      ]
    },
    {
      "cell_type": "code",
      "execution_count": 392,
      "metadata": {
        "colab": {
          "base_uri": "https://localhost:8080/",
          "height": 283
        },
        "id": "IEqo2_ICpIid",
        "outputId": "dd2d0ddb-613a-4918-9b7a-5c0af686c128"
      },
      "outputs": [
        {
          "output_type": "execute_result",
          "data": {
            "text/plain": [
              "<matplotlib.axes._subplots.AxesSubplot at 0x7fb2c39241d0>"
            ]
          },
          "metadata": {},
          "execution_count": 392
        },
        {
          "output_type": "display_data",
          "data": {
            "text/plain": [
              "<Figure size 432x288 with 1 Axes>"
            ],
            "image/png": "[encoded data removed]"
          },
          "metadata": {
            "needs_background": "light"
          }
        }
      ],
      "source": [
        "depressed['length'].plot(bins=60, kind='hist') "
      ]
    },
    {
      "cell_type": "code",
      "execution_count": 393,
      "metadata": {
        "colab": {
          "base_uri": "https://localhost:8080/"
        },
        "id": "aDTTke6HpIfO",
        "outputId": "c803cc1d-1a7b-436f-830d-beb6982d6a90"
      },
      "outputs": [
        {
          "output_type": "stream",
          "name": "stdout",
          "text": [
            "not_depressed percentage = 67.04161979752531 %\n"
          ]
        }
      ],
      "source": [
        "print( 'not_depressed percentage =', (len(not_depressed) / len(data) )*100,\"%\")"
      ]
    },
    {
      "cell_type": "code",
      "execution_count": 394,
      "metadata": {
        "colab": {
          "base_uri": "https://localhost:8080/"
        },
        "id": "1JJlyii-pIby",
        "outputId": "630e5c9c-1324-46e8-d044-2a9b883cdab3"
      },
      "outputs": [
        {
          "output_type": "stream",
          "name": "stdout",
          "text": [
            "depressed = 32.95838020247469 %\n"
          ]
        }
      ],
      "source": [
        "print( 'depressed =', (len(depressed) / len(data) )*100,\"%\")"
      ]
    },
    {
      "cell_type": "code",
      "execution_count": 395,
      "metadata": {
        "colab": {
          "base_uri": "https://localhost:8080/",
          "height": 297
        },
        "id": "KUKa8QCwpIYc",
        "outputId": "963ac1af-1cc6-491e-92aa-84c2549395cb"
      },
      "outputs": [
        {
          "output_type": "execute_result",
          "data": {
            "text/plain": [
              "<matplotlib.axes._subplots.AxesSubplot at 0x7fb2c382bb50>"
            ]
          },
          "metadata": {},
          "execution_count": 395
        },
        {
          "output_type": "display_data",
          "data": {
            "text/plain": [
              "<Figure size 432x288 with 1 Axes>"
            ],
            "image/png": "[encoded data removed]"
          },
          "metadata": {
            "needs_background": "light"
          }
        }
      ],
      "source": [
        "sns.countplot(data['Label'], label = \"Count\") "
      ]
    },
    {
      "cell_type": "markdown",
      "source": [
        "##  NLP Technique"
      ],
      "metadata": {
        "id": "B_0i3u822hc7"
      }
    },
    {
      "cell_type": "code",
      "source": [
        "!pip3 install googletrans==3.1.0a0"
      ],
      "metadata": {
        "colab": {
          "base_uri": "https://localhost:8080/"
        },
        "id": "Wb2PHR6XniF5",
        "outputId": "080b1c8f-ceb5-49eb-8a26-358c52db43ad"
      },
      "execution_count": 437,
      "outputs": [
        {
          "output_type": "stream",
          "name": "stdout",
          "text": [
            "Looking in indexes: https://pypi.org/simple, https://us-python.pkg.dev/colab-wheels/public/simple/\n",
            "Collecting googletrans==3.1.0a0\n",
            "  Downloading googletrans-3.1.0a0.tar.gz (19 kB)\n",
            "Collecting httpx==0.13.3\n",
            "  Downloading httpx-0.13.3-py3-none-any.whl (55 kB)\n",
            "\u001b[K     |████████████████████████████████| 55 kB 2.0 MB/s \n",
            "\u001b[?25hCollecting rfc3986<2,>=1.3\n",
            "  Downloading rfc3986-1.5.0-py2.py3-none-any.whl (31 kB)\n",
            "Requirement already satisfied: idna==2.* in /usr/local/lib/python3.7/dist-packages (from httpx==0.13.3->googletrans==3.1.0a0) (2.10)\n",
            "Collecting hstspreload\n",
            "  Downloading hstspreload-2022.8.1-py3-none-any.whl (1.4 MB)\n",
            "\u001b[K     |████████████████████████████████| 1.4 MB 12.5 MB/s \n",
            "\u001b[?25hRequirement already satisfied: certifi in /usr/local/lib/python3.7/dist-packages (from httpx==0.13.3->googletrans==3.1.0a0) (2022.6.15)\n",
            "Collecting httpcore==0.9.*\n",
            "  Downloading httpcore-0.9.1-py3-none-any.whl (42 kB)\n",
            "\u001b[K     |████████████████████████████████| 42 kB 922 kB/s \n",
            "\u001b[?25hCollecting sniffio\n",
            "  Downloading sniffio-1.2.0-py3-none-any.whl (10 kB)\n",
            "Requirement already satisfied: chardet==3.* in /usr/local/lib/python3.7/dist-packages (from httpx==0.13.3->googletrans==3.1.0a0) (3.0.4)\n",
            "Collecting h11<0.10,>=0.8\n",
            "  Downloading h11-0.9.0-py2.py3-none-any.whl (53 kB)\n",
            "\u001b[K     |████████████████████████████████| 53 kB 1.8 MB/s \n",
            "\u001b[?25hCollecting h2==3.*\n",
            "  Downloading h2-3.2.0-py2.py3-none-any.whl (65 kB)\n",
            "\u001b[K     |████████████████████████████████| 65 kB 3.1 MB/s \n",
            "\u001b[?25hCollecting hyperframe<6,>=5.2.0\n",
            "  Downloading hyperframe-5.2.0-py2.py3-none-any.whl (12 kB)\n",
            "Collecting hpack<4,>=3.0\n",
            "  Downloading hpack-3.0.0-py2.py3-none-any.whl (38 kB)\n",
            "Building wheels for collected packages: googletrans\n",
            "  Building wheel for googletrans (setup.py) ... \u001b[?25l\u001b[?25hdone\n",
            "  Created wheel for googletrans: filename=googletrans-3.1.0a0-py3-none-any.whl size=16367 sha256=2553e0d92da139ac391be20c2726289347f919da5b76c5a7f86733153fad298a\n",
            "  Stored in directory: /root/.cache/pip/wheels/0c/be/fe/93a6a40ffe386e16089e44dad9018ebab9dc4cb9eb7eab65ae\n",
            "Successfully built googletrans\n",
            "Installing collected packages: hyperframe, hpack, sniffio, h2, h11, rfc3986, httpcore, hstspreload, httpx, googletrans\n",
            "Successfully installed googletrans-3.1.0a0 h11-0.9.0 h2-3.2.0 hpack-3.0.0 hstspreload-2022.8.1 httpcore-0.9.1 httpx-0.13.3 hyperframe-5.2.0 rfc3986-1.5.0 sniffio-1.2.0\n"
          ]
        }
      ]
    },
    {
      "cell_type": "code",
      "source": [
        "#Translate the other languages to english\n",
        "import googletrans\n",
        "from googletrans import *\n",
        "translator = googletrans.Translator()\n",
        "\n",
        "data['Text'] = data['Text'].astype(str) #changing datatype to string\n",
        "data['translated_Text'] = data['Text'].apply(translator.translate, src='auto', dest='en').apply(getattr, args=('text',))\n",
        "data"
      ],
      "metadata": {
        "colab": {
          "base_uri": "https://localhost:8080/",
          "height": 1000
        },
        "id": "QlWzzg_gniBk",
        "outputId": "7538ef27-f2f2-4ffd-cf01-34054559ddcb"
      },
      "execution_count": 438,
      "outputs": [
        {
          "output_type": "execute_result",
          "data": {
            "text/plain": [
              "                                                   Text  Label  length  \\\n",
              "0     Dear God,🙄🙄🙄🙄  ঠিক ততোটা দূরে যেতে চাই যতোটা দ...      1      79   \n",
              "1     পরিবর্তন তখনই আসে.....যখন আপনার কাছে অনেক টাকা...      1     145   \n",
              "2     বেইমান কোনদিন বন্ধু হতে পারেনা ⚠️\\nআর বন্ধু কখ...      0      70   \n",
              "3     যা কিছু পেয়েছি সেইগুলো আমার অর্জন, যা হারিয়ে...      0      68   \n",
              "4                              বোঝেনা কেউ তা বোঝেনা ???      1      24   \n",
              "...                                                 ...    ...     ...   \n",
              "1773  কিছু মানুষের হাত সব সময় আশীর্বাদের জন্য ওঠে♥️ ...      0      83   \n",
              "1774  শুভ জন্মদিন দাদা🎂🍫☺ তোর আগামী দিনগুলো যেন খুব ...      0      81   \n",
              "1775  মাঝে মাঝে মনে হয় কুঁকড়ে উঠে আমার ঘরের গভীর ক...      1     208   \n",
              "1776  আমি মোট ১৯টা  দেশে ঘুরেছি  এবং নিজের ইনকাম করা...      0    1374   \n",
              "1777  কেউ অহেতুক ঘৃণা করুক বিষয়টা আমার ভাল লাগে না।...      1    2619   \n",
              "\n",
              "                                    Removed Puncutation  \\\n",
              "0     Dear God🙄🙄🙄🙄  ঠিক ততোটা দূরে যেতে চাই যতোটা দূ...   \n",
              "1     পরিবর্তন তখনই আসেযখন আপনার কাছে অনেক টাকা থাকে...   \n",
              "2     বেইমান কোনদিন বন্ধু হতে পারেনা ⚠️\\nআর বন্ধু কখ...   \n",
              "3     যা কিছু পেয়েছি সেইগুলো আমার অর্জন যা হারিয়েছ...   \n",
              "4                                 বোঝেনা কেউ তা বোঝেনা    \n",
              "...                                                 ...   \n",
              "1773  কিছু মানুষের হাত সব সময় আশীর্বাদের জন্য ওঠে♥️ ...   \n",
              "1774  শুভ জন্মদিন দাদা🎂🍫☺ তোর আগামী দিনগুলো যেন খুব ...   \n",
              "1775  মাঝে মাঝে মনে হয় কুঁকড়ে উঠে আমার ঘরের গভীর ক...   \n",
              "1776  আমি মোট ১৯টা  দেশে ঘুরেছি  এবং নিজের ইনকাম করা...   \n",
              "1777  কেউ অহেতুক ঘৃণা করুক বিষয়টা আমার ভাল লাগে না ...   \n",
              "\n",
              "                                        Removed Garbage  \\\n",
              "0     ঠিক ততোটা দূরে যেতে চাই যতোটা দূরে গেলে আর ফির...   \n",
              "1     পরিবর্তন তখনই আসেযখন আপনার কাছে অনেক টাকা থাকে...   \n",
              "2     বেইমান কোনদিন বন্ধু হতে পারেনা আর বন্ধু কখনো ব...   \n",
              "3     যা কিছু পেয়েছি সেইগুলো আমার অর্জন যা হারিয়েছ...   \n",
              "4                                  বোঝেনা কেউ তা বোঝেনা   \n",
              "...                                                 ...   \n",
              "1773        কিছু মানুষের হাত সব সময় আশীর্বাদের জন্য ওঠে   \n",
              "1774  শুভ জন্মদিন দাদা তোর আগামী দিনগুলো যেন খুব ভাল...   \n",
              "1775  মাঝে মাঝে মনে হয় কুঁকড়ে উঠে আমার ঘরের গভীর ক...   \n",
              "1776  আমি মোট ১৯টা দেশে ঘুরেছি এবং নিজের ইনকাম করা ট...   \n",
              "1777  কেউ অহেতুক ঘৃণা করুক বিষয়টা আমার ভাল লাগে না ...   \n",
              "\n",
              "                                              Tokenizer  \\\n",
              "0     [ঠিক, ততোটা, দূরে, যেতে, চাই, যতোটা, দূরে, গেল...   \n",
              "1     [পরিবর্তন, তখনই, আসেযখন, আপনার, কাছে, অনেক, টা...   \n",
              "2     [বেইমান, কোনদিন, বন্ধু, হতে, পারেনা, আর, বন্ধু...   \n",
              "3     [যা, কিছু, পেয়েছি, সেইগুলো, আমার, অর্জন, যা, ...   \n",
              "4                             [বোঝেনা, কেউ, তা, বোঝেনা]   \n",
              "...                                                 ...   \n",
              "1773  [কিছু, মানুষের, হাত, সব, সময়, আশীর্বাদের, জন্য...   \n",
              "1774  [শুভ, জন্মদিন, দাদা, তোর, আগামী, দিনগুলো, যেন,...   \n",
              "1775  [মাঝে, মাঝে, মনে, হয়, কুঁকড়ে, উঠে, আমার, ঘরে...   \n",
              "1776  [আমি, মোট, ১৯টা, দেশে, ঘুরেছি, এবং, নিজের, ইনক...   \n",
              "1777  [কেউ, অহেতুক, ঘৃণা, করুক, বিষয়টা, আমার, ভাল, ...   \n",
              "\n",
              "                                                Stemmed  \\\n",
              "0     [ঠিক, ততো, দূরে, যেত, চাই, যতো, দূরে, গাল, আর,...   \n",
              "1     [পরিবর্তন, তখন, আসেযখন, আপন, কাছ, অনেক, টাকা, ...   \n",
              "2     [বেইমান, কোনদিন, বন্ধু, হত, পারেনা, আর, বন্ধু,...   \n",
              "3     [যা, কিছু, পেয়ে, সেই, আম, অর্জন, যা, হারিয়েছ...   \n",
              "4                             [বোঝেনা, কেউ, তা, বোঝেনা]   \n",
              "...                                                 ...   \n",
              "1773    [কিছু, মানুষ, হাত, সব, সময়, আশীর্বা, জন্য, ওঠে]   \n",
              "1774  [শুভ, জন্মদিন, দাদা, তোর, আগামী, দিন, যেন, খুব...   \n",
              "1775  [মাঝে, মাঝে, মনে, হয়, কুঁকড়ে, উঠে, আম, ঘর, গ...   \n",
              "1776  [আমি, মোট, ১৯, দেশ, ঘুরে, এবং, নিজ, ইনকাম, কর,...   \n",
              "1777  [কেউ, অহেতুক, ঘৃণা, করুক, বিষয়, আম, ভাল, লাগে...   \n",
              "\n",
              "                                             Lemmatizer  \\\n",
              "0     ঠিক ততোটা দূরে যেতে চাই যতোটা দূরে গেলে আর ফির...   \n",
              "1     পরিবর্তন তখনই আসেযখন আপনার কাছে অনেক টাকা থাকে...   \n",
              "2     বেইমান কোনদিন বন্ধু হতে পারেনা আর বন্ধু কখনো ব...   \n",
              "3     যা কিছু পেয়েছি সেইগুলো আমার অর্জন যা হারিয়েছ...   \n",
              "4                                  বোঝেনা কেউ তা বোঝেনা   \n",
              "...                                                 ...   \n",
              "1773        কিছু মানুষের হাত সব সময় আশীর্বাদের জন্য ওঠে   \n",
              "1774  শুভ জন্মদিন দাদা তোর আগামী দিনগুলো যেন খুব ভাল...   \n",
              "1775  মাঝে মাঝে মনে হয় কুঁকড়ে উঠে আমার ঘরের গভীর ক...   \n",
              "1776  আমি মোট ১৯টা দেশে ঘুরেছি এবং নিজের ইনকাম করা ট...   \n",
              "1777  কেউ অহেতুক ঘৃণা করুক বিষয়টা আমার ভাল লাগে না ...   \n",
              "\n",
              "                                   Removed Stopped word  \\\n",
              "0          [ততোটা, দূরে, চাই, যতোটা, দূরে, আসা, যায়না]   \n",
              "1     [পরিবর্তন, তখনই, আসেযখন, টাকা, একা, বোধ, করেনঅ...   \n",
              "2     [বেইমান, কোনদিন, বন্ধু, পারেনা, বন্ধু, কখনো, ব...   \n",
              "3        [পেয়েছি, সেইগুলো, অর্জন, হারিয়েছি, অভিজ্ঞতা]   \n",
              "4                                      [বোঝেনা, বোঝেনা]   \n",
              "...                                                 ...   \n",
              "1773               [মানুষের, হাত, সময়, আশীর্বাদের, ওঠে]   \n",
              "1774  [শুভ, জন্মদিন, দাদা, তোর, দিনগুলো, ভালো, কাটে,...   \n",
              "1775  [মাঝে, মাঝে, কুঁকড়ে, উঠে, ঘরের, গভীর, কোণে, ল...   \n",
              "1776  [১৯টা, দেশে, ঘুরেছি, ইনকাম, টাকায়, ঘুরেছি, শুভ...   \n",
              "1777  [অহেতুক, ঘৃণা, করুক, বিষয়টা, ভাল, লাগে, মাঝে,...   \n",
              "\n",
              "                                             pos_tagger  \\\n",
              "0     [(ঠিক, AMN), (ততোটা, JQ), (দূরে, NST), (যেতে, ...   \n",
              "1     [(পরিবর্তন, NC), (তখনই, ALC), (আসেযখন, VM), (আ...   \n",
              "2     [(বেইমান, JJ), (কোনদিন, ALC), (বন্ধু, NC), (হত...   \n",
              "3     [(যা, PRL), (কিছু, JQ), (পেয়েছি, VM), (সেইগুল...   \n",
              "4     [(বোঝেনা, NC), (কেউ, PPR), (তা, PPR), (বোঝেনা,...   \n",
              "...                                                 ...   \n",
              "1773  [(কিছু, JQ), (মানুষের, NC), (হাত, NC), (সব, JQ...   \n",
              "1774  [(শুভ, JJ), (জন্মদিন, NC), (দাদা, NC), (তোর, P...   \n",
              "1775  [(মাঝে, NST), (মাঝে, AMN), (মনে, NC), (হয়, VM...   \n",
              "1776  [(আমি, PPR), (মোট, CCD), (১৯টা, CCD), (দেশে, N...   \n",
              "1777  [(কেউ, PPR), (অহেতুক, CCD), (ঘৃণা, NC), (করুক,...   \n",
              "\n",
              "                                               sentence  \\\n",
              "0     ঠিক ততো দূরে যেত চাই যতো দূরে গাল আর ফিরে আসা ...   \n",
              "1     পরিবর্তন তখন আসেযখন আপন কাছ অনেক টাকা থাক না ব...   \n",
              "2     বেইমান কোনদিন বন্ধু হত পারেনা আর বন্ধু কখনো বে...   \n",
              "3     যা কিছু পেয়ে সেই আম অর্জন যা হারিয়েছি সেটা আ...   \n",
              "4                                  বোঝেনা কেউ তা বোঝেনা   \n",
              "...                                                 ...   \n",
              "1773             কিছু মানুষ হাত সব সময় আশীর্বা জন্য ওঠে   \n",
              "1774  শুভ জন্মদিন দাদা তোর আগামী দিন যেন খুব ভালো কা...   \n",
              "1775  মাঝে মাঝে মনে হয় কুঁকড়ে উঠে আম ঘর গভীর কোণে ...   \n",
              "1776  আমি মোট ১৯ দেশ ঘুরে এবং নিজ ইনকাম কর টাকায় ঘুর...   \n",
              "1777  কেউ অহেতুক ঘৃণা করুক বিষয় আম ভাল লাগে না তাই ...   \n",
              "\n",
              "                                        translated_Text  \n",
              "0     Dear God, I want to go as far as I can't come ...  \n",
              "1     Change comes only.....when you don't have much...  \n",
              "2     Dishonesty can never be a friend ⚠️\\nAnd frien...  \n",
              "3     What I have gained is my achievement, what I h...  \n",
              "4                            No one understands that???  \n",
              "...                                                 ...  \n",
              "1773  Some people's hands are always raised for bles...  \n",
              "1774  Happy birthday grandpa 🎂🍫☺ May you spend the n...  \n",
              "1775  Sometimes I feel like curling up and hiding in...  \n",
              "1776  I have traveled to a total of 19 countries and...  \n",
              "1777  কেউ অহেতুক ঘৃণা করুক বিষয়টা আমার ভাল লাগে না।...  \n",
              "\n",
              "[1778 rows x 12 columns]"
            ],
            "text/html": [
              "\n",
              "  <div id=\"df-a183f4b9-999d-435b-9882-cda31f3877e0\">\n",
              "    <div class=\"colab-df-container\">\n",
              "      <div>\n",
              "<style scoped>\n",
              "    .dataframe tbody tr th:only-of-type {\n",
              "        vertical-align: middle;\n",
              "    }\n",
              "\n",
              "    .dataframe tbody tr th {\n",
              "        vertical-align: top;\n",
              "    }\n",
              "\n",
              "    .dataframe thead th {\n",
              "        text-align: right;\n",
              "    }\n",
              "</style>\n",
              "<table border=\"1\" class=\"dataframe\">\n",
              "  <thead>\n",
              "    <tr style=\"text-align: right;\">\n",
              "      <th></th>\n",
              "      <th>Text</th>\n",
              "      <th>Label</th>\n",
              "      <th>length</th>\n",
              "      <th>Removed Puncutation</th>\n",
              "      <th>Removed Garbage</th>\n",
              "      <th>Tokenizer</th>\n",
              "      <th>Stemmed</th>\n",
              "      <th>Lemmatizer</th>\n",
              "      <th>Removed Stopped word</th>\n",
              "      <th>pos_tagger</th>\n",
              "      <th>sentence</th>\n",
              "      <th>translated_Text</th>\n",
              "    </tr>\n",
              "  </thead>\n",
              "  <tbody>\n",
              "    <tr>\n",
              "      <th>0</th>\n",
              "      <td>Dear God,🙄🙄🙄🙄  ঠিক ততোটা দূরে যেতে চাই যতোটা দ...</td>\n",
              "      <td>1</td>\n",
              "      <td>79</td>\n",
              "      <td>Dear God🙄🙄🙄🙄  ঠিক ততোটা দূরে যেতে চাই যতোটা দূ...</td>\n",
              "      <td>ঠিক ততোটা দূরে যেতে চাই যতোটা দূরে গেলে আর ফির...</td>\n",
              "      <td>[ঠিক, ততোটা, দূরে, যেতে, চাই, যতোটা, দূরে, গেল...</td>\n",
              "      <td>[ঠিক, ততো, দূরে, যেত, চাই, যতো, দূরে, গাল, আর,...</td>\n",
              "      <td>ঠিক ততোটা দূরে যেতে চাই যতোটা দূরে গেলে আর ফির...</td>\n",
              "      <td>[ততোটা, দূরে, চাই, যতোটা, দূরে, আসা, যায়না]</td>\n",
              "      <td>[(ঠিক, AMN), (ততোটা, JQ), (দূরে, NST), (যেতে, ...</td>\n",
              "      <td>ঠিক ততো দূরে যেত চাই যতো দূরে গাল আর ফিরে আসা ...</td>\n",
              "      <td>Dear God, I want to go as far as I can't come ...</td>\n",
              "    </tr>\n",
              "    <tr>\n",
              "      <th>1</th>\n",
              "      <td>পরিবর্তন তখনই আসে.....যখন আপনার কাছে অনেক টাকা...</td>\n",
              "      <td>1</td>\n",
              "      <td>145</td>\n",
              "      <td>পরিবর্তন তখনই আসেযখন আপনার কাছে অনেক টাকা থাকে...</td>\n",
              "      <td>পরিবর্তন তখনই আসেযখন আপনার কাছে অনেক টাকা থাকে...</td>\n",
              "      <td>[পরিবর্তন, তখনই, আসেযখন, আপনার, কাছে, অনেক, টা...</td>\n",
              "      <td>[পরিবর্তন, তখন, আসেযখন, আপন, কাছ, অনেক, টাকা, ...</td>\n",
              "      <td>পরিবর্তন তখনই আসেযখন আপনার কাছে অনেক টাকা থাকে...</td>\n",
              "      <td>[পরিবর্তন, তখনই, আসেযখন, টাকা, একা, বোধ, করেনঅ...</td>\n",
              "      <td>[(পরিবর্তন, NC), (তখনই, ALC), (আসেযখন, VM), (আ...</td>\n",
              "      <td>পরিবর্তন তখন আসেযখন আপন কাছ অনেক টাকা থাক না ব...</td>\n",
              "      <td>Change comes only.....when you don't have much...</td>\n",
              "    </tr>\n",
              "    <tr>\n",
              "      <th>2</th>\n",
              "      <td>বেইমান কোনদিন বন্ধু হতে পারেনা ⚠️\\nআর বন্ধু কখ...</td>\n",
              "      <td>0</td>\n",
              "      <td>70</td>\n",
              "      <td>বেইমান কোনদিন বন্ধু হতে পারেনা ⚠️\\nআর বন্ধু কখ...</td>\n",
              "      <td>বেইমান কোনদিন বন্ধু হতে পারেনা আর বন্ধু কখনো ব...</td>\n",
              "      <td>[বেইমান, কোনদিন, বন্ধু, হতে, পারেনা, আর, বন্ধু...</td>\n",
              "      <td>[বেইমান, কোনদিন, বন্ধু, হত, পারেনা, আর, বন্ধু,...</td>\n",
              "      <td>বেইমান কোনদিন বন্ধু হতে পারেনা আর বন্ধু কখনো ব...</td>\n",
              "      <td>[বেইমান, কোনদিন, বন্ধু, পারেনা, বন্ধু, কখনো, ব...</td>\n",
              "      <td>[(বেইমান, JJ), (কোনদিন, ALC), (বন্ধু, NC), (হত...</td>\n",
              "      <td>বেইমান কোনদিন বন্ধু হত পারেনা আর বন্ধু কখনো বে...</td>\n",
              "      <td>Dishonesty can never be a friend ⚠️\\nAnd frien...</td>\n",
              "    </tr>\n",
              "    <tr>\n",
              "      <th>3</th>\n",
              "      <td>যা কিছু পেয়েছি সেইগুলো আমার অর্জন, যা হারিয়ে...</td>\n",
              "      <td>0</td>\n",
              "      <td>68</td>\n",
              "      <td>যা কিছু পেয়েছি সেইগুলো আমার অর্জন যা হারিয়েছ...</td>\n",
              "      <td>যা কিছু পেয়েছি সেইগুলো আমার অর্জন যা হারিয়েছ...</td>\n",
              "      <td>[যা, কিছু, পেয়েছি, সেইগুলো, আমার, অর্জন, যা, ...</td>\n",
              "      <td>[যা, কিছু, পেয়ে, সেই, আম, অর্জন, যা, হারিয়েছ...</td>\n",
              "      <td>যা কিছু পেয়েছি সেইগুলো আমার অর্জন যা হারিয়েছ...</td>\n",
              "      <td>[পেয়েছি, সেইগুলো, অর্জন, হারিয়েছি, অভিজ্ঞতা]</td>\n",
              "      <td>[(যা, PRL), (কিছু, JQ), (পেয়েছি, VM), (সেইগুল...</td>\n",
              "      <td>যা কিছু পেয়ে সেই আম অর্জন যা হারিয়েছি সেটা আ...</td>\n",
              "      <td>What I have gained is my achievement, what I h...</td>\n",
              "    </tr>\n",
              "    <tr>\n",
              "      <th>4</th>\n",
              "      <td>বোঝেনা কেউ তা বোঝেনা ???</td>\n",
              "      <td>1</td>\n",
              "      <td>24</td>\n",
              "      <td>বোঝেনা কেউ তা বোঝেনা</td>\n",
              "      <td>বোঝেনা কেউ তা বোঝেনা</td>\n",
              "      <td>[বোঝেনা, কেউ, তা, বোঝেনা]</td>\n",
              "      <td>[বোঝেনা, কেউ, তা, বোঝেনা]</td>\n",
              "      <td>বোঝেনা কেউ তা বোঝেনা</td>\n",
              "      <td>[বোঝেনা, বোঝেনা]</td>\n",
              "      <td>[(বোঝেনা, NC), (কেউ, PPR), (তা, PPR), (বোঝেনা,...</td>\n",
              "      <td>বোঝেনা কেউ তা বোঝেনা</td>\n",
              "      <td>No one understands that???</td>\n",
              "    </tr>\n",
              "    <tr>\n",
              "      <th>...</th>\n",
              "      <td>...</td>\n",
              "      <td>...</td>\n",
              "      <td>...</td>\n",
              "      <td>...</td>\n",
              "      <td>...</td>\n",
              "      <td>...</td>\n",
              "      <td>...</td>\n",
              "      <td>...</td>\n",
              "      <td>...</td>\n",
              "      <td>...</td>\n",
              "      <td>...</td>\n",
              "      <td>...</td>\n",
              "    </tr>\n",
              "    <tr>\n",
              "      <th>1773</th>\n",
              "      <td>কিছু মানুষের হাত সব সময় আশীর্বাদের জন্য ওঠে♥️ ...</td>\n",
              "      <td>0</td>\n",
              "      <td>83</td>\n",
              "      <td>কিছু মানুষের হাত সব সময় আশীর্বাদের জন্য ওঠে♥️ ...</td>\n",
              "      <td>কিছু মানুষের হাত সব সময় আশীর্বাদের জন্য ওঠে</td>\n",
              "      <td>[কিছু, মানুষের, হাত, সব, সময়, আশীর্বাদের, জন্য...</td>\n",
              "      <td>[কিছু, মানুষ, হাত, সব, সময়, আশীর্বা, জন্য, ওঠে]</td>\n",
              "      <td>কিছু মানুষের হাত সব সময় আশীর্বাদের জন্য ওঠে</td>\n",
              "      <td>[মানুষের, হাত, সময়, আশীর্বাদের, ওঠে]</td>\n",
              "      <td>[(কিছু, JQ), (মানুষের, NC), (হাত, NC), (সব, JQ...</td>\n",
              "      <td>কিছু মানুষ হাত সব সময় আশীর্বা জন্য ওঠে</td>\n",
              "      <td>Some people's hands are always raised for bles...</td>\n",
              "    </tr>\n",
              "    <tr>\n",
              "      <th>1774</th>\n",
              "      <td>শুভ জন্মদিন দাদা🎂🍫☺ তোর আগামী দিনগুলো যেন খুব ...</td>\n",
              "      <td>0</td>\n",
              "      <td>81</td>\n",
              "      <td>শুভ জন্মদিন দাদা🎂🍫☺ তোর আগামী দিনগুলো যেন খুব ...</td>\n",
              "      <td>শুভ জন্মদিন দাদা তোর আগামী দিনগুলো যেন খুব ভাল...</td>\n",
              "      <td>[শুভ, জন্মদিন, দাদা, তোর, আগামী, দিনগুলো, যেন,...</td>\n",
              "      <td>[শুভ, জন্মদিন, দাদা, তোর, আগামী, দিন, যেন, খুব...</td>\n",
              "      <td>শুভ জন্মদিন দাদা তোর আগামী দিনগুলো যেন খুব ভাল...</td>\n",
              "      <td>[শুভ, জন্মদিন, দাদা, তোর, দিনগুলো, ভালো, কাটে,...</td>\n",
              "      <td>[(শুভ, JJ), (জন্মদিন, NC), (দাদা, NC), (তোর, P...</td>\n",
              "      <td>শুভ জন্মদিন দাদা তোর আগামী দিন যেন খুব ভালো কা...</td>\n",
              "      <td>Happy birthday grandpa 🎂🍫☺ May you spend the n...</td>\n",
              "    </tr>\n",
              "    <tr>\n",
              "      <th>1775</th>\n",
              "      <td>মাঝে মাঝে মনে হয় কুঁকড়ে উঠে আমার ঘরের গভীর ক...</td>\n",
              "      <td>1</td>\n",
              "      <td>208</td>\n",
              "      <td>মাঝে মাঝে মনে হয় কুঁকড়ে উঠে আমার ঘরের গভীর ক...</td>\n",
              "      <td>মাঝে মাঝে মনে হয় কুঁকড়ে উঠে আমার ঘরের গভীর ক...</td>\n",
              "      <td>[মাঝে, মাঝে, মনে, হয়, কুঁকড়ে, উঠে, আমার, ঘরে...</td>\n",
              "      <td>[মাঝে, মাঝে, মনে, হয়, কুঁকড়ে, উঠে, আম, ঘর, গ...</td>\n",
              "      <td>মাঝে মাঝে মনে হয় কুঁকড়ে উঠে আমার ঘরের গভীর ক...</td>\n",
              "      <td>[মাঝে, মাঝে, কুঁকড়ে, উঠে, ঘরের, গভীর, কোণে, ল...</td>\n",
              "      <td>[(মাঝে, NST), (মাঝে, AMN), (মনে, NC), (হয়, VM...</td>\n",
              "      <td>মাঝে মাঝে মনে হয় কুঁকড়ে উঠে আম ঘর গভীর কোণে ...</td>\n",
              "      <td>Sometimes I feel like curling up and hiding in...</td>\n",
              "    </tr>\n",
              "    <tr>\n",
              "      <th>1776</th>\n",
              "      <td>আমি মোট ১৯টা  দেশে ঘুরেছি  এবং নিজের ইনকাম করা...</td>\n",
              "      <td>0</td>\n",
              "      <td>1374</td>\n",
              "      <td>আমি মোট ১৯টা  দেশে ঘুরেছি  এবং নিজের ইনকাম করা...</td>\n",
              "      <td>আমি মোট ১৯টা দেশে ঘুরেছি এবং নিজের ইনকাম করা ট...</td>\n",
              "      <td>[আমি, মোট, ১৯টা, দেশে, ঘুরেছি, এবং, নিজের, ইনক...</td>\n",
              "      <td>[আমি, মোট, ১৯, দেশ, ঘুরে, এবং, নিজ, ইনকাম, কর,...</td>\n",
              "      <td>আমি মোট ১৯টা দেশে ঘুরেছি এবং নিজের ইনকাম করা ট...</td>\n",
              "      <td>[১৯টা, দেশে, ঘুরেছি, ইনকাম, টাকায়, ঘুরেছি, শুভ...</td>\n",
              "      <td>[(আমি, PPR), (মোট, CCD), (১৯টা, CCD), (দেশে, N...</td>\n",
              "      <td>আমি মোট ১৯ দেশ ঘুরে এবং নিজ ইনকাম কর টাকায় ঘুর...</td>\n",
              "      <td>I have traveled to a total of 19 countries and...</td>\n",
              "    </tr>\n",
              "    <tr>\n",
              "      <th>1777</th>\n",
              "      <td>কেউ অহেতুক ঘৃণা করুক বিষয়টা আমার ভাল লাগে না।...</td>\n",
              "      <td>1</td>\n",
              "      <td>2619</td>\n",
              "      <td>কেউ অহেতুক ঘৃণা করুক বিষয়টা আমার ভাল লাগে না ...</td>\n",
              "      <td>কেউ অহেতুক ঘৃণা করুক বিষয়টা আমার ভাল লাগে না ...</td>\n",
              "      <td>[কেউ, অহেতুক, ঘৃণা, করুক, বিষয়টা, আমার, ভাল, ...</td>\n",
              "      <td>[কেউ, অহেতুক, ঘৃণা, করুক, বিষয়, আম, ভাল, লাগে...</td>\n",
              "      <td>কেউ অহেতুক ঘৃণা করুক বিষয়টা আমার ভাল লাগে না ...</td>\n",
              "      <td>[অহেতুক, ঘৃণা, করুক, বিষয়টা, ভাল, লাগে, মাঝে,...</td>\n",
              "      <td>[(কেউ, PPR), (অহেতুক, CCD), (ঘৃণা, NC), (করুক,...</td>\n",
              "      <td>কেউ অহেতুক ঘৃণা করুক বিষয় আম ভাল লাগে না তাই ...</td>\n",
              "      <td>কেউ অহেতুক ঘৃণা করুক বিষয়টা আমার ভাল লাগে না।...</td>\n",
              "    </tr>\n",
              "  </tbody>\n",
              "</table>\n",
              "<p>1778 rows × 12 columns</p>\n",
              "</div>\n",
              "      <button class=\"colab-df-convert\" onclick=\"convertToInteractive('df-a183f4b9-999d-435b-9882-cda31f3877e0')\"\n",
              "              title=\"Convert this dataframe to an interactive table.\"\n",
              "              style=\"display:none;\">\n",
              "        \n",
              "  <svg xmlns=\"http://www.w3.org/2000/svg\" height=\"24px\"viewBox=\"0 0 24 24\"\n",
              "       width=\"24px\">\n",
              "    <path d=\"M0 0h24v24H0V0z\" fill=\"none\"/>\n",
              "    <path d=\"M18.56 5.44l.94 2.06.94-2.06 2.06-.94-2.06-.94-.94-2.06-.94 2.06-2.06.94zm-11 1L8.5 8.5l.94-2.06 2.06-.94-2.06-.94L8.5 2.5l-.94 2.06-2.06.94zm10 10l.94 2.06.94-2.06 2.06-.94-2.06-.94-.94-2.06-.94 2.06-2.06.94z\"/><path d=\"M17.41 7.96l-1.37-1.37c-.4-.4-.92-.59-1.43-.59-.52 0-1.04.2-1.43.59L10.3 9.45l-7.72 7.72c-.78.78-.78 2.05 0 2.83L4 21.41c.39.39.9.59 1.41.59.51 0 1.02-.2 1.41-.59l7.78-7.78 2.81-2.81c.8-.78.8-2.07 0-2.86zM5.41 20L4 18.59l7.72-7.72 1.47 1.35L5.41 20z\"/>\n",
              "  </svg>\n",
              "      </button>\n",
              "      \n",
              "  <style>\n",
              "    .colab-df-container {\n",
              "      display:flex;\n",
              "      flex-wrap:wrap;\n",
              "      gap: 12px;\n",
              "    }\n",
              "\n",
              "    .colab-df-convert {\n",
              "      background-color: #E8F0FE;\n",
              "      border: none;\n",
              "      border-radius: 50%;\n",
              "      cursor: pointer;\n",
              "      display: none;\n",
              "      fill: #1967D2;\n",
              "      height: 32px;\n",
              "      padding: 0 0 0 0;\n",
              "      width: 32px;\n",
              "    }\n",
              "\n",
              "    .colab-df-convert:hover {\n",
              "      background-color: #E2EBFA;\n",
              "      box-shadow: 0px 1px 2px rgba(60, 64, 67, 0.3), 0px 1px 3px 1px rgba(60, 64, 67, 0.15);\n",
              "      fill: #174EA6;\n",
              "    }\n",
              "\n",
              "    [theme=dark] .colab-df-convert {\n",
              "      background-color: #3B4455;\n",
              "      fill: #D2E3FC;\n",
              "    }\n",
              "\n",
              "    [theme=dark] .colab-df-convert:hover {\n",
              "      background-color: #434B5C;\n",
              "      box-shadow: 0px 1px 3px 1px rgba(0, 0, 0, 0.15);\n",
              "      filter: drop-shadow(0px 1px 2px rgba(0, 0, 0, 0.3));\n",
              "      fill: #FFFFFF;\n",
              "    }\n",
              "  </style>\n",
              "\n",
              "      <script>\n",
              "        const buttonEl =\n",
              "          document.querySelector('#df-a183f4b9-999d-435b-9882-cda31f3877e0 button.colab-df-convert');\n",
              "        buttonEl.style.display =\n",
              "          google.colab.kernel.accessAllowed ? 'block' : 'none';\n",
              "\n",
              "        async function convertToInteractive(key) {\n",
              "          const element = document.querySelector('#df-a183f4b9-999d-435b-9882-cda31f3877e0');\n",
              "          const dataTable =\n",
              "            await google.colab.kernel.invokeFunction('convertToInteractive',\n",
              "                                                     [key], {});\n",
              "          if (!dataTable) return;\n",
              "\n",
              "          const docLinkHtml = 'Like what you see? Visit the ' +\n",
              "            '<a target=\"_blank\" href=https://colab.research.google.com/notebooks/data_table.ipynb>data table notebook</a>'\n",
              "            + ' to learn more about interactive tables.';\n",
              "          element.innerHTML = '';\n",
              "          dataTable['output_type'] = 'display_data';\n",
              "          await google.colab.output.renderOutput(dataTable, element);\n",
              "          const docLink = document.createElement('div');\n",
              "          docLink.innerHTML = docLinkHtml;\n",
              "          element.appendChild(docLink);\n",
              "        }\n",
              "      </script>\n",
              "    </div>\n",
              "  </div>\n",
              "  "
            ]
          },
          "metadata": {},
          "execution_count": 438
        }
      ]
    },
    {
      "cell_type": "code",
      "source": [
        ""
      ],
      "metadata": {
        "id": "V0Nmn-EGnh9t"
      },
      "execution_count": null,
      "outputs": []
    },
    {
      "cell_type": "code",
      "source": [
        ""
      ],
      "metadata": {
        "id": "CC6n991Mnh5c"
      },
      "execution_count": null,
      "outputs": []
    },
    {
      "cell_type": "code",
      "source": [
        ""
      ],
      "metadata": {
        "id": "pvpHBrCHnh1-"
      },
      "execution_count": null,
      "outputs": []
    },
    {
      "cell_type": "code",
      "source": [
        ""
      ],
      "metadata": {
        "id": "47NQCMU3nhnk"
      },
      "execution_count": null,
      "outputs": []
    },
    {
      "cell_type": "markdown",
      "metadata": {
        "id": "7lUfYNKYJK4E"
      },
      "source": [
        "### Removing Puntuation and garbage"
      ]
    },
    {
      "cell_type": "markdown",
      "source": [
        ""
      ],
      "metadata": {
        "id": "JL3QFblwylz-"
      }
    },
    {
      "cell_type": "code",
      "execution_count": 396,
      "metadata": {
        "colab": {
          "base_uri": "https://localhost:8080/",
          "height": 36
        },
        "id": "fmsdcol6JIEg",
        "outputId": "23440f14-832d-410a-eaa2-c2883067616f"
      },
      "outputs": [
        {
          "output_type": "execute_result",
          "data": {
            "text/plain": [
              "'!\"#$%&\\'()*+,-./:;<=>?@[\\\\]^_`{|}~'"
            ],
            "application/vnd.google.colaboratory.intrinsic+json": {
              "type": "string"
            }
          },
          "metadata": {},
          "execution_count": 396
        }
      ],
      "source": [
        "string.punctuation"
      ]
    },
    {
      "cell_type": "code",
      "execution_count": 397,
      "metadata": {
        "id": "M9YfVAttJNAz"
      },
      "outputs": [],
      "source": [
        "def remove_punctuation(Text):\n",
        "    punctuation_list = str(string.punctuation) + \"।\"\n",
        "    text_nopunct = \"\".join([c for c in Text if c not in punctuation_list])\n",
        "    return text_nopunct"
      ]
    },
    {
      "cell_type": "code",
      "execution_count": 398,
      "metadata": {
        "id": "O8UReBLfJTBv"
      },
      "outputs": [],
      "source": [
        "def remove_garbage(a):\n",
        "  a= \"\".join(i for i in a if i in [\"।\"] or 2432 <= ord(i) <= 2559 or ord(i)== 32)\n",
        "  removed=\" \".join(a.split())\n",
        "  return removed"
      ]
    },
    {
      "cell_type": "code",
      "execution_count": 400,
      "metadata": {
        "colab": {
          "base_uri": "https://localhost:8080/",
          "height": 112
        },
        "id": "bB0_jhBgJ6j9",
        "outputId": "d52bf593-b21d-4dde-a625-2d96e38cd548"
      },
      "outputs": [
        {
          "output_type": "execute_result",
          "data": {
            "text/plain": [
              "                                                Text  Label  length  \\\n",
              "0  Dear God,🙄🙄🙄🙄  ঠিক ততোটা দূরে যেতে চাই যতোটা দ...      1      79   \n",
              "1  পরিবর্তন তখনই আসে.....যখন আপনার কাছে অনেক টাকা...      1     145   \n",
              "\n",
              "                                 Removed Puncutation  \n",
              "0  Dear God🙄🙄🙄🙄  ঠিক ততোটা দূরে যেতে চাই যতোটা দূ...  \n",
              "1  পরিবর্তন তখনই আসেযখন আপনার কাছে অনেক টাকা থাকে...  "
            ],
            "text/html": [
              "\n",
              "  <div id=\"df-47c5ced2-36ff-47ac-a6e3-d50dbd21435c\">\n",
              "    <div class=\"colab-df-container\">\n",
              "      <div>\n",
              "<style scoped>\n",
              "    .dataframe tbody tr th:only-of-type {\n",
              "        vertical-align: middle;\n",
              "    }\n",
              "\n",
              "    .dataframe tbody tr th {\n",
              "        vertical-align: top;\n",
              "    }\n",
              "\n",
              "    .dataframe thead th {\n",
              "        text-align: right;\n",
              "    }\n",
              "</style>\n",
              "<table border=\"1\" class=\"dataframe\">\n",
              "  <thead>\n",
              "    <tr style=\"text-align: right;\">\n",
              "      <th></th>\n",
              "      <th>Text</th>\n",
              "      <th>Label</th>\n",
              "      <th>length</th>\n",
              "      <th>Removed Puncutation</th>\n",
              "    </tr>\n",
              "  </thead>\n",
              "  <tbody>\n",
              "    <tr>\n",
              "      <th>0</th>\n",
              "      <td>Dear God,🙄🙄🙄🙄  ঠিক ততোটা দূরে যেতে চাই যতোটা দ...</td>\n",
              "      <td>1</td>\n",
              "      <td>79</td>\n",
              "      <td>Dear God🙄🙄🙄🙄  ঠিক ততোটা দূরে যেতে চাই যতোটা দূ...</td>\n",
              "    </tr>\n",
              "    <tr>\n",
              "      <th>1</th>\n",
              "      <td>পরিবর্তন তখনই আসে.....যখন আপনার কাছে অনেক টাকা...</td>\n",
              "      <td>1</td>\n",
              "      <td>145</td>\n",
              "      <td>পরিবর্তন তখনই আসেযখন আপনার কাছে অনেক টাকা থাকে...</td>\n",
              "    </tr>\n",
              "  </tbody>\n",
              "</table>\n",
              "</div>\n",
              "      <button class=\"colab-df-convert\" onclick=\"convertToInteractive('df-47c5ced2-36ff-47ac-a6e3-d50dbd21435c')\"\n",
              "              title=\"Convert this dataframe to an interactive table.\"\n",
              "              style=\"display:none;\">\n",
              "        \n",
              "  <svg xmlns=\"http://www.w3.org/2000/svg\" height=\"24px\"viewBox=\"0 0 24 24\"\n",
              "       width=\"24px\">\n",
              "    <path d=\"M0 0h24v24H0V0z\" fill=\"none\"/>\n",
              "    <path d=\"M18.56 5.44l.94 2.06.94-2.06 2.06-.94-2.06-.94-.94-2.06-.94 2.06-2.06.94zm-11 1L8.5 8.5l.94-2.06 2.06-.94-2.06-.94L8.5 2.5l-.94 2.06-2.06.94zm10 10l.94 2.06.94-2.06 2.06-.94-2.06-.94-.94-2.06-.94 2.06-2.06.94z\"/><path d=\"M17.41 7.96l-1.37-1.37c-.4-.4-.92-.59-1.43-.59-.52 0-1.04.2-1.43.59L10.3 9.45l-7.72 7.72c-.78.78-.78 2.05 0 2.83L4 21.41c.39.39.9.59 1.41.59.51 0 1.02-.2 1.41-.59l7.78-7.78 2.81-2.81c.8-.78.8-2.07 0-2.86zM5.41 20L4 18.59l7.72-7.72 1.47 1.35L5.41 20z\"/>\n",
              "  </svg>\n",
              "      </button>\n",
              "      \n",
              "  <style>\n",
              "    .colab-df-container {\n",
              "      display:flex;\n",
              "      flex-wrap:wrap;\n",
              "      gap: 12px;\n",
              "    }\n",
              "\n",
              "    .colab-df-convert {\n",
              "      background-color: #E8F0FE;\n",
              "      border: none;\n",
              "      border-radius: 50%;\n",
              "      cursor: pointer;\n",
              "      display: none;\n",
              "      fill: #1967D2;\n",
              "      height: 32px;\n",
              "      padding: 0 0 0 0;\n",
              "      width: 32px;\n",
              "    }\n",
              "\n",
              "    .colab-df-convert:hover {\n",
              "      background-color: #E2EBFA;\n",
              "      box-shadow: 0px 1px 2px rgba(60, 64, 67, 0.3), 0px 1px 3px 1px rgba(60, 64, 67, 0.15);\n",
              "      fill: #174EA6;\n",
              "    }\n",
              "\n",
              "    [theme=dark] .colab-df-convert {\n",
              "      background-color: #3B4455;\n",
              "      fill: #D2E3FC;\n",
              "    }\n",
              "\n",
              "    [theme=dark] .colab-df-convert:hover {\n",
              "      background-color: #434B5C;\n",
              "      box-shadow: 0px 1px 3px 1px rgba(0, 0, 0, 0.15);\n",
              "      filter: drop-shadow(0px 1px 2px rgba(0, 0, 0, 0.3));\n",
              "      fill: #FFFFFF;\n",
              "    }\n",
              "  </style>\n",
              "\n",
              "      <script>\n",
              "        const buttonEl =\n",
              "          document.querySelector('#df-47c5ced2-36ff-47ac-a6e3-d50dbd21435c button.colab-df-convert');\n",
              "        buttonEl.style.display =\n",
              "          google.colab.kernel.accessAllowed ? 'block' : 'none';\n",
              "\n",
              "        async function convertToInteractive(key) {\n",
              "          const element = document.querySelector('#df-47c5ced2-36ff-47ac-a6e3-d50dbd21435c');\n",
              "          const dataTable =\n",
              "            await google.colab.kernel.invokeFunction('convertToInteractive',\n",
              "                                                     [key], {});\n",
              "          if (!dataTable) return;\n",
              "\n",
              "          const docLinkHtml = 'Like what you see? Visit the ' +\n",
              "            '<a target=\"_blank\" href=https://colab.research.google.com/notebooks/data_table.ipynb>data table notebook</a>'\n",
              "            + ' to learn more about interactive tables.';\n",
              "          element.innerHTML = '';\n",
              "          dataTable['output_type'] = 'display_data';\n",
              "          await google.colab.output.renderOutput(dataTable, element);\n",
              "          const docLink = document.createElement('div');\n",
              "          docLink.innerHTML = docLinkHtml;\n",
              "          element.appendChild(docLink);\n",
              "        }\n",
              "      </script>\n",
              "    </div>\n",
              "  </div>\n",
              "  "
            ]
          },
          "metadata": {},
          "execution_count": 400
        }
      ],
      "source": [
        "data['Removed Puncutation'] = data['Text'].apply(lambda x:remove_punctuation(x))\n",
        "data.head(2)"
      ]
    },
    {
      "cell_type": "code",
      "execution_count": 401,
      "metadata": {
        "colab": {
          "base_uri": "https://localhost:8080/",
          "height": 191
        },
        "id": "h2Rc4JhlPc8E",
        "outputId": "c7504da8-d9a8-44c9-9214-740855404c18"
      },
      "outputs": [
        {
          "output_type": "execute_result",
          "data": {
            "text/plain": [
              "                                                Text  Label  length  \\\n",
              "0  Dear God,🙄🙄🙄🙄  ঠিক ততোটা দূরে যেতে চাই যতোটা দ...      1      79   \n",
              "1  পরিবর্তন তখনই আসে.....যখন আপনার কাছে অনেক টাকা...      1     145   \n",
              "\n",
              "                                 Removed Puncutation  \\\n",
              "0  Dear God🙄🙄🙄🙄  ঠিক ততোটা দূরে যেতে চাই যতোটা দূ...   \n",
              "1  পরিবর্তন তখনই আসেযখন আপনার কাছে অনেক টাকা থাকে...   \n",
              "\n",
              "                                     Removed Garbage  \n",
              "0  ঠিক ততোটা দূরে যেতে চাই যতোটা দূরে গেলে আর ফির...  \n",
              "1  পরিবর্তন তখনই আসেযখন আপনার কাছে অনেক টাকা থাকে...  "
            ],
            "text/html": [
              "\n",
              "  <div id=\"df-971123e2-796c-47a6-b1e6-3e1539601175\">\n",
              "    <div class=\"colab-df-container\">\n",
              "      <div>\n",
              "<style scoped>\n",
              "    .dataframe tbody tr th:only-of-type {\n",
              "        vertical-align: middle;\n",
              "    }\n",
              "\n",
              "    .dataframe tbody tr th {\n",
              "        vertical-align: top;\n",
              "    }\n",
              "\n",
              "    .dataframe thead th {\n",
              "        text-align: right;\n",
              "    }\n",
              "</style>\n",
              "<table border=\"1\" class=\"dataframe\">\n",
              "  <thead>\n",
              "    <tr style=\"text-align: right;\">\n",
              "      <th></th>\n",
              "      <th>Text</th>\n",
              "      <th>Label</th>\n",
              "      <th>length</th>\n",
              "      <th>Removed Puncutation</th>\n",
              "      <th>Removed Garbage</th>\n",
              "    </tr>\n",
              "  </thead>\n",
              "  <tbody>\n",
              "    <tr>\n",
              "      <th>0</th>\n",
              "      <td>Dear God,🙄🙄🙄🙄  ঠিক ততোটা দূরে যেতে চাই যতোটা দ...</td>\n",
              "      <td>1</td>\n",
              "      <td>79</td>\n",
              "      <td>Dear God🙄🙄🙄🙄  ঠিক ততোটা দূরে যেতে চাই যতোটা দূ...</td>\n",
              "      <td>ঠিক ততোটা দূরে যেতে চাই যতোটা দূরে গেলে আর ফির...</td>\n",
              "    </tr>\n",
              "    <tr>\n",
              "      <th>1</th>\n",
              "      <td>পরিবর্তন তখনই আসে.....যখন আপনার কাছে অনেক টাকা...</td>\n",
              "      <td>1</td>\n",
              "      <td>145</td>\n",
              "      <td>পরিবর্তন তখনই আসেযখন আপনার কাছে অনেক টাকা থাকে...</td>\n",
              "      <td>পরিবর্তন তখনই আসেযখন আপনার কাছে অনেক টাকা থাকে...</td>\n",
              "    </tr>\n",
              "  </tbody>\n",
              "</table>\n",
              "</div>\n",
              "      <button class=\"colab-df-convert\" onclick=\"convertToInteractive('df-971123e2-796c-47a6-b1e6-3e1539601175')\"\n",
              "              title=\"Convert this dataframe to an interactive table.\"\n",
              "              style=\"display:none;\">\n",
              "        \n",
              "  <svg xmlns=\"http://www.w3.org/2000/svg\" height=\"24px\"viewBox=\"0 0 24 24\"\n",
              "       width=\"24px\">\n",
              "    <path d=\"M0 0h24v24H0V0z\" fill=\"none\"/>\n",
              "    <path d=\"M18.56 5.44l.94 2.06.94-2.06 2.06-.94-2.06-.94-.94-2.06-.94 2.06-2.06.94zm-11 1L8.5 8.5l.94-2.06 2.06-.94-2.06-.94L8.5 2.5l-.94 2.06-2.06.94zm10 10l.94 2.06.94-2.06 2.06-.94-2.06-.94-.94-2.06-.94 2.06-2.06.94z\"/><path d=\"M17.41 7.96l-1.37-1.37c-.4-.4-.92-.59-1.43-.59-.52 0-1.04.2-1.43.59L10.3 9.45l-7.72 7.72c-.78.78-.78 2.05 0 2.83L4 21.41c.39.39.9.59 1.41.59.51 0 1.02-.2 1.41-.59l7.78-7.78 2.81-2.81c.8-.78.8-2.07 0-2.86zM5.41 20L4 18.59l7.72-7.72 1.47 1.35L5.41 20z\"/>\n",
              "  </svg>\n",
              "      </button>\n",
              "      \n",
              "  <style>\n",
              "    .colab-df-container {\n",
              "      display:flex;\n",
              "      flex-wrap:wrap;\n",
              "      gap: 12px;\n",
              "    }\n",
              "\n",
              "    .colab-df-convert {\n",
              "      background-color: #E8F0FE;\n",
              "      border: none;\n",
              "      border-radius: 50%;\n",
              "      cursor: pointer;\n",
              "      display: none;\n",
              "      fill: #1967D2;\n",
              "      height: 32px;\n",
              "      padding: 0 0 0 0;\n",
              "      width: 32px;\n",
              "    }\n",
              "\n",
              "    .colab-df-convert:hover {\n",
              "      background-color: #E2EBFA;\n",
              "      box-shadow: 0px 1px 2px rgba(60, 64, 67, 0.3), 0px 1px 3px 1px rgba(60, 64, 67, 0.15);\n",
              "      fill: #174EA6;\n",
              "    }\n",
              "\n",
              "    [theme=dark] .colab-df-convert {\n",
              "      background-color: #3B4455;\n",
              "      fill: #D2E3FC;\n",
              "    }\n",
              "\n",
              "    [theme=dark] .colab-df-convert:hover {\n",
              "      background-color: #434B5C;\n",
              "      box-shadow: 0px 1px 3px 1px rgba(0, 0, 0, 0.15);\n",
              "      filter: drop-shadow(0px 1px 2px rgba(0, 0, 0, 0.3));\n",
              "      fill: #FFFFFF;\n",
              "    }\n",
              "  </style>\n",
              "\n",
              "      <script>\n",
              "        const buttonEl =\n",
              "          document.querySelector('#df-971123e2-796c-47a6-b1e6-3e1539601175 button.colab-df-convert');\n",
              "        buttonEl.style.display =\n",
              "          google.colab.kernel.accessAllowed ? 'block' : 'none';\n",
              "\n",
              "        async function convertToInteractive(key) {\n",
              "          const element = document.querySelector('#df-971123e2-796c-47a6-b1e6-3e1539601175');\n",
              "          const dataTable =\n",
              "            await google.colab.kernel.invokeFunction('convertToInteractive',\n",
              "                                                     [key], {});\n",
              "          if (!dataTable) return;\n",
              "\n",
              "          const docLinkHtml = 'Like what you see? Visit the ' +\n",
              "            '<a target=\"_blank\" href=https://colab.research.google.com/notebooks/data_table.ipynb>data table notebook</a>'\n",
              "            + ' to learn more about interactive tables.';\n",
              "          element.innerHTML = '';\n",
              "          dataTable['output_type'] = 'display_data';\n",
              "          await google.colab.output.renderOutput(dataTable, element);\n",
              "          const docLink = document.createElement('div');\n",
              "          docLink.innerHTML = docLinkHtml;\n",
              "          element.appendChild(docLink);\n",
              "        }\n",
              "      </script>\n",
              "    </div>\n",
              "  </div>\n",
              "  "
            ]
          },
          "metadata": {},
          "execution_count": 401
        }
      ],
      "source": [
        "data['Removed Garbage'] = data['Removed Puncutation'].apply(lambda x:remove_garbage(x))\n",
        "data.head(2)"
      ]
    },
    {
      "cell_type": "markdown",
      "metadata": {
        "id": "Sc42b2JA-3nO"
      },
      "source": [
        "### Tokenizer"
      ]
    },
    {
      "cell_type": "code",
      "execution_count": 421,
      "metadata": {
        "id": "bTZuXcQOPtcn"
      },
      "outputs": [],
      "source": [
        "!pip install bnltk\n"
      ]
    },
    {
      "cell_type": "code",
      "execution_count": 402,
      "metadata": {
        "id": "hhyHYUctQYlF"
      },
      "outputs": [],
      "source": [
        "from bnltk.tokenize import Tokenizers\n",
        "t = Tokenizers()\n",
        "#print(t.bn_word_tokenizer(' আমার সোনার বাংলা । '))\n",
        "\n",
        "data['Tokenizer'] = data['Removed Garbage'].apply(lambda x:t.bn_word_tokenizer(x))"
      ]
    },
    {
      "cell_type": "code",
      "execution_count": 403,
      "metadata": {
        "colab": {
          "base_uri": "https://localhost:8080/",
          "height": 191
        },
        "id": "Ef3bjNgeQv8m",
        "outputId": "6f0139ae-6ef5-4c2c-c429-193bbb31e01e"
      },
      "outputs": [
        {
          "output_type": "execute_result",
          "data": {
            "text/plain": [
              "                                                Text  Label  length  \\\n",
              "0  Dear God,🙄🙄🙄🙄  ঠিক ততোটা দূরে যেতে চাই যতোটা দ...      1      79   \n",
              "1  পরিবর্তন তখনই আসে.....যখন আপনার কাছে অনেক টাকা...      1     145   \n",
              "\n",
              "                                 Removed Puncutation  \\\n",
              "0  Dear God🙄🙄🙄🙄  ঠিক ততোটা দূরে যেতে চাই যতোটা দূ...   \n",
              "1  পরিবর্তন তখনই আসেযখন আপনার কাছে অনেক টাকা থাকে...   \n",
              "\n",
              "                                     Removed Garbage  \\\n",
              "0  ঠিক ততোটা দূরে যেতে চাই যতোটা দূরে গেলে আর ফির...   \n",
              "1  পরিবর্তন তখনই আসেযখন আপনার কাছে অনেক টাকা থাকে...   \n",
              "\n",
              "                                           Tokenizer  \n",
              "0  [ঠিক, ততোটা, দূরে, যেতে, চাই, যতোটা, দূরে, গেল...  \n",
              "1  [পরিবর্তন, তখনই, আসেযখন, আপনার, কাছে, অনেক, টা...  "
            ],
            "text/html": [
              "\n",
              "  <div id=\"df-30fd47ad-d776-41b8-8e76-bed3384f24f4\">\n",
              "    <div class=\"colab-df-container\">\n",
              "      <div>\n",
              "<style scoped>\n",
              "    .dataframe tbody tr th:only-of-type {\n",
              "        vertical-align: middle;\n",
              "    }\n",
              "\n",
              "    .dataframe tbody tr th {\n",
              "        vertical-align: top;\n",
              "    }\n",
              "\n",
              "    .dataframe thead th {\n",
              "        text-align: right;\n",
              "    }\n",
              "</style>\n",
              "<table border=\"1\" class=\"dataframe\">\n",
              "  <thead>\n",
              "    <tr style=\"text-align: right;\">\n",
              "      <th></th>\n",
              "      <th>Text</th>\n",
              "      <th>Label</th>\n",
              "      <th>length</th>\n",
              "      <th>Removed Puncutation</th>\n",
              "      <th>Removed Garbage</th>\n",
              "      <th>Tokenizer</th>\n",
              "    </tr>\n",
              "  </thead>\n",
              "  <tbody>\n",
              "    <tr>\n",
              "      <th>0</th>\n",
              "      <td>Dear God,🙄🙄🙄🙄  ঠিক ততোটা দূরে যেতে চাই যতোটা দ...</td>\n",
              "      <td>1</td>\n",
              "      <td>79</td>\n",
              "      <td>Dear God🙄🙄🙄🙄  ঠিক ততোটা দূরে যেতে চাই যতোটা দূ...</td>\n",
              "      <td>ঠিক ততোটা দূরে যেতে চাই যতোটা দূরে গেলে আর ফির...</td>\n",
              "      <td>[ঠিক, ততোটা, দূরে, যেতে, চাই, যতোটা, দূরে, গেল...</td>\n",
              "    </tr>\n",
              "    <tr>\n",
              "      <th>1</th>\n",
              "      <td>পরিবর্তন তখনই আসে.....যখন আপনার কাছে অনেক টাকা...</td>\n",
              "      <td>1</td>\n",
              "      <td>145</td>\n",
              "      <td>পরিবর্তন তখনই আসেযখন আপনার কাছে অনেক টাকা থাকে...</td>\n",
              "      <td>পরিবর্তন তখনই আসেযখন আপনার কাছে অনেক টাকা থাকে...</td>\n",
              "      <td>[পরিবর্তন, তখনই, আসেযখন, আপনার, কাছে, অনেক, টা...</td>\n",
              "    </tr>\n",
              "  </tbody>\n",
              "</table>\n",
              "</div>\n",
              "      <button class=\"colab-df-convert\" onclick=\"convertToInteractive('df-30fd47ad-d776-41b8-8e76-bed3384f24f4')\"\n",
              "              title=\"Convert this dataframe to an interactive table.\"\n",
              "              style=\"display:none;\">\n",
              "        \n",
              "  <svg xmlns=\"http://www.w3.org/2000/svg\" height=\"24px\"viewBox=\"0 0 24 24\"\n",
              "       width=\"24px\">\n",
              "    <path d=\"M0 0h24v24H0V0z\" fill=\"none\"/>\n",
              "    <path d=\"M18.56 5.44l.94 2.06.94-2.06 2.06-.94-2.06-.94-.94-2.06-.94 2.06-2.06.94zm-11 1L8.5 8.5l.94-2.06 2.06-.94-2.06-.94L8.5 2.5l-.94 2.06-2.06.94zm10 10l.94 2.06.94-2.06 2.06-.94-2.06-.94-.94-2.06-.94 2.06-2.06.94z\"/><path d=\"M17.41 7.96l-1.37-1.37c-.4-.4-.92-.59-1.43-.59-.52 0-1.04.2-1.43.59L10.3 9.45l-7.72 7.72c-.78.78-.78 2.05 0 2.83L4 21.41c.39.39.9.59 1.41.59.51 0 1.02-.2 1.41-.59l7.78-7.78 2.81-2.81c.8-.78.8-2.07 0-2.86zM5.41 20L4 18.59l7.72-7.72 1.47 1.35L5.41 20z\"/>\n",
              "  </svg>\n",
              "      </button>\n",
              "      \n",
              "  <style>\n",
              "    .colab-df-container {\n",
              "      display:flex;\n",
              "      flex-wrap:wrap;\n",
              "      gap: 12px;\n",
              "    }\n",
              "\n",
              "    .colab-df-convert {\n",
              "      background-color: #E8F0FE;\n",
              "      border: none;\n",
              "      border-radius: 50%;\n",
              "      cursor: pointer;\n",
              "      display: none;\n",
              "      fill: #1967D2;\n",
              "      height: 32px;\n",
              "      padding: 0 0 0 0;\n",
              "      width: 32px;\n",
              "    }\n",
              "\n",
              "    .colab-df-convert:hover {\n",
              "      background-color: #E2EBFA;\n",
              "      box-shadow: 0px 1px 2px rgba(60, 64, 67, 0.3), 0px 1px 3px 1px rgba(60, 64, 67, 0.15);\n",
              "      fill: #174EA6;\n",
              "    }\n",
              "\n",
              "    [theme=dark] .colab-df-convert {\n",
              "      background-color: #3B4455;\n",
              "      fill: #D2E3FC;\n",
              "    }\n",
              "\n",
              "    [theme=dark] .colab-df-convert:hover {\n",
              "      background-color: #434B5C;\n",
              "      box-shadow: 0px 1px 3px 1px rgba(0, 0, 0, 0.15);\n",
              "      filter: drop-shadow(0px 1px 2px rgba(0, 0, 0, 0.3));\n",
              "      fill: #FFFFFF;\n",
              "    }\n",
              "  </style>\n",
              "\n",
              "      <script>\n",
              "        const buttonEl =\n",
              "          document.querySelector('#df-30fd47ad-d776-41b8-8e76-bed3384f24f4 button.colab-df-convert');\n",
              "        buttonEl.style.display =\n",
              "          google.colab.kernel.accessAllowed ? 'block' : 'none';\n",
              "\n",
              "        async function convertToInteractive(key) {\n",
              "          const element = document.querySelector('#df-30fd47ad-d776-41b8-8e76-bed3384f24f4');\n",
              "          const dataTable =\n",
              "            await google.colab.kernel.invokeFunction('convertToInteractive',\n",
              "                                                     [key], {});\n",
              "          if (!dataTable) return;\n",
              "\n",
              "          const docLinkHtml = 'Like what you see? Visit the ' +\n",
              "            '<a target=\"_blank\" href=https://colab.research.google.com/notebooks/data_table.ipynb>data table notebook</a>'\n",
              "            + ' to learn more about interactive tables.';\n",
              "          element.innerHTML = '';\n",
              "          dataTable['output_type'] = 'display_data';\n",
              "          await google.colab.output.renderOutput(dataTable, element);\n",
              "          const docLink = document.createElement('div');\n",
              "          docLink.innerHTML = docLinkHtml;\n",
              "          element.appendChild(docLink);\n",
              "        }\n",
              "      </script>\n",
              "    </div>\n",
              "  </div>\n",
              "  "
            ]
          },
          "metadata": {},
          "execution_count": 403
        }
      ],
      "source": [
        "data.head(2)"
      ]
    },
    {
      "cell_type": "markdown",
      "metadata": {
        "id": "QxYeRkBKROtY"
      },
      "source": [
        "### Bangla-Stemmer"
      ]
    },
    {
      "cell_type": "code",
      "execution_count": 422,
      "metadata": {
        "id": "sdvpCBGcRyJG"
      },
      "outputs": [],
      "source": [
        "!pip install bnlp_toolkit"
      ]
    },
    {
      "cell_type": "code",
      "execution_count": 423,
      "metadata": {
        "id": "XEy8qLocVIQT"
      },
      "outputs": [],
      "source": [
        "!pip install bnltk"
      ]
    },
    {
      "cell_type": "code",
      "execution_count": 424,
      "metadata": {
        "id": "LI3-NqmFSile"
      },
      "outputs": [],
      "source": [
        "!pip install bangla-stemmer"
      ]
    },
    {
      "cell_type": "code",
      "execution_count": 331,
      "metadata": {
        "colab": {
          "base_uri": "https://localhost:8080/"
        },
        "id": "YlfaAPyoSn-n",
        "outputId": "1eba94b6-209d-4044-ee0f-c5cd5d6e28e4"
      },
      "outputs": [
        {
          "output_type": "stream",
          "name": "stdout",
          "text": [
            "applied first rules..\n",
            "applied fourth rules..\n",
            "['পিতা', 'আত্মত্যাগ', 'বড়', 'দুঃখ']\n"
          ]
        }
      ],
      "source": [
        "from bangla_stemmer.stemmer import stemmer\n",
        "wordlist = ['পিতা', 'আত্মত্যাগ', 'বড়ই', 'দুঃখের']\n",
        "stmr = stemmer.BanglaStemmer()\n",
        "stm = stmr.stem(wordlist)\n",
        "print(stm)"
      ]
    },
    {
      "cell_type": "code",
      "execution_count": 404,
      "metadata": {
        "id": "OuBz4F1wSsyO"
      },
      "outputs": [],
      "source": [
        "from bangla_stemmer.stemmer import stemmer\n",
        "stmr = stemmer.BanglaStemmer()\n",
        "\n",
        "data['Stemmed'] = data['Tokenizer'].apply(lambda x : stmr.stem(x))"
      ]
    },
    {
      "cell_type": "code",
      "execution_count": 406,
      "metadata": {
        "id": "PZbW3d81sKUl",
        "colab": {
          "base_uri": "https://localhost:8080/",
          "height": 225
        },
        "outputId": "4697a82c-2283-4c00-a571-2d03d5df49d9"
      },
      "outputs": [
        {
          "output_type": "execute_result",
          "data": {
            "text/plain": [
              "                                                Text  Label  length  \\\n",
              "0  Dear God,🙄🙄🙄🙄  ঠিক ততোটা দূরে যেতে চাই যতোটা দ...      1      79   \n",
              "1  পরিবর্তন তখনই আসে.....যখন আপনার কাছে অনেক টাকা...      1     145   \n",
              "\n",
              "                                 Removed Puncutation  \\\n",
              "0  Dear God🙄🙄🙄🙄  ঠিক ততোটা দূরে যেতে চাই যতোটা দূ...   \n",
              "1  পরিবর্তন তখনই আসেযখন আপনার কাছে অনেক টাকা থাকে...   \n",
              "\n",
              "                                     Removed Garbage  \\\n",
              "0  ঠিক ততোটা দূরে যেতে চাই যতোটা দূরে গেলে আর ফির...   \n",
              "1  পরিবর্তন তখনই আসেযখন আপনার কাছে অনেক টাকা থাকে...   \n",
              "\n",
              "                                           Tokenizer  \\\n",
              "0  [ঠিক, ততোটা, দূরে, যেতে, চাই, যতোটা, দূরে, গেল...   \n",
              "1  [পরিবর্তন, তখনই, আসেযখন, আপনার, কাছে, অনেক, টা...   \n",
              "\n",
              "                                             Stemmed  \n",
              "0  [ঠিক, ততো, দূরে, যেত, চাই, যতো, দূরে, গাল, আর,...  \n",
              "1  [পরিবর্তন, তখন, আসেযখন, আপন, কাছ, অনেক, টাকা, ...  "
            ],
            "text/html": [
              "\n",
              "  <div id=\"df-ec5b0e39-ac2d-47ab-9d37-684bb59c673b\">\n",
              "    <div class=\"colab-df-container\">\n",
              "      <div>\n",
              "<style scoped>\n",
              "    .dataframe tbody tr th:only-of-type {\n",
              "        vertical-align: middle;\n",
              "    }\n",
              "\n",
              "    .dataframe tbody tr th {\n",
              "        vertical-align: top;\n",
              "    }\n",
              "\n",
              "    .dataframe thead th {\n",
              "        text-align: right;\n",
              "    }\n",
              "</style>\n",
              "<table border=\"1\" class=\"dataframe\">\n",
              "  <thead>\n",
              "    <tr style=\"text-align: right;\">\n",
              "      <th></th>\n",
              "      <th>Text</th>\n",
              "      <th>Label</th>\n",
              "      <th>length</th>\n",
              "      <th>Removed Puncutation</th>\n",
              "      <th>Removed Garbage</th>\n",
              "      <th>Tokenizer</th>\n",
              "      <th>Stemmed</th>\n",
              "    </tr>\n",
              "  </thead>\n",
              "  <tbody>\n",
              "    <tr>\n",
              "      <th>0</th>\n",
              "      <td>Dear God,🙄🙄🙄🙄  ঠিক ততোটা দূরে যেতে চাই যতোটা দ...</td>\n",
              "      <td>1</td>\n",
              "      <td>79</td>\n",
              "      <td>Dear God🙄🙄🙄🙄  ঠিক ততোটা দূরে যেতে চাই যতোটা দূ...</td>\n",
              "      <td>ঠিক ততোটা দূরে যেতে চাই যতোটা দূরে গেলে আর ফির...</td>\n",
              "      <td>[ঠিক, ততোটা, দূরে, যেতে, চাই, যতোটা, দূরে, গেল...</td>\n",
              "      <td>[ঠিক, ততো, দূরে, যেত, চাই, যতো, দূরে, গাল, আর,...</td>\n",
              "    </tr>\n",
              "    <tr>\n",
              "      <th>1</th>\n",
              "      <td>পরিবর্তন তখনই আসে.....যখন আপনার কাছে অনেক টাকা...</td>\n",
              "      <td>1</td>\n",
              "      <td>145</td>\n",
              "      <td>পরিবর্তন তখনই আসেযখন আপনার কাছে অনেক টাকা থাকে...</td>\n",
              "      <td>পরিবর্তন তখনই আসেযখন আপনার কাছে অনেক টাকা থাকে...</td>\n",
              "      <td>[পরিবর্তন, তখনই, আসেযখন, আপনার, কাছে, অনেক, টা...</td>\n",
              "      <td>[পরিবর্তন, তখন, আসেযখন, আপন, কাছ, অনেক, টাকা, ...</td>\n",
              "    </tr>\n",
              "  </tbody>\n",
              "</table>\n",
              "</div>\n",
              "      <button class=\"colab-df-convert\" onclick=\"convertToInteractive('df-ec5b0e39-ac2d-47ab-9d37-684bb59c673b')\"\n",
              "              title=\"Convert this dataframe to an interactive table.\"\n",
              "              style=\"display:none;\">\n",
              "        \n",
              "  <svg xmlns=\"http://www.w3.org/2000/svg\" height=\"24px\"viewBox=\"0 0 24 24\"\n",
              "       width=\"24px\">\n",
              "    <path d=\"M0 0h24v24H0V0z\" fill=\"none\"/>\n",
              "    <path d=\"M18.56 5.44l.94 2.06.94-2.06 2.06-.94-2.06-.94-.94-2.06-.94 2.06-2.06.94zm-11 1L8.5 8.5l.94-2.06 2.06-.94-2.06-.94L8.5 2.5l-.94 2.06-2.06.94zm10 10l.94 2.06.94-2.06 2.06-.94-2.06-.94-.94-2.06-.94 2.06-2.06.94z\"/><path d=\"M17.41 7.96l-1.37-1.37c-.4-.4-.92-.59-1.43-.59-.52 0-1.04.2-1.43.59L10.3 9.45l-7.72 7.72c-.78.78-.78 2.05 0 2.83L4 21.41c.39.39.9.59 1.41.59.51 0 1.02-.2 1.41-.59l7.78-7.78 2.81-2.81c.8-.78.8-2.07 0-2.86zM5.41 20L4 18.59l7.72-7.72 1.47 1.35L5.41 20z\"/>\n",
              "  </svg>\n",
              "      </button>\n",
              "      \n",
              "  <style>\n",
              "    .colab-df-container {\n",
              "      display:flex;\n",
              "      flex-wrap:wrap;\n",
              "      gap: 12px;\n",
              "    }\n",
              "\n",
              "    .colab-df-convert {\n",
              "      background-color: #E8F0FE;\n",
              "      border: none;\n",
              "      border-radius: 50%;\n",
              "      cursor: pointer;\n",
              "      display: none;\n",
              "      fill: #1967D2;\n",
              "      height: 32px;\n",
              "      padding: 0 0 0 0;\n",
              "      width: 32px;\n",
              "    }\n",
              "\n",
              "    .colab-df-convert:hover {\n",
              "      background-color: #E2EBFA;\n",
              "      box-shadow: 0px 1px 2px rgba(60, 64, 67, 0.3), 0px 1px 3px 1px rgba(60, 64, 67, 0.15);\n",
              "      fill: #174EA6;\n",
              "    }\n",
              "\n",
              "    [theme=dark] .colab-df-convert {\n",
              "      background-color: #3B4455;\n",
              "      fill: #D2E3FC;\n",
              "    }\n",
              "\n",
              "    [theme=dark] .colab-df-convert:hover {\n",
              "      background-color: #434B5C;\n",
              "      box-shadow: 0px 1px 3px 1px rgba(0, 0, 0, 0.15);\n",
              "      filter: drop-shadow(0px 1px 2px rgba(0, 0, 0, 0.3));\n",
              "      fill: #FFFFFF;\n",
              "    }\n",
              "  </style>\n",
              "\n",
              "      <script>\n",
              "        const buttonEl =\n",
              "          document.querySelector('#df-ec5b0e39-ac2d-47ab-9d37-684bb59c673b button.colab-df-convert');\n",
              "        buttonEl.style.display =\n",
              "          google.colab.kernel.accessAllowed ? 'block' : 'none';\n",
              "\n",
              "        async function convertToInteractive(key) {\n",
              "          const element = document.querySelector('#df-ec5b0e39-ac2d-47ab-9d37-684bb59c673b');\n",
              "          const dataTable =\n",
              "            await google.colab.kernel.invokeFunction('convertToInteractive',\n",
              "                                                     [key], {});\n",
              "          if (!dataTable) return;\n",
              "\n",
              "          const docLinkHtml = 'Like what you see? Visit the ' +\n",
              "            '<a target=\"_blank\" href=https://colab.research.google.com/notebooks/data_table.ipynb>data table notebook</a>'\n",
              "            + ' to learn more about interactive tables.';\n",
              "          element.innerHTML = '';\n",
              "          dataTable['output_type'] = 'display_data';\n",
              "          await google.colab.output.renderOutput(dataTable, element);\n",
              "          const docLink = document.createElement('div');\n",
              "          docLink.innerHTML = docLinkHtml;\n",
              "          element.appendChild(docLink);\n",
              "        }\n",
              "      </script>\n",
              "    </div>\n",
              "  </div>\n",
              "  "
            ]
          },
          "metadata": {},
          "execution_count": 406
        }
      ],
      "source": [
        "data.head(2)"
      ]
    },
    {
      "cell_type": "markdown",
      "metadata": {
        "id": "yD2kkZ5793H2"
      },
      "source": [
        "### Lemmatizer"
      ]
    },
    {
      "cell_type": "code",
      "source": [
        "import nltk\n",
        "nltk.download('omw-1.4')\n",
        "nltk.download('wordnet')"
      ],
      "metadata": {
        "id": "adv4R6QMp0NC",
        "colab": {
          "base_uri": "https://localhost:8080/"
        },
        "outputId": "1ed6bec4-fb1f-4f37-829b-a51666defa14"
      },
      "execution_count": 196,
      "outputs": [
        {
          "output_type": "stream",
          "name": "stderr",
          "text": [
            "[nltk_data] Downloading package omw-1.4 to /root/nltk_data...\n",
            "[nltk_data]   Package omw-1.4 is already up-to-date!\n",
            "[nltk_data] Downloading package wordnet to /root/nltk_data...\n",
            "[nltk_data]   Package wordnet is already up-to-date!\n"
          ]
        },
        {
          "output_type": "execute_result",
          "data": {
            "text/plain": [
              "True"
            ]
          },
          "metadata": {},
          "execution_count": 196
        }
      ]
    },
    {
      "cell_type": "code",
      "execution_count": 334,
      "metadata": {
        "id": "6zzo2fx5QsAw"
      },
      "outputs": [],
      "source": [
        "lem = WordNetLemmatizer()\n",
        "\n",
        "def lemma(text):\n",
        "    lem_text = [lem.lemmatize(word) for word in text.split()]\n",
        "    return \" \".join(lem_text)"
      ]
    },
    {
      "cell_type": "code",
      "execution_count": 407,
      "metadata": {
        "id": "JkGEeF9yQr5Q",
        "colab": {
          "base_uri": "https://localhost:8080/",
          "height": 243
        },
        "outputId": "95553752-753d-495f-e3f9-2ba979012ca7"
      },
      "outputs": [
        {
          "output_type": "execute_result",
          "data": {
            "text/plain": [
              "                                                Text  Label  length  \\\n",
              "0  Dear God,🙄🙄🙄🙄  ঠিক ততোটা দূরে যেতে চাই যতোটা দ...      1      79   \n",
              "1  পরিবর্তন তখনই আসে.....যখন আপনার কাছে অনেক টাকা...      1     145   \n",
              "\n",
              "                                 Removed Puncutation  \\\n",
              "0  Dear God🙄🙄🙄🙄  ঠিক ততোটা দূরে যেতে চাই যতোটা দূ...   \n",
              "1  পরিবর্তন তখনই আসেযখন আপনার কাছে অনেক টাকা থাকে...   \n",
              "\n",
              "                                     Removed Garbage  \\\n",
              "0  ঠিক ততোটা দূরে যেতে চাই যতোটা দূরে গেলে আর ফির...   \n",
              "1  পরিবর্তন তখনই আসেযখন আপনার কাছে অনেক টাকা থাকে...   \n",
              "\n",
              "                                           Tokenizer  \\\n",
              "0  [ঠিক, ততোটা, দূরে, যেতে, চাই, যতোটা, দূরে, গেল...   \n",
              "1  [পরিবর্তন, তখনই, আসেযখন, আপনার, কাছে, অনেক, টা...   \n",
              "\n",
              "                                             Stemmed  \\\n",
              "0  [ঠিক, ততো, দূরে, যেত, চাই, যতো, দূরে, গাল, আর,...   \n",
              "1  [পরিবর্তন, তখন, আসেযখন, আপন, কাছ, অনেক, টাকা, ...   \n",
              "\n",
              "                                          Lemmatizer  \n",
              "0  ঠিক ততোটা দূরে যেতে চাই যতোটা দূরে গেলে আর ফির...  \n",
              "1  পরিবর্তন তখনই আসেযখন আপনার কাছে অনেক টাকা থাকে...  "
            ],
            "text/html": [
              "\n",
              "  <div id=\"df-196f64df-8280-4904-a7bb-49be5b2ac20a\">\n",
              "    <div class=\"colab-df-container\">\n",
              "      <div>\n",
              "<style scoped>\n",
              "    .dataframe tbody tr th:only-of-type {\n",
              "        vertical-align: middle;\n",
              "    }\n",
              "\n",
              "    .dataframe tbody tr th {\n",
              "        vertical-align: top;\n",
              "    }\n",
              "\n",
              "    .dataframe thead th {\n",
              "        text-align: right;\n",
              "    }\n",
              "</style>\n",
              "<table border=\"1\" class=\"dataframe\">\n",
              "  <thead>\n",
              "    <tr style=\"text-align: right;\">\n",
              "      <th></th>\n",
              "      <th>Text</th>\n",
              "      <th>Label</th>\n",
              "      <th>length</th>\n",
              "      <th>Removed Puncutation</th>\n",
              "      <th>Removed Garbage</th>\n",
              "      <th>Tokenizer</th>\n",
              "      <th>Stemmed</th>\n",
              "      <th>Lemmatizer</th>\n",
              "    </tr>\n",
              "  </thead>\n",
              "  <tbody>\n",
              "    <tr>\n",
              "      <th>0</th>\n",
              "      <td>Dear God,🙄🙄🙄🙄  ঠিক ততোটা দূরে যেতে চাই যতোটা দ...</td>\n",
              "      <td>1</td>\n",
              "      <td>79</td>\n",
              "      <td>Dear God🙄🙄🙄🙄  ঠিক ততোটা দূরে যেতে চাই যতোটা দূ...</td>\n",
              "      <td>ঠিক ততোটা দূরে যেতে চাই যতোটা দূরে গেলে আর ফির...</td>\n",
              "      <td>[ঠিক, ততোটা, দূরে, যেতে, চাই, যতোটা, দূরে, গেল...</td>\n",
              "      <td>[ঠিক, ততো, দূরে, যেত, চাই, যতো, দূরে, গাল, আর,...</td>\n",
              "      <td>ঠিক ততোটা দূরে যেতে চাই যতোটা দূরে গেলে আর ফির...</td>\n",
              "    </tr>\n",
              "    <tr>\n",
              "      <th>1</th>\n",
              "      <td>পরিবর্তন তখনই আসে.....যখন আপনার কাছে অনেক টাকা...</td>\n",
              "      <td>1</td>\n",
              "      <td>145</td>\n",
              "      <td>পরিবর্তন তখনই আসেযখন আপনার কাছে অনেক টাকা থাকে...</td>\n",
              "      <td>পরিবর্তন তখনই আসেযখন আপনার কাছে অনেক টাকা থাকে...</td>\n",
              "      <td>[পরিবর্তন, তখনই, আসেযখন, আপনার, কাছে, অনেক, টা...</td>\n",
              "      <td>[পরিবর্তন, তখন, আসেযখন, আপন, কাছ, অনেক, টাকা, ...</td>\n",
              "      <td>পরিবর্তন তখনই আসেযখন আপনার কাছে অনেক টাকা থাকে...</td>\n",
              "    </tr>\n",
              "  </tbody>\n",
              "</table>\n",
              "</div>\n",
              "      <button class=\"colab-df-convert\" onclick=\"convertToInteractive('df-196f64df-8280-4904-a7bb-49be5b2ac20a')\"\n",
              "              title=\"Convert this dataframe to an interactive table.\"\n",
              "              style=\"display:none;\">\n",
              "        \n",
              "  <svg xmlns=\"http://www.w3.org/2000/svg\" height=\"24px\"viewBox=\"0 0 24 24\"\n",
              "       width=\"24px\">\n",
              "    <path d=\"M0 0h24v24H0V0z\" fill=\"none\"/>\n",
              "    <path d=\"M18.56 5.44l.94 2.06.94-2.06 2.06-.94-2.06-.94-.94-2.06-.94 2.06-2.06.94zm-11 1L8.5 8.5l.94-2.06 2.06-.94-2.06-.94L8.5 2.5l-.94 2.06-2.06.94zm10 10l.94 2.06.94-2.06 2.06-.94-2.06-.94-.94-2.06-.94 2.06-2.06.94z\"/><path d=\"M17.41 7.96l-1.37-1.37c-.4-.4-.92-.59-1.43-.59-.52 0-1.04.2-1.43.59L10.3 9.45l-7.72 7.72c-.78.78-.78 2.05 0 2.83L4 21.41c.39.39.9.59 1.41.59.51 0 1.02-.2 1.41-.59l7.78-7.78 2.81-2.81c.8-.78.8-2.07 0-2.86zM5.41 20L4 18.59l7.72-7.72 1.47 1.35L5.41 20z\"/>\n",
              "  </svg>\n",
              "      </button>\n",
              "      \n",
              "  <style>\n",
              "    .colab-df-container {\n",
              "      display:flex;\n",
              "      flex-wrap:wrap;\n",
              "      gap: 12px;\n",
              "    }\n",
              "\n",
              "    .colab-df-convert {\n",
              "      background-color: #E8F0FE;\n",
              "      border: none;\n",
              "      border-radius: 50%;\n",
              "      cursor: pointer;\n",
              "      display: none;\n",
              "      fill: #1967D2;\n",
              "      height: 32px;\n",
              "      padding: 0 0 0 0;\n",
              "      width: 32px;\n",
              "    }\n",
              "\n",
              "    .colab-df-convert:hover {\n",
              "      background-color: #E2EBFA;\n",
              "      box-shadow: 0px 1px 2px rgba(60, 64, 67, 0.3), 0px 1px 3px 1px rgba(60, 64, 67, 0.15);\n",
              "      fill: #174EA6;\n",
              "    }\n",
              "\n",
              "    [theme=dark] .colab-df-convert {\n",
              "      background-color: #3B4455;\n",
              "      fill: #D2E3FC;\n",
              "    }\n",
              "\n",
              "    [theme=dark] .colab-df-convert:hover {\n",
              "      background-color: #434B5C;\n",
              "      box-shadow: 0px 1px 3px 1px rgba(0, 0, 0, 0.15);\n",
              "      filter: drop-shadow(0px 1px 2px rgba(0, 0, 0, 0.3));\n",
              "      fill: #FFFFFF;\n",
              "    }\n",
              "  </style>\n",
              "\n",
              "      <script>\n",
              "        const buttonEl =\n",
              "          document.querySelector('#df-196f64df-8280-4904-a7bb-49be5b2ac20a button.colab-df-convert');\n",
              "        buttonEl.style.display =\n",
              "          google.colab.kernel.accessAllowed ? 'block' : 'none';\n",
              "\n",
              "        async function convertToInteractive(key) {\n",
              "          const element = document.querySelector('#df-196f64df-8280-4904-a7bb-49be5b2ac20a');\n",
              "          const dataTable =\n",
              "            await google.colab.kernel.invokeFunction('convertToInteractive',\n",
              "                                                     [key], {});\n",
              "          if (!dataTable) return;\n",
              "\n",
              "          const docLinkHtml = 'Like what you see? Visit the ' +\n",
              "            '<a target=\"_blank\" href=https://colab.research.google.com/notebooks/data_table.ipynb>data table notebook</a>'\n",
              "            + ' to learn more about interactive tables.';\n",
              "          element.innerHTML = '';\n",
              "          dataTable['output_type'] = 'display_data';\n",
              "          await google.colab.output.renderOutput(dataTable, element);\n",
              "          const docLink = document.createElement('div');\n",
              "          docLink.innerHTML = docLinkHtml;\n",
              "          element.appendChild(docLink);\n",
              "        }\n",
              "      </script>\n",
              "    </div>\n",
              "  </div>\n",
              "  "
            ]
          },
          "metadata": {},
          "execution_count": 407
        }
      ],
      "source": [
        "data['Lemmatizer'] = data['Removed Garbage'].apply(lemma)\n",
        "data.head(2)"
      ]
    },
    {
      "cell_type": "markdown",
      "metadata": {
        "id": "VEPkjf4Q-L7B"
      },
      "source": [
        "### Removed Stopped Word"
      ]
    },
    {
      "cell_type": "code",
      "execution_count": 336,
      "metadata": {
        "id": "hsDT4PNsQr9e",
        "colab": {
          "base_uri": "https://localhost:8080/"
        },
        "outputId": "205a4efb-36e9-4e2a-b6b3-06fe0b766bce"
      },
      "outputs": [
        {
          "output_type": "stream",
          "name": "stderr",
          "text": [
            "[nltk_data] Downloading package omw-1.4 to /root/nltk_data...\n",
            "[nltk_data]   Package omw-1.4 is already up-to-date!\n",
            "[nltk_data] Downloading package wordnet to /root/nltk_data...\n",
            "[nltk_data]   Package wordnet is already up-to-date!\n"
          ]
        },
        {
          "output_type": "execute_result",
          "data": {
            "text/plain": [
              "True"
            ]
          },
          "metadata": {},
          "execution_count": 336
        }
      ],
      "source": [
        "import nltk\n",
        "nltk.download('omw-1.4')\n",
        "nltk.download('wordnet')"
      ]
    },
    {
      "cell_type": "code",
      "execution_count": 425,
      "metadata": {
        "id": "oIgRPqzmKPWt"
      },
      "outputs": [],
      "source": [
        "!pip install bnlp_toolkit"
      ]
    },
    {
      "cell_type": "code",
      "execution_count": 408,
      "metadata": {
        "id": "mzlpoQSiKQz-",
        "colab": {
          "base_uri": "https://localhost:8080/",
          "height": 278
        },
        "outputId": "e9492498-bfb7-49db-b83b-dbf018c3dbc0"
      },
      "outputs": [
        {
          "output_type": "execute_result",
          "data": {
            "text/plain": [
              "                                                Text  Label  length  \\\n",
              "0  Dear God,🙄🙄🙄🙄  ঠিক ততোটা দূরে যেতে চাই যতোটা দ...      1      79   \n",
              "1  পরিবর্তন তখনই আসে.....যখন আপনার কাছে অনেক টাকা...      1     145   \n",
              "\n",
              "                                 Removed Puncutation  \\\n",
              "0  Dear God🙄🙄🙄🙄  ঠিক ততোটা দূরে যেতে চাই যতোটা দূ...   \n",
              "1  পরিবর্তন তখনই আসেযখন আপনার কাছে অনেক টাকা থাকে...   \n",
              "\n",
              "                                     Removed Garbage  \\\n",
              "0  ঠিক ততোটা দূরে যেতে চাই যতোটা দূরে গেলে আর ফির...   \n",
              "1  পরিবর্তন তখনই আসেযখন আপনার কাছে অনেক টাকা থাকে...   \n",
              "\n",
              "                                           Tokenizer  \\\n",
              "0  [ঠিক, ততোটা, দূরে, যেতে, চাই, যতোটা, দূরে, গেল...   \n",
              "1  [পরিবর্তন, তখনই, আসেযখন, আপনার, কাছে, অনেক, টা...   \n",
              "\n",
              "                                             Stemmed  \\\n",
              "0  [ঠিক, ততো, দূরে, যেত, চাই, যতো, দূরে, গাল, আর,...   \n",
              "1  [পরিবর্তন, তখন, আসেযখন, আপন, কাছ, অনেক, টাকা, ...   \n",
              "\n",
              "                                          Lemmatizer  \\\n",
              "0  ঠিক ততোটা দূরে যেতে চাই যতোটা দূরে গেলে আর ফির...   \n",
              "1  পরিবর্তন তখনই আসেযখন আপনার কাছে অনেক টাকা থাকে...   \n",
              "\n",
              "                                Removed Stopped word  \n",
              "0       [ততোটা, দূরে, চাই, যতোটা, দূরে, আসা, যায়না]  \n",
              "1  [পরিবর্তন, তখনই, আসেযখন, টাকা, একা, বোধ, করেনঅ...  "
            ],
            "text/html": [
              "\n",
              "  <div id=\"df-ee5651b0-6c80-4831-81f0-37e4acf5cafe\">\n",
              "    <div class=\"colab-df-container\">\n",
              "      <div>\n",
              "<style scoped>\n",
              "    .dataframe tbody tr th:only-of-type {\n",
              "        vertical-align: middle;\n",
              "    }\n",
              "\n",
              "    .dataframe tbody tr th {\n",
              "        vertical-align: top;\n",
              "    }\n",
              "\n",
              "    .dataframe thead th {\n",
              "        text-align: right;\n",
              "    }\n",
              "</style>\n",
              "<table border=\"1\" class=\"dataframe\">\n",
              "  <thead>\n",
              "    <tr style=\"text-align: right;\">\n",
              "      <th></th>\n",
              "      <th>Text</th>\n",
              "      <th>Label</th>\n",
              "      <th>length</th>\n",
              "      <th>Removed Puncutation</th>\n",
              "      <th>Removed Garbage</th>\n",
              "      <th>Tokenizer</th>\n",
              "      <th>Stemmed</th>\n",
              "      <th>Lemmatizer</th>\n",
              "      <th>Removed Stopped word</th>\n",
              "    </tr>\n",
              "  </thead>\n",
              "  <tbody>\n",
              "    <tr>\n",
              "      <th>0</th>\n",
              "      <td>Dear God,🙄🙄🙄🙄  ঠিক ততোটা দূরে যেতে চাই যতোটা দ...</td>\n",
              "      <td>1</td>\n",
              "      <td>79</td>\n",
              "      <td>Dear God🙄🙄🙄🙄  ঠিক ততোটা দূরে যেতে চাই যতোটা দূ...</td>\n",
              "      <td>ঠিক ততোটা দূরে যেতে চাই যতোটা দূরে গেলে আর ফির...</td>\n",
              "      <td>[ঠিক, ততোটা, দূরে, যেতে, চাই, যতোটা, দূরে, গেল...</td>\n",
              "      <td>[ঠিক, ততো, দূরে, যেত, চাই, যতো, দূরে, গাল, আর,...</td>\n",
              "      <td>ঠিক ততোটা দূরে যেতে চাই যতোটা দূরে গেলে আর ফির...</td>\n",
              "      <td>[ততোটা, দূরে, চাই, যতোটা, দূরে, আসা, যায়না]</td>\n",
              "    </tr>\n",
              "    <tr>\n",
              "      <th>1</th>\n",
              "      <td>পরিবর্তন তখনই আসে.....যখন আপনার কাছে অনেক টাকা...</td>\n",
              "      <td>1</td>\n",
              "      <td>145</td>\n",
              "      <td>পরিবর্তন তখনই আসেযখন আপনার কাছে অনেক টাকা থাকে...</td>\n",
              "      <td>পরিবর্তন তখনই আসেযখন আপনার কাছে অনেক টাকা থাকে...</td>\n",
              "      <td>[পরিবর্তন, তখনই, আসেযখন, আপনার, কাছে, অনেক, টা...</td>\n",
              "      <td>[পরিবর্তন, তখন, আসেযখন, আপন, কাছ, অনেক, টাকা, ...</td>\n",
              "      <td>পরিবর্তন তখনই আসেযখন আপনার কাছে অনেক টাকা থাকে...</td>\n",
              "      <td>[পরিবর্তন, তখনই, আসেযখন, টাকা, একা, বোধ, করেনঅ...</td>\n",
              "    </tr>\n",
              "  </tbody>\n",
              "</table>\n",
              "</div>\n",
              "      <button class=\"colab-df-convert\" onclick=\"convertToInteractive('df-ee5651b0-6c80-4831-81f0-37e4acf5cafe')\"\n",
              "              title=\"Convert this dataframe to an interactive table.\"\n",
              "              style=\"display:none;\">\n",
              "        \n",
              "  <svg xmlns=\"http://www.w3.org/2000/svg\" height=\"24px\"viewBox=\"0 0 24 24\"\n",
              "       width=\"24px\">\n",
              "    <path d=\"M0 0h24v24H0V0z\" fill=\"none\"/>\n",
              "    <path d=\"M18.56 5.44l.94 2.06.94-2.06 2.06-.94-2.06-.94-.94-2.06-.94 2.06-2.06.94zm-11 1L8.5 8.5l.94-2.06 2.06-.94-2.06-.94L8.5 2.5l-.94 2.06-2.06.94zm10 10l.94 2.06.94-2.06 2.06-.94-2.06-.94-.94-2.06-.94 2.06-2.06.94z\"/><path d=\"M17.41 7.96l-1.37-1.37c-.4-.4-.92-.59-1.43-.59-.52 0-1.04.2-1.43.59L10.3 9.45l-7.72 7.72c-.78.78-.78 2.05 0 2.83L4 21.41c.39.39.9.59 1.41.59.51 0 1.02-.2 1.41-.59l7.78-7.78 2.81-2.81c.8-.78.8-2.07 0-2.86zM5.41 20L4 18.59l7.72-7.72 1.47 1.35L5.41 20z\"/>\n",
              "  </svg>\n",
              "      </button>\n",
              "      \n",
              "  <style>\n",
              "    .colab-df-container {\n",
              "      display:flex;\n",
              "      flex-wrap:wrap;\n",
              "      gap: 12px;\n",
              "    }\n",
              "\n",
              "    .colab-df-convert {\n",
              "      background-color: #E8F0FE;\n",
              "      border: none;\n",
              "      border-radius: 50%;\n",
              "      cursor: pointer;\n",
              "      display: none;\n",
              "      fill: #1967D2;\n",
              "      height: 32px;\n",
              "      padding: 0 0 0 0;\n",
              "      width: 32px;\n",
              "    }\n",
              "\n",
              "    .colab-df-convert:hover {\n",
              "      background-color: #E2EBFA;\n",
              "      box-shadow: 0px 1px 2px rgba(60, 64, 67, 0.3), 0px 1px 3px 1px rgba(60, 64, 67, 0.15);\n",
              "      fill: #174EA6;\n",
              "    }\n",
              "\n",
              "    [theme=dark] .colab-df-convert {\n",
              "      background-color: #3B4455;\n",
              "      fill: #D2E3FC;\n",
              "    }\n",
              "\n",
              "    [theme=dark] .colab-df-convert:hover {\n",
              "      background-color: #434B5C;\n",
              "      box-shadow: 0px 1px 3px 1px rgba(0, 0, 0, 0.15);\n",
              "      filter: drop-shadow(0px 1px 2px rgba(0, 0, 0, 0.3));\n",
              "      fill: #FFFFFF;\n",
              "    }\n",
              "  </style>\n",
              "\n",
              "      <script>\n",
              "        const buttonEl =\n",
              "          document.querySelector('#df-ee5651b0-6c80-4831-81f0-37e4acf5cafe button.colab-df-convert');\n",
              "        buttonEl.style.display =\n",
              "          google.colab.kernel.accessAllowed ? 'block' : 'none';\n",
              "\n",
              "        async function convertToInteractive(key) {\n",
              "          const element = document.querySelector('#df-ee5651b0-6c80-4831-81f0-37e4acf5cafe');\n",
              "          const dataTable =\n",
              "            await google.colab.kernel.invokeFunction('convertToInteractive',\n",
              "                                                     [key], {});\n",
              "          if (!dataTable) return;\n",
              "\n",
              "          const docLinkHtml = 'Like what you see? Visit the ' +\n",
              "            '<a target=\"_blank\" href=https://colab.research.google.com/notebooks/data_table.ipynb>data table notebook</a>'\n",
              "            + ' to learn more about interactive tables.';\n",
              "          element.innerHTML = '';\n",
              "          dataTable['output_type'] = 'display_data';\n",
              "          await google.colab.output.renderOutput(dataTable, element);\n",
              "          const docLink = document.createElement('div');\n",
              "          docLink.innerHTML = docLinkHtml;\n",
              "          element.appendChild(docLink);\n",
              "        }\n",
              "      </script>\n",
              "    </div>\n",
              "  </div>\n",
              "  "
            ]
          },
          "metadata": {},
          "execution_count": 408
        }
      ],
      "source": [
        "from bnlp.corpus import stopwords\n",
        "from bnlp.corpus.util import remove_stopwords\n",
        "\n",
        "data['Removed Stopped word'] = data['Lemmatizer'].apply(lambda x: remove_stopwords(x,stopwords))\n",
        "data.head(2)"
      ]
    },
    {
      "cell_type": "markdown",
      "source": [
        "### POS Tagging"
      ],
      "metadata": {
        "id": "Nc8GBBhSQjMq"
      }
    },
    {
      "cell_type": "code",
      "source": [
        "from bnltk.bnltk_downloads import DataFiles\n",
        "DataFiles().download()"
      ],
      "metadata": {
        "colab": {
          "base_uri": "https://localhost:8080/"
        },
        "id": "CV3uaL9iQod2",
        "outputId": "81bb8fb9-d67d-4e9f-83c0-caba825d5f30"
      },
      "execution_count": 55,
      "outputs": [
        {
          "output_type": "stream",
          "name": "stdout",
          "text": [
            "Downloading....../bn_tagged_mod.txt\n",
            "[==================================================]\n",
            "Downloading....../keras_mlp_bangla.h5\n",
            "[==================================================]Done!\n"
          ]
        }
      ]
    },
    {
      "cell_type": "code",
      "source": [
        "from bnltk.pos_tagger import PosTagger\n",
        "\n",
        "p_tagger = PosTagger()    \n",
        "p_tagger.loader()\n",
        "#sentences = 'দুশ্চিন্তার কোন কারণই নাই'\n",
        "#print(p_tagger.tagger(sentences))"
      ],
      "metadata": {
        "id": "_cdQ3h1QQoM5"
      },
      "execution_count": 56,
      "outputs": []
    },
    {
      "cell_type": "code",
      "source": [
        "data['pos_tagger'] = data['Removed Garbage'].apply(lambda x:p_tagger.tagger(x))"
      ],
      "metadata": {
        "id": "vNAq0ZlfQnwc"
      },
      "execution_count": 409,
      "outputs": []
    },
    {
      "cell_type": "code",
      "source": [
        "data.head(1)"
      ],
      "metadata": {
        "id": "36SRUeVBQ6zF",
        "colab": {
          "base_uri": "https://localhost:8080/",
          "height": 229
        },
        "outputId": "a89919c0-39a3-4024-d33f-6f3f6d7f0b3c"
      },
      "execution_count": 410,
      "outputs": [
        {
          "output_type": "execute_result",
          "data": {
            "text/plain": [
              "                                                Text  Label  length  \\\n",
              "0  Dear God,🙄🙄🙄🙄  ঠিক ততোটা দূরে যেতে চাই যতোটা দ...      1      79   \n",
              "\n",
              "                                 Removed Puncutation  \\\n",
              "0  Dear God🙄🙄🙄🙄  ঠিক ততোটা দূরে যেতে চাই যতোটা দূ...   \n",
              "\n",
              "                                     Removed Garbage  \\\n",
              "0  ঠিক ততোটা দূরে যেতে চাই যতোটা দূরে গেলে আর ফির...   \n",
              "\n",
              "                                           Tokenizer  \\\n",
              "0  [ঠিক, ততোটা, দূরে, যেতে, চাই, যতোটা, দূরে, গেল...   \n",
              "\n",
              "                                             Stemmed  \\\n",
              "0  [ঠিক, ততো, দূরে, যেত, চাই, যতো, দূরে, গাল, আর,...   \n",
              "\n",
              "                                          Lemmatizer  \\\n",
              "0  ঠিক ততোটা দূরে যেতে চাই যতোটা দূরে গেলে আর ফির...   \n",
              "\n",
              "                           Removed Stopped word  \\\n",
              "0  [ততোটা, দূরে, চাই, যতোটা, দূরে, আসা, যায়না]   \n",
              "\n",
              "                                          pos_tagger  \n",
              "0  [(ঠিক, AMN), (ততোটা, JQ), (দূরে, NST), (যেতে, ...  "
            ],
            "text/html": [
              "\n",
              "  <div id=\"df-3be58dbd-b770-469c-b364-f036ea9f07d7\">\n",
              "    <div class=\"colab-df-container\">\n",
              "      <div>\n",
              "<style scoped>\n",
              "    .dataframe tbody tr th:only-of-type {\n",
              "        vertical-align: middle;\n",
              "    }\n",
              "\n",
              "    .dataframe tbody tr th {\n",
              "        vertical-align: top;\n",
              "    }\n",
              "\n",
              "    .dataframe thead th {\n",
              "        text-align: right;\n",
              "    }\n",
              "</style>\n",
              "<table border=\"1\" class=\"dataframe\">\n",
              "  <thead>\n",
              "    <tr style=\"text-align: right;\">\n",
              "      <th></th>\n",
              "      <th>Text</th>\n",
              "      <th>Label</th>\n",
              "      <th>length</th>\n",
              "      <th>Removed Puncutation</th>\n",
              "      <th>Removed Garbage</th>\n",
              "      <th>Tokenizer</th>\n",
              "      <th>Stemmed</th>\n",
              "      <th>Lemmatizer</th>\n",
              "      <th>Removed Stopped word</th>\n",
              "      <th>pos_tagger</th>\n",
              "    </tr>\n",
              "  </thead>\n",
              "  <tbody>\n",
              "    <tr>\n",
              "      <th>0</th>\n",
              "      <td>Dear God,🙄🙄🙄🙄  ঠিক ততোটা দূরে যেতে চাই যতোটা দ...</td>\n",
              "      <td>1</td>\n",
              "      <td>79</td>\n",
              "      <td>Dear God🙄🙄🙄🙄  ঠিক ততোটা দূরে যেতে চাই যতোটা দূ...</td>\n",
              "      <td>ঠিক ততোটা দূরে যেতে চাই যতোটা দূরে গেলে আর ফির...</td>\n",
              "      <td>[ঠিক, ততোটা, দূরে, যেতে, চাই, যতোটা, দূরে, গেল...</td>\n",
              "      <td>[ঠিক, ততো, দূরে, যেত, চাই, যতো, দূরে, গাল, আর,...</td>\n",
              "      <td>ঠিক ততোটা দূরে যেতে চাই যতোটা দূরে গেলে আর ফির...</td>\n",
              "      <td>[ততোটা, দূরে, চাই, যতোটা, দূরে, আসা, যায়না]</td>\n",
              "      <td>[(ঠিক, AMN), (ততোটা, JQ), (দূরে, NST), (যেতে, ...</td>\n",
              "    </tr>\n",
              "  </tbody>\n",
              "</table>\n",
              "</div>\n",
              "      <button class=\"colab-df-convert\" onclick=\"convertToInteractive('df-3be58dbd-b770-469c-b364-f036ea9f07d7')\"\n",
              "              title=\"Convert this dataframe to an interactive table.\"\n",
              "              style=\"display:none;\">\n",
              "        \n",
              "  <svg xmlns=\"http://www.w3.org/2000/svg\" height=\"24px\"viewBox=\"0 0 24 24\"\n",
              "       width=\"24px\">\n",
              "    <path d=\"M0 0h24v24H0V0z\" fill=\"none\"/>\n",
              "    <path d=\"M18.56 5.44l.94 2.06.94-2.06 2.06-.94-2.06-.94-.94-2.06-.94 2.06-2.06.94zm-11 1L8.5 8.5l.94-2.06 2.06-.94-2.06-.94L8.5 2.5l-.94 2.06-2.06.94zm10 10l.94 2.06.94-2.06 2.06-.94-2.06-.94-.94-2.06-.94 2.06-2.06.94z\"/><path d=\"M17.41 7.96l-1.37-1.37c-.4-.4-.92-.59-1.43-.59-.52 0-1.04.2-1.43.59L10.3 9.45l-7.72 7.72c-.78.78-.78 2.05 0 2.83L4 21.41c.39.39.9.59 1.41.59.51 0 1.02-.2 1.41-.59l7.78-7.78 2.81-2.81c.8-.78.8-2.07 0-2.86zM5.41 20L4 18.59l7.72-7.72 1.47 1.35L5.41 20z\"/>\n",
              "  </svg>\n",
              "      </button>\n",
              "      \n",
              "  <style>\n",
              "    .colab-df-container {\n",
              "      display:flex;\n",
              "      flex-wrap:wrap;\n",
              "      gap: 12px;\n",
              "    }\n",
              "\n",
              "    .colab-df-convert {\n",
              "      background-color: #E8F0FE;\n",
              "      border: none;\n",
              "      border-radius: 50%;\n",
              "      cursor: pointer;\n",
              "      display: none;\n",
              "      fill: #1967D2;\n",
              "      height: 32px;\n",
              "      padding: 0 0 0 0;\n",
              "      width: 32px;\n",
              "    }\n",
              "\n",
              "    .colab-df-convert:hover {\n",
              "      background-color: #E2EBFA;\n",
              "      box-shadow: 0px 1px 2px rgba(60, 64, 67, 0.3), 0px 1px 3px 1px rgba(60, 64, 67, 0.15);\n",
              "      fill: #174EA6;\n",
              "    }\n",
              "\n",
              "    [theme=dark] .colab-df-convert {\n",
              "      background-color: #3B4455;\n",
              "      fill: #D2E3FC;\n",
              "    }\n",
              "\n",
              "    [theme=dark] .colab-df-convert:hover {\n",
              "      background-color: #434B5C;\n",
              "      box-shadow: 0px 1px 3px 1px rgba(0, 0, 0, 0.15);\n",
              "      filter: drop-shadow(0px 1px 2px rgba(0, 0, 0, 0.3));\n",
              "      fill: #FFFFFF;\n",
              "    }\n",
              "  </style>\n",
              "\n",
              "      <script>\n",
              "        const buttonEl =\n",
              "          document.querySelector('#df-3be58dbd-b770-469c-b364-f036ea9f07d7 button.colab-df-convert');\n",
              "        buttonEl.style.display =\n",
              "          google.colab.kernel.accessAllowed ? 'block' : 'none';\n",
              "\n",
              "        async function convertToInteractive(key) {\n",
              "          const element = document.querySelector('#df-3be58dbd-b770-469c-b364-f036ea9f07d7');\n",
              "          const dataTable =\n",
              "            await google.colab.kernel.invokeFunction('convertToInteractive',\n",
              "                                                     [key], {});\n",
              "          if (!dataTable) return;\n",
              "\n",
              "          const docLinkHtml = 'Like what you see? Visit the ' +\n",
              "            '<a target=\"_blank\" href=https://colab.research.google.com/notebooks/data_table.ipynb>data table notebook</a>'\n",
              "            + ' to learn more about interactive tables.';\n",
              "          element.innerHTML = '';\n",
              "          dataTable['output_type'] = 'display_data';\n",
              "          await google.colab.output.renderOutput(dataTable, element);\n",
              "          const docLink = document.createElement('div');\n",
              "          docLink.innerHTML = docLinkHtml;\n",
              "          element.appendChild(docLink);\n",
              "        }\n",
              "      </script>\n",
              "    </div>\n",
              "  </div>\n",
              "  "
            ]
          },
          "metadata": {},
          "execution_count": 410
        }
      ]
    },
    {
      "cell_type": "markdown",
      "metadata": {
        "id": "iBVa_0Ag_SsX"
      },
      "source": [
        "### Sentence"
      ]
    },
    {
      "cell_type": "code",
      "execution_count": 412,
      "metadata": {
        "colab": {
          "base_uri": "https://localhost:8080/",
          "height": 347
        },
        "id": "nBEaoD1GtS6c",
        "outputId": "39ec18a6-03e1-4774-dd88-3956d5fd5fd3"
      },
      "outputs": [
        {
          "output_type": "execute_result",
          "data": {
            "text/plain": [
              "                                                Text  Label  length  \\\n",
              "0  Dear God,🙄🙄🙄🙄  ঠিক ততোটা দূরে যেতে চাই যতোটা দ...      1      79   \n",
              "1  পরিবর্তন তখনই আসে.....যখন আপনার কাছে অনেক টাকা...      1     145   \n",
              "\n",
              "                                 Removed Puncutation  \\\n",
              "0  Dear God🙄🙄🙄🙄  ঠিক ততোটা দূরে যেতে চাই যতোটা দূ...   \n",
              "1  পরিবর্তন তখনই আসেযখন আপনার কাছে অনেক টাকা থাকে...   \n",
              "\n",
              "                                     Removed Garbage  \\\n",
              "0  ঠিক ততোটা দূরে যেতে চাই যতোটা দূরে গেলে আর ফির...   \n",
              "1  পরিবর্তন তখনই আসেযখন আপনার কাছে অনেক টাকা থাকে...   \n",
              "\n",
              "                                           Tokenizer  \\\n",
              "0  [ঠিক, ততোটা, দূরে, যেতে, চাই, যতোটা, দূরে, গেল...   \n",
              "1  [পরিবর্তন, তখনই, আসেযখন, আপনার, কাছে, অনেক, টা...   \n",
              "\n",
              "                                             Stemmed  \\\n",
              "0  [ঠিক, ততো, দূরে, যেত, চাই, যতো, দূরে, গাল, আর,...   \n",
              "1  [পরিবর্তন, তখন, আসেযখন, আপন, কাছ, অনেক, টাকা, ...   \n",
              "\n",
              "                                          Lemmatizer  \\\n",
              "0  ঠিক ততোটা দূরে যেতে চাই যতোটা দূরে গেলে আর ফির...   \n",
              "1  পরিবর্তন তখনই আসেযখন আপনার কাছে অনেক টাকা থাকে...   \n",
              "\n",
              "                                Removed Stopped word  \\\n",
              "0       [ততোটা, দূরে, চাই, যতোটা, দূরে, আসা, যায়না]   \n",
              "1  [পরিবর্তন, তখনই, আসেযখন, টাকা, একা, বোধ, করেনঅ...   \n",
              "\n",
              "                                          pos_tagger  \\\n",
              "0  [(ঠিক, AMN), (ততোটা, JQ), (দূরে, NST), (যেতে, ...   \n",
              "1  [(পরিবর্তন, NC), (তখনই, ALC), (আসেযখন, VM), (আ...   \n",
              "\n",
              "                                            sentence  \n",
              "0  ঠিক ততো দূরে যেত চাই যতো দূরে গাল আর ফিরে আসা ...  \n",
              "1  পরিবর্তন তখন আসেযখন আপন কাছ অনেক টাকা থাক না ব...  "
            ],
            "text/html": [
              "\n",
              "  <div id=\"df-d3b84c28-631a-4434-95a2-4bca21094f8f\">\n",
              "    <div class=\"colab-df-container\">\n",
              "      <div>\n",
              "<style scoped>\n",
              "    .dataframe tbody tr th:only-of-type {\n",
              "        vertical-align: middle;\n",
              "    }\n",
              "\n",
              "    .dataframe tbody tr th {\n",
              "        vertical-align: top;\n",
              "    }\n",
              "\n",
              "    .dataframe thead th {\n",
              "        text-align: right;\n",
              "    }\n",
              "</style>\n",
              "<table border=\"1\" class=\"dataframe\">\n",
              "  <thead>\n",
              "    <tr style=\"text-align: right;\">\n",
              "      <th></th>\n",
              "      <th>Text</th>\n",
              "      <th>Label</th>\n",
              "      <th>length</th>\n",
              "      <th>Removed Puncutation</th>\n",
              "      <th>Removed Garbage</th>\n",
              "      <th>Tokenizer</th>\n",
              "      <th>Stemmed</th>\n",
              "      <th>Lemmatizer</th>\n",
              "      <th>Removed Stopped word</th>\n",
              "      <th>pos_tagger</th>\n",
              "      <th>sentence</th>\n",
              "    </tr>\n",
              "  </thead>\n",
              "  <tbody>\n",
              "    <tr>\n",
              "      <th>0</th>\n",
              "      <td>Dear God,🙄🙄🙄🙄  ঠিক ততোটা দূরে যেতে চাই যতোটা দ...</td>\n",
              "      <td>1</td>\n",
              "      <td>79</td>\n",
              "      <td>Dear God🙄🙄🙄🙄  ঠিক ততোটা দূরে যেতে চাই যতোটা দূ...</td>\n",
              "      <td>ঠিক ততোটা দূরে যেতে চাই যতোটা দূরে গেলে আর ফির...</td>\n",
              "      <td>[ঠিক, ততোটা, দূরে, যেতে, চাই, যতোটা, দূরে, গেল...</td>\n",
              "      <td>[ঠিক, ততো, দূরে, যেত, চাই, যতো, দূরে, গাল, আর,...</td>\n",
              "      <td>ঠিক ততোটা দূরে যেতে চাই যতোটা দূরে গেলে আর ফির...</td>\n",
              "      <td>[ততোটা, দূরে, চাই, যতোটা, দূরে, আসা, যায়না]</td>\n",
              "      <td>[(ঠিক, AMN), (ততোটা, JQ), (দূরে, NST), (যেতে, ...</td>\n",
              "      <td>ঠিক ততো দূরে যেত চাই যতো দূরে গাল আর ফিরে আসা ...</td>\n",
              "    </tr>\n",
              "    <tr>\n",
              "      <th>1</th>\n",
              "      <td>পরিবর্তন তখনই আসে.....যখন আপনার কাছে অনেক টাকা...</td>\n",
              "      <td>1</td>\n",
              "      <td>145</td>\n",
              "      <td>পরিবর্তন তখনই আসেযখন আপনার কাছে অনেক টাকা থাকে...</td>\n",
              "      <td>পরিবর্তন তখনই আসেযখন আপনার কাছে অনেক টাকা থাকে...</td>\n",
              "      <td>[পরিবর্তন, তখনই, আসেযখন, আপনার, কাছে, অনেক, টা...</td>\n",
              "      <td>[পরিবর্তন, তখন, আসেযখন, আপন, কাছ, অনেক, টাকা, ...</td>\n",
              "      <td>পরিবর্তন তখনই আসেযখন আপনার কাছে অনেক টাকা থাকে...</td>\n",
              "      <td>[পরিবর্তন, তখনই, আসেযখন, টাকা, একা, বোধ, করেনঅ...</td>\n",
              "      <td>[(পরিবর্তন, NC), (তখনই, ALC), (আসেযখন, VM), (আ...</td>\n",
              "      <td>পরিবর্তন তখন আসেযখন আপন কাছ অনেক টাকা থাক না ব...</td>\n",
              "    </tr>\n",
              "  </tbody>\n",
              "</table>\n",
              "</div>\n",
              "      <button class=\"colab-df-convert\" onclick=\"convertToInteractive('df-d3b84c28-631a-4434-95a2-4bca21094f8f')\"\n",
              "              title=\"Convert this dataframe to an interactive table.\"\n",
              "              style=\"display:none;\">\n",
              "        \n",
              "  <svg xmlns=\"http://www.w3.org/2000/svg\" height=\"24px\"viewBox=\"0 0 24 24\"\n",
              "       width=\"24px\">\n",
              "    <path d=\"M0 0h24v24H0V0z\" fill=\"none\"/>\n",
              "    <path d=\"M18.56 5.44l.94 2.06.94-2.06 2.06-.94-2.06-.94-.94-2.06-.94 2.06-2.06.94zm-11 1L8.5 8.5l.94-2.06 2.06-.94-2.06-.94L8.5 2.5l-.94 2.06-2.06.94zm10 10l.94 2.06.94-2.06 2.06-.94-2.06-.94-.94-2.06-.94 2.06-2.06.94z\"/><path d=\"M17.41 7.96l-1.37-1.37c-.4-.4-.92-.59-1.43-.59-.52 0-1.04.2-1.43.59L10.3 9.45l-7.72 7.72c-.78.78-.78 2.05 0 2.83L4 21.41c.39.39.9.59 1.41.59.51 0 1.02-.2 1.41-.59l7.78-7.78 2.81-2.81c.8-.78.8-2.07 0-2.86zM5.41 20L4 18.59l7.72-7.72 1.47 1.35L5.41 20z\"/>\n",
              "  </svg>\n",
              "      </button>\n",
              "      \n",
              "  <style>\n",
              "    .colab-df-container {\n",
              "      display:flex;\n",
              "      flex-wrap:wrap;\n",
              "      gap: 12px;\n",
              "    }\n",
              "\n",
              "    .colab-df-convert {\n",
              "      background-color: #E8F0FE;\n",
              "      border: none;\n",
              "      border-radius: 50%;\n",
              "      cursor: pointer;\n",
              "      display: none;\n",
              "      fill: #1967D2;\n",
              "      height: 32px;\n",
              "      padding: 0 0 0 0;\n",
              "      width: 32px;\n",
              "    }\n",
              "\n",
              "    .colab-df-convert:hover {\n",
              "      background-color: #E2EBFA;\n",
              "      box-shadow: 0px 1px 2px rgba(60, 64, 67, 0.3), 0px 1px 3px 1px rgba(60, 64, 67, 0.15);\n",
              "      fill: #174EA6;\n",
              "    }\n",
              "\n",
              "    [theme=dark] .colab-df-convert {\n",
              "      background-color: #3B4455;\n",
              "      fill: #D2E3FC;\n",
              "    }\n",
              "\n",
              "    [theme=dark] .colab-df-convert:hover {\n",
              "      background-color: #434B5C;\n",
              "      box-shadow: 0px 1px 3px 1px rgba(0, 0, 0, 0.15);\n",
              "      filter: drop-shadow(0px 1px 2px rgba(0, 0, 0, 0.3));\n",
              "      fill: #FFFFFF;\n",
              "    }\n",
              "  </style>\n",
              "\n",
              "      <script>\n",
              "        const buttonEl =\n",
              "          document.querySelector('#df-d3b84c28-631a-4434-95a2-4bca21094f8f button.colab-df-convert');\n",
              "        buttonEl.style.display =\n",
              "          google.colab.kernel.accessAllowed ? 'block' : 'none';\n",
              "\n",
              "        async function convertToInteractive(key) {\n",
              "          const element = document.querySelector('#df-d3b84c28-631a-4434-95a2-4bca21094f8f');\n",
              "          const dataTable =\n",
              "            await google.colab.kernel.invokeFunction('convertToInteractive',\n",
              "                                                     [key], {});\n",
              "          if (!dataTable) return;\n",
              "\n",
              "          const docLinkHtml = 'Like what you see? Visit the ' +\n",
              "            '<a target=\"_blank\" href=https://colab.research.google.com/notebooks/data_table.ipynb>data table notebook</a>'\n",
              "            + ' to learn more about interactive tables.';\n",
              "          element.innerHTML = '';\n",
              "          dataTable['output_type'] = 'display_data';\n",
              "          await google.colab.output.renderOutput(dataTable, element);\n",
              "          const docLink = document.createElement('div');\n",
              "          docLink.innerHTML = docLinkHtml;\n",
              "          element.appendChild(docLink);\n",
              "        }\n",
              "      </script>\n",
              "    </div>\n",
              "  </div>\n",
              "  "
            ]
          },
          "metadata": {},
          "execution_count": 412
        }
      ],
      "source": [
        "data['sentence']=data['Stemmed'].apply(' '.join)\n",
        "data.head(2)"
      ]
    },
    {
      "cell_type": "code",
      "execution_count": 413,
      "metadata": {
        "colab": {
          "base_uri": "https://localhost:8080/"
        },
        "id": "2hwUDGH__lO6",
        "outputId": "3187765e-094f-48d7-e54c-2fedacf23dba"
      },
      "outputs": [
        {
          "output_type": "stream",
          "name": "stdout",
          "text": [
            "Dear God,🙄🙄🙄🙄  ঠিক ততোটা দূরে যেতে চাই যতোটা দূরে গেলে আর ফিরে আসা যায়না। 🙄🙄🙄🙄\n"
          ]
        }
      ],
      "source": [
        "print(data[\"Text\"][0])"
      ]
    },
    {
      "cell_type": "code",
      "execution_count": 414,
      "metadata": {
        "colab": {
          "base_uri": "https://localhost:8080/"
        },
        "id": "G3RuJ_5l3tId",
        "outputId": "724bba9c-e942-437d-8f14-e19d2d9d5f0c"
      },
      "outputs": [
        {
          "output_type": "stream",
          "name": "stdout",
          "text": [
            "ঠিক ততো দূরে যেত চাই যতো দূরে গাল আর ফিরে আসা যায়না\n"
          ]
        }
      ],
      "source": [
        "print(data[\"sentence\"][0])"
      ]
    },
    {
      "cell_type": "markdown",
      "source": [
        "# STEP #4: COUNT VECTORIZER"
      ],
      "metadata": {
        "id": "zswwRx643rbl"
      }
    },
    {
      "cell_type": "markdown",
      "metadata": {
        "id": "qVKh2baX3tCo"
      },
      "source": [
        "### APPLY COUNT VECTORIZER"
      ]
    },
    {
      "cell_type": "code",
      "execution_count": 415,
      "metadata": {
        "id": "eBsEdd7p3s_2"
      },
      "outputs": [],
      "source": [
        "from sklearn.feature_extraction.text import CountVectorizer\n",
        "# Define the cleaning pipeline we defined earlier\n",
        "vectorizer = CountVectorizer()"
      ]
    },
    {
      "cell_type": "code",
      "execution_count": 416,
      "metadata": {
        "id": "GndH56LB3s8o"
      },
      "outputs": [],
      "source": [
        "depressed_countvectorizer = vectorizer.fit_transform(data['sentence'])"
      ]
    },
    {
      "cell_type": "code",
      "execution_count": 417,
      "metadata": {
        "colab": {
          "base_uri": "https://localhost:8080/"
        },
        "id": "0n5VHQR-3s5m",
        "outputId": "6880653d-f298-4a7a-c55b-cafe34a6bfcc"
      },
      "outputs": [
        {
          "output_type": "stream",
          "name": "stdout",
          "text": [
            "['অক', 'অকট', 'অগ', 'অঙ', 'অচ', 'অজ', 'অজনপ', 'অজস', 'অঝ', 'অট', 'অটল', 'অড', 'অত', 'অতপর', 'অথ', 'অথচ', 'অথব', 'অদ', 'অধ', 'অধম', 'অন', 'অনন', 'অনর', 'অনল', 'অনস', 'অপ', 'অপচ', 'অপচয়', 'অপছন', 'অপম', 'অপর', 'অপরজন', 'অপশন', 'অফ', 'অব', 'অবক', 'অবত', 'অবদ', 'অবধ', 'অবনত', 'অবয', 'অবল', 'অবশ', 'অবস', 'অবসর', 'অবহ', 'অভ', 'অভদ', 'অম', 'অয', 'অযত', 'অর', 'অল', 'অলওয়', 'অলক', 'অলম', 'অশ', 'অষ', 'অস', 'অসন', 'অসভ', 'অসম', 'অসময়', 'অসহ', 'অসহন', 'অহ', 'অহন', 'আই', 'আইকন', 'আইজক', 'আইড', 'আইন', 'আইস', 'আইসক', 'আইয়', 'আওয়', 'আক', 'আকন', 'আকর', 'আকষ', 'আগ', 'আগমন', 'আগল', 'আঘ', 'আঙ', 'আচ', 'আচমক', 'আচরণ', 'আচরণস', 'আচরন', 'আছ', 'আজ', 'আজক', 'আজন', 'আজব', 'আজর', 'আট', 'আটক', 'আড', 'আত', 'আতত', 'আতশ', 'আথচ', 'আদ', 'আদর', 'আধ', 'আন', 'আনছ', 'আনন', 'আনমন', 'আনল', 'আপ', 'আপন', 'আপনজন', 'আপম', 'আপল', 'আফস', 'আব', 'আবছ', 'আবদ', 'আবর', 'আবশ', 'আবস', 'আবহ', 'আভ', 'আম', 'আমত', 'আমন', 'আমর', 'আমল', 'আয', 'আযহ', 'আর', 'আরক', 'আরন', 'আরপ', 'আরব', 'আরম', 'আরর', 'আল', 'আলট', 'আলদ', 'আলম', 'আলহ', 'আশ', 'আশক', 'আশঙ', 'আষ', 'আস', 'আসক', 'আসছ', 'আসত', 'আসন', 'আসব', 'আসম', 'আসর', 'আসল', 'আসস', 'আহ', 'আহআম', 'আহত', 'আহব', 'আহম', 'আড়', 'আয়', 'আয়ন', 'আয়রন', 'ইঅ', 'ইঅনল', 'ইঅপ', 'ইঅবশ', 'ইঅবহ', 'ইআক', 'ইআপন', 'ইআব', 'ইআম', 'ইআস', 'ইই', 'ইউ', 'ইউত', 'ইউতর', 'ইউর', 'ইএ', 'ইএই', 'ইএকব', 'ইএমন', 'ইওয়', 'ইক', 'ইকম', 'ইকষ', 'ইখ', 'ইগ', 'ইচ', 'ইচল', 'ইছ', 'ইজ', 'ইজন', 'ইজনয', 'ইঞ', 'ইট', 'ইটস', 'ইড', 'ইত', 'ইতত', 'ইতব', 'ইথ', 'ইদ', 'ইধর', 'ইধরণ', 'ইন', 'ইনক', 'ইনজ', 'ইনফ', 'ইনবক', 'ইনশ', 'ইপ', 'ইফ', 'ইব', 'ইবন', 'ইভ', 'ইম', 'ইমল', 'ইয', 'ইযদ', 'ইর', 'ইল', 'ইলড', 'ইশ', 'ইষ', 'ইস', 'ইসব', 'ইসম', 'ইসল', 'ইহ', 'ইড়', 'ইয়', 'ঈদ', 'ঈদউদআযহ', 'ঈদউলফ', 'ঈম', 'ঈশ', 'উআম', 'উইন', 'উইশ', 'উওরআশ', 'উক', 'উচ', 'উছ', 'উজ', 'উট', 'উঠ', 'উঠছ', 'উঠব', 'উঠল', 'উড', 'উত', 'উতসকল', 'উদ', 'উদয', 'উদয়', 'উন', 'উনত', 'উপ', 'উপগ', 'উপজ', 'উপদ', 'উপন', 'উপভ', 'উপয', 'উপর', 'উপলক', 'উপলদ', 'উপলব', 'উপস', 'উপহ', 'উব', 'উভয', 'উম', 'উময', 'উযখন', 'উর', 'উল', 'উষ', 'উস', 'উহ', 'উৎক', 'উৎকণ', 'উৎপত', 'উৎয', 'উৎর', 'উৎস', 'উৎসপ', 'উৎসব', 'উড়', 'ঊষ', 'ঋণ', 'এআম', 'এই', 'এইখ', 'এইট', 'এইড', 'এইত', 'এইদ', 'এইব', 'এইভ', 'এইয', 'এইরকম', 'এইসব', 'এও', 'এক', 'একক', 'একজ', 'একজন', 'একজনয', 'একট', 'একথ', 'একদ', 'একদম', 'একদল', 'একধরন', 'একপ', 'একব', 'একম', 'একর', 'একরকম', 'একল', 'একশ', 'একস', 'একসঙ', 'একসময', 'একসময়', 'এখ', 'এখন', 'এখনক', 'এগ', 'এজন', 'এট', 'এড', 'এত', 'এতট', 'এদ', 'এন', 'এনএসআ', 'এনজয', 'এপ', 'এফআ', 'এব', 'এভ', 'এম', 'এমতবস', 'এমন', 'এমনক', 'এমনট', 'এমনভ', 'এমনহচ', 'এর', 'এরকম', 'এরচ', 'এরপর', 'এল', 'এস', 'এসএমএস', 'এসব', 'এসস', 'এড়', 'এয়', 'ঐই', 'ঐক', 'ঐখ', 'ঐট', 'ঐত', 'ওঅপ', 'ওঅব', 'ওআজ', 'ওআম', 'ওই', 'ওএভ', 'ওএমআর', 'ওক', 'ওকল', 'ওখ', 'ওগ', 'ওজন', 'ওট', 'ওঠ', 'ওত', 'ওদ', 'ওন', 'ওপ', 'ওপর', 'ওব', 'ওভ', 'ওম', 'ওয', 'ওর', 'ওরন', 'ওল', 'ওশ', 'ওষ', 'ওস', 'ওসম', 'ওহ', 'ওড়', 'ওয়', 'ওয়ন', 'ঔষধ', 'কআপ', 'কআম', 'কই', 'কইআম', 'কইএকজন', 'কইত', 'কইভ', 'কইযত', 'কইর', 'কএই', 'কওয়', 'কক', 'কখ', 'কখন', 'কগ', 'কঘন', 'কচ', 'কচল', 'কছ', 'কজ', 'কজন', 'কট', 'কটক', 'কটস', 'কঠ', 'কড', 'কঢ', 'কণ', 'কত', 'কতআম', 'কতইন', 'কতক', 'কতখ', 'কতজন', 'কতট', 'কতদ', 'কতয', 'কতর', 'কতশত', 'কথ', 'কদ', 'কদর', 'কন', 'কনগ', 'কনফ', 'কপ', 'কফ', 'কব', 'কবর', 'কবরস', 'কবল', 'কভ', 'কম', 'কমপ', 'কমপক', 'কয', 'কর', 'করছ', 'করণ', 'করত', 'করব', 'করবআম', 'করভ', 'করল', 'কল', 'কলক', 'কলন', 'কলনআম', 'কলহ', 'কশ', 'কশন', 'কষ', 'কস', 'কসন', 'কসম', 'কহ', 'কড়', 'কয়', 'খক', 'খছ', 'খজনক', 'খঞ', 'খণ', 'খত', 'খন', 'খব', 'খবর', 'খবশ', 'খভর', 'খয', 'খর', 'খরচ', 'খল', 'খলন', 'খস', 'গঅন', 'গঅপব', 'গছ', 'গজ', 'গঠন', 'গড', 'গণ', 'গণগ', 'গত', 'গতক', 'গতবছর', 'গতর', 'গদ', 'গন', 'গপ', 'গফ', 'গব', 'গভ', 'গম', 'গর', 'গরম', 'গল', 'গলন', 'গস', 'গহ', 'গড়', 'গড়ম', 'ঘক', 'ঘট', 'ঘটক', 'ঘটন', 'ঘটব', 'ঘটল', 'ঘণ', 'ঘদ', 'ঘন', 'ঘনঘন', 'ঘর', 'ঘরয', 'ঘরসহ', 'ঘল', 'ঘশ', 'ঘষ', 'ঘড়', 'চক', 'চকচ', 'চকত', 'চকর', 'চছ', 'চড', 'চত', 'চতর', 'চন', 'চব', 'চমৎক', 'চয', 'চর', 'চরম', 'চল', 'চলচ', 'চলছ', 'চলত', 'চলব', 'চলল', 'চশ', 'চস', 'চহ', 'চড়', 'চয়', 'চয়ত', 'চয়হ', 'ছক', 'ছট', 'ছটপট', 'ছড', 'ছত', 'ছতল', 'ছদ', 'ছন', 'ছব', 'ছর', 'ছল', 'ছলন', 'ছস', 'ছড়', 'ছয়', 'জআম', 'জএ', 'জক', 'জকন', 'জকর', 'জকল', 'জগ', 'জগত', 'জগর', 'জগৎ', 'জঘন', 'জট', 'জড', 'জত', 'জতব', 'জদ', 'জধ', 'জন', 'জনক', 'জনকল', 'জনগন', 'জনত', 'জনপ', 'জনম', 'জনমন', 'জনশ', 'জনস', 'জনসন', 'জনহ', 'জপ', 'জব', 'জম', 'জমজম', 'জমল', 'জয', 'জর', 'জরজরস', 'জল', 'জলদ', 'জলপ', 'জশ', 'জড়', 'জয়', 'জয়শ', 'ঝকঝ', 'ঝগড', 'ঝগড়', 'ঝড', 'ঝত', 'ঝন', 'ঝপথ', 'ঝব', 'ঝর', 'ঝল', 'ঞত', 'ঞপ', 'টআম', 'টএ', 'টএভ', 'টওয়', 'টক', 'টকর', 'টকষ', 'টখ', 'টগবগ', 'টগর', 'টঘ', 'টচ', 'টছ', 'টজ', 'টত', 'টদ', 'টন', 'টপ', 'টপটপ', 'টপদ', 'টপস', 'টফ', 'টফর', 'টব', 'টবল', 'টম', 'টয', 'টর', 'টরব', 'টল', 'টশ', 'টস', 'টহ', 'টহচ', 'টয়ল', 'ট২০', 'ঠক', 'ঠকল', 'ঠগ', 'ঠগড়', 'ঠস', 'ঠহ', 'ডত', 'ডন', 'ডব', 'ডভন', 'ডমসব', 'ডল', 'ডস', 'ণক', 'ণকর', 'ণগঞ', 'ণঝ', 'ণত', 'ণন', 'ণভ', 'ণভর', 'ণসম', 'ণহ', 'তআজ', 'তআম', 'তআল', 'তক', 'তকত', 'তকষ', 'তখন', 'তছনছ', 'তজ', 'তড', 'তত', 'ততক', 'ততট', 'ততদ', 'তথ', 'তদ', 'তদন', 'তন', 'তনত', 'তনস', 'তপ', 'তপক', 'তফ', 'তব', 'তবত', 'তবব', 'তবম', 'তবড়', 'তবয়স', 'তভ', 'তম', 'তময', 'তযদ', 'তর', 'তরক', 'তরফ', 'তল', 'তলআর', 'তলক', 'তশ', 'তহ', 'তড়', 'তয়', 'থক', 'থকব', 'থগ', 'থত', 'থন', 'থপর', 'থভ', 'থম', 'থমথম', 'থর', 'থল', 'থশ', 'থহ', 'থৱ', 'দই', 'দএক', 'দক', 'দখ', 'দখল', 'দচল', 'দছ', 'দট', 'দণ', 'দদ', 'দধন', 'দন', 'দনশ', 'দপ', 'দম', 'দময', 'দয', 'দর', 'দরক', 'দরখ', 'দরজ', 'দরত', 'দরন', 'দল', 'দশ', 'দশক', 'দহ', 'দয়', 'ধঅন', 'ধক', 'ধকত', 'ধগত', 'ধত', 'ধন', 'ধনখ', 'ধব', 'ধম', 'ধর', 'ধরত', 'ধরন', 'ধরল', 'ধল', 'ধশক', 'ধশত', 'ধহয', 'ধহয়', 'নঅগ', 'নঅন', 'নঅর', 'নআজ', 'নআপন', 'নআম', 'নআর', 'নআল', 'নআহম', 'নই', 'নইআম', 'নইত', 'নইতব', 'নইন', 'নইল', 'নএত', 'নএব', 'নক', 'নকল', 'নকশ', 'নখ', 'নখদর', 'নগ', 'নগর', 'নছ', 'নজ', 'নজট', 'নজন', 'নজনক', 'নজর', 'নড', 'নত', 'নতব', 'নতম', 'নথ', 'নদ', 'নদণ', 'নন', 'ননপ', 'নপ', 'নব', 'নবক', 'নবত', 'নববর', 'নবলল', 'নভ', 'নম', 'নয', 'নযদ', 'নর', 'নরক', 'নরকম', 'নরম', 'নল', 'নশ', 'নশন', 'নষ', 'নস', 'নসঠ', 'নসম', 'নসময়', 'নহত', 'নহন', 'নড়', 'নড়বড়', 'নয়', 'নয়অন', 'নয়আত', 'নয়এ', 'নয়চ', 'নয়তব', 'নয়ন', 'নয়প', 'নয়হ', 'পই', 'পইড়', 'পক', 'পকথ', 'পঙ', 'পচ', 'পছন', 'পজ', 'পট', 'পটব', 'পড', 'পণ', 'পত', 'পতন', 'পথ', 'পথচল', 'পদ', 'পদগ', 'পন', 'পপর', 'পব', 'পবত', 'পভ', 'পম', 'পমন', 'পয', 'পযন', 'পর', 'পরক', 'পরত', 'পরদ', 'পরপ', 'পরব', 'পরবর', 'পরম', 'পরয', 'পরশ', 'পরষ', 'পরসব', 'পল', 'পলক', 'পশ', 'পষ', 'পস', 'পহ', 'পহত', 'পড়', 'পড়ছ', 'পড়ন', 'পড়ব', 'পয়', 'পয়স', 'ফক', 'ফট', 'ফন', 'ফফ', 'ফয', 'ফর', 'ফরজ', 'ফল', 'ফলপ', 'ফস', 'বঅপ', 'বঅভ', 'বআর', 'বই', 'বইআম', 'বইত', 'বইপ', 'বইপত', 'বইয়', 'বউ', 'বউয়', 'বএক', 'বক', 'বছ', 'বছর', 'বজ', 'বজন', 'বঞ', 'বট', 'বড', 'বত', 'বদ', 'বদন', 'বদভ', 'বদম', 'বদল', 'বধ', 'বন', 'বনকষ', 'বনট', 'বনত', 'বনতব', 'বনধ', 'বননএকল', 'বননজ', 'বনভ', 'বনয', 'বপ', 'বব', 'ববন', 'বভ', 'বময', 'বয', 'বর', 'বরকত', 'বরণ', 'বরন', 'বরফ', 'বল', 'বলছ', 'বলত', 'বলব', 'বলম', 'বলল', 'বশ', 'বস', 'বসআম', 'বসত', 'বসন', 'বসব', 'বসল', 'বসলস', 'বহ', 'বহন', 'বহম', 'বড়', 'বড়জ', 'বয়', 'বয়ফ', 'বয়স', 'ভইদ', 'ভক', 'ভগব', 'ভঘ', 'ভদ', 'ভধ', 'ভন', 'ভব', 'ভবত', 'ভবন', 'ভয', 'ভর', 'ভরশ', 'ভরস', 'ভলব', 'ভৎস', 'ভয়', 'ভয়ঙ', 'মঅন', 'মআব', 'মইশ', 'মইস', 'মঈদ', 'মউইক', 'মউদ', 'মএকট', 'মএব', 'মও', 'মক', 'মকই', 'মকতট', 'মকর', 'মকরণ', 'মগজ', 'মগঞ', 'মগন', 'মগব', 'মচ', 'মছ', 'মজ', 'মজল', 'মঞ', 'মট', 'মঠ', 'মড', 'মত', 'মতআম', 'মতগল', 'মতন', 'মদ', 'মধ', 'মধন', 'মন', 'মনঅস', 'মনএত', 'মনক', 'মনট', 'মনড', 'মনদ', 'মনব', 'মনযতদ', 'মনস', 'মপ', 'মফ', 'মফল', 'মব', 'মভ', 'মম', 'মমত', 'মমনজ', 'ময', 'মযতট', 'মযদ', 'মর', 'মরণ', 'মরন', 'মল', 'মলম', 'মশ', 'মস', 'মসজ', 'মসম', 'মসমর', 'মসল', 'মহ', 'মহত', 'মহনন', 'মহল', 'মহড়', 'মড়', 'ময়', 'ময়মনস', 'যঅথচ', 'যআপন', 'যআম', 'যআল', 'যক', 'যকগ', 'যকম', 'যকর', 'যখন', 'যগ', 'যঙ', 'যজনক', 'যঞ', 'যট', 'যটক', 'যত', 'যতক', 'যতজন', 'যতট', 'যতদ', 'যতব', 'যতম', 'যথ', 'যদ', 'যধ', 'যন', 'যপ', 'যব', 'যবধ', 'যবস', 'যবহ', 'যভ', 'যম', 'যমণ', 'যমতত', 'যময়', 'যযন', 'যর', 'যরকম', 'যস', 'যসত', 'যসব', 'যহ', 'যৎ', 'যয়', 'রঅত', 'রঅন', 'রআজম', 'রআদ', 'রআন', 'রআপন', 'রআবদ', 'রআম', 'রআল', 'রআস', 'রই', 'রইল', 'রএ', 'রএকঘ', 'রএকজন', 'রএমন', 'রও', 'রওক', 'রক', 'রকম', 'রখর', 'রগ', 'রগত', 'রঙ', 'রচ', 'রচণ', 'রচন', 'রচলন', 'রছ', 'রজ', 'রজর', 'রট', 'রড', 'রণ', 'রণত', 'রণয', 'রত', 'রতখন', 'রতন', 'রতম', 'রতর', 'রথম', 'রথমত', 'রথমব', 'রদ', 'রদর', 'রধ', 'রন', 'রনআম', 'রনকষ', 'রনট', 'রপ', 'রপক', 'রপড', 'রপর', 'রপরআর', 'রপল', 'রফ', 'রফরম', 'রব', 'রবছর', 'রবণ', 'রবত', 'রবধ', 'রবল', 'রবলত', 'রবলব', 'রভ', 'রম', 'রমজ', 'রমণ', 'রমন', 'রমশ', 'রয', 'রযত', 'রর', 'ররকষ', 'রল', 'রশ', 'রস', 'রসঙ', 'রসন', 'রসমস', 'রসর', 'রহ', 'রহণ', 'রহণয', 'রহত', 'রহন', 'রহপ', 'রহম', 'রহমত', 'রহর', 'রহস', 'রয়', 'র২২', 'লই', 'লইয়', 'লএকদ', 'লক', 'লকত', 'লকন', 'লখ', 'লগ', 'লঙ', 'লচ', 'লছ', 'লজ', 'লঞ', 'লট', 'লড', 'লত', 'লতব', 'লতর', 'লথ', 'লদ', 'লন', 'লপ', 'লপর', 'লপল', 'লফ', 'লব', 'লভ', 'লম', 'লমন', 'লয', 'লল', 'লস', 'লহ', 'লড়', 'লয়', 'শক', 'শকত', 'শখ', 'শগ', 'শত', 'শতভ', 'শন', 'শপ', 'শপথ', 'শফ', 'শব', 'শবন', 'শভ', 'শয', 'শর', 'শরত', 'শরৎক', 'শল', 'শশ', 'শস', 'শহ', 'শহর', 'শহরতল', 'শহরর', 'শয়ত', 'ষআপন', 'ষআম', 'ষএ', 'ষক', 'ষগ', 'ষঘ', 'ষছয়তল', 'ষজন', 'ষট', 'ষণ', 'ষণব', 'ষণস', 'ষত', 'ষতব', 'ষন', 'ষপত', 'ষম', 'ষমআম', 'ষমত', 'ষয', 'ষযদ', 'ষর', 'ষশ', 'ষষ', 'ষস', 'ষহ', 'ষয়', 'ষয়ক', 'সঅব', 'সআম', 'সইক', 'সএক', 'সএকদ', 'সএখন', 'সক', 'সকল', 'সকলক', 'সকষ', 'সখ', 'সগ', 'সঘ', 'সঙ', 'সচ', 'সছ', 'সজ', 'সঞ', 'সট', 'সঠ', 'সড', 'সত', 'সতত', 'সদ', 'সদস', 'সন', 'সপ', 'সপত', 'সপন', 'সফ', 'সফর', 'সফল', 'সফলত', 'সব', 'সবআম', 'সবক', 'সবখ', 'সবচ', 'সবট', 'সবর', 'সবসময', 'সবসময়', 'সবহ', 'সম', 'সমগ', 'সময', 'সমর', 'সমস', 'সময়', 'সময়অসময়', 'সময়এখনএক', 'সময়গ', 'সময়মতন', 'সময়স', 'সয', 'সর', 'সরক', 'সরণ', 'সরম', 'সরল', 'সরলত', 'সল', 'সলম', 'সশ', 'সস', 'সহ', 'সহক', 'সহজ', 'সহজতর', 'সহয', 'সহস', 'সৎ', 'হআম', 'হই', 'হইও', 'হইছ', 'হইত', 'হইন', 'হইয', 'হইল', 'হউক', 'হউকন', 'হও', 'হওয', 'হওয়', 'হক', 'হগ', 'হগতক', 'হচ', 'হজ', 'হজরত', 'হট', 'হঠ', 'হত', 'হতদ', 'হতব', 'হন', 'হপ', 'হফ', 'হব', 'হম', 'হয', 'হর', 'হরণ', 'হরন', 'হরম', 'হল', 'হলফ', 'হস', 'হসকল', 'হৎ', 'হয়', 'হয়অবশ', 'হয়আজ', 'হয়আর', 'হয়এমন', 'হয়ক', 'হয়ত', 'হয়ন', 'হয়প', 'হয়ম', 'হয়স', 'ৎক', 'ৎপ', 'ৎব', 'ৎস', 'ৎসক', 'ড়ব', 'ড়ল', 'ড়শ', 'য়অবহ', 'য়আব', 'য়আম', 'য়আর', 'য়আশ', 'য়আসল', 'য়এপ', 'য়এমন', 'য়ক', 'য়কখন', 'য়কর', 'য়গ', 'য়গল', 'য়ছ', 'য়জ', 'য়জন', 'য়জনসময়', 'য়ট', 'য়ত', 'য়তখন', 'য়দ', 'য়দয়', 'য়ন', 'য়প', 'য়ফ', 'য়ব', 'য়বদ', 'য়বর', 'য়ভ', 'য়ম', 'য়মন', 'য়য', 'য়যদ', 'য়র', 'য়ল', 'য়শত', 'য়স', 'য়হ', '০০', '০০০০জ', '০৪', '১ট', '১০', '১০০', '১০০০', '১১', '১২০০', '১৪০৭২০২২', '১৫', '১৬', '১৭', '১৮', '১৮০০', '১৯', '১৯৬৮১৯৬৯', '১৯৯২', '২দ', '২য়', '২০০', '২০১৩', '২০১৯', '২০২০', '২০২২', '২৩', '২৪', '২৫', '২৫০৫২০২২', '২৬', '৩৬', '৪দ', '৪০', '৪৮', '৫শত', '৫০', '৬৪', '৬৯', '৭০', '৭০০', '৮০', '৯৩', '৯৯', '৷আগ', '৷আম', '৷ছ', '৷প', '৷ব']\n"
          ]
        }
      ],
      "source": [
        "print(vectorizer.get_feature_names())"
      ]
    },
    {
      "cell_type": "code",
      "execution_count": 418,
      "metadata": {
        "colab": {
          "base_uri": "https://localhost:8080/"
        },
        "id": "XHRDNbj-3s2g",
        "outputId": "d0a81d46-d705-4313-e41d-2c55a0cb981f"
      },
      "outputs": [
        {
          "output_type": "stream",
          "name": "stdout",
          "text": [
            "[[0 0 0 ... 0 0 0]\n",
            " [0 0 0 ... 0 0 0]\n",
            " [0 0 0 ... 0 0 0]\n",
            " ...\n",
            " [0 0 0 ... 0 0 0]\n",
            " [1 0 0 ... 0 0 0]\n",
            " [0 0 0 ... 0 0 0]]\n"
          ]
        }
      ],
      "source": [
        "print(depressed_countvectorizer.toarray())"
      ]
    },
    {
      "cell_type": "markdown",
      "metadata": {
        "id": "yuAeIQ383stl"
      },
      "source": [
        "## TRAINING THE MODEL WITH ALL DATASET"
      ]
    },
    {
      "cell_type": "markdown",
      "metadata": {
        "id": "_mAC-dhAA1GM"
      },
      "source": [
        "## Naive_Bayes"
      ]
    },
    {
      "cell_type": "code",
      "execution_count": 208,
      "metadata": {
        "colab": {
          "base_uri": "https://localhost:8080/"
        },
        "id": "9qCQ4PZd3sqK",
        "outputId": "de2bbf2e-1147-499b-82d0-265a3bacc02a"
      },
      "outputs": [
        {
          "output_type": "execute_result",
          "data": {
            "text/plain": [
              "MultinomialNB()"
            ]
          },
          "metadata": {},
          "execution_count": 208
        }
      ],
      "source": [
        "from sklearn.naive_bayes import MultinomialNB\n",
        "\n",
        "NB_classifier = MultinomialNB()\n",
        "Label = data['Label'].values\n",
        "NB_classifier.fit(depressed_countvectorizer, Label)"
      ]
    },
    {
      "cell_type": "markdown",
      "metadata": {
        "id": "m304tC-g3shf"
      },
      "source": [
        "STEP#4: DIVIDE THE DATA INTO TRAINING AND TESTING PRIOR TO TRAINING"
      ]
    },
    {
      "cell_type": "code",
      "execution_count": 211,
      "metadata": {
        "id": "MhghqvDg6dhH"
      },
      "outputs": [],
      "source": [
        "X = depressed_countvectorizer\n",
        "y = Label"
      ]
    },
    {
      "cell_type": "code",
      "execution_count": 214,
      "metadata": {
        "id": "KranarBE6dWf"
      },
      "outputs": [],
      "source": [
        "from sklearn.model_selection import train_test_split\n",
        "X_train, X_test, y_train, y_test = train_test_split(X, y, test_size=0.2)"
      ]
    },
    {
      "cell_type": "code",
      "execution_count": 215,
      "metadata": {
        "colab": {
          "base_uri": "https://localhost:8080/"
        },
        "id": "ZRDRl4Ty6dTm",
        "outputId": "95a0b1f4-152b-41c2-9632-b335e69c017d"
      },
      "outputs": [
        {
          "output_type": "execute_result",
          "data": {
            "text/plain": [
              "MultinomialNB()"
            ]
          },
          "metadata": {},
          "execution_count": 215
        }
      ],
      "source": [
        "from sklearn.naive_bayes import MultinomialNB\n",
        "\n",
        "NB_classifier = MultinomialNB()\n",
        "NB_classifier.fit(X_train, y_train)"
      ]
    },
    {
      "cell_type": "markdown",
      "metadata": {
        "id": "wIMPRJs06dQD"
      },
      "source": [
        "STEP#5: EVALUATING THE MODEL"
      ]
    },
    {
      "cell_type": "code",
      "execution_count": 216,
      "metadata": {
        "colab": {
          "base_uri": "https://localhost:8080/",
          "height": 287
        },
        "id": "HnEFqBVm6y9v",
        "outputId": "45e457fc-4e77-4ef8-c616-cbddadd2bf3a"
      },
      "outputs": [
        {
          "output_type": "execute_result",
          "data": {
            "text/plain": [
              "<matplotlib.axes._subplots.AxesSubplot at 0x7fb2c6b17210>"
            ]
          },
          "metadata": {},
          "execution_count": 216
        },
        {
          "output_type": "display_data",
          "data": {
            "text/plain": [
              "<Figure size 432x288 with 2 Axes>"
            ],
            "image/png": "[encoded data removed]"
          },
          "metadata": {
            "needs_background": "light"
          }
        }
      ],
      "source": [
        "from sklearn.metrics import classification_report, confusion_matrix\n",
        "\n",
        "y_predict_train = NB_classifier.predict(X_train)\n",
        "y_predict_train\n",
        "cm = confusion_matrix(y_train, y_predict_train)\n",
        "sns.heatmap(cm, annot=True)"
      ]
    },
    {
      "cell_type": "code",
      "execution_count": 217,
      "metadata": {
        "colab": {
          "base_uri": "https://localhost:8080/",
          "height": 283
        },
        "id": "HYEOf92K6y6L",
        "outputId": "083168ab-b353-4e87-b6bb-675122d5a116"
      },
      "outputs": [
        {
          "output_type": "execute_result",
          "data": {
            "text/plain": [
              "<matplotlib.axes._subplots.AxesSubplot at 0x7fb2c6a98e90>"
            ]
          },
          "metadata": {},
          "execution_count": 217
        },
        {
          "output_type": "display_data",
          "data": {
            "text/plain": [
              "<Figure size 432x288 with 2 Axes>"
            ],
            "image/png": "[encoded data removed]"
          },
          "metadata": {
            "needs_background": "light"
          }
        }
      ],
      "source": [
        "# Predicting the Test set results\n",
        "y_predict_test = NB_classifier.predict(X_test)\n",
        "cm = confusion_matrix(y_test, y_predict_test)\n",
        "sns.heatmap(cm, annot=True)"
      ]
    },
    {
      "cell_type": "code",
      "execution_count": 218,
      "metadata": {
        "colab": {
          "base_uri": "https://localhost:8080/"
        },
        "id": "I8xZlaNj6y29",
        "outputId": "1bc3f6bf-cde7-407a-876a-874e23425ae3"
      },
      "outputs": [
        {
          "output_type": "stream",
          "name": "stdout",
          "text": [
            "              precision    recall  f1-score   support\n",
            "\n",
            "           0       0.72      0.80      0.76       223\n",
            "           1       0.59      0.47      0.53       133\n",
            "\n",
            "    accuracy                           0.68       356\n",
            "   macro avg       0.65      0.64      0.64       356\n",
            "weighted avg       0.67      0.68      0.67       356\n",
            "\n"
          ]
        }
      ],
      "source": [
        "print(classification_report(y_test, y_predict_test))"
      ]
    },
    {
      "cell_type": "markdown",
      "metadata": {
        "id": "1PJVCcO5CzJR"
      },
      "source": [
        "\n",
        "\n",
        "\n",
        "\n",
        "\n",
        "\n",
        "\n",
        "\n",
        "\n",
        "## Cross Validation"
      ]
    },
    {
      "cell_type": "code",
      "execution_count": 219,
      "metadata": {
        "colab": {
          "base_uri": "https://localhost:8080/"
        },
        "id": "IIOnCzAo6yzI",
        "outputId": "a1e0fd95-fea6-469f-ffb1-f937300a68a3"
      },
      "outputs": [
        {
          "output_type": "stream",
          "name": "stdout",
          "text": [
            "Accuracy: 69.06 %\n",
            "Standard Deviation: 2.05 %\n"
          ]
        }
      ],
      "source": [
        "from sklearn.model_selection import cross_val_score\n",
        "accuracies = cross_val_score(estimator = NB_classifier, X = X_train, y = y_train, cv = 5)\n",
        "print(\"Accuracy: {:.2f} %\".format(accuracies.mean()*100))\n",
        "print(\"Standard Deviation: {:.2f} %\".format(accuracies.std()*100))"
      ]
    },
    {
      "cell_type": "code",
      "execution_count": 219,
      "metadata": {
        "id": "g-Zb-oBHCyyH"
      },
      "outputs": [],
      "source": [
        ""
      ]
    },
    {
      "cell_type": "code",
      "execution_count": 219,
      "metadata": {
        "id": "Dg3tmXUZCyu9"
      },
      "outputs": [],
      "source": [
        ""
      ]
    },
    {
      "cell_type": "markdown",
      "metadata": {
        "id": "AClARDezAvjs"
      },
      "source": [
        "\n",
        "\n",
        "## Logistic Regression"
      ]
    },
    {
      "cell_type": "code",
      "execution_count": 220,
      "metadata": {
        "colab": {
          "base_uri": "https://localhost:8080/"
        },
        "id": "sGlOjZ0UAvg5",
        "outputId": "4fbf0515-3627-4892-c4dc-42e29a2d8d59"
      },
      "outputs": [
        {
          "output_type": "execute_result",
          "data": {
            "text/plain": [
              "LogisticRegression()"
            ]
          },
          "metadata": {},
          "execution_count": 220
        }
      ],
      "source": [
        "#importing the logistic regression class from scikit learn library\n",
        "from sklearn.linear_model import LogisticRegression\n",
        "\n",
        "LR_classifier = LogisticRegression() #create LR Classifier\n",
        "LR_classifier.fit(X_train, y_train) #applying fit function to connect the training set"
      ]
    },
    {
      "cell_type": "markdown",
      "metadata": {
        "id": "R3qIEfRqBwSj"
      },
      "source": [
        "STEP#5: EVALUATING THE MODEL"
      ]
    },
    {
      "cell_type": "code",
      "execution_count": 221,
      "metadata": {
        "colab": {
          "base_uri": "https://localhost:8080/",
          "height": 283
        },
        "id": "_lYyU1WmAvdR",
        "outputId": "166984de-431c-466d-a708-bf12518f915b"
      },
      "outputs": [
        {
          "output_type": "execute_result",
          "data": {
            "text/plain": [
              "<matplotlib.axes._subplots.AxesSubplot at 0x7fb2c6a3dc50>"
            ]
          },
          "metadata": {},
          "execution_count": 221
        },
        {
          "output_type": "display_data",
          "data": {
            "text/plain": [
              "<Figure size 432x288 with 2 Axes>"
            ],
            "image/png": "[encoded data removed]"
          },
          "metadata": {
            "needs_background": "light"
          }
        }
      ],
      "source": [
        "#importing classification report & confusion_matrix from scikit learn library\n",
        "from sklearn.metrics import classification_report, confusion_matrix\n",
        "\n",
        "\n",
        "#train the dataset with LR classifier\n",
        "y_predict_train = LR_classifier.predict(X_train)\n",
        "y_predict_train\n",
        "\n",
        "#Generate confusion matrix\n",
        "cm = confusion_matrix(y_train, y_predict_train)\n",
        "sns.heatmap(cm, annot=True) #generate heatmap"
      ]
    },
    {
      "cell_type": "code",
      "execution_count": 222,
      "metadata": {
        "colab": {
          "base_uri": "https://localhost:8080/",
          "height": 283
        },
        "id": "r05qdAMyAvbA",
        "outputId": "30476381-55d4-453a-93f4-932bea8452be"
      },
      "outputs": [
        {
          "output_type": "execute_result",
          "data": {
            "text/plain": [
              "<matplotlib.axes._subplots.AxesSubplot at 0x7fb2c69519d0>"
            ]
          },
          "metadata": {},
          "execution_count": 222
        },
        {
          "output_type": "display_data",
          "data": {
            "text/plain": [
              "<Figure size 432x288 with 2 Axes>"
            ],
            "image/png": "[encoded data removed]"
          },
          "metadata": {
            "needs_background": "light"
          }
        }
      ],
      "source": [
        "#train the dataset with LR classifier\n",
        "y_predict_train = LR_classifier.predict(X_train)\n",
        "y_predict_train\n",
        "\n",
        "#Generate confusion matrix\n",
        "cm = confusion_matrix(y_train, y_predict_train)\n",
        "sns.heatmap(cm, annot=True) #generate heatmap"
      ]
    },
    {
      "cell_type": "code",
      "execution_count": 223,
      "metadata": {
        "colab": {
          "base_uri": "https://localhost:8080/",
          "height": 285
        },
        "id": "RcTOmgOjAvYK",
        "outputId": "1908bd93-ff17-4638-b9cc-a17e74ad06a7"
      },
      "outputs": [
        {
          "output_type": "execute_result",
          "data": {
            "text/plain": [
              "<matplotlib.axes._subplots.AxesSubplot at 0x7fb2c68f1910>"
            ]
          },
          "metadata": {},
          "execution_count": 223
        },
        {
          "output_type": "display_data",
          "data": {
            "text/plain": [
              "<Figure size 432x288 with 2 Axes>"
            ],
            "image/png": "[encoded data removed]"
          },
          "metadata": {
            "needs_background": "light"
          }
        }
      ],
      "source": [
        "# Predicting the Test set results\n",
        "y_predict_test = LR_classifier.predict(X_test)\n",
        "cm = confusion_matrix(y_test, y_predict_test)\n",
        "sns.heatmap(cm, annot=True)"
      ]
    },
    {
      "cell_type": "code",
      "execution_count": 224,
      "metadata": {
        "colab": {
          "base_uri": "https://localhost:8080/"
        },
        "id": "aUwOZrvbAvV1",
        "outputId": "3729b784-fa83-4b80-8d1e-ced0b4306c7f"
      },
      "outputs": [
        {
          "output_type": "stream",
          "name": "stdout",
          "text": [
            "              precision    recall  f1-score   support\n",
            "\n",
            "           0       0.71      0.91      0.79       223\n",
            "           1       0.70      0.37      0.48       133\n",
            "\n",
            "    accuracy                           0.71       356\n",
            "   macro avg       0.70      0.64      0.64       356\n",
            "weighted avg       0.70      0.71      0.68       356\n",
            "\n"
          ]
        }
      ],
      "source": [
        "print(classification_report(y_test, y_predict_test))"
      ]
    },
    {
      "cell_type": "markdown",
      "metadata": {
        "id": "DEpzkb5KAvRa"
      },
      "source": [
        "## Cross Validation"
      ]
    },
    {
      "cell_type": "code",
      "execution_count": 225,
      "metadata": {
        "colab": {
          "base_uri": "https://localhost:8080/"
        },
        "id": "uRGLBX7dAvO-",
        "outputId": "b1a97a32-d1c4-4fce-e8c2-a9a57330ec50"
      },
      "outputs": [
        {
          "output_type": "stream",
          "name": "stdout",
          "text": [
            "Accuracy: 71.73 %\n",
            "Standard Deviation: 2.90 %\n"
          ]
        }
      ],
      "source": [
        "from sklearn.model_selection import cross_val_score\n",
        "accuracies = cross_val_score(estimator = LR_classifier, X = X_train, y = y_train, cv = 5)\n",
        "print(\"Accuracy: {:.2f} %\".format(accuracies.mean()*100))\n",
        "print(\"Standard Deviation: {:.2f} %\".format(accuracies.std()*100))"
      ]
    },
    {
      "cell_type": "code",
      "execution_count": 225,
      "metadata": {
        "id": "iqrHbB3sAvLc"
      },
      "outputs": [],
      "source": [
        ""
      ]
    },
    {
      "cell_type": "code",
      "execution_count": 225,
      "metadata": {
        "id": "01B4N44XAvJQ"
      },
      "outputs": [],
      "source": [
        ""
      ]
    },
    {
      "cell_type": "markdown",
      "metadata": {
        "id": "j9YuNu-iAvF_"
      },
      "source": [
        "## SVM"
      ]
    },
    {
      "cell_type": "code",
      "execution_count": 226,
      "metadata": {
        "colab": {
          "base_uri": "https://localhost:8080/"
        },
        "id": "Q9KzuNW1AvDp",
        "outputId": "06f6b8b6-0c34-4d2b-9f41-e59a1f4ef37a"
      },
      "outputs": [
        {
          "output_type": "execute_result",
          "data": {
            "text/plain": [
              "SVC(kernel='linear', random_state=0)"
            ]
          },
          "metadata": {},
          "execution_count": 226
        }
      ],
      "source": [
        "from sklearn.svm import SVC\n",
        "\n",
        "SVM_classifier = SVC(kernel = 'linear', random_state = 0)\n",
        "SVM_classifier.fit(X_train, y_train)"
      ]
    },
    {
      "cell_type": "code",
      "execution_count": 227,
      "metadata": {
        "colab": {
          "base_uri": "https://localhost:8080/",
          "height": 283
        },
        "id": "ZFlu-I9QAvAF",
        "outputId": "9c54da90-4a17-403c-f5cd-2b96f97a62b7"
      },
      "outputs": [
        {
          "output_type": "execute_result",
          "data": {
            "text/plain": [
              "<matplotlib.axes._subplots.AxesSubplot at 0x7fb2c6a98710>"
            ]
          },
          "metadata": {},
          "execution_count": 227
        },
        {
          "output_type": "display_data",
          "data": {
            "text/plain": [
              "<Figure size 432x288 with 2 Axes>"
            ],
            "image/png": "[encoded data removed]"
          },
          "metadata": {
            "needs_background": "light"
          }
        }
      ],
      "source": [
        "from sklearn.metrics import classification_report, confusion_matrix, accuracy_score\n",
        "\n",
        "\n",
        "y_predict_train = SVM_classifier.predict(X_train)\n",
        "y_predict_train\n",
        "cm = confusion_matrix(y_train, y_predict_train)\n",
        "sns.heatmap(cm, annot=True)"
      ]
    },
    {
      "cell_type": "code",
      "execution_count": 228,
      "metadata": {
        "colab": {
          "base_uri": "https://localhost:8080/",
          "height": 283
        },
        "id": "DIsFZ-FMAu9q",
        "outputId": "88826122-72f8-46ce-eaa1-07a2dbc212b9"
      },
      "outputs": [
        {
          "output_type": "execute_result",
          "data": {
            "text/plain": [
              "<matplotlib.axes._subplots.AxesSubplot at 0x7fb2c6740890>"
            ]
          },
          "metadata": {},
          "execution_count": 228
        },
        {
          "output_type": "display_data",
          "data": {
            "text/plain": [
              "<Figure size 432x288 with 2 Axes>"
            ],
            "image/png": "[encoded data removed]"
          },
          "metadata": {
            "needs_background": "light"
          }
        }
      ],
      "source": [
        "# Predicting the Test set results\n",
        "y_predict_test =SVM_classifier.predict(X_test)\n",
        "cm = confusion_matrix(y_test,y_predict_test)\n",
        "sns.heatmap(cm, annot=True)"
      ]
    },
    {
      "cell_type": "code",
      "execution_count": 229,
      "metadata": {
        "colab": {
          "base_uri": "https://localhost:8080/"
        },
        "id": "Kcs-FVs_Au7O",
        "outputId": "43845f7f-0aec-4d35-c310-07750a26d7e0"
      },
      "outputs": [
        {
          "output_type": "stream",
          "name": "stdout",
          "text": [
            "              precision    recall  f1-score   support\n",
            "\n",
            "           0       0.71      0.86      0.78       223\n",
            "           1       0.63      0.41      0.50       133\n",
            "\n",
            "    accuracy                           0.69       356\n",
            "   macro avg       0.67      0.64      0.64       356\n",
            "weighted avg       0.68      0.69      0.67       356\n",
            "\n"
          ]
        }
      ],
      "source": [
        "print(classification_report(y_test, y_predict_test))"
      ]
    },
    {
      "cell_type": "markdown",
      "metadata": {
        "id": "vjkNgo-QAu4j"
      },
      "source": [
        "## Cross Validation"
      ]
    },
    {
      "cell_type": "code",
      "execution_count": 230,
      "metadata": {
        "colab": {
          "base_uri": "https://localhost:8080/"
        },
        "id": "7oALjuhZAu2I",
        "outputId": "d0fc3a6e-5b34-4b7e-eb1b-c2213607ce14"
      },
      "outputs": [
        {
          "output_type": "stream",
          "name": "stdout",
          "text": [
            "Accuracy: 69.48 %\n",
            "Standard Deviation: 2.35 %\n"
          ]
        }
      ],
      "source": [
        "from sklearn.model_selection import cross_val_score\n",
        "accuracies = cross_val_score(estimator = SVM_classifier, X = X_train, y = y_train, cv = 5)\n",
        "print(\"Accuracy: {:.2f} %\".format(accuracies.mean()*100))\n",
        "print(\"Standard Deviation: {:.2f} %\".format(accuracies.std()*100))"
      ]
    },
    {
      "cell_type": "code",
      "execution_count": 230,
      "metadata": {
        "id": "4jgFtW2wAuzK"
      },
      "outputs": [],
      "source": [
        ""
      ]
    },
    {
      "cell_type": "code",
      "execution_count": 230,
      "metadata": {
        "id": "RF0TMEChAuwj"
      },
      "outputs": [],
      "source": [
        ""
      ]
    },
    {
      "cell_type": "markdown",
      "metadata": {
        "id": "WWS5UOr7Autw"
      },
      "source": [
        "## RANDOM FOREST"
      ]
    },
    {
      "cell_type": "code",
      "execution_count": 231,
      "metadata": {
        "colab": {
          "base_uri": "https://localhost:8080/"
        },
        "id": "mgV0vu-qAup4",
        "outputId": "0d4117fe-529e-4ab2-a063-6eed41a243c3"
      },
      "outputs": [
        {
          "output_type": "execute_result",
          "data": {
            "text/plain": [
              "RandomForestClassifier(criterion='entropy', n_estimators=40, random_state=0)"
            ]
          },
          "metadata": {},
          "execution_count": 231
        }
      ],
      "source": [
        "from sklearn.ensemble import RandomForestClassifier\n",
        "\n",
        "RF_classifier = RandomForestClassifier(n_estimators = 40, criterion = 'entropy', random_state = 0)\n",
        "RF_classifier.fit(X_train, y_train)"
      ]
    },
    {
      "cell_type": "code",
      "execution_count": 232,
      "metadata": {
        "colab": {
          "base_uri": "https://localhost:8080/",
          "height": 283
        },
        "id": "nRqOjwCGAumO",
        "outputId": "4cfc1d11-ff4a-4178-9f35-6654cf380127"
      },
      "outputs": [
        {
          "output_type": "execute_result",
          "data": {
            "text/plain": [
              "<matplotlib.axes._subplots.AxesSubplot at 0x7fb2c6684c50>"
            ]
          },
          "metadata": {},
          "execution_count": 232
        },
        {
          "output_type": "display_data",
          "data": {
            "text/plain": [
              "<Figure size 432x288 with 2 Axes>"
            ],
            "image/png": "[encoded data removed]"
          },
          "metadata": {
            "needs_background": "light"
          }
        }
      ],
      "source": [
        "from sklearn.metrics import classification_report, confusion_matrix\n",
        "\n",
        "y_predict_train = RF_classifier.predict(X_train)\n",
        "y_predict_train\n",
        "cm = confusion_matrix(y_train, y_predict_train)\n",
        "sns.heatmap(cm, annot=True)"
      ]
    },
    {
      "cell_type": "code",
      "execution_count": 233,
      "metadata": {
        "colab": {
          "base_uri": "https://localhost:8080/",
          "height": 283
        },
        "id": "-OCyjPlDAuPD",
        "outputId": "05a3b31b-ebe0-4ce9-aebe-fdc9d3ce2bd1"
      },
      "outputs": [
        {
          "output_type": "execute_result",
          "data": {
            "text/plain": [
              "<matplotlib.axes._subplots.AxesSubplot at 0x7fb2c667b9d0>"
            ]
          },
          "metadata": {},
          "execution_count": 233
        },
        {
          "output_type": "display_data",
          "data": {
            "text/plain": [
              "<Figure size 432x288 with 2 Axes>"
            ],
            "image/png": "[encoded data removed]"
          },
          "metadata": {
            "needs_background": "light"
          }
        }
      ],
      "source": [
        "# Predicting the Test set results\n",
        "y_predict_test = RF_classifier.predict(X_test)\n",
        "cm = confusion_matrix(y_test, y_predict_test)\n",
        "sns.heatmap(cm, annot=True)"
      ]
    },
    {
      "cell_type": "code",
      "execution_count": 234,
      "metadata": {
        "colab": {
          "base_uri": "https://localhost:8080/"
        },
        "id": "3aXiAQG0AuLv",
        "outputId": "aae627e7-ce87-480d-9130-be527f9e49f3"
      },
      "outputs": [
        {
          "output_type": "stream",
          "name": "stdout",
          "text": [
            "              precision    recall  f1-score   support\n",
            "\n",
            "           0       0.73      0.92      0.81       223\n",
            "           1       0.76      0.41      0.54       133\n",
            "\n",
            "    accuracy                           0.73       356\n",
            "   macro avg       0.74      0.67      0.67       356\n",
            "weighted avg       0.74      0.73      0.71       356\n",
            "\n"
          ]
        }
      ],
      "source": [
        "print(classification_report(y_test, y_predict_test))"
      ]
    },
    {
      "cell_type": "markdown",
      "source": [
        "## Cross Validation"
      ],
      "metadata": {
        "id": "7ZyZ9bDu4u6m"
      }
    },
    {
      "cell_type": "code",
      "execution_count": 235,
      "metadata": {
        "colab": {
          "base_uri": "https://localhost:8080/"
        },
        "id": "FtqyUmmfAuJE",
        "outputId": "0f49a501-cd57-442a-9a50-d16552547d88"
      },
      "outputs": [
        {
          "output_type": "stream",
          "name": "stdout",
          "text": [
            "Accuracy: 72.78 %\n",
            "Standard Deviation: 3.14 %\n"
          ]
        }
      ],
      "source": [
        "from sklearn.model_selection import cross_val_score\n",
        "accuracies = cross_val_score(estimator = RF_classifier, X = X_train, y = y_train, cv = 5)\n",
        "print(\"Accuracy: {:.2f} %\".format(accuracies.mean()*100))\n",
        "print(\"Standard Deviation: {:.2f} %\".format(accuracies.std()*100))"
      ]
    },
    {
      "cell_type": "code",
      "execution_count": 235,
      "metadata": {
        "id": "Z4N_id4eAuGC"
      },
      "outputs": [],
      "source": [
        ""
      ]
    },
    {
      "cell_type": "code",
      "execution_count": 235,
      "metadata": {
        "id": "5A7sqANkHOc6"
      },
      "outputs": [],
      "source": [
        ""
      ]
    },
    {
      "cell_type": "markdown",
      "metadata": {
        "id": "eUFKWfLYHOZz"
      },
      "source": [
        "##GBDT"
      ]
    },
    {
      "cell_type": "code",
      "execution_count": 236,
      "metadata": {
        "colab": {
          "base_uri": "https://localhost:8080/"
        },
        "id": "G5nh3a4XHOXC",
        "outputId": "8b934163-8bf0-4645-b798-80296078a18f"
      },
      "outputs": [
        {
          "output_type": "execute_result",
          "data": {
            "text/plain": [
              "GradientBoostingClassifier()"
            ]
          },
          "metadata": {},
          "execution_count": 236
        }
      ],
      "source": [
        "from sklearn.ensemble import GradientBoostingClassifier\n",
        "\n",
        "GBDT_classifier = GradientBoostingClassifier()\n",
        "GBDT_classifier.fit(X_train, y_train)"
      ]
    },
    {
      "cell_type": "code",
      "execution_count": 237,
      "metadata": {
        "colab": {
          "base_uri": "https://localhost:8080/",
          "height": 283
        },
        "id": "yAU36_kcHOUI",
        "outputId": "16dd957e-cf62-4e43-a229-9364fea9421e"
      },
      "outputs": [
        {
          "output_type": "execute_result",
          "data": {
            "text/plain": [
              "<matplotlib.axes._subplots.AxesSubplot at 0x7fb2c65ac290>"
            ]
          },
          "metadata": {},
          "execution_count": 237
        },
        {
          "output_type": "display_data",
          "data": {
            "text/plain": [
              "<Figure size 432x288 with 2 Axes>"
            ],
            "image/png": "[encoded data removed]"
          },
          "metadata": {
            "needs_background": "light"
          }
        }
      ],
      "source": [
        "from sklearn.metrics import classification_report, confusion_matrix\n",
        "\n",
        "y_predict_train = GBDT_classifier.predict(X_train)\n",
        "y_predict_train\n",
        "cm = confusion_matrix(y_train, y_predict_train)\n",
        "sns.heatmap(cm, annot=True)"
      ]
    },
    {
      "cell_type": "code",
      "execution_count": 238,
      "metadata": {
        "colab": {
          "base_uri": "https://localhost:8080/",
          "height": 283
        },
        "id": "xwR8X7EzHORQ",
        "outputId": "e2eedb32-da20-4203-dd31-9c95441fad7f"
      },
      "outputs": [
        {
          "output_type": "execute_result",
          "data": {
            "text/plain": [
              "<matplotlib.axes._subplots.AxesSubplot at 0x7fb2c652a550>"
            ]
          },
          "metadata": {},
          "execution_count": 238
        },
        {
          "output_type": "display_data",
          "data": {
            "text/plain": [
              "<Figure size 432x288 with 2 Axes>"
            ],
            "image/png": "[encoded data removed]"
          },
          "metadata": {
            "needs_background": "light"
          }
        }
      ],
      "source": [
        "# Predicting the Test set results\n",
        "y_predict_test = GBDT_classifier.predict(X_test)\n",
        "cm = confusion_matrix(y_test, y_predict_test)\n",
        "sns.heatmap(cm, annot=True)"
      ]
    },
    {
      "cell_type": "code",
      "execution_count": 239,
      "metadata": {
        "colab": {
          "base_uri": "https://localhost:8080/"
        },
        "id": "qZQrmOpYHOLr",
        "outputId": "0c9b3f8e-9b64-4456-f670-210b7181f935"
      },
      "outputs": [
        {
          "output_type": "stream",
          "name": "stdout",
          "text": [
            "              precision    recall  f1-score   support\n",
            "\n",
            "           0       0.66      0.98      0.79       223\n",
            "           1       0.81      0.17      0.28       133\n",
            "\n",
            "    accuracy                           0.67       356\n",
            "   macro avg       0.74      0.57      0.53       356\n",
            "weighted avg       0.72      0.67      0.60       356\n",
            "\n"
          ]
        }
      ],
      "source": [
        "print(classification_report(y_test, y_predict_test))"
      ]
    },
    {
      "cell_type": "markdown",
      "source": [
        "## Cross Validation"
      ],
      "metadata": {
        "id": "z07Dpr3e44AF"
      }
    },
    {
      "cell_type": "code",
      "execution_count": 240,
      "metadata": {
        "colab": {
          "base_uri": "https://localhost:8080/"
        },
        "id": "4HPz0a89HOGz",
        "outputId": "0c3cda07-62a6-4413-adec-1027cfca8ddc"
      },
      "outputs": [
        {
          "output_type": "stream",
          "name": "stdout",
          "text": [
            "Accuracy: 71.94 %\n",
            "Standard Deviation: 1.69 %\n"
          ]
        }
      ],
      "source": [
        "from sklearn.model_selection import cross_val_score\n",
        "accuracies = cross_val_score(estimator = GBDT_classifier, X = X_train, y = y_train, cv = 5)\n",
        "print(\"Accuracy: {:.2f} %\".format(accuracies.mean()*100))\n",
        "print(\"Standard Deviation: {:.2f} %\".format(accuracies.std()*100))"
      ]
    },
    {
      "cell_type": "code",
      "execution_count": 240,
      "metadata": {
        "id": "pV6SqJ0vHN_K"
      },
      "outputs": [],
      "source": [
        ""
      ]
    },
    {
      "cell_type": "code",
      "execution_count": 240,
      "metadata": {
        "id": "U8ELoBbOHN8c"
      },
      "outputs": [],
      "source": [
        ""
      ]
    },
    {
      "cell_type": "markdown",
      "metadata": {
        "id": "fJx6ch2XHN5X"
      },
      "source": [
        "## XGBoost"
      ]
    },
    {
      "cell_type": "code",
      "execution_count": 241,
      "metadata": {
        "colab": {
          "base_uri": "https://localhost:8080/"
        },
        "id": "OmBBOex4HN2c",
        "outputId": "94687cdf-a4e9-43ef-f8c7-141e8dbecbdd"
      },
      "outputs": [
        {
          "output_type": "execute_result",
          "data": {
            "text/plain": [
              "XGBClassifier()"
            ]
          },
          "metadata": {},
          "execution_count": 241
        }
      ],
      "source": [
        "from xgboost import XGBClassifier\n",
        "XGB_classifier = XGBClassifier()\n",
        "XGB_classifier.fit(X_train, y_train)"
      ]
    },
    {
      "cell_type": "code",
      "execution_count": 242,
      "metadata": {
        "colab": {
          "base_uri": "https://localhost:8080/",
          "height": 283
        },
        "id": "dE2wEgseHNzi",
        "outputId": "0a212428-c076-416f-82c7-6aa25bc938f4"
      },
      "outputs": [
        {
          "output_type": "execute_result",
          "data": {
            "text/plain": [
              "<matplotlib.axes._subplots.AxesSubplot at 0x7fb2c64190d0>"
            ]
          },
          "metadata": {},
          "execution_count": 242
        },
        {
          "output_type": "display_data",
          "data": {
            "text/plain": [
              "<Figure size 432x288 with 2 Axes>"
            ],
            "image/png": "[encoded data removed]"
          },
          "metadata": {
            "needs_background": "light"
          }
        }
      ],
      "source": [
        "from sklearn.metrics import classification_report, confusion_matrix, accuracy_score\n",
        "\n",
        "y_predict_train = XGB_classifier.predict(X_train)\n",
        "y_predict_train\n",
        "cm = confusion_matrix(y_train, y_predict_train)\n",
        "sns.heatmap(cm, annot=True)"
      ]
    },
    {
      "cell_type": "code",
      "execution_count": 243,
      "metadata": {
        "colab": {
          "base_uri": "https://localhost:8080/",
          "height": 283
        },
        "id": "VBziu0KaHNw2",
        "outputId": "d8fbb4df-ff63-4431-f61d-3b8797106d2b"
      },
      "outputs": [
        {
          "output_type": "execute_result",
          "data": {
            "text/plain": [
              "<matplotlib.axes._subplots.AxesSubplot at 0x7fb2c6386650>"
            ]
          },
          "metadata": {},
          "execution_count": 243
        },
        {
          "output_type": "display_data",
          "data": {
            "text/plain": [
              "<Figure size 432x288 with 2 Axes>"
            ],
            "image/png": "[encoded data removed]"
          },
          "metadata": {
            "needs_background": "light"
          }
        }
      ],
      "source": [
        "# Predicting the Test set results\n",
        "y_predict_test = XGB_classifier.predict(X_test)\n",
        "cm = confusion_matrix(y_test, y_predict_test)\n",
        "sns.heatmap(cm, annot=True)"
      ]
    },
    {
      "cell_type": "code",
      "execution_count": 244,
      "metadata": {
        "colab": {
          "base_uri": "https://localhost:8080/"
        },
        "id": "URRx5pXsHNuY",
        "outputId": "948ce4a2-d93d-4cb8-aad4-4e303e897fd7"
      },
      "outputs": [
        {
          "output_type": "stream",
          "name": "stdout",
          "text": [
            "              precision    recall  f1-score   support\n",
            "\n",
            "           0       0.67      0.97      0.79       223\n",
            "           1       0.81      0.20      0.32       133\n",
            "\n",
            "    accuracy                           0.68       356\n",
            "   macro avg       0.74      0.58      0.55       356\n",
            "weighted avg       0.72      0.68      0.61       356\n",
            "\n"
          ]
        }
      ],
      "source": [
        "print(classification_report(y_test, y_predict_test))"
      ]
    },
    {
      "cell_type": "markdown",
      "source": [
        "## Cross Validation"
      ],
      "metadata": {
        "id": "YaNWb2nV5EjO"
      }
    },
    {
      "cell_type": "code",
      "execution_count": 245,
      "metadata": {
        "colab": {
          "base_uri": "https://localhost:8080/"
        },
        "id": "FE5W9991HNrY",
        "outputId": "920e4cd3-d3e5-4ad9-ebe6-3f9f3c72abf0"
      },
      "outputs": [
        {
          "output_type": "stream",
          "name": "stdout",
          "text": [
            "Accuracy: 72.57 %\n",
            "Standard Deviation: 2.23 %\n"
          ]
        }
      ],
      "source": [
        "from sklearn.model_selection import cross_val_score\n",
        "accuracies = cross_val_score(estimator = XGB_classifier, X = X_train, y = y_train, cv = 5)\n",
        "print(\"Accuracy: {:.2f} %\".format(accuracies.mean()*100))\n",
        "print(\"Standard Deviation: {:.2f} %\".format(accuracies.std()*100))"
      ]
    },
    {
      "cell_type": "code",
      "execution_count": 245,
      "metadata": {
        "id": "L_PgpPewHNot"
      },
      "outputs": [],
      "source": [
        ""
      ]
    },
    {
      "cell_type": "markdown",
      "source": [
        "## ROC Curve"
      ],
      "metadata": {
        "id": "Fqzka_dAHNlu"
      }
    },
    {
      "cell_type": "code",
      "execution_count": 246,
      "metadata": {
        "id": "RUxF8YbzHNgt"
      },
      "outputs": [],
      "source": [
        "import matplotlib.pyplot as plt\n",
        "from sklearn import metrics\n",
        "\n",
        "from sklearn.linear_model import LogisticRegression\n",
        "from sklearn.ensemble import GradientBoostingClassifier\n",
        "from sklearn.ensemble import RandomForestClassifier\n",
        "from xgboost import XGBClassifier\n",
        "XGB_classifier = XGBClassifier()\n",
        "from sklearn.naive_bayes import MultinomialNB\n",
        "NB_classifier = MultinomialNB()\n"
      ]
    },
    {
      "cell_type": "code",
      "execution_count": 247,
      "metadata": {
        "colab": {
          "base_uri": "https://localhost:8080/",
          "height": 283
        },
        "id": "Afm8btleHNdl",
        "outputId": "68feb0da-bc55-4d0e-a542-8aa9b5c3208b"
      },
      "outputs": [
        {
          "output_type": "execute_result",
          "data": {
            "text/plain": [
              "<matplotlib.legend.Legend at 0x7fb2c624f110>"
            ]
          },
          "metadata": {},
          "execution_count": 247
        },
        {
          "output_type": "display_data",
          "data": {
            "text/plain": [
              "<Figure size 432x288 with 1 Axes>"
            ],
            "image/png": "[encoded data removed]"
          },
          "metadata": {
            "needs_background": "light"
          }
        }
      ],
      "source": [
        "#set up plotting area\n",
        "plt.figure(0).clf()\n",
        "\n",
        "\n",
        "#fit logistic regression model and plot ROC curve\n",
        "model = LogisticRegression()\n",
        "model.fit(X_train, y_train)\n",
        "y_pred = model.predict_proba(X_test)[:, 1]\n",
        "fpr, tpr, _ = metrics.roc_curve(y_test, y_pred)\n",
        "auc = round(metrics.roc_auc_score(y_test, y_pred), 4)\n",
        "plt.plot(fpr,tpr,label=\"Logistic Regression, AUC=\"+str(auc))\n",
        "#fit gradient boosted model and plot ROC curve\n",
        "model = GradientBoostingClassifier()\n",
        "model.fit(X_train, y_train)\n",
        "y_pred = model.predict_proba(X_test)[:, 1]\n",
        "fpr, tpr, _ = metrics.roc_curve(y_test, y_pred)\n",
        "auc = round(metrics.roc_auc_score(y_test, y_pred), 4)\n",
        "plt.plot(fpr,tpr,label=\"Gradient Boosting, AUC=\"+str(auc))\n",
        "\n",
        "#fit gradient boosted model and plot ROC curve\n",
        "model = RandomForestClassifier()\n",
        "model.fit(X_train, y_train)\n",
        "y_pred = model.predict_proba(X_test)[:, 1]\n",
        "fpr, tpr, _ = metrics.roc_curve(y_test, y_pred)\n",
        "auc = round(metrics.roc_auc_score(y_test, y_pred), 4)\n",
        "plt.plot(fpr,tpr,label=\"Random Forest, AUC=\"+str(auc))\n",
        "\n",
        "#fit gradient boosted model and plot ROC curve\n",
        "model = XGBClassifier()\n",
        "model.fit(X_train, y_train)\n",
        "y_pred = model.predict_proba(X_test)[:, 1]\n",
        "fpr, tpr, _ = metrics.roc_curve(y_test, y_pred)\n",
        "auc = round(metrics.roc_auc_score(y_test, y_pred), 4)\n",
        "plt.plot(fpr,tpr,label=\"XGBoost, AUC=\"+str(auc))\n",
        "\n",
        "#fit gradient boosted model and plot ROC curve\n",
        "model = MultinomialNB()\n",
        "model.fit(X_train, y_train)\n",
        "y_pred = model.predict_proba(X_test)[:, 1]\n",
        "fpr, tpr, _ = metrics.roc_curve(y_test, y_pred)\n",
        "auc = round(metrics.roc_auc_score(y_test, y_pred), 4)\n",
        "plt.plot(fpr,tpr,label=\"NAIVE BAYES, AUC=\"+str(auc))\n",
        "\n",
        "# Plot line with no predictive power (baseline)\n",
        "plt.plot([0, 1], [0, 1], color='darkblue', linestyle='--', label='Baseline')\n",
        "\n",
        "#add legend\n",
        "plt.legend()"
      ]
    },
    {
      "cell_type": "code",
      "source": [
        ""
      ],
      "metadata": {
        "id": "wtuVnkKJh8eE"
      },
      "execution_count": 342,
      "outputs": []
    },
    {
      "cell_type": "code",
      "source": [
        "\n",
        "\n",
        "\n"
      ],
      "metadata": {
        "id": "BTVoopCWh8a9"
      },
      "execution_count": 342,
      "outputs": []
    },
    {
      "cell_type": "markdown",
      "source": [
        "# STEP #5:  Tf-IdfVectorizer"
      ],
      "metadata": {
        "id": "iY5w1KuQh75U"
      }
    },
    {
      "cell_type": "code",
      "execution_count": 343,
      "metadata": {
        "colab": {
          "base_uri": "https://localhost:8080/"
        },
        "id": "0gICO-CE6ysL",
        "outputId": "36fcaa4b-3246-49fe-af34-70803c87d3c9"
      },
      "outputs": [
        {
          "output_type": "execute_result",
          "data": {
            "text/plain": [
              "<1778x1548 sparse matrix of type '<class 'numpy.int64'>'\n",
              "\twith 17540 stored elements in Compressed Sparse Row format>"
            ]
          },
          "metadata": {},
          "execution_count": 343
        }
      ],
      "source": [
        "depressed_countvectorizer"
      ]
    },
    {
      "cell_type": "code",
      "execution_count": 420,
      "metadata": {
        "id": "jcUDJP2K6dMy"
      },
      "outputs": [],
      "source": [
        "from sklearn.feature_extraction.text import TfidfTransformer\n",
        "\n",
        "depressed_tfidf = TfidfTransformer().fit_transform(depressed_countvectorizer)\n"
      ]
    },
    {
      "cell_type": "code",
      "execution_count": 345,
      "metadata": {
        "colab": {
          "base_uri": "https://localhost:8080/"
        },
        "id": "p4R3qlDs3sa5",
        "outputId": "96c7c34d-2b0f-40e5-cd79-c05a74bccdea"
      },
      "outputs": [
        {
          "output_type": "stream",
          "name": "stdout",
          "text": [
            "  (0, 1118)\t0.5050542582735771\n",
            "  (0, 712)\t0.5896620230130787\n",
            "  (0, 148)\t0.5175329562053415\n",
            "  (0, 132)\t0.3596922768940286\n",
            "  (1, 1111)\t0.19984753218132467\n",
            "  (1, 984)\t0.20290214146472244\n",
            "  (1, 906)\t0.14185530852853329\n",
            "  (1, 807)\t0.36308122781839164\n",
            "  (1, 788)\t0.2674136789399007\n",
            "  (1, 719)\t0.24229975713125843\n",
            "  (1, 708)\t0.21418880037234975\n",
            "  (1, 522)\t0.20615918616049614\n",
            "  (1, 462)\t0.10043393990368528\n",
            "  (1, 322)\t0.2807828635501822\n",
            "  (1, 309)\t0.39958854039437525\n",
            "  (1, 297)\t0.16882467298119597\n",
            "  (1, 148)\t0.19641613558281187\n",
            "  (1, 139)\t0.1678881990518675\n",
            "  (1, 112)\t0.3563357233135206\n",
            "  (1, 20)\t0.278394360768348\n",
            "  (2, 1425)\t0.27803342776542167\n",
            "  (2, 968)\t0.3615164581206943\n",
            "  (2, 840)\t0.3754782976536643\n",
            "  (2, 462)\t0.13847241972680407\n",
            "  (2, 419)\t0.24887578790651785\n",
            "  :\t:\n",
            "  (1777, 229)\t0.04817761983580577\n",
            "  (1777, 222)\t0.04451432192220745\n",
            "  (1777, 213)\t0.05358014114066619\n",
            "  (1777, 209)\t0.034476540012004966\n",
            "  (1777, 206)\t0.04613270272704019\n",
            "  (1777, 201)\t0.04613270272704019\n",
            "  (1777, 139)\t0.026616401175774757\n",
            "  (1777, 132)\t0.1082105071091843\n",
            "  (1777, 125)\t0.3602055084524798\n",
            "  (1777, 112)\t0.42369153781510405\n",
            "  (1777, 108)\t0.04203223281439294\n",
            "  (1777, 98)\t0.04817761983580577\n",
            "  (1777, 90)\t0.054562453568182304\n",
            "  (1777, 85)\t0.04613270272704019\n",
            "  (1777, 80)\t0.030880724690474193\n",
            "  (1777, 65)\t0.04675657085437739\n",
            "  (1777, 55)\t0.057561613464098244\n",
            "  (1777, 51)\t0.03628324599533461\n",
            "  (1777, 46)\t0.03206809734845337\n",
            "  (1777, 44)\t0.05358014114066619\n",
            "  (1777, 20)\t0.04413565714046711\n",
            "  (1777, 17)\t0.041685767300195034\n",
            "  (1777, 16)\t0.045017347463115295\n",
            "  (1777, 15)\t0.13354296576662233\n",
            "  (1777, 4)\t0.04743475411925336\n"
          ]
        }
      ],
      "source": [
        "print(depressed_tfidf[:,:])\n",
        "# Sparse matrix with all the values of IF-IDF"
      ]
    },
    {
      "cell_type": "code",
      "execution_count": 346,
      "metadata": {
        "id": "3fW4660A7Rgo"
      },
      "outputs": [],
      "source": [
        "X = depressed_tfidf\n",
        "y = Label\n",
        "\n",
        "from sklearn.model_selection import train_test_split\n",
        "X_train, X_test, y_train, y_test = train_test_split(X, y, test_size=0.2)\n",
        "\n"
      ]
    },
    {
      "cell_type": "markdown",
      "source": [
        "## Naive_Bayes"
      ],
      "metadata": {
        "id": "Va5R1_OUiVkD"
      }
    },
    {
      "cell_type": "code",
      "source": [
        "from sklearn.naive_bayes import MultinomialNB\n",
        "NB_classifier = MultinomialNB()\n",
        "NB_classifier.fit(X_train, y_train)\n",
        "\n",
        "from sklearn.metrics import classification_report, confusion_matrix\n",
        "y_predict_train = NB_classifier.predict(X_train)\n",
        "y_predict_train\n",
        "cm = confusion_matrix(y_train, y_predict_train)\n",
        "sns.heatmap(cm, annot=True)"
      ],
      "metadata": {
        "colab": {
          "base_uri": "https://localhost:8080/",
          "height": 283
        },
        "id": "ZtCGmA8ziVgR",
        "outputId": "cf9a2121-77ab-42a1-cd0e-3b2dfbb3dbdf"
      },
      "execution_count": 252,
      "outputs": [
        {
          "output_type": "execute_result",
          "data": {
            "text/plain": [
              "<matplotlib.axes._subplots.AxesSubplot at 0x7fb2c624f750>"
            ]
          },
          "metadata": {},
          "execution_count": 252
        },
        {
          "output_type": "display_data",
          "data": {
            "text/plain": [
              "<Figure size 432x288 with 2 Axes>"
            ],
            "image/png": "[encoded data removed]"
          },
          "metadata": {
            "needs_background": "light"
          }
        }
      ]
    },
    {
      "cell_type": "code",
      "source": [
        "# Predicting the Test set results\n",
        "y_predict_test = NB_classifier.predict(X_test)\n",
        "cm = confusion_matrix(y_test, y_predict_test)\n",
        "sns.heatmap(cm, annot=True)"
      ],
      "metadata": {
        "colab": {
          "base_uri": "https://localhost:8080/",
          "height": 283
        },
        "id": "rPekgQxriVc9",
        "outputId": "0f322379-45cb-4900-b909-647767c504d1"
      },
      "execution_count": 253,
      "outputs": [
        {
          "output_type": "execute_result",
          "data": {
            "text/plain": [
              "<matplotlib.axes._subplots.AxesSubplot at 0x7fb2c62c7bd0>"
            ]
          },
          "metadata": {},
          "execution_count": 253
        },
        {
          "output_type": "display_data",
          "data": {
            "text/plain": [
              "<Figure size 432x288 with 2 Axes>"
            ],
            "image/png": "[encoded data removed]"
          },
          "metadata": {
            "needs_background": "light"
          }
        }
      ]
    },
    {
      "cell_type": "code",
      "source": [
        "print(classification_report(y_test, y_predict_test))"
      ],
      "metadata": {
        "colab": {
          "base_uri": "https://localhost:8080/"
        },
        "id": "a-3jiAStiVZy",
        "outputId": "620856e0-c2de-4f16-a412-84ccb0d3c24a"
      },
      "execution_count": 254,
      "outputs": [
        {
          "output_type": "stream",
          "name": "stdout",
          "text": [
            "              precision    recall  f1-score   support\n",
            "\n",
            "           0       0.68      0.98      0.80       241\n",
            "           1       0.45      0.04      0.08       115\n",
            "\n",
            "    accuracy                           0.67       356\n",
            "   macro avg       0.57      0.51      0.44       356\n",
            "weighted avg       0.61      0.67      0.57       356\n",
            "\n"
          ]
        }
      ]
    },
    {
      "cell_type": "markdown",
      "source": [
        "## Cross Validation"
      ],
      "metadata": {
        "id": "v_DHoQuEiVWM"
      }
    },
    {
      "cell_type": "code",
      "execution_count": 255,
      "metadata": {
        "id": "0H8W-Vdm7RZO",
        "colab": {
          "base_uri": "https://localhost:8080/"
        },
        "outputId": "d573b9d3-bc59-4871-86fd-5469394ac913"
      },
      "outputs": [
        {
          "output_type": "stream",
          "name": "stdout",
          "text": [
            "Accuracy: 68.35 %\n",
            "Standard Deviation: 0.79 %\n"
          ]
        }
      ],
      "source": [
        "from sklearn.model_selection import cross_val_score\n",
        "accuracies = cross_val_score(estimator = NB_classifier, X = X_train, y = y_train, cv = 5)\n",
        "print(\"Accuracy: {:.2f} %\".format(accuracies.mean()*100))\n",
        "print(\"Standard Deviation: {:.2f} %\".format(accuracies.std()*100))"
      ]
    },
    {
      "cell_type": "code",
      "execution_count": 255,
      "metadata": {
        "id": "Jm3PbGA87RWB"
      },
      "outputs": [],
      "source": [
        ""
      ]
    },
    {
      "cell_type": "markdown",
      "source": [
        "## Logistic Regression"
      ],
      "metadata": {
        "id": "Nrm8d8CA7RTB"
      }
    },
    {
      "cell_type": "code",
      "source": [
        "from sklearn.linear_model import LogisticRegression\n",
        "\n",
        "LR_classifier = LogisticRegression()\n",
        "LR_classifier.fit(X_train, y_train)\n",
        "\n",
        "\n",
        "from sklearn.metrics import classification_report, confusion_matrix\n",
        "\n",
        "\n",
        "y_predict_train = LR_classifier.predict(X_train)\n",
        "y_predict_train\n",
        "cm = confusion_matrix(y_train, y_predict_train)\n",
        "sns.heatmap(cm, annot=True)"
      ],
      "metadata": {
        "colab": {
          "base_uri": "https://localhost:8080/",
          "height": 283
        },
        "id": "P2VWUZnqyYEg",
        "outputId": "994d68f4-4d48-42b0-f674-c567502d963c"
      },
      "execution_count": 256,
      "outputs": [
        {
          "output_type": "execute_result",
          "data": {
            "text/plain": [
              "<matplotlib.axes._subplots.AxesSubplot at 0x7fb2c61215d0>"
            ]
          },
          "metadata": {},
          "execution_count": 256
        },
        {
          "output_type": "display_data",
          "data": {
            "text/plain": [
              "<Figure size 432x288 with 2 Axes>"
            ],
            "image/png": "[encoded data removed]"
          },
          "metadata": {
            "needs_background": "light"
          }
        }
      ]
    },
    {
      "cell_type": "code",
      "source": [
        "# Predicting the Test set results\n",
        "y_predict_test = LR_classifier.predict(X_test)\n",
        "cm = confusion_matrix(y_test, y_predict_test)\n",
        "sns.heatmap(cm, annot=True)"
      ],
      "metadata": {
        "colab": {
          "base_uri": "https://localhost:8080/",
          "height": 287
        },
        "id": "pTSl99b0yYA_",
        "outputId": "581dc32e-b4dc-4a66-c694-31aa72b7bcdf"
      },
      "execution_count": 257,
      "outputs": [
        {
          "output_type": "execute_result",
          "data": {
            "text/plain": [
              "<matplotlib.axes._subplots.AxesSubplot at 0x7fb2c6049f90>"
            ]
          },
          "metadata": {},
          "execution_count": 257
        },
        {
          "output_type": "display_data",
          "data": {
            "text/plain": [
              "<Figure size 432x288 with 2 Axes>"
            ],
            "image/png": "[encoded data removed]"
          },
          "metadata": {
            "needs_background": "light"
          }
        }
      ]
    },
    {
      "cell_type": "code",
      "source": [
        "print(classification_report(y_test, y_predict_test))"
      ],
      "metadata": {
        "colab": {
          "base_uri": "https://localhost:8080/"
        },
        "id": "MlzIooWgyX-N",
        "outputId": "d111aaac-7aea-4158-b2c6-b6834b73ef23"
      },
      "execution_count": 258,
      "outputs": [
        {
          "output_type": "stream",
          "name": "stdout",
          "text": [
            "              precision    recall  f1-score   support\n",
            "\n",
            "           0       0.71      0.93      0.81       241\n",
            "           1       0.61      0.22      0.32       115\n",
            "\n",
            "    accuracy                           0.70       356\n",
            "   macro avg       0.66      0.58      0.56       356\n",
            "weighted avg       0.68      0.70      0.65       356\n",
            "\n"
          ]
        }
      ]
    },
    {
      "cell_type": "markdown",
      "source": [
        "## Cross Validation"
      ],
      "metadata": {
        "id": "sI6pyi8CyX7M"
      }
    },
    {
      "cell_type": "code",
      "execution_count": 259,
      "metadata": {
        "id": "0xUIWUID7RQK",
        "colab": {
          "base_uri": "https://localhost:8080/"
        },
        "outputId": "90331b48-3a82-4075-a609-04e8533878ea"
      },
      "outputs": [
        {
          "output_type": "stream",
          "name": "stdout",
          "text": [
            "Accuracy: 69.69 %\n",
            "Standard Deviation: 0.64 %\n"
          ]
        }
      ],
      "source": [
        "from sklearn.model_selection import cross_val_score\n",
        "accuracies = cross_val_score(estimator = LR_classifier, X = X_train, y = y_train, cv = 5)\n",
        "print(\"Accuracy: {:.2f} %\".format(accuracies.mean()*100))\n",
        "print(\"Standard Deviation: {:.2f} %\".format(accuracies.std()*100))"
      ]
    },
    {
      "cell_type": "markdown",
      "source": [
        "## SVM"
      ],
      "metadata": {
        "id": "LO2uShhj7RMg"
      }
    },
    {
      "cell_type": "code",
      "source": [
        "from sklearn.svm import SVC\n",
        "\n",
        "SVM_classifier = SVC(kernel = 'linear', random_state = 0)\n",
        "SVM_classifier.fit(X_train, y_train)\n",
        "\n",
        "\n",
        "from sklearn.metrics import classification_report, confusion_matrix, accuracy_score\n",
        "\n",
        "\n",
        "y_predict_train = SVM_classifier.predict(X_train)\n",
        "y_predict_train\n",
        "cm = confusion_matrix(y_train, y_predict_train)\n",
        "sns.heatmap(cm, annot=True)"
      ],
      "metadata": {
        "colab": {
          "base_uri": "https://localhost:8080/",
          "height": 284
        },
        "id": "uY5kynswzNZ0",
        "outputId": "c945a8c3-ecf4-41ad-f6c1-46ca9b0e4e45"
      },
      "execution_count": 260,
      "outputs": [
        {
          "output_type": "execute_result",
          "data": {
            "text/plain": [
              "<matplotlib.axes._subplots.AxesSubplot at 0x7fb2c5fe18d0>"
            ]
          },
          "metadata": {},
          "execution_count": 260
        },
        {
          "output_type": "display_data",
          "data": {
            "text/plain": [
              "<Figure size 432x288 with 2 Axes>"
            ],
            "image/png": "[encoded data removed]"
          },
          "metadata": {
            "needs_background": "light"
          }
        }
      ]
    },
    {
      "cell_type": "code",
      "source": [
        "# Predicting the Test set results\n",
        "y_predict_test =SVM_classifier.predict(X_test)\n",
        "cm = confusion_matrix(y_test,y_predict_test)\n",
        "sns.heatmap(cm, annot=True)"
      ],
      "metadata": {
        "colab": {
          "base_uri": "https://localhost:8080/",
          "height": 283
        },
        "id": "PfQFrSpwzNV8",
        "outputId": "0e22d14f-4295-48ea-aed4-3658d71de404"
      },
      "execution_count": 261,
      "outputs": [
        {
          "output_type": "execute_result",
          "data": {
            "text/plain": [
              "<matplotlib.axes._subplots.AxesSubplot at 0x7fb2c5ff5210>"
            ]
          },
          "metadata": {},
          "execution_count": 261
        },
        {
          "output_type": "display_data",
          "data": {
            "text/plain": [
              "<Figure size 432x288 with 2 Axes>"
            ],
            "image/png": "[encoded data removed]"
          },
          "metadata": {
            "needs_background": "light"
          }
        }
      ]
    },
    {
      "cell_type": "code",
      "source": [
        "print(classification_report(y_test, y_predict_test))"
      ],
      "metadata": {
        "colab": {
          "base_uri": "https://localhost:8080/"
        },
        "id": "o5mM6rFKzNSQ",
        "outputId": "2f573397-e7f9-440c-8be1-7e69cb86488b"
      },
      "execution_count": 262,
      "outputs": [
        {
          "output_type": "stream",
          "name": "stdout",
          "text": [
            "              precision    recall  f1-score   support\n",
            "\n",
            "           0       0.73      0.90      0.81       241\n",
            "           1       0.59      0.30      0.40       115\n",
            "\n",
            "    accuracy                           0.71       356\n",
            "   macro avg       0.66      0.60      0.60       356\n",
            "weighted avg       0.69      0.71      0.68       356\n",
            "\n"
          ]
        }
      ]
    },
    {
      "cell_type": "markdown",
      "source": [
        "## Cross Validation"
      ],
      "metadata": {
        "id": "5YwEQEHa6dCu"
      }
    },
    {
      "cell_type": "code",
      "source": [
        "from sklearn.model_selection import cross_val_score\n",
        "accuracies = cross_val_score(estimator = SVM_classifier, X = X_train, y = y_train, cv = 5)\n",
        "print(\"Accuracy: {:.2f} %\".format(accuracies.mean()*100))\n",
        "print(\"Standard Deviation: {:.2f} %\".format(accuracies.std()*100))"
      ],
      "metadata": {
        "colab": {
          "base_uri": "https://localhost:8080/"
        },
        "id": "0uRhIEcFzNO7",
        "outputId": "fc48093b-dcec-4f56-9828-cebabc14832b"
      },
      "execution_count": 263,
      "outputs": [
        {
          "output_type": "stream",
          "name": "stdout",
          "text": [
            "Accuracy: 70.60 %\n",
            "Standard Deviation: 0.84 %\n"
          ]
        }
      ]
    },
    {
      "cell_type": "markdown",
      "source": [
        "## RANDOM FOREST"
      ],
      "metadata": {
        "id": "ACiy8_gmzNME"
      }
    },
    {
      "cell_type": "code",
      "source": [
        "from sklearn.ensemble import RandomForestClassifier\n",
        "\n",
        "RF_classifier = RandomForestClassifier(n_estimators = 40, criterion = 'entropy', random_state = 0)\n",
        "RF_classifier.fit(X_train, y_train)\n",
        "\n",
        "\n",
        "from sklearn.metrics import classification_report, confusion_matrix\n",
        "\n",
        "\n",
        "y_predict_train = RF_classifier.predict(X_train)\n",
        "y_predict_train\n",
        "cm = confusion_matrix(y_train, y_predict_train)\n",
        "sns.heatmap(cm, annot=True)"
      ],
      "metadata": {
        "colab": {
          "base_uri": "https://localhost:8080/",
          "height": 283
        },
        "id": "a84PrhKezNFz",
        "outputId": "88f124bf-8919-4d55-a4d0-bf003fd3c909"
      },
      "execution_count": 264,
      "outputs": [
        {
          "output_type": "execute_result",
          "data": {
            "text/plain": [
              "<matplotlib.axes._subplots.AxesSubplot at 0x7fb2c5ebc990>"
            ]
          },
          "metadata": {},
          "execution_count": 264
        },
        {
          "output_type": "display_data",
          "data": {
            "text/plain": [
              "<Figure size 432x288 with 2 Axes>"
            ],
            "image/png": "[encoded data removed]"
          },
          "metadata": {
            "needs_background": "light"
          }
        }
      ]
    },
    {
      "cell_type": "code",
      "source": [
        "\n",
        "\n",
        "# Predicting the Test set results\n",
        "y_predict_test = RF_classifier.predict(X_test)\n",
        "cm = confusion_matrix(y_test, y_predict_test)\n",
        "sns.heatmap(cm, annot=True)"
      ],
      "metadata": {
        "colab": {
          "base_uri": "https://localhost:8080/",
          "height": 283
        },
        "id": "chWMGOT-zNAi",
        "outputId": "8c5a23a4-a969-4a00-e840-5d5489aa131c"
      },
      "execution_count": 265,
      "outputs": [
        {
          "output_type": "execute_result",
          "data": {
            "text/plain": [
              "<matplotlib.axes._subplots.AxesSubplot at 0x7fb2c5e96910>"
            ]
          },
          "metadata": {},
          "execution_count": 265
        },
        {
          "output_type": "display_data",
          "data": {
            "text/plain": [
              "<Figure size 432x288 with 2 Axes>"
            ],
            "image/png": "[encoded data removed]"
          },
          "metadata": {
            "needs_background": "light"
          }
        }
      ]
    },
    {
      "cell_type": "code",
      "source": [
        "print(classification_report(y_test, y_predict_test))"
      ],
      "metadata": {
        "colab": {
          "base_uri": "https://localhost:8080/"
        },
        "id": "kcVOUlcrzM9S",
        "outputId": "523aa574-4ab0-4577-9935-4401e0950e51"
      },
      "execution_count": 266,
      "outputs": [
        {
          "output_type": "stream",
          "name": "stdout",
          "text": [
            "              precision    recall  f1-score   support\n",
            "\n",
            "           0       0.77      0.90      0.83       241\n",
            "           1       0.68      0.43      0.53       115\n",
            "\n",
            "    accuracy                           0.75       356\n",
            "   macro avg       0.73      0.67      0.68       356\n",
            "weighted avg       0.74      0.75      0.74       356\n",
            "\n"
          ]
        }
      ]
    },
    {
      "cell_type": "markdown",
      "source": [
        "## Cross Validation "
      ],
      "metadata": {
        "id": "9odtPGGTzM57"
      }
    },
    {
      "cell_type": "code",
      "source": [
        "from sklearn.model_selection import cross_val_score\n",
        "accuracies = cross_val_score(estimator = RF_classifier, X = X_train, y = y_train, cv = 5)\n",
        "print(\"Accuracy: {:.2f} %\".format(accuracies.mean()*100))\n",
        "print(\"Standard Deviation: {:.2f} %\".format(accuracies.std()*100))"
      ],
      "metadata": {
        "colab": {
          "base_uri": "https://localhost:8080/"
        },
        "id": "XGXA99nuzM1u",
        "outputId": "2a26c204-cca9-45e9-b4bb-f6eec19258ec"
      },
      "execution_count": 267,
      "outputs": [
        {
          "output_type": "stream",
          "name": "stdout",
          "text": [
            "Accuracy: 73.98 %\n",
            "Standard Deviation: 2.03 %\n"
          ]
        }
      ]
    },
    {
      "cell_type": "markdown",
      "source": [
        "## GBDT"
      ],
      "metadata": {
        "id": "XDphGPAjzMyE"
      }
    },
    {
      "cell_type": "code",
      "source": [
        "from sklearn.ensemble import GradientBoostingClassifier\n",
        "\n",
        "GBDT_classifier = GradientBoostingClassifier()\n",
        "GBDT_classifier.fit(X_train, y_train)\n",
        "\n",
        "\n",
        "from sklearn.metrics import classification_report, confusion_matrix\n",
        "\n",
        "\n",
        "y_predict_train = GBDT_classifier.predict(X_train)\n",
        "y_predict_train\n",
        "cm = confusion_matrix(y_train, y_predict_train)\n",
        "sns.heatmap(cm, annot=True)"
      ],
      "metadata": {
        "colab": {
          "base_uri": "https://localhost:8080/",
          "height": 283
        },
        "id": "7-_nptBczMu4",
        "outputId": "ec66e7e3-ac37-4139-d250-0b4245af4d84"
      },
      "execution_count": 268,
      "outputs": [
        {
          "output_type": "execute_result",
          "data": {
            "text/plain": [
              "<matplotlib.axes._subplots.AxesSubplot at 0x7fb2c5d06890>"
            ]
          },
          "metadata": {},
          "execution_count": 268
        },
        {
          "output_type": "display_data",
          "data": {
            "text/plain": [
              "<Figure size 432x288 with 2 Axes>"
            ],
            "image/png": "[encoded data removed]"
          },
          "metadata": {
            "needs_background": "light"
          }
        }
      ]
    },
    {
      "cell_type": "code",
      "source": [
        "# Predicting the Test set results\n",
        "y_predict_test = GBDT_classifier.predict(X_test)\n",
        "cm = confusion_matrix(y_test, y_predict_test)\n",
        "sns.heatmap(cm, annot=True)"
      ],
      "metadata": {
        "colab": {
          "base_uri": "https://localhost:8080/",
          "height": 283
        },
        "id": "DqOlX035zMDM",
        "outputId": "228dca68-f255-4ef8-f394-4d040c1eecb0"
      },
      "execution_count": 269,
      "outputs": [
        {
          "output_type": "execute_result",
          "data": {
            "text/plain": [
              "<matplotlib.axes._subplots.AxesSubplot at 0x7fb2c5c99090>"
            ]
          },
          "metadata": {},
          "execution_count": 269
        },
        {
          "output_type": "display_data",
          "data": {
            "text/plain": [
              "<Figure size 432x288 with 2 Axes>"
            ],
            "image/png": "[encoded data removed]"
          },
          "metadata": {
            "needs_background": "light"
          }
        }
      ]
    },
    {
      "cell_type": "code",
      "source": [
        "print(classification_report(y_test, y_predict_test))"
      ],
      "metadata": {
        "colab": {
          "base_uri": "https://localhost:8080/"
        },
        "id": "okLnjfkIzL_t",
        "outputId": "14a80459-eff5-41b7-c4e0-30898b02bee7"
      },
      "execution_count": 270,
      "outputs": [
        {
          "output_type": "stream",
          "name": "stdout",
          "text": [
            "              precision    recall  f1-score   support\n",
            "\n",
            "           0       0.72      0.92      0.80       241\n",
            "           1       0.57      0.23      0.33       115\n",
            "\n",
            "    accuracy                           0.70       356\n",
            "   macro avg       0.64      0.58      0.57       356\n",
            "weighted avg       0.67      0.70      0.65       356\n",
            "\n"
          ]
        }
      ]
    },
    {
      "cell_type": "markdown",
      "source": [
        "## Cross Validation"
      ],
      "metadata": {
        "id": "MBWW6Ngx6mxU"
      }
    },
    {
      "cell_type": "code",
      "source": [
        "from sklearn.model_selection import cross_val_score\n",
        "accuracies = cross_val_score(estimator = GBDT_classifier, X = X_train, y = y_train, cv = 5)\n",
        "print(\"Accuracy: {:.2f} %\".format(accuracies.mean()*100))\n",
        "print(\"Standard Deviation: {:.2f} %\".format(accuracies.std()*100))"
      ],
      "metadata": {
        "colab": {
          "base_uri": "https://localhost:8080/"
        },
        "id": "upUwfJBGzL8t",
        "outputId": "9ff1118d-9d1d-43ea-883a-b30e783fd3ee"
      },
      "execution_count": 271,
      "outputs": [
        {
          "output_type": "stream",
          "name": "stdout",
          "text": [
            "Accuracy: 70.74 %\n",
            "Standard Deviation: 2.11 %\n"
          ]
        }
      ]
    },
    {
      "cell_type": "markdown",
      "source": [
        "## XGBoost"
      ],
      "metadata": {
        "id": "ZjwIMQrEzL5m"
      }
    },
    {
      "cell_type": "code",
      "source": [
        "from xgboost import XGBClassifier\n",
        "XGB_classifier = XGBClassifier()\n",
        "XGB_classifier.fit(X_train, y_train)\n",
        "\n",
        "\n",
        "from sklearn.metrics import classification_report, confusion_matrix, accuracy_score\n",
        "\n",
        "\n",
        "y_predict_train = XGB_classifier.predict(X_train)\n",
        "y_predict_train\n",
        "cm = confusion_matrix(y_train, y_predict_train)\n",
        "sns.heatmap(cm, annot=True)"
      ],
      "metadata": {
        "colab": {
          "base_uri": "https://localhost:8080/",
          "height": 283
        },
        "id": "yKwz-CGFzL20",
        "outputId": "8112c149-17f5-4b9b-ff92-bb5171e419e6"
      },
      "execution_count": 272,
      "outputs": [
        {
          "output_type": "execute_result",
          "data": {
            "text/plain": [
              "<matplotlib.axes._subplots.AxesSubplot at 0x7fb2c5b87110>"
            ]
          },
          "metadata": {},
          "execution_count": 272
        },
        {
          "output_type": "display_data",
          "data": {
            "text/plain": [
              "<Figure size 432x288 with 2 Axes>"
            ],
            "image/png": "[encoded data removed]"
          },
          "metadata": {
            "needs_background": "light"
          }
        }
      ]
    },
    {
      "cell_type": "code",
      "source": [
        "# Predicting the Test set results\n",
        "y_predict_test = XGB_classifier.predict(X_test)\n",
        "cm = confusion_matrix(y_test, y_predict_test)\n",
        "sns.heatmap(cm, annot=True)"
      ],
      "metadata": {
        "colab": {
          "base_uri": "https://localhost:8080/",
          "height": 287
        },
        "id": "mm_BeuSezLz2",
        "outputId": "4e1835fe-09e5-4d3f-b8df-d1f4aef390b9"
      },
      "execution_count": 273,
      "outputs": [
        {
          "output_type": "execute_result",
          "data": {
            "text/plain": [
              "<matplotlib.axes._subplots.AxesSubplot at 0x7fb2c5b7a890>"
            ]
          },
          "metadata": {},
          "execution_count": 273
        },
        {
          "output_type": "display_data",
          "data": {
            "text/plain": [
              "<Figure size 432x288 with 2 Axes>"
            ],
            "image/png": "[encoded data removed]"
          },
          "metadata": {
            "needs_background": "light"
          }
        }
      ]
    },
    {
      "cell_type": "code",
      "source": [
        "print(classification_report(y_test, y_predict_test))"
      ],
      "metadata": {
        "colab": {
          "base_uri": "https://localhost:8080/"
        },
        "id": "nzRcqdOf0dB-",
        "outputId": "7a5533f2-a480-4a2a-c281-863e89eac6ea"
      },
      "execution_count": 274,
      "outputs": [
        {
          "output_type": "stream",
          "name": "stdout",
          "text": [
            "              precision    recall  f1-score   support\n",
            "\n",
            "           0       0.71      0.93      0.81       241\n",
            "           1       0.60      0.21      0.31       115\n",
            "\n",
            "    accuracy                           0.70       356\n",
            "   macro avg       0.66      0.57      0.56       356\n",
            "weighted avg       0.68      0.70      0.65       356\n",
            "\n"
          ]
        }
      ]
    },
    {
      "cell_type": "markdown",
      "source": [
        "## Cross Validation"
      ],
      "metadata": {
        "id": "dbeBUvae0c99"
      }
    },
    {
      "cell_type": "code",
      "source": [
        "from sklearn.model_selection import cross_val_score\n",
        "accuracies = cross_val_score(estimator = XGB_classifier, X = X_train, y = y_train, cv = 5)\n",
        "print(\"Accuracy: {:.2f} %\".format(accuracies.mean()*100))\n",
        "print(\"Standard Deviation: {:.2f} %\".format(accuracies.std()*100))"
      ],
      "metadata": {
        "colab": {
          "base_uri": "https://localhost:8080/"
        },
        "id": "Nzkq4uCJ0c6p",
        "outputId": "a4d5d7b8-7c7d-424d-fdf3-04e630e27f35"
      },
      "execution_count": 275,
      "outputs": [
        {
          "output_type": "stream",
          "name": "stdout",
          "text": [
            "Accuracy: 70.68 %\n",
            "Standard Deviation: 1.79 %\n"
          ]
        }
      ]
    },
    {
      "cell_type": "markdown",
      "source": [
        "## ROC Curve"
      ],
      "metadata": {
        "id": "S7qvNhyg0c35"
      }
    },
    {
      "cell_type": "code",
      "source": [
        "import matplotlib.pyplot as plt\n",
        "from sklearn import metrics\n",
        "\n",
        "from sklearn.linear_model import LogisticRegression\n",
        "from sklearn.ensemble import GradientBoostingClassifier\n",
        "from sklearn.ensemble import RandomForestClassifier\n",
        "from xgboost import XGBClassifier\n",
        "XGB_classifier = XGBClassifier()\n",
        "from sklearn.naive_bayes import MultinomialNB\n",
        "NB_classifier = MultinomialNB()"
      ],
      "metadata": {
        "id": "RLMwro8X0czQ"
      },
      "execution_count": 276,
      "outputs": []
    },
    {
      "cell_type": "code",
      "source": [
        "#set up plotting area\n",
        "plt.figure(0).clf()\n",
        "\n",
        "\n",
        "#fit logistic regression model and plot ROC curve\n",
        "model = LogisticRegression()\n",
        "model.fit(X_train, y_train)\n",
        "y_pred = model.predict_proba(X_test)[:, 1]\n",
        "fpr, tpr, _ = metrics.roc_curve(y_test, y_pred)\n",
        "auc = round(metrics.roc_auc_score(y_test, y_pred), 4)\n",
        "plt.plot(fpr,tpr,label=\"Logistic Regression, AUC=\"+str(auc))\n",
        "#fit gradient boosted model and plot ROC curve\n",
        "model = GradientBoostingClassifier()\n",
        "model.fit(X_train, y_train)\n",
        "y_pred = model.predict_proba(X_test)[:, 1]\n",
        "fpr, tpr, _ = metrics.roc_curve(y_test, y_pred)\n",
        "auc = round(metrics.roc_auc_score(y_test, y_pred), 4)\n",
        "plt.plot(fpr,tpr,label=\"Gradient Boosting, AUC=\"+str(auc))\n",
        "\n",
        "#fit gradient boosted model and plot ROC curve\n",
        "model = RandomForestClassifier()\n",
        "model.fit(X_train, y_train)\n",
        "y_pred = model.predict_proba(X_test)[:, 1]\n",
        "fpr, tpr, _ = metrics.roc_curve(y_test, y_pred)\n",
        "auc = round(metrics.roc_auc_score(y_test, y_pred), 4)\n",
        "plt.plot(fpr,tpr,label=\"Random Forest, AUC=\"+str(auc))\n",
        "\n",
        "#fit gradient boosted model and plot ROC curve\n",
        "model = XGBClassifier()\n",
        "model.fit(X_train, y_train)\n",
        "y_pred = model.predict_proba(X_test)[:, 1]\n",
        "fpr, tpr, _ = metrics.roc_curve(y_test, y_pred)\n",
        "auc = round(metrics.roc_auc_score(y_test, y_pred), 4)\n",
        "plt.plot(fpr,tpr,label=\"XGBoost, AUC=\"+str(auc))\n",
        "\n",
        "#fit gradient boosted model and plot ROC curve\n",
        "model = MultinomialNB()\n",
        "model.fit(X_train, y_train)\n",
        "y_pred = model.predict_proba(X_test)[:, 1]\n",
        "fpr, tpr, _ = metrics.roc_curve(y_test, y_pred)\n",
        "auc = round(metrics.roc_auc_score(y_test, y_pred), 4)\n",
        "plt.plot(fpr,tpr,label=\"NAIVE BAYES, AUC=\"+str(auc))\n",
        "\n",
        "# Plot line with no predictive power (baseline)\n",
        "plt.plot([0, 1], [0, 1], color='darkblue', linestyle='--', label='Baseline')\n",
        "\n",
        "#add legend\n",
        "plt.legend()"
      ],
      "metadata": {
        "colab": {
          "base_uri": "https://localhost:8080/",
          "height": 283
        },
        "id": "g_keJ6gu0cuo",
        "outputId": "37e0e273-cb1b-40e3-b968-63b429e38d13"
      },
      "execution_count": 277,
      "outputs": [
        {
          "output_type": "execute_result",
          "data": {
            "text/plain": [
              "<matplotlib.legend.Legend at 0x7fb2c5d069d0>"
            ]
          },
          "metadata": {},
          "execution_count": 277
        },
        {
          "output_type": "display_data",
          "data": {
            "text/plain": [
              "<Figure size 432x288 with 1 Axes>"
            ],
            "image/png": "[encoded data removed]"
          },
          "metadata": {
            "needs_background": "light"
          }
        }
      ]
    },
    {
      "cell_type": "markdown",
      "source": [
        "#LIWC+ Tf-Idf"
      ],
      "metadata": {
        "id": "gLABvTwXi_j6"
      }
    },
    {
      "cell_type": "code",
      "source": [
        "!pip install liwc"
      ],
      "metadata": {
        "colab": {
          "base_uri": "https://localhost:8080/"
        },
        "id": "6S3BCYJ_kHd0",
        "outputId": "0d105d99-47cd-4886-ac20-bb157c598b52"
      },
      "execution_count": 427,
      "outputs": [
        {
          "output_type": "stream",
          "name": "stdout",
          "text": [
            "Looking in indexes: https://pypi.org/simple, https://us-python.pkg.dev/colab-wheels/public/simple/\n",
            "Collecting liwc\n",
            "  Downloading liwc-0.5.0-py2.py3-none-any.whl (5.1 kB)\n",
            "Installing collected packages: liwc\n",
            "Successfully installed liwc-0.5.0\n"
          ]
        }
      ]
    },
    {
      "cell_type": "code",
      "source": [
        "import liwc\n",
        "\n",
        "liwcPath = ('LIWC2007_English080730.dic')\n",
        "parse, category_names = liwc.load_token_parser(liwcPath)"
      ],
      "metadata": {
        "id": "6sxLKmqPj7vb"
      },
      "execution_count": 431,
      "outputs": []
    },
    {
      "cell_type": "code",
      "source": [
        "corpus = []\n",
        "words = []\n",
        "\n",
        "for i in range(0,len(data)):\n",
        "    review = re.sub('[^a-zA-Z0-9]',' ',data['translated_Text'][i])\n",
        "    review = review.lower()\n",
        "    review = review.split() \n",
        "    review = list(category for token in review for category in parse(token))\n",
        "    statements = ' '.join(review)\n",
        "    corpus.append(statements)\n",
        "    words.append(review)"
      ],
      "metadata": {
        "id": "gGmINE48muwq"
      },
      "execution_count": 443,
      "outputs": []
    },
    {
      "cell_type": "code",
      "source": [
        "from sklearn.feature_extraction.text import TfidfVectorizer\n",
        "vectorizer=TfidfVectorizer(max_features=5000)\n",
        "X_fit=vectorizer.fit(corpus)"
      ],
      "metadata": {
        "id": "xhxKNAjdlUdC"
      },
      "execution_count": 444,
      "outputs": []
    },
    {
      "cell_type": "code",
      "source": [
        "depressed_countvectorizer =X_fit.transform(corpus)"
      ],
      "metadata": {
        "id": "xHTADApAmLxk"
      },
      "execution_count": 445,
      "outputs": []
    },
    {
      "cell_type": "code",
      "source": [
        "features = vectorizer.get_feature_names()\n",
        "df_count = pd.DataFrame(X_transformed.toarray(),columns = features)\n",
        "df_count"
      ],
      "metadata": {
        "colab": {
          "base_uri": "https://localhost:8080/",
          "height": 487
        },
        "id": "vD0r-BD-mO1D",
        "outputId": "70b50f02-82de-4365-f947-e0da1896fd9d"
      },
      "execution_count": 446,
      "outputs": [
        {
          "output_type": "execute_result",
          "data": {
            "text/plain": [
              "       achieve    adverb    affect     anger  anx   article  assent   auxverb  \\\n",
              "0     0.000000  0.111579  0.090714  0.000000  0.0  0.000000     0.0  0.085035   \n",
              "1     0.000000  0.253836  0.103185  0.000000  0.0  0.112136     0.0  0.145089   \n",
              "2     0.000000  0.000000  0.266439  0.225425  0.0  0.096517     0.0  0.166507   \n",
              "3     0.366269  0.000000  0.070327  0.000000  0.0  0.000000     0.0  0.263700   \n",
              "4     0.000000  0.000000  0.000000  0.000000  0.0  0.000000     0.0  0.000000   \n",
              "...        ...       ...       ...       ...  ...       ...     ...       ...   \n",
              "1773  0.000000  0.000000  0.295580  0.000000  0.0  0.000000     0.0  0.092359   \n",
              "1774  0.000000  0.193500  0.157317  0.000000  0.0  0.085481     0.0  0.073734   \n",
              "1775  0.000000  0.087213  0.070905  0.000000  0.0  0.038528     0.0  0.033233   \n",
              "1776  0.054955  0.050062  0.049745  0.011478  0.0  0.098291     0.0  0.076305   \n",
              "1777  0.000000  0.000000  0.000000  0.000000  0.0  0.000000     0.0  0.000000   \n",
              "\n",
              "           bio      body  ...    social     space  swear    tentat      they  \\\n",
              "0     0.000000  0.000000  ...  0.000000  0.105202    0.0  0.000000  0.000000   \n",
              "1     0.000000  0.000000  ...  0.145923  0.119665    0.0  0.074555  0.000000   \n",
              "2     0.000000  0.000000  ...  0.167464  0.000000    0.0  0.128341  0.000000   \n",
              "3     0.000000  0.000000  ...  0.000000  0.000000    0.0  0.000000  0.000000   \n",
              "4     0.000000  0.000000  ...  0.000000  0.000000    0.0  0.000000  0.000000   \n",
              "...        ...       ...  ...       ...       ...    ...       ...       ...   \n",
              "1773  0.268189  0.207268  ...  0.278669  0.000000    0.0  0.142378  0.000000   \n",
              "1774  0.000000  0.000000  ...  0.222475  0.000000    0.0  0.113667  0.000000   \n",
              "1775  0.096502  0.000000  ...  0.066849  0.246687    0.0  0.153695  0.000000   \n",
              "1776  0.067703  0.076107  ...  0.191860  0.094401    0.0  0.071885  0.023938   \n",
              "1777  0.000000  0.000000  ...  0.000000  0.000000    0.0  0.000000  0.000000   \n",
              "\n",
              "          time      verb        we      work       you  \n",
              "0     0.107643  0.301086  0.000000  0.000000  0.000000  \n",
              "1     0.061221  0.214049  0.000000  0.000000  0.163548  \n",
              "2     0.210775  0.147388  0.000000  0.000000  0.000000  \n",
              "3     0.000000  0.291777  0.000000  0.152543  0.000000  \n",
              "4     0.000000  0.191105  0.000000  0.000000  0.000000  \n",
              "...        ...       ...       ...       ...       ...  \n",
              "1773  0.233827  0.163508  0.000000  0.000000  0.000000  \n",
              "1774  0.280013  0.065268  0.214622  0.000000  0.124673  \n",
              "1775  0.126206  0.058835  0.000000  0.000000  0.000000  \n",
              "1776  0.042930  0.172612  0.074035  0.019618  0.043007  \n",
              "1777  0.000000  0.000000  0.000000  0.000000  0.000000  \n",
              "\n",
              "[1778 rows x 62 columns]"
            ],
            "text/html": [
              "\n",
              "  <div id=\"df-132fdca6-e58b-4520-b92a-3b9a99aeca47\">\n",
              "    <div class=\"colab-df-container\">\n",
              "      <div>\n",
              "<style scoped>\n",
              "    .dataframe tbody tr th:only-of-type {\n",
              "        vertical-align: middle;\n",
              "    }\n",
              "\n",
              "    .dataframe tbody tr th {\n",
              "        vertical-align: top;\n",
              "    }\n",
              "\n",
              "    .dataframe thead th {\n",
              "        text-align: right;\n",
              "    }\n",
              "</style>\n",
              "<table border=\"1\" class=\"dataframe\">\n",
              "  <thead>\n",
              "    <tr style=\"text-align: right;\">\n",
              "      <th></th>\n",
              "      <th>achieve</th>\n",
              "      <th>adverb</th>\n",
              "      <th>affect</th>\n",
              "      <th>anger</th>\n",
              "      <th>anx</th>\n",
              "      <th>article</th>\n",
              "      <th>assent</th>\n",
              "      <th>auxverb</th>\n",
              "      <th>bio</th>\n",
              "      <th>body</th>\n",
              "      <th>...</th>\n",
              "      <th>social</th>\n",
              "      <th>space</th>\n",
              "      <th>swear</th>\n",
              "      <th>tentat</th>\n",
              "      <th>they</th>\n",
              "      <th>time</th>\n",
              "      <th>verb</th>\n",
              "      <th>we</th>\n",
              "      <th>work</th>\n",
              "      <th>you</th>\n",
              "    </tr>\n",
              "  </thead>\n",
              "  <tbody>\n",
              "    <tr>\n",
              "      <th>0</th>\n",
              "      <td>0.000000</td>\n",
              "      <td>0.111579</td>\n",
              "      <td>0.090714</td>\n",
              "      <td>0.000000</td>\n",
              "      <td>0.0</td>\n",
              "      <td>0.000000</td>\n",
              "      <td>0.0</td>\n",
              "      <td>0.085035</td>\n",
              "      <td>0.000000</td>\n",
              "      <td>0.000000</td>\n",
              "      <td>...</td>\n",
              "      <td>0.000000</td>\n",
              "      <td>0.105202</td>\n",
              "      <td>0.0</td>\n",
              "      <td>0.000000</td>\n",
              "      <td>0.000000</td>\n",
              "      <td>0.107643</td>\n",
              "      <td>0.301086</td>\n",
              "      <td>0.000000</td>\n",
              "      <td>0.000000</td>\n",
              "      <td>0.000000</td>\n",
              "    </tr>\n",
              "    <tr>\n",
              "      <th>1</th>\n",
              "      <td>0.000000</td>\n",
              "      <td>0.253836</td>\n",
              "      <td>0.103185</td>\n",
              "      <td>0.000000</td>\n",
              "      <td>0.0</td>\n",
              "      <td>0.112136</td>\n",
              "      <td>0.0</td>\n",
              "      <td>0.145089</td>\n",
              "      <td>0.000000</td>\n",
              "      <td>0.000000</td>\n",
              "      <td>...</td>\n",
              "      <td>0.145923</td>\n",
              "      <td>0.119665</td>\n",
              "      <td>0.0</td>\n",
              "      <td>0.074555</td>\n",
              "      <td>0.000000</td>\n",
              "      <td>0.061221</td>\n",
              "      <td>0.214049</td>\n",
              "      <td>0.000000</td>\n",
              "      <td>0.000000</td>\n",
              "      <td>0.163548</td>\n",
              "    </tr>\n",
              "    <tr>\n",
              "      <th>2</th>\n",
              "      <td>0.000000</td>\n",
              "      <td>0.000000</td>\n",
              "      <td>0.266439</td>\n",
              "      <td>0.225425</td>\n",
              "      <td>0.0</td>\n",
              "      <td>0.096517</td>\n",
              "      <td>0.0</td>\n",
              "      <td>0.166507</td>\n",
              "      <td>0.000000</td>\n",
              "      <td>0.000000</td>\n",
              "      <td>...</td>\n",
              "      <td>0.167464</td>\n",
              "      <td>0.000000</td>\n",
              "      <td>0.0</td>\n",
              "      <td>0.128341</td>\n",
              "      <td>0.000000</td>\n",
              "      <td>0.210775</td>\n",
              "      <td>0.147388</td>\n",
              "      <td>0.000000</td>\n",
              "      <td>0.000000</td>\n",
              "      <td>0.000000</td>\n",
              "    </tr>\n",
              "    <tr>\n",
              "      <th>3</th>\n",
              "      <td>0.366269</td>\n",
              "      <td>0.000000</td>\n",
              "      <td>0.070327</td>\n",
              "      <td>0.000000</td>\n",
              "      <td>0.0</td>\n",
              "      <td>0.000000</td>\n",
              "      <td>0.0</td>\n",
              "      <td>0.263700</td>\n",
              "      <td>0.000000</td>\n",
              "      <td>0.000000</td>\n",
              "      <td>...</td>\n",
              "      <td>0.000000</td>\n",
              "      <td>0.000000</td>\n",
              "      <td>0.0</td>\n",
              "      <td>0.000000</td>\n",
              "      <td>0.000000</td>\n",
              "      <td>0.000000</td>\n",
              "      <td>0.291777</td>\n",
              "      <td>0.000000</td>\n",
              "      <td>0.152543</td>\n",
              "      <td>0.000000</td>\n",
              "    </tr>\n",
              "    <tr>\n",
              "      <th>4</th>\n",
              "      <td>0.000000</td>\n",
              "      <td>0.000000</td>\n",
              "      <td>0.000000</td>\n",
              "      <td>0.000000</td>\n",
              "      <td>0.0</td>\n",
              "      <td>0.000000</td>\n",
              "      <td>0.0</td>\n",
              "      <td>0.000000</td>\n",
              "      <td>0.000000</td>\n",
              "      <td>0.000000</td>\n",
              "      <td>...</td>\n",
              "      <td>0.000000</td>\n",
              "      <td>0.000000</td>\n",
              "      <td>0.0</td>\n",
              "      <td>0.000000</td>\n",
              "      <td>0.000000</td>\n",
              "      <td>0.000000</td>\n",
              "      <td>0.191105</td>\n",
              "      <td>0.000000</td>\n",
              "      <td>0.000000</td>\n",
              "      <td>0.000000</td>\n",
              "    </tr>\n",
              "    <tr>\n",
              "      <th>...</th>\n",
              "      <td>...</td>\n",
              "      <td>...</td>\n",
              "      <td>...</td>\n",
              "      <td>...</td>\n",
              "      <td>...</td>\n",
              "      <td>...</td>\n",
              "      <td>...</td>\n",
              "      <td>...</td>\n",
              "      <td>...</td>\n",
              "      <td>...</td>\n",
              "      <td>...</td>\n",
              "      <td>...</td>\n",
              "      <td>...</td>\n",
              "      <td>...</td>\n",
              "      <td>...</td>\n",
              "      <td>...</td>\n",
              "      <td>...</td>\n",
              "      <td>...</td>\n",
              "      <td>...</td>\n",
              "      <td>...</td>\n",
              "      <td>...</td>\n",
              "    </tr>\n",
              "    <tr>\n",
              "      <th>1773</th>\n",
              "      <td>0.000000</td>\n",
              "      <td>0.000000</td>\n",
              "      <td>0.295580</td>\n",
              "      <td>0.000000</td>\n",
              "      <td>0.0</td>\n",
              "      <td>0.000000</td>\n",
              "      <td>0.0</td>\n",
              "      <td>0.092359</td>\n",
              "      <td>0.268189</td>\n",
              "      <td>0.207268</td>\n",
              "      <td>...</td>\n",
              "      <td>0.278669</td>\n",
              "      <td>0.000000</td>\n",
              "      <td>0.0</td>\n",
              "      <td>0.142378</td>\n",
              "      <td>0.000000</td>\n",
              "      <td>0.233827</td>\n",
              "      <td>0.163508</td>\n",
              "      <td>0.000000</td>\n",
              "      <td>0.000000</td>\n",
              "      <td>0.000000</td>\n",
              "    </tr>\n",
              "    <tr>\n",
              "      <th>1774</th>\n",
              "      <td>0.000000</td>\n",
              "      <td>0.193500</td>\n",
              "      <td>0.157317</td>\n",
              "      <td>0.000000</td>\n",
              "      <td>0.0</td>\n",
              "      <td>0.085481</td>\n",
              "      <td>0.0</td>\n",
              "      <td>0.073734</td>\n",
              "      <td>0.000000</td>\n",
              "      <td>0.000000</td>\n",
              "      <td>...</td>\n",
              "      <td>0.222475</td>\n",
              "      <td>0.000000</td>\n",
              "      <td>0.0</td>\n",
              "      <td>0.113667</td>\n",
              "      <td>0.000000</td>\n",
              "      <td>0.280013</td>\n",
              "      <td>0.065268</td>\n",
              "      <td>0.214622</td>\n",
              "      <td>0.000000</td>\n",
              "      <td>0.124673</td>\n",
              "    </tr>\n",
              "    <tr>\n",
              "      <th>1775</th>\n",
              "      <td>0.000000</td>\n",
              "      <td>0.087213</td>\n",
              "      <td>0.070905</td>\n",
              "      <td>0.000000</td>\n",
              "      <td>0.0</td>\n",
              "      <td>0.038528</td>\n",
              "      <td>0.0</td>\n",
              "      <td>0.033233</td>\n",
              "      <td>0.096502</td>\n",
              "      <td>0.000000</td>\n",
              "      <td>...</td>\n",
              "      <td>0.066849</td>\n",
              "      <td>0.246687</td>\n",
              "      <td>0.0</td>\n",
              "      <td>0.153695</td>\n",
              "      <td>0.000000</td>\n",
              "      <td>0.126206</td>\n",
              "      <td>0.058835</td>\n",
              "      <td>0.000000</td>\n",
              "      <td>0.000000</td>\n",
              "      <td>0.000000</td>\n",
              "    </tr>\n",
              "    <tr>\n",
              "      <th>1776</th>\n",
              "      <td>0.054955</td>\n",
              "      <td>0.050062</td>\n",
              "      <td>0.049745</td>\n",
              "      <td>0.011478</td>\n",
              "      <td>0.0</td>\n",
              "      <td>0.098291</td>\n",
              "      <td>0.0</td>\n",
              "      <td>0.076305</td>\n",
              "      <td>0.067703</td>\n",
              "      <td>0.076107</td>\n",
              "      <td>...</td>\n",
              "      <td>0.191860</td>\n",
              "      <td>0.094401</td>\n",
              "      <td>0.0</td>\n",
              "      <td>0.071885</td>\n",
              "      <td>0.023938</td>\n",
              "      <td>0.042930</td>\n",
              "      <td>0.172612</td>\n",
              "      <td>0.074035</td>\n",
              "      <td>0.019618</td>\n",
              "      <td>0.043007</td>\n",
              "    </tr>\n",
              "    <tr>\n",
              "      <th>1777</th>\n",
              "      <td>0.000000</td>\n",
              "      <td>0.000000</td>\n",
              "      <td>0.000000</td>\n",
              "      <td>0.000000</td>\n",
              "      <td>0.0</td>\n",
              "      <td>0.000000</td>\n",
              "      <td>0.0</td>\n",
              "      <td>0.000000</td>\n",
              "      <td>0.000000</td>\n",
              "      <td>0.000000</td>\n",
              "      <td>...</td>\n",
              "      <td>0.000000</td>\n",
              "      <td>0.000000</td>\n",
              "      <td>0.0</td>\n",
              "      <td>0.000000</td>\n",
              "      <td>0.000000</td>\n",
              "      <td>0.000000</td>\n",
              "      <td>0.000000</td>\n",
              "      <td>0.000000</td>\n",
              "      <td>0.000000</td>\n",
              "      <td>0.000000</td>\n",
              "    </tr>\n",
              "  </tbody>\n",
              "</table>\n",
              "<p>1778 rows × 62 columns</p>\n",
              "</div>\n",
              "      <button class=\"colab-df-convert\" onclick=\"convertToInteractive('df-132fdca6-e58b-4520-b92a-3b9a99aeca47')\"\n",
              "              title=\"Convert this dataframe to an interactive table.\"\n",
              "              style=\"display:none;\">\n",
              "        \n",
              "  <svg xmlns=\"http://www.w3.org/2000/svg\" height=\"24px\"viewBox=\"0 0 24 24\"\n",
              "       width=\"24px\">\n",
              "    <path d=\"M0 0h24v24H0V0z\" fill=\"none\"/>\n",
              "    <path d=\"M18.56 5.44l.94 2.06.94-2.06 2.06-.94-2.06-.94-.94-2.06-.94 2.06-2.06.94zm-11 1L8.5 8.5l.94-2.06 2.06-.94-2.06-.94L8.5 2.5l-.94 2.06-2.06.94zm10 10l.94 2.06.94-2.06 2.06-.94-2.06-.94-.94-2.06-.94 2.06-2.06.94z\"/><path d=\"M17.41 7.96l-1.37-1.37c-.4-.4-.92-.59-1.43-.59-.52 0-1.04.2-1.43.59L10.3 9.45l-7.72 7.72c-.78.78-.78 2.05 0 2.83L4 21.41c.39.39.9.59 1.41.59.51 0 1.02-.2 1.41-.59l7.78-7.78 2.81-2.81c.8-.78.8-2.07 0-2.86zM5.41 20L4 18.59l7.72-7.72 1.47 1.35L5.41 20z\"/>\n",
              "  </svg>\n",
              "      </button>\n",
              "      \n",
              "  <style>\n",
              "    .colab-df-container {\n",
              "      display:flex;\n",
              "      flex-wrap:wrap;\n",
              "      gap: 12px;\n",
              "    }\n",
              "\n",
              "    .colab-df-convert {\n",
              "      background-color: #E8F0FE;\n",
              "      border: none;\n",
              "      border-radius: 50%;\n",
              "      cursor: pointer;\n",
              "      display: none;\n",
              "      fill: #1967D2;\n",
              "      height: 32px;\n",
              "      padding: 0 0 0 0;\n",
              "      width: 32px;\n",
              "    }\n",
              "\n",
              "    .colab-df-convert:hover {\n",
              "      background-color: #E2EBFA;\n",
              "      box-shadow: 0px 1px 2px rgba(60, 64, 67, 0.3), 0px 1px 3px 1px rgba(60, 64, 67, 0.15);\n",
              "      fill: #174EA6;\n",
              "    }\n",
              "\n",
              "    [theme=dark] .colab-df-convert {\n",
              "      background-color: #3B4455;\n",
              "      fill: #D2E3FC;\n",
              "    }\n",
              "\n",
              "    [theme=dark] .colab-df-convert:hover {\n",
              "      background-color: #434B5C;\n",
              "      box-shadow: 0px 1px 3px 1px rgba(0, 0, 0, 0.15);\n",
              "      filter: drop-shadow(0px 1px 2px rgba(0, 0, 0, 0.3));\n",
              "      fill: #FFFFFF;\n",
              "    }\n",
              "  </style>\n",
              "\n",
              "      <script>\n",
              "        const buttonEl =\n",
              "          document.querySelector('#df-132fdca6-e58b-4520-b92a-3b9a99aeca47 button.colab-df-convert');\n",
              "        buttonEl.style.display =\n",
              "          google.colab.kernel.accessAllowed ? 'block' : 'none';\n",
              "\n",
              "        async function convertToInteractive(key) {\n",
              "          const element = document.querySelector('#df-132fdca6-e58b-4520-b92a-3b9a99aeca47');\n",
              "          const dataTable =\n",
              "            await google.colab.kernel.invokeFunction('convertToInteractive',\n",
              "                                                     [key], {});\n",
              "          if (!dataTable) return;\n",
              "\n",
              "          const docLinkHtml = 'Like what you see? Visit the ' +\n",
              "            '<a target=\"_blank\" href=https://colab.research.google.com/notebooks/data_table.ipynb>data table notebook</a>'\n",
              "            + ' to learn more about interactive tables.';\n",
              "          element.innerHTML = '';\n",
              "          dataTable['output_type'] = 'display_data';\n",
              "          await google.colab.output.renderOutput(dataTable, element);\n",
              "          const docLink = document.createElement('div');\n",
              "          docLink.innerHTML = docLinkHtml;\n",
              "          element.appendChild(docLink);\n",
              "        }\n",
              "      </script>\n",
              "    </div>\n",
              "  </div>\n",
              "  "
            ]
          },
          "metadata": {},
          "execution_count": 446
        }
      ]
    },
    {
      "cell_type": "code",
      "source": [
        ""
      ],
      "metadata": {
        "id": "rioxW74rmbyh"
      },
      "execution_count": null,
      "outputs": []
    },
    {
      "cell_type": "markdown",
      "source": [
        "# STEP #4: COUNT VECTORIZER"
      ],
      "metadata": {
        "id": "AZ9WEThGpm_G"
      }
    },
    {
      "cell_type": "markdown",
      "metadata": {
        "id": "NRcL6SF7pm_J"
      },
      "source": [
        "### APPLY COUNT VECTORIZER"
      ]
    },
    {
      "cell_type": "markdown",
      "metadata": {
        "id": "5EO07ak-pm_N"
      },
      "source": [
        "## TRAINING THE MODEL WITH ALL DATASET"
      ]
    },
    {
      "cell_type": "markdown",
      "metadata": {
        "id": "0OJ7RC4Hpm_N"
      },
      "source": [
        "## Naive_Bayes"
      ]
    },
    {
      "cell_type": "code",
      "execution_count": 447,
      "metadata": {
        "colab": {
          "base_uri": "https://localhost:8080/"
        },
        "outputId": "784efee2-d726-4ee8-fbc1-715413fbc246",
        "id": "Fw5d5xHUpm_O"
      },
      "outputs": [
        {
          "output_type": "execute_result",
          "data": {
            "text/plain": [
              "MultinomialNB()"
            ]
          },
          "metadata": {},
          "execution_count": 447
        }
      ],
      "source": [
        "from sklearn.naive_bayes import MultinomialNB\n",
        "\n",
        "NB_classifier = MultinomialNB()\n",
        "Label = data['Label'].values\n",
        "NB_classifier.fit(depressed_countvectorizer, Label)"
      ]
    },
    {
      "cell_type": "markdown",
      "metadata": {
        "id": "Xnwnrw0xpm_O"
      },
      "source": [
        "STEP#4: DIVIDE THE DATA INTO TRAINING AND TESTING PRIOR TO TRAINING"
      ]
    },
    {
      "cell_type": "code",
      "execution_count": 448,
      "metadata": {
        "id": "aEDBzzWApm_P"
      },
      "outputs": [],
      "source": [
        "X = depressed_countvectorizer\n",
        "y = Label"
      ]
    },
    {
      "cell_type": "code",
      "execution_count": 449,
      "metadata": {
        "id": "AUHZ66Ompm_Q"
      },
      "outputs": [],
      "source": [
        "from sklearn.model_selection import train_test_split\n",
        "X_train, X_test, y_train, y_test = train_test_split(X, y, test_size=0.2)"
      ]
    },
    {
      "cell_type": "code",
      "execution_count": 450,
      "metadata": {
        "colab": {
          "base_uri": "https://localhost:8080/"
        },
        "outputId": "d065181b-10cf-45be-a102-556856ab8013",
        "id": "Nri8cV8Npm_Q"
      },
      "outputs": [
        {
          "output_type": "execute_result",
          "data": {
            "text/plain": [
              "MultinomialNB()"
            ]
          },
          "metadata": {},
          "execution_count": 450
        }
      ],
      "source": [
        "from sklearn.naive_bayes import MultinomialNB\n",
        "\n",
        "NB_classifier = MultinomialNB()\n",
        "NB_classifier.fit(X_train, y_train)"
      ]
    },
    {
      "cell_type": "markdown",
      "metadata": {
        "id": "WzErFEZ7pm_R"
      },
      "source": [
        "STEP#5: EVALUATING THE MODEL"
      ]
    },
    {
      "cell_type": "code",
      "execution_count": 451,
      "metadata": {
        "colab": {
          "base_uri": "https://localhost:8080/",
          "height": 283
        },
        "outputId": "79737c9d-162d-4e71-f934-71f2e7464266",
        "id": "7PbKpLsvpm_R"
      },
      "outputs": [
        {
          "output_type": "execute_result",
          "data": {
            "text/plain": [
              "<matplotlib.axes._subplots.AxesSubplot at 0x7fb2be5571d0>"
            ]
          },
          "metadata": {},
          "execution_count": 451
        },
        {
          "output_type": "display_data",
          "data": {
            "text/plain": [
              "<Figure size 432x288 with 2 Axes>"
            ],
            "image/png": "[encoded data removed]"
          },
          "metadata": {
            "needs_background": "light"
          }
        }
      ],
      "source": [
        "from sklearn.metrics import classification_report, confusion_matrix\n",
        "\n",
        "y_predict_train = NB_classifier.predict(X_train)\n",
        "y_predict_train\n",
        "cm = confusion_matrix(y_train, y_predict_train)\n",
        "sns.heatmap(cm, annot=True)"
      ]
    },
    {
      "cell_type": "code",
      "execution_count": 452,
      "metadata": {
        "colab": {
          "base_uri": "https://localhost:8080/",
          "height": 283
        },
        "outputId": "8bb00244-3a67-4213-ad10-9727da017f2a",
        "id": "tyh1YZYDpm_S"
      },
      "outputs": [
        {
          "output_type": "execute_result",
          "data": {
            "text/plain": [
              "<matplotlib.axes._subplots.AxesSubplot at 0x7fb2be5ca950>"
            ]
          },
          "metadata": {},
          "execution_count": 452
        },
        {
          "output_type": "display_data",
          "data": {
            "text/plain": [
              "<Figure size 432x288 with 2 Axes>"
            ],
            "image/png": "[encoded data removed]"
          },
          "metadata": {
            "needs_background": "light"
          }
        }
      ],
      "source": [
        "# Predicting the Test set results\n",
        "y_predict_test = NB_classifier.predict(X_test)\n",
        "cm = confusion_matrix(y_test, y_predict_test)\n",
        "sns.heatmap(cm, annot=True)"
      ]
    },
    {
      "cell_type": "code",
      "execution_count": 453,
      "metadata": {
        "colab": {
          "base_uri": "https://localhost:8080/"
        },
        "outputId": "720cbd04-f96b-4acc-8c8b-09e219cd51f8",
        "id": "7U6JakLRpm_T"
      },
      "outputs": [
        {
          "output_type": "stream",
          "name": "stdout",
          "text": [
            "              precision    recall  f1-score   support\n",
            "\n",
            "           0       0.68      1.00      0.81       238\n",
            "           1       1.00      0.03      0.07       118\n",
            "\n",
            "    accuracy                           0.68       356\n",
            "   macro avg       0.84      0.52      0.44       356\n",
            "weighted avg       0.78      0.68      0.56       356\n",
            "\n"
          ]
        }
      ],
      "source": [
        "print(classification_report(y_test, y_predict_test))"
      ]
    },
    {
      "cell_type": "markdown",
      "metadata": {
        "id": "Cpd3E8-spm_U"
      },
      "source": [
        "\n",
        "\n",
        "\n",
        "\n",
        "\n",
        "\n",
        "\n",
        "\n",
        "\n",
        "## Cross Validation"
      ]
    },
    {
      "cell_type": "code",
      "execution_count": 454,
      "metadata": {
        "colab": {
          "base_uri": "https://localhost:8080/"
        },
        "outputId": "e06f8687-5f22-4eae-c0a3-a9984e4b36ae",
        "id": "Nl6y_p81pm_U"
      },
      "outputs": [
        {
          "output_type": "stream",
          "name": "stdout",
          "text": [
            "Accuracy: 68.28 %\n",
            "Standard Deviation: 0.31 %\n"
          ]
        }
      ],
      "source": [
        "from sklearn.model_selection import cross_val_score\n",
        "accuracies = cross_val_score(estimator = NB_classifier, X = X_train, y = y_train, cv = 5)\n",
        "print(\"Accuracy: {:.2f} %\".format(accuracies.mean()*100))\n",
        "print(\"Standard Deviation: {:.2f} %\".format(accuracies.std()*100))"
      ]
    },
    {
      "cell_type": "code",
      "execution_count": 454,
      "metadata": {
        "id": "8aBg9nKRpm_V"
      },
      "outputs": [],
      "source": [
        ""
      ]
    },
    {
      "cell_type": "code",
      "execution_count": 454,
      "metadata": {
        "id": "ROwgAS6Bpm_V"
      },
      "outputs": [],
      "source": [
        ""
      ]
    },
    {
      "cell_type": "markdown",
      "metadata": {
        "id": "EgoPvhO4pm_W"
      },
      "source": [
        "\n",
        "\n",
        "## Logistic Regression"
      ]
    },
    {
      "cell_type": "code",
      "execution_count": 455,
      "metadata": {
        "colab": {
          "base_uri": "https://localhost:8080/"
        },
        "outputId": "dd0bf864-7143-48b0-9b53-d3a5717be182",
        "id": "2kwVQYFjpm_W"
      },
      "outputs": [
        {
          "output_type": "execute_result",
          "data": {
            "text/plain": [
              "LogisticRegression()"
            ]
          },
          "metadata": {},
          "execution_count": 455
        }
      ],
      "source": [
        "#importing the logistic regression class from scikit learn library\n",
        "from sklearn.linear_model import LogisticRegression\n",
        "\n",
        "LR_classifier = LogisticRegression() #create LR Classifier\n",
        "LR_classifier.fit(X_train, y_train) #applying fit function to connect the training set"
      ]
    },
    {
      "cell_type": "markdown",
      "metadata": {
        "id": "sxyMFwoUpm_X"
      },
      "source": [
        "STEP#5: EVALUATING THE MODEL"
      ]
    },
    {
      "cell_type": "code",
      "execution_count": 456,
      "metadata": {
        "colab": {
          "base_uri": "https://localhost:8080/",
          "height": 283
        },
        "outputId": "74caf0b3-217e-434d-b5a7-bd8782871a18",
        "id": "rTJ8EARDpm_X"
      },
      "outputs": [
        {
          "output_type": "execute_result",
          "data": {
            "text/plain": [
              "<matplotlib.axes._subplots.AxesSubplot at 0x7fb2be6d7450>"
            ]
          },
          "metadata": {},
          "execution_count": 456
        },
        {
          "output_type": "display_data",
          "data": {
            "text/plain": [
              "<Figure size 432x288 with 2 Axes>"
            ],
            "image/png": "[encoded data removed]"
          },
          "metadata": {
            "needs_background": "light"
          }
        }
      ],
      "source": [
        "#importing classification report & confusion_matrix from scikit learn library\n",
        "from sklearn.metrics import classification_report, confusion_matrix\n",
        "\n",
        "\n",
        "#train the dataset with LR classifier\n",
        "y_predict_train = LR_classifier.predict(X_train)\n",
        "y_predict_train\n",
        "\n",
        "#Generate confusion matrix\n",
        "cm = confusion_matrix(y_train, y_predict_train)\n",
        "sns.heatmap(cm, annot=True) #generate heatmap"
      ]
    },
    {
      "cell_type": "code",
      "execution_count": 457,
      "metadata": {
        "colab": {
          "base_uri": "https://localhost:8080/",
          "height": 283
        },
        "outputId": "b4d20b23-d4a6-4666-8597-6270de7223ad",
        "id": "JJnje68Bpm_Y"
      },
      "outputs": [
        {
          "output_type": "execute_result",
          "data": {
            "text/plain": [
              "<matplotlib.axes._subplots.AxesSubplot at 0x7fb2be6e5750>"
            ]
          },
          "metadata": {},
          "execution_count": 457
        },
        {
          "output_type": "display_data",
          "data": {
            "text/plain": [
              "<Figure size 432x288 with 2 Axes>"
            ],
            "image/png": "[encoded data removed]"
          },
          "metadata": {
            "needs_background": "light"
          }
        }
      ],
      "source": [
        "#train the dataset with LR classifier\n",
        "y_predict_train = LR_classifier.predict(X_train)\n",
        "y_predict_train\n",
        "\n",
        "#Generate confusion matrix\n",
        "cm = confusion_matrix(y_train, y_predict_train)\n",
        "sns.heatmap(cm, annot=True) #generate heatmap"
      ]
    },
    {
      "cell_type": "code",
      "execution_count": 458,
      "metadata": {
        "colab": {
          "base_uri": "https://localhost:8080/",
          "height": 284
        },
        "outputId": "fb4c3430-ebb2-4744-8979-161118586d75",
        "id": "Jn9r4T0ipm_Z"
      },
      "outputs": [
        {
          "output_type": "execute_result",
          "data": {
            "text/plain": [
              "<matplotlib.axes._subplots.AxesSubplot at 0x7fb2be843490>"
            ]
          },
          "metadata": {},
          "execution_count": 458
        },
        {
          "output_type": "display_data",
          "data": {
            "text/plain": [
              "<Figure size 432x288 with 2 Axes>"
            ],
            "image/png": "[encoded data removed]"
          },
          "metadata": {
            "needs_background": "light"
          }
        }
      ],
      "source": [
        "# Predicting the Test set results\n",
        "y_predict_test = LR_classifier.predict(X_test)\n",
        "cm = confusion_matrix(y_test, y_predict_test)\n",
        "sns.heatmap(cm, annot=True)"
      ]
    },
    {
      "cell_type": "code",
      "execution_count": 459,
      "metadata": {
        "colab": {
          "base_uri": "https://localhost:8080/"
        },
        "outputId": "015471c8-e3e5-4842-af8c-09a8322902a4",
        "id": "Z_73GGW-pm_a"
      },
      "outputs": [
        {
          "output_type": "stream",
          "name": "stdout",
          "text": [
            "              precision    recall  f1-score   support\n",
            "\n",
            "           0       0.71      0.96      0.82       238\n",
            "           1       0.72      0.22      0.34       118\n",
            "\n",
            "    accuracy                           0.71       356\n",
            "   macro avg       0.72      0.59      0.58       356\n",
            "weighted avg       0.72      0.71      0.66       356\n",
            "\n"
          ]
        }
      ],
      "source": [
        "print(classification_report(y_test, y_predict_test))"
      ]
    },
    {
      "cell_type": "markdown",
      "metadata": {
        "id": "z9qzUIlipm_a"
      },
      "source": [
        "## Cross Validation"
      ]
    },
    {
      "cell_type": "code",
      "execution_count": 460,
      "metadata": {
        "colab": {
          "base_uri": "https://localhost:8080/"
        },
        "outputId": "9b038334-9077-40d8-ead5-d7ab016736c5",
        "id": "FcKc5CT6pm_b"
      },
      "outputs": [
        {
          "output_type": "stream",
          "name": "stdout",
          "text": [
            "Accuracy: 71.03 %\n",
            "Standard Deviation: 1.72 %\n"
          ]
        }
      ],
      "source": [
        "from sklearn.model_selection import cross_val_score\n",
        "accuracies = cross_val_score(estimator = LR_classifier, X = X_train, y = y_train, cv = 5)\n",
        "print(\"Accuracy: {:.2f} %\".format(accuracies.mean()*100))\n",
        "print(\"Standard Deviation: {:.2f} %\".format(accuracies.std()*100))"
      ]
    },
    {
      "cell_type": "code",
      "execution_count": 460,
      "metadata": {
        "id": "9fdCOPxLpm_c"
      },
      "outputs": [],
      "source": [
        ""
      ]
    },
    {
      "cell_type": "code",
      "execution_count": 460,
      "metadata": {
        "id": "2ZAmcercpm_c"
      },
      "outputs": [],
      "source": [
        ""
      ]
    },
    {
      "cell_type": "markdown",
      "metadata": {
        "id": "zxmrl1Pgpm_c"
      },
      "source": [
        "## SVM"
      ]
    },
    {
      "cell_type": "code",
      "execution_count": 461,
      "metadata": {
        "colab": {
          "base_uri": "https://localhost:8080/"
        },
        "outputId": "a3d90bd7-b3f2-4cef-f247-55541d248a32",
        "id": "d5H3xH2Dpm_d"
      },
      "outputs": [
        {
          "output_type": "execute_result",
          "data": {
            "text/plain": [
              "SVC(kernel='linear', random_state=0)"
            ]
          },
          "metadata": {},
          "execution_count": 461
        }
      ],
      "source": [
        "from sklearn.svm import SVC\n",
        "\n",
        "SVM_classifier = SVC(kernel = 'linear', random_state = 0)\n",
        "SVM_classifier.fit(X_train, y_train)"
      ]
    },
    {
      "cell_type": "code",
      "execution_count": 462,
      "metadata": {
        "colab": {
          "base_uri": "https://localhost:8080/",
          "height": 283
        },
        "outputId": "eed46800-e583-4452-c4f2-34b16864d4c4",
        "id": "Gv6u-gDQpm_e"
      },
      "outputs": [
        {
          "output_type": "execute_result",
          "data": {
            "text/plain": [
              "<matplotlib.axes._subplots.AxesSubplot at 0x7fb2be953550>"
            ]
          },
          "metadata": {},
          "execution_count": 462
        },
        {
          "output_type": "display_data",
          "data": {
            "text/plain": [
              "<Figure size 432x288 with 2 Axes>"
            ],
            "image/png": "[encoded data removed]"
          },
          "metadata": {
            "needs_background": "light"
          }
        }
      ],
      "source": [
        "from sklearn.metrics import classification_report, confusion_matrix, accuracy_score\n",
        "\n",
        "\n",
        "y_predict_train = SVM_classifier.predict(X_train)\n",
        "y_predict_train\n",
        "cm = confusion_matrix(y_train, y_predict_train)\n",
        "sns.heatmap(cm, annot=True)"
      ]
    },
    {
      "cell_type": "code",
      "execution_count": 463,
      "metadata": {
        "colab": {
          "base_uri": "https://localhost:8080/",
          "height": 283
        },
        "outputId": "d44c32ac-afbf-4101-e596-c26aa0403ec5",
        "id": "KydcL-8cpm_e"
      },
      "outputs": [
        {
          "output_type": "execute_result",
          "data": {
            "text/plain": [
              "<matplotlib.axes._subplots.AxesSubplot at 0x7fb2bea62590>"
            ]
          },
          "metadata": {},
          "execution_count": 463
        },
        {
          "output_type": "display_data",
          "data": {
            "text/plain": [
              "<Figure size 432x288 with 2 Axes>"
            ],
            "image/png": "[encoded data removed]"
          },
          "metadata": {
            "needs_background": "light"
          }
        }
      ],
      "source": [
        "# Predicting the Test set results\n",
        "y_predict_test =SVM_classifier.predict(X_test)\n",
        "cm = confusion_matrix(y_test,y_predict_test)\n",
        "sns.heatmap(cm, annot=True)"
      ]
    },
    {
      "cell_type": "code",
      "execution_count": 464,
      "metadata": {
        "colab": {
          "base_uri": "https://localhost:8080/"
        },
        "outputId": "0b220cff-c2a1-4c27-b1c1-9e95cffe19fa",
        "id": "E76nWcYHpm_f"
      },
      "outputs": [
        {
          "output_type": "stream",
          "name": "stdout",
          "text": [
            "              precision    recall  f1-score   support\n",
            "\n",
            "           0       0.69      0.97      0.81       238\n",
            "           1       0.65      0.13      0.21       118\n",
            "\n",
            "    accuracy                           0.69       356\n",
            "   macro avg       0.67      0.55      0.51       356\n",
            "weighted avg       0.68      0.69      0.61       356\n",
            "\n"
          ]
        }
      ],
      "source": [
        "print(classification_report(y_test, y_predict_test))"
      ]
    },
    {
      "cell_type": "markdown",
      "metadata": {
        "id": "uDZbtwGMpm_g"
      },
      "source": [
        "## Cross Validation"
      ]
    },
    {
      "cell_type": "code",
      "execution_count": 465,
      "metadata": {
        "colab": {
          "base_uri": "https://localhost:8080/"
        },
        "outputId": "ff8039a6-cc07-4bbf-cc1e-19dcf5417542",
        "id": "64_ViP1spm_g"
      },
      "outputs": [
        {
          "output_type": "stream",
          "name": "stdout",
          "text": [
            "Accuracy: 69.27 %\n",
            "Standard Deviation: 1.02 %\n"
          ]
        }
      ],
      "source": [
        "from sklearn.model_selection import cross_val_score\n",
        "accuracies = cross_val_score(estimator = SVM_classifier, X = X_train, y = y_train, cv = 5)\n",
        "print(\"Accuracy: {:.2f} %\".format(accuracies.mean()*100))\n",
        "print(\"Standard Deviation: {:.2f} %\".format(accuracies.std()*100))"
      ]
    },
    {
      "cell_type": "code",
      "execution_count": 465,
      "metadata": {
        "id": "lqDoE_vVpm_h"
      },
      "outputs": [],
      "source": [
        ""
      ]
    },
    {
      "cell_type": "code",
      "execution_count": 465,
      "metadata": {
        "id": "pFvCuBoipm_h"
      },
      "outputs": [],
      "source": [
        ""
      ]
    },
    {
      "cell_type": "markdown",
      "metadata": {
        "id": "iTxkhMAtpm_i"
      },
      "source": [
        "## RANDOM FOREST"
      ]
    },
    {
      "cell_type": "code",
      "execution_count": 466,
      "metadata": {
        "colab": {
          "base_uri": "https://localhost:8080/"
        },
        "outputId": "4f9203e9-2782-48af-be0f-f173e17af3f9",
        "id": "T_7aL57Zpm_i"
      },
      "outputs": [
        {
          "output_type": "execute_result",
          "data": {
            "text/plain": [
              "RandomForestClassifier(criterion='entropy', n_estimators=40, random_state=0)"
            ]
          },
          "metadata": {},
          "execution_count": 466
        }
      ],
      "source": [
        "from sklearn.ensemble import RandomForestClassifier\n",
        "\n",
        "RF_classifier = RandomForestClassifier(n_estimators = 40, criterion = 'entropy', random_state = 0)\n",
        "RF_classifier.fit(X_train, y_train)"
      ]
    },
    {
      "cell_type": "code",
      "execution_count": 467,
      "metadata": {
        "colab": {
          "base_uri": "https://localhost:8080/",
          "height": 283
        },
        "outputId": "e889cb1c-c21e-4caf-c830-1b9268a068c8",
        "id": "2D0Tnae5pm_j"
      },
      "outputs": [
        {
          "output_type": "execute_result",
          "data": {
            "text/plain": [
              "<matplotlib.axes._subplots.AxesSubplot at 0x7fb2beb2e410>"
            ]
          },
          "metadata": {},
          "execution_count": 467
        },
        {
          "output_type": "display_data",
          "data": {
            "text/plain": [
              "<Figure size 432x288 with 2 Axes>"
            ],
            "image/png": "[encoded data removed]"
          },
          "metadata": {
            "needs_background": "light"
          }
        }
      ],
      "source": [
        "from sklearn.metrics import classification_report, confusion_matrix\n",
        "\n",
        "y_predict_train = RF_classifier.predict(X_train)\n",
        "y_predict_train\n",
        "cm = confusion_matrix(y_train, y_predict_train)\n",
        "sns.heatmap(cm, annot=True)"
      ]
    },
    {
      "cell_type": "code",
      "execution_count": 468,
      "metadata": {
        "colab": {
          "base_uri": "https://localhost:8080/",
          "height": 283
        },
        "outputId": "83b16649-f174-4a61-906f-aeca8cc0d8ee",
        "id": "CzfAYuelpm_k"
      },
      "outputs": [
        {
          "output_type": "execute_result",
          "data": {
            "text/plain": [
              "<matplotlib.axes._subplots.AxesSubplot at 0x7fb2beb8d5d0>"
            ]
          },
          "metadata": {},
          "execution_count": 468
        },
        {
          "output_type": "display_data",
          "data": {
            "text/plain": [
              "<Figure size 432x288 with 2 Axes>"
            ],
            "image/png": "[encoded data removed]"
          },
          "metadata": {
            "needs_background": "light"
          }
        }
      ],
      "source": [
        "# Predicting the Test set results\n",
        "y_predict_test = RF_classifier.predict(X_test)\n",
        "cm = confusion_matrix(y_test, y_predict_test)\n",
        "sns.heatmap(cm, annot=True)"
      ]
    },
    {
      "cell_type": "code",
      "execution_count": 469,
      "metadata": {
        "colab": {
          "base_uri": "https://localhost:8080/"
        },
        "outputId": "4058a6ec-24eb-4bad-a5a3-e2ff39125b88",
        "id": "ZAQU8zlppm_l"
      },
      "outputs": [
        {
          "output_type": "stream",
          "name": "stdout",
          "text": [
            "              precision    recall  f1-score   support\n",
            "\n",
            "           0       0.78      0.93      0.85       238\n",
            "           1       0.78      0.48      0.60       118\n",
            "\n",
            "    accuracy                           0.78       356\n",
            "   macro avg       0.78      0.71      0.72       356\n",
            "weighted avg       0.78      0.78      0.77       356\n",
            "\n"
          ]
        }
      ],
      "source": [
        "print(classification_report(y_test, y_predict_test))"
      ]
    },
    {
      "cell_type": "markdown",
      "source": [
        "## Cross Validation"
      ],
      "metadata": {
        "id": "X0RcuQwNpm_l"
      }
    },
    {
      "cell_type": "code",
      "execution_count": 470,
      "metadata": {
        "colab": {
          "base_uri": "https://localhost:8080/"
        },
        "outputId": "a86eea8f-1294-4218-825c-8a2f6e87910a",
        "id": "TbHZ679apm_m"
      },
      "outputs": [
        {
          "output_type": "stream",
          "name": "stdout",
          "text": [
            "Accuracy: 74.54 %\n",
            "Standard Deviation: 2.08 %\n"
          ]
        }
      ],
      "source": [
        "from sklearn.model_selection import cross_val_score\n",
        "accuracies = cross_val_score(estimator = RF_classifier, X = X_train, y = y_train, cv = 5)\n",
        "print(\"Accuracy: {:.2f} %\".format(accuracies.mean()*100))\n",
        "print(\"Standard Deviation: {:.2f} %\".format(accuracies.std()*100))"
      ]
    },
    {
      "cell_type": "code",
      "execution_count": 470,
      "metadata": {
        "id": "k6qr-zmYpm_n"
      },
      "outputs": [],
      "source": [
        ""
      ]
    },
    {
      "cell_type": "code",
      "execution_count": 470,
      "metadata": {
        "id": "haw5gi1Spm_o"
      },
      "outputs": [],
      "source": [
        ""
      ]
    },
    {
      "cell_type": "markdown",
      "metadata": {
        "id": "bHndpKcOpm_o"
      },
      "source": [
        "##GBDT"
      ]
    },
    {
      "cell_type": "code",
      "execution_count": 471,
      "metadata": {
        "colab": {
          "base_uri": "https://localhost:8080/"
        },
        "outputId": "6c597611-ec1c-4a20-b521-bee664e7ae1f",
        "id": "2RVpRiqupm_p"
      },
      "outputs": [
        {
          "output_type": "execute_result",
          "data": {
            "text/plain": [
              "GradientBoostingClassifier()"
            ]
          },
          "metadata": {},
          "execution_count": 471
        }
      ],
      "source": [
        "from sklearn.ensemble import GradientBoostingClassifier\n",
        "\n",
        "GBDT_classifier = GradientBoostingClassifier()\n",
        "GBDT_classifier.fit(X_train, y_train)"
      ]
    },
    {
      "cell_type": "code",
      "execution_count": 472,
      "metadata": {
        "colab": {
          "base_uri": "https://localhost:8080/",
          "height": 283
        },
        "outputId": "a72c0ae0-5915-4c93-aa90-f3def3cf62d8",
        "id": "oLrg-eU1pm_q"
      },
      "outputs": [
        {
          "output_type": "execute_result",
          "data": {
            "text/plain": [
              "<matplotlib.axes._subplots.AxesSubplot at 0x7fb2bec5e350>"
            ]
          },
          "metadata": {},
          "execution_count": 472
        },
        {
          "output_type": "display_data",
          "data": {
            "text/plain": [
              "<Figure size 432x288 with 2 Axes>"
            ],
            "image/png": "[encoded data removed]"
          },
          "metadata": {
            "needs_background": "light"
          }
        }
      ],
      "source": [
        "from sklearn.metrics import classification_report, confusion_matrix\n",
        "\n",
        "y_predict_train = GBDT_classifier.predict(X_train)\n",
        "y_predict_train\n",
        "cm = confusion_matrix(y_train, y_predict_train)\n",
        "sns.heatmap(cm, annot=True)"
      ]
    },
    {
      "cell_type": "code",
      "execution_count": 473,
      "metadata": {
        "colab": {
          "base_uri": "https://localhost:8080/",
          "height": 283
        },
        "outputId": "ff71ebc5-0623-46b2-b9ed-cee1a40caae4",
        "id": "o-NTztRrpm_r"
      },
      "outputs": [
        {
          "output_type": "execute_result",
          "data": {
            "text/plain": [
              "<matplotlib.axes._subplots.AxesSubplot at 0x7fb2becccfd0>"
            ]
          },
          "metadata": {},
          "execution_count": 473
        },
        {
          "output_type": "display_data",
          "data": {
            "text/plain": [
              "<Figure size 432x288 with 2 Axes>"
            ],
            "image/png": "[encoded data removed]"
          },
          "metadata": {
            "needs_background": "light"
          }
        }
      ],
      "source": [
        "# Predicting the Test set results\n",
        "y_predict_test = GBDT_classifier.predict(X_test)\n",
        "cm = confusion_matrix(y_test, y_predict_test)\n",
        "sns.heatmap(cm, annot=True)"
      ]
    },
    {
      "cell_type": "code",
      "execution_count": 474,
      "metadata": {
        "colab": {
          "base_uri": "https://localhost:8080/"
        },
        "outputId": "93c996ec-35cb-473b-f500-a1274fa99c44",
        "id": "2aPP7ipwpm_s"
      },
      "outputs": [
        {
          "output_type": "stream",
          "name": "stdout",
          "text": [
            "              precision    recall  f1-score   support\n",
            "\n",
            "           0       0.75      0.92      0.83       238\n",
            "           1       0.71      0.39      0.50       118\n",
            "\n",
            "    accuracy                           0.74       356\n",
            "   macro avg       0.73      0.65      0.67       356\n",
            "weighted avg       0.74      0.74      0.72       356\n",
            "\n"
          ]
        }
      ],
      "source": [
        "print(classification_report(y_test, y_predict_test))"
      ]
    },
    {
      "cell_type": "markdown",
      "source": [
        "## Cross Validation"
      ],
      "metadata": {
        "id": "cT1LFiHVpm_t"
      }
    },
    {
      "cell_type": "code",
      "execution_count": 475,
      "metadata": {
        "colab": {
          "base_uri": "https://localhost:8080/"
        },
        "outputId": "6e57b540-a5a5-43b4-8435-0fff992d8afc",
        "id": "V742TAgupm_t"
      },
      "outputs": [
        {
          "output_type": "stream",
          "name": "stdout",
          "text": [
            "Accuracy: 73.91 %\n",
            "Standard Deviation: 1.95 %\n"
          ]
        }
      ],
      "source": [
        "from sklearn.model_selection import cross_val_score\n",
        "accuracies = cross_val_score(estimator = GBDT_classifier, X = X_train, y = y_train, cv = 5)\n",
        "print(\"Accuracy: {:.2f} %\".format(accuracies.mean()*100))\n",
        "print(\"Standard Deviation: {:.2f} %\".format(accuracies.std()*100))"
      ]
    },
    {
      "cell_type": "code",
      "execution_count": 475,
      "metadata": {
        "id": "aZM4MJQipm_u"
      },
      "outputs": [],
      "source": [
        ""
      ]
    },
    {
      "cell_type": "code",
      "execution_count": 475,
      "metadata": {
        "id": "NIsb5thtpm_v"
      },
      "outputs": [],
      "source": [
        ""
      ]
    },
    {
      "cell_type": "markdown",
      "metadata": {
        "id": "LL1ElOw1pm_v"
      },
      "source": [
        "## XGBoost"
      ]
    },
    {
      "cell_type": "code",
      "execution_count": 476,
      "metadata": {
        "colab": {
          "base_uri": "https://localhost:8080/"
        },
        "outputId": "73e146ae-e277-4512-ca87-b98f7f452310",
        "id": "EWRNJPlepm_w"
      },
      "outputs": [
        {
          "output_type": "execute_result",
          "data": {
            "text/plain": [
              "XGBClassifier()"
            ]
          },
          "metadata": {},
          "execution_count": 476
        }
      ],
      "source": [
        "from xgboost import XGBClassifier\n",
        "XGB_classifier = XGBClassifier()\n",
        "XGB_classifier.fit(X_train, y_train)"
      ]
    },
    {
      "cell_type": "code",
      "execution_count": 477,
      "metadata": {
        "colab": {
          "base_uri": "https://localhost:8080/",
          "height": 283
        },
        "outputId": "b1f31ba9-b8f4-42d7-f8f7-f7c172964953",
        "id": "wH5jTB81pm_w"
      },
      "outputs": [
        {
          "output_type": "execute_result",
          "data": {
            "text/plain": [
              "<matplotlib.axes._subplots.AxesSubplot at 0x7fb2c594ac10>"
            ]
          },
          "metadata": {},
          "execution_count": 477
        },
        {
          "output_type": "display_data",
          "data": {
            "text/plain": [
              "<Figure size 432x288 with 2 Axes>"
            ],
            "image/png": "[encoded data removed]"
          },
          "metadata": {
            "needs_background": "light"
          }
        }
      ],
      "source": [
        "from sklearn.metrics import classification_report, confusion_matrix, accuracy_score\n",
        "\n",
        "y_predict_train = XGB_classifier.predict(X_train)\n",
        "y_predict_train\n",
        "cm = confusion_matrix(y_train, y_predict_train)\n",
        "sns.heatmap(cm, annot=True)"
      ]
    },
    {
      "cell_type": "code",
      "execution_count": 478,
      "metadata": {
        "colab": {
          "base_uri": "https://localhost:8080/",
          "height": 283
        },
        "outputId": "24660dc6-b47e-4ff5-c942-eb94f7c335bd",
        "id": "oAY9XWzgpm_x"
      },
      "outputs": [
        {
          "output_type": "execute_result",
          "data": {
            "text/plain": [
              "<matplotlib.axes._subplots.AxesSubplot at 0x7fb2c1e5a5d0>"
            ]
          },
          "metadata": {},
          "execution_count": 478
        },
        {
          "output_type": "display_data",
          "data": {
            "text/plain": [
              "<Figure size 432x288 with 2 Axes>"
            ],
            "image/png": "[encoded data removed]"
          },
          "metadata": {
            "needs_background": "light"
          }
        }
      ],
      "source": [
        "# Predicting the Test set results\n",
        "y_predict_test = XGB_classifier.predict(X_test)\n",
        "cm = confusion_matrix(y_test, y_predict_test)\n",
        "sns.heatmap(cm, annot=True)"
      ]
    },
    {
      "cell_type": "code",
      "execution_count": 479,
      "metadata": {
        "colab": {
          "base_uri": "https://localhost:8080/"
        },
        "outputId": "c2920ed3-4118-4a41-b6c8-9f127850a938",
        "id": "qbO4ckJnpm_x"
      },
      "outputs": [
        {
          "output_type": "stream",
          "name": "stdout",
          "text": [
            "              precision    recall  f1-score   support\n",
            "\n",
            "           0       0.77      0.91      0.83       238\n",
            "           1       0.71      0.45      0.55       118\n",
            "\n",
            "    accuracy                           0.76       356\n",
            "   macro avg       0.74      0.68      0.69       356\n",
            "weighted avg       0.75      0.76      0.74       356\n",
            "\n"
          ]
        }
      ],
      "source": [
        "print(classification_report(y_test, y_predict_test))"
      ]
    },
    {
      "cell_type": "markdown",
      "source": [
        "## Cross Validation"
      ],
      "metadata": {
        "id": "1k9QVImUpm_x"
      }
    },
    {
      "cell_type": "code",
      "execution_count": 480,
      "metadata": {
        "colab": {
          "base_uri": "https://localhost:8080/"
        },
        "outputId": "a5af60b6-a8e2-400b-9b79-259a030e6616",
        "id": "wRAYBhlupm_y"
      },
      "outputs": [
        {
          "output_type": "stream",
          "name": "stdout",
          "text": [
            "Accuracy: 72.51 %\n",
            "Standard Deviation: 1.96 %\n"
          ]
        }
      ],
      "source": [
        "from sklearn.model_selection import cross_val_score\n",
        "accuracies = cross_val_score(estimator = XGB_classifier, X = X_train, y = y_train, cv = 5)\n",
        "print(\"Accuracy: {:.2f} %\".format(accuracies.mean()*100))\n",
        "print(\"Standard Deviation: {:.2f} %\".format(accuracies.std()*100))"
      ]
    },
    {
      "cell_type": "code",
      "execution_count": 480,
      "metadata": {
        "id": "vt5EgA98pm_y"
      },
      "outputs": [],
      "source": [
        ""
      ]
    },
    {
      "cell_type": "markdown",
      "source": [
        "## ROC Curve"
      ],
      "metadata": {
        "id": "dQ5JqPdHpm_y"
      }
    },
    {
      "cell_type": "code",
      "execution_count": 481,
      "metadata": {
        "id": "ES5dEy_Xpm_y"
      },
      "outputs": [],
      "source": [
        "import matplotlib.pyplot as plt\n",
        "from sklearn import metrics\n",
        "\n",
        "from sklearn.linear_model import LogisticRegression\n",
        "from sklearn.ensemble import GradientBoostingClassifier\n",
        "from sklearn.ensemble import RandomForestClassifier\n",
        "from xgboost import XGBClassifier\n",
        "XGB_classifier = XGBClassifier()\n",
        "from sklearn.naive_bayes import MultinomialNB\n",
        "NB_classifier = MultinomialNB()\n"
      ]
    },
    {
      "cell_type": "code",
      "execution_count": 482,
      "metadata": {
        "colab": {
          "base_uri": "https://localhost:8080/",
          "height": 283
        },
        "outputId": "e4ca3827-39dc-4342-cc72-0034e086541f",
        "id": "xLPVH8sPpm_y"
      },
      "outputs": [
        {
          "output_type": "execute_result",
          "data": {
            "text/plain": [
              "<matplotlib.legend.Legend at 0x7fb2c28e1510>"
            ]
          },
          "metadata": {},
          "execution_count": 482
        },
        {
          "output_type": "display_data",
          "data": {
            "text/plain": [
              "<Figure size 432x288 with 1 Axes>"
            ],
            "image/png": "[encoded data removed]"
          },
          "metadata": {
            "needs_background": "light"
          }
        }
      ],
      "source": [
        "#set up plotting area\n",
        "plt.figure(0).clf()\n",
        "\n",
        "\n",
        "#fit logistic regression model and plot ROC curve\n",
        "model = LogisticRegression()\n",
        "model.fit(X_train, y_train)\n",
        "y_pred = model.predict_proba(X_test)[:, 1]\n",
        "fpr, tpr, _ = metrics.roc_curve(y_test, y_pred)\n",
        "auc = round(metrics.roc_auc_score(y_test, y_pred), 4)\n",
        "plt.plot(fpr,tpr,label=\"Logistic Regression, AUC=\"+str(auc))\n",
        "#fit gradient boosted model and plot ROC curve\n",
        "model = GradientBoostingClassifier()\n",
        "model.fit(X_train, y_train)\n",
        "y_pred = model.predict_proba(X_test)[:, 1]\n",
        "fpr, tpr, _ = metrics.roc_curve(y_test, y_pred)\n",
        "auc = round(metrics.roc_auc_score(y_test, y_pred), 4)\n",
        "plt.plot(fpr,tpr,label=\"Gradient Boosting, AUC=\"+str(auc))\n",
        "\n",
        "#fit gradient boosted model and plot ROC curve\n",
        "model = RandomForestClassifier()\n",
        "model.fit(X_train, y_train)\n",
        "y_pred = model.predict_proba(X_test)[:, 1]\n",
        "fpr, tpr, _ = metrics.roc_curve(y_test, y_pred)\n",
        "auc = round(metrics.roc_auc_score(y_test, y_pred), 4)\n",
        "plt.plot(fpr,tpr,label=\"Random Forest, AUC=\"+str(auc))\n",
        "\n",
        "#fit gradient boosted model and plot ROC curve\n",
        "model = XGBClassifier()\n",
        "model.fit(X_train, y_train)\n",
        "y_pred = model.predict_proba(X_test)[:, 1]\n",
        "fpr, tpr, _ = metrics.roc_curve(y_test, y_pred)\n",
        "auc = round(metrics.roc_auc_score(y_test, y_pred), 4)\n",
        "plt.plot(fpr,tpr,label=\"XGBoost, AUC=\"+str(auc))\n",
        "\n",
        "#fit gradient boosted model and plot ROC curve\n",
        "model = MultinomialNB()\n",
        "model.fit(X_train, y_train)\n",
        "y_pred = model.predict_proba(X_test)[:, 1]\n",
        "fpr, tpr, _ = metrics.roc_curve(y_test, y_pred)\n",
        "auc = round(metrics.roc_auc_score(y_test, y_pred), 4)\n",
        "plt.plot(fpr,tpr,label=\"NAIVE BAYES, AUC=\"+str(auc))\n",
        "\n",
        "# Plot line with no predictive power (baseline)\n",
        "plt.plot([0, 1], [0, 1], color='darkblue', linestyle='--', label='Baseline')\n",
        "\n",
        "#add legend\n",
        "plt.legend()"
      ]
    },
    {
      "cell_type": "code",
      "source": [
        ""
      ],
      "metadata": {
        "id": "GKLaNkrSpm_z"
      },
      "execution_count": 482,
      "outputs": []
    },
    {
      "cell_type": "code",
      "source": [
        "\n",
        "\n",
        "\n"
      ],
      "metadata": {
        "id": "a9YK4wXSpm_z"
      },
      "execution_count": 482,
      "outputs": []
    },
    {
      "cell_type": "code",
      "source": [
        ""
      ],
      "metadata": {
        "id": "cDp6A9dbqNZk"
      },
      "execution_count": 482,
      "outputs": []
    }
  ],
  "metadata": {
    "colab": {
      "name": "CSE_597_13th_Aug.ipynb",
      "provenance": [],
      "collapsed_sections": [
        "zswwRx643rbl",
        "yuAeIQ383stl"
      ]
    },
    "kernelspec": {
      "display_name": "Python 3",
      "name": "python3"
    },
    "language_info": {
      "name": "python"
    }
  },
  "nbformat": 4,
  "nbformat_minor": 0
}