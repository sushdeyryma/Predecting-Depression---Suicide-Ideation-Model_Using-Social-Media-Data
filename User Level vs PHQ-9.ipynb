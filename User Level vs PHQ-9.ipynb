{
 "cells": [
  {
   "cell_type": "markdown",
   "id": "292f7e9c",
   "metadata": {},
   "source": [
    "# User Level vs PHQ-9"
   ]
  },
  {
   "cell_type": "code",
   "execution_count": 23,
   "id": "b2c90110",
   "metadata": {},
   "outputs": [],
   "source": [
    "import warnings; \n",
    "warnings.simplefilter('ignore')"
   ]
  },
  {
   "cell_type": "code",
   "execution_count": 24,
   "id": "52f69ada",
   "metadata": {},
   "outputs": [],
   "source": [
    "import numpy as np\n",
    "import matplotlib.pyplot as plt\n",
    "import pandas as pd\n",
    "import seaborn as sns"
   ]
  },
  {
   "cell_type": "code",
   "execution_count": 25,
   "id": "65c8e3ba",
   "metadata": {},
   "outputs": [
    {
     "data": {
      "text/html": [
       "<div>\n",
       "<style scoped>\n",
       "    .dataframe tbody tr th:only-of-type {\n",
       "        vertical-align: middle;\n",
       "    }\n",
       "\n",
       "    .dataframe tbody tr th {\n",
       "        vertical-align: top;\n",
       "    }\n",
       "\n",
       "    .dataframe thead th {\n",
       "        text-align: right;\n",
       "    }\n",
       "</style>\n",
       "<table border=\"1\" class=\"dataframe\">\n",
       "  <thead>\n",
       "    <tr style=\"text-align: right;\">\n",
       "      <th></th>\n",
       "      <th>Male</th>\n",
       "      <th>Female</th>\n",
       "      <th>Third-Gender</th>\n",
       "      <th>PHQ-9 (Age):Depressed</th>\n",
       "      <th>User Level (Age):Depressed</th>\n",
       "      <th>Chattogram Division : Depressed Level</th>\n",
       "      <th>Dhaka Division : Depressed Level</th>\n",
       "    </tr>\n",
       "  </thead>\n",
       "  <tbody>\n",
       "    <tr>\n",
       "      <th>0</th>\n",
       "      <td>PHQ-9</td>\n",
       "      <td>PHQ-9</td>\n",
       "      <td>User_level</td>\n",
       "      <td>31 - 50</td>\n",
       "      <td>26-30</td>\n",
       "      <td>User_level</td>\n",
       "      <td>User_level</td>\n",
       "    </tr>\n",
       "    <tr>\n",
       "      <th>1</th>\n",
       "      <td>PHQ-9</td>\n",
       "      <td>PHQ-9</td>\n",
       "      <td>User_level</td>\n",
       "      <td>More than 50</td>\n",
       "      <td>31-35</td>\n",
       "      <td>User_level</td>\n",
       "      <td>User_level</td>\n",
       "    </tr>\n",
       "    <tr>\n",
       "      <th>2</th>\n",
       "      <td>PHQ-9</td>\n",
       "      <td>PHQ-9</td>\n",
       "      <td>User_level</td>\n",
       "      <td>18 - 30</td>\n",
       "      <td>21-25</td>\n",
       "      <td>User_level</td>\n",
       "      <td>User_level</td>\n",
       "    </tr>\n",
       "    <tr>\n",
       "      <th>3</th>\n",
       "      <td>PHQ-9</td>\n",
       "      <td>PHQ-9</td>\n",
       "      <td>User_level</td>\n",
       "      <td>31 - 50</td>\n",
       "      <td>21-25</td>\n",
       "      <td>User_level</td>\n",
       "      <td>User_level</td>\n",
       "    </tr>\n",
       "    <tr>\n",
       "      <th>4</th>\n",
       "      <td>PHQ-9</td>\n",
       "      <td>PHQ-9</td>\n",
       "      <td>User_level</td>\n",
       "      <td>31 - 50</td>\n",
       "      <td>26-30</td>\n",
       "      <td>User_level</td>\n",
       "      <td>User_level</td>\n",
       "    </tr>\n",
       "    <tr>\n",
       "      <th>...</th>\n",
       "      <td>...</td>\n",
       "      <td>...</td>\n",
       "      <td>...</td>\n",
       "      <td>...</td>\n",
       "      <td>...</td>\n",
       "      <td>...</td>\n",
       "      <td>...</td>\n",
       "    </tr>\n",
       "    <tr>\n",
       "      <th>1827</th>\n",
       "      <td>PHQ-9</td>\n",
       "      <td>NaN</td>\n",
       "      <td>NaN</td>\n",
       "      <td>NaN</td>\n",
       "      <td>NaN</td>\n",
       "      <td>NaN</td>\n",
       "      <td>NaN</td>\n",
       "    </tr>\n",
       "    <tr>\n",
       "      <th>1828</th>\n",
       "      <td>PHQ-9</td>\n",
       "      <td>NaN</td>\n",
       "      <td>NaN</td>\n",
       "      <td>NaN</td>\n",
       "      <td>NaN</td>\n",
       "      <td>NaN</td>\n",
       "      <td>NaN</td>\n",
       "    </tr>\n",
       "    <tr>\n",
       "      <th>1829</th>\n",
       "      <td>PHQ-9</td>\n",
       "      <td>NaN</td>\n",
       "      <td>NaN</td>\n",
       "      <td>NaN</td>\n",
       "      <td>NaN</td>\n",
       "      <td>NaN</td>\n",
       "      <td>NaN</td>\n",
       "    </tr>\n",
       "    <tr>\n",
       "      <th>1830</th>\n",
       "      <td>PHQ-9</td>\n",
       "      <td>NaN</td>\n",
       "      <td>NaN</td>\n",
       "      <td>NaN</td>\n",
       "      <td>NaN</td>\n",
       "      <td>NaN</td>\n",
       "      <td>NaN</td>\n",
       "    </tr>\n",
       "    <tr>\n",
       "      <th>1831</th>\n",
       "      <td>PHQ-9</td>\n",
       "      <td>NaN</td>\n",
       "      <td>NaN</td>\n",
       "      <td>NaN</td>\n",
       "      <td>NaN</td>\n",
       "      <td>NaN</td>\n",
       "      <td>NaN</td>\n",
       "    </tr>\n",
       "  </tbody>\n",
       "</table>\n",
       "<p>1832 rows × 7 columns</p>\n",
       "</div>"
      ],
      "text/plain": [
       "       Male Female Third-Gender PHQ-9 (Age):Depressed  \\\n",
       "0     PHQ-9  PHQ-9   User_level               31 - 50   \n",
       "1     PHQ-9  PHQ-9   User_level          More than 50   \n",
       "2     PHQ-9  PHQ-9   User_level               18 - 30   \n",
       "3     PHQ-9  PHQ-9   User_level               31 - 50   \n",
       "4     PHQ-9  PHQ-9   User_level               31 - 50   \n",
       "...     ...    ...          ...                   ...   \n",
       "1827  PHQ-9    NaN          NaN                   NaN   \n",
       "1828  PHQ-9    NaN          NaN                   NaN   \n",
       "1829  PHQ-9    NaN          NaN                   NaN   \n",
       "1830  PHQ-9    NaN          NaN                   NaN   \n",
       "1831  PHQ-9    NaN          NaN                   NaN   \n",
       "\n",
       "     User Level (Age):Depressed Chattogram Division : Depressed Level  \\\n",
       "0                         26-30                            User_level   \n",
       "1                         31-35                            User_level   \n",
       "2                         21-25                            User_level   \n",
       "3                         21-25                            User_level   \n",
       "4                         26-30                            User_level   \n",
       "...                         ...                                   ...   \n",
       "1827                        NaN                                   NaN   \n",
       "1828                        NaN                                   NaN   \n",
       "1829                        NaN                                   NaN   \n",
       "1830                        NaN                                   NaN   \n",
       "1831                        NaN                                   NaN   \n",
       "\n",
       "     Dhaka Division : Depressed Level  \n",
       "0                          User_level  \n",
       "1                          User_level  \n",
       "2                          User_level  \n",
       "3                          User_level  \n",
       "4                          User_level  \n",
       "...                               ...  \n",
       "1827                              NaN  \n",
       "1828                              NaN  \n",
       "1829                              NaN  \n",
       "1830                              NaN  \n",
       "1831                              NaN  \n",
       "\n",
       "[1832 rows x 7 columns]"
      ]
     },
     "execution_count": 25,
     "metadata": {},
     "output_type": "execute_result"
    }
   ],
   "source": [
    "df = pd.read_csv('user_level_vs_phq9.csv', encoding = 'ISO-8859-1')\n",
    "df"
   ]
  },
  {
   "cell_type": "markdown",
   "id": "43cbc5b8",
   "metadata": {},
   "source": [
    "# User Level vs PHQ-9 (GENDER)"
   ]
  },
  {
   "cell_type": "code",
   "execution_count": 26,
   "id": "77115ab6",
   "metadata": {},
   "outputs": [
    {
     "data": {
      "text/plain": [
       "<AxesSubplot:xlabel='Male', ylabel='count'>"
      ]
     },
     "execution_count": 26,
     "metadata": {},
     "output_type": "execute_result"
    },
    {
     "data": {
      "image/png": "[encoded data removed]",
      "text/plain": [
       "<Figure size 432x288 with 1 Axes>"
      ]
     },
     "metadata": {
      "needs_background": "light"
     },
     "output_type": "display_data"
    }
   ],
   "source": [
    "sns.countplot(df['Male'], label = \"Count\")"
   ]
  },
  {
   "cell_type": "code",
   "execution_count": 27,
   "id": "590a2b12",
   "metadata": {},
   "outputs": [
    {
     "data": {
      "text/plain": [
       "<AxesSubplot:xlabel='Female', ylabel='count'>"
      ]
     },
     "execution_count": 27,
     "metadata": {},
     "output_type": "execute_result"
    },
    {
     "data": {
      "image/png": "[encoded data removed]",
      "text/plain": [
       "<Figure size 432x288 with 1 Axes>"
      ]
     },
     "metadata": {
      "needs_background": "light"
     },
     "output_type": "display_data"
    }
   ],
   "source": [
    "sns.countplot(df['Female'], label = \"Count\")"
   ]
  },
  {
   "cell_type": "code",
   "execution_count": 28,
   "id": "f4a49a7c",
   "metadata": {},
   "outputs": [
    {
     "data": {
      "text/plain": [
       "<AxesSubplot:xlabel='Third-Gender', ylabel='count'>"
      ]
     },
     "execution_count": 28,
     "metadata": {},
     "output_type": "execute_result"
    },
    {
     "data": {
      "image/png": "[encoded data removed]",
      "text/plain": [
       "<Figure size 432x288 with 1 Axes>"
      ]
     },
     "metadata": {
      "needs_background": "light"
     },
     "output_type": "display_data"
    }
   ],
   "source": [
    "sns.countplot(df['Third-Gender'], label = \"Count\")"
   ]
  },
  {
   "cell_type": "markdown",
   "id": "35660842",
   "metadata": {},
   "source": [
    "# User Level vs PHQ-9 (AGE LEVEL)"
   ]
  },
  {
   "cell_type": "code",
   "execution_count": 29,
   "id": "18ff0205",
   "metadata": {},
   "outputs": [
    {
     "data": {
      "text/plain": [
       "<AxesSubplot:xlabel='PHQ-9 (Age):Depressed', ylabel='count'>"
      ]
     },
     "execution_count": 29,
     "metadata": {},
     "output_type": "execute_result"
    },
    {
     "data": {
      "image/png": "[encoded data removed]",
      "text/plain": [
       "<Figure size 432x288 with 1 Axes>"
      ]
     },
     "metadata": {
      "needs_background": "light"
     },
     "output_type": "display_data"
    }
   ],
   "source": [
    "sns.countplot(df['PHQ-9 (Age):Depressed'], label = \"Count\")"
   ]
  },
  {
   "cell_type": "code",
   "execution_count": 30,
   "id": "2a816e5e",
   "metadata": {},
   "outputs": [
    {
     "data": {
      "text/plain": [
       "<AxesSubplot:xlabel='User Level (Age):Depressed', ylabel='count'>"
      ]
     },
     "execution_count": 30,
     "metadata": {},
     "output_type": "execute_result"
    },
    {
     "data": {
      "image/png": "[encoded data removed]",
      "text/plain": [
       "<Figure size 432x288 with 1 Axes>"
      ]
     },
     "metadata": {
      "needs_background": "light"
     },
     "output_type": "display_data"
    }
   ],
   "source": [
    "sns.countplot(df['User Level (Age):Depressed'], label = \"Count\")"
   ]
  },
  {
   "cell_type": "markdown",
   "id": "6f41fbe7",
   "metadata": {},
   "source": [
    "# User Level vs PHQ-9 (DIVISION)"
   ]
  },
  {
   "cell_type": "code",
   "execution_count": 31,
   "id": "885c8286",
   "metadata": {},
   "outputs": [
    {
     "data": {
      "text/plain": [
       "<AxesSubplot:xlabel='Chattogram Division : Depressed Level', ylabel='count'>"
      ]
     },
     "execution_count": 31,
     "metadata": {},
     "output_type": "execute_result"
    },
    {
     "data": {
      "image/png": "[encoded data removed]",
      "text/plain": [
       "<Figure size 432x288 with 1 Axes>"
      ]
     },
     "metadata": {
      "needs_background": "light"
     },
     "output_type": "display_data"
    }
   ],
   "source": [
    "sns.countplot(df['Chattogram Division : Depressed Level'], label = \"Count\")"
   ]
  },
  {
   "cell_type": "code",
   "execution_count": 22,
   "id": "792d32af",
   "metadata": {},
   "outputs": [
    {
     "data": {
      "text/plain": [
       "<AxesSubplot:xlabel='Dhaka Division : Depressed Level', ylabel='count'>"
      ]
     },
     "execution_count": 22,
     "metadata": {},
     "output_type": "execute_result"
    },
    {
     "data": {
      "image/png": "[encoded data removed]",
      "text/plain": [
       "<Figure size 432x288 with 1 Axes>"
      ]
     },
     "metadata": {
      "needs_background": "light"
     },
     "output_type": "display_data"
    }
   ],
   "source": [
    "sns.countplot(df['Dhaka Division : Depressed Level'], label = \"Count\")"
   ]
  }
 ],
 "metadata": {
  "kernelspec": {
   "display_name": "Python 3 (ipykernel)",
   "language": "python",
   "name": "python3"
  },
  "language_info": {
   "codemirror_mode": {
    "name": "ipython",
    "version": 3
   },
   "file_extension": ".py",
   "mimetype": "text/x-python",
   "name": "python",
   "nbconvert_exporter": "python",
   "pygments_lexer": "ipython3",
   "version": "3.9.7"
  }
 },
 "nbformat": 4,
 "nbformat_minor": 5
}
