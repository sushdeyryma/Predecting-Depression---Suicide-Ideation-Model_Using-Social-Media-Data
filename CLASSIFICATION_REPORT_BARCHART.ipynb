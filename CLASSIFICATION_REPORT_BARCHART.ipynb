{
 "cells": [
  {
   "cell_type": "markdown",
   "id": "b4ea38c8",
   "metadata": {},
   "source": [
    "# NO_Code_only_Output"
   ]
  },
  {
   "cell_type": "code",
   "execution_count": 1,
   "id": "c322b7f1",
   "metadata": {},
   "outputs": [],
   "source": [
    "import numpy as np\n",
    "import matplotlib.pyplot as plt\n",
    "import pandas as pd\n",
    "import seaborn as sns"
   ]
  },
  {
   "cell_type": "code",
   "execution_count": null,
   "id": "d80f75cb",
   "metadata": {},
   "outputs": [],
   "source": []
  },
  {
   "cell_type": "code",
   "execution_count": 2,
   "id": "712ab90b",
   "metadata": {},
   "outputs": [],
   "source": [
    "Dataset = pd.read_csv('Count_vectorizer.csv')"
   ]
  },
  {
   "cell_type": "code",
   "execution_count": 3,
   "id": "0a8b5747",
   "metadata": {},
   "outputs": [
    {
     "data": {
      "text/html": [
       "<div>\n",
       "<style scoped>\n",
       "    .dataframe tbody tr th:only-of-type {\n",
       "        vertical-align: middle;\n",
       "    }\n",
       "\n",
       "    .dataframe tbody tr th {\n",
       "        vertical-align: top;\n",
       "    }\n",
       "\n",
       "    .dataframe thead th {\n",
       "        text-align: right;\n",
       "    }\n",
       "</style>\n",
       "<table border=\"1\" class=\"dataframe\">\n",
       "  <thead>\n",
       "    <tr style=\"text-align: right;\">\n",
       "      <th></th>\n",
       "      <th>Features</th>\n",
       "      <th>Algorithms</th>\n",
       "      <th>Accuracy</th>\n",
       "      <th>f1-score</th>\n",
       "    </tr>\n",
       "  </thead>\n",
       "  <tbody>\n",
       "    <tr>\n",
       "      <th>0</th>\n",
       "      <td>tf-idf_Vectorizer</td>\n",
       "      <td>GBDT</td>\n",
       "      <td>70.74</td>\n",
       "      <td>0.33</td>\n",
       "    </tr>\n",
       "    <tr>\n",
       "      <th>1</th>\n",
       "      <td>tf-idf_Vectorizer</td>\n",
       "      <td>RF</td>\n",
       "      <td>73.98</td>\n",
       "      <td>0.53</td>\n",
       "    </tr>\n",
       "    <tr>\n",
       "      <th>2</th>\n",
       "      <td>tf-idf_Vectorizer</td>\n",
       "      <td>SVM</td>\n",
       "      <td>70.60</td>\n",
       "      <td>0.40</td>\n",
       "    </tr>\n",
       "    <tr>\n",
       "      <th>3</th>\n",
       "      <td>tf-idf_Vectorizer</td>\n",
       "      <td>XGBoost</td>\n",
       "      <td>70.68</td>\n",
       "      <td>0.31</td>\n",
       "    </tr>\n",
       "    <tr>\n",
       "      <th>4</th>\n",
       "      <td>tf-idf_Vectorizer</td>\n",
       "      <td>LR</td>\n",
       "      <td>69.69</td>\n",
       "      <td>0.32</td>\n",
       "    </tr>\n",
       "    <tr>\n",
       "      <th>5</th>\n",
       "      <td>Count_vectorizer</td>\n",
       "      <td>GBDT</td>\n",
       "      <td>71.94</td>\n",
       "      <td>0.28</td>\n",
       "    </tr>\n",
       "    <tr>\n",
       "      <th>6</th>\n",
       "      <td>Count_vectorizer</td>\n",
       "      <td>RF</td>\n",
       "      <td>72.78</td>\n",
       "      <td>0.54</td>\n",
       "    </tr>\n",
       "    <tr>\n",
       "      <th>7</th>\n",
       "      <td>Count_vectorizer</td>\n",
       "      <td>SVM</td>\n",
       "      <td>69.48</td>\n",
       "      <td>0.50</td>\n",
       "    </tr>\n",
       "    <tr>\n",
       "      <th>8</th>\n",
       "      <td>Count_vectorizer</td>\n",
       "      <td>XGBoost</td>\n",
       "      <td>72.57</td>\n",
       "      <td>0.32</td>\n",
       "    </tr>\n",
       "    <tr>\n",
       "      <th>9</th>\n",
       "      <td>Count_vectorizer</td>\n",
       "      <td>LR</td>\n",
       "      <td>71.73</td>\n",
       "      <td>0.48</td>\n",
       "    </tr>\n",
       "    <tr>\n",
       "      <th>10</th>\n",
       "      <td>LIWC</td>\n",
       "      <td>GBDT</td>\n",
       "      <td>73.91</td>\n",
       "      <td>0.50</td>\n",
       "    </tr>\n",
       "    <tr>\n",
       "      <th>11</th>\n",
       "      <td>LIWC</td>\n",
       "      <td>RF</td>\n",
       "      <td>74.54</td>\n",
       "      <td>0.60</td>\n",
       "    </tr>\n",
       "    <tr>\n",
       "      <th>12</th>\n",
       "      <td>LIWC</td>\n",
       "      <td>SVM</td>\n",
       "      <td>69.27</td>\n",
       "      <td>0.23</td>\n",
       "    </tr>\n",
       "    <tr>\n",
       "      <th>13</th>\n",
       "      <td>LIWC</td>\n",
       "      <td>XGBoost</td>\n",
       "      <td>72.51</td>\n",
       "      <td>0.55</td>\n",
       "    </tr>\n",
       "    <tr>\n",
       "      <th>14</th>\n",
       "      <td>LIWC</td>\n",
       "      <td>LR</td>\n",
       "      <td>71.03</td>\n",
       "      <td>0.34</td>\n",
       "    </tr>\n",
       "  </tbody>\n",
       "</table>\n",
       "</div>"
      ],
      "text/plain": [
       "             Features Algorithms  Accuracy  f1-score\n",
       "0   tf-idf_Vectorizer       GBDT     70.74      0.33\n",
       "1   tf-idf_Vectorizer         RF     73.98      0.53\n",
       "2   tf-idf_Vectorizer        SVM     70.60      0.40\n",
       "3   tf-idf_Vectorizer    XGBoost     70.68      0.31\n",
       "4   tf-idf_Vectorizer         LR     69.69      0.32\n",
       "5    Count_vectorizer       GBDT     71.94      0.28\n",
       "6    Count_vectorizer         RF     72.78      0.54\n",
       "7    Count_vectorizer        SVM     69.48      0.50\n",
       "8    Count_vectorizer    XGBoost     72.57      0.32\n",
       "9    Count_vectorizer         LR     71.73      0.48\n",
       "10               LIWC       GBDT     73.91      0.50\n",
       "11               LIWC         RF     74.54      0.60\n",
       "12               LIWC        SVM     69.27      0.23\n",
       "13               LIWC    XGBoost     72.51      0.55\n",
       "14               LIWC         LR     71.03      0.34"
      ]
     },
     "execution_count": 3,
     "metadata": {},
     "output_type": "execute_result"
    }
   ],
   "source": [
    "Dataset"
   ]
  },
  {
   "cell_type": "code",
   "execution_count": 4,
   "id": "0a1c0a58",
   "metadata": {},
   "outputs": [
    {
     "data": {
      "image/png": "[encoded data removed]",
      "text/plain": [
       "<Figure size 432x288 with 1 Axes>"
      ]
     },
     "metadata": {
      "needs_background": "light"
     },
     "output_type": "display_data"
    }
   ],
   "source": [
    "sns.barplot(x = 'Features', y = 'Accuracy',hue = \"Algorithms\", data = Dataset);"
   ]
  },
  {
   "cell_type": "code",
   "execution_count": 5,
   "id": "6395af8e",
   "metadata": {},
   "outputs": [
    {
     "data": {
      "image/png": "[encoded data removed]",
      "text/plain": [
       "<Figure size 432x288 with 1 Axes>"
      ]
     },
     "metadata": {
      "needs_background": "light"
     },
     "output_type": "display_data"
    }
   ],
   "source": [
    "sns.barplot(x = 'Features', y = 'f1-score',hue = \"Algorithms\", data = Dataset);"
   ]
  }
 ],
 "metadata": {
  "kernelspec": {
   "display_name": "Python 3 (ipykernel)",
   "language": "python",
   "name": "python3"
  },
  "language_info": {
   "codemirror_mode": {
    "name": "ipython",
    "version": 3
   },
   "file_extension": ".py",
   "mimetype": "text/x-python",
   "name": "python",
   "nbconvert_exporter": "python",
   "pygments_lexer": "ipython3",
   "version": "3.9.7"
  }
 },
 "nbformat": 4,
 "nbformat_minor": 5
}
