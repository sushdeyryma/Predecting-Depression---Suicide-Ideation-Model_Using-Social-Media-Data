{
  "cells": [
    {
      "cell_type": "markdown",
      "id": "292f7e9c",
      "metadata": {
        "id": "292f7e9c"
      },
      "source": [
        "# User Level vs PHQ-9"
      ]
    },
    {
      "cell_type": "code",
      "execution_count": 27,
      "id": "b2c90110",
      "metadata": {
        "id": "b2c90110"
      },
      "outputs": [],
      "source": [
        "import warnings; \n",
        "warnings.simplefilter('ignore')"
      ]
    },
    {
      "cell_type": "code",
      "execution_count": 28,
      "id": "52f69ada",
      "metadata": {
        "id": "52f69ada"
      },
      "outputs": [],
      "source": [
        "import numpy as np\n",
        "import matplotlib.pyplot as plt\n",
        "import pandas as pd\n",
        "import seaborn as sns"
      ]
    },
    {
      "cell_type": "code",
      "execution_count": 29,
      "id": "65c8e3ba",
      "metadata": {
        "colab": {
          "base_uri": "https://localhost:8080/",
          "height": 658
        },
        "id": "65c8e3ba",
        "outputId": "c6bf8575-db5d-4e33-db04-f3eb9b3483d1"
      },
      "outputs": [
        {
          "output_type": "execute_result",
          "data": {
            "text/plain": [
              "       Male Female Third-Gender PHQ-9 (Age):Depressed  \\\n",
              "0     PHQ-9  PHQ-9   User_level               31 - 50   \n",
              "1     PHQ-9  PHQ-9   User_level          More than 50   \n",
              "2     PHQ-9  PHQ-9   User_level               18 - 30   \n",
              "3     PHQ-9  PHQ-9   User_level               31 - 50   \n",
              "4     PHQ-9  PHQ-9   User_level               31 - 50   \n",
              "...     ...    ...          ...                   ...   \n",
              "1827  PHQ-9    NaN          NaN                   NaN   \n",
              "1828  PHQ-9    NaN          NaN                   NaN   \n",
              "1829  PHQ-9    NaN          NaN                   NaN   \n",
              "1830  PHQ-9    NaN          NaN                   NaN   \n",
              "1831  PHQ-9    NaN          NaN                   NaN   \n",
              "\n",
              "     User Level (Age):Depressed Chattogram Division : Depressed Level  \\\n",
              "0                         26-30                            User_level   \n",
              "1                         31-35                            User_level   \n",
              "2                         21-25                            User_level   \n",
              "3                         21-25                            User_level   \n",
              "4                         26-30                            User_level   \n",
              "...                         ...                                   ...   \n",
              "1827                        NaN                                   NaN   \n",
              "1828                        NaN                                   NaN   \n",
              "1829                        NaN                                   NaN   \n",
              "1830                        NaN                                   NaN   \n",
              "1831                        NaN                                   NaN   \n",
              "\n",
              "     Dhaka Division : Depressed Level  \n",
              "0                          User_level  \n",
              "1                          User_level  \n",
              "2                          User_level  \n",
              "3                          User_level  \n",
              "4                          User_level  \n",
              "...                               ...  \n",
              "1827                              NaN  \n",
              "1828                              NaN  \n",
              "1829                              NaN  \n",
              "1830                              NaN  \n",
              "1831                              NaN  \n",
              "\n",
              "[1832 rows x 7 columns]"
            ],
            "text/html": [
              "\n",
              "  <div id=\"df-4ce35af3-9d87-4788-90ed-4b4d6f8faece\">\n",
              "    <div class=\"colab-df-container\">\n",
              "      <div>\n",
              "<style scoped>\n",
              "    .dataframe tbody tr th:only-of-type {\n",
              "        vertical-align: middle;\n",
              "    }\n",
              "\n",
              "    .dataframe tbody tr th {\n",
              "        vertical-align: top;\n",
              "    }\n",
              "\n",
              "    .dataframe thead th {\n",
              "        text-align: right;\n",
              "    }\n",
              "</style>\n",
              "<table border=\"1\" class=\"dataframe\">\n",
              "  <thead>\n",
              "    <tr style=\"text-align: right;\">\n",
              "      <th></th>\n",
              "      <th>Male</th>\n",
              "      <th>Female</th>\n",
              "      <th>Third-Gender</th>\n",
              "      <th>PHQ-9 (Age):Depressed</th>\n",
              "      <th>User Level (Age):Depressed</th>\n",
              "      <th>Chattogram Division : Depressed Level</th>\n",
              "      <th>Dhaka Division : Depressed Level</th>\n",
              "    </tr>\n",
              "  </thead>\n",
              "  <tbody>\n",
              "    <tr>\n",
              "      <th>0</th>\n",
              "      <td>PHQ-9</td>\n",
              "      <td>PHQ-9</td>\n",
              "      <td>User_level</td>\n",
              "      <td>31 - 50</td>\n",
              "      <td>26-30</td>\n",
              "      <td>User_level</td>\n",
              "      <td>User_level</td>\n",
              "    </tr>\n",
              "    <tr>\n",
              "      <th>1</th>\n",
              "      <td>PHQ-9</td>\n",
              "      <td>PHQ-9</td>\n",
              "      <td>User_level</td>\n",
              "      <td>More than 50</td>\n",
              "      <td>31-35</td>\n",
              "      <td>User_level</td>\n",
              "      <td>User_level</td>\n",
              "    </tr>\n",
              "    <tr>\n",
              "      <th>2</th>\n",
              "      <td>PHQ-9</td>\n",
              "      <td>PHQ-9</td>\n",
              "      <td>User_level</td>\n",
              "      <td>18 - 30</td>\n",
              "      <td>21-25</td>\n",
              "      <td>User_level</td>\n",
              "      <td>User_level</td>\n",
              "    </tr>\n",
              "    <tr>\n",
              "      <th>3</th>\n",
              "      <td>PHQ-9</td>\n",
              "      <td>PHQ-9</td>\n",
              "      <td>User_level</td>\n",
              "      <td>31 - 50</td>\n",
              "      <td>21-25</td>\n",
              "      <td>User_level</td>\n",
              "      <td>User_level</td>\n",
              "    </tr>\n",
              "    <tr>\n",
              "      <th>4</th>\n",
              "      <td>PHQ-9</td>\n",
              "      <td>PHQ-9</td>\n",
              "      <td>User_level</td>\n",
              "      <td>31 - 50</td>\n",
              "      <td>26-30</td>\n",
              "      <td>User_level</td>\n",
              "      <td>User_level</td>\n",
              "    </tr>\n",
              "    <tr>\n",
              "      <th>...</th>\n",
              "      <td>...</td>\n",
              "      <td>...</td>\n",
              "      <td>...</td>\n",
              "      <td>...</td>\n",
              "      <td>...</td>\n",
              "      <td>...</td>\n",
              "      <td>...</td>\n",
              "    </tr>\n",
              "    <tr>\n",
              "      <th>1827</th>\n",
              "      <td>PHQ-9</td>\n",
              "      <td>NaN</td>\n",
              "      <td>NaN</td>\n",
              "      <td>NaN</td>\n",
              "      <td>NaN</td>\n",
              "      <td>NaN</td>\n",
              "      <td>NaN</td>\n",
              "    </tr>\n",
              "    <tr>\n",
              "      <th>1828</th>\n",
              "      <td>PHQ-9</td>\n",
              "      <td>NaN</td>\n",
              "      <td>NaN</td>\n",
              "      <td>NaN</td>\n",
              "      <td>NaN</td>\n",
              "      <td>NaN</td>\n",
              "      <td>NaN</td>\n",
              "    </tr>\n",
              "    <tr>\n",
              "      <th>1829</th>\n",
              "      <td>PHQ-9</td>\n",
              "      <td>NaN</td>\n",
              "      <td>NaN</td>\n",
              "      <td>NaN</td>\n",
              "      <td>NaN</td>\n",
              "      <td>NaN</td>\n",
              "      <td>NaN</td>\n",
              "    </tr>\n",
              "    <tr>\n",
              "      <th>1830</th>\n",
              "      <td>PHQ-9</td>\n",
              "      <td>NaN</td>\n",
              "      <td>NaN</td>\n",
              "      <td>NaN</td>\n",
              "      <td>NaN</td>\n",
              "      <td>NaN</td>\n",
              "      <td>NaN</td>\n",
              "    </tr>\n",
              "    <tr>\n",
              "      <th>1831</th>\n",
              "      <td>PHQ-9</td>\n",
              "      <td>NaN</td>\n",
              "      <td>NaN</td>\n",
              "      <td>NaN</td>\n",
              "      <td>NaN</td>\n",
              "      <td>NaN</td>\n",
              "      <td>NaN</td>\n",
              "    </tr>\n",
              "  </tbody>\n",
              "</table>\n",
              "<p>1832 rows × 7 columns</p>\n",
              "</div>\n",
              "      <button class=\"colab-df-convert\" onclick=\"convertToInteractive('df-4ce35af3-9d87-4788-90ed-4b4d6f8faece')\"\n",
              "              title=\"Convert this dataframe to an interactive table.\"\n",
              "              style=\"display:none;\">\n",
              "        \n",
              "  <svg xmlns=\"http://www.w3.org/2000/svg\" height=\"24px\"viewBox=\"0 0 24 24\"\n",
              "       width=\"24px\">\n",
              "    <path d=\"M0 0h24v24H0V0z\" fill=\"none\"/>\n",
              "    <path d=\"M18.56 5.44l.94 2.06.94-2.06 2.06-.94-2.06-.94-.94-2.06-.94 2.06-2.06.94zm-11 1L8.5 8.5l.94-2.06 2.06-.94-2.06-.94L8.5 2.5l-.94 2.06-2.06.94zm10 10l.94 2.06.94-2.06 2.06-.94-2.06-.94-.94-2.06-.94 2.06-2.06.94z\"/><path d=\"M17.41 7.96l-1.37-1.37c-.4-.4-.92-.59-1.43-.59-.52 0-1.04.2-1.43.59L10.3 9.45l-7.72 7.72c-.78.78-.78 2.05 0 2.83L4 21.41c.39.39.9.59 1.41.59.51 0 1.02-.2 1.41-.59l7.78-7.78 2.81-2.81c.8-.78.8-2.07 0-2.86zM5.41 20L4 18.59l7.72-7.72 1.47 1.35L5.41 20z\"/>\n",
              "  </svg>\n",
              "      </button>\n",
              "      \n",
              "  <style>\n",
              "    .colab-df-container {\n",
              "      display:flex;\n",
              "      flex-wrap:wrap;\n",
              "      gap: 12px;\n",
              "    }\n",
              "\n",
              "    .colab-df-convert {\n",
              "      background-color: #E8F0FE;\n",
              "      border: none;\n",
              "      border-radius: 50%;\n",
              "      cursor: pointer;\n",
              "      display: none;\n",
              "      fill: #1967D2;\n",
              "      height: 32px;\n",
              "      padding: 0 0 0 0;\n",
              "      width: 32px;\n",
              "    }\n",
              "\n",
              "    .colab-df-convert:hover {\n",
              "      background-color: #E2EBFA;\n",
              "      box-shadow: 0px 1px 2px rgba(60, 64, 67, 0.3), 0px 1px 3px 1px rgba(60, 64, 67, 0.15);\n",
              "      fill: #174EA6;\n",
              "    }\n",
              "\n",
              "    [theme=dark] .colab-df-convert {\n",
              "      background-color: #3B4455;\n",
              "      fill: #D2E3FC;\n",
              "    }\n",
              "\n",
              "    [theme=dark] .colab-df-convert:hover {\n",
              "      background-color: #434B5C;\n",
              "      box-shadow: 0px 1px 3px 1px rgba(0, 0, 0, 0.15);\n",
              "      filter: drop-shadow(0px 1px 2px rgba(0, 0, 0, 0.3));\n",
              "      fill: #FFFFFF;\n",
              "    }\n",
              "  </style>\n",
              "\n",
              "      <script>\n",
              "        const buttonEl =\n",
              "          document.querySelector('#df-4ce35af3-9d87-4788-90ed-4b4d6f8faece button.colab-df-convert');\n",
              "        buttonEl.style.display =\n",
              "          google.colab.kernel.accessAllowed ? 'block' : 'none';\n",
              "\n",
              "        async function convertToInteractive(key) {\n",
              "          const element = document.querySelector('#df-4ce35af3-9d87-4788-90ed-4b4d6f8faece');\n",
              "          const dataTable =\n",
              "            await google.colab.kernel.invokeFunction('convertToInteractive',\n",
              "                                                     [key], {});\n",
              "          if (!dataTable) return;\n",
              "\n",
              "          const docLinkHtml = 'Like what you see? Visit the ' +\n",
              "            '<a target=\"_blank\" href=https://colab.research.google.com/notebooks/data_table.ipynb>data table notebook</a>'\n",
              "            + ' to learn more about interactive tables.';\n",
              "          element.innerHTML = '';\n",
              "          dataTable['output_type'] = 'display_data';\n",
              "          await google.colab.output.renderOutput(dataTable, element);\n",
              "          const docLink = document.createElement('div');\n",
              "          docLink.innerHTML = docLinkHtml;\n",
              "          element.appendChild(docLink);\n",
              "        }\n",
              "      </script>\n",
              "    </div>\n",
              "  </div>\n",
              "  "
            ]
          },
          "metadata": {},
          "execution_count": 29
        }
      ],
      "source": [
        "df = pd.read_csv('user_level_vs_phq9.csv', encoding = 'ISO-8859-1')\n",
        "df"
      ]
    },
    {
      "cell_type": "markdown",
      "id": "43cbc5b8",
      "metadata": {
        "id": "43cbc5b8"
      },
      "source": [
        "# User Level vs PHQ-9 (GENDER)"
      ]
    },
    {
      "cell_type": "code",
      "execution_count": 30,
      "id": "77115ab6",
      "metadata": {
        "colab": {
          "base_uri": "https://localhost:8080/",
          "height": 244
        },
        "id": "77115ab6",
        "outputId": "8db35ffe-65c7-45c1-a379-d719034c1140"
      },
      "outputs": [
        {
          "output_type": "execute_result",
          "data": {
            "text/plain": [
              "<matplotlib.axes._subplots.AxesSubplot at 0x7efd7e47fcd0>"
            ]
          },
          "metadata": {},
          "execution_count": 30
        },
        {
          "output_type": "display_data",
          "data": {
            "text/plain": [
              "<Figure size 144x216 with 1 Axes>"
            ],
            "image/png": "[encoded data removed]"
          },
          "metadata": {
            "needs_background": "light"
          }
        }
      ],
      "source": [
        "plt.figure(figsize=(2,3))\n",
        "sns.countplot(df['Male'], label = \"Population\")"
      ]
    },
    {
      "cell_type": "code",
      "execution_count": 31,
      "id": "590a2b12",
      "metadata": {
        "colab": {
          "base_uri": "https://localhost:8080/",
          "height": 244
        },
        "id": "590a2b12",
        "outputId": "1323116d-5b48-4dd6-f5e8-c939e8d13336"
      },
      "outputs": [
        {
          "output_type": "execute_result",
          "data": {
            "text/plain": [
              "<matplotlib.axes._subplots.AxesSubplot at 0x7efd7e20dc10>"
            ]
          },
          "metadata": {},
          "execution_count": 31
        },
        {
          "output_type": "display_data",
          "data": {
            "text/plain": [
              "<Figure size 144x216 with 1 Axes>"
            ],
            "image/png": "[encoded data removed]"
          },
          "metadata": {
            "needs_background": "light"
          }
        }
      ],
      "source": [
        "plt.figure(figsize=(2,3))\n",
        "sns.countplot(df['Female'], label = \"Population\")"
      ]
    },
    {
      "cell_type": "code",
      "execution_count": 32,
      "id": "f4a49a7c",
      "metadata": {
        "colab": {
          "base_uri": "https://localhost:8080/",
          "height": 248
        },
        "id": "f4a49a7c",
        "outputId": "4dcd6156-8452-4425-e094-68c138a220c9"
      },
      "outputs": [
        {
          "output_type": "execute_result",
          "data": {
            "text/plain": [
              "<matplotlib.axes._subplots.AxesSubplot at 0x7efd7e580d50>"
            ]
          },
          "metadata": {},
          "execution_count": 32
        },
        {
          "output_type": "display_data",
          "data": {
            "text/plain": [
              "<Figure size 144x216 with 1 Axes>"
            ],
            "image/png": "[encoded data removed]"
          },
          "metadata": {
            "needs_background": "light"
          }
        }
      ],
      "source": [
        "plt.figure(figsize=(2,3))\n",
        "sns.countplot(df['Third-Gender'], label = \"Count\")"
      ]
    },
    {
      "cell_type": "markdown",
      "id": "35660842",
      "metadata": {
        "id": "35660842"
      },
      "source": [
        "# User Level vs PHQ-9 (AGE LEVEL)"
      ]
    },
    {
      "cell_type": "code",
      "execution_count": 37,
      "id": "18ff0205",
      "metadata": {
        "colab": {
          "base_uri": "https://localhost:8080/",
          "height": 243
        },
        "id": "18ff0205",
        "outputId": "2724058c-0735-4bf2-820e-319fa475143e"
      },
      "outputs": [
        {
          "output_type": "execute_result",
          "data": {
            "text/plain": [
              "<matplotlib.axes._subplots.AxesSubplot at 0x7efd7deb3610>"
            ]
          },
          "metadata": {},
          "execution_count": 37
        },
        {
          "output_type": "display_data",
          "data": {
            "text/plain": [
              "<Figure size 288x216 with 1 Axes>"
            ],
            "image/png": "[encoded data removed]"
          },
          "metadata": {
            "needs_background": "light"
          }
        }
      ],
      "source": [
        "plt.figure(figsize=(4,3))\n",
        "sns.countplot(df['PHQ-9 (Age):Depressed'], label = \"Count\")"
      ]
    },
    {
      "cell_type": "code",
      "execution_count": 38,
      "id": "2a816e5e",
      "metadata": {
        "colab": {
          "base_uri": "https://localhost:8080/",
          "height": 243
        },
        "id": "2a816e5e",
        "outputId": "600a1386-8d9d-4579-8650-9a2760e04646"
      },
      "outputs": [
        {
          "output_type": "execute_result",
          "data": {
            "text/plain": [
              "<matplotlib.axes._subplots.AxesSubplot at 0x7efd7dea8910>"
            ]
          },
          "metadata": {},
          "execution_count": 38
        },
        {
          "output_type": "display_data",
          "data": {
            "text/plain": [
              "<Figure size 288x216 with 1 Axes>"
            ],
            "image/png": "[encoded data removed]"
          },
          "metadata": {
            "needs_background": "light"
          }
        }
      ],
      "source": [
        "plt.figure(figsize=(4,3))\n",
        "sns.countplot(df['User Level (Age):Depressed'], label = \"Count\")"
      ]
    },
    {
      "cell_type": "markdown",
      "id": "6f41fbe7",
      "metadata": {
        "id": "6f41fbe7"
      },
      "source": [
        "# User Level vs PHQ-9 (DIVISION)"
      ]
    },
    {
      "cell_type": "code",
      "execution_count": 16,
      "id": "885c8286",
      "metadata": {
        "colab": {
          "base_uri": "https://localhost:8080/",
          "height": 244
        },
        "id": "885c8286",
        "outputId": "45478fe7-9ea3-44de-99bb-15b231938e70"
      },
      "outputs": [
        {
          "output_type": "execute_result",
          "data": {
            "text/plain": [
              "<matplotlib.axes._subplots.AxesSubplot at 0x7efd7e485850>"
            ]
          },
          "metadata": {},
          "execution_count": 16
        },
        {
          "output_type": "display_data",
          "data": {
            "text/plain": [
              "<Figure size 144x216 with 1 Axes>"
            ],
            "image/png": "[encoded data removed]"
          },
          "metadata": {
            "needs_background": "light"
          }
        }
      ],
      "source": [
        "plt.figure(figsize=(2,3))\n",
        "sns.countplot(df['Chattogram Division : Depressed Level'], label = \"Count\")"
      ]
    },
    {
      "cell_type": "code",
      "execution_count": 19,
      "id": "792d32af",
      "metadata": {
        "colab": {
          "base_uri": "https://localhost:8080/",
          "height": 244
        },
        "id": "792d32af",
        "outputId": "a7291041-b916-47e8-e262-af8cf9760d39"
      },
      "outputs": [
        {
          "output_type": "execute_result",
          "data": {
            "text/plain": [
              "<matplotlib.axes._subplots.AxesSubplot at 0x7efd7e2d8b90>"
            ]
          },
          "metadata": {},
          "execution_count": 19
        },
        {
          "output_type": "display_data",
          "data": {
            "text/plain": [
              "<Figure size 144x216 with 1 Axes>"
            ],
            "image/png": "[encoded data removed]"
          },
          "metadata": {
            "needs_background": "light"
          }
        }
      ],
      "source": [
        "plt.figure(figsize=(2,3))\n",
        "sns.countplot(df['Dhaka Division : Depressed Level'], label = \"Count\")"
      ]
    },
    {
      "cell_type": "code",
      "source": [],
      "metadata": {
        "id": "HGTD4c-5n6E5"
      },
      "id": "HGTD4c-5n6E5",
      "execution_count": null,
      "outputs": []
    }
  ],
  "metadata": {
    "kernelspec": {
      "display_name": "Python 3 (ipykernel)",
      "language": "python",
      "name": "python3"
    },
    "language_info": {
      "codemirror_mode": {
        "name": "ipython",
        "version": 3
      },
      "file_extension": ".py",
      "mimetype": "text/x-python",
      "name": "python",
      "nbconvert_exporter": "python",
      "pygments_lexer": "ipython3",
      "version": "3.9.7"
    },
    "colab": {
      "provenance": []
    }
  },
  "nbformat": 4,
  "nbformat_minor": 5
}